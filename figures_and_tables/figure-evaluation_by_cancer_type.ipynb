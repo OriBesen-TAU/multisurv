{
 "cells": [
  {
   "cell_type": "markdown",
   "metadata": {},
   "source": [
    "<a id='Top'></a>\n",
    "\n",
    "# MultiSurv results by cancer type<a class='tocSkip'></a>\n",
    "\n",
    "C-index value results for each cancer type of the best MultiSurv model trained on all-cancer data."
   ]
  },
  {
   "cell_type": "code",
   "execution_count": 1,
   "metadata": {
    "code_folding": []
   },
   "outputs": [],
   "source": [
    "%load_ext autoreload\n",
    "%autoreload 2\n",
    "\n",
    "%load_ext watermark\n",
    "\n",
    "import sys\n",
    "import os\n",
    "\n",
    "import numpy as np\n",
    "import pandas as pd\n",
    "import matplotlib\n",
    "import matplotlib.pyplot as plt\n",
    "import torch\n",
    "\n",
    "# Make modules in \"src\" dir visible\n",
    "project_dir = os.path.split(os.getcwd())[0]\n",
    "if project_dir not in sys.path:\n",
    "    sys.path.append(os.path.join(project_dir, 'src'))\n",
    "\n",
    "import dataset\n",
    "from model import Model\n",
    "import utils\n",
    "\n",
    "matplotlib.style.use('multisurv.mplstyle')"
   ]
  },
  {
   "cell_type": "markdown",
   "metadata": {
    "toc": true
   },
   "source": [
    "<h1>Table of Contents<span class=\"tocSkip\"></span></h1>\n",
    "<div class=\"toc\"><ul class=\"toc-item\"><li><span><a href=\"#Load-model\" data-toc-modified-id=\"Load-model-1\"><span class=\"toc-item-num\">1&nbsp;&nbsp;</span>Load model</a></span></li><li><span><a href=\"#Evaluate\" data-toc-modified-id=\"Evaluate-2\"><span class=\"toc-item-num\">2&nbsp;&nbsp;</span>Evaluate</a></span></li><li><span><a href=\"#Result-graph\" data-toc-modified-id=\"Result-graph-3\"><span class=\"toc-item-num\">3&nbsp;&nbsp;</span>Result graph</a></span><ul class=\"toc-item\"><li><span><a href=\"#Save-to-files\" data-toc-modified-id=\"Save-to-files-3.1\"><span class=\"toc-item-num\">3.1&nbsp;&nbsp;</span>Save to files</a></span></li></ul></li><li><span><a href=\"#Metric-correlation-with-other-attributes\" data-toc-modified-id=\"Metric-correlation-with-other-attributes-4\"><span class=\"toc-item-num\">4&nbsp;&nbsp;</span>Metric correlation with other attributes</a></span><ul class=\"toc-item\"><li><span><a href=\"#Collect-feature-representations\" data-toc-modified-id=\"Collect-feature-representations-4.1\"><span class=\"toc-item-num\">4.1&nbsp;&nbsp;</span>Collect feature representations</a></span></li><li><span><a href=\"#Compute-dispersion-and-add-to-selected-metric-table\" data-toc-modified-id=\"Compute-dispersion-and-add-to-selected-metric-table-4.2\"><span class=\"toc-item-num\">4.2&nbsp;&nbsp;</span>Compute dispersion and add to selected metric table</a></span></li><li><span><a href=\"#Plot\" data-toc-modified-id=\"Plot-4.3\"><span class=\"toc-item-num\">4.3&nbsp;&nbsp;</span>Plot</a></span></li></ul></li></ul></div>"
   ]
  },
  {
   "cell_type": "code",
   "execution_count": 3,
   "metadata": {},
   "outputs": [],
   "source": [
    "DATA = utils.INPUT_DATA_DIR\n",
    "MODELS = utils.TRAINED_MODEL_DIR\n",
    "\n",
    "device = torch.device('cuda:0' if torch.cuda.is_available() else 'cpu')"
   ]
  },
  {
   "cell_type": "markdown",
   "metadata": {},
   "source": [
    "# Load model"
   ]
  },
  {
   "cell_type": "code",
   "execution_count": 29,
   "metadata": {},
   "outputs": [
    {
     "name": "stdout",
     "output_type": "stream",
     "text": [
      "   submitter_id project_id      time  event  group\n",
      "0  TCGA-Z7-A8R6  TCGA-BRCA  8.920548      0  train\n",
      "1  TCGA-C8-A1HE  TCGA-BRCA  1.027397      0  train\n",
      "2  TCGA-A8-A07B  TCGA-BRCA  3.583562      0  train\n"
     ]
    },
    {
     "data": {
      "text/plain": [
       "1341"
      ]
     },
     "execution_count": 29,
     "metadata": {},
     "output_type": "execute_result"
    }
   ],
   "source": [
    "cancers = ['TCGA-SARC', 'TCGA-LUSC', 'TCGA-OV']\n",
    "\n",
    "labels = pd.read_csv('/app/data/labels.tsv', sep='\\t')\n",
    "print(labels.head(3))\n",
    "\n",
    "# List of patients to exclude: patients with cancers that are not in the subset\n",
    "exclude_cancers = list(labels.loc[labels['project_id'].isin(cancers), 'submitter_id'])\n",
    "len(exclude_cancers)"
   ]
  },
  {
   "cell_type": "code",
   "execution_count": 4,
   "metadata": {},
   "outputs": [
    {
     "name": "stdout",
     "output_type": "stream",
     "text": [
      "Data modalities:\n",
      "   clinical\n",
      "   mRNA\n",
      "\n",
      "Dataset sizes (# patients):\n",
      "   train: 8808\n",
      "   val: 1102\n",
      "   test: 1101\n",
      "\n",
      "Batch size: 128\n"
     ]
    }
   ],
   "source": [
    "dataloaders = utils.get_dataloaders(\n",
    "    data_location=DATA,\n",
    "    labels_file='/app/data/labels.tsv',\n",
    "    modalities=['clinical', 'mRNA'],\n",
    "     #exclude_patients=exclude_cancers,\n",
    "    return_patient_id=True\n",
    ")"
   ]
  },
  {
   "cell_type": "code",
   "execution_count": 5,
   "metadata": {},
   "outputs": [
    {
     "name": "stdout",
     "output_type": "stream",
     "text": [
      "Instantiating MultiSurv model...\n",
      "Load model weights:\n",
      "/mnt/data/multisurv_models/clinical_mRNA_lr0.005-no-SARC-LUSC-OV_no-pretrained-weights_epoch25_concord0.82.pth\n"
     ]
    },
    {
     "name": "stderr",
     "output_type": "stream",
     "text": [
      "/app/src/model.py:152: FutureWarning: You are using `torch.load` with `weights_only=False` (the current default value), which uses the default pickle module implicitly. It is possible to construct malicious pickle data which will execute arbitrary code during unpickling (See https://github.com/pytorch/pytorch/blob/main/SECURITY.md#untrusted-models for more details). In a future release, the default value for `weights_only` will be flipped to `True`. This limits the functions that could be executed during unpickling. Arbitrary objects will no longer be allowed to be loaded via this mode unless they are explicitly allowlisted by the user via `torch.serialization.add_safe_globals`. We recommend you start setting `weights_only=True` for any use case where you don't have full control of the loaded file. Please open an issue on GitHub for any issues related to this experimental feature.\n",
      "  self.model.load_state_dict(torch.load(path))\n"
     ]
    }
   ],
   "source": [
    "multisurv = Model(dataloaders=dataloaders, device=device)\n",
    "multisurv.load_weights(os.path.join(MODELS, 'clinical_mRNA_lr0.005-no-SARC-LUSC-OV_no-pretrained-weights_epoch25_concord0.82.pth'))"
   ]
  },
  {
   "cell_type": "markdown",
   "metadata": {},
   "source": [
    "# Evaluate"
   ]
  },
  {
   "cell_type": "code",
   "execution_count": 6,
   "metadata": {},
   "outputs": [],
   "source": [
    "def get_patients_with(cancer_type, split_group='test'):\n",
    "    labels = pd.read_csv('/app/data/labels.tsv', sep='\\t')\n",
    "    cancer_labels = labels[labels['project_id'] == cancer_type]\n",
    "    group_cancer_labels = cancer_labels[cancer_labels['group'] == split_group]\n",
    "\n",
    "    return list(group_cancer_labels['submitter_id'])"
   ]
  },
  {
   "cell_type": "code",
   "execution_count": 7,
   "metadata": {
    "scrolled": true
   },
   "outputs": [
    {
     "name": "stdout",
     "output_type": "stream",
     "text": [
      "--------------------------------------------\n",
      "                  1. TCGA-BRCA\n",
      "--------------------------------------------\n",
      "Keeping 8808 patient(s) not in exclude list.\n",
      "Keeping 1102 patient(s) not in exclude list.\n",
      "Keeping 109 patient(s) not in exclude list.\n",
      "Data modalities:\n",
      "   clinical\n",
      "   mRNA\n",
      "\n",
      "Dataset sizes (# patients):\n",
      "   train: 8808\n",
      "   val: 1102\n",
      "   test: 109\n",
      "\n",
      "Batch size: 128\n",
      "Collect patient predictions: 109/109\n",
      "\n",
      "Bootstrap\n",
      "---------\n",
      "1000/1000\n",
      "\n",
      "--------------------------------------------\n",
      "                  2. TCGA-UCEC\n",
      "--------------------------------------------\n",
      "Keeping 8808 patient(s) not in exclude list.\n",
      "Keeping 1102 patient(s) not in exclude list.\n",
      "Keeping 55 patient(s) not in exclude list.\n",
      "Data modalities:\n",
      "   clinical\n",
      "   mRNA\n",
      "\n",
      "Dataset sizes (# patients):\n",
      "   train: 8808\n",
      "   val: 1102\n",
      "   test: 55\n",
      "\n",
      "Batch size: 128\n",
      "Collect patient predictions: 55/55\n",
      "\n",
      "Bootstrap\n",
      "---------\n",
      "1000/1000\n",
      "\n",
      "--------------------------------------------\n",
      "                  3. TCGA-CHOL\n",
      "--------------------------------------------\n",
      "Keeping 8808 patient(s) not in exclude list.\n",
      "Keeping 1102 patient(s) not in exclude list.\n",
      "Keeping 5 patient(s) not in exclude list.\n",
      "Data modalities:\n",
      "   clinical\n",
      "   mRNA\n",
      "\n",
      "Dataset sizes (# patients):\n",
      "   train: 8808\n",
      "   val: 1102\n",
      "   test: 5\n",
      "\n",
      "Batch size: 128\n",
      "Collect patient predictions: 5/5\n",
      "\n",
      "Bootstrap\n",
      "---------\n",
      "1000/1000\n",
      "\n",
      "--------------------------------------------\n",
      "                  4. TCGA-ACC\n",
      "--------------------------------------------\n"
     ]
    },
    {
     "name": "stderr",
     "output_type": "stream",
     "text": [
      "/app/src/evaluation.py:340: UserWarning: Skipped 76 bootstraps (No admissable pairs in the dataset.).\n",
      "  warnings.warn(\n"
     ]
    },
    {
     "name": "stdout",
     "output_type": "stream",
     "text": [
      "Keeping 8808 patient(s) not in exclude list.\n",
      "Keeping 1102 patient(s) not in exclude list.\n",
      "Keeping 9 patient(s) not in exclude list.\n",
      "Data modalities:\n",
      "   clinical\n",
      "   mRNA\n",
      "\n",
      "Dataset sizes (# patients):\n",
      "   train: 8808\n",
      "   val: 1102\n",
      "   test: 9\n",
      "\n",
      "Batch size: 128\n",
      "Collect patient predictions: 9/9\n",
      "\n",
      "Bootstrap\n",
      "---------\n",
      "1000/1000\n",
      "\n",
      "--------------------------------------------\n",
      "                  5. TCGA-DLBC\n",
      "--------------------------------------------\n",
      "Keeping 8808 patient(s) not in exclude list.\n",
      "Keeping 1102 patient(s) not in exclude list.\n",
      "Keeping 5 patient(s) not in exclude list.\n",
      "Data modalities:\n",
      "   clinical\n",
      "   mRNA\n",
      "\n",
      "Dataset sizes (# patients):\n",
      "   train: 8808\n",
      "   val: 1102\n",
      "   test: 5\n",
      "\n",
      "Batch size: 128\n",
      "Collect patient predictions: 3/5"
     ]
    },
    {
     "name": "stderr",
     "output_type": "stream",
     "text": [
      "/app/src/evaluation.py:340: UserWarning: Skipped 33 bootstraps (No admissable pairs in the dataset.).\n",
      "  warnings.warn(\n"
     ]
    },
    {
     "name": "stdout",
     "output_type": "stream",
     "text": [
      "Collect patient predictions: 5/5\n",
      "\n",
      "Bootstrap\n",
      "---------\n",
      "1000/1000\n",
      "\n",
      "--------------------------------------------\n",
      "                  6. TCGA-CESC\n",
      "--------------------------------------------\n",
      "Keeping 8808 patient(s) not in exclude list.\n"
     ]
    },
    {
     "name": "stderr",
     "output_type": "stream",
     "text": [
      "/app/src/evaluation.py:340: UserWarning: Skipped 572 bootstraps (No admissable pairs in the dataset.).\n",
      "  warnings.warn(\n"
     ]
    },
    {
     "name": "stdout",
     "output_type": "stream",
     "text": [
      "Keeping 1102 patient(s) not in exclude list.\n",
      "Keeping 30 patient(s) not in exclude list.\n",
      "Data modalities:\n",
      "   clinical\n",
      "   mRNA\n",
      "\n",
      "Dataset sizes (# patients):\n",
      "   train: 8808\n",
      "   val: 1102\n",
      "   test: 30\n",
      "\n",
      "Batch size: 128\n",
      "Collect patient predictions: 30/30\n",
      "\n",
      "Bootstrap\n",
      "---------\n",
      "1000/1000\n",
      "\n",
      "--------------------------------------------\n",
      "                  7. TCGA-ESCA\n",
      "--------------------------------------------\n",
      "Keeping 8808 patient(s) not in exclude list.\n",
      "Keeping 1102 patient(s) not in exclude list.\n",
      "Keeping 19 patient(s) not in exclude list.\n",
      "Data modalities:\n",
      "   clinical\n",
      "   mRNA\n",
      "\n",
      "Dataset sizes (# patients):\n",
      "   train: 8808\n",
      "   val: 1102\n",
      "   test: 19\n",
      "\n",
      "Batch size: 128\n",
      "Collect patient predictions: 1/19"
     ]
    },
    {
     "name": "stderr",
     "output_type": "stream",
     "text": [
      "/app/src/evaluation.py:340: UserWarning: Skipped 1 bootstraps (No admissable pairs in the dataset.).\n",
      "  warnings.warn(\n"
     ]
    },
    {
     "name": "stdout",
     "output_type": "stream",
     "text": [
      "Collect patient predictions: 19/19\n",
      "\n",
      "Bootstrap\n",
      "---------\n",
      "1000/1000\n",
      "\n",
      "--------------------------------------------\n",
      "                  8. TCGA-KICH\n",
      "--------------------------------------------\n",
      "Keeping 8808 patient(s) not in exclude list.\n",
      "Keeping 1102 patient(s) not in exclude list.\n",
      "Keeping 11 patient(s) not in exclude list.\n",
      "Data modalities:\n",
      "   clinical\n",
      "   mRNA\n",
      "\n",
      "Dataset sizes (# patients):\n",
      "   train: 8808\n",
      "   val: 1102\n",
      "   test: 11\n",
      "\n",
      "Batch size: 128\n",
      "Collect patient predictions: 11/11\n",
      "\n",
      "Bootstrap\n",
      "---------\n",
      "1000/1000\n",
      "\n",
      "--------------------------------------------\n",
      "                  9. TCGA-HNSC\n",
      "--------------------------------------------\n"
     ]
    },
    {
     "name": "stderr",
     "output_type": "stream",
     "text": [
      "/app/src/evaluation.py:340: UserWarning: Skipped 365 bootstraps (No admissable pairs in the dataset.).\n",
      "  warnings.warn(\n"
     ]
    },
    {
     "name": "stdout",
     "output_type": "stream",
     "text": [
      "Keeping 8808 patient(s) not in exclude list.\n",
      "Keeping 1102 patient(s) not in exclude list.\n",
      "Keeping 52 patient(s) not in exclude list.\n",
      "Data modalities:\n",
      "   clinical\n",
      "   mRNA\n",
      "\n",
      "Dataset sizes (# patients):\n",
      "   train: 8808\n",
      "   val: 1102\n",
      "   test: 52\n",
      "\n",
      "Batch size: 128\n",
      "Collect patient predictions: 52/52\n",
      "\n",
      "Bootstrap\n",
      "---------\n",
      "1000/1000\n",
      "\n",
      "--------------------------------------------\n",
      "                  10. TCGA-COAD\n",
      "--------------------------------------------\n",
      "Keeping 8808 patient(s) not in exclude list.\n",
      "Keeping 1102 patient(s) not in exclude list.\n",
      "Keeping 46 patient(s) not in exclude list.\n",
      "Data modalities:\n",
      "   clinical\n",
      "   mRNA\n",
      "\n",
      "Dataset sizes (# patients):\n",
      "   train: 8808\n",
      "   val: 1102\n",
      "   test: 46\n",
      "\n",
      "Batch size: 128\n",
      "Collect patient predictions: 46/46\n",
      "\n",
      "Bootstrap\n",
      "---------\n",
      "1000/1000\n",
      "\n",
      "--------------------------------------------\n",
      "                  11. TCGA-BLCA\n",
      "--------------------------------------------\n",
      "Keeping 8808 patient(s) not in exclude list.\n",
      "Keeping 1102 patient(s) not in exclude list.\n",
      "Keeping 41 patient(s) not in exclude list.\n",
      "Data modalities:\n",
      "   clinical\n",
      "   mRNA\n",
      "\n",
      "Dataset sizes (# patients):\n",
      "   train: 8808\n",
      "   val: 1102\n",
      "   test: 41\n",
      "\n",
      "Batch size: 128\n",
      "Collect patient predictions: 41/41\n",
      "\n",
      "Bootstrap\n",
      "---------\n",
      "1000/1000\n",
      "\n",
      "--------------------------------------------\n",
      "                  12. TCGA-KIRP\n",
      "--------------------------------------------\n",
      "Keeping 8808 patient(s) not in exclude list.\n",
      "Keeping 1102 patient(s) not in exclude list.\n",
      "Keeping 29 patient(s) not in exclude list.\n",
      "Data modalities:\n",
      "   clinical\n",
      "   mRNA\n",
      "\n",
      "Dataset sizes (# patients):\n",
      "   train: 8808\n",
      "   val: 1102\n",
      "   test: 29\n",
      "\n",
      "Batch size: 128\n",
      "Collect patient predictions: 29/29\n",
      "\n",
      "Bootstrap\n",
      "---------\n",
      "1000/1000\n",
      "\n",
      "--------------------------------------------\n",
      "                  13. TCGA-GBM\n",
      "--------------------------------------------\n",
      "Keeping 8808 patient(s) not in exclude list.\n"
     ]
    },
    {
     "name": "stderr",
     "output_type": "stream",
     "text": [
      "/app/src/evaluation.py:340: UserWarning: Skipped 22 bootstraps (No admissable pairs in the dataset.).\n",
      "  warnings.warn(\n"
     ]
    },
    {
     "name": "stdout",
     "output_type": "stream",
     "text": [
      "Keeping 1102 patient(s) not in exclude list.\n",
      "Keeping 59 patient(s) not in exclude list.\n",
      "Data modalities:\n",
      "   clinical\n",
      "   mRNA\n",
      "\n",
      "Dataset sizes (# patients):\n",
      "   train: 8808\n",
      "   val: 1102\n",
      "   test: 59\n",
      "\n",
      "Batch size: 128\n",
      "Collect patient predictions: 59/59\n",
      "\n",
      "Bootstrap\n",
      "---------\n",
      "1000/1000\n",
      "\n",
      "--------------------------------------------\n",
      "                  14. TCGA-MESO\n",
      "--------------------------------------------\n",
      "Keeping 8808 patient(s) not in exclude list.\n",
      "Keeping 1102 patient(s) not in exclude list.\n",
      "Keeping 8 patient(s) not in exclude list.\n",
      "Data modalities:\n",
      "   clinical\n",
      "   mRNA\n",
      "\n",
      "Dataset sizes (# patients):\n",
      "   train: 8808\n",
      "   val: 1102\n",
      "   test: 8\n",
      "\n",
      "Batch size: 128\n",
      "Collect patient predictions: 8/8\n",
      "\n",
      "Bootstrap\n",
      "---------\n",
      "1000/1000\n",
      "\n",
      "--------------------------------------------\n",
      "                  15. TCGA-SARC\n",
      "--------------------------------------------\n",
      "Keeping 8808 patient(s) not in exclude list.\n",
      "Keeping 1102 patient(s) not in exclude list.\n",
      "Keeping 26 patient(s) not in exclude list.\n",
      "Data modalities:\n",
      "   clinical\n",
      "   mRNA\n",
      "\n",
      "Dataset sizes (# patients):\n",
      "   train: 8808\n",
      "   val: 1102\n",
      "   test: 26\n",
      "\n",
      "Batch size: 128\n",
      "Collect patient predictions: 26/26\n",
      "\n",
      "Bootstrap\n",
      "---------\n",
      "1000/1000\n",
      "\n",
      "--------------------------------------------\n",
      "                  16. TCGA-PCPG\n",
      "--------------------------------------------\n",
      "Keeping 8808 patient(s) not in exclude list.\n",
      "Keeping 1102 patient(s) not in exclude list.\n",
      "Keeping 18 patient(s) not in exclude list.\n",
      "Data modalities:\n",
      "   clinical\n",
      "   mRNA\n",
      "\n",
      "Dataset sizes (# patients):\n",
      "   train: 8808\n",
      "   val: 1102\n",
      "   test: 18\n",
      "\n",
      "Batch size: 128\n",
      "Collect patient predictions: 18/18\n",
      "\n",
      "Bootstrap\n",
      "---------\n",
      "1000/1000\n",
      "\n",
      "--------------------------------------------\n",
      "                  17. TCGA-READ\n",
      "--------------------------------------------\n",
      "Keeping 8808 patient(s) not in exclude list.\n",
      "Keeping 1102 patient(s) not in exclude list.\n",
      "Keeping 17 patient(s) not in exclude list.\n",
      "Data modalities:\n",
      "   clinical\n",
      "   mRNA\n",
      "\n",
      "Dataset sizes (# patients):\n",
      "   train: 8808\n",
      "   val: 1102\n",
      "   test: 17\n",
      "\n",
      "Batch size: 128\n",
      "Collect patient predictions: 4/17"
     ]
    },
    {
     "name": "stderr",
     "output_type": "stream",
     "text": [
      "/app/src/evaluation.py:340: UserWarning: Skipped 619 bootstraps (No admissable pairs in the dataset.).\n",
      "  warnings.warn(\n"
     ]
    },
    {
     "name": "stdout",
     "output_type": "stream",
     "text": [
      "Collect patient predictions: 17/17\n",
      "\n",
      "Bootstrap\n",
      "---------\n",
      "1000/1000\n",
      "\n",
      "--------------------------------------------\n",
      "                  18. TCGA-LUAD\n",
      "--------------------------------------------\n",
      "Keeping 8808 patient(s) not in exclude list.\n",
      "Keeping 1102 patient(s) not in exclude list.\n",
      "Keeping 52 patient(s) not in exclude list.\n",
      "Data modalities:\n",
      "   clinical\n",
      "   mRNA\n",
      "\n",
      "Dataset sizes (# patients):\n",
      "   train: 8808\n",
      "   val: 1102\n",
      "   test: 52\n",
      "\n",
      "Batch size: 128\n",
      "Collect patient predictions: 1/52"
     ]
    },
    {
     "name": "stderr",
     "output_type": "stream",
     "text": [
      "/app/src/evaluation.py:340: UserWarning: Skipped 45 bootstraps (No admissable pairs in the dataset.).\n",
      "  warnings.warn(\n"
     ]
    },
    {
     "name": "stdout",
     "output_type": "stream",
     "text": [
      "Collect patient predictions: 52/52\n",
      "\n",
      "Bootstrap\n",
      "---------\n",
      "1000/1000\n",
      "\n",
      "--------------------------------------------\n",
      "                  19. TCGA-LUSC\n",
      "--------------------------------------------\n",
      "Keeping 8808 patient(s) not in exclude list.\n",
      "Keeping 1102 patient(s) not in exclude list.\n",
      "Keeping 49 patient(s) not in exclude list.\n",
      "Data modalities:\n",
      "   clinical\n",
      "   mRNA\n",
      "\n",
      "Dataset sizes (# patients):\n",
      "   train: 8808\n",
      "   val: 1102\n",
      "   test: 49\n",
      "\n",
      "Batch size: 128\n",
      "Collect patient predictions: 49/49\n",
      "\n",
      "Bootstrap\n",
      "---------\n",
      "1000/1000\n",
      "\n",
      "--------------------------------------------\n",
      "                  20. TCGA-PAAD\n",
      "--------------------------------------------\n",
      "Keeping 8808 patient(s) not in exclude list.\n",
      "Keeping 1102 patient(s) not in exclude list.\n",
      "Keeping 18 patient(s) not in exclude list.\n",
      "Data modalities:\n",
      "   clinical\n",
      "   mRNA\n",
      "\n",
      "Dataset sizes (# patients):\n",
      "   train: 8808\n",
      "   val: 1102\n",
      "   test: 18\n",
      "\n",
      "Batch size: 128\n",
      "Collect patient predictions: 18/18\n",
      "\n",
      "Bootstrap\n",
      "---------\n",
      "1000/1000\n",
      "\n",
      "--------------------------------------------\n",
      "                  21. TCGA-LIHC\n",
      "--------------------------------------------\n",
      "Keeping 8808 patient(s) not in exclude list.\n",
      "Keeping 1102 patient(s) not in exclude list.\n",
      "Keeping 38 patient(s) not in exclude list.\n",
      "Data modalities:\n",
      "   clinical\n",
      "   mRNA\n",
      "\n",
      "Dataset sizes (# patients):\n",
      "   train: 8808\n",
      "   val: 1102\n",
      "   test: 38\n",
      "\n",
      "Batch size: 128\n",
      "Collect patient predictions: 38/38\n",
      "\n",
      "Bootstrap\n",
      "---------\n",
      "1000/1000\n",
      "\n",
      "--------------------------------------------\n",
      "                  22. TCGA-KIRC\n",
      "--------------------------------------------\n",
      "Keeping 8808 patient(s) not in exclude list.\n",
      "Keeping 1102 patient(s) not in exclude list.\n",
      "Keeping 54 patient(s) not in exclude list.\n",
      "Data modalities:\n",
      "   clinical\n",
      "   mRNA\n",
      "\n",
      "Dataset sizes (# patients):\n",
      "   train: 8808\n",
      "   val: 1102\n",
      "   test: 54\n",
      "\n",
      "Batch size: 128\n",
      "Collect patient predictions: 54/54\n",
      "\n",
      "Bootstrap\n",
      "---------\n",
      "1000/1000\n",
      "\n",
      "--------------------------------------------\n",
      "                  23. TCGA-LGG\n",
      "--------------------------------------------\n",
      "Keeping 8808 patient(s) not in exclude list.\n",
      "Keeping 1102 patient(s) not in exclude list.\n",
      "Keeping 52 patient(s) not in exclude list.\n",
      "Data modalities:\n",
      "   clinical\n",
      "   mRNA\n",
      "\n",
      "Dataset sizes (# patients):\n",
      "   train: 8808\n",
      "   val: 1102\n",
      "   test: 52\n",
      "\n",
      "Batch size: 128\n",
      "Collect patient predictions: 52/52\n",
      "\n",
      "Bootstrap\n",
      "---------\n",
      "1000/1000\n",
      "\n",
      "--------------------------------------------\n",
      "                  24. TCGA-SKCM\n",
      "--------------------------------------------\n",
      "Keeping 8808 patient(s) not in exclude list.\n",
      "Keeping 1102 patient(s) not in exclude list.\n",
      "Keeping 46 patient(s) not in exclude list.\n",
      "Data modalities:\n",
      "   clinical\n",
      "   mRNA\n",
      "\n",
      "Dataset sizes (# patients):\n",
      "   train: 8808\n",
      "   val: 1102\n",
      "   test: 46\n",
      "\n",
      "Batch size: 128\n",
      "Collect patient predictions: 46/46\n",
      "\n",
      "Bootstrap\n",
      "---------\n",
      "1000/1000\n",
      "\n",
      "--------------------------------------------\n",
      "                  25. TCGA-PRAD\n",
      "--------------------------------------------\n",
      "Keeping 8808 patient(s) not in exclude list.\n",
      "Keeping 1102 patient(s) not in exclude list.\n",
      "Keeping 50 patient(s) not in exclude list.\n",
      "Data modalities:\n",
      "   clinical\n",
      "   mRNA\n",
      "\n",
      "Dataset sizes (# patients):\n",
      "   train: 8808\n",
      "   val: 1102\n",
      "   test: 50\n",
      "\n",
      "Batch size: 128\n",
      "Collect patient predictions: 50/50\n",
      "\n",
      "Bootstrap\n",
      "---------\n",
      "1000/1000\n",
      "\n",
      "--------------------------------------------\n",
      "                  26. TCGA-STAD\n",
      "--------------------------------------------\n",
      "Keeping 8808 patient(s) not in exclude list.\n",
      "Keeping 1102 patient(s) not in exclude list.\n",
      "Keeping 44 patient(s) not in exclude list.\n",
      "Data modalities:\n",
      "   clinical\n",
      "   mRNA\n",
      "\n",
      "Dataset sizes (# patients):\n",
      "   train: 8808\n",
      "   val: 1102\n",
      "   test: 44\n",
      "\n",
      "Batch size: 128\n",
      "Collect patient predictions: 2/44"
     ]
    },
    {
     "name": "stderr",
     "output_type": "stream",
     "text": [
      "/app/src/evaluation.py:340: UserWarning: Skipped 353 bootstraps (No admissable pairs in the dataset.).\n",
      "  warnings.warn(\n"
     ]
    },
    {
     "name": "stdout",
     "output_type": "stream",
     "text": [
      "Collect patient predictions: 44/44\n",
      "\n",
      "Bootstrap\n",
      "---------\n",
      "1000/1000\n",
      "\n",
      "--------------------------------------------\n",
      "                  27. TCGA-OV\n",
      "--------------------------------------------\n",
      "Keeping 8808 patient(s) not in exclude list.\n",
      "Keeping 1102 patient(s) not in exclude list.\n",
      "Keeping 58 patient(s) not in exclude list.\n",
      "Data modalities:\n",
      "   clinical\n",
      "   mRNA\n",
      "\n",
      "Dataset sizes (# patients):\n",
      "   train: 8808\n",
      "   val: 1102\n",
      "   test: 58\n",
      "\n",
      "Batch size: 128\n",
      "Collect patient predictions: 58/58\n",
      "\n",
      "Bootstrap\n",
      "---------\n",
      "1000/1000\n",
      "\n",
      "--------------------------------------------\n",
      "                  28. TCGA-THYM\n",
      "--------------------------------------------\n",
      "Keeping 8808 patient(s) not in exclude list.\n",
      "Keeping 1102 patient(s) not in exclude list.\n",
      "Keeping 12 patient(s) not in exclude list.\n",
      "Data modalities:\n",
      "   clinical\n",
      "   mRNA\n",
      "\n",
      "Dataset sizes (# patients):\n",
      "   train: 8808\n",
      "   val: 1102\n",
      "   test: 12\n",
      "\n",
      "Batch size: 128\n",
      "Collect patient predictions: 12/12\n",
      "\n",
      "Bootstrap\n",
      "---------\n",
      "1000/1000\n",
      "\n",
      "--------------------------------------------\n",
      "                  29. TCGA-UCS\n",
      "--------------------------------------------\n"
     ]
    },
    {
     "name": "stderr",
     "output_type": "stream",
     "text": [
      "/app/src/evaluation.py:340: UserWarning: Skipped 347 bootstraps (No admissable pairs in the dataset.).\n",
      "  warnings.warn(\n"
     ]
    },
    {
     "name": "stdout",
     "output_type": "stream",
     "text": [
      "Keeping 8808 patient(s) not in exclude list.\n",
      "Keeping 1102 patient(s) not in exclude list.\n",
      "Keeping 6 patient(s) not in exclude list.\n",
      "Data modalities:\n",
      "   clinical\n",
      "   mRNA\n",
      "\n",
      "Dataset sizes (# patients):\n",
      "   train: 8808\n",
      "   val: 1102\n",
      "   test: 6\n",
      "\n",
      "Batch size: 128\n",
      "Collect patient predictions: 6/6\n",
      "\n",
      "Bootstrap\n",
      "---------\n",
      "1000/1000\n",
      "\n",
      "--------------------------------------------\n",
      "                  30. TCGA-UVM\n",
      "--------------------------------------------\n",
      "Keeping 8808 patient(s) not in exclude list.\n",
      "Keeping 1102 patient(s) not in exclude list.\n",
      "Keeping 7 patient(s) not in exclude list.\n",
      "Data modalities:\n",
      "   clinical\n",
      "   mRNA\n",
      "\n",
      "Dataset sizes (# patients):\n",
      "   train: 8808\n",
      "   val: 1102\n",
      "   test: 7\n",
      "\n",
      "Batch size: 128\n",
      "Collect patient predictions: 7/7\n",
      "\n",
      "Bootstrap\n",
      "---------\n",
      "1000/1000\n",
      "\n",
      "--------------------------------------------\n",
      "                  31. TCGA-TGCT\n",
      "--------------------------------------------\n",
      "Keeping 8808 patient(s) not in exclude list.\n",
      "Keeping 1102 patient(s) not in exclude list.\n",
      "Keeping 25 patient(s) not in exclude list.\n",
      "Data modalities:\n",
      "   clinical\n",
      "   mRNA\n",
      "\n",
      "Dataset sizes (# patients):\n",
      "   train: 8808\n",
      "   val: 1102\n",
      "   test: 25\n",
      "\n",
      "Batch size: 128\n",
      "Collect patient predictions: 3/25"
     ]
    },
    {
     "name": "stderr",
     "output_type": "stream",
     "text": [
      "/app/src/evaluation.py:340: UserWarning: Skipped 24 bootstraps (No admissable pairs in the dataset.).\n",
      "  warnings.warn(\n"
     ]
    },
    {
     "name": "stdout",
     "output_type": "stream",
     "text": [
      "Collect patient predictions: 25/25\n",
      "\n",
      "Bootstrap\n",
      "---------\n",
      "1000/1000\n",
      "\n",
      "--------------------------------------------\n",
      "                  32. TCGA-THCA\n",
      "--------------------------------------------\n",
      "Keeping 8808 patient(s) not in exclude list.\n",
      "Keeping 1102 patient(s) not in exclude list.\n",
      "Keeping 51 patient(s) not in exclude list.\n",
      "Data modalities:\n",
      "   clinical\n",
      "   mRNA\n",
      "\n",
      "Dataset sizes (# patients):\n",
      "   train: 8808\n",
      "   val: 1102\n",
      "   test: 51\n",
      "\n",
      "Batch size: 128\n",
      "Collect patient predictions: 1/51"
     ]
    },
    {
     "name": "stderr",
     "output_type": "stream",
     "text": [
      "/app/src/evaluation.py:340: UserWarning: Skipped 357 bootstraps (No admissable pairs in the dataset.).\n",
      "  warnings.warn(\n"
     ]
    },
    {
     "name": "stdout",
     "output_type": "stream",
     "text": [
      "Collect patient predictions: 51/51\n",
      "\n",
      "Bootstrap\n",
      "---------\n",
      "1000/1000\n",
      "\n",
      "\n",
      "\n",
      "CPU times: user 4min 21s, sys: 56.4 s, total: 5min 17s\n",
      "Wall time: 3min 8s\n"
     ]
    },
    {
     "name": "stderr",
     "output_type": "stream",
     "text": [
      "/app/src/evaluation.py:340: UserWarning: Skipped 113 bootstraps (No admissable pairs in the dataset.).\n",
      "  warnings.warn(\n"
     ]
    }
   ],
   "source": [
    "%%time\n",
    "\n",
    "results = {}\n",
    "minimum_n_patients = 0\n",
    "\n",
    "cancer_types = pd.read_csv('/app/data/labels.tsv', sep='\\t').project_id.unique()\n",
    "\n",
    "for i, cancer_type in enumerate(cancer_types):\n",
    "    print('-' * 44)\n",
    "    print(' ' * 17, f'{i + 1}.', cancer_type)\n",
    "    print('-' * 44)\n",
    "\n",
    "    patients = get_patients_with(cancer_type)\n",
    "    if len(patients) < minimum_n_patients:\n",
    "        continue\n",
    "    \n",
    "    exclude_patients = [p for p in dataloaders['test'].dataset.patient_ids\n",
    "                        if not p in patients]\n",
    "\n",
    "    data = utils.get_dataloaders(\n",
    "        data_location=DATA,\n",
    "        labels_file='/app/data/labels.tsv',\n",
    "        modalities=['clinical', 'mRNA'],\n",
    "        exclude_patients=exclude_patients,\n",
    "        return_patient_id=True\n",
    "    )['test'].dataset\n",
    "\n",
    "    results[cancer_type] = utils.Evaluation(model=multisurv, dataset=data, device=device)\n",
    "    results[cancer_type].run_bootstrap()\n",
    "    print()\n",
    "print()\n",
    "print()"
   ]
  },
  {
   "cell_type": "code",
   "execution_count": 8,
   "metadata": {},
   "outputs": [
    {
     "data": {
      "text/plain": [
       "32"
      ]
     },
     "execution_count": 8,
     "metadata": {},
     "output_type": "execute_result"
    }
   ],
   "source": [
    "len(cancer_types)"
   ]
  },
  {
   "cell_type": "code",
   "execution_count": 9,
   "metadata": {},
   "outputs": [
    {
     "name": "stdout",
     "output_type": "stream",
     "text": [
      "Data modalities:\n",
      "   clinical\n",
      "   mRNA\n",
      "\n",
      "Dataset sizes (# patients):\n",
      "   train: 8808\n",
      "   val: 1102\n",
      "   test: 1101\n",
      "\n",
      "Batch size: 128\n",
      "Collect patient predictions: 1101/1101\n",
      "\n",
      "Bootstrap\n",
      "---------\n",
      "1000/1000\n",
      "\n",
      "CPU times: user 2min 5s, sys: 28.7 s, total: 2min 34s\n",
      "Wall time: 1min 52s\n"
     ]
    }
   ],
   "source": [
    "%%time\n",
    "\n",
    "data = utils.get_dataloaders(\n",
    "    data_location=DATA,\n",
    "    labels_file='/app/data/labels.tsv',\n",
    "    modalities=['clinical', 'mRNA'],\n",
    "    return_patient_id=True\n",
    ")['test'].dataset\n",
    "\n",
    "results['All'] = utils.Evaluation(model=multisurv, dataset=data, device=device)\n",
    "results['All'].run_bootstrap()\n",
    "print()"
   ]
  },
  {
   "cell_type": "markdown",
   "metadata": {},
   "source": [
    "In order to avoid very __noisy values__, establish a __minimum threshold__ for the number of patients in each given cancer type."
   ]
  },
  {
   "cell_type": "code",
   "execution_count": 10,
   "metadata": {},
   "outputs": [],
   "source": [
    "minimum_n_patients = 20"
   ]
  },
  {
   "cell_type": "code",
   "execution_count": 11,
   "metadata": {},
   "outputs": [
    {
     "name": "stdout",
     "output_type": "stream",
     "text": [
      "----------------------------------------\n",
      " Cancer     Ctd      IBS     # patients\n",
      "----------------------------------------\n",
      "  BLCA     0.724    0.214       41\n",
      "  BRCA     0.867    0.173       109\n",
      "  CESC     0.716    0.168       30\n",
      "  COAD     0.787    0.145       46\n",
      "  GBM      0.694    0.149       59\n",
      "  HNSC     0.705    0.15        52\n",
      "  KIRC     0.907    0.101       54\n",
      "  KIRP     0.941    0.097       29\n",
      "  LGG      0.906    0.102       52\n",
      "  LIHC     0.82     0.13        38\n",
      "  LUAD     0.783    0.163       52\n",
      "  LUSC     0.613    0.197       49\n",
      "  OV       0.509    0.231       58\n",
      "  PRAD     0.219    0.042       50\n",
      "  SARC     0.457    0.291       26\n",
      "  SKCM     0.727    0.161       46\n",
      "  STAD     0.761    0.155       44\n",
      "  TGCT     0.913    0.035       25\n",
      "  THCA     0.95     0.062       51\n",
      "  UCEC     0.747    0.104       55\n"
     ]
    }
   ],
   "source": [
    "cancer_types = pd.read_csv('/app/data/labels.tsv', sep='\\t').project_id.unique()\n",
    "selected_cancer_types = ['All']\n",
    "\n",
    "print('-' * 40)\n",
    "print(' Cancer     Ctd      IBS     # patients')\n",
    "print('-' * 40)\n",
    "for cancer_type in sorted(list(cancer_types)):\n",
    "    patients = get_patients_with(cancer_type)\n",
    "    if len(patients) > minimum_n_patients:\n",
    "        selected_cancer_types.append(cancer_type)\n",
    "        ctd = str(round(results[cancer_type].c_index_td, 3))\n",
    "        ibs = str(round(results[cancer_type].ibs, 3))\n",
    "\n",
    "        message = '  ' + cancer_type[5:]\n",
    "        message += ' ' * (11 - len(message)) + ctd\n",
    "        message += ' ' * (20 - len(message)) + ibs\n",
    "        message += ' ' * (32 - len(message)) + str(len(patients))\n",
    "        print(message)\n",
    "#         print(' ' + cancer_type + ' ' * (10 - len(cancer_type)) + \\\n",
    "#               ctd + ' ' * (10 - len(ibs)) + ibs + ' ' * (13 - len(ctd)) \\\n",
    "#               + str(len(patients)))"
   ]
  },
  {
   "cell_type": "code",
   "execution_count": 12,
   "metadata": {},
   "outputs": [],
   "source": [
    "def format_bootstrap_output(evaluator):\n",
    "    results = evaluator.format_results()\n",
    "    \n",
    "    for metric in results:\n",
    "        results[metric] = results[metric].split(' ')\n",
    "        val = results[metric][0]\n",
    "        ci_low, ci_high = results[metric][1].split('(')[1].split(')')[0].split('-')\n",
    "        results[metric] = val, ci_low, ci_high\n",
    "        results[metric] = [float(x) for x in results[metric]]\n",
    "    \n",
    "    return results"
   ]
  },
  {
   "cell_type": "code",
   "execution_count": 13,
   "metadata": {},
   "outputs": [],
   "source": [
    "formatted_results = {}\n",
    "\n",
    "# for cancer_type in results:\n",
    "for cancer_type in sorted(selected_cancer_types):\n",
    "    formatted_results[cancer_type] = format_bootstrap_output(results[cancer_type])"
   ]
  },
  {
   "cell_type": "code",
   "execution_count": 14,
   "metadata": {},
   "outputs": [],
   "source": [
    "def remove_tcga_prefix(formatted_results):\n",
    "    \"\"\"\n",
    "    Remove 'TCGA-' prefix from cancer type names in the results dictionary.\n",
    "    \n",
    "    Args:\n",
    "        formatted_results: Dictionary with cancer types as keys\n",
    "        \n",
    "    Returns:\n",
    "        Dictionary with 'TCGA-' prefix removed from keys\n",
    "    \"\"\"\n",
    "    cleaned_results = {}\n",
    "    \n",
    "    for cancer_type, metrics in formatted_results.items():\n",
    "        # Remove 'TCGA-' prefix if it exists, otherwise keep the original key\n",
    "        if cancer_type.startswith('TCGA-'):\n",
    "            new_key = cancer_type.replace('TCGA-', '')\n",
    "        else:\n",
    "            new_key = cancer_type  # Keep 'All' and other non-TCGA keys unchanged\n",
    "        \n",
    "        cleaned_results[new_key] = metrics\n",
    "    \n",
    "    return cleaned_results\n",
    "\n",
    "# Alternative one-liner using dictionary comprehension\n",
    "def remove_tcga_prefix_oneliner(formatted_results):\n",
    "    \"\"\"One-liner version using dictionary comprehension.\"\"\"\n",
    "    return {\n",
    "        key.replace('TCGA-', '') if key.startswith('TCGA-') else key: value \n",
    "        for key, value in formatted_results.items()\n",
    "    }\n",
    "    \n",
    "formatted_results = remove_tcga_prefix(formatted_results)"
   ]
  },
  {
   "cell_type": "code",
   "execution_count": 15,
   "metadata": {},
   "outputs": [
    {
     "data": {
      "text/plain": [
       "{'All': {'C-index': [0.821, 0.805, 0.836],\n",
       "  'Ctd': [0.821, 0.805, 0.836],\n",
       "  'IBS': [0.146, 0.13, 0.162],\n",
       "  'INBLL': [0.459, 0.404, 0.511]},\n",
       " 'BLCA': {'C-index': [0.724, 0.647, 0.81],\n",
       "  'Ctd': [0.724, 0.647, 0.81],\n",
       "  'IBS': [0.214, 0.171, 0.253],\n",
       "  'INBLL': [0.617, 0.512, 0.707]},\n",
       " 'BRCA': {'C-index': [0.875, 0.762, 0.972],\n",
       "  'Ctd': [0.867, 0.753, 0.96],\n",
       "  'IBS': [0.173, 0.07, 0.197],\n",
       "  'INBLL': [0.506, 0.237, 0.569]},\n",
       " 'CESC': {'C-index': [0.724, 0.441, 0.95],\n",
       "  'Ctd': [0.716, 0.423, 0.95],\n",
       "  'IBS': [0.168, 0.08, 0.224],\n",
       "  'INBLL': [0.505, 0.275, 0.653]},\n",
       " 'COAD': {'C-index': [0.786, 0.644, 0.895],\n",
       "  'Ctd': [0.787, 0.651, 0.897],\n",
       "  'IBS': [0.145, 0.07, 0.178],\n",
       "  'INBLL': [0.443, 0.235, 0.528]},\n",
       " 'GBM': {'C-index': [0.694, 0.627, 0.771],\n",
       "  'Ctd': [0.694, 0.627, 0.771],\n",
       "  'IBS': [0.149, 0.138, 0.213],\n",
       "  'INBLL': [0.464, 0.437, 0.616]},\n",
       " 'HNSC': {'C-index': [0.705, 0.608, 0.798],\n",
       "  'Ctd': [0.705, 0.609, 0.798],\n",
       "  'IBS': [0.15, 0.125, 0.19],\n",
       "  'INBLL': [0.47, 0.414, 0.554]},\n",
       " 'KIRC': {'C-index': [0.91, 0.862, 0.955],\n",
       "  'Ctd': [0.907, 0.859, 0.953],\n",
       "  'IBS': [0.101, 0.068, 0.133],\n",
       "  'INBLL': [0.309, 0.221, 0.394]},\n",
       " 'KIRP': {'C-index': [0.912, 0.333, 1.0],\n",
       "  'Ctd': [0.941, 0.5, 1.0],\n",
       "  'IBS': [0.097, 0.019, 0.154],\n",
       "  'INBLL': [0.302, 0.09, 0.449]},\n",
       " 'LGG': {'C-index': [0.906, 0.853, 0.961],\n",
       "  'Ctd': [0.906, 0.853, 0.961],\n",
       "  'IBS': [0.102, 0.063, 0.14],\n",
       "  'INBLL': [0.33, 0.233, 0.417]},\n",
       " 'LIHC': {'C-index': [0.82, 0.688, 0.959],\n",
       "  'Ctd': [0.82, 0.688, 0.959],\n",
       "  'IBS': [0.13, 0.097, 0.162],\n",
       "  'INBLL': [0.414, 0.334, 0.492]},\n",
       " 'LUAD': {'C-index': [0.776, 0.696, 0.857],\n",
       "  'Ctd': [0.783, 0.705, 0.865],\n",
       "  'IBS': [0.163, 0.121, 0.193],\n",
       "  'INBLL': [0.488, 0.385, 0.561]},\n",
       " 'LUSC': {'C-index': [0.612, 0.481, 0.738],\n",
       "  'Ctd': [0.613, 0.482, 0.738],\n",
       "  'IBS': [0.197, 0.163, 0.223],\n",
       "  'INBLL': [0.568, 0.493, 0.63]},\n",
       " 'OV': {'C-index': [0.509, 0.429, 0.587],\n",
       "  'Ctd': [0.509, 0.431, 0.588],\n",
       "  'IBS': [0.231, 0.192, 0.269],\n",
       "  'INBLL': [0.677, 0.568, 0.778]},\n",
       " 'PRAD': {'C-index': [0.219, 0.111, 0.312],\n",
       "  'Ctd': [0.219, 0.111, 0.312],\n",
       "  'IBS': [0.042, 0.047, 0.088],\n",
       "  'INBLL': [0.63, 0.711, 1.323]},\n",
       " 'SARC': {'C-index': [0.457, 0.233, 0.683],\n",
       "  'Ctd': [0.457, 0.233, 0.683],\n",
       "  'IBS': [0.291, 0.228, 0.373],\n",
       "  'INBLL': [0.814, 0.646, 1.022]},\n",
       " 'SKCM': {'C-index': [0.729, 0.645, 0.807],\n",
       "  'Ctd': [0.727, 0.645, 0.803],\n",
       "  'IBS': [0.161, 0.138, 0.188],\n",
       "  'INBLL': [0.485, 0.434, 0.55]},\n",
       " 'STAD': {'C-index': [0.761, 0.667, 0.877],\n",
       "  'Ctd': [0.761, 0.667, 0.877],\n",
       "  'IBS': [0.155, 0.126, 0.183],\n",
       "  'INBLL': [0.477, 0.405, 0.541]},\n",
       " 'TGCT': {'C-index': [0.913, 0.834, 1.0],\n",
       "  'Ctd': [0.913, 0.834, 1.0],\n",
       "  'IBS': [0.035, 0.043, 0.068],\n",
       "  'INBLL': [0.145, 0.168, 0.267]},\n",
       " 'THCA': {'C-index': [0.95, 0.625, 1.0],\n",
       "  'Ctd': [0.95, 0.625, 1.0],\n",
       "  'IBS': [0.062, 0.025, 0.112],\n",
       "  'INBLL': [0.212, 0.093, 0.368]},\n",
       " 'UCEC': {'C-index': [0.753, 0.56, 0.955],\n",
       "  'Ctd': [0.747, 0.548, 0.941],\n",
       "  'IBS': [0.104, 0.055, 0.145],\n",
       "  'INBLL': [0.347, 0.204, 0.465]}}"
      ]
     },
     "execution_count": 15,
     "metadata": {},
     "output_type": "execute_result"
    }
   ],
   "source": [
    "formatted_results"
   ]
  },
  {
   "cell_type": "markdown",
   "metadata": {},
   "source": [
    "# Result graph\n",
    "\n",
    "Exclude cancer types with less than a chosen minimum number of patients, to avoid extremely noisy results."
   ]
  },
  {
   "cell_type": "code",
   "execution_count": 16,
   "metadata": {},
   "outputs": [
    {
     "data": {
      "image/png": "[encoded data removed]",
      "text/plain": [
       "<Figure size 600x100 with 1 Axes>"
      ]
     },
     "metadata": {},
     "output_type": "display_data"
    }
   ],
   "source": [
    "utils.plot.show_default_colors()"
   ]
  },
  {
   "cell_type": "code",
   "execution_count": 17,
   "metadata": {},
   "outputs": [],
   "source": [
    "PLOT_SIZE = (15, 4)\n",
    "default_colors = plt.rcParams['axes.prop_cycle'].by_key()['color']"
   ]
  },
  {
   "cell_type": "code",
   "execution_count": 18,
   "metadata": {},
   "outputs": [],
   "source": [
    "def get_metric_results(metric, data):\n",
    "    df = pd.DataFrame()\n",
    "    df['Cancer type'] = data.keys()\n",
    "\n",
    "    val, err = [], []\n",
    "    \n",
    "    for cancer in formatted_results:\n",
    "        values = formatted_results[cancer][metric]\n",
    "        val.append(values[0])\n",
    "        err.append((values[0] - values[1], values[2] - values[0]))\n",
    "\n",
    "    df[metric] = val\n",
    "    err = np.swapaxes(np.array(err), 1, 0)\n",
    "\n",
    "    return df, err"
   ]
  },
  {
   "cell_type": "code",
   "execution_count": 19,
   "metadata": {},
   "outputs": [],
   "source": [
    "def plot_results(metric, data, ci, y_lim=None, y_label=None, h_lines=[1, 0.5]):\n",
    "    fig = plt.figure(figsize=PLOT_SIZE)\n",
    "    ax = fig.add_subplot(1, 1, 1)\n",
    "    for y in h_lines:\n",
    "        ax.axhline(y, linestyle='--', color='grey')\n",
    "\n",
    "    ax.bar(df['Cancer type'][:1], df[metric][:1], yerr=err[:, :1],\n",
    "           align='center', ecolor=default_colors[0],\n",
    "           alpha=0.5, capsize=5)\n",
    "    ax.bar(df['Cancer type'][1:], df[metric][1:], yerr=err[:, 1:],\n",
    "           align='center', color=default_colors[6], ecolor=default_colors[6],\n",
    "           alpha=0.5, capsize=5)\n",
    "    if y_lim is None:\n",
    "        y_lim = (0, 1)\n",
    "        \n",
    "    ax.set_ylim(y_lim)\n",
    "    ax.set_title('')\n",
    "    ax.set_xlabel('Cancer types')\n",
    "    if y_label is None:\n",
    "        ax.set_ylabel(metric + ' (95% CI)')\n",
    "    else:\n",
    "        ax.set_ylabel(y_label)\n",
    "\n",
    "    return fig"
   ]
  },
  {
   "cell_type": "code",
   "execution_count": 20,
   "metadata": {},
   "outputs": [
    {
     "data": {
      "image/png": "[encoded data removed]",
      "text/plain": [
       "<Figure size 1500x400 with 1 Axes>"
      ]
     },
     "metadata": {},
     "output_type": "display_data"
    }
   ],
   "source": [
    "metric='Ctd'\n",
    "\n",
    "df, err = get_metric_results(metric, formatted_results)\n",
    "fig_ctd = plot_results(metric, df, err, y_label='$C^{td}$ (95% CI)')"
   ]
  },
  {
   "cell_type": "code",
   "execution_count": 47,
   "metadata": {},
   "outputs": [
    {
     "data": {
      "image/png": "[encoded data removed]",
      "text/plain": [
       "<Figure size 1500x400 with 1 Axes>"
      ]
     },
     "metadata": {},
     "output_type": "display_data"
    }
   ],
   "source": [
    "metric='IBS'\n",
    "\n",
    "df, err = get_metric_results(metric, formatted_results)\n",
    "fig_ibs = plot_results(metric, df, err, y_lim=(0, 0.35), y_label=None, h_lines=[0.25])"
   ]
  },
  {
   "cell_type": "markdown",
   "metadata": {},
   "source": [
    "## Save to files"
   ]
  },
  {
   "cell_type": "code",
   "execution_count": 182,
   "metadata": {},
   "outputs": [
    {
     "data": {
      "application/javascript": [
       "\n",
       "IPython.notebook.kernel.execute('nb_name = \"' + IPython.notebook.notebook_name + '\"')\n"
      ],
      "text/plain": [
       "<IPython.core.display.Javascript object>"
      ]
     },
     "metadata": {},
     "output_type": "display_data"
    }
   ],
   "source": [
    "%%javascript\n",
    "\n",
    "IPython.notebook.kernel.execute('nb_name = \"' + IPython.notebook.notebook_name + '\"')"
   ]
  },
  {
   "cell_type": "code",
   "execution_count": 183,
   "metadata": {},
   "outputs": [],
   "source": [
    "pdf_file = nb_name.split('.ipynb')[0] + '_Ctd'\n",
    "utils.plot.save_plot_for_figure(figure=fig_ctd, file_name=pdf_file) "
   ]
  },
  {
   "cell_type": "code",
   "execution_count": 184,
   "metadata": {},
   "outputs": [],
   "source": [
    "pdf_file = nb_name.split('.ipynb')[0] + '_IBS'\n",
    "utils.plot.save_plot_for_figure(figure=fig_ibs, file_name=pdf_file) "
   ]
  },
  {
   "cell_type": "code",
   "execution_count": 185,
   "metadata": {},
   "outputs": [],
   "source": [
    "pdf_file = nb_name.split('.ipynb')[0] + '_INBLL'\n",
    "utils.plot.save_plot_for_figure(figure=fig_inbll, file_name=pdf_file) "
   ]
  },
  {
   "cell_type": "markdown",
   "metadata": {},
   "source": [
    "# Watermark<a class='tocSkip'></a>"
   ]
  },
  {
   "cell_type": "code",
   "execution_count": 19,
   "metadata": {},
   "outputs": [
    {
     "name": "stdout",
     "output_type": "stream",
     "text": [
      "pandas     1.0.1\n",
      "torch      1.4.0\n",
      "numpy      1.18.1\n",
      "matplotlib 3.1.2\n",
      "\n",
      "CPython 3.6.7\n",
      "IPython 7.11.1\n",
      "\n",
      "last updated: Tue Jul 28 2020\n"
     ]
    }
   ],
   "source": [
    "%watermark --iversions\n",
    "%watermark -v\n",
    "print()\n",
    "%watermark -u -n"
   ]
  },
  {
   "cell_type": "markdown",
   "metadata": {},
   "source": [
    "[Top of the page](#Top)"
   ]
  }
 ],
 "metadata": {
  "kernelspec": {
   "display_name": "Python 3 (ipykernel)",
   "language": "python",
   "name": "python3"
  },
  "language_info": {
   "codemirror_mode": {
    "name": "ipython",
    "version": 3
   },
   "file_extension": ".py",
   "mimetype": "text/x-python",
   "name": "python",
   "nbconvert_exporter": "python",
   "pygments_lexer": "ipython3",
   "version": "3.8.20"
  },
  "toc": {
   "base_numbering": 1,
   "nav_menu": {
    "height": "197px",
    "width": "372px"
   },
   "number_sections": true,
   "sideBar": true,
   "skip_h1_title": false,
   "title_cell": "Table of Contents",
   "title_sidebar": "Contents",
   "toc_cell": true,
   "toc_position": {
    "height": "calc(100% - 180px)",
    "left": "10px",
    "top": "150px",
    "width": "180px"
   },
   "toc_section_display": true,
   "toc_window_display": true
  }
 },
 "nbformat": 4,
 "nbformat_minor": 4
}
