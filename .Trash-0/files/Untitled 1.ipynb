{
 "cells": [
  {
   "cell_type": "code",
   "execution_count": null,
   "id": "f85e81a9-9b43-4ef9-8b3c-7f90a66b843c",
   "metadata": {},
   "outputs": [],
   "source": []
  }
 ],
 "metadata": {
  "kernelspec": {
   "display_name": "",
   "name": ""
  },
  "language_info": {
   "name": ""
  }
 },
 "nbformat": 4,
 "nbformat_minor": 5
}
