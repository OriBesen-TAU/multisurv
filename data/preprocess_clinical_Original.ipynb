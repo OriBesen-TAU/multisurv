{
 "cells": [
  {
   "cell_type": "markdown",
   "metadata": {},
   "source": [
    "<a id='Top'></a>\n",
    "\n",
    "# Prepare clinical data <a class='tocSkip'></a>\n",
    "\n",
    "Preprocess clinical data for all patients, collect relevant survival labels and define train/validation/test split using the unique patient ID codes."
   ]
  },
  {
   "cell_type": "code",
   "execution_count": 1,
   "metadata": {
    "code_folding": []
   },
   "outputs": [],
   "source": [
    "%load_ext autoreload\n",
    "%autoreload 2\n",
    "\n",
    "%load_ext watermark\n",
    "\n",
    "import os\n",
    "\n",
    "import pandas as pd\n",
    "from sklearn.model_selection import train_test_split\n",
    "from sklearn.preprocessing import MinMaxScaler\n",
    "from sklearn.preprocessing import LabelEncoder\n",
    "from lifelines import KaplanMeierFitter"
   ]
  },
  {
   "cell_type": "code",
   "execution_count": 2,
   "metadata": {},
   "outputs": [],
   "source": [
    "DATA_LOCATION = '/mnt/data/Processed_Data/Clinical'"
   ]
  },
  {
   "cell_type": "markdown",
   "metadata": {
    "toc": true
   },
   "source": [
    "<h1>Table of Contents<span class=\"tocSkip\"></span></h1>\n",
    "<div class=\"toc\"><ul class=\"toc-item\"><li><span><a href=\"#Load-and-explore-data\" data-toc-modified-id=\"Load-and-explore-data-1\"><span class=\"toc-item-num\">1&nbsp;&nbsp;</span>Load and explore data</a></span></li><li><span><a href=\"#Select-variables\" data-toc-modified-id=\"Select-variables-2\"><span class=\"toc-item-num\">2&nbsp;&nbsp;</span>Select variables</a></span></li><li><span><a href=\"#Clean-up-inconsistencies\" data-toc-modified-id=\"Clean-up-inconsistencies-3\"><span class=\"toc-item-num\">3&nbsp;&nbsp;</span>Clean up inconsistencies</a></span><ul class=\"toc-item\"><li><span><a href=\"#Consolidate-race-and-ethnicity\" data-toc-modified-id=\"Consolidate-race-and-ethnicity-3.1\"><span class=\"toc-item-num\">3.1&nbsp;&nbsp;</span>Consolidate <code>race</code> and <code>ethnicity</code></a></span></li><li><span><a href=\"#Missing-label-data\" data-toc-modified-id=\"Missing-label-data-3.2\"><span class=\"toc-item-num\">3.2&nbsp;&nbsp;</span>Missing label data</a></span><ul class=\"toc-item\"><li><span><a href=\"#vital_status\" data-toc-modified-id=\"vital_status-3.2.1\"><span class=\"toc-item-num\">3.2.1&nbsp;&nbsp;</span><code>vital_status</code></a></span></li><li><span><a href=\"#Both-duration-values\" data-toc-modified-id=\"Both-duration-values-3.2.2\"><span class=\"toc-item-num\">3.2.2&nbsp;&nbsp;</span>Both duration values</a></span></li><li><span><a href=\"#Required-duration-value\" data-toc-modified-id=\"Required-duration-value-3.2.3\"><span class=\"toc-item-num\">3.2.3&nbsp;&nbsp;</span>Required duration value</a></span></li></ul></li><li><span><a href=\"#Not-missing-days_to_last_follow_up-when-vital_status-is-&quot;Dead&quot;\" data-toc-modified-id=\"Not-missing-days_to_last_follow_up-when-vital_status-is-&quot;Dead&quot;-3.3\"><span class=\"toc-item-num\">3.3&nbsp;&nbsp;</span>Not missing <code>days_to_last_follow_up</code> when <code>vital_status</code> is \"Dead\"</a></span></li><li><span><a href=\"#Negative-durations\" data-toc-modified-id=\"Negative-durations-3.4\"><span class=\"toc-item-num\">3.4&nbsp;&nbsp;</span>Negative durations</a></span></li></ul></li><li><span><a href=\"#Label-data\" data-toc-modified-id=\"Label-data-4\"><span class=\"toc-item-num\">4&nbsp;&nbsp;</span>Label data</a></span></li><li><span><a href=\"#Train-val-test-split\" data-toc-modified-id=\"Train-val-test-split-5\"><span class=\"toc-item-num\">5&nbsp;&nbsp;</span>Train-val-test split</a></span><ul class=\"toc-item\"><li><span><a href=\"#Survival-curves\" data-toc-modified-id=\"Survival-curves-5.1\"><span class=\"toc-item-num\">5.1&nbsp;&nbsp;</span>Survival curves</a></span></li></ul></li><li><span><a href=\"#Save-clinical-data-to-file\" data-toc-modified-id=\"Save-clinical-data-to-file-6\"><span class=\"toc-item-num\">6&nbsp;&nbsp;</span>Save clinical data to file</a></span></li><li><span><a href=\"#Input-missing-values\" data-toc-modified-id=\"Input-missing-values-7\"><span class=\"toc-item-num\">7&nbsp;&nbsp;</span>Input missing values</a></span></li><li><span><a href=\"#Scale-continuous-variables\" data-toc-modified-id=\"Scale-continuous-variables-8\"><span class=\"toc-item-num\">8&nbsp;&nbsp;</span>Scale continuous variables</a></span></li><li><span><a href=\"#Encode-categorical-variables\" data-toc-modified-id=\"Encode-categorical-variables-9\"><span class=\"toc-item-num\">9&nbsp;&nbsp;</span>Encode categorical variables</a></span></li><li><span><a href=\"#Save-patient-data-to-files\" data-toc-modified-id=\"Save-patient-data-to-files-10\"><span class=\"toc-item-num\">10&nbsp;&nbsp;</span>Save patient data to files</a></span><ul class=\"toc-item\"><li><span><a href=\"#Survival-labels\" data-toc-modified-id=\"Survival-labels-10.1\"><span class=\"toc-item-num\">10.1&nbsp;&nbsp;</span>Survival labels</a></span></li><li><span><a href=\"#Clinical-data\" data-toc-modified-id=\"Clinical-data-10.2\"><span class=\"toc-item-num\">10.2&nbsp;&nbsp;</span>Clinical data</a></span></li></ul></li></ul></div>"
   ]
  },
  {
   "cell_type": "markdown",
   "metadata": {},
   "source": [
    "# Load and explore data\n",
    "\n",
    "General exploration of data to remove features:\n",
    "    * missing all data\n",
    "    * with as many levels as there are patients"
   ]
  },
  {
   "cell_type": "code",
   "execution_count": 3,
   "metadata": {},
   "outputs": [],
   "source": [
    "clinical = pd.read_csv('/mnt/data/RawData/clinical_data.tsv',\n",
    "                       sep='\\t', na_values=['not reported', 'Not Reported'],\n",
    "                       low_memory=False)"
   ]
  },
  {
   "cell_type": "code",
   "execution_count": 4,
   "metadata": {},
   "outputs": [
    {
     "data": {
      "text/plain": [
       "(11228, 41)"
      ]
     },
     "execution_count": 4,
     "metadata": {},
     "output_type": "execute_result"
    }
   ],
   "source": [
    "clinical.shape"
   ]
  },
  {
   "cell_type": "code",
   "execution_count": 5,
   "metadata": {},
   "outputs": [
    {
     "data": {
      "text/html": [
       "<div>\n",
       "<style scoped>\n",
       "    .dataframe tbody tr th:only-of-type {\n",
       "        vertical-align: middle;\n",
       "    }\n",
       "\n",
       "    .dataframe tbody tr th {\n",
       "        vertical-align: top;\n",
       "    }\n",
       "\n",
       "    .dataframe thead th {\n",
       "        text-align: right;\n",
       "    }\n",
       "</style>\n",
       "<table border=\"1\" class=\"dataframe\">\n",
       "  <thead>\n",
       "    <tr style=\"text-align: right;\">\n",
       "      <th></th>\n",
       "      <th>project</th>\n",
       "      <th>submitter_id</th>\n",
       "      <th>synchronous_malignancy</th>\n",
       "      <th>days_to_diagnosis</th>\n",
       "      <th>created_datetime</th>\n",
       "      <th>last_known_disease_status</th>\n",
       "      <th>tissue_or_organ_of_origin</th>\n",
       "      <th>age_at_diagnosis</th>\n",
       "      <th>primary_diagnosis</th>\n",
       "      <th>updated_datetime</th>\n",
       "      <th>...</th>\n",
       "      <th>year_of_birth</th>\n",
       "      <th>demographic_id</th>\n",
       "      <th>age_is_obfuscated</th>\n",
       "      <th>year_of_death</th>\n",
       "      <th>country_of_residence_at_enrollment</th>\n",
       "      <th>days_to_death</th>\n",
       "      <th>days_to_last_follow_up</th>\n",
       "      <th>follow_ups_disease_response</th>\n",
       "      <th>bcr_patient_barcode</th>\n",
       "      <th>disease</th>\n",
       "    </tr>\n",
       "  </thead>\n",
       "  <tbody>\n",
       "    <tr>\n",
       "      <th>0</th>\n",
       "      <td>TCGA-BRCA</td>\n",
       "      <td>TCGA-A7-A0DC</td>\n",
       "      <td>No</td>\n",
       "      <td>0.0</td>\n",
       "      <td>NaN</td>\n",
       "      <td>NaN</td>\n",
       "      <td>Breast, NOS</td>\n",
       "      <td>23294.0</td>\n",
       "      <td>Infiltrating duct carcinoma, NOS</td>\n",
       "      <td>2025-01-08T12:58:05.350809-06:00</td>\n",
       "      <td>...</td>\n",
       "      <td>1946.0</td>\n",
       "      <td>e4fddcc5-5609-591a-9ffb-835b28d3d7ac</td>\n",
       "      <td>NaN</td>\n",
       "      <td>NaN</td>\n",
       "      <td>NaN</td>\n",
       "      <td>NaN</td>\n",
       "      <td>NaN</td>\n",
       "      <td>NaN</td>\n",
       "      <td>TCGA-A7-A0DC</td>\n",
       "      <td>TCGA-BRCA</td>\n",
       "    </tr>\n",
       "    <tr>\n",
       "      <th>1</th>\n",
       "      <td>TCGA-BRCA</td>\n",
       "      <td>TCGA-Z7-A8R6</td>\n",
       "      <td>No</td>\n",
       "      <td>0.0</td>\n",
       "      <td>NaN</td>\n",
       "      <td>NaN</td>\n",
       "      <td>Overlapping lesion of breast</td>\n",
       "      <td>16955.0</td>\n",
       "      <td>Pleomorphic carcinoma</td>\n",
       "      <td>2025-03-26T09:15:23.441986-05:00</td>\n",
       "      <td>...</td>\n",
       "      <td>NaN</td>\n",
       "      <td>ed1a9ed4-1b8f-5394-ada9-84750a14d767</td>\n",
       "      <td>False</td>\n",
       "      <td>NaN</td>\n",
       "      <td>United States</td>\n",
       "      <td>NaN</td>\n",
       "      <td>3256.0</td>\n",
       "      <td>TF-Tumor Free</td>\n",
       "      <td>TCGA-Z7-A8R6</td>\n",
       "      <td>TCGA-BRCA</td>\n",
       "    </tr>\n",
       "    <tr>\n",
       "      <th>2</th>\n",
       "      <td>TCGA-BRCA</td>\n",
       "      <td>TCGA-C8-A1HE</td>\n",
       "      <td>No</td>\n",
       "      <td>0.0</td>\n",
       "      <td>NaN</td>\n",
       "      <td>NaN</td>\n",
       "      <td>Breast, NOS</td>\n",
       "      <td>NaN</td>\n",
       "      <td>Infiltrating duct carcinoma, NOS</td>\n",
       "      <td>2025-03-26T09:15:23.441986-05:00</td>\n",
       "      <td>...</td>\n",
       "      <td>NaN</td>\n",
       "      <td>58f39567-33fc-52c5-b323-a98a553425e7</td>\n",
       "      <td>False</td>\n",
       "      <td>NaN</td>\n",
       "      <td>Vietnam</td>\n",
       "      <td>NaN</td>\n",
       "      <td>375.0</td>\n",
       "      <td>TF-Tumor Free</td>\n",
       "      <td>TCGA-C8-A1HE</td>\n",
       "      <td>TCGA-BRCA</td>\n",
       "    </tr>\n",
       "  </tbody>\n",
       "</table>\n",
       "<p>3 rows × 41 columns</p>\n",
       "</div>"
      ],
      "text/plain": [
       "     project  submitter_id synchronous_malignancy  days_to_diagnosis  \\\n",
       "0  TCGA-BRCA  TCGA-A7-A0DC                     No                0.0   \n",
       "1  TCGA-BRCA  TCGA-Z7-A8R6                     No                0.0   \n",
       "2  TCGA-BRCA  TCGA-C8-A1HE                     No                0.0   \n",
       "\n",
       "  created_datetime  last_known_disease_status     tissue_or_organ_of_origin  \\\n",
       "0              NaN                        NaN                   Breast, NOS   \n",
       "1              NaN                        NaN  Overlapping lesion of breast   \n",
       "2              NaN                        NaN                   Breast, NOS   \n",
       "\n",
       "   age_at_diagnosis                 primary_diagnosis  \\\n",
       "0           23294.0  Infiltrating duct carcinoma, NOS   \n",
       "1           16955.0             Pleomorphic carcinoma   \n",
       "2               NaN  Infiltrating duct carcinoma, NOS   \n",
       "\n",
       "                   updated_datetime  ... year_of_birth  \\\n",
       "0  2025-01-08T12:58:05.350809-06:00  ...        1946.0   \n",
       "1  2025-03-26T09:15:23.441986-05:00  ...           NaN   \n",
       "2  2025-03-26T09:15:23.441986-05:00  ...           NaN   \n",
       "\n",
       "                         demographic_id age_is_obfuscated year_of_death  \\\n",
       "0  e4fddcc5-5609-591a-9ffb-835b28d3d7ac               NaN           NaN   \n",
       "1  ed1a9ed4-1b8f-5394-ada9-84750a14d767             False           NaN   \n",
       "2  58f39567-33fc-52c5-b323-a98a553425e7             False           NaN   \n",
       "\n",
       "  country_of_residence_at_enrollment  days_to_death  days_to_last_follow_up  \\\n",
       "0                                NaN            NaN                     NaN   \n",
       "1                      United States            NaN                  3256.0   \n",
       "2                            Vietnam            NaN                   375.0   \n",
       "\n",
       "  follow_ups_disease_response bcr_patient_barcode    disease  \n",
       "0                         NaN        TCGA-A7-A0DC  TCGA-BRCA  \n",
       "1               TF-Tumor Free        TCGA-Z7-A8R6  TCGA-BRCA  \n",
       "2               TF-Tumor Free        TCGA-C8-A1HE  TCGA-BRCA  \n",
       "\n",
       "[3 rows x 41 columns]"
      ]
     },
     "execution_count": 5,
     "metadata": {},
     "output_type": "execute_result"
    }
   ],
   "source": [
    "clinical.head(3)"
   ]
  },
  {
   "cell_type": "code",
   "execution_count": 6,
   "metadata": {},
   "outputs": [
    {
     "name": "stdout",
     "output_type": "stream",
     "text": [
      "~~ MISSING DATA ~~\n",
      "\n",
      "synchronous_malignancy: 1334 (11.88%)\n",
      "days_to_diagnosis: 260 (2.32%)\n",
      "created_datetime: 11087 (98.74%)\n",
      "tissue_or_organ_of_origin: 132 (1.18%)\n",
      "age_at_diagnosis: 347 (3.09%)\n",
      "primary_diagnosis: 148 (1.32%)\n",
      "updated_datetime: 127 (1.13%)\n",
      "prior_malignancy: 1338 (11.92%)\n",
      "year_of_diagnosis: 281 (2.5%)\n",
      "state: 127 (1.13%)\n",
      "prior_treatment: 156 (1.39%)\n",
      "diagnosis_is_primary_disease: 135 (1.2%)\n",
      "morphology: 148 (1.32%)\n",
      "classification_of_tumor: 364 (3.24%)\n",
      "diagnosis_id: 127 (1.13%)\n",
      "icd_10_code: 504 (4.49%)\n",
      "site_of_resection_or_biopsy: 484 (4.31%)\n",
      "tumor_grade: 6582 (58.62%)\n",
      "race: 1005 (8.95%)\n",
      "gender: 136 (1.21%)\n",
      "ethnicity: 2293 (20.42%)\n",
      "vital_status: 156 (1.39%)\n",
      "age_at_index: 205 (1.83%)\n",
      "days_to_birth: 273 (2.43%)\n",
      "year_of_birth: 10943 (97.46%)\n",
      "demographic_id: 127 (1.13%)\n",
      "age_is_obfuscated: 135 (1.2%)\n",
      "year_of_death: 11201 (99.76%)\n",
      "country_of_residence_at_enrollment: 2731 (24.32%)\n",
      "days_to_death: 7733 (68.87%)\n",
      "days_to_last_follow_up: 192 (1.71%)\n",
      "follow_ups_disease_response: 957 (8.52%)\n"
     ]
    }
   ],
   "source": [
    "print('~~ MISSING DATA ~~')\n",
    "print()\n",
    "\n",
    "n = clinical.shape[0]\n",
    "\n",
    "for col in clinical.columns:\n",
    "    if col == 'submitter_id':\n",
    "        continue\n",
    "\n",
    "    n_levels = len(clinical[col].value_counts())\n",
    "    \n",
    "    if n_levels == n:\n",
    "        clinical = clinical.drop(columns=[col])\n",
    "    else:\n",
    "        n_missing = sum(clinical[col].isnull())\n",
    "        if n_missing > 0:\n",
    "            if n_missing == n:\n",
    "                clinical = clinical.drop(columns=[col])\n",
    "            else:\n",
    "                print(f'{col}: {n_missing} ({round(n_missing / n * 100, 2)}%)')"
   ]
  },
  {
   "cell_type": "code",
   "execution_count": 7,
   "metadata": {},
   "outputs": [
    {
     "data": {
      "text/plain": [
       "(11228, 35)"
      ]
     },
     "execution_count": 7,
     "metadata": {},
     "output_type": "execute_result"
    }
   ],
   "source": [
    "clinical.shape"
   ]
  },
  {
   "cell_type": "markdown",
   "metadata": {},
   "source": [
    "# Select variables\n",
    "\n",
    "Select a few variables to keep and drop the remaining ones."
   ]
  },
  {
   "cell_type": "code",
   "execution_count": 8,
   "metadata": {},
   "outputs": [
    {
     "data": {
      "text/plain": [
       "Index(['project', 'submitter_id', 'synchronous_malignancy',\n",
       "       'days_to_diagnosis', 'created_datetime', 'tissue_or_organ_of_origin',\n",
       "       'age_at_diagnosis', 'primary_diagnosis', 'updated_datetime',\n",
       "       'prior_malignancy', 'year_of_diagnosis', 'state', 'prior_treatment',\n",
       "       'diagnosis_is_primary_disease', 'morphology', 'classification_of_tumor',\n",
       "       'diagnosis_id', 'icd_10_code', 'site_of_resection_or_biopsy',\n",
       "       'tumor_grade', 'race', 'gender', 'ethnicity', 'vital_status',\n",
       "       'age_at_index', 'days_to_birth', 'year_of_birth', 'demographic_id',\n",
       "       'age_is_obfuscated', 'year_of_death',\n",
       "       'country_of_residence_at_enrollment', 'days_to_death',\n",
       "       'days_to_last_follow_up', 'follow_ups_disease_response', 'disease'],\n",
       "      dtype='object')"
      ]
     },
     "execution_count": 8,
     "metadata": {},
     "output_type": "execute_result"
    }
   ],
   "source": [
    "clinical.columns"
   ]
  },
  {
   "cell_type": "code",
   "execution_count": 9,
   "metadata": {},
   "outputs": [],
   "source": [
    "label_cols = ['submitter_id', 'days_to_last_follow_up', 'vital_status', 'days_to_death']\n",
    "\n",
    "keep_cols = ['age_at_diagnosis', 'ajcc_pathologic_stage', 'prior_treatment', 'prior_malignancy',\n",
    "             'synchronous_malignancy', 'gender', 'race', 'ethnicity', 'disease',\n",
    "             'treatments_pharmaceutical_treatment_or_therapy',\n",
    "             'treatments_radiation_treatment_or_therapy']\n",
    "\n",
    "columns_to_drop = [col for col in clinical.columns if col not in label_cols + keep_cols]\n",
    "clinical = clinical.drop(columns=columns_to_drop)"
   ]
  },
  {
   "cell_type": "code",
   "execution_count": 10,
   "metadata": {},
   "outputs": [
    {
     "name": "stdout",
     "output_type": "stream",
     "text": [
      "~~ MISSING DATA ~~\n",
      "\n",
      "synchronous_malignancy: 10 (0.91%)\n",
      "age_at_diagnosis: 16 (1.46%)\n",
      "prior_malignancy: 10 (0.91%)\n",
      "prior_treatment: 3 (0.27%)\n",
      "race: 96 (8.74%)\n",
      "gender: 1 (0.09%)\n",
      "ethnicity: 167 (15.21%)\n",
      "vital_status: 1 (0.09%)\n",
      "days_to_death: 947 (86.25%)\n",
      "days_to_last_follow_up: 2 (0.18%)\n",
      "treatments_pharmaceutical_treatment_or_therapy: 840 (76.5%)\n",
      "treatments_radiation_treatment_or_therapy: 80 (7.29%)\n"
     ]
    }
   ],
   "source": [
    "print('~~ MISSING DATA ~~')\n",
    "print()\n",
    "\n",
    "n = clinical.shape[0]\n",
    "\n",
    "for v in clinical.columns:\n",
    "    n_missing = sum(clinical[v].isnull())\n",
    "    if n_missing > 0:\n",
    "        if n_missing == n:\n",
    "            clinical = clinical.drop(columns=[v])\n",
    "        else:\n",
    "            print(f'{v}: {n_missing} ({round(n_missing / n * 100, 2)}%)')"
   ]
  },
  {
   "cell_type": "code",
   "execution_count": 11,
   "metadata": {},
   "outputs": [
    {
     "data": {
      "text/plain": [
       "(1098, 13)"
      ]
     },
     "execution_count": 11,
     "metadata": {},
     "output_type": "execute_result"
    }
   ],
   "source": [
    "clinical.shape"
   ]
  },
  {
   "cell_type": "code",
   "execution_count": 12,
   "metadata": {},
   "outputs": [
    {
     "data": {
      "text/plain": [
       "Index(['submitter_id', 'synchronous_malignancy', 'age_at_diagnosis',\n",
       "       'prior_malignancy', 'prior_treatment', 'race', 'gender', 'ethnicity',\n",
       "       'vital_status', 'days_to_death', 'days_to_last_follow_up',\n",
       "       'treatments_pharmaceutical_treatment_or_therapy',\n",
       "       'treatments_radiation_treatment_or_therapy'],\n",
       "      dtype='object')"
      ]
     },
     "execution_count": 12,
     "metadata": {},
     "output_type": "execute_result"
    }
   ],
   "source": [
    "clinical.columns"
   ]
  },
  {
   "cell_type": "code",
   "execution_count": 13,
   "metadata": {},
   "outputs": [
    {
     "data": {
      "text/plain": [
       "gender\n",
       "female    1085\n",
       "male        12\n",
       "Name: count, dtype: int64"
      ]
     },
     "execution_count": 13,
     "metadata": {},
     "output_type": "execute_result"
    }
   ],
   "source": [
    "clinical['gender'].value_counts()"
   ]
  },
  {
   "cell_type": "code",
   "execution_count": 14,
   "metadata": {},
   "outputs": [
    {
     "data": {
      "text/plain": [
       "race\n",
       "white                               757\n",
       "black or african american           183\n",
       "asian                                61\n",
       "american indian or alaska native      1\n",
       "Name: count, dtype: int64"
      ]
     },
     "execution_count": 14,
     "metadata": {},
     "output_type": "execute_result"
    }
   ],
   "source": [
    "clinical['race'].value_counts()"
   ]
  },
  {
   "cell_type": "code",
   "execution_count": 15,
   "metadata": {},
   "outputs": [
    {
     "data": {
      "text/plain": [
       "ethnicity\n",
       "not hispanic or latino    884\n",
       "hispanic or latino         39\n",
       "Unknown                     8\n",
       "Name: count, dtype: int64"
      ]
     },
     "execution_count": 15,
     "metadata": {},
     "output_type": "execute_result"
    }
   ],
   "source": [
    "clinical['ethnicity'].value_counts()"
   ]
  },
  {
   "cell_type": "code",
   "execution_count": 16,
   "metadata": {},
   "outputs": [
    {
     "data": {
      "text/plain": [
       "prior_malignancy\n",
       "no     1050\n",
       "yes      38\n",
       "Name: count, dtype: int64"
      ]
     },
     "execution_count": 16,
     "metadata": {},
     "output_type": "execute_result"
    }
   ],
   "source": [
    "clinical['prior_malignancy'].value_counts()"
   ]
  },
  {
   "cell_type": "code",
   "execution_count": 17,
   "metadata": {},
   "outputs": [
    {
     "data": {
      "text/plain": [
       "vital_status\n",
       "Alive    945\n",
       "Dead     152\n",
       "Name: count, dtype: int64"
      ]
     },
     "execution_count": 17,
     "metadata": {},
     "output_type": "execute_result"
    }
   ],
   "source": [
    "clinical['vital_status'].value_counts()"
   ]
  },
  {
   "cell_type": "code",
   "execution_count": 18,
   "metadata": {},
   "outputs": [
    {
     "data": {
      "text/plain": [
       "<Axes: ylabel='Frequency'>"
      ]
     },
     "execution_count": 18,
     "metadata": {},
     "output_type": "execute_result"
    },
    {
     "data": {
      "image/png": "[encoded data removed]",
      "text/plain": [
       "<Figure size 640x480 with 1 Axes>"
      ]
     },
     "metadata": {},
     "output_type": "display_data"
    }
   ],
   "source": [
    "clinical['days_to_last_follow_up'].plot(kind='hist')"
   ]
  },
  {
   "cell_type": "code",
   "execution_count": 19,
   "metadata": {},
   "outputs": [
    {
     "data": {
      "text/plain": [
       "<Axes: >"
      ]
     },
     "execution_count": 19,
     "metadata": {},
     "output_type": "execute_result"
    },
    {
     "data": {
      "image/png": "[encoded data removed]",
      "text/plain": [
       "<Figure size 640x480 with 1 Axes>"
      ]
     },
     "metadata": {},
     "output_type": "display_data"
    }
   ],
   "source": [
    "clinical['days_to_death'].plot(kind='box')"
   ]
  },
  {
   "cell_type": "code",
   "execution_count": 20,
   "metadata": {},
   "outputs": [
    {
     "data": {
      "text/plain": [
       "<Axes: >"
      ]
     },
     "execution_count": 20,
     "metadata": {},
     "output_type": "execute_result"
    },
    {
     "data": {
      "image/png": "[encoded data removed]",
      "text/plain": [
       "<Figure size 640x480 with 1 Axes>"
      ]
     },
     "metadata": {},
     "output_type": "display_data"
    }
   ],
   "source": [
    "clinical['days_to_death'].sort_values(ascending=False).plot(use_index=False)"
   ]
  },
  {
   "cell_type": "code",
   "execution_count": 21,
   "metadata": {},
   "outputs": [
    {
     "data": {
      "text/plain": [
       "<Axes: >"
      ]
     },
     "execution_count": 21,
     "metadata": {},
     "output_type": "execute_result"
    },
    {
     "data": {
      "image/png": "[encoded data removed]",
      "text/plain": [
       "<Figure size 640x480 with 1 Axes>"
      ]
     },
     "metadata": {},
     "output_type": "display_data"
    }
   ],
   "source": [
    "clinical['days_to_last_follow_up'].plot(kind='box')"
   ]
  },
  {
   "cell_type": "code",
   "execution_count": 22,
   "metadata": {},
   "outputs": [
    {
     "data": {
      "text/plain": [
       "<Axes: >"
      ]
     },
     "execution_count": 22,
     "metadata": {},
     "output_type": "execute_result"
    },
    {
     "data": {
      "image/png": "[encoded data removed]",
      "text/plain": [
       "<Figure size 640x480 with 1 Axes>"
      ]
     },
     "metadata": {},
     "output_type": "display_data"
    }
   ],
   "source": [
    "clinical['age_at_diagnosis'].apply(lambda x: -x/365).plot(kind='box')"
   ]
  },
  {
   "cell_type": "code",
   "execution_count": 23,
   "metadata": {},
   "outputs": [
    {
     "data": {
      "text/plain": [
       "<Axes: >"
      ]
     },
     "execution_count": 23,
     "metadata": {},
     "output_type": "execute_result"
    },
    {
     "data": {
      "image/png": "[encoded data removed]",
      "text/plain": [
       "<Figure size 640x480 with 1 Axes>"
      ]
     },
     "metadata": {},
     "output_type": "display_data"
    }
   ],
   "source": [
    "clinical['age_at_diagnosis'].sort_values(ascending=False).plot(use_index=False)"
   ]
  },
  {
   "cell_type": "code",
   "execution_count": 24,
   "metadata": {},
   "outputs": [
    {
     "data": {
      "text/html": [
       "<div>\n",
       "<style scoped>\n",
       "    .dataframe tbody tr th:only-of-type {\n",
       "        vertical-align: middle;\n",
       "    }\n",
       "\n",
       "    .dataframe tbody tr th {\n",
       "        vertical-align: top;\n",
       "    }\n",
       "\n",
       "    .dataframe thead th {\n",
       "        text-align: right;\n",
       "    }\n",
       "</style>\n",
       "<table border=\"1\" class=\"dataframe\">\n",
       "  <thead>\n",
       "    <tr style=\"text-align: right;\">\n",
       "      <th></th>\n",
       "      <th>age_at_diagnosis</th>\n",
       "      <th>days_to_death</th>\n",
       "      <th>days_to_last_follow_up</th>\n",
       "    </tr>\n",
       "  </thead>\n",
       "  <tbody>\n",
       "    <tr>\n",
       "      <th>count</th>\n",
       "      <td>1082.000000</td>\n",
       "      <td>151.000000</td>\n",
       "      <td>1096.000000</td>\n",
       "    </tr>\n",
       "    <tr>\n",
       "      <th>mean</th>\n",
       "      <td>21586.841035</td>\n",
       "      <td>1584.615894</td>\n",
       "      <td>1232.410584</td>\n",
       "    </tr>\n",
       "    <tr>\n",
       "      <th>std</th>\n",
       "      <td>4814.111822</td>\n",
       "      <td>1312.070221</td>\n",
       "      <td>1192.038846</td>\n",
       "    </tr>\n",
       "    <tr>\n",
       "      <th>min</th>\n",
       "      <td>9706.000000</td>\n",
       "      <td>0.000000</td>\n",
       "      <td>-7.000000</td>\n",
       "    </tr>\n",
       "    <tr>\n",
       "      <th>25%</th>\n",
       "      <td>18028.250000</td>\n",
       "      <td>613.000000</td>\n",
       "      <td>441.750000</td>\n",
       "    </tr>\n",
       "    <tr>\n",
       "      <th>50%</th>\n",
       "      <td>21560.500000</td>\n",
       "      <td>1152.000000</td>\n",
       "      <td>821.500000</td>\n",
       "    </tr>\n",
       "    <tr>\n",
       "      <th>75%</th>\n",
       "      <td>24868.750000</td>\n",
       "      <td>2322.000000</td>\n",
       "      <td>1673.000000</td>\n",
       "    </tr>\n",
       "    <tr>\n",
       "      <th>max</th>\n",
       "      <td>32872.000000</td>\n",
       "      <td>7455.000000</td>\n",
       "      <td>8605.000000</td>\n",
       "    </tr>\n",
       "  </tbody>\n",
       "</table>\n",
       "</div>"
      ],
      "text/plain": [
       "       age_at_diagnosis  days_to_death  days_to_last_follow_up\n",
       "count       1082.000000     151.000000             1096.000000\n",
       "mean       21586.841035    1584.615894             1232.410584\n",
       "std         4814.111822    1312.070221             1192.038846\n",
       "min         9706.000000       0.000000               -7.000000\n",
       "25%        18028.250000     613.000000              441.750000\n",
       "50%        21560.500000    1152.000000              821.500000\n",
       "75%        24868.750000    2322.000000             1673.000000\n",
       "max        32872.000000    7455.000000             8605.000000"
      ]
     },
     "execution_count": 24,
     "metadata": {},
     "output_type": "execute_result"
    }
   ],
   "source": [
    "clinical.describe()"
   ]
  },
  {
   "cell_type": "code",
   "execution_count": 25,
   "metadata": {},
   "outputs": [
    {
     "name": "stdout",
     "output_type": "stream",
     "text": [
      "<class 'pandas.core.frame.DataFrame'>\n",
      "RangeIndex: 1098 entries, 0 to 1097\n",
      "Data columns (total 13 columns):\n",
      " #   Column                                          Non-Null Count  Dtype  \n",
      "---  ------                                          --------------  -----  \n",
      " 0   submitter_id                                    1098 non-null   object \n",
      " 1   synchronous_malignancy                          1088 non-null   object \n",
      " 2   age_at_diagnosis                                1082 non-null   float64\n",
      " 3   prior_malignancy                                1088 non-null   object \n",
      " 4   prior_treatment                                 1095 non-null   object \n",
      " 5   race                                            1002 non-null   object \n",
      " 6   gender                                          1097 non-null   object \n",
      " 7   ethnicity                                       931 non-null    object \n",
      " 8   vital_status                                    1097 non-null   object \n",
      " 9   days_to_death                                   151 non-null    float64\n",
      " 10  days_to_last_follow_up                          1096 non-null   float64\n",
      " 11  treatments_pharmaceutical_treatment_or_therapy  258 non-null    object \n",
      " 12  treatments_radiation_treatment_or_therapy       1018 non-null   object \n",
      "dtypes: float64(3), object(10)\n",
      "memory usage: 111.6+ KB\n"
     ]
    }
   ],
   "source": [
    "clinical.info()"
   ]
  },
  {
   "cell_type": "markdown",
   "metadata": {},
   "source": [
    "Rename `disease` column as `project_id` and set it as table index."
   ]
  },
  {
   "cell_type": "code",
   "execution_count": 26,
   "metadata": {},
   "outputs": [],
   "source": [
    "clinical = clinical.rename(columns={'disease': 'project_id'})"
   ]
  },
  {
   "cell_type": "code",
   "execution_count": 27,
   "metadata": {},
   "outputs": [],
   "source": [
    "clinical = clinical.set_index('submitter_id')"
   ]
  },
  {
   "cell_type": "markdown",
   "metadata": {},
   "source": [
    "# Clean up inconsistencies"
   ]
  },
  {
   "cell_type": "markdown",
   "metadata": {},
   "source": [
    "## Consolidate `race` and `ethnicity`\n",
    "\n",
    "Whenever `race` value is \"white\" or missing replace it by `ethnicity` value (if present). Then drop ethnicity column."
   ]
  },
  {
   "cell_type": "code",
   "execution_count": 28,
   "metadata": {},
   "outputs": [],
   "source": [
    "race_subset = clinical['race'].isnull()\n",
    "ethnicity_subset = ~clinical['ethnicity'].isnull()\n",
    "subset = race_subset & ethnicity_subset\n",
    "clinical.loc[subset, 'race'] = clinical.loc[subset, 'ethnicity']"
   ]
  },
  {
   "cell_type": "code",
   "execution_count": 29,
   "metadata": {},
   "outputs": [],
   "source": [
    "race_subset = (clinical['race'] == 'white')\n",
    "ethnicity_subset = (~clinical['ethnicity'].isnull() &\n",
    "                    (clinical['ethnicity'] == 'hispanic or latino'))\n",
    "subset = race_subset & ethnicity_subset\n",
    "clinical.loc[subset, 'race'] = clinical.loc[subset, 'ethnicity']"
   ]
  },
  {
   "cell_type": "code",
   "execution_count": 30,
   "metadata": {},
   "outputs": [
    {
     "data": {
      "text/plain": [
       "(723, 12)"
      ]
     },
     "execution_count": 30,
     "metadata": {},
     "output_type": "execute_result"
    }
   ],
   "source": [
    "clinical.loc[clinical['race'] == 'white', ].shape"
   ]
  },
  {
   "cell_type": "code",
   "execution_count": 31,
   "metadata": {},
   "outputs": [],
   "source": [
    "clinical = clinical.drop('ethnicity', axis=1)"
   ]
  },
  {
   "cell_type": "markdown",
   "metadata": {},
   "source": [
    "## Missing label data\n",
    "\n",
    "The data show some inconsistencies, such as patients missing `vital_status` information, showing negative `days_to_last_follow_up` values, or missing `days_to_death` values. This is addressed in a few discussions under GitHub issues. [In one of them](https://github.com/BioinformaticsFMRP/TCGAbiolinks/issues/324) someone asked and got the following explanation from the GDC:\n",
    "\n",
    "> \"I have talked to our Clinical Data Scientist and she said that these values can seem strange due to how TCGA and third parties handled patient data. For the negative follow up dates, this can be caused by the pathology report being made at a secondary institution that does the surgery, even though the patient was diagnosed at a local hospital. The larger institution/center eventually reports back the pathologic findings from the surgery, but they never receive follow-up information about the patient. Thus, the days to diagnosis would have been the date the pathology report was signed out, which is always day 0, but the last time the patient was seen relative to that date could have been days or weeks prior to that report being signed out. Basically, we are aware that these negative dates exist, and they are caused by pathology report dates taking priority as day 0. For the patients without days_to_death, this is the case that they knew the patient was deceased, but they were uncertain of the exact date. Thus, when filling out the clinical information they left this intentionally blank..\"\n",
    "\n",
    "Here, I will simply drop these patients from data. I did manually check on the online database the negative values, which matched my downloaded data."
   ]
  },
  {
   "cell_type": "markdown",
   "metadata": {},
   "source": [
    "### `vital_status`"
   ]
  },
  {
   "cell_type": "code",
   "execution_count": 32,
   "metadata": {},
   "outputs": [
    {
     "name": "stdout",
     "output_type": "stream",
     "text": [
      "~~ MISSING DATA ~~\n",
      "\n",
      "synchronous_malignancy: 10 (0.91%)\n",
      "prior_treatment: 3 (0.27%)\n",
      "vital_status: 1 (0.09%)\n",
      "treatments_pharmaceutical_treatment_or_therapy: 840 (76.5%)\n",
      "treatments_radiation_treatment_or_therapy: 80 (7.29%)\n"
     ]
    }
   ],
   "source": [
    "print('~~ MISSING DATA ~~')\n",
    "print()\n",
    "skip = ['gender', 'race', 'ethnicity', 'prior_malignancy',\n",
    "        'age_at_diagnosis', 'days_to_death', 'days_to_last_follow_up']\n",
    "\n",
    "n = clinical.shape[0]\n",
    "\n",
    "for v in clinical.columns:\n",
    "    if v not in skip:\n",
    "        n_missing = sum(clinical[v].isnull())\n",
    "        print(f'{v}: {n_missing} ({round(n_missing / n * 100, 2)}%)')"
   ]
  },
  {
   "cell_type": "code",
   "execution_count": 33,
   "metadata": {},
   "outputs": [],
   "source": [
    "# Drop patients missing \"vital_status\" information\n",
    "subset = ~clinical.vital_status.isna()\n",
    "clinical = clinical.loc[subset]"
   ]
  },
  {
   "cell_type": "markdown",
   "metadata": {},
   "source": [
    "### Both duration values\n",
    "\n",
    "Patients missing both time to death and time to last follow up variables cannot be included in a survival study."
   ]
  },
  {
   "cell_type": "code",
   "execution_count": 34,
   "metadata": {},
   "outputs": [
    {
     "name": "stdout",
     "output_type": "stream",
     "text": [
      "# patients missing both duration columns: 1\n"
     ]
    }
   ],
   "source": [
    "missing_duration_data = clinical[\n",
    "    clinical['days_to_death'].isna() &\n",
    "    clinical['days_to_last_follow_up'].isna()]\n",
    "\n",
    "print('# patients missing both duration columns:', missing_duration_data.shape[0])"
   ]
  },
  {
   "cell_type": "code",
   "execution_count": 35,
   "metadata": {},
   "outputs": [
    {
     "data": {
      "text/html": [
       "<div>\n",
       "<style scoped>\n",
       "    .dataframe tbody tr th:only-of-type {\n",
       "        vertical-align: middle;\n",
       "    }\n",
       "\n",
       "    .dataframe tbody tr th {\n",
       "        vertical-align: top;\n",
       "    }\n",
       "\n",
       "    .dataframe thead th {\n",
       "        text-align: right;\n",
       "    }\n",
       "</style>\n",
       "<table border=\"1\" class=\"dataframe\">\n",
       "  <thead>\n",
       "    <tr style=\"text-align: right;\">\n",
       "      <th></th>\n",
       "      <th>synchronous_malignancy</th>\n",
       "      <th>age_at_diagnosis</th>\n",
       "      <th>prior_malignancy</th>\n",
       "      <th>prior_treatment</th>\n",
       "      <th>race</th>\n",
       "      <th>gender</th>\n",
       "      <th>vital_status</th>\n",
       "      <th>days_to_death</th>\n",
       "      <th>days_to_last_follow_up</th>\n",
       "      <th>treatments_pharmaceutical_treatment_or_therapy</th>\n",
       "      <th>treatments_radiation_treatment_or_therapy</th>\n",
       "    </tr>\n",
       "    <tr>\n",
       "      <th>submitter_id</th>\n",
       "      <th></th>\n",
       "      <th></th>\n",
       "      <th></th>\n",
       "      <th></th>\n",
       "      <th></th>\n",
       "      <th></th>\n",
       "      <th></th>\n",
       "      <th></th>\n",
       "      <th></th>\n",
       "      <th></th>\n",
       "      <th></th>\n",
       "    </tr>\n",
       "  </thead>\n",
       "  <tbody>\n",
       "    <tr>\n",
       "      <th>TCGA-A7-A0DC</th>\n",
       "      <td>No</td>\n",
       "      <td>23294.0</td>\n",
       "      <td>no</td>\n",
       "      <td>No</td>\n",
       "      <td>white</td>\n",
       "      <td>female</td>\n",
       "      <td>Alive</td>\n",
       "      <td>NaN</td>\n",
       "      <td>NaN</td>\n",
       "      <td>yes</td>\n",
       "      <td>yes</td>\n",
       "    </tr>\n",
       "  </tbody>\n",
       "</table>\n",
       "</div>"
      ],
      "text/plain": [
       "             synchronous_malignancy  age_at_diagnosis prior_malignancy  \\\n",
       "submitter_id                                                             \n",
       "TCGA-A7-A0DC                     No           23294.0               no   \n",
       "\n",
       "             prior_treatment   race  gender vital_status  days_to_death  \\\n",
       "submitter_id                                                              \n",
       "TCGA-A7-A0DC              No  white  female        Alive            NaN   \n",
       "\n",
       "              days_to_last_follow_up  \\\n",
       "submitter_id                           \n",
       "TCGA-A7-A0DC                     NaN   \n",
       "\n",
       "             treatments_pharmaceutical_treatment_or_therapy  \\\n",
       "submitter_id                                                  \n",
       "TCGA-A7-A0DC                                            yes   \n",
       "\n",
       "             treatments_radiation_treatment_or_therapy  \n",
       "submitter_id                                            \n",
       "TCGA-A7-A0DC                                       yes  "
      ]
     },
     "execution_count": 35,
     "metadata": {},
     "output_type": "execute_result"
    }
   ],
   "source": [
    "missing_duration_data.head()"
   ]
  },
  {
   "cell_type": "code",
   "execution_count": 36,
   "metadata": {},
   "outputs": [],
   "source": [
    "# Remove missing data\n",
    "subset = ~(clinical['days_to_death'].isna() &\n",
    "           clinical['days_to_last_follow_up'].isna())\n",
    "clinical = clinical.loc[subset]"
   ]
  },
  {
   "cell_type": "code",
   "execution_count": 37,
   "metadata": {},
   "outputs": [
    {
     "data": {
      "text/plain": [
       "(1096, 11)"
      ]
     },
     "execution_count": 37,
     "metadata": {},
     "output_type": "execute_result"
    }
   ],
   "source": [
    "clinical.shape"
   ]
  },
  {
   "cell_type": "markdown",
   "metadata": {},
   "source": [
    "### Required duration value\n",
    "\n",
    "Patients alive at the end of the study require time to last follow up information. Dead patients require time to death information."
   ]
  },
  {
   "cell_type": "code",
   "execution_count": 38,
   "metadata": {},
   "outputs": [
    {
     "name": "stdout",
     "output_type": "stream",
     "text": [
      "# patients missing \"days_to_last_follow_up\" when \"vital_status\" is \"Alive\": 0\n"
     ]
    }
   ],
   "source": [
    "print('# patients missing \"days_to_last_follow_up\" when \"vital_status\" is \"Alive\":',\n",
    "      clinical[(clinical.vital_status == 'Alive') &\n",
    "               clinical.days_to_last_follow_up.isna()].shape[0])"
   ]
  },
  {
   "cell_type": "code",
   "execution_count": 39,
   "metadata": {},
   "outputs": [
    {
     "name": "stdout",
     "output_type": "stream",
     "text": [
      "# patients missing \"days_to_death\" when \"vital_status\" is \"Dead\": 1\n"
     ]
    }
   ],
   "source": [
    "print('# patients missing \"days_to_death\" when \"vital_status\" is \"Dead\":',\n",
    "      clinical[(clinical.vital_status == 'Dead') &\n",
    "               clinical.days_to_death.isna()].shape[0])"
   ]
  },
  {
   "cell_type": "code",
   "execution_count": 40,
   "metadata": {},
   "outputs": [],
   "source": [
    "# Remove missing data\n",
    "subset = ~((clinical.vital_status == 'Dead') &\n",
    "           clinical.days_to_death.isna())\n",
    "clinical = clinical.loc[subset]"
   ]
  },
  {
   "cell_type": "markdown",
   "metadata": {},
   "source": [
    "## Not missing `days_to_last_follow_up` when `vital_status` is \"Dead\""
   ]
  },
  {
   "cell_type": "code",
   "execution_count": 41,
   "metadata": {},
   "outputs": [
    {
     "name": "stdout",
     "output_type": "stream",
     "text": [
      "\"Days to death\" variable missing for all patients still alive? True\n"
     ]
    }
   ],
   "source": [
    "print('\"Days to death\" variable missing for all patients still alive?',\n",
    "      all(clinical[clinical.vital_status == 'Alive'].days_to_death.isna()))"
   ]
  },
  {
   "cell_type": "code",
   "execution_count": 42,
   "metadata": {},
   "outputs": [
    {
     "name": "stdout",
     "output_type": "stream",
     "text": [
      "\"Days to last follow up\" variable missing for all dead patients? False\n"
     ]
    }
   ],
   "source": [
    "print('\"Days to last follow up\" variable missing for all dead patients?',\n",
    "      all(clinical[clinical.vital_status == 'Dead'].days_to_last_follow_up.isna()))"
   ]
  },
  {
   "cell_type": "code",
   "execution_count": 43,
   "metadata": {},
   "outputs": [],
   "source": [
    "# Insert \"NaN\" in \"days_to_last_follow_up\" when \"vital_status\" is \"Dead\" \n",
    "subset = clinical.vital_status == 'Dead'\n",
    "clinical.loc[subset, 'days_to_last_follow_up'] = None"
   ]
  },
  {
   "cell_type": "code",
   "execution_count": 44,
   "metadata": {},
   "outputs": [
    {
     "name": "stdout",
     "output_type": "stream",
     "text": [
      "\"Days to last follow up\" variable missing for all dead patients? True\n"
     ]
    }
   ],
   "source": [
    "print('\"Days to last follow up\" variable missing for all dead patients?',\n",
    "      all(clinical[clinical.vital_status == 'Dead'].days_to_last_follow_up.isna()))"
   ]
  },
  {
   "cell_type": "markdown",
   "metadata": {},
   "source": [
    "## Negative durations"
   ]
  },
  {
   "cell_type": "code",
   "execution_count": 45,
   "metadata": {},
   "outputs": [
    {
     "data": {
      "text/html": [
       "<div>\n",
       "<style scoped>\n",
       "    .dataframe tbody tr th:only-of-type {\n",
       "        vertical-align: middle;\n",
       "    }\n",
       "\n",
       "    .dataframe tbody tr th {\n",
       "        vertical-align: top;\n",
       "    }\n",
       "\n",
       "    .dataframe thead th {\n",
       "        text-align: right;\n",
       "    }\n",
       "</style>\n",
       "<table border=\"1\" class=\"dataframe\">\n",
       "  <thead>\n",
       "    <tr style=\"text-align: right;\">\n",
       "      <th></th>\n",
       "      <th>synchronous_malignancy</th>\n",
       "      <th>age_at_diagnosis</th>\n",
       "      <th>prior_malignancy</th>\n",
       "      <th>prior_treatment</th>\n",
       "      <th>race</th>\n",
       "      <th>gender</th>\n",
       "      <th>vital_status</th>\n",
       "      <th>days_to_death</th>\n",
       "      <th>days_to_last_follow_up</th>\n",
       "      <th>treatments_pharmaceutical_treatment_or_therapy</th>\n",
       "      <th>treatments_radiation_treatment_or_therapy</th>\n",
       "    </tr>\n",
       "    <tr>\n",
       "      <th>submitter_id</th>\n",
       "      <th></th>\n",
       "      <th></th>\n",
       "      <th></th>\n",
       "      <th></th>\n",
       "      <th></th>\n",
       "      <th></th>\n",
       "      <th></th>\n",
       "      <th></th>\n",
       "      <th></th>\n",
       "      <th></th>\n",
       "      <th></th>\n",
       "    </tr>\n",
       "  </thead>\n",
       "  <tbody>\n",
       "    <tr>\n",
       "      <th>TCGA-PL-A8LV</th>\n",
       "      <td>No</td>\n",
       "      <td>19746.0</td>\n",
       "      <td>no</td>\n",
       "      <td>No</td>\n",
       "      <td>black or african american</td>\n",
       "      <td>female</td>\n",
       "      <td>Alive</td>\n",
       "      <td>NaN</td>\n",
       "      <td>-7.0</td>\n",
       "      <td>unknown</td>\n",
       "      <td>unknown</td>\n",
       "    </tr>\n",
       "  </tbody>\n",
       "</table>\n",
       "</div>"
      ],
      "text/plain": [
       "             synchronous_malignancy  age_at_diagnosis prior_malignancy  \\\n",
       "submitter_id                                                             \n",
       "TCGA-PL-A8LV                     No           19746.0               no   \n",
       "\n",
       "             prior_treatment                       race  gender vital_status  \\\n",
       "submitter_id                                                                   \n",
       "TCGA-PL-A8LV              No  black or african american  female        Alive   \n",
       "\n",
       "              days_to_death  days_to_last_follow_up  \\\n",
       "submitter_id                                          \n",
       "TCGA-PL-A8LV            NaN                    -7.0   \n",
       "\n",
       "             treatments_pharmaceutical_treatment_or_therapy  \\\n",
       "submitter_id                                                  \n",
       "TCGA-PL-A8LV                                        unknown   \n",
       "\n",
       "             treatments_radiation_treatment_or_therapy  \n",
       "submitter_id                                            \n",
       "TCGA-PL-A8LV                                   unknown  "
      ]
     },
     "execution_count": 45,
     "metadata": {},
     "output_type": "execute_result"
    }
   ],
   "source": [
    "clinical[clinical.days_to_last_follow_up < 0]"
   ]
  },
  {
   "cell_type": "code",
   "execution_count": 46,
   "metadata": {},
   "outputs": [],
   "source": [
    "# Remove data\n",
    "subset = ~((clinical.days_to_last_follow_up < 0) &\n",
    "           (clinical.vital_status == 'Alive'))\n",
    "clinical = clinical.loc[subset]"
   ]
  },
  {
   "cell_type": "code",
   "execution_count": 47,
   "metadata": {},
   "outputs": [
    {
     "data": {
      "text/plain": [
       "(1094, 11)"
      ]
     },
     "execution_count": 47,
     "metadata": {},
     "output_type": "execute_result"
    }
   ],
   "source": [
    "clinical.shape"
   ]
  },
  {
   "cell_type": "markdown",
   "metadata": {},
   "source": [
    "# Label data\n",
    "\n",
    "Collect duration label: `days_to_last_follow_up` and `days_to_death` for live and dead patients, respectively."
   ]
  },
  {
   "cell_type": "code",
   "execution_count": 48,
   "metadata": {},
   "outputs": [],
   "source": [
    "def get_duration(vital_status, days_to_death, days_to_last_follow_up):\n",
    "    if vital_status == 'Dead':\n",
    "        return days_to_death\n",
    "    elif vital_status == 'Alive':\n",
    "        return days_to_last_follow_up\n",
    "    else:\n",
    "        print('Found NaN in duration!')\n",
    "\n",
    "def get_events(vital_status):\n",
    "    if vital_status in ['1', 'Dead']:\n",
    "        return 1\n",
    "    elif vital_status in ['0', 'Alive']:\n",
    "        return 0\n",
    "    else:\n",
    "        print('Found NaN in vital status!')"
   ]
  },
  {
   "cell_type": "code",
   "execution_count": 49,
   "metadata": {},
   "outputs": [],
   "source": [
    "d = {'submitter_id': clinical.index,\n",
    "     'time': clinical.apply(\n",
    "         lambda x: get_duration(x['vital_status'], x['days_to_death'],\n",
    "                                x['days_to_last_follow_up']), axis=1).values,\n",
    "     'event': clinical.apply(\n",
    "         lambda x: get_events(x['vital_status']), axis=1).values}"
   ]
  },
  {
   "cell_type": "code",
   "execution_count": 50,
   "metadata": {},
   "outputs": [],
   "source": [
    "survival = pd.DataFrame.from_dict(d).astype(\n",
    "    {'submitter_id': 'object', 'time': 'int64', 'event': 'int64'})"
   ]
  },
  {
   "cell_type": "code",
   "execution_count": 51,
   "metadata": {},
   "outputs": [],
   "source": [
    "clinical = clinical.join(survival.set_index('submitter_id'))"
   ]
  },
  {
   "cell_type": "code",
   "execution_count": 52,
   "metadata": {},
   "outputs": [
    {
     "data": {
      "text/html": [
       "<div>\n",
       "<style scoped>\n",
       "    .dataframe tbody tr th:only-of-type {\n",
       "        vertical-align: middle;\n",
       "    }\n",
       "\n",
       "    .dataframe tbody tr th {\n",
       "        vertical-align: top;\n",
       "    }\n",
       "\n",
       "    .dataframe thead th {\n",
       "        text-align: right;\n",
       "    }\n",
       "</style>\n",
       "<table border=\"1\" class=\"dataframe\">\n",
       "  <thead>\n",
       "    <tr style=\"text-align: right;\">\n",
       "      <th></th>\n",
       "      <th>synchronous_malignancy</th>\n",
       "      <th>age_at_diagnosis</th>\n",
       "      <th>prior_malignancy</th>\n",
       "      <th>prior_treatment</th>\n",
       "      <th>race</th>\n",
       "      <th>gender</th>\n",
       "      <th>vital_status</th>\n",
       "      <th>days_to_death</th>\n",
       "      <th>days_to_last_follow_up</th>\n",
       "      <th>treatments_pharmaceutical_treatment_or_therapy</th>\n",
       "      <th>treatments_radiation_treatment_or_therapy</th>\n",
       "      <th>time</th>\n",
       "      <th>event</th>\n",
       "    </tr>\n",
       "    <tr>\n",
       "      <th>submitter_id</th>\n",
       "      <th></th>\n",
       "      <th></th>\n",
       "      <th></th>\n",
       "      <th></th>\n",
       "      <th></th>\n",
       "      <th></th>\n",
       "      <th></th>\n",
       "      <th></th>\n",
       "      <th></th>\n",
       "      <th></th>\n",
       "      <th></th>\n",
       "      <th></th>\n",
       "      <th></th>\n",
       "    </tr>\n",
       "  </thead>\n",
       "  <tbody>\n",
       "    <tr>\n",
       "      <th>TCGA-Z7-A8R6</th>\n",
       "      <td>No</td>\n",
       "      <td>16955.0</td>\n",
       "      <td>no</td>\n",
       "      <td>No</td>\n",
       "      <td>white</td>\n",
       "      <td>female</td>\n",
       "      <td>Alive</td>\n",
       "      <td>NaN</td>\n",
       "      <td>3256.0</td>\n",
       "      <td>yes</td>\n",
       "      <td>no</td>\n",
       "      <td>3256</td>\n",
       "      <td>0</td>\n",
       "    </tr>\n",
       "    <tr>\n",
       "      <th>TCGA-C8-A1HE</th>\n",
       "      <td>No</td>\n",
       "      <td>NaN</td>\n",
       "      <td>no</td>\n",
       "      <td>No</td>\n",
       "      <td>asian</td>\n",
       "      <td>female</td>\n",
       "      <td>Alive</td>\n",
       "      <td>NaN</td>\n",
       "      <td>375.0</td>\n",
       "      <td>yes</td>\n",
       "      <td>no</td>\n",
       "      <td>375</td>\n",
       "      <td>0</td>\n",
       "    </tr>\n",
       "    <tr>\n",
       "      <th>TCGA-A8-A07B</th>\n",
       "      <td>No</td>\n",
       "      <td>25475.0</td>\n",
       "      <td>no</td>\n",
       "      <td>No</td>\n",
       "      <td>NaN</td>\n",
       "      <td>female</td>\n",
       "      <td>Alive</td>\n",
       "      <td>NaN</td>\n",
       "      <td>1308.0</td>\n",
       "      <td>no</td>\n",
       "      <td>no</td>\n",
       "      <td>1308</td>\n",
       "      <td>0</td>\n",
       "    </tr>\n",
       "    <tr>\n",
       "      <th>TCGA-AC-A2FM</th>\n",
       "      <td>No</td>\n",
       "      <td>31805.0</td>\n",
       "      <td>no</td>\n",
       "      <td>No</td>\n",
       "      <td>white</td>\n",
       "      <td>female</td>\n",
       "      <td>Dead</td>\n",
       "      <td>792.0</td>\n",
       "      <td>NaN</td>\n",
       "      <td>no</td>\n",
       "      <td>no</td>\n",
       "      <td>792</td>\n",
       "      <td>1</td>\n",
       "    </tr>\n",
       "    <tr>\n",
       "      <th>TCGA-B6-A1KF</th>\n",
       "      <td>No</td>\n",
       "      <td>24891.0</td>\n",
       "      <td>no</td>\n",
       "      <td>No</td>\n",
       "      <td>white</td>\n",
       "      <td>female</td>\n",
       "      <td>Alive</td>\n",
       "      <td>NaN</td>\n",
       "      <td>3088.0</td>\n",
       "      <td>yes</td>\n",
       "      <td>yes</td>\n",
       "      <td>3088</td>\n",
       "      <td>0</td>\n",
       "    </tr>\n",
       "  </tbody>\n",
       "</table>\n",
       "</div>"
      ],
      "text/plain": [
       "             synchronous_malignancy  age_at_diagnosis prior_malignancy  \\\n",
       "submitter_id                                                             \n",
       "TCGA-Z7-A8R6                     No           16955.0               no   \n",
       "TCGA-C8-A1HE                     No               NaN               no   \n",
       "TCGA-A8-A07B                     No           25475.0               no   \n",
       "TCGA-AC-A2FM                     No           31805.0               no   \n",
       "TCGA-B6-A1KF                     No           24891.0               no   \n",
       "\n",
       "             prior_treatment   race  gender vital_status  days_to_death  \\\n",
       "submitter_id                                                              \n",
       "TCGA-Z7-A8R6              No  white  female        Alive            NaN   \n",
       "TCGA-C8-A1HE              No  asian  female        Alive            NaN   \n",
       "TCGA-A8-A07B              No    NaN  female        Alive            NaN   \n",
       "TCGA-AC-A2FM              No  white  female         Dead          792.0   \n",
       "TCGA-B6-A1KF              No  white  female        Alive            NaN   \n",
       "\n",
       "              days_to_last_follow_up  \\\n",
       "submitter_id                           \n",
       "TCGA-Z7-A8R6                  3256.0   \n",
       "TCGA-C8-A1HE                   375.0   \n",
       "TCGA-A8-A07B                  1308.0   \n",
       "TCGA-AC-A2FM                     NaN   \n",
       "TCGA-B6-A1KF                  3088.0   \n",
       "\n",
       "             treatments_pharmaceutical_treatment_or_therapy  \\\n",
       "submitter_id                                                  \n",
       "TCGA-Z7-A8R6                                            yes   \n",
       "TCGA-C8-A1HE                                            yes   \n",
       "TCGA-A8-A07B                                             no   \n",
       "TCGA-AC-A2FM                                             no   \n",
       "TCGA-B6-A1KF                                            yes   \n",
       "\n",
       "             treatments_radiation_treatment_or_therapy  time  event  \n",
       "submitter_id                                                         \n",
       "TCGA-Z7-A8R6                                        no  3256      0  \n",
       "TCGA-C8-A1HE                                        no   375      0  \n",
       "TCGA-A8-A07B                                        no  1308      0  \n",
       "TCGA-AC-A2FM                                        no   792      1  \n",
       "TCGA-B6-A1KF                                       yes  3088      0  "
      ]
     },
     "execution_count": 52,
     "metadata": {},
     "output_type": "execute_result"
    }
   ],
   "source": [
    "clinical.head()"
   ]
  },
  {
   "cell_type": "markdown",
   "metadata": {},
   "source": [
    "# Train-val-test split\n",
    "\n",
    "Split by patient and stratify by `project_id`."
   ]
  },
  {
   "cell_type": "code",
   "execution_count": 53,
   "metadata": {},
   "outputs": [
    {
     "data": {
      "text/plain": [
       "['TCGA-Z7-A8R6', 'TCGA-C8-A1HE', 'TCGA-A8-A07B']"
      ]
     },
     "execution_count": 53,
     "metadata": {},
     "output_type": "execute_result"
    }
   ],
   "source": [
    "cases = list(clinical.index.unique())\n",
    "cases[:3]"
   ]
  },
  {
   "cell_type": "code",
   "execution_count": 54,
   "metadata": {},
   "outputs": [],
   "source": [
    "X = clinical\n",
    "y = clinical[['time']]\n",
    "\n",
    "X_train, X_val, _, _ = train_test_split(\n",
    "    X, y, test_size=0.1, random_state=42)\n",
    "\n",
    "X = X_train\n",
    "y = X_train[['time']]\n",
    "\n",
    "X_train, X_test, _, _ = train_test_split(\n",
    "    X, y, test_size=0.1095, random_state=42)"
   ]
  },
  {
   "cell_type": "code",
   "execution_count": 55,
   "metadata": {},
   "outputs": [],
   "source": [
    "def get_split_group(id_code):\n",
    "    if id_code in list(X_train.index):\n",
    "        return 'train'\n",
    "    elif id_code in X_val.index:\n",
    "        return 'val'\n",
    "    elif id_code in X_test.index:\n",
    "        return 'test'\n",
    "    else:\n",
    "        print('Found NaN!')"
   ]
  },
  {
   "cell_type": "code",
   "execution_count": 56,
   "metadata": {},
   "outputs": [],
   "source": [
    "clinical['group'] = 'Missing'\n",
    "clinical['group'] = [get_split_group(x) for x in list(clinical.index)]"
   ]
  },
  {
   "cell_type": "code",
   "execution_count": 57,
   "metadata": {},
   "outputs": [
    {
     "data": {
      "text/html": [
       "<div>\n",
       "<style scoped>\n",
       "    .dataframe tbody tr th:only-of-type {\n",
       "        vertical-align: middle;\n",
       "    }\n",
       "\n",
       "    .dataframe tbody tr th {\n",
       "        vertical-align: top;\n",
       "    }\n",
       "\n",
       "    .dataframe thead th {\n",
       "        text-align: right;\n",
       "    }\n",
       "</style>\n",
       "<table border=\"1\" class=\"dataframe\">\n",
       "  <thead>\n",
       "    <tr style=\"text-align: right;\">\n",
       "      <th></th>\n",
       "      <th>synchronous_malignancy</th>\n",
       "      <th>age_at_diagnosis</th>\n",
       "      <th>prior_malignancy</th>\n",
       "      <th>prior_treatment</th>\n",
       "      <th>race</th>\n",
       "      <th>gender</th>\n",
       "      <th>vital_status</th>\n",
       "      <th>days_to_death</th>\n",
       "      <th>days_to_last_follow_up</th>\n",
       "      <th>treatments_pharmaceutical_treatment_or_therapy</th>\n",
       "      <th>treatments_radiation_treatment_or_therapy</th>\n",
       "      <th>time</th>\n",
       "      <th>event</th>\n",
       "      <th>group</th>\n",
       "    </tr>\n",
       "    <tr>\n",
       "      <th>submitter_id</th>\n",
       "      <th></th>\n",
       "      <th></th>\n",
       "      <th></th>\n",
       "      <th></th>\n",
       "      <th></th>\n",
       "      <th></th>\n",
       "      <th></th>\n",
       "      <th></th>\n",
       "      <th></th>\n",
       "      <th></th>\n",
       "      <th></th>\n",
       "      <th></th>\n",
       "      <th></th>\n",
       "      <th></th>\n",
       "    </tr>\n",
       "  </thead>\n",
       "  <tbody>\n",
       "    <tr>\n",
       "      <th>TCGA-Z7-A8R6</th>\n",
       "      <td>No</td>\n",
       "      <td>16955.0</td>\n",
       "      <td>no</td>\n",
       "      <td>No</td>\n",
       "      <td>white</td>\n",
       "      <td>female</td>\n",
       "      <td>Alive</td>\n",
       "      <td>NaN</td>\n",
       "      <td>3256.0</td>\n",
       "      <td>yes</td>\n",
       "      <td>no</td>\n",
       "      <td>3256</td>\n",
       "      <td>0</td>\n",
       "      <td>train</td>\n",
       "    </tr>\n",
       "    <tr>\n",
       "      <th>TCGA-C8-A1HE</th>\n",
       "      <td>No</td>\n",
       "      <td>NaN</td>\n",
       "      <td>no</td>\n",
       "      <td>No</td>\n",
       "      <td>asian</td>\n",
       "      <td>female</td>\n",
       "      <td>Alive</td>\n",
       "      <td>NaN</td>\n",
       "      <td>375.0</td>\n",
       "      <td>yes</td>\n",
       "      <td>no</td>\n",
       "      <td>375</td>\n",
       "      <td>0</td>\n",
       "      <td>train</td>\n",
       "    </tr>\n",
       "    <tr>\n",
       "      <th>TCGA-A8-A07B</th>\n",
       "      <td>No</td>\n",
       "      <td>25475.0</td>\n",
       "      <td>no</td>\n",
       "      <td>No</td>\n",
       "      <td>NaN</td>\n",
       "      <td>female</td>\n",
       "      <td>Alive</td>\n",
       "      <td>NaN</td>\n",
       "      <td>1308.0</td>\n",
       "      <td>no</td>\n",
       "      <td>no</td>\n",
       "      <td>1308</td>\n",
       "      <td>0</td>\n",
       "      <td>train</td>\n",
       "    </tr>\n",
       "    <tr>\n",
       "      <th>TCGA-AC-A2FM</th>\n",
       "      <td>No</td>\n",
       "      <td>31805.0</td>\n",
       "      <td>no</td>\n",
       "      <td>No</td>\n",
       "      <td>white</td>\n",
       "      <td>female</td>\n",
       "      <td>Dead</td>\n",
       "      <td>792.0</td>\n",
       "      <td>NaN</td>\n",
       "      <td>no</td>\n",
       "      <td>no</td>\n",
       "      <td>792</td>\n",
       "      <td>1</td>\n",
       "      <td>train</td>\n",
       "    </tr>\n",
       "    <tr>\n",
       "      <th>TCGA-B6-A1KF</th>\n",
       "      <td>No</td>\n",
       "      <td>24891.0</td>\n",
       "      <td>no</td>\n",
       "      <td>No</td>\n",
       "      <td>white</td>\n",
       "      <td>female</td>\n",
       "      <td>Alive</td>\n",
       "      <td>NaN</td>\n",
       "      <td>3088.0</td>\n",
       "      <td>yes</td>\n",
       "      <td>yes</td>\n",
       "      <td>3088</td>\n",
       "      <td>0</td>\n",
       "      <td>train</td>\n",
       "    </tr>\n",
       "  </tbody>\n",
       "</table>\n",
       "</div>"
      ],
      "text/plain": [
       "             synchronous_malignancy  age_at_diagnosis prior_malignancy  \\\n",
       "submitter_id                                                             \n",
       "TCGA-Z7-A8R6                     No           16955.0               no   \n",
       "TCGA-C8-A1HE                     No               NaN               no   \n",
       "TCGA-A8-A07B                     No           25475.0               no   \n",
       "TCGA-AC-A2FM                     No           31805.0               no   \n",
       "TCGA-B6-A1KF                     No           24891.0               no   \n",
       "\n",
       "             prior_treatment   race  gender vital_status  days_to_death  \\\n",
       "submitter_id                                                              \n",
       "TCGA-Z7-A8R6              No  white  female        Alive            NaN   \n",
       "TCGA-C8-A1HE              No  asian  female        Alive            NaN   \n",
       "TCGA-A8-A07B              No    NaN  female        Alive            NaN   \n",
       "TCGA-AC-A2FM              No  white  female         Dead          792.0   \n",
       "TCGA-B6-A1KF              No  white  female        Alive            NaN   \n",
       "\n",
       "              days_to_last_follow_up  \\\n",
       "submitter_id                           \n",
       "TCGA-Z7-A8R6                  3256.0   \n",
       "TCGA-C8-A1HE                   375.0   \n",
       "TCGA-A8-A07B                  1308.0   \n",
       "TCGA-AC-A2FM                     NaN   \n",
       "TCGA-B6-A1KF                  3088.0   \n",
       "\n",
       "             treatments_pharmaceutical_treatment_or_therapy  \\\n",
       "submitter_id                                                  \n",
       "TCGA-Z7-A8R6                                            yes   \n",
       "TCGA-C8-A1HE                                            yes   \n",
       "TCGA-A8-A07B                                             no   \n",
       "TCGA-AC-A2FM                                             no   \n",
       "TCGA-B6-A1KF                                            yes   \n",
       "\n",
       "             treatments_radiation_treatment_or_therapy  time  event  group  \n",
       "submitter_id                                                                \n",
       "TCGA-Z7-A8R6                                        no  3256      0  train  \n",
       "TCGA-C8-A1HE                                        no   375      0  train  \n",
       "TCGA-A8-A07B                                        no  1308      0  train  \n",
       "TCGA-AC-A2FM                                        no   792      1  train  \n",
       "TCGA-B6-A1KF                                       yes  3088      0  train  "
      ]
     },
     "execution_count": 57,
     "metadata": {},
     "output_type": "execute_result"
    }
   ],
   "source": [
    "clinical.head()"
   ]
  },
  {
   "cell_type": "code",
   "execution_count": 58,
   "metadata": {},
   "outputs": [
    {
     "data": {
      "text/html": [
       "<div>\n",
       "<style scoped>\n",
       "    .dataframe tbody tr th:only-of-type {\n",
       "        vertical-align: middle;\n",
       "    }\n",
       "\n",
       "    .dataframe tbody tr th {\n",
       "        vertical-align: top;\n",
       "    }\n",
       "\n",
       "    .dataframe thead th {\n",
       "        text-align: right;\n",
       "    }\n",
       "</style>\n",
       "<table border=\"1\" class=\"dataframe\">\n",
       "  <thead>\n",
       "    <tr style=\"text-align: right;\">\n",
       "      <th></th>\n",
       "      <th>synchronous_malignancy</th>\n",
       "      <th>age_at_diagnosis</th>\n",
       "      <th>prior_malignancy</th>\n",
       "      <th>prior_treatment</th>\n",
       "      <th>race</th>\n",
       "      <th>gender</th>\n",
       "      <th>vital_status</th>\n",
       "      <th>days_to_death</th>\n",
       "      <th>days_to_last_follow_up</th>\n",
       "      <th>treatments_pharmaceutical_treatment_or_therapy</th>\n",
       "      <th>treatments_radiation_treatment_or_therapy</th>\n",
       "      <th>time</th>\n",
       "      <th>event</th>\n",
       "      <th>group</th>\n",
       "    </tr>\n",
       "    <tr>\n",
       "      <th>submitter_id</th>\n",
       "      <th></th>\n",
       "      <th></th>\n",
       "      <th></th>\n",
       "      <th></th>\n",
       "      <th></th>\n",
       "      <th></th>\n",
       "      <th></th>\n",
       "      <th></th>\n",
       "      <th></th>\n",
       "      <th></th>\n",
       "      <th></th>\n",
       "      <th></th>\n",
       "      <th></th>\n",
       "      <th></th>\n",
       "    </tr>\n",
       "  </thead>\n",
       "  <tbody>\n",
       "    <tr>\n",
       "      <th>TCGA-Z7-A8R6</th>\n",
       "      <td>No</td>\n",
       "      <td>16955.0</td>\n",
       "      <td>no</td>\n",
       "      <td>No</td>\n",
       "      <td>white</td>\n",
       "      <td>female</td>\n",
       "      <td>Alive</td>\n",
       "      <td>NaN</td>\n",
       "      <td>3256.0</td>\n",
       "      <td>yes</td>\n",
       "      <td>no</td>\n",
       "      <td>8.920548</td>\n",
       "      <td>0</td>\n",
       "      <td>train</td>\n",
       "    </tr>\n",
       "    <tr>\n",
       "      <th>TCGA-C8-A1HE</th>\n",
       "      <td>No</td>\n",
       "      <td>NaN</td>\n",
       "      <td>no</td>\n",
       "      <td>No</td>\n",
       "      <td>asian</td>\n",
       "      <td>female</td>\n",
       "      <td>Alive</td>\n",
       "      <td>NaN</td>\n",
       "      <td>375.0</td>\n",
       "      <td>yes</td>\n",
       "      <td>no</td>\n",
       "      <td>1.027397</td>\n",
       "      <td>0</td>\n",
       "      <td>train</td>\n",
       "    </tr>\n",
       "    <tr>\n",
       "      <th>TCGA-A8-A07B</th>\n",
       "      <td>No</td>\n",
       "      <td>25475.0</td>\n",
       "      <td>no</td>\n",
       "      <td>No</td>\n",
       "      <td>NaN</td>\n",
       "      <td>female</td>\n",
       "      <td>Alive</td>\n",
       "      <td>NaN</td>\n",
       "      <td>1308.0</td>\n",
       "      <td>no</td>\n",
       "      <td>no</td>\n",
       "      <td>3.583562</td>\n",
       "      <td>0</td>\n",
       "      <td>train</td>\n",
       "    </tr>\n",
       "    <tr>\n",
       "      <th>TCGA-AC-A2FM</th>\n",
       "      <td>No</td>\n",
       "      <td>31805.0</td>\n",
       "      <td>no</td>\n",
       "      <td>No</td>\n",
       "      <td>white</td>\n",
       "      <td>female</td>\n",
       "      <td>Dead</td>\n",
       "      <td>792.0</td>\n",
       "      <td>NaN</td>\n",
       "      <td>no</td>\n",
       "      <td>no</td>\n",
       "      <td>2.169863</td>\n",
       "      <td>1</td>\n",
       "      <td>train</td>\n",
       "    </tr>\n",
       "    <tr>\n",
       "      <th>TCGA-B6-A1KF</th>\n",
       "      <td>No</td>\n",
       "      <td>24891.0</td>\n",
       "      <td>no</td>\n",
       "      <td>No</td>\n",
       "      <td>white</td>\n",
       "      <td>female</td>\n",
       "      <td>Alive</td>\n",
       "      <td>NaN</td>\n",
       "      <td>3088.0</td>\n",
       "      <td>yes</td>\n",
       "      <td>yes</td>\n",
       "      <td>8.460274</td>\n",
       "      <td>0</td>\n",
       "      <td>train</td>\n",
       "    </tr>\n",
       "  </tbody>\n",
       "</table>\n",
       "</div>"
      ],
      "text/plain": [
       "             synchronous_malignancy  age_at_diagnosis prior_malignancy  \\\n",
       "submitter_id                                                             \n",
       "TCGA-Z7-A8R6                     No           16955.0               no   \n",
       "TCGA-C8-A1HE                     No               NaN               no   \n",
       "TCGA-A8-A07B                     No           25475.0               no   \n",
       "TCGA-AC-A2FM                     No           31805.0               no   \n",
       "TCGA-B6-A1KF                     No           24891.0               no   \n",
       "\n",
       "             prior_treatment   race  gender vital_status  days_to_death  \\\n",
       "submitter_id                                                              \n",
       "TCGA-Z7-A8R6              No  white  female        Alive            NaN   \n",
       "TCGA-C8-A1HE              No  asian  female        Alive            NaN   \n",
       "TCGA-A8-A07B              No    NaN  female        Alive            NaN   \n",
       "TCGA-AC-A2FM              No  white  female         Dead          792.0   \n",
       "TCGA-B6-A1KF              No  white  female        Alive            NaN   \n",
       "\n",
       "              days_to_last_follow_up  \\\n",
       "submitter_id                           \n",
       "TCGA-Z7-A8R6                  3256.0   \n",
       "TCGA-C8-A1HE                   375.0   \n",
       "TCGA-A8-A07B                  1308.0   \n",
       "TCGA-AC-A2FM                     NaN   \n",
       "TCGA-B6-A1KF                  3088.0   \n",
       "\n",
       "             treatments_pharmaceutical_treatment_or_therapy  \\\n",
       "submitter_id                                                  \n",
       "TCGA-Z7-A8R6                                            yes   \n",
       "TCGA-C8-A1HE                                            yes   \n",
       "TCGA-A8-A07B                                             no   \n",
       "TCGA-AC-A2FM                                             no   \n",
       "TCGA-B6-A1KF                                            yes   \n",
       "\n",
       "             treatments_radiation_treatment_or_therapy      time  event  group  \n",
       "submitter_id                                                                    \n",
       "TCGA-Z7-A8R6                                        no  8.920548      0  train  \n",
       "TCGA-C8-A1HE                                        no  1.027397      0  train  \n",
       "TCGA-A8-A07B                                        no  3.583562      0  train  \n",
       "TCGA-AC-A2FM                                        no  2.169863      1  train  \n",
       "TCGA-B6-A1KF                                       yes  8.460274      0  train  "
      ]
     },
     "execution_count": 58,
     "metadata": {},
     "output_type": "execute_result"
    }
   ],
   "source": [
    "# Convert duration to years\n",
    "clinical['time'] = clinical['time'] / 365\n",
    "clinical.head()"
   ]
  },
  {
   "cell_type": "code",
   "execution_count": 59,
   "metadata": {},
   "outputs": [],
   "source": [
    "def get_data_group(df, value='train'):\n",
    "    group = df.loc[df['group'] == value]\n",
    "    return group.drop(columns='group')\n",
    "\n",
    "train = get_data_group(clinical, 'train')\n",
    "val = get_data_group(clinical, 'val')\n",
    "test = get_data_group(clinical, 'test')"
   ]
  },
  {
   "cell_type": "code",
   "execution_count": 60,
   "metadata": {},
   "outputs": [
    {
     "name": "stdout",
     "output_type": "stream",
     "text": [
      "# patients in split groups:\n",
      "     train:      876\n",
      "     validation: 110\n",
      "     test:       108\n"
     ]
    }
   ],
   "source": [
    "print('# patients in split groups:')\n",
    "print('     train:     ', len(train))\n",
    "print('     validation:', len(val))\n",
    "print('     test:      ', len(test))"
   ]
  },
  {
   "cell_type": "markdown",
   "metadata": {},
   "source": [
    "## Survival curves\n",
    "\n",
    "Plot Kaplan-Meier survival function."
   ]
  },
  {
   "cell_type": "code",
   "execution_count": 61,
   "metadata": {},
   "outputs": [
    {
     "data": {
      "text/plain": [
       "<Axes: title={'center': 'Training data'}, xlabel='Time (years)'>"
      ]
     },
     "execution_count": 61,
     "metadata": {},
     "output_type": "execute_result"
    },
    {
     "data": {
      "image/png": "[encoded data removed]",
      "text/plain": [
       "<Figure size 640x480 with 1 Axes>"
      ]
     },
     "metadata": {},
     "output_type": "display_data"
    }
   ],
   "source": [
    "kmf = KaplanMeierFitter()\n",
    "kmf.fit(train['time'], event_observed=train['event'])\n",
    "ax = kmf.plot(title='Training data')\n",
    "ax.set_xlabel('Time (years)')\n",
    "ax"
   ]
  },
  {
   "cell_type": "code",
   "execution_count": 62,
   "metadata": {},
   "outputs": [
    {
     "data": {
      "text/plain": [
       "<Axes: title={'center': 'Validation data'}, xlabel='Time (years)'>"
      ]
     },
     "execution_count": 62,
     "metadata": {},
     "output_type": "execute_result"
    },
    {
     "data": {
      "image/png": "[encoded data removed]",
      "text/plain": [
       "<Figure size 640x480 with 1 Axes>"
      ]
     },
     "metadata": {},
     "output_type": "display_data"
    }
   ],
   "source": [
    "kmf = KaplanMeierFitter()\n",
    "kmf.fit(val['time'], event_observed=val['event'])\n",
    "ax = kmf.plot(title='Validation data')\n",
    "ax.set_xlabel('Time (years)')\n",
    "ax"
   ]
  },
  {
   "cell_type": "code",
   "execution_count": 63,
   "metadata": {},
   "outputs": [
    {
     "data": {
      "text/plain": [
       "<Axes: title={'center': 'Test data'}, xlabel='Time (years)'>"
      ]
     },
     "execution_count": 63,
     "metadata": {},
     "output_type": "execute_result"
    },
    {
     "data": {
      "image/png": "[encoded data removed]",
      "text/plain": [
       "<Figure size 640x480 with 1 Axes>"
      ]
     },
     "metadata": {},
     "output_type": "display_data"
    }
   ],
   "source": [
    "kmf = KaplanMeierFitter()\n",
    "kmf.fit(test['time'], event_observed=test['event'])\n",
    "ax = kmf.plot(title='Test data')\n",
    "ax.set_xlabel('Time (years)')\n",
    "ax"
   ]
  },
  {
   "cell_type": "markdown",
   "metadata": {},
   "source": [
    "# Save clinical data to file\n",
    "\n",
    "To use in the visualization of the features learned by the model."
   ]
  },
  {
   "cell_type": "code",
   "execution_count": 64,
   "metadata": {},
   "outputs": [
    {
     "data": {
      "text/html": [
       "<div>\n",
       "<style scoped>\n",
       "    .dataframe tbody tr th:only-of-type {\n",
       "        vertical-align: middle;\n",
       "    }\n",
       "\n",
       "    .dataframe tbody tr th {\n",
       "        vertical-align: top;\n",
       "    }\n",
       "\n",
       "    .dataframe thead th {\n",
       "        text-align: right;\n",
       "    }\n",
       "</style>\n",
       "<table border=\"1\" class=\"dataframe\">\n",
       "  <thead>\n",
       "    <tr style=\"text-align: right;\">\n",
       "      <th></th>\n",
       "      <th>synchronous_malignancy</th>\n",
       "      <th>age_at_diagnosis</th>\n",
       "      <th>prior_malignancy</th>\n",
       "      <th>prior_treatment</th>\n",
       "      <th>race</th>\n",
       "      <th>gender</th>\n",
       "      <th>vital_status</th>\n",
       "      <th>days_to_death</th>\n",
       "      <th>days_to_last_follow_up</th>\n",
       "      <th>treatments_pharmaceutical_treatment_or_therapy</th>\n",
       "      <th>treatments_radiation_treatment_or_therapy</th>\n",
       "      <th>time</th>\n",
       "      <th>event</th>\n",
       "      <th>group</th>\n",
       "    </tr>\n",
       "    <tr>\n",
       "      <th>submitter_id</th>\n",
       "      <th></th>\n",
       "      <th></th>\n",
       "      <th></th>\n",
       "      <th></th>\n",
       "      <th></th>\n",
       "      <th></th>\n",
       "      <th></th>\n",
       "      <th></th>\n",
       "      <th></th>\n",
       "      <th></th>\n",
       "      <th></th>\n",
       "      <th></th>\n",
       "      <th></th>\n",
       "      <th></th>\n",
       "    </tr>\n",
       "  </thead>\n",
       "  <tbody>\n",
       "    <tr>\n",
       "      <th>TCGA-Z7-A8R6</th>\n",
       "      <td>No</td>\n",
       "      <td>16955.0</td>\n",
       "      <td>no</td>\n",
       "      <td>No</td>\n",
       "      <td>white</td>\n",
       "      <td>female</td>\n",
       "      <td>Alive</td>\n",
       "      <td>NaN</td>\n",
       "      <td>3256.0</td>\n",
       "      <td>yes</td>\n",
       "      <td>no</td>\n",
       "      <td>8.920548</td>\n",
       "      <td>0</td>\n",
       "      <td>train</td>\n",
       "    </tr>\n",
       "    <tr>\n",
       "      <th>TCGA-C8-A1HE</th>\n",
       "      <td>No</td>\n",
       "      <td>NaN</td>\n",
       "      <td>no</td>\n",
       "      <td>No</td>\n",
       "      <td>asian</td>\n",
       "      <td>female</td>\n",
       "      <td>Alive</td>\n",
       "      <td>NaN</td>\n",
       "      <td>375.0</td>\n",
       "      <td>yes</td>\n",
       "      <td>no</td>\n",
       "      <td>1.027397</td>\n",
       "      <td>0</td>\n",
       "      <td>train</td>\n",
       "    </tr>\n",
       "    <tr>\n",
       "      <th>TCGA-A8-A07B</th>\n",
       "      <td>No</td>\n",
       "      <td>25475.0</td>\n",
       "      <td>no</td>\n",
       "      <td>No</td>\n",
       "      <td>NaN</td>\n",
       "      <td>female</td>\n",
       "      <td>Alive</td>\n",
       "      <td>NaN</td>\n",
       "      <td>1308.0</td>\n",
       "      <td>no</td>\n",
       "      <td>no</td>\n",
       "      <td>3.583562</td>\n",
       "      <td>0</td>\n",
       "      <td>train</td>\n",
       "    </tr>\n",
       "    <tr>\n",
       "      <th>TCGA-AC-A2FM</th>\n",
       "      <td>No</td>\n",
       "      <td>31805.0</td>\n",
       "      <td>no</td>\n",
       "      <td>No</td>\n",
       "      <td>white</td>\n",
       "      <td>female</td>\n",
       "      <td>Dead</td>\n",
       "      <td>792.0</td>\n",
       "      <td>NaN</td>\n",
       "      <td>no</td>\n",
       "      <td>no</td>\n",
       "      <td>2.169863</td>\n",
       "      <td>1</td>\n",
       "      <td>train</td>\n",
       "    </tr>\n",
       "    <tr>\n",
       "      <th>TCGA-B6-A1KF</th>\n",
       "      <td>No</td>\n",
       "      <td>24891.0</td>\n",
       "      <td>no</td>\n",
       "      <td>No</td>\n",
       "      <td>white</td>\n",
       "      <td>female</td>\n",
       "      <td>Alive</td>\n",
       "      <td>NaN</td>\n",
       "      <td>3088.0</td>\n",
       "      <td>yes</td>\n",
       "      <td>yes</td>\n",
       "      <td>8.460274</td>\n",
       "      <td>0</td>\n",
       "      <td>train</td>\n",
       "    </tr>\n",
       "  </tbody>\n",
       "</table>\n",
       "</div>"
      ],
      "text/plain": [
       "             synchronous_malignancy  age_at_diagnosis prior_malignancy  \\\n",
       "submitter_id                                                             \n",
       "TCGA-Z7-A8R6                     No           16955.0               no   \n",
       "TCGA-C8-A1HE                     No               NaN               no   \n",
       "TCGA-A8-A07B                     No           25475.0               no   \n",
       "TCGA-AC-A2FM                     No           31805.0               no   \n",
       "TCGA-B6-A1KF                     No           24891.0               no   \n",
       "\n",
       "             prior_treatment   race  gender vital_status  days_to_death  \\\n",
       "submitter_id                                                              \n",
       "TCGA-Z7-A8R6              No  white  female        Alive            NaN   \n",
       "TCGA-C8-A1HE              No  asian  female        Alive            NaN   \n",
       "TCGA-A8-A07B              No    NaN  female        Alive            NaN   \n",
       "TCGA-AC-A2FM              No  white  female         Dead          792.0   \n",
       "TCGA-B6-A1KF              No  white  female        Alive            NaN   \n",
       "\n",
       "              days_to_last_follow_up  \\\n",
       "submitter_id                           \n",
       "TCGA-Z7-A8R6                  3256.0   \n",
       "TCGA-C8-A1HE                   375.0   \n",
       "TCGA-A8-A07B                  1308.0   \n",
       "TCGA-AC-A2FM                     NaN   \n",
       "TCGA-B6-A1KF                  3088.0   \n",
       "\n",
       "             treatments_pharmaceutical_treatment_or_therapy  \\\n",
       "submitter_id                                                  \n",
       "TCGA-Z7-A8R6                                            yes   \n",
       "TCGA-C8-A1HE                                            yes   \n",
       "TCGA-A8-A07B                                             no   \n",
       "TCGA-AC-A2FM                                             no   \n",
       "TCGA-B6-A1KF                                            yes   \n",
       "\n",
       "             treatments_radiation_treatment_or_therapy      time  event  group  \n",
       "submitter_id                                                                    \n",
       "TCGA-Z7-A8R6                                        no  8.920548      0  train  \n",
       "TCGA-C8-A1HE                                        no  1.027397      0  train  \n",
       "TCGA-A8-A07B                                        no  3.583562      0  train  \n",
       "TCGA-AC-A2FM                                        no  2.169863      1  train  \n",
       "TCGA-B6-A1KF                                       yes  8.460274      0  train  "
      ]
     },
     "execution_count": 64,
     "metadata": {},
     "output_type": "execute_result"
    }
   ],
   "source": [
    "clinical.head()"
   ]
  },
  {
   "cell_type": "code",
   "execution_count": 66,
   "metadata": {},
   "outputs": [],
   "source": [
    "clinical.to_csv('clinical_data.tsv', sep='\\t')"
   ]
  },
  {
   "cell_type": "markdown",
   "metadata": {},
   "source": [
    "# Input missing values\n",
    "\n",
    "* Input missing continuous data with median value.\n",
    "* Leave categorical features unchanged, to treat missing data as its own category."
   ]
  },
  {
   "cell_type": "code",
   "execution_count": 67,
   "metadata": {},
   "outputs": [
    {
     "name": "stdout",
     "output_type": "stream",
     "text": [
      "~~ MISSING DATA ~~\n",
      "\n",
      "synchronous_malignancy: 9 (0.82%)\n",
      "age_at_diagnosis: 15 (1.37%)\n",
      "prior_malignancy: 9 (0.82%)\n",
      "prior_treatment: 2 (0.18%)\n",
      "race: 91 (8.32%)\n",
      "treatments_pharmaceutical_treatment_or_therapy: 838 (76.6%)\n",
      "treatments_radiation_treatment_or_therapy: 79 (7.22%)\n"
     ]
    }
   ],
   "source": [
    "print('~~ MISSING DATA ~~')\n",
    "print()\n",
    "skip = ['days_to_death', 'days_to_last_follow_up']\n",
    "\n",
    "n = clinical.shape[0]\n",
    "\n",
    "for v in clinical.columns:\n",
    "    if v not in skip:\n",
    "        n_missing = sum(clinical[v].isnull())\n",
    "        if n_missing > 0:\n",
    "            print(f'{v}: {n_missing} ({round(n_missing / n * 100, 2)}%)')"
   ]
  },
  {
   "cell_type": "code",
   "execution_count": 68,
   "metadata": {},
   "outputs": [],
   "source": [
    "def input_missing_values(feature, df):\n",
    "    train_subset = df.loc[df['group'] == 'train', feature]\n",
    "    try:\n",
    "        input_value = train_subset.median()\n",
    "        print(f'Median \"{feature}\": {input_value}')\n",
    "    except TypeError:\n",
    "        input_value = train_subset.mode().iloc[0]\n",
    "        print(f'Mode \"{feature}\": {input_value}')\n",
    "\n",
    "    df[feature].fillna(input_value, inplace=True)\n",
    "    \n",
    "    return df"
   ]
  },
  {
   "cell_type": "code",
   "execution_count": 69,
   "metadata": {},
   "outputs": [
    {
     "name": "stdout",
     "output_type": "stream",
     "text": [
      "Median \"age_at_diagnosis\": 21910.0\n"
     ]
    }
   ],
   "source": [
    "clinical = input_missing_values(feature='age_at_diagnosis', df=clinical)"
   ]
  },
  {
   "cell_type": "code",
   "execution_count": 70,
   "metadata": {},
   "outputs": [
    {
     "name": "stdout",
     "output_type": "stream",
     "text": [
      "~~ MISSING DATA ~~\n",
      "\n",
      "synchronous_malignancy: 9 (0.82%)\n",
      "prior_malignancy: 9 (0.82%)\n",
      "prior_treatment: 2 (0.18%)\n",
      "race: 91 (8.32%)\n",
      "days_to_death: 943 (86.2%)\n",
      "days_to_last_follow_up: 151 (13.8%)\n",
      "treatments_pharmaceutical_treatment_or_therapy: 838 (76.6%)\n",
      "treatments_radiation_treatment_or_therapy: 79 (7.22%)\n"
     ]
    }
   ],
   "source": [
    "print('~~ MISSING DATA ~~')\n",
    "print()\n",
    "n = clinical.shape[0]\n",
    "\n",
    "for v in clinical.columns:\n",
    "    n_missing = sum(clinical[v].isnull())\n",
    "    if n_missing > 0:\n",
    "        print(f'{v}: {n_missing} ({round(n_missing / n * 100, 2)}%)')"
   ]
  },
  {
   "cell_type": "markdown",
   "metadata": {},
   "source": [
    "# Scale continuous variables"
   ]
  },
  {
   "cell_type": "code",
   "execution_count": 71,
   "metadata": {},
   "outputs": [],
   "source": [
    "id_groups = {\n",
    "    'train': list(clinical.loc[clinical['group'] == 'train', ].index),\n",
    "    'val': list(clinical.loc[clinical['group'] == 'val', ].index),\n",
    "    'test': list(clinical.loc[clinical['group'] == 'test', ].index)}"
   ]
  },
  {
   "cell_type": "code",
   "execution_count": 72,
   "metadata": {},
   "outputs": [
    {
     "data": {
      "text/plain": [
       "Index(['synchronous_malignancy', 'age_at_diagnosis', 'prior_malignancy',\n",
       "       'prior_treatment', 'race', 'gender', 'vital_status', 'days_to_death',\n",
       "       'days_to_last_follow_up',\n",
       "       'treatments_pharmaceutical_treatment_or_therapy',\n",
       "       'treatments_radiation_treatment_or_therapy', 'time', 'event', 'group'],\n",
       "      dtype='object')"
      ]
     },
     "execution_count": 72,
     "metadata": {},
     "output_type": "execute_result"
    }
   ],
   "source": [
    "clinical.columns"
   ]
  },
  {
   "cell_type": "code",
   "execution_count": 73,
   "metadata": {},
   "outputs": [
    {
     "data": {
      "text/plain": [
       "['days_to_death', 'days_to_last_follow_up']"
      ]
     },
     "execution_count": 73,
     "metadata": {},
     "output_type": "execute_result"
    }
   ],
   "source": [
    "skip"
   ]
  },
  {
   "cell_type": "code",
   "execution_count": 74,
   "metadata": {},
   "outputs": [],
   "source": [
    "continuous = ['age_at_diagnosis']"
   ]
  },
  {
   "cell_type": "code",
   "execution_count": 75,
   "metadata": {},
   "outputs": [],
   "source": [
    "def min_max_scale(data, features, groups):\n",
    "    train = data.loc[data.index.isin(groups['train']), features]\n",
    "\n",
    "    scaler = MinMaxScaler()\n",
    "    columns = train.columns\n",
    "    scaler = scaler.fit(train[columns])\n",
    "    \n",
    "    data.loc[data.index.isin(groups['train']), features] = scaler.transform(\n",
    "        train)\n",
    "    data.loc[data.index.isin(groups['val']), features] = scaler.transform(\n",
    "        data.loc[data.index.isin(groups['val']), features])\n",
    "    data.loc[data.index.isin(groups['test']), features] = scaler.transform(\n",
    "        data.loc[data.index.isin(groups['test']), features])\n",
    "    \n",
    "    return data"
   ]
  },
  {
   "cell_type": "code",
   "execution_count": 76,
   "metadata": {},
   "outputs": [],
   "source": [
    "clinical = min_max_scale(data=clinical, features=continuous, groups=id_groups)"
   ]
  },
  {
   "cell_type": "code",
   "execution_count": 77,
   "metadata": {},
   "outputs": [
    {
     "data": {
      "text/plain": [
       "count    1094.000000\n",
       "mean        0.513220\n",
       "std         0.206572\n",
       "min         0.000000\n",
       "25%         0.360086\n",
       "50%         0.514634\n",
       "75%         0.652843\n",
       "max         1.000000\n",
       "Name: age_at_diagnosis, dtype: float64"
      ]
     },
     "execution_count": 77,
     "metadata": {},
     "output_type": "execute_result"
    }
   ],
   "source": [
    "clinical.age_at_diagnosis.describe()"
   ]
  },
  {
   "cell_type": "code",
   "execution_count": 78,
   "metadata": {},
   "outputs": [
    {
     "data": {
      "text/html": [
       "<div>\n",
       "<style scoped>\n",
       "    .dataframe tbody tr th:only-of-type {\n",
       "        vertical-align: middle;\n",
       "    }\n",
       "\n",
       "    .dataframe tbody tr th {\n",
       "        vertical-align: top;\n",
       "    }\n",
       "\n",
       "    .dataframe thead th {\n",
       "        text-align: right;\n",
       "    }\n",
       "</style>\n",
       "<table border=\"1\" class=\"dataframe\">\n",
       "  <thead>\n",
       "    <tr style=\"text-align: right;\">\n",
       "      <th></th>\n",
       "      <th>synchronous_malignancy</th>\n",
       "      <th>age_at_diagnosis</th>\n",
       "      <th>prior_malignancy</th>\n",
       "      <th>prior_treatment</th>\n",
       "      <th>race</th>\n",
       "      <th>gender</th>\n",
       "      <th>vital_status</th>\n",
       "      <th>days_to_death</th>\n",
       "      <th>days_to_last_follow_up</th>\n",
       "      <th>treatments_pharmaceutical_treatment_or_therapy</th>\n",
       "      <th>treatments_radiation_treatment_or_therapy</th>\n",
       "      <th>time</th>\n",
       "      <th>event</th>\n",
       "      <th>group</th>\n",
       "    </tr>\n",
       "    <tr>\n",
       "      <th>submitter_id</th>\n",
       "      <th></th>\n",
       "      <th></th>\n",
       "      <th></th>\n",
       "      <th></th>\n",
       "      <th></th>\n",
       "      <th></th>\n",
       "      <th></th>\n",
       "      <th></th>\n",
       "      <th></th>\n",
       "      <th></th>\n",
       "      <th></th>\n",
       "      <th></th>\n",
       "      <th></th>\n",
       "      <th></th>\n",
       "    </tr>\n",
       "  </thead>\n",
       "  <tbody>\n",
       "    <tr>\n",
       "      <th>TCGA-Z7-A8R6</th>\n",
       "      <td>No</td>\n",
       "      <td>0.312915</td>\n",
       "      <td>no</td>\n",
       "      <td>No</td>\n",
       "      <td>white</td>\n",
       "      <td>female</td>\n",
       "      <td>Alive</td>\n",
       "      <td>NaN</td>\n",
       "      <td>3256.0</td>\n",
       "      <td>yes</td>\n",
       "      <td>no</td>\n",
       "      <td>8.920548</td>\n",
       "      <td>0</td>\n",
       "      <td>train</td>\n",
       "    </tr>\n",
       "    <tr>\n",
       "      <th>TCGA-C8-A1HE</th>\n",
       "      <td>No</td>\n",
       "      <td>0.526807</td>\n",
       "      <td>no</td>\n",
       "      <td>No</td>\n",
       "      <td>asian</td>\n",
       "      <td>female</td>\n",
       "      <td>Alive</td>\n",
       "      <td>NaN</td>\n",
       "      <td>375.0</td>\n",
       "      <td>yes</td>\n",
       "      <td>no</td>\n",
       "      <td>1.027397</td>\n",
       "      <td>0</td>\n",
       "      <td>train</td>\n",
       "    </tr>\n",
       "    <tr>\n",
       "      <th>TCGA-A8-A07B</th>\n",
       "      <td>No</td>\n",
       "      <td>0.680696</td>\n",
       "      <td>no</td>\n",
       "      <td>No</td>\n",
       "      <td>NaN</td>\n",
       "      <td>female</td>\n",
       "      <td>Alive</td>\n",
       "      <td>NaN</td>\n",
       "      <td>1308.0</td>\n",
       "      <td>no</td>\n",
       "      <td>no</td>\n",
       "      <td>3.583562</td>\n",
       "      <td>0</td>\n",
       "      <td>train</td>\n",
       "    </tr>\n",
       "    <tr>\n",
       "      <th>TCGA-AC-A2FM</th>\n",
       "      <td>No</td>\n",
       "      <td>0.953941</td>\n",
       "      <td>no</td>\n",
       "      <td>No</td>\n",
       "      <td>white</td>\n",
       "      <td>female</td>\n",
       "      <td>Dead</td>\n",
       "      <td>792.0</td>\n",
       "      <td>NaN</td>\n",
       "      <td>no</td>\n",
       "      <td>no</td>\n",
       "      <td>2.169863</td>\n",
       "      <td>1</td>\n",
       "      <td>train</td>\n",
       "    </tr>\n",
       "    <tr>\n",
       "      <th>TCGA-B6-A1KF</th>\n",
       "      <td>No</td>\n",
       "      <td>0.655486</td>\n",
       "      <td>no</td>\n",
       "      <td>No</td>\n",
       "      <td>white</td>\n",
       "      <td>female</td>\n",
       "      <td>Alive</td>\n",
       "      <td>NaN</td>\n",
       "      <td>3088.0</td>\n",
       "      <td>yes</td>\n",
       "      <td>yes</td>\n",
       "      <td>8.460274</td>\n",
       "      <td>0</td>\n",
       "      <td>train</td>\n",
       "    </tr>\n",
       "  </tbody>\n",
       "</table>\n",
       "</div>"
      ],
      "text/plain": [
       "             synchronous_malignancy  age_at_diagnosis prior_malignancy  \\\n",
       "submitter_id                                                             \n",
       "TCGA-Z7-A8R6                     No          0.312915               no   \n",
       "TCGA-C8-A1HE                     No          0.526807               no   \n",
       "TCGA-A8-A07B                     No          0.680696               no   \n",
       "TCGA-AC-A2FM                     No          0.953941               no   \n",
       "TCGA-B6-A1KF                     No          0.655486               no   \n",
       "\n",
       "             prior_treatment   race  gender vital_status  days_to_death  \\\n",
       "submitter_id                                                              \n",
       "TCGA-Z7-A8R6              No  white  female        Alive            NaN   \n",
       "TCGA-C8-A1HE              No  asian  female        Alive            NaN   \n",
       "TCGA-A8-A07B              No    NaN  female        Alive            NaN   \n",
       "TCGA-AC-A2FM              No  white  female         Dead          792.0   \n",
       "TCGA-B6-A1KF              No  white  female        Alive            NaN   \n",
       "\n",
       "              days_to_last_follow_up  \\\n",
       "submitter_id                           \n",
       "TCGA-Z7-A8R6                  3256.0   \n",
       "TCGA-C8-A1HE                   375.0   \n",
       "TCGA-A8-A07B                  1308.0   \n",
       "TCGA-AC-A2FM                     NaN   \n",
       "TCGA-B6-A1KF                  3088.0   \n",
       "\n",
       "             treatments_pharmaceutical_treatment_or_therapy  \\\n",
       "submitter_id                                                  \n",
       "TCGA-Z7-A8R6                                            yes   \n",
       "TCGA-C8-A1HE                                            yes   \n",
       "TCGA-A8-A07B                                             no   \n",
       "TCGA-AC-A2FM                                             no   \n",
       "TCGA-B6-A1KF                                            yes   \n",
       "\n",
       "             treatments_radiation_treatment_or_therapy      time  event  group  \n",
       "submitter_id                                                                    \n",
       "TCGA-Z7-A8R6                                        no  8.920548      0  train  \n",
       "TCGA-C8-A1HE                                        no  1.027397      0  train  \n",
       "TCGA-A8-A07B                                        no  3.583562      0  train  \n",
       "TCGA-AC-A2FM                                        no  2.169863      1  train  \n",
       "TCGA-B6-A1KF                                       yes  8.460274      0  train  "
      ]
     },
     "execution_count": 78,
     "metadata": {},
     "output_type": "execute_result"
    }
   ],
   "source": [
    "clinical.head()"
   ]
  },
  {
   "cell_type": "markdown",
   "metadata": {},
   "source": [
    "# Encode categorical variables\n",
    "\n",
    "Encode labels (with a value between 0 and n_classes-1) to use with categorical embeddings."
   ]
  },
  {
   "cell_type": "code",
   "execution_count": 79,
   "metadata": {},
   "outputs": [],
   "source": [
    "# Drop unnecessary columns\n",
    "clinical = clinical.drop(columns=['days_to_death', 'days_to_last_follow_up', 'vital_status'])"
   ]
  },
  {
   "cell_type": "code",
   "execution_count": 80,
   "metadata": {},
   "outputs": [
    {
     "data": {
      "text/plain": [
       "Index(['synchronous_malignancy', 'age_at_diagnosis', 'prior_malignancy',\n",
       "       'prior_treatment', 'race', 'gender',\n",
       "       'treatments_pharmaceutical_treatment_or_therapy',\n",
       "       'treatments_radiation_treatment_or_therapy', 'time', 'event', 'group'],\n",
       "      dtype='object')"
      ]
     },
     "execution_count": 80,
     "metadata": {},
     "output_type": "execute_result"
    }
   ],
   "source": [
    "clinical.columns"
   ]
  },
  {
   "cell_type": "code",
   "execution_count": 81,
   "metadata": {},
   "outputs": [
    {
     "data": {
      "text/plain": [
       "['time', 'event', 'group']"
      ]
     },
     "execution_count": 81,
     "metadata": {},
     "output_type": "execute_result"
    }
   ],
   "source": [
    "skip = ['time', 'event', 'group']\n",
    "skip"
   ]
  },
  {
   "cell_type": "code",
   "execution_count": 82,
   "metadata": {},
   "outputs": [
    {
     "data": {
      "text/plain": [
       "['age_at_diagnosis']"
      ]
     },
     "execution_count": 82,
     "metadata": {},
     "output_type": "execute_result"
    }
   ],
   "source": [
    "continuous"
   ]
  },
  {
   "cell_type": "code",
   "execution_count": 83,
   "metadata": {},
   "outputs": [
    {
     "data": {
      "text/plain": [
       "11"
      ]
     },
     "execution_count": 83,
     "metadata": {},
     "output_type": "execute_result"
    }
   ],
   "source": [
    "len(clinical.columns)"
   ]
  },
  {
   "cell_type": "code",
   "execution_count": 84,
   "metadata": {},
   "outputs": [
    {
     "data": {
      "text/plain": [
       "11"
      ]
     },
     "execution_count": 84,
     "metadata": {},
     "output_type": "execute_result"
    }
   ],
   "source": [
    "categorical = [col for col in clinical.columns if col not in skip + continuous]\n",
    "\n",
    "len(skip) + len(continuous) + len(categorical)"
   ]
  },
  {
   "cell_type": "code",
   "execution_count": 85,
   "metadata": {},
   "outputs": [
    {
     "name": "stdout",
     "output_type": "stream",
     "text": [
      "synchronous_malignancy: 3\n",
      "prior_malignancy: 3\n",
      "prior_treatment: 3\n",
      "race: 7\n",
      "gender: 2\n",
      "treatments_pharmaceutical_treatment_or_therapy: 4\n",
      "treatments_radiation_treatment_or_therapy: 4\n"
     ]
    }
   ],
   "source": [
    "for feat in categorical:\n",
    "    print(f'{feat}: {len(clinical[feat].unique())}')"
   ]
  },
  {
   "cell_type": "code",
   "execution_count": 86,
   "metadata": {},
   "outputs": [
    {
     "data": {
      "text/plain": [
       "11"
      ]
     },
     "execution_count": 86,
     "metadata": {},
     "output_type": "execute_result"
    }
   ],
   "source": [
    "len(clinical.columns)"
   ]
  },
  {
   "cell_type": "code",
   "execution_count": 87,
   "metadata": {},
   "outputs": [],
   "source": [
    "# Reorder columns\n",
    "categorical = ['gender', 'race', 'prior_treatment', 'prior_malignancy', 'synchronous_malignancy',\n",
    "               'treatments_pharmaceutical_treatment_or_therapy',\n",
    "               'treatments_radiation_treatment_or_therapy',\n",
    "               ]\n",
    "\n",
    "clinical = clinical[categorical + continuous + skip]"
   ]
  },
  {
   "cell_type": "code",
   "execution_count": 88,
   "metadata": {},
   "outputs": [
    {
     "data": {
      "text/plain": [
       "11"
      ]
     },
     "execution_count": 88,
     "metadata": {},
     "output_type": "execute_result"
    }
   ],
   "source": [
    "len(clinical.columns)"
   ]
  },
  {
   "cell_type": "code",
   "execution_count": 89,
   "metadata": {},
   "outputs": [],
   "source": [
    "# Save a copy of the table to allow inclusion of unencoded \"project_id\" in the labels table\n",
    "survival = clinical.copy()"
   ]
  },
  {
   "cell_type": "code",
   "execution_count": 90,
   "metadata": {},
   "outputs": [],
   "source": [
    "split_groups = ['train', 'val', 'test']\n",
    "\n",
    "label_encoders = {}\n",
    "for feature in categorical:\n",
    "    clinical[feature] = clinical[feature].astype(str)\n",
    "    label_encoders[feature] = LabelEncoder()\n",
    "    label_encoders[feature].fit(\n",
    "        clinical.loc[clinical['group'] == 'train', feature])\n",
    "\n",
    "for group in split_groups:\n",
    "    for feature in categorical:\n",
    "        clinical.loc[\n",
    "            clinical['group'] == group, feature] = label_encoders[feature].transform(\n",
    "            clinical.loc[clinical['group'] == group, feature])"
   ]
  },
  {
   "cell_type": "markdown",
   "metadata": {},
   "source": [
    "The embedding dimensions (in a list of two-tuples) are calculated in the next cell: number of unique values paired with the embedding dimension for each categorical feature.\n",
    "\n",
    "The embedding size is determined according to the rule-of-thumb from the Fast.ai course."
   ]
  },
  {
   "cell_type": "code",
   "execution_count": 91,
   "metadata": {},
   "outputs": [
    {
     "name": "stdout",
     "output_type": "stream",
     "text": [
      "Feature                                            Levels   Embedding dims\n",
      "-------                                            ------   --------------\n",
      "gender                                              2        1\n",
      "race                                                7        4\n",
      "prior_treatment                                     3        2\n",
      "prior_malignancy                                    3        2\n",
      "synchronous_malignancy                              3        2\n",
      "treatments_pharmaceutical_treatment_or_therapy      4        2\n",
      "treatments_radiation_treatment_or_therapy           4        2\n"
     ]
    }
   ],
   "source": [
    "categorical_dims = [int(clinical[col].nunique()) for col in categorical]\n",
    "embedding_dims = [(x, min(50, (x + 1) // 2)) for x in categorical_dims]\n",
    "\n",
    "embedding_dims\n",
    "\n",
    "print('Feature                                            Levels   Embedding dims')\n",
    "print('-------                                            ------   --------------')\n",
    "for i, feat in enumerate(categorical):\n",
    "    print(feat, ' ' * (50 - len(feat)), embedding_dims[i][0],\n",
    "          ' ' * (7 - len(str(embedding_dims[i][0]))), embedding_dims[i][1])"
   ]
  },
  {
   "cell_type": "markdown",
   "metadata": {},
   "source": [
    "# Save patient data to files"
   ]
  },
  {
   "cell_type": "markdown",
   "metadata": {},
   "source": [
    "## Survival labels"
   ]
  },
  {
   "cell_type": "code",
   "execution_count": 92,
   "metadata": {},
   "outputs": [],
   "source": [
    "survival['submitter_id'] = survival.index\n",
    "survival = survival.reset_index(drop=True)\n",
    "\n",
    "label_columns = ['submitter_id', 'time', 'event', 'group']\n",
    "survival = survival.loc[:, label_columns]"
   ]
  },
  {
   "cell_type": "code",
   "execution_count": 93,
   "metadata": {},
   "outputs": [
    {
     "data": {
      "text/html": [
       "<div>\n",
       "<style scoped>\n",
       "    .dataframe tbody tr th:only-of-type {\n",
       "        vertical-align: middle;\n",
       "    }\n",
       "\n",
       "    .dataframe tbody tr th {\n",
       "        vertical-align: top;\n",
       "    }\n",
       "\n",
       "    .dataframe thead th {\n",
       "        text-align: right;\n",
       "    }\n",
       "</style>\n",
       "<table border=\"1\" class=\"dataframe\">\n",
       "  <thead>\n",
       "    <tr style=\"text-align: right;\">\n",
       "      <th></th>\n",
       "      <th>submitter_id</th>\n",
       "      <th>time</th>\n",
       "      <th>event</th>\n",
       "      <th>group</th>\n",
       "    </tr>\n",
       "  </thead>\n",
       "  <tbody>\n",
       "    <tr>\n",
       "      <th>0</th>\n",
       "      <td>TCGA-Z7-A8R6</td>\n",
       "      <td>8.920548</td>\n",
       "      <td>0</td>\n",
       "      <td>train</td>\n",
       "    </tr>\n",
       "    <tr>\n",
       "      <th>1</th>\n",
       "      <td>TCGA-C8-A1HE</td>\n",
       "      <td>1.027397</td>\n",
       "      <td>0</td>\n",
       "      <td>train</td>\n",
       "    </tr>\n",
       "    <tr>\n",
       "      <th>2</th>\n",
       "      <td>TCGA-A8-A07B</td>\n",
       "      <td>3.583562</td>\n",
       "      <td>0</td>\n",
       "      <td>train</td>\n",
       "    </tr>\n",
       "    <tr>\n",
       "      <th>3</th>\n",
       "      <td>TCGA-AC-A2FM</td>\n",
       "      <td>2.169863</td>\n",
       "      <td>1</td>\n",
       "      <td>train</td>\n",
       "    </tr>\n",
       "    <tr>\n",
       "      <th>4</th>\n",
       "      <td>TCGA-B6-A1KF</td>\n",
       "      <td>8.460274</td>\n",
       "      <td>0</td>\n",
       "      <td>train</td>\n",
       "    </tr>\n",
       "  </tbody>\n",
       "</table>\n",
       "</div>"
      ],
      "text/plain": [
       "   submitter_id      time  event  group\n",
       "0  TCGA-Z7-A8R6  8.920548      0  train\n",
       "1  TCGA-C8-A1HE  1.027397      0  train\n",
       "2  TCGA-A8-A07B  3.583562      0  train\n",
       "3  TCGA-AC-A2FM  2.169863      1  train\n",
       "4  TCGA-B6-A1KF  8.460274      0  train"
      ]
     },
     "execution_count": 93,
     "metadata": {},
     "output_type": "execute_result"
    }
   ],
   "source": [
    "survival.head()"
   ]
  },
  {
   "cell_type": "code",
   "execution_count": 94,
   "metadata": {},
   "outputs": [],
   "source": [
    "survival.to_csv('/app/data/labels.tsv', sep='\\t', index=False)"
   ]
  },
  {
   "cell_type": "markdown",
   "metadata": {},
   "source": [
    "## Clinical data\n",
    "\n",
    "Save preprocessed clinical data as individual patient files (to use with PyTorch dataset)."
   ]
  },
  {
   "cell_type": "code",
   "execution_count": 95,
   "metadata": {},
   "outputs": [
    {
     "data": {
      "text/plain": [
       "['time', 'event', 'group']"
      ]
     },
     "execution_count": 95,
     "metadata": {},
     "output_type": "execute_result"
    }
   ],
   "source": [
    "skip"
   ]
  },
  {
   "cell_type": "code",
   "execution_count": 96,
   "metadata": {},
   "outputs": [],
   "source": [
    "clinical = clinical[categorical + continuous]"
   ]
  },
  {
   "cell_type": "code",
   "execution_count": 97,
   "metadata": {},
   "outputs": [
    {
     "data": {
      "text/html": [
       "<div>\n",
       "<style scoped>\n",
       "    .dataframe tbody tr th:only-of-type {\n",
       "        vertical-align: middle;\n",
       "    }\n",
       "\n",
       "    .dataframe tbody tr th {\n",
       "        vertical-align: top;\n",
       "    }\n",
       "\n",
       "    .dataframe thead th {\n",
       "        text-align: right;\n",
       "    }\n",
       "</style>\n",
       "<table border=\"1\" class=\"dataframe\">\n",
       "  <thead>\n",
       "    <tr style=\"text-align: right;\">\n",
       "      <th></th>\n",
       "      <th>gender</th>\n",
       "      <th>race</th>\n",
       "      <th>prior_treatment</th>\n",
       "      <th>prior_malignancy</th>\n",
       "      <th>synchronous_malignancy</th>\n",
       "      <th>treatments_pharmaceutical_treatment_or_therapy</th>\n",
       "      <th>treatments_radiation_treatment_or_therapy</th>\n",
       "      <th>age_at_diagnosis</th>\n",
       "    </tr>\n",
       "    <tr>\n",
       "      <th>submitter_id</th>\n",
       "      <th></th>\n",
       "      <th></th>\n",
       "      <th></th>\n",
       "      <th></th>\n",
       "      <th></th>\n",
       "      <th></th>\n",
       "      <th></th>\n",
       "      <th></th>\n",
       "    </tr>\n",
       "  </thead>\n",
       "  <tbody>\n",
       "    <tr>\n",
       "      <th>TCGA-Z7-A8R6</th>\n",
       "      <td>0</td>\n",
       "      <td>6</td>\n",
       "      <td>0</td>\n",
       "      <td>1</td>\n",
       "      <td>0</td>\n",
       "      <td>3</td>\n",
       "      <td>1</td>\n",
       "      <td>0.312915</td>\n",
       "    </tr>\n",
       "    <tr>\n",
       "      <th>TCGA-C8-A1HE</th>\n",
       "      <td>0</td>\n",
       "      <td>1</td>\n",
       "      <td>0</td>\n",
       "      <td>1</td>\n",
       "      <td>0</td>\n",
       "      <td>3</td>\n",
       "      <td>1</td>\n",
       "      <td>0.526807</td>\n",
       "    </tr>\n",
       "    <tr>\n",
       "      <th>TCGA-A8-A07B</th>\n",
       "      <td>0</td>\n",
       "      <td>4</td>\n",
       "      <td>0</td>\n",
       "      <td>1</td>\n",
       "      <td>0</td>\n",
       "      <td>1</td>\n",
       "      <td>1</td>\n",
       "      <td>0.680696</td>\n",
       "    </tr>\n",
       "    <tr>\n",
       "      <th>TCGA-AC-A2FM</th>\n",
       "      <td>0</td>\n",
       "      <td>6</td>\n",
       "      <td>0</td>\n",
       "      <td>1</td>\n",
       "      <td>0</td>\n",
       "      <td>1</td>\n",
       "      <td>1</td>\n",
       "      <td>0.953941</td>\n",
       "    </tr>\n",
       "    <tr>\n",
       "      <th>TCGA-B6-A1KF</th>\n",
       "      <td>0</td>\n",
       "      <td>6</td>\n",
       "      <td>0</td>\n",
       "      <td>1</td>\n",
       "      <td>0</td>\n",
       "      <td>3</td>\n",
       "      <td>3</td>\n",
       "      <td>0.655486</td>\n",
       "    </tr>\n",
       "  </tbody>\n",
       "</table>\n",
       "</div>"
      ],
      "text/plain": [
       "             gender race prior_treatment prior_malignancy  \\\n",
       "submitter_id                                                \n",
       "TCGA-Z7-A8R6      0    6               0                1   \n",
       "TCGA-C8-A1HE      0    1               0                1   \n",
       "TCGA-A8-A07B      0    4               0                1   \n",
       "TCGA-AC-A2FM      0    6               0                1   \n",
       "TCGA-B6-A1KF      0    6               0                1   \n",
       "\n",
       "             synchronous_malignancy  \\\n",
       "submitter_id                          \n",
       "TCGA-Z7-A8R6                      0   \n",
       "TCGA-C8-A1HE                      0   \n",
       "TCGA-A8-A07B                      0   \n",
       "TCGA-AC-A2FM                      0   \n",
       "TCGA-B6-A1KF                      0   \n",
       "\n",
       "             treatments_pharmaceutical_treatment_or_therapy  \\\n",
       "submitter_id                                                  \n",
       "TCGA-Z7-A8R6                                              3   \n",
       "TCGA-C8-A1HE                                              3   \n",
       "TCGA-A8-A07B                                              1   \n",
       "TCGA-AC-A2FM                                              1   \n",
       "TCGA-B6-A1KF                                              3   \n",
       "\n",
       "             treatments_radiation_treatment_or_therapy  age_at_diagnosis  \n",
       "submitter_id                                                              \n",
       "TCGA-Z7-A8R6                                         1          0.312915  \n",
       "TCGA-C8-A1HE                                         1          0.526807  \n",
       "TCGA-A8-A07B                                         1          0.680696  \n",
       "TCGA-AC-A2FM                                         1          0.953941  \n",
       "TCGA-B6-A1KF                                         3          0.655486  "
      ]
     },
     "execution_count": 97,
     "metadata": {},
     "output_type": "execute_result"
    }
   ],
   "source": [
    "clinical.head()"
   ]
  },
  {
   "cell_type": "code",
   "execution_count": 98,
   "metadata": {},
   "outputs": [],
   "source": [
    "def table_to_patient_files(table, dir_path, round_digits=4):\n",
    "    n = len(table)\n",
    "    \n",
    "    i = 0\n",
    "\n",
    "    for index, row in table.iterrows():\n",
    "        print('\\r' + f'Save data to files: {str(i + 1)}/{n}', end='')\n",
    "        i+= 1\n",
    "\n",
    "        target_file = os.path.join(dir_path, str(index) + '.tsv')\n",
    "        \n",
    "        with open(target_file, 'w') as f:\n",
    "            if round_digits is not None:\n",
    "                f.write('\\n'.join(str(round(value, round_digits)) for value in row.values))\n",
    "            else:\n",
    "                f.write('\\n'.join(str(value) for value in row.values))\n",
    "\n",
    "    print()\n",
    "    print()"
   ]
  },
  {
   "cell_type": "code",
   "execution_count": 99,
   "metadata": {},
   "outputs": [
    {
     "name": "stdout",
     "output_type": "stream",
     "text": [
      "Save data to files: 1094/1094\n",
      "\n",
      "CPU times: user 132 ms, sys: 105 ms, total: 237 ms\n",
      "Wall time: 2.01 s\n"
     ]
    }
   ],
   "source": [
    "%%time\n",
    "\n",
    "table_to_patient_files(clinical, dir_path=DATA_LOCATION, round_digits=None)"
   ]
  },
  {
   "cell_type": "markdown",
   "metadata": {},
   "source": [
    "# Watermark <a class='tocSkip'></a>"
   ]
  },
  {
   "cell_type": "code",
   "execution_count": 100,
   "metadata": {},
   "outputs": [
    {
     "name": "stdout",
     "output_type": "stream",
     "text": [
      "sklearn  : 0.0.post12\n",
      "lifelines: 0.27.8\n",
      "pandas   : 2.0.3\n",
      "\n",
      "Python implementation: CPython\n",
      "Python version       : 3.8.20\n",
      "IPython version      : 8.12.2\n",
      "\n",
      "\n",
      "Last updated: Sat Jun 07 2025\n",
      "\n"
     ]
    }
   ],
   "source": [
    "%watermark --iversions\n",
    "%watermark -v\n",
    "print()\n",
    "%watermark -u -n"
   ]
  },
  {
   "cell_type": "markdown",
   "metadata": {},
   "source": [
    "[Top of the page](#Top)"
   ]
  }
 ],
 "metadata": {
  "kernelspec": {
   "display_name": "Python 3 (ipykernel)",
   "language": "python",
   "name": "python3"
  },
  "language_info": {
   "codemirror_mode": {
    "name": "ipython",
    "version": 3
   },
   "file_extension": ".py",
   "mimetype": "text/x-python",
   "name": "python",
   "nbconvert_exporter": "python",
   "pygments_lexer": "ipython3",
   "version": "3.8.20"
  },
  "toc": {
   "base_numbering": 1,
   "nav_menu": {
    "height": "197px",
    "width": "372px"
   },
   "number_sections": true,
   "sideBar": true,
   "skip_h1_title": false,
   "title_cell": "Table of Contents",
   "title_sidebar": "Contents",
   "toc_cell": true,
   "toc_position": {
    "height": "calc(100% - 180px)",
    "left": "10px",
    "top": "150px",
    "width": "298px"
   },
   "toc_section_display": true,
   "toc_window_display": false
  }
 },
 "nbformat": 4,
 "nbformat_minor": 4
}
