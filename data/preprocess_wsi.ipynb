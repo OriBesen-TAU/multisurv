{
 "cells": [
  {
   "cell_type": "markdown",
   "metadata": {},
   "source": [
    "<a id='Top'></a>\n",
    "\n",
    "# Prepare imaging data <a class='tocSkip'></a>\n",
    "\n",
    "Use an offline patching scheme to sample patches from whole-slide images (WSIs) ahead of model training/testing. Generate a file per patient (as for other data modalities), but containing the file names of image patches sampled from that patient's WSI `.svs` files, rather than the data. These are used by the PyTorch dataset to load patient image patches."
   ]
  },
  {
   "cell_type": "code",
   "execution_count": 1,
   "metadata": {
    "code_folding": []
   },
   "outputs": [],
   "source": [
    "%load_ext autoreload\n",
    "%autoreload 2\n",
    "\n",
    "%load_ext watermark\n",
    "import os\n",
    "from io import StringIO\n",
    "import json\n",
    "from collections import Counter\n",
    "\n",
    "import numpy as np\n",
    "from PIL import Image, UnidentifiedImageError\n",
    "import pandas as pd\n",
    "import matplotlib.pyplot as plt\n",
    "import matplotlib.image as mpimg\n",
    "import requests\n",
    "import openslide as slide"
   ]
  },
  {
   "cell_type": "code",
   "execution_count": 2,
   "metadata": {},
   "outputs": [],
   "source": [
    "DATA_LOCATION = '/mnt/data/Processed_Data/WSI/'"
   ]
  },
  {
   "cell_type": "markdown",
   "metadata": {
    "toc": true
   },
   "source": [
    "<h1>Table of Contents<span class=\"tocSkip\"></span></h1>\n",
    "<div class=\"toc\"><ul class=\"toc-item\"><li><span><a href=\"#Subset-manifest-file\" data-toc-modified-id=\"Subset-manifest-file-1\"><span class=\"toc-item-num\">1&nbsp;&nbsp;</span>Subset manifest file</a></span></li><li><span><a href=\"#Map-files-to-patients\" data-toc-modified-id=\"Map-files-to-patients-2\"><span class=\"toc-item-num\">2&nbsp;&nbsp;</span>Map files to patients</a></span><ul class=\"toc-item\"><li><span><a href=\"#Drop-unused-patients\" data-toc-modified-id=\"Drop-unused-patients-2.1\"><span class=\"toc-item-num\">2.1&nbsp;&nbsp;</span>Drop unused patients</a></span></li></ul></li><li><span><a href=\"#Slides-with-max-20x-magnification\" data-toc-modified-id=\"Slides-with-max-20x-magnification-3\"><span class=\"toc-item-num\">3&nbsp;&nbsp;</span>Slides with max 20x magnification</a></span><ul class=\"toc-item\"><li><span><a href=\"#Collect-slide-magnifications\" data-toc-modified-id=\"Collect-slide-magnifications-3.1\"><span class=\"toc-item-num\">3.1&nbsp;&nbsp;</span>Collect slide magnifications</a></span></li><li><span><a href=\"#Save-slide-magnifications-to-file\" data-toc-modified-id=\"Save-slide-magnifications-to-file-3.2\"><span class=\"toc-item-num\">3.2&nbsp;&nbsp;</span>Save slide magnifications to file</a></span></li><li><span><a href=\"#Check-unread-slides\" data-toc-modified-id=\"Check-unread-slides-3.3\"><span class=\"toc-item-num\">3.3&nbsp;&nbsp;</span>Check unread slides</a></span></li><li><span><a href=\"#Drop-unusable-slides\" data-toc-modified-id=\"Drop-unusable-slides-3.4\"><span class=\"toc-item-num\">3.4&nbsp;&nbsp;</span>Drop unusable slides</a></span><ul class=\"toc-item\"><li><span><a href=\"#Drop-slides-slides-missing-magnification-or-with-20x-magnification\" data-toc-modified-id=\"Drop-slides-slides-missing-magnification-or-with-20x-magnification-3.4.1\"><span class=\"toc-item-num\">3.4.1&nbsp;&nbsp;</span>Drop slides slides missing magnification or with 20x magnification</a></span></li><li><span><a href=\"#Drop-patients-with-no-remaining-slides\" data-toc-modified-id=\"Drop-patients-with-no-remaining-slides-3.4.2\"><span class=\"toc-item-num\">3.4.2&nbsp;&nbsp;</span>Drop patients with no remaining slides</a></span></li></ul></li></ul></li><li><span><a href=\"#Generate-patient-files\" data-toc-modified-id=\"Generate-patient-files-4\"><span class=\"toc-item-num\">4&nbsp;&nbsp;</span>Generate patient files</a></span></li><li><span><a href=\"#Offline-patching\" data-toc-modified-id=\"Offline-patching-5\"><span class=\"toc-item-num\">5&nbsp;&nbsp;</span>Offline patching</a></span><ul class=\"toc-item\"><li><span><a href=\"#Count-generated-patches-per-slide\" data-toc-modified-id=\"Count-generated-patches-per-slide-5.1\"><span class=\"toc-item-num\">5.1&nbsp;&nbsp;</span>Count generated patches per slide</a></span></li><li><span><a href=\"#Generate-patient-files\" data-toc-modified-id=\"Generate-patient-files-5.2\"><span class=\"toc-item-num\">5.2&nbsp;&nbsp;</span>Generate patient files</a></span></li><li><span><a href=\"#Reorganize-directory\" data-toc-modified-id=\"Reorganize-directory-5.3\"><span class=\"toc-item-num\">5.3&nbsp;&nbsp;</span>Reorganize directory</a></span></li><li><span><a href=\"#Delete-bad-patches\" data-toc-modified-id=\"Delete-bad-patches-5.4\"><span class=\"toc-item-num\">5.4&nbsp;&nbsp;</span>Delete bad patches</a></span><ul class=\"toc-item\"><li><span><a href=\"#Find-outliers\" data-toc-modified-id=\"Find-outliers-5.4.1\"><span class=\"toc-item-num\">5.4.1&nbsp;&nbsp;</span>Find outliers</a></span></li><li><span><a href=\"#Visualize-outlier-examples\" data-toc-modified-id=\"Visualize-outlier-examples-5.4.2\"><span class=\"toc-item-num\">5.4.2&nbsp;&nbsp;</span>Visualize outlier examples</a></span></li><li><span><a href=\"#Delete-outlier-patch-files\" data-toc-modified-id=\"Delete-outlier-patch-files-5.4.3\"><span class=\"toc-item-num\">5.4.3&nbsp;&nbsp;</span>Delete outlier patch files</a></span></li><li><span><a href=\"#Generate-patient-files\" data-toc-modified-id=\"Generate-patient-files-5.4.4\"><span class=\"toc-item-num\">5.4.4&nbsp;&nbsp;</span>Generate patient files</a></span></li></ul></li></ul></li><li><span><a href=\"#Compute-patch-mean-and-std\" data-toc-modified-id=\"Compute-patch-mean-and-std-6\"><span class=\"toc-item-num\">6&nbsp;&nbsp;</span>Compute patch mean and std</a></span></li></ul></div>"
   ]
  },
  {
   "cell_type": "code",
   "execution_count": 40,
   "metadata": {},
   "outputs": [],
   "source": [
    "downloaded_samples = '/mnt/data/RawData/WSI'"
   ]
  },
  {
   "cell_type": "code",
   "execution_count": 41,
   "metadata": {},
   "outputs": [
    {
     "data": {
      "text/plain": [
       "21"
      ]
     },
     "execution_count": 41,
     "metadata": {},
     "output_type": "execute_result"
    }
   ],
   "source": [
    "len(downloaded_samples)"
   ]
  },
  {
   "cell_type": "code",
   "execution_count": 50,
   "metadata": {},
   "outputs": [
    {
     "name": "stdout",
     "output_type": "stream",
     "text": [
      "3102\n"
     ]
    }
   ],
   "source": [
    "complete_files = []\n",
    "index = 0\n",
    "for folder in os.listdir(downloaded_samples):\n",
    "    folder_path = os.path.join(downloaded_samples, folder)\n",
    "    if not os.path.isdir(folder_path):\n",
    "        continue\n",
    "\n",
    "    for f in os.listdir(folder_path):\n",
    "        if 'partial' in f.lower() or f.lower().endswith('.partial'):\n",
    "            continue\n",
    "        elif f.lower().endswith('.svs'):\n",
    "            complete_files.append(folder)\n",
    "    index+=1\n",
    "print(len(complete_files))"
   ]
  },
  {
   "cell_type": "code",
   "execution_count": 51,
   "metadata": {},
   "outputs": [],
   "source": [
    "manifest_file = os.path.join('/app/data/manifests/',\n",
    "                             'gdc_manifest.2025-06-01-wsi.txt')\n",
    "manifest = pd.read_csv(manifest_file, sep='\\t', index_col='id')"
   ]
  },
  {
   "cell_type": "code",
   "execution_count": 52,
   "metadata": {},
   "outputs": [
    {
     "data": {
      "text/plain": [
       "(3102, 4)"
      ]
     },
     "execution_count": 52,
     "metadata": {},
     "output_type": "execute_result"
    }
   ],
   "source": [
    "manifest.shape"
   ]
  },
  {
   "cell_type": "code",
   "execution_count": 53,
   "metadata": {},
   "outputs": [
    {
     "data": {
      "text/plain": [
       "(0, 4)"
      ]
     },
     "execution_count": 53,
     "metadata": {},
     "output_type": "execute_result"
    }
   ],
   "source": [
    "manifest[~manifest.index.isin(complete_files)].shape"
   ]
  },
  {
   "cell_type": "code",
   "execution_count": 54,
   "metadata": {},
   "outputs": [
    {
     "data": {
      "text/plain": [
       "(0, 4)"
      ]
     },
     "execution_count": 54,
     "metadata": {},
     "output_type": "execute_result"
    }
   ],
   "source": [
    "sub_manifest = manifest[~manifest.index.isin(complete_files)]\n",
    "sub_manifest.shape"
   ]
  },
  {
   "cell_type": "code",
   "execution_count": 55,
   "metadata": {},
   "outputs": [],
   "source": [
    "sub_manifest.reset_index(level=0, inplace=True)"
   ]
  },
  {
   "cell_type": "code",
   "execution_count": 56,
   "metadata": {},
   "outputs": [
    {
     "data": {
      "text/html": [
       "<div>\n",
       "<style scoped>\n",
       "    .dataframe tbody tr th:only-of-type {\n",
       "        vertical-align: middle;\n",
       "    }\n",
       "\n",
       "    .dataframe tbody tr th {\n",
       "        vertical-align: top;\n",
       "    }\n",
       "\n",
       "    .dataframe thead th {\n",
       "        text-align: right;\n",
       "    }\n",
       "</style>\n",
       "<table border=\"1\" class=\"dataframe\">\n",
       "  <thead>\n",
       "    <tr style=\"text-align: right;\">\n",
       "      <th></th>\n",
       "      <th>id</th>\n",
       "      <th>filename</th>\n",
       "      <th>md5</th>\n",
       "      <th>size</th>\n",
       "      <th>state</th>\n",
       "    </tr>\n",
       "  </thead>\n",
       "  <tbody>\n",
       "  </tbody>\n",
       "</table>\n",
       "</div>"
      ],
      "text/plain": [
       "Empty DataFrame\n",
       "Columns: [id, filename, md5, size, state]\n",
       "Index: []"
      ]
     },
     "execution_count": 56,
     "metadata": {},
     "output_type": "execute_result"
    }
   ],
   "source": [
    "sub_manifest.head(3)"
   ]
  },
  {
   "cell_type": "code",
   "execution_count": 57,
   "metadata": {},
   "outputs": [],
   "source": [
    "sub_manifest_file = os.path.join('/app/data/manifests/',\n",
    "                             'gdc_manifest.2025-06-01-wsi_subset.txt')\n",
    "sub_manifest.to_csv(sub_manifest_file, sep='\\t', index=False)"
   ]
  },
  {
   "cell_type": "code",
   "execution_count": 58,
   "metadata": {},
   "outputs": [
    {
     "name": "stdout",
     "output_type": "stream",
     "text": [
      "Subset manifest saved with 0 files.\n"
     ]
    }
   ],
   "source": [
    "# check for undownloaded files and create a new subset manifest\n",
    "manifest_path = '/app/data/manifests/gdc_manifest.2025-06-01-wsi.txt'\n",
    "download_dir = '/mnt/data/RawData/WSI/'\n",
    "subset_manifest_path = '/app/data/manifests/gdc_manifest.2025-06-01-wsi_subset.txt'\n",
    "\n",
    "# Load manifest\n",
    "manifest = pd.read_csv(manifest_path, sep='\\t')\n",
    "\n",
    "# Recursively get all filenames in the download directory\n",
    "downloaded_files = []\n",
    "for root, dirs, files in os.walk(download_dir):\n",
    "    for file in files:\n",
    "        downloaded_files.append(file)\n",
    "\n",
    "# Filter: Keep only rows where filename is NOT in downloaded files\n",
    "not_downloaded = manifest[~manifest['filename'].isin(downloaded_files)]\n",
    "\n",
    "# Save to new manifest\n",
    "not_downloaded.to_csv(subset_manifest_path, sep='\\t', index=False)\n",
    "\n",
    "print(f\"Subset manifest saved with {len(not_downloaded)} files.\")"
   ]
  },
  {
   "cell_type": "markdown",
   "metadata": {},
   "source": [
    "# Map files to patients\n",
    "\n",
    "Use the [GDC API](https://docs.gdc.cancer.gov/API/Users_Guide/Python_Examples/#using-python-to-query-the-gdc-api) to retrieve mapping between file names and patient IDs. Collect results as Pandas `DataFrame`."
   ]
  },
  {
   "cell_type": "code",
   "execution_count": 60,
   "metadata": {},
   "outputs": [],
   "source": [
    "def request_file_info(data_type):\n",
    "    fields = [\n",
    "        \"file_name\",\n",
    "        \"cases.submitter_id\",\n",
    "        \"cases.samples.sample_type\",\n",
    "        \"cases.project.project_id\",\n",
    "        \"cases.project.primary_site\",\n",
    "        ]\n",
    "\n",
    "    fields = \",\".join(fields)\n",
    "\n",
    "    files_endpt = \"https://api.gdc.cancer.gov/files\"\n",
    "\n",
    "    filters = {\n",
    "        \"op\": \"and\",\n",
    "        \"content\":[\n",
    "            {\n",
    "            \"op\": \"in\",\n",
    "            \"content\":{\n",
    "                \"field\": \"files.experimental_strategy\",\n",
    "                \"value\": [data_type]\n",
    "                }\n",
    "            },\n",
    "                        {\n",
    "            \"op\": \"in\",\n",
    "            \"content\":{\n",
    "                \"field\": \"files.access\",\n",
    "                \"value\": ['open']\n",
    "                }\n",
    "            }\n",
    "        ]\n",
    "    }\n",
    "\n",
    "    params = {\n",
    "        \"filters\": filters,\n",
    "        \"fields\": fields,\n",
    "        \"format\": \"TSV\",\n",
    "        \"size\": \"200000\"\n",
    "        }\n",
    "\n",
    "    response = requests.post(files_endpt, headers = {\"Content-Type\": \"application/json\"}, json = params)\n",
    "\n",
    "    return pd.read_csv(StringIO(response.content.decode(\"utf-8\")), sep=\"\\t\")"
   ]
  },
  {
   "cell_type": "code",
   "execution_count": 61,
   "metadata": {},
   "outputs": [
    {
     "data": {
      "text/plain": [
       "(11766, 7)"
      ]
     },
     "execution_count": 61,
     "metadata": {},
     "output_type": "execute_result"
    }
   ],
   "source": [
    "wsi_files = request_file_info(data_type='Diagnostic Slide')\n",
    "wsi_files.shape"
   ]
  },
  {
   "cell_type": "code",
   "execution_count": 62,
   "metadata": {},
   "outputs": [
    {
     "data": {
      "text/html": [
       "<div>\n",
       "<style scoped>\n",
       "    .dataframe tbody tr th:only-of-type {\n",
       "        vertical-align: middle;\n",
       "    }\n",
       "\n",
       "    .dataframe tbody tr th {\n",
       "        vertical-align: top;\n",
       "    }\n",
       "\n",
       "    .dataframe thead th {\n",
       "        text-align: right;\n",
       "    }\n",
       "</style>\n",
       "<table border=\"1\" class=\"dataframe\">\n",
       "  <thead>\n",
       "    <tr style=\"text-align: right;\">\n",
       "      <th></th>\n",
       "      <th>cases.0.project.primary_site</th>\n",
       "      <th>cases.0.project.project_id</th>\n",
       "      <th>cases.0.samples.0.sample_type</th>\n",
       "      <th>cases.0.samples.1.sample_type</th>\n",
       "      <th>cases.0.submitter_id</th>\n",
       "      <th>file_name</th>\n",
       "      <th>id</th>\n",
       "    </tr>\n",
       "  </thead>\n",
       "  <tbody>\n",
       "    <tr>\n",
       "      <th>0</th>\n",
       "      <td>Breast</td>\n",
       "      <td>TCGA-BRCA</td>\n",
       "      <td>Primary Tumor</td>\n",
       "      <td>NaN</td>\n",
       "      <td>TCGA-BH-A0C1</td>\n",
       "      <td>TCGA-BH-A0C1-01Z-00-DX1.21FE357E-B182-4397-BFE...</td>\n",
       "      <td>aa3f0051-ea7f-47f2-a7aa-315c1bdc3f18</td>\n",
       "    </tr>\n",
       "    <tr>\n",
       "      <th>1</th>\n",
       "      <td>Breast</td>\n",
       "      <td>TCGA-BRCA</td>\n",
       "      <td>Primary Tumor</td>\n",
       "      <td>NaN</td>\n",
       "      <td>TCGA-EW-A1P1</td>\n",
       "      <td>TCGA-EW-A1P1-01Z-00-DX1.4B670029-4B3B-4D76-8EA...</td>\n",
       "      <td>a779fff9-b54a-4c18-936f-43f75119b9ad</td>\n",
       "    </tr>\n",
       "    <tr>\n",
       "      <th>2</th>\n",
       "      <td>Breast</td>\n",
       "      <td>TCGA-BRCA</td>\n",
       "      <td>Primary Tumor</td>\n",
       "      <td>NaN</td>\n",
       "      <td>TCGA-E9-A5FL</td>\n",
       "      <td>TCGA-E9-A5FL-01Z-00-DX1.FB810D6A-303E-45DF-BEF...</td>\n",
       "      <td>e5806a73-54c4-43d1-a44b-db5f43c8e832</td>\n",
       "    </tr>\n",
       "    <tr>\n",
       "      <th>3</th>\n",
       "      <td>Breast</td>\n",
       "      <td>TCGA-BRCA</td>\n",
       "      <td>Primary Tumor</td>\n",
       "      <td>NaN</td>\n",
       "      <td>TCGA-AC-A23G</td>\n",
       "      <td>TCGA-AC-A23G-01Z-00-DX1.2F0326F7-6B77-4B3F-B4F...</td>\n",
       "      <td>2449ff02-6925-4f25-9074-7c5fbeab0bd2</td>\n",
       "    </tr>\n",
       "    <tr>\n",
       "      <th>4</th>\n",
       "      <td>Breast</td>\n",
       "      <td>TCGA-BRCA</td>\n",
       "      <td>Primary Tumor</td>\n",
       "      <td>NaN</td>\n",
       "      <td>TCGA-AO-A1KO</td>\n",
       "      <td>TCGA-AO-A1KO-01Z-00-DX1.EEB5E0A0-92B2-42CD-9F7...</td>\n",
       "      <td>03a7acd9-178a-4165-9588-fa63e46f3387</td>\n",
       "    </tr>\n",
       "  </tbody>\n",
       "</table>\n",
       "</div>"
      ],
      "text/plain": [
       "  cases.0.project.primary_site cases.0.project.project_id  \\\n",
       "0                       Breast                  TCGA-BRCA   \n",
       "1                       Breast                  TCGA-BRCA   \n",
       "2                       Breast                  TCGA-BRCA   \n",
       "3                       Breast                  TCGA-BRCA   \n",
       "4                       Breast                  TCGA-BRCA   \n",
       "\n",
       "  cases.0.samples.0.sample_type cases.0.samples.1.sample_type  \\\n",
       "0                 Primary Tumor                           NaN   \n",
       "1                 Primary Tumor                           NaN   \n",
       "2                 Primary Tumor                           NaN   \n",
       "3                 Primary Tumor                           NaN   \n",
       "4                 Primary Tumor                           NaN   \n",
       "\n",
       "  cases.0.submitter_id                                          file_name  \\\n",
       "0         TCGA-BH-A0C1  TCGA-BH-A0C1-01Z-00-DX1.21FE357E-B182-4397-BFE...   \n",
       "1         TCGA-EW-A1P1  TCGA-EW-A1P1-01Z-00-DX1.4B670029-4B3B-4D76-8EA...   \n",
       "2         TCGA-E9-A5FL  TCGA-E9-A5FL-01Z-00-DX1.FB810D6A-303E-45DF-BEF...   \n",
       "3         TCGA-AC-A23G  TCGA-AC-A23G-01Z-00-DX1.2F0326F7-6B77-4B3F-B4F...   \n",
       "4         TCGA-AO-A1KO  TCGA-AO-A1KO-01Z-00-DX1.EEB5E0A0-92B2-42CD-9F7...   \n",
       "\n",
       "                                     id  \n",
       "0  aa3f0051-ea7f-47f2-a7aa-315c1bdc3f18  \n",
       "1  a779fff9-b54a-4c18-936f-43f75119b9ad  \n",
       "2  e5806a73-54c4-43d1-a44b-db5f43c8e832  \n",
       "3  2449ff02-6925-4f25-9074-7c5fbeab0bd2  \n",
       "4  03a7acd9-178a-4165-9588-fa63e46f3387  "
      ]
     },
     "execution_count": 62,
     "metadata": {},
     "output_type": "execute_result"
    }
   ],
   "source": [
    "wsi_files.head()"
   ]
  },
  {
   "cell_type": "code",
   "execution_count": 63,
   "metadata": {},
   "outputs": [
    {
     "data": {
      "text/plain": [
       "(1132, 7)"
      ]
     },
     "execution_count": 63,
     "metadata": {},
     "output_type": "execute_result"
    }
   ],
   "source": [
    "wsi_files = wsi_files[wsi_files['cases.0.project.project_id'].str.startswith('TCGA-BRCA')]\n",
    "wsi_files = wsi_files[wsi_files['file_name'].str.endswith('.svs')]\n",
    "wsi_files = wsi_files[wsi_files['cases.0.samples.0.sample_type'] == 'Primary Tumor']\n",
    "wsi_files.shape"
   ]
  },
  {
   "cell_type": "code",
   "execution_count": 64,
   "metadata": {},
   "outputs": [
    {
     "name": "stdout",
     "output_type": "stream",
     "text": [
      "All rows:        1132\n",
      "Unique patients: 1061\n"
     ]
    }
   ],
   "source": [
    "print('All rows:       ', wsi_files.shape[0])\n",
    "print('Unique patients:', wsi_files['cases.0.submitter_id'].unique().shape[0])"
   ]
  },
  {
   "cell_type": "code",
   "execution_count": 65,
   "metadata": {},
   "outputs": [],
   "source": [
    "def make_patient_file_map(df, base_dir):\n",
    "    d = {}\n",
    "    \n",
    "    for _, row in df.iterrows():\n",
    "        patient = row['cases.0.submitter_id']\n",
    "        if patient in d:\n",
    "            if not isinstance(d[patient], tuple):\n",
    "                d[patient] = (\n",
    "                    d[patient],\n",
    "                    os.path.join(base_dir, row.id, row.file_name))\n",
    "            else:\n",
    "                d[patient] += os.path.join(base_dir, row.id, row.file_name),\n",
    "        else:\n",
    "            d[patient] = os.path.join(base_dir, row.id, row.file_name)\n",
    "\n",
    "    return d"
   ]
  },
  {
   "cell_type": "code",
   "execution_count": 66,
   "metadata": {},
   "outputs": [
    {
     "data": {
      "text/plain": [
       "1061"
      ]
     },
     "execution_count": 66,
     "metadata": {},
     "output_type": "execute_result"
    }
   ],
   "source": [
    "file_map = make_patient_file_map(wsi_files, base_dir='')\n",
    "len(file_map)"
   ]
  },
  {
   "cell_type": "code",
   "execution_count": 67,
   "metadata": {},
   "outputs": [
    {
     "data": {
      "text/plain": [
       "'aa3f0051-ea7f-47f2-a7aa-315c1bdc3f18/TCGA-BH-A0C1-01Z-00-DX1.21FE357E-B182-4397-BFEF-7E96E994236A.svs'"
      ]
     },
     "execution_count": 67,
     "metadata": {},
     "output_type": "execute_result"
    }
   ],
   "source": [
    "file_map[list(file_map.keys())[0]]"
   ]
  },
  {
   "cell_type": "markdown",
   "metadata": {},
   "source": [
    "## Drop unused patients\n",
    "\n",
    "Keep only patients present in label data."
   ]
  },
  {
   "cell_type": "code",
   "execution_count": 68,
   "metadata": {},
   "outputs": [
    {
     "data": {
      "text/plain": [
       "1094"
      ]
     },
     "execution_count": 68,
     "metadata": {},
     "output_type": "execute_result"
    }
   ],
   "source": [
    "labels = pd.read_csv('labels.tsv', sep='\\t')\n",
    "len(labels['submitter_id'])"
   ]
  },
  {
   "cell_type": "code",
   "execution_count": 69,
   "metadata": {},
   "outputs": [
    {
     "data": {
      "text/html": [
       "<div>\n",
       "<style scoped>\n",
       "    .dataframe tbody tr th:only-of-type {\n",
       "        vertical-align: middle;\n",
       "    }\n",
       "\n",
       "    .dataframe tbody tr th {\n",
       "        vertical-align: top;\n",
       "    }\n",
       "\n",
       "    .dataframe thead th {\n",
       "        text-align: right;\n",
       "    }\n",
       "</style>\n",
       "<table border=\"1\" class=\"dataframe\">\n",
       "  <thead>\n",
       "    <tr style=\"text-align: right;\">\n",
       "      <th></th>\n",
       "      <th>submitter_id</th>\n",
       "      <th>time</th>\n",
       "      <th>event</th>\n",
       "      <th>group</th>\n",
       "    </tr>\n",
       "  </thead>\n",
       "  <tbody>\n",
       "    <tr>\n",
       "      <th>0</th>\n",
       "      <td>TCGA-Z7-A8R6</td>\n",
       "      <td>8.920548</td>\n",
       "      <td>0</td>\n",
       "      <td>train</td>\n",
       "    </tr>\n",
       "    <tr>\n",
       "      <th>1</th>\n",
       "      <td>TCGA-C8-A1HE</td>\n",
       "      <td>1.027397</td>\n",
       "      <td>0</td>\n",
       "      <td>train</td>\n",
       "    </tr>\n",
       "    <tr>\n",
       "      <th>2</th>\n",
       "      <td>TCGA-A8-A07B</td>\n",
       "      <td>3.583562</td>\n",
       "      <td>0</td>\n",
       "      <td>train</td>\n",
       "    </tr>\n",
       "    <tr>\n",
       "      <th>3</th>\n",
       "      <td>TCGA-AC-A2FM</td>\n",
       "      <td>2.169863</td>\n",
       "      <td>1</td>\n",
       "      <td>train</td>\n",
       "    </tr>\n",
       "    <tr>\n",
       "      <th>4</th>\n",
       "      <td>TCGA-B6-A1KF</td>\n",
       "      <td>8.460274</td>\n",
       "      <td>0</td>\n",
       "      <td>train</td>\n",
       "    </tr>\n",
       "  </tbody>\n",
       "</table>\n",
       "</div>"
      ],
      "text/plain": [
       "   submitter_id      time  event  group\n",
       "0  TCGA-Z7-A8R6  8.920548      0  train\n",
       "1  TCGA-C8-A1HE  1.027397      0  train\n",
       "2  TCGA-A8-A07B  3.583562      0  train\n",
       "3  TCGA-AC-A2FM  2.169863      1  train\n",
       "4  TCGA-B6-A1KF  8.460274      0  train"
      ]
     },
     "execution_count": 69,
     "metadata": {},
     "output_type": "execute_result"
    }
   ],
   "source": [
    "labels.head()"
   ]
  },
  {
   "cell_type": "code",
   "execution_count": 70,
   "metadata": {},
   "outputs": [],
   "source": [
    "file_map = {k: file_map[k] for k in file_map if k in list(labels['submitter_id'])}"
   ]
  },
  {
   "cell_type": "code",
   "execution_count": 71,
   "metadata": {},
   "outputs": [
    {
     "data": {
      "text/plain": [
       "1058"
      ]
     },
     "execution_count": 71,
     "metadata": {},
     "output_type": "execute_result"
    }
   ],
   "source": [
    "len(file_map)"
   ]
  },
  {
   "cell_type": "code",
   "execution_count": 72,
   "metadata": {},
   "outputs": [
    {
     "name": "stdout",
     "output_type": "stream",
     "text": [
      "64 patients with more than one slide\n",
      "(with 2.08 slides per patient)\n"
     ]
    }
   ],
   "source": [
    "slide_counts = {}\n",
    "\n",
    "for patient in file_map:\n",
    "    slides = file_map[patient]\n",
    "    if isinstance(slides, tuple):\n",
    "        slide_counts[patient] = len(slides)\n",
    "\n",
    "print(len(slide_counts), 'patients with more than one slide')\n",
    "print(f'(with {round(np.mean(list(slide_counts.values())), 2)} slides per patient)')"
   ]
  },
  {
   "cell_type": "markdown",
   "metadata": {},
   "source": [
    "# Slides with max 20x magnification\n",
    "\n",
    "There are slides with a maximum magnification of 20x instead of 40x. Drop these slides from the data.\n",
    "\n",
    "> __Note:__ De to the large size of the data, I have sp;it and stored it across four different locations."
   ]
  },
  {
   "cell_type": "markdown",
   "metadata": {},
   "source": [
    "## Collect slide magnifications"
   ]
  },
  {
   "cell_type": "code",
   "execution_count": 73,
   "metadata": {},
   "outputs": [],
   "source": [
    "location_paths = { 'wsi': '/mnt/data/RawData/WSI' }"
   ]
  },
  {
   "cell_type": "code",
   "execution_count": 74,
   "metadata": {},
   "outputs": [],
   "source": [
    "location_files = { 'wsi': os.listdir(location_paths['wsi']) }"
   ]
  },
  {
   "cell_type": "code",
   "execution_count": 75,
   "metadata": {},
   "outputs": [
    {
     "data": {
      "text/plain": [
       "['0018cc22-498a-45b8-bfd4-b0fe0c3a2f0a',\n",
       " '006984cf-35fc-4bc3-a0db-7f5b68de4a6e',\n",
       " '0070d4e9-f838-4ee9-a48b-c894b3b86440',\n",
       " '009f90d0-53c9-48a9-a362-72328cccd66e',\n",
       " '00ab866f-a0a3-44c0-ad14-c9dc833239a7']"
      ]
     },
     "execution_count": 75,
     "metadata": {},
     "output_type": "execute_result"
    }
   ],
   "source": [
    "location_files['wsi'][:5]"
   ]
  },
  {
   "cell_type": "code",
   "execution_count": 76,
   "metadata": {},
   "outputs": [
    {
     "data": {
      "text/plain": [
       "[3102]"
      ]
     },
     "execution_count": 76,
     "metadata": {},
     "output_type": "execute_result"
    }
   ],
   "source": [
    "[len(l) for _, l in location_files.items()]"
   ]
  },
  {
   "cell_type": "code",
   "execution_count": 77,
   "metadata": {},
   "outputs": [],
   "source": [
    "def get_slide_mag(slide_file):\n",
    "    try:\n",
    "        wsi = slide.OpenSlide(filename=slide_file)\n",
    "        d = dict(wsi.properties)\n",
    "    except:\n",
    "        return slide_file\n",
    "    if 'aperio.AppMag' in d.keys():\n",
    "        mag = d['aperio.AppMag']\n",
    "        return mag\n",
    "    else:\n",
    "        return slide_file\n",
    "\n",
    "def lookup_full_path(wsi_file, slide_paths, locations):\n",
    "    # Get all folder names from the WSI path (excluding the .svs filename)\n",
    "    folders = os.path.dirname(wsi_file).split('/')\n",
    "\n",
    "    for location, leaf_dirs in slide_paths.items():\n",
    "        if any(folder in leaf_dirs for folder in folders):\n",
    "            return os.path.join(locations[location], wsi_file)\n",
    "\n",
    "    return None"
   ]
  },
  {
   "cell_type": "code",
   "execution_count": 78,
   "metadata": {
    "code_folding": []
   },
   "outputs": [
    {
     "name": "stdout",
     "output_type": "stream",
     "text": [
      "Collecting slide magnifications:\n",
      "1058/1058\n",
      "CPU times: user 9.77 s, sys: 12.9 s, total: 22.7 s\n",
      "Wall time: 5min 39s\n"
     ]
    }
   ],
   "source": [
    "%%time\n",
    "\n",
    "slide_mags = {}\n",
    "\n",
    "print('Collecting slide magnifications:')\n",
    "n = len(file_map)\n",
    "        \n",
    "for i, patient in enumerate(file_map):\n",
    "#     if i > 100:\n",
    "#         break\n",
    "    print('\\r' + f'{str((i + 1))}/{n}', end='')\n",
    "    \n",
    "    if isinstance(file_map[patient], tuple):\n",
    "        slide_mags[patient] = tuple()\n",
    "        for f in file_map[patient]:\n",
    "            f = lookup_full_path(f, location_files, location_paths)\n",
    "            if f is not None:\n",
    "                slide_mags[patient] += get_slide_mag(f),\n",
    "    else:\n",
    "        f = lookup_full_path(file_map[patient], location_files, location_paths)\n",
    "        if f is not None:\n",
    "            slide_mags[patient] = get_slide_mag(\n",
    "                lookup_full_path(f, location_files, location_paths))\n",
    "print()"
   ]
  },
  {
   "cell_type": "code",
   "execution_count": 79,
   "metadata": {},
   "outputs": [
    {
     "data": {
      "text/plain": [
       "1057"
      ]
     },
     "execution_count": 79,
     "metadata": {},
     "output_type": "execute_result"
    }
   ],
   "source": [
    "len(slide_mags)"
   ]
  },
  {
   "cell_type": "markdown",
   "metadata": {},
   "source": [
    "## Save slide magnifications to file"
   ]
  },
  {
   "cell_type": "code",
   "execution_count": 80,
   "metadata": {},
   "outputs": [],
   "source": [
    "with open('/app/data/wsi_magnifications.json', 'w') as f:\n",
    "    json.dump(slide_mags, f)"
   ]
  },
  {
   "cell_type": "markdown",
   "metadata": {},
   "source": [
    "## Check unread slides\n",
    "\n",
    "Function `get_slide_mag()` returns the slide file name when the magnification is not found (no `'aperio.AppMag'` found in `Slide` attributes).\n",
    "\n",
    "Start by checking unreadable slides and manually download the cases where the problem is partial original downloads."
   ]
  },
  {
   "cell_type": "code",
   "execution_count": 81,
   "metadata": {},
   "outputs": [],
   "source": [
    "slide_mags = json.load(open('/app/data/wsi_magnifications.json'))"
   ]
  },
  {
   "cell_type": "code",
   "execution_count": 82,
   "metadata": {},
   "outputs": [],
   "source": [
    "patients_with_failed_slides = []\n",
    "\n",
    "for patient in slide_mags:\n",
    "    mags = slide_mags[patient]\n",
    "    if not isinstance(mags, list):\n",
    "        mags = [mags]\n",
    "    for x in mags:\n",
    "        if x.startswith('20') or x.startswith('40'):\n",
    "            next\n",
    "        else:\n",
    "            patients_with_failed_slides += [patient]"
   ]
  },
  {
   "cell_type": "code",
   "execution_count": 83,
   "metadata": {},
   "outputs": [
    {
     "data": {
      "text/plain": [
       "7"
      ]
     },
     "execution_count": 83,
     "metadata": {},
     "output_type": "execute_result"
    }
   ],
   "source": [
    "len(patients_with_failed_slides)"
   ]
  },
  {
   "cell_type": "code",
   "execution_count": 84,
   "metadata": {},
   "outputs": [
    {
     "name": "stdout",
     "output_type": "stream",
     "text": [
      "CPU times: user 30.1 ms, sys: 90.3 ms, total: 120 ms\n",
      "Wall time: 1.44 s\n"
     ]
    }
   ],
   "source": [
    "%%time\n",
    "\n",
    "fail_opening = []\n",
    "\n",
    "for patient in patients_with_failed_slides:\n",
    "    files = slide_mags[patient]\n",
    "    if not isinstance(files, list):\n",
    "        files = [files]\n",
    "    for file in files:\n",
    "        try:\n",
    "            slide.OpenSlide(filename=file)\n",
    "        except:\n",
    "            fail_opening += [patient]"
   ]
  },
  {
   "cell_type": "code",
   "execution_count": 85,
   "metadata": {},
   "outputs": [
    {
     "data": {
      "text/plain": [
       "0"
      ]
     },
     "execution_count": 85,
     "metadata": {},
     "output_type": "execute_result"
    }
   ],
   "source": [
    "len(set(fail_opening))"
   ]
  },
  {
   "cell_type": "code",
   "execution_count": 86,
   "metadata": {},
   "outputs": [
    {
     "data": {
      "text/plain": [
       "set()"
      ]
     },
     "execution_count": 86,
     "metadata": {},
     "output_type": "execute_result"
    }
   ],
   "source": [
    "set(fail_opening)"
   ]
  },
  {
   "cell_type": "code",
   "execution_count": 87,
   "metadata": {
    "scrolled": true
   },
   "outputs": [
    {
     "data": {
      "text/plain": [
       "'40'"
      ]
     },
     "execution_count": 87,
     "metadata": {},
     "output_type": "execute_result"
    }
   ],
   "source": [
    "slide_mags['TCGA-AR-A0TQ']"
   ]
  },
  {
   "cell_type": "code",
   "execution_count": 88,
   "metadata": {},
   "outputs": [
    {
     "data": {
      "text/plain": [
       "{'aperio.AppMag': '40',\n",
       " 'aperio.DSR ID': 'resc3-dsr2',\n",
       " 'aperio.Date': '09/07/10',\n",
       " 'aperio.DisplayColor': '0',\n",
       " 'aperio.Exposure Scale': '0.000001',\n",
       " 'aperio.Exposure Time': '109',\n",
       " 'aperio.Filename': 'TCGA-AR-A0TQ-01A-01-TSA',\n",
       " 'aperio.Focus Offset': '-0.000500',\n",
       " 'aperio.ICC Profile': 'ScanScope v1',\n",
       " 'aperio.ImageID': '30078',\n",
       " 'aperio.Left': '26.281858',\n",
       " 'aperio.LineAreaXOffset': '-0.014041',\n",
       " 'aperio.LineAreaYOffset': '0.000544',\n",
       " 'aperio.LineCameraSkew': '0.000833',\n",
       " 'aperio.MPP': '0.2485',\n",
       " 'aperio.OriginalHeight': '35567',\n",
       " 'aperio.OriginalWidth': '115000',\n",
       " 'aperio.Parmset': 'CHTN FocusRad18 on RESBPCLACIE01',\n",
       " 'aperio.ScanScope ID': 'SS1436CNTLR',\n",
       " 'aperio.StripeWidth': '1000',\n",
       " 'aperio.Time': '09:11:35',\n",
       " 'aperio.Title': 'TCGA-AR-A0TQ-01A-01-TSA',\n",
       " 'aperio.Top': '16.811081',\n",
       " 'aperio.User': '00f5c00f-24a9-41e6-a23f-7085209a268e',\n",
       " 'openslide.associated.thumbnail.height': '329',\n",
       " 'openslide.associated.thumbnail.width': '1024',\n",
       " 'openslide.comment': 'Aperio Image Library v10.2.20\\r\\n115000x35567 [0,100 110122x35467] (256x256) JPEG/RGB Q=30|AppMag = 40|StripeWidth = 1000|ScanScope ID = SS1436CNTLR|Filename = TCGA-AR-A0TQ-01A-01-TSA|Title = TCGA-AR-A0TQ-01A-01-TSA|Date = 09/07/10|Time = 09:11:35|User = 00f5c00f-24a9-41e6-a23f-7085209a268e|Parmset = CHTN FocusRad18 on RESBPCLACIE01|MPP = 0.2485|Left = 26.281858|Top = 16.811081|LineCameraSkew = 0.000833|LineAreaXOffset = -0.014041|LineAreaYOffset = 0.000544|Focus Offset = -0.000500|DSR ID = resc3-dsr2|ImageID = 30078|Exposure Time = 109|Exposure Scale = 0.000001|DisplayColor = 0|OriginalWidth = 115000|OriginalHeight = 35567|ICC Profile = ScanScope v1',\n",
       " 'openslide.icc-size': '141992',\n",
       " 'openslide.level-count': '4',\n",
       " 'openslide.level[0].downsample': '1',\n",
       " 'openslide.level[0].height': '35467',\n",
       " 'openslide.level[0].tile-height': '256',\n",
       " 'openslide.level[0].tile-width': '256',\n",
       " 'openslide.level[0].width': '110122',\n",
       " 'openslide.level[1].downsample': '4.0002055096632274',\n",
       " 'openslide.level[1].height': '8866',\n",
       " 'openslide.level[1].tile-height': '256',\n",
       " 'openslide.level[1].tile-width': '256',\n",
       " 'openslide.level[1].width': '27530',\n",
       " 'openslide.level[2].downsample': '16.003208482443078',\n",
       " 'openslide.level[2].height': '2216',\n",
       " 'openslide.level[2].tile-height': '256',\n",
       " 'openslide.level[2].tile-width': '256',\n",
       " 'openslide.level[2].width': '6882',\n",
       " 'openslide.level[3].downsample': '32.006416964886157',\n",
       " 'openslide.level[3].height': '1108',\n",
       " 'openslide.level[3].tile-height': '256',\n",
       " 'openslide.level[3].tile-width': '256',\n",
       " 'openslide.level[3].width': '3441',\n",
       " 'openslide.mpp-x': '0.2485',\n",
       " 'openslide.mpp-y': '0.2485',\n",
       " 'openslide.objective-power': '40',\n",
       " 'openslide.quickhash-1': 'd2c9f5ab4a48cba7c9a0deed8687778e4841b811c028a3ff10bfe6e4045e5e92',\n",
       " 'openslide.vendor': 'aperio',\n",
       " 'tiff.ImageDescription': 'Aperio Image Library v10.2.20\\r\\n115000x35567 [0,100 110122x35467] (256x256) JPEG/RGB Q=30|AppMag = 40|StripeWidth = 1000|ScanScope ID = SS1436CNTLR|Filename = TCGA-AR-A0TQ-01A-01-TSA|Title = TCGA-AR-A0TQ-01A-01-TSA|Date = 09/07/10|Time = 09:11:35|User = 00f5c00f-24a9-41e6-a23f-7085209a268e|Parmset = CHTN FocusRad18 on RESBPCLACIE01|MPP = 0.2485|Left = 26.281858|Top = 16.811081|LineCameraSkew = 0.000833|LineAreaXOffset = -0.014041|LineAreaYOffset = 0.000544|Focus Offset = -0.000500|DSR ID = resc3-dsr2|ImageID = 30078|Exposure Time = 109|Exposure Scale = 0.000001|DisplayColor = 0|OriginalWidth = 115000|OriginalHeight = 35567|ICC Profile = ScanScope v1',\n",
       " 'tiff.ResolutionUnit': 'inch'}"
      ]
     },
     "execution_count": 88,
     "metadata": {},
     "output_type": "execute_result"
    }
   ],
   "source": [
    "wsi = slide.OpenSlide(filename='/mnt/data/RawData/WSI/00cf804f-0136-43c0-88c3-c36690d87875/TCGA-AR-A0TQ-01A-01-TSA.aa243f75-79d1-42b5-958a-6beaf7ae7a86.svs')\n",
    "d = dict(wsi.properties)\n",
    "d\n",
    "\n",
    "# d['aperio.AppMag']"
   ]
  },
  {
   "cell_type": "markdown",
   "metadata": {},
   "source": [
    "## Drop unusable slides\n",
    "\n",
    "Start by checking magnifications for all flagged slides, in case the repaired files contain magnification values. Then drop both slides missing magnification info or with 20x maximum magnification and any patients with no remaining slides."
   ]
  },
  {
   "cell_type": "code",
   "execution_count": 89,
   "metadata": {},
   "outputs": [],
   "source": [
    "slide_mags = json.load(open('wsi_magnifications.json'))"
   ]
  },
  {
   "cell_type": "code",
   "execution_count": 90,
   "metadata": {},
   "outputs": [],
   "source": [
    "# Any patients with slide paths for which magnification is available?\n",
    "patients_with_failed_slides = []\n",
    "\n",
    "for patient in slide_mags:\n",
    "    mags = slide_mags[patient]\n",
    "    if not isinstance(mags, list):\n",
    "        mags = [mags]\n",
    "    for x in mags:\n",
    "        if x.startswith('20') or x.startswith('40'):\n",
    "            next\n",
    "        else:\n",
    "            patients_with_failed_slides += [patient]"
   ]
  },
  {
   "cell_type": "code",
   "execution_count": 91,
   "metadata": {},
   "outputs": [
    {
     "data": {
      "text/plain": [
       "False"
      ]
     },
     "execution_count": 91,
     "metadata": {},
     "output_type": "execute_result"
    }
   ],
   "source": [
    "len(slide_mags) == len(file_map)"
   ]
  },
  {
   "cell_type": "code",
   "execution_count": 92,
   "metadata": {},
   "outputs": [],
   "source": [
    "def any_slide_mag(slide_file):\n",
    "    try:\n",
    "        wsi = slide.OpenSlide(filename=slide_file)\n",
    "        d = dict(wsi.properties)\n",
    "        if 'aperio.AppMag' in d.keys():\n",
    "            print(slide_file, d['aperio.AppMag'])\n",
    "    except:\n",
    "        print('Could not open file:', slide_file)\n",
    "\n",
    "for patient in patients_with_failed_slides:\n",
    "    mags = slide_mags[patient]\n",
    "    if not isinstance(mags, list):\n",
    "        mags = [mags]\n",
    "    for mag in mags:\n",
    "        if mag.startswith('20') or mag.startswith('40'):\n",
    "            next\n",
    "        else:\n",
    "            any_slide_mag(mag)"
   ]
  },
  {
   "cell_type": "markdown",
   "metadata": {},
   "source": [
    "### Drop slides slides missing magnification or with 20x magnification"
   ]
  },
  {
   "cell_type": "code",
   "execution_count": 93,
   "metadata": {},
   "outputs": [],
   "source": [
    "# Convert all values to list\n",
    "for patient in slide_mags:\n",
    "    if not isinstance(slide_mags[patient], list):\n",
    "        slide_mags[patient] = [slide_mags[patient]]\n",
    "\n",
    "# Drop 20x values\n",
    "for patient in slide_mags:\n",
    "    slide_mags[patient] = [x for x in slide_mags[patient]\n",
    "                           if not x.startswith('20')]\n",
    "    \n",
    "# Drop file values\n",
    "for patient in slide_mags:\n",
    "    slide_mags[patient] = [x for x in slide_mags[patient]\n",
    "                           if x.startswith('40')]"
   ]
  },
  {
   "cell_type": "markdown",
   "metadata": {},
   "source": [
    "### Drop patients with no remaining slides"
   ]
  },
  {
   "cell_type": "code",
   "execution_count": 94,
   "metadata": {},
   "outputs": [
    {
     "data": {
      "text/plain": [
       "1057"
      ]
     },
     "execution_count": 94,
     "metadata": {},
     "output_type": "execute_result"
    }
   ],
   "source": [
    "len(slide_mags)"
   ]
  },
  {
   "cell_type": "code",
   "execution_count": 95,
   "metadata": {},
   "outputs": [],
   "source": [
    "patients_with_no_slides = []\n",
    "\n",
    "for patient in slide_mags:\n",
    "    if not slide_mags[patient]:\n",
    "        patients_with_no_slides += [patient]"
   ]
  },
  {
   "cell_type": "code",
   "execution_count": 96,
   "metadata": {},
   "outputs": [
    {
     "data": {
      "text/plain": [
       "144"
      ]
     },
     "execution_count": 96,
     "metadata": {},
     "output_type": "execute_result"
    }
   ],
   "source": [
    "len(patients_with_no_slides)"
   ]
  },
  {
   "cell_type": "code",
   "execution_count": 97,
   "metadata": {},
   "outputs": [],
   "source": [
    "slide_mags = {patient: v for patient, v in slide_mags.items()\n",
    "              if patient not in patients_with_no_slides}"
   ]
  },
  {
   "cell_type": "code",
   "execution_count": 98,
   "metadata": {},
   "outputs": [
    {
     "data": {
      "text/plain": [
       "913"
      ]
     },
     "execution_count": 98,
     "metadata": {},
     "output_type": "execute_result"
    }
   ],
   "source": [
    "len(slide_mags)"
   ]
  },
  {
   "cell_type": "code",
   "execution_count": 99,
   "metadata": {},
   "outputs": [
    {
     "data": {
      "text/plain": [
       "1058"
      ]
     },
     "execution_count": 99,
     "metadata": {},
     "output_type": "execute_result"
    }
   ],
   "source": [
    "len(file_map)"
   ]
  },
  {
   "cell_type": "code",
   "execution_count": 100,
   "metadata": {},
   "outputs": [],
   "source": [
    "file_map = {patient: v for patient, v in file_map.items()\n",
    "            if patient in slide_mags}"
   ]
  },
  {
   "cell_type": "code",
   "execution_count": 101,
   "metadata": {},
   "outputs": [
    {
     "data": {
      "text/plain": [
       "913"
      ]
     },
     "execution_count": 101,
     "metadata": {},
     "output_type": "execute_result"
    }
   ],
   "source": [
    "len(file_map)"
   ]
  },
  {
   "cell_type": "markdown",
   "metadata": {},
   "source": [
    "# Generate patient files"
   ]
  },
  {
   "cell_type": "code",
   "execution_count": 102,
   "metadata": {},
   "outputs": [
    {
     "data": {
      "text/plain": [
       "'/mnt/data/RawData/WSI/aa3f0051-ea7f-47f2-a7aa-315c1bdc3f18/TCGA-BH-A0C1-01Z-00-DX1.21FE357E-B182-4397-BFEF-7E96E994236A.svs'"
      ]
     },
     "execution_count": 102,
     "metadata": {},
     "output_type": "execute_result"
    }
   ],
   "source": [
    "eg_file = list(file_map.values())[0]\n",
    "\n",
    "lookup_full_path(eg_file, location_files, location_paths)"
   ]
  },
  {
   "cell_type": "code",
   "execution_count": 103,
   "metadata": {},
   "outputs": [
    {
     "data": {
      "text/plain": [
       "{'wsi': '/mnt/data/RawData/WSI'}"
      ]
     },
     "execution_count": 103,
     "metadata": {},
     "output_type": "execute_result"
    }
   ],
   "source": [
    "location_paths"
   ]
  },
  {
   "cell_type": "code",
   "execution_count": 105,
   "metadata": {},
   "outputs": [],
   "source": [
    "def get_target_dir(patient, base_dirs, id_groups):\n",
    "    if patient in id_groups['train']:\n",
    "        target_dir = os.path.join(base_dir, 'train')\n",
    "    elif patient in id_groups['val']:\n",
    "        target_dir = os.path.join(base_dir, 'val')\n",
    "    elif patient in id_groups['test']:\n",
    "        target_dir = os.path.join(base_dir, 'test')\n",
    "    else:\n",
    "        raise ValueError(f'Patient id {patient} not found in \"id_groups\"!')\n",
    "    \n",
    "    return target_dir"
   ]
  },
  {
   "cell_type": "code",
   "execution_count": 106,
   "metadata": {},
   "outputs": [
    {
     "name": "stdout",
     "output_type": "stream",
     "text": [
      "Write patient files:\n",
      "913/913"
     ]
    }
   ],
   "source": [
    "print('Write patient files:')\n",
    "n = len(file_map)\n",
    "\n",
    "base_dir = '/mnt/data/Processed_Data/WSI/'\n",
    "id_groups = {\n",
    "    split: labels.loc[labels['group'] == split, 'submitter_id'].tolist()\n",
    "    for split in labels['group'].unique()\n",
    "}\n",
    "\n",
    "for i, patient in enumerate(file_map):\n",
    "    print('\\r' + f'{str((i + 1))}/{n}', end='')\n",
    "    \n",
    "    patient_files = file_map[patient]\n",
    "    if not isinstance(patient_files, (tuple, list)):\n",
    "        file_paths = [patient_files]\n",
    "\n",
    "    target_dir = get_target_dir(patient, base_dir, id_groups)\n",
    "    os.makedirs(target_dir, exist_ok=True)\n",
    "    target_file = os.path.join(target_dir, str(patient) + '.txt')\n",
    "\n",
    "    file_paths = [lookup_full_path(file_path, location_files, location_paths)\n",
    "                  for file_path in file_paths if file_path is not None]\n",
    "    \n",
    "    # Remove None (file not yet downloaded...)\n",
    "    file_paths = [f for f in file_paths if f is not None]\n",
    "\n",
    "    with open(target_file, 'w') as f:\n",
    "        f.write('\\n'.join(file_paths))"
   ]
  },
  {
   "cell_type": "markdown",
   "metadata": {},
   "source": [
    "# Offline patching\n",
    "\n",
    "Run dedicated script (found in `src/scripts` directory) with a selected input directory at a time.\n",
    "\n",
    "Slide directories:\n",
    "* `/home/luis/net/Isilon/data.isilon/ag-rohr/bq_lsilva/WSI/`\n",
    "* `/home/luis/net/gpu_rig/bq_lsilva/WSI/`\n",
    "* `/mnt/dataB/WSI/`\n",
    "* `/mnt/dataB/nas_copy/data/Projects/imaging_genomics/TCGA_BRCA/diagnostic_slide/`\n",
    "\n",
    "Generate a good number of patches per WSI. For example, 50 patches per slide will yield the following total numbers of patches:\n",
    "* 302'450 for Isilon\n",
    "* 134'600 for GPU rig\n",
    "* 94'600 for `dataB`\n",
    "* 56'650 for BRCA\n",
    "\n",
    "Example command:\n",
    "\n",
    "```bash\n",
    "$ conda activate ig\n",
    "$ python ./wsi_patcher.py \\\n",
    "   -i /home/luis/net/gpu_rig/bq_lsilva/WSI/ \\\n",
    "   -l ../../data/labels.tsv \\\n",
    "   -o /mnt/dataA/TCGA/processed/WSI/tissue_patches/ \\\n",
    "   -n 50\n",
    "```"
   ]
  },
  {
   "cell_type": "markdown",
   "metadata": {},
   "source": [
    "## Count generated patches per slide\n",
    "\n",
    "Sanity check to make sure there is a balanced number of patches per each slide."
   ]
  },
  {
   "cell_type": "code",
   "execution_count": 123,
   "metadata": {},
   "outputs": [],
   "source": [
    "base_dir = os.path.join(DATA_LOCATION, 'tissue_patches')"
   ]
  },
  {
   "cell_type": "code",
   "execution_count": 124,
   "metadata": {},
   "outputs": [],
   "source": [
    "from collections import Counter\n",
    "\n",
    "patches_named_as_slides = ['-'.join(os.path.basename(patch).split('-')[:3])\n",
    "                           for patch in os.listdir(base_dir)]\n",
    "    \n",
    "c = Counter(patches_named_as_slides)"
   ]
  },
  {
   "cell_type": "code",
   "execution_count": 125,
   "metadata": {},
   "outputs": [
    {
     "data": {
      "text/plain": [
       "1093"
      ]
     },
     "execution_count": 125,
     "metadata": {},
     "output_type": "execute_result"
    }
   ],
   "source": [
    "len([x for x in c if c[x] > 0])"
   ]
  },
  {
   "cell_type": "code",
   "execution_count": 110,
   "metadata": {},
   "outputs": [],
   "source": [
    "def how_many_patches_per_patient(patch_dir):\n",
    "    patches_named_as_patients = ['-'.join(patch.split('-')[:3])\n",
    "                                 for patch in os.listdir(patch_dir)]\n",
    "    \n",
    "    c = Counter(patches_named_as_patients)\n",
    "\n",
    "    print(f'# patches: {len(patches_named_as_patients)}')\n",
    "    print(f'# Represented patients: {len(c)}')\n",
    "    unique_counts = set(c.values())\n",
    "    print(f'Unique #s patches per patient: {unique_counts}')"
   ]
  },
  {
   "cell_type": "code",
   "execution_count": 111,
   "metadata": {},
   "outputs": [],
   "source": [
    "location_paths = base_dir"
   ]
  },
  {
   "cell_type": "code",
   "execution_count": 114,
   "metadata": {},
   "outputs": [
    {
     "name": "stdout",
     "output_type": "stream",
     "text": [
      "CPU times: user 23.2 ms, sys: 27 ms, total: 50.2 ms\n",
      "Wall time: 418 ms\n"
     ]
    }
   ],
   "source": [
    "%%time\n",
    "\n",
    "location_files = os.listdir(location_paths)"
   ]
  },
  {
   "cell_type": "code",
   "execution_count": 116,
   "metadata": {},
   "outputs": [
    {
     "data": {
      "text/plain": [
       "116798"
      ]
     },
     "execution_count": 116,
     "metadata": {},
     "output_type": "execute_result"
    }
   ],
   "source": [
    "n_files = len(location_files)\n",
    "n_files"
   ]
  },
  {
   "cell_type": "code",
   "execution_count": 118,
   "metadata": {},
   "outputs": [
    {
     "name": "stdout",
     "output_type": "stream",
     "text": [
      "Total # of WSI files: 116798\n"
     ]
    }
   ],
   "source": [
    "print('Total # of WSI files:', n_files)"
   ]
  },
  {
   "cell_type": "code",
   "execution_count": 119,
   "metadata": {},
   "outputs": [
    {
     "name": "stdout",
     "output_type": "stream",
     "text": [
      "# patches: 116982\n",
      "# Represented patients: 1093\n",
      "Unique #s patches per patient: {1, 130, 2, 100, 200, 300, 50, 149, 150, 249, 250, 350}\n"
     ]
    }
   ],
   "source": [
    "base_dir = os.path.join(DATA_LOCATION, 'tissue_patches')\n",
    "\n",
    "how_many_patches_per_patient(patch_dir=base_dir)"
   ]
  },
  {
   "cell_type": "markdown",
   "metadata": {},
   "source": [
    "## Generate patient files"
   ]
  },
  {
   "cell_type": "code",
   "execution_count": 126,
   "metadata": {},
   "outputs": [],
   "source": [
    "def lookup_full_path(wsi_file, slide_paths, locations):\n",
    "    file_path = None\n",
    "\n",
    "    for location, leaf_dirs in slide_paths.items():\n",
    "        for leaf_dir in leaf_dirs:\n",
    "            if leaf_dir in wsi_file:\n",
    "                file_path = os.path.join(locations[location], wsi_file)\n",
    "\n",
    "    return file_path"
   ]
  },
  {
   "cell_type": "code",
   "execution_count": 127,
   "metadata": {},
   "outputs": [],
   "source": [
    "base_dir = os.path.join(DATA_LOCATION, 'tissue_patches')"
   ]
  },
  {
   "cell_type": "code",
   "execution_count": 128,
   "metadata": {},
   "outputs": [
    {
     "data": {
      "text/plain": [
       "'aa3f0051-ea7f-47f2-a7aa-315c1bdc3f18/TCGA-BH-A0C1-01Z-00-DX1.21FE357E-B182-4397-BFEF-7E96E994236A.svs'"
      ]
     },
     "execution_count": 128,
     "metadata": {},
     "output_type": "execute_result"
    }
   ],
   "source": [
    "list(file_map.values())[0]"
   ]
  },
  {
   "cell_type": "code",
   "execution_count": 129,
   "metadata": {},
   "outputs": [],
   "source": [
    "def get_patientid_from(file):\n",
    "    return '-'.join(str.split(file, '-')[:3])\n",
    "\n",
    "def list_patch_files(patient_id, patch_dir):    \n",
    "    patches = []\n",
    "    \n",
    "    for patch_file in os.listdir(patch_dir):\n",
    "        if get_patientid_from(patch_file) == patient:\n",
    "            patches.append(patch_file)\n",
    "    \n",
    "    if not patches:\n",
    "        return None\n",
    "    \n",
    "    return patches"
   ]
  },
  {
   "cell_type": "markdown",
   "metadata": {},
   "source": [
    "Check a couple of example patients."
   ]
  },
  {
   "cell_type": "code",
   "execution_count": 130,
   "metadata": {},
   "outputs": [
    {
     "name": "stdout",
     "output_type": "stream",
     "text": [
      "Found 100 patches for patient TCGA-BH-A0C1.\n"
     ]
    },
    {
     "data": {
      "text/plain": [
       "['TCGA-AR-A0TY-01A-01-TSA_08d62.png',\n",
       " 'TCGA-AR-A0TY-01A-01-TSA_09eac.png',\n",
       " 'TCGA-AR-A0TY-01A-01-TSA_0a128.png',\n",
       " 'TCGA-AR-A0TY-01A-01-TSA_1349c.png',\n",
       " 'TCGA-AR-A0TY-01A-01-TSA_19247.png']"
      ]
     },
     "execution_count": 130,
     "metadata": {},
     "output_type": "execute_result"
    }
   ],
   "source": [
    "eg_patient = list(file_map.keys())[0]\n",
    "\n",
    "patient_patches = list_patch_files(eg_patient, base_dir)\n",
    "print(f'Found {len(patient_patches)} patches for patient {eg_patient}.')\n",
    "patient_patches[:5]"
   ]
  },
  {
   "cell_type": "code",
   "execution_count": 131,
   "metadata": {},
   "outputs": [
    {
     "name": "stdout",
     "output_type": "stream",
     "text": [
      "Found 100 patches for patient TCGA-CJ-4870.\n"
     ]
    },
    {
     "data": {
      "text/plain": [
       "['TCGA-AR-A0TY-01A-01-TSA_08d62.png',\n",
       " 'TCGA-AR-A0TY-01A-01-TSA_09eac.png',\n",
       " 'TCGA-AR-A0TY-01A-01-TSA_0a128.png',\n",
       " 'TCGA-AR-A0TY-01A-01-TSA_1349c.png',\n",
       " 'TCGA-AR-A0TY-01A-01-TSA_19247.png']"
      ]
     },
     "execution_count": 131,
     "metadata": {},
     "output_type": "execute_result"
    }
   ],
   "source": [
    "eg_patient = 'TCGA-CJ-4870'\n",
    "\n",
    "patient_patches = list_patch_files(eg_patient, base_dir)\n",
    "print(f'Found {len(patient_patches)} patches for patient {eg_patient}.')\n",
    "patient_patches[:5]"
   ]
  },
  {
   "cell_type": "code",
   "execution_count": 132,
   "metadata": {},
   "outputs": [
    {
     "name": "stdout",
     "output_type": "stream",
     "text": [
      "Write patient files:\n",
      "913/913\n",
      "CPU times: user 39.6 s, sys: 17.5 s, total: 57.1 s\n",
      "Wall time: 5min 13s\n"
     ]
    }
   ],
   "source": [
    "%%time\n",
    "\n",
    "print('Write patient files:')\n",
    "n = len(file_map)\n",
    "\n",
    "unrepresented_patients = []\n",
    "\n",
    "for i, patient in enumerate(file_map):\n",
    "    print('\\r' + f'{str((i + 1))}/{n}', end='')\n",
    "    \n",
    "    patch_dir = os.path.join(DATA_LOCATION, 'tissue_patches')\n",
    "    patches = list_patch_files(patient, patch_dir)\n",
    "    if patches is None:\n",
    "        unrepresented_patients.append(patient)\n",
    "        continue\n",
    "    \n",
    "    file_paths = [os.path.join(patch_dir, p)\n",
    "                  for p in patches]\n",
    "    \n",
    "    target_file = os.path.join(base_dir, str(patient) + '.tsv')\n",
    "   \n",
    "    with open(target_file, 'w') as f:\n",
    "        f.write('\\n'.join(file_paths))\n",
    "print()"
   ]
  },
  {
   "cell_type": "code",
   "execution_count": 133,
   "metadata": {},
   "outputs": [
    {
     "name": "stdout",
     "output_type": "stream",
     "text": [
      "# patients with no patches:\n",
      "0\n"
     ]
    }
   ],
   "source": [
    "print('# patients with no patches:')\n",
    "print(len(unrepresented_patients))"
   ]
  },
  {
   "cell_type": "code",
   "execution_count": 134,
   "metadata": {},
   "outputs": [
    {
     "data": {
      "text/plain": [
       "[]"
      ]
     },
     "execution_count": 134,
     "metadata": {},
     "output_type": "execute_result"
    }
   ],
   "source": [
    "unrepresented_patients"
   ]
  },
  {
   "cell_type": "code",
   "execution_count": 135,
   "metadata": {},
   "outputs": [
    {
     "data": {
      "text/plain": [
       "[False, False, False, False, False]"
      ]
     },
     "execution_count": 135,
     "metadata": {},
     "output_type": "execute_result"
    }
   ],
   "source": [
    "# Not in selected patients!\n",
    "unrepresented_patients = ['TCGA-5P-A9KC',\n",
    "                          'TCGA-EM-A3AI',\n",
    "                          'TCGA-5P-A9KA',\n",
    "                          'TCGA-R5-A7ZR',\n",
    "                          'TCGA-19-1385']\n",
    "\n",
    "[x in labels.submitter_id for x in unrepresented_patients]"
   ]
  },
  {
   "cell_type": "markdown",
   "metadata": {},
   "source": [
    "## Reorganize directory\n",
    "\n",
    "Create a folder for each represented patient, move respective WSI patches into it, and, finally, update patch paths in patient files containing the list of patches for each patient."
   ]
  },
  {
   "cell_type": "code",
   "execution_count": 142,
   "metadata": {},
   "outputs": [
    {
     "data": {
      "text/plain": [
       "914"
      ]
     },
     "execution_count": 142,
     "metadata": {},
     "output_type": "execute_result"
    }
   ],
   "source": [
    "len(os.listdir(DATA_LOCATION))"
   ]
  },
  {
   "cell_type": "code",
   "execution_count": 143,
   "metadata": {},
   "outputs": [
    {
     "data": {
      "text/plain": [
       "['TCGA-3C-AALI.txt',\n",
       " 'TCGA-3C-AALJ.txt',\n",
       " 'TCGA-3C-AALK.txt',\n",
       " 'TCGA-4H-AAAK.txt',\n",
       " 'TCGA-5L-AAT0.txt']"
      ]
     },
     "execution_count": 143,
     "metadata": {},
     "output_type": "execute_result"
    }
   ],
   "source": [
    "os.listdir(DATA_LOCATION)[:5]"
   ]
  },
  {
   "cell_type": "code",
   "execution_count": 144,
   "metadata": {},
   "outputs": [
    {
     "name": "stdout",
     "output_type": "stream",
     "text": [
      "Create patient directories: 913/913\n",
      "\n",
      "CPU times: user 23.9 s, sys: 20.6 s, total: 44.5 s\n",
      "Wall time: 6min 40s\n"
     ]
    }
   ],
   "source": [
    "%%time\n",
    "\n",
    "patch_dir = os.path.join(DATA_LOCATION, 'tissue_patches')\n",
    "\n",
    "patient_files = [x for x in os.listdir(DATA_LOCATION)\n",
    "                 if x != 'tissue_patches']  # Avoid patch directory\n",
    "\n",
    "for i, patient_file in enumerate(patient_files):\n",
    "    print(f'\\r' + f'Create patient directories:' +\n",
    "          f' {str((i + 1))}/{len(patient_files)}', end='')\n",
    "    patient = patient_file.split('.')[0]\n",
    "    \n",
    "    # Create patient dir\n",
    "    patient_dir = os.path.join(patch_dir, patient)\n",
    "    os.makedirs(patient_dir, exist_ok=True)\n",
    "    \n",
    "    # Move patient patches into directory\n",
    "    patient_patches = list_patch_files(patient, patch_dir)\n",
    "    patient_patches = [x for x in patient_patches if '.png' in x]  # Not the dir\n",
    "    \n",
    "    for patch in patient_patches:\n",
    "        os.rename(os.path.join(patch_dir, patch),\n",
    "                  os.path.join(patient_dir, patch))\n",
    "print()\n",
    "print()"
   ]
  },
  {
   "cell_type": "code",
   "execution_count": 147,
   "metadata": {},
   "outputs": [
    {
     "name": "stdout",
     "output_type": "stream",
     "text": [
      "Update paths in patient files: 913/913\n",
      "\n",
      "CPU times: user 312 ms, sys: 189 ms, total: 501 ms\n",
      "Wall time: 4.4 s\n"
     ]
    }
   ],
   "source": [
    "%%time\n",
    "\n",
    "# Update patient files\n",
    "# (add patient directory to paths to patches)\n",
    "patient_files = [x for x in os.listdir(DATA_LOCATION)\n",
    "                 if x != 'tissue_patches' and\n",
    "                 os.path.isfile(os.path.join(DATA_LOCATION, x))]  # Avoid patch directory\n",
    "\n",
    "for i, patient_file in enumerate(patient_files):\n",
    "    print(f'\\r' + f'Update paths in patient files:' +\n",
    "          f' {str((i + 1))}/{len(patient_files)}', end='')\n",
    "    \n",
    "    patient = patient_file.split('.')[0]\n",
    "    \n",
    "    # Collect paths from file\n",
    "    patient_file = os.path.join(DATA_LOCATION, patient_file)\n",
    "    file_paths = [line.rstrip('\\n') for line in open(patient_file)]\n",
    "    \n",
    "    # Add new dir name to path\n",
    "    updated_paths = []\n",
    "    \n",
    "    for path in file_paths:\n",
    "        path = path.lstrip('/')\n",
    "        updated_path = os.path.join(DATA_LOCATION, 'tissue_patches', patient, path)\n",
    "        updated_paths.append(updated_path)\n",
    "    \n",
    "    # Write to patient file    \n",
    "    with open(patient_file, 'w') as f:\n",
    "        f.write('\\n'.join(updated_paths))\n",
    "print()\n",
    "print()"
   ]
  },
  {
   "cell_type": "markdown",
   "metadata": {},
   "source": [
    "Many patches remain that were not moved into specific patient directories. These will not be used by the PyTorch dataset, as they are not listed in specific patient files, so I will just delete them."
   ]
  },
  {
   "cell_type": "code",
   "execution_count": 187,
   "metadata": {},
   "outputs": [
    {
     "name": "stdout",
     "output_type": "stream",
     "text": [
      "Number .png patch files: 56\n",
      "Number of patch directories: 913\n"
     ]
    }
   ],
   "source": [
    "patch_dir = os.path.join(DATA_LOCATION, 'tissue_patches')\n",
    "\n",
    "print('Number .png patch files:',\n",
    "      len([x for x in os.listdir(patch_dir) if '.png' in x]))\n",
    "print('Number of patch directories:',\n",
    "      len([x for x in os.listdir(patch_dir) if not '.png' in x]))"
   ]
  },
  {
   "cell_type": "code",
   "execution_count": 188,
   "metadata": {},
   "outputs": [],
   "source": [
    "for f in os.listdir(patch_dir):\n",
    "    if '.png' in f:\n",
    "        os.remove(os.path.join(patch_dir, f))"
   ]
  },
  {
   "cell_type": "code",
   "execution_count": 189,
   "metadata": {},
   "outputs": [
    {
     "name": "stdout",
     "output_type": "stream",
     "text": [
      "Number .png patch files: 0\n",
      "Number of patch directories: 913\n"
     ]
    }
   ],
   "source": [
    "patch_dir = os.path.join(DATA_LOCATION, 'tissue_patches')\n",
    "\n",
    "print('Number .png patch files:',\n",
    "      len([x for x in os.listdir(patch_dir) if '.png' in x]))\n",
    "print('Number of patch directories:',\n",
    "      len([x for x in os.listdir(patch_dir) if not '.png' in x]))"
   ]
  },
  {
   "cell_type": "markdown",
   "metadata": {},
   "source": [
    "## Delete bad patches\n",
    "\n",
    "Quick visual inspection shows that many patches are not suitable (contain mostly background, ink markings, ...).\n",
    "\n",
    "Use a simple mean intensity filter to remove bad patches."
   ]
  },
  {
   "cell_type": "code",
   "execution_count": 17,
   "metadata": {},
   "outputs": [
    {
     "name": "stdout",
     "output_type": "stream",
     "text": [
      "✅ Patient .tsv files recreated successfully.\n"
     ]
    }
   ],
   "source": [
    "import os\n",
    "\n",
    "# Define paths\n",
    "patches_root = '/mnt/data/Processed_Data/WSI/tissue_patches'\n",
    "tsv_output_dir = '/mnt/data/Processed_Data/WSI'\n",
    "\n",
    "# Ensure the output directory exists\n",
    "os.makedirs(tsv_output_dir, exist_ok=True)\n",
    "\n",
    "# Go through each patient's folder\n",
    "for patient_id in os.listdir(patches_root):\n",
    "    patient_dir = os.path.join(patches_root, patient_id)\n",
    "    \n",
    "    if not os.path.isdir(patient_dir):\n",
    "        continue  # Skip non-directories just in case\n",
    "    \n",
    "    # Get all PNG patch file paths\n",
    "    patch_paths = [\n",
    "        os.path.join(patient_dir, f)\n",
    "        for f in os.listdir(patient_dir)\n",
    "        if f.endswith('.png')\n",
    "    ]\n",
    "    \n",
    "    # Sort for consistency\n",
    "    patch_paths.sort()\n",
    "    \n",
    "    # Define output .tsv path\n",
    "    tsv_path = os.path.join(tsv_output_dir, f'{patient_id}.tsv')\n",
    "    \n",
    "    # Write each path as a new line\n",
    "    with open(tsv_path, 'w') as f:\n",
    "        f.write('\\n'.join(patch_paths))\n",
    "\n",
    "print(\"✅ Patient .tsv files recreated successfully.\")\n"
   ]
  },
  {
   "cell_type": "code",
   "execution_count": 18,
   "metadata": {},
   "outputs": [],
   "source": [
    "represented_patients = os.listdir(os.path.join(DATA_LOCATION, 'tissue_patches'))"
   ]
  },
  {
   "cell_type": "code",
   "execution_count": 19,
   "metadata": {},
   "outputs": [
    {
     "data": {
      "text/plain": [
       "913"
      ]
     },
     "execution_count": 19,
     "metadata": {},
     "output_type": "execute_result"
    }
   ],
   "source": [
    "len(represented_patients)"
   ]
  },
  {
   "cell_type": "code",
   "execution_count": 22,
   "metadata": {},
   "outputs": [
    {
     "name": "stdout",
     "output_type": "stream",
     "text": [
      "913\n"
     ]
    }
   ],
   "source": [
    "patient_files = os.listdir(DATA_LOCATION)\n",
    "patient_files = [f for f in patient_files if f != 'tissue_patches' and f.lower().endswith('.tsv')]\n",
    "print(len(patient_files))"
   ]
  },
  {
   "cell_type": "code",
   "execution_count": 202,
   "metadata": {},
   "outputs": [],
   "source": [
    "def list_patient_patches(patient_id):\n",
    "    path = os.path.join(DATA_LOCATION, 'tissue_patches', patient_id)\n",
    "    files = os.listdir(path)\n",
    "    paths = [os.path.join(DATA_LOCATION, 'tissue_patches', patient_id, f)\n",
    "             for f in files]\n",
    "    \n",
    "    return paths\n",
    "\n",
    "def load_patch(path):\n",
    "    try:\n",
    "        return mpimg.imread(path)\n",
    "    except (ValueError, UnidentifiedImageError, Image.DecompressionBombError, OSError) as e:\n",
    "        print(f\"\\nSkipped corrupted image: {path} | Reason: {e}\")\n",
    "        return None\n",
    "\n",
    "# from PIL import Image\n",
    "# def load_patch(path):\n",
    "#     return np.array(Image.open(path))\n",
    "\n",
    "def compute_intensity_mean(patch, print_result=False):\n",
    "    means = []\n",
    "\n",
    "    for ch in range(3):\n",
    "        means.append(patch[:, :, ch].mean())\n",
    "        \n",
    "    if print_result:\n",
    "        print('Channel     Mean')\n",
    "        for i, ch in enumerate('RGB'):\n",
    "            print(f'  {ch}       {means[i]:2f}')\n",
    "\n",
    "    return means"
   ]
  },
  {
   "cell_type": "code",
   "execution_count": 194,
   "metadata": {},
   "outputs": [
    {
     "data": {
      "text/plain": [
       "['/mnt/data/Processed_Data/WSI/tissue_patches/TCGA-3C-AALI/TCGA-3C-AALI-01A-01-TSA_00146.png',\n",
       " '/mnt/data/Processed_Data/WSI/tissue_patches/TCGA-3C-AALI/TCGA-3C-AALI-01A-01-TSA_020aa.png',\n",
       " '/mnt/data/Processed_Data/WSI/tissue_patches/TCGA-3C-AALI/TCGA-3C-AALI-01A-01-TSA_062d5.png',\n",
       " '/mnt/data/Processed_Data/WSI/tissue_patches/TCGA-3C-AALI/TCGA-3C-AALI-01A-01-TSA_08f92.png',\n",
       " '/mnt/data/Processed_Data/WSI/tissue_patches/TCGA-3C-AALI/TCGA-3C-AALI-01A-01-TSA_0fa96.png']"
      ]
     },
     "execution_count": 194,
     "metadata": {},
     "output_type": "execute_result"
    }
   ],
   "source": [
    "list_patient_patches(patient_id=represented_patients[0])[:5]"
   ]
  },
  {
   "cell_type": "code",
   "execution_count": 195,
   "metadata": {},
   "outputs": [
    {
     "name": "stdout",
     "output_type": "stream",
     "text": [
      "Channel     Mean\n",
      "  R       0.001418\n",
      "  G       0.000684\n",
      "  B       0.001231\n"
     ]
    }
   ],
   "source": [
    "patch = load_patch(list_patient_patches(patient_id=represented_patients[1])[0])\n",
    "means = compute_intensity_mean(patch / 255., print_result=True)"
   ]
  },
  {
   "cell_type": "code",
   "execution_count": 196,
   "metadata": {},
   "outputs": [
    {
     "data": {
      "image/png": "[encoded data removed]",
      "text/plain": [
       "<Figure size 640x480 with 1 Axes>"
      ]
     },
     "metadata": {},
     "output_type": "display_data"
    }
   ],
   "source": [
    "imgplot = plt.imshow(patch)"
   ]
  },
  {
   "cell_type": "markdown",
   "metadata": {},
   "source": [
    "### Find outliers"
   ]
  },
  {
   "cell_type": "code",
   "execution_count": 197,
   "metadata": {},
   "outputs": [],
   "source": [
    "def count_patches(patients):\n",
    "    n = 0\n",
    "\n",
    "    for patient in patients:\n",
    "        n += len(list_patient_patches(patient))\n",
    "    \n",
    "    return n"
   ]
  },
  {
   "cell_type": "code",
   "execution_count": 198,
   "metadata": {},
   "outputs": [
    {
     "name": "stdout",
     "output_type": "stream",
     "text": [
      "Total number of patches: 98148\n"
     ]
    }
   ],
   "source": [
    "patch_count = count_patches(patients=represented_patients)\n",
    "print('Total number of patches:', patch_count)"
   ]
  },
  {
   "cell_type": "code",
   "execution_count": 199,
   "metadata": {},
   "outputs": [],
   "source": [
    "def list_outliers(threshold=(0, 1)):\n",
    "    low, high = threshold\n",
    "\n",
    "    outlier_paths = []\n",
    "\n",
    "    for i, patient in enumerate(represented_patients):\n",
    "        print(f'\\r', f'Check all patients: {i}/{len(represented_patients)}',\n",
    "              end='')\n",
    "        patch_files = list_patient_patches(patient)\n",
    "\n",
    "        for patch_file in patch_files:\n",
    "            patch = load_patch(patch_file)\n",
    "            means = compute_intensity_mean(patch, print_result=False)\n",
    "            if not low < means[0] < high:\n",
    "                outlier_paths.append(\n",
    "                    os.path.join(DATA_LOCATION, 'tissue_patches', patient, patch_file))\n",
    "\n",
    "    return outlier_paths"
   ]
  },
  {
   "cell_type": "code",
   "execution_count": 207,
   "metadata": {},
   "outputs": [
    {
     "name": "stdout",
     "output_type": "stream",
     "text": [
      "Check all patients: 189/913\n",
      "Skipped corrupted image: /mnt/data/Processed_Data/WSI/tissue_patches/TCGA-AC-A4ZE/TCGA-AC-A4ZE-01Z-00-DX1_02624.png | Reason: Decompressed Data Too Large\n",
      "\n",
      "Skipped corrupted image: /mnt/data/Processed_Data/WSI/tissue_patches/TCGA-AC-A4ZE/TCGA-AC-A4ZE-01Z-00-DX1_058f7.png | Reason: Decompressed Data Too Large\n",
      "\n",
      "Skipped corrupted image: /mnt/data/Processed_Data/WSI/tissue_patches/TCGA-AC-A4ZE/TCGA-AC-A4ZE-01Z-00-DX1_0b154.png | Reason: Decompressed Data Too Large\n",
      "\n",
      "Skipped corrupted image: /mnt/data/Processed_Data/WSI/tissue_patches/TCGA-AC-A4ZE/TCGA-AC-A4ZE-01Z-00-DX1_0eea2.png | Reason: Decompressed Data Too Large\n",
      "\n",
      "Skipped corrupted image: /mnt/data/Processed_Data/WSI/tissue_patches/TCGA-AC-A4ZE/TCGA-AC-A4ZE-01Z-00-DX1_11924.png | Reason: Decompressed Data Too Large\n",
      "\n",
      "Skipped corrupted image: /mnt/data/Processed_Data/WSI/tissue_patches/TCGA-AC-A4ZE/TCGA-AC-A4ZE-01Z-00-DX1_12fcd.png | Reason: Decompressed Data Too Large\n",
      "\n",
      "Skipped corrupted image: /mnt/data/Processed_Data/WSI/tissue_patches/TCGA-AC-A4ZE/TCGA-AC-A4ZE-01Z-00-DX1_25a3f.png | Reason: Decompressed Data Too Large\n",
      "\n",
      "Skipped corrupted image: /mnt/data/Processed_Data/WSI/tissue_patches/TCGA-AC-A4ZE/TCGA-AC-A4ZE-01Z-00-DX1_2b320.png | Reason: Decompressed Data Too Large\n",
      "\n",
      "Skipped corrupted image: /mnt/data/Processed_Data/WSI/tissue_patches/TCGA-AC-A4ZE/TCGA-AC-A4ZE-01Z-00-DX1_2cc0a.png | Reason: Decompressed Data Too Large\n",
      "\n",
      "Skipped corrupted image: /mnt/data/Processed_Data/WSI/tissue_patches/TCGA-AC-A4ZE/TCGA-AC-A4ZE-01Z-00-DX1_33631.png | Reason: Decompressed Data Too Large\n",
      "\n",
      "Skipped corrupted image: /mnt/data/Processed_Data/WSI/tissue_patches/TCGA-AC-A4ZE/TCGA-AC-A4ZE-01Z-00-DX1_3aa54.png | Reason: Decompressed Data Too Large\n",
      "\n",
      "Skipped corrupted image: /mnt/data/Processed_Data/WSI/tissue_patches/TCGA-AC-A4ZE/TCGA-AC-A4ZE-01Z-00-DX1_3ac2d.png | Reason: Decompressed Data Too Large\n",
      "\n",
      "Skipped corrupted image: /mnt/data/Processed_Data/WSI/tissue_patches/TCGA-AC-A4ZE/TCGA-AC-A4ZE-01Z-00-DX1_3d3d7.png | Reason: Decompressed Data Too Large\n",
      "\n",
      "Skipped corrupted image: /mnt/data/Processed_Data/WSI/tissue_patches/TCGA-AC-A4ZE/TCGA-AC-A4ZE-01Z-00-DX1_4d740.png | Reason: Decompressed Data Too Large\n",
      "\n",
      "Skipped corrupted image: /mnt/data/Processed_Data/WSI/tissue_patches/TCGA-AC-A4ZE/TCGA-AC-A4ZE-01Z-00-DX1_4e6bc.png | Reason: Decompressed Data Too Large\n",
      "\n",
      "Skipped corrupted image: /mnt/data/Processed_Data/WSI/tissue_patches/TCGA-AC-A4ZE/TCGA-AC-A4ZE-01Z-00-DX1_503cb.png | Reason: Decompressed Data Too Large\n",
      "\n",
      "Skipped corrupted image: /mnt/data/Processed_Data/WSI/tissue_patches/TCGA-AC-A4ZE/TCGA-AC-A4ZE-01Z-00-DX1_52c8a.png | Reason: Decompressed Data Too Large\n",
      "\n",
      "Skipped corrupted image: /mnt/data/Processed_Data/WSI/tissue_patches/TCGA-AC-A4ZE/TCGA-AC-A4ZE-01Z-00-DX1_53c50.png | Reason: Decompressed Data Too Large\n",
      "\n",
      "Skipped corrupted image: /mnt/data/Processed_Data/WSI/tissue_patches/TCGA-AC-A4ZE/TCGA-AC-A4ZE-01Z-00-DX1_583cb.png | Reason: Decompressed Data Too Large\n",
      "\n",
      "Skipped corrupted image: /mnt/data/Processed_Data/WSI/tissue_patches/TCGA-AC-A4ZE/TCGA-AC-A4ZE-01Z-00-DX1_603c7.png | Reason: Decompressed Data Too Large\n",
      "\n",
      "Skipped corrupted image: /mnt/data/Processed_Data/WSI/tissue_patches/TCGA-AC-A4ZE/TCGA-AC-A4ZE-01Z-00-DX1_6a1da.png | Reason: Decompressed Data Too Large\n",
      "\n",
      "Skipped corrupted image: /mnt/data/Processed_Data/WSI/tissue_patches/TCGA-AC-A4ZE/TCGA-AC-A4ZE-01Z-00-DX1_6f2cc.png | Reason: Decompressed Data Too Large\n",
      "\n",
      "Skipped corrupted image: /mnt/data/Processed_Data/WSI/tissue_patches/TCGA-AC-A4ZE/TCGA-AC-A4ZE-01Z-00-DX1_7da17.png | Reason: Decompressed Data Too Large\n",
      "\n",
      "Skipped corrupted image: /mnt/data/Processed_Data/WSI/tissue_patches/TCGA-AC-A4ZE/TCGA-AC-A4ZE-01Z-00-DX1_7edd6.png | Reason: Decompressed Data Too Large\n",
      "\n",
      "Skipped corrupted image: /mnt/data/Processed_Data/WSI/tissue_patches/TCGA-AC-A4ZE/TCGA-AC-A4ZE-01Z-00-DX1_8a2f2.png | Reason: Decompressed Data Too Large\n",
      "\n",
      "Skipped corrupted image: /mnt/data/Processed_Data/WSI/tissue_patches/TCGA-AC-A4ZE/TCGA-AC-A4ZE-01Z-00-DX1_91a44.png | Reason: Decompressed Data Too Large\n",
      "\n",
      "Skipped corrupted image: /mnt/data/Processed_Data/WSI/tissue_patches/TCGA-AC-A4ZE/TCGA-AC-A4ZE-01Z-00-DX1_99e16.png | Reason: Decompressed Data Too Large\n",
      "\n",
      "Skipped corrupted image: /mnt/data/Processed_Data/WSI/tissue_patches/TCGA-AC-A4ZE/TCGA-AC-A4ZE-01Z-00-DX1_9f395.png | Reason: Decompressed Data Too Large\n",
      "\n",
      "Skipped corrupted image: /mnt/data/Processed_Data/WSI/tissue_patches/TCGA-AC-A4ZE/TCGA-AC-A4ZE-01Z-00-DX1_a998c.png | Reason: Decompressed Data Too Large\n",
      "\n",
      "Skipped corrupted image: /mnt/data/Processed_Data/WSI/tissue_patches/TCGA-AC-A4ZE/TCGA-AC-A4ZE-01Z-00-DX1_b278e.png | Reason: Decompressed Data Too Large\n",
      "\n",
      "Skipped corrupted image: /mnt/data/Processed_Data/WSI/tissue_patches/TCGA-AC-A4ZE/TCGA-AC-A4ZE-01Z-00-DX1_b3828.png | Reason: Decompressed Data Too Large\n",
      "\n",
      "Skipped corrupted image: /mnt/data/Processed_Data/WSI/tissue_patches/TCGA-AC-A4ZE/TCGA-AC-A4ZE-01Z-00-DX1_b6761.png | Reason: Decompressed Data Too Large\n",
      "\n",
      "Skipped corrupted image: /mnt/data/Processed_Data/WSI/tissue_patches/TCGA-AC-A4ZE/TCGA-AC-A4ZE-01Z-00-DX1_b8df7.png | Reason: Decompressed Data Too Large\n",
      "\n",
      "Skipped corrupted image: /mnt/data/Processed_Data/WSI/tissue_patches/TCGA-AC-A4ZE/TCGA-AC-A4ZE-01Z-00-DX1_be38a.png | Reason: Decompressed Data Too Large\n",
      "\n",
      "Skipped corrupted image: /mnt/data/Processed_Data/WSI/tissue_patches/TCGA-AC-A4ZE/TCGA-AC-A4ZE-01Z-00-DX1_c1c49.png | Reason: Decompressed Data Too Large\n",
      "\n",
      "Skipped corrupted image: /mnt/data/Processed_Data/WSI/tissue_patches/TCGA-AC-A4ZE/TCGA-AC-A4ZE-01Z-00-DX1_c3cc7.png | Reason: Decompressed Data Too Large\n",
      "\n",
      "Skipped corrupted image: /mnt/data/Processed_Data/WSI/tissue_patches/TCGA-AC-A4ZE/TCGA-AC-A4ZE-01Z-00-DX1_c7402.png | Reason: Decompressed Data Too Large\n",
      "\n",
      "Skipped corrupted image: /mnt/data/Processed_Data/WSI/tissue_patches/TCGA-AC-A4ZE/TCGA-AC-A4ZE-01Z-00-DX1_cb86e.png | Reason: Decompressed Data Too Large\n",
      "\n",
      "Skipped corrupted image: /mnt/data/Processed_Data/WSI/tissue_patches/TCGA-AC-A4ZE/TCGA-AC-A4ZE-01Z-00-DX1_d3510.png | Reason: Decompressed Data Too Large\n",
      "\n",
      "Skipped corrupted image: /mnt/data/Processed_Data/WSI/tissue_patches/TCGA-AC-A4ZE/TCGA-AC-A4ZE-01Z-00-DX1_d3dcb.png | Reason: Decompressed Data Too Large\n",
      "\n",
      "Skipped corrupted image: /mnt/data/Processed_Data/WSI/tissue_patches/TCGA-AC-A4ZE/TCGA-AC-A4ZE-01Z-00-DX1_d5267.png | Reason: Decompressed Data Too Large\n",
      "\n",
      "Skipped corrupted image: /mnt/data/Processed_Data/WSI/tissue_patches/TCGA-AC-A4ZE/TCGA-AC-A4ZE-01Z-00-DX1_d8184.png | Reason: Decompressed Data Too Large\n",
      "\n",
      "Skipped corrupted image: /mnt/data/Processed_Data/WSI/tissue_patches/TCGA-AC-A4ZE/TCGA-AC-A4ZE-01Z-00-DX1_dcb7d.png | Reason: Decompressed Data Too Large\n",
      "\n",
      "Skipped corrupted image: /mnt/data/Processed_Data/WSI/tissue_patches/TCGA-AC-A4ZE/TCGA-AC-A4ZE-01Z-00-DX1_e220f.png | Reason: Decompressed Data Too Large\n",
      "\n",
      "Skipped corrupted image: /mnt/data/Processed_Data/WSI/tissue_patches/TCGA-AC-A4ZE/TCGA-AC-A4ZE-01Z-00-DX1_e258f.png | Reason: Decompressed Data Too Large\n",
      "\n",
      "Skipped corrupted image: /mnt/data/Processed_Data/WSI/tissue_patches/TCGA-AC-A4ZE/TCGA-AC-A4ZE-01Z-00-DX1_ebae0.png | Reason: Decompressed Data Too Large\n",
      "\n",
      "Skipped corrupted image: /mnt/data/Processed_Data/WSI/tissue_patches/TCGA-AC-A4ZE/TCGA-AC-A4ZE-01Z-00-DX1_edb5e.png | Reason: Decompressed Data Too Large\n",
      "\n",
      "Skipped corrupted image: /mnt/data/Processed_Data/WSI/tissue_patches/TCGA-AC-A4ZE/TCGA-AC-A4ZE-01Z-00-DX1_f325c.png | Reason: Decompressed Data Too Large\n",
      "\n",
      "Skipped corrupted image: /mnt/data/Processed_Data/WSI/tissue_patches/TCGA-AC-A4ZE/TCGA-AC-A4ZE-01Z-00-DX1_f567a.png | Reason: Decompressed Data Too Large\n",
      "\n",
      "Skipped corrupted image: /mnt/data/Processed_Data/WSI/tissue_patches/TCGA-AC-A4ZE/TCGA-AC-A4ZE-01Z-00-DX1_fcc85.png | Reason: Decompressed Data Too Large\n",
      "Check all patients: 203/913\n",
      "Skipped corrupted image: /mnt/data/Processed_Data/WSI/tissue_patches/TCGA-AC-A8OP/TCGA-AC-A8OP-01Z-00-DX1_00fad.png | Reason: Decompressed Data Too Large\n",
      "\n",
      "Skipped corrupted image: /mnt/data/Processed_Data/WSI/tissue_patches/TCGA-AC-A8OP/TCGA-AC-A8OP-01Z-00-DX1_0c43a.png | Reason: Decompressed Data Too Large\n",
      "\n",
      "Skipped corrupted image: /mnt/data/Processed_Data/WSI/tissue_patches/TCGA-AC-A8OP/TCGA-AC-A8OP-01Z-00-DX1_0c514.png | Reason: Decompressed Data Too Large\n",
      "\n",
      "Skipped corrupted image: /mnt/data/Processed_Data/WSI/tissue_patches/TCGA-AC-A8OP/TCGA-AC-A8OP-01Z-00-DX1_15851.png | Reason: Decompressed Data Too Large\n",
      "\n",
      "Skipped corrupted image: /mnt/data/Processed_Data/WSI/tissue_patches/TCGA-AC-A8OP/TCGA-AC-A8OP-01Z-00-DX1_1badb.png | Reason: Decompressed Data Too Large\n",
      "\n",
      "Skipped corrupted image: /mnt/data/Processed_Data/WSI/tissue_patches/TCGA-AC-A8OP/TCGA-AC-A8OP-01Z-00-DX1_2120b.png | Reason: Decompressed Data Too Large\n",
      "\n",
      "Skipped corrupted image: /mnt/data/Processed_Data/WSI/tissue_patches/TCGA-AC-A8OP/TCGA-AC-A8OP-01Z-00-DX1_23283.png | Reason: Decompressed Data Too Large\n",
      "\n",
      "Skipped corrupted image: /mnt/data/Processed_Data/WSI/tissue_patches/TCGA-AC-A8OP/TCGA-AC-A8OP-01Z-00-DX1_23299.png | Reason: Decompressed Data Too Large\n",
      "\n",
      "Skipped corrupted image: /mnt/data/Processed_Data/WSI/tissue_patches/TCGA-AC-A8OP/TCGA-AC-A8OP-01Z-00-DX1_244f8.png | Reason: Decompressed Data Too Large\n",
      "\n",
      "Skipped corrupted image: /mnt/data/Processed_Data/WSI/tissue_patches/TCGA-AC-A8OP/TCGA-AC-A8OP-01Z-00-DX1_2462f.png | Reason: Decompressed Data Too Large\n",
      "\n",
      "Skipped corrupted image: /mnt/data/Processed_Data/WSI/tissue_patches/TCGA-AC-A8OP/TCGA-AC-A8OP-01Z-00-DX1_285e5.png | Reason: Decompressed Data Too Large\n",
      "\n",
      "Skipped corrupted image: /mnt/data/Processed_Data/WSI/tissue_patches/TCGA-AC-A8OP/TCGA-AC-A8OP-01Z-00-DX1_2e97a.png | Reason: Decompressed Data Too Large\n",
      "\n",
      "Skipped corrupted image: /mnt/data/Processed_Data/WSI/tissue_patches/TCGA-AC-A8OP/TCGA-AC-A8OP-01Z-00-DX1_308f0.png | Reason: Decompressed Data Too Large\n",
      "\n",
      "Skipped corrupted image: /mnt/data/Processed_Data/WSI/tissue_patches/TCGA-AC-A8OP/TCGA-AC-A8OP-01Z-00-DX1_39e83.png | Reason: Decompressed Data Too Large\n",
      "\n",
      "Skipped corrupted image: /mnt/data/Processed_Data/WSI/tissue_patches/TCGA-AC-A8OP/TCGA-AC-A8OP-01Z-00-DX1_3a987.png | Reason: Decompressed Data Too Large\n",
      "\n",
      "Skipped corrupted image: /mnt/data/Processed_Data/WSI/tissue_patches/TCGA-AC-A8OP/TCGA-AC-A8OP-01Z-00-DX1_3bc7b.png | Reason: Decompressed Data Too Large\n",
      "\n",
      "Skipped corrupted image: /mnt/data/Processed_Data/WSI/tissue_patches/TCGA-AC-A8OP/TCGA-AC-A8OP-01Z-00-DX1_3de2f.png | Reason: Decompressed Data Too Large\n",
      "\n",
      "Skipped corrupted image: /mnt/data/Processed_Data/WSI/tissue_patches/TCGA-AC-A8OP/TCGA-AC-A8OP-01Z-00-DX1_3fb0e.png | Reason: Decompressed Data Too Large\n",
      "\n",
      "Skipped corrupted image: /mnt/data/Processed_Data/WSI/tissue_patches/TCGA-AC-A8OP/TCGA-AC-A8OP-01Z-00-DX1_40702.png | Reason: Decompressed Data Too Large\n",
      "\n",
      "Skipped corrupted image: /mnt/data/Processed_Data/WSI/tissue_patches/TCGA-AC-A8OP/TCGA-AC-A8OP-01Z-00-DX1_43c00.png | Reason: Decompressed Data Too Large\n",
      "\n",
      "Skipped corrupted image: /mnt/data/Processed_Data/WSI/tissue_patches/TCGA-AC-A8OP/TCGA-AC-A8OP-01Z-00-DX1_47d34.png | Reason: Decompressed Data Too Large\n",
      "\n",
      "Skipped corrupted image: /mnt/data/Processed_Data/WSI/tissue_patches/TCGA-AC-A8OP/TCGA-AC-A8OP-01Z-00-DX1_48e6a.png | Reason: Decompressed Data Too Large\n",
      "\n",
      "Skipped corrupted image: /mnt/data/Processed_Data/WSI/tissue_patches/TCGA-AC-A8OP/TCGA-AC-A8OP-01Z-00-DX1_4a2f7.png | Reason: Decompressed Data Too Large\n",
      "\n",
      "Skipped corrupted image: /mnt/data/Processed_Data/WSI/tissue_patches/TCGA-AC-A8OP/TCGA-AC-A8OP-01Z-00-DX1_4b62c.png | Reason: Decompressed Data Too Large\n",
      "\n",
      "Skipped corrupted image: /mnt/data/Processed_Data/WSI/tissue_patches/TCGA-AC-A8OP/TCGA-AC-A8OP-01Z-00-DX1_53941.png | Reason: Decompressed Data Too Large\n",
      "\n",
      "Skipped corrupted image: /mnt/data/Processed_Data/WSI/tissue_patches/TCGA-AC-A8OP/TCGA-AC-A8OP-01Z-00-DX1_59fd7.png | Reason: Decompressed Data Too Large\n",
      "\n",
      "Skipped corrupted image: /mnt/data/Processed_Data/WSI/tissue_patches/TCGA-AC-A8OP/TCGA-AC-A8OP-01Z-00-DX1_626f1.png | Reason: Decompressed Data Too Large\n",
      "\n",
      "Skipped corrupted image: /mnt/data/Processed_Data/WSI/tissue_patches/TCGA-AC-A8OP/TCGA-AC-A8OP-01Z-00-DX1_62700.png | Reason: Decompressed Data Too Large\n",
      "\n",
      "Skipped corrupted image: /mnt/data/Processed_Data/WSI/tissue_patches/TCGA-AC-A8OP/TCGA-AC-A8OP-01Z-00-DX1_66d81.png | Reason: Decompressed Data Too Large\n",
      "\n",
      "Skipped corrupted image: /mnt/data/Processed_Data/WSI/tissue_patches/TCGA-AC-A8OP/TCGA-AC-A8OP-01Z-00-DX1_82a93.png | Reason: Decompressed Data Too Large\n",
      "\n",
      "Skipped corrupted image: /mnt/data/Processed_Data/WSI/tissue_patches/TCGA-AC-A8OP/TCGA-AC-A8OP-01Z-00-DX1_83cdb.png | Reason: Decompressed Data Too Large\n",
      "\n",
      "Skipped corrupted image: /mnt/data/Processed_Data/WSI/tissue_patches/TCGA-AC-A8OP/TCGA-AC-A8OP-01Z-00-DX1_84233.png | Reason: Decompressed Data Too Large\n",
      "\n",
      "Skipped corrupted image: /mnt/data/Processed_Data/WSI/tissue_patches/TCGA-AC-A8OP/TCGA-AC-A8OP-01Z-00-DX1_96af5.png | Reason: Decompressed Data Too Large\n",
      "\n",
      "Skipped corrupted image: /mnt/data/Processed_Data/WSI/tissue_patches/TCGA-AC-A8OP/TCGA-AC-A8OP-01Z-00-DX1_a1801.png | Reason: Decompressed Data Too Large\n",
      "\n",
      "Skipped corrupted image: /mnt/data/Processed_Data/WSI/tissue_patches/TCGA-AC-A8OP/TCGA-AC-A8OP-01Z-00-DX1_a9257.png | Reason: Decompressed Data Too Large\n",
      "\n",
      "Skipped corrupted image: /mnt/data/Processed_Data/WSI/tissue_patches/TCGA-AC-A8OP/TCGA-AC-A8OP-01Z-00-DX1_b33ab.png | Reason: Decompressed Data Too Large\n",
      "\n",
      "Skipped corrupted image: /mnt/data/Processed_Data/WSI/tissue_patches/TCGA-AC-A8OP/TCGA-AC-A8OP-01Z-00-DX1_b37d8.png | Reason: Decompressed Data Too Large\n",
      "\n",
      "Skipped corrupted image: /mnt/data/Processed_Data/WSI/tissue_patches/TCGA-AC-A8OP/TCGA-AC-A8OP-01Z-00-DX1_b4fd6.png | Reason: Decompressed Data Too Large\n",
      "\n",
      "Skipped corrupted image: /mnt/data/Processed_Data/WSI/tissue_patches/TCGA-AC-A8OP/TCGA-AC-A8OP-01Z-00-DX1_c40a3.png | Reason: Decompressed Data Too Large\n",
      "\n",
      "Skipped corrupted image: /mnt/data/Processed_Data/WSI/tissue_patches/TCGA-AC-A8OP/TCGA-AC-A8OP-01Z-00-DX1_c8b0e.png | Reason: Decompressed Data Too Large\n",
      "\n",
      "Skipped corrupted image: /mnt/data/Processed_Data/WSI/tissue_patches/TCGA-AC-A8OP/TCGA-AC-A8OP-01Z-00-DX1_cbac1.png | Reason: Decompressed Data Too Large\n",
      "\n",
      "Skipped corrupted image: /mnt/data/Processed_Data/WSI/tissue_patches/TCGA-AC-A8OP/TCGA-AC-A8OP-01Z-00-DX1_cd0f9.png | Reason: Decompressed Data Too Large\n",
      "\n",
      "Skipped corrupted image: /mnt/data/Processed_Data/WSI/tissue_patches/TCGA-AC-A8OP/TCGA-AC-A8OP-01Z-00-DX1_d1f80.png | Reason: Decompressed Data Too Large\n",
      "\n",
      "Skipped corrupted image: /mnt/data/Processed_Data/WSI/tissue_patches/TCGA-AC-A8OP/TCGA-AC-A8OP-01Z-00-DX1_d6937.png | Reason: Decompressed Data Too Large\n",
      "\n",
      "Skipped corrupted image: /mnt/data/Processed_Data/WSI/tissue_patches/TCGA-AC-A8OP/TCGA-AC-A8OP-01Z-00-DX1_da881.png | Reason: Decompressed Data Too Large\n",
      "\n",
      "Skipped corrupted image: /mnt/data/Processed_Data/WSI/tissue_patches/TCGA-AC-A8OP/TCGA-AC-A8OP-01Z-00-DX1_e9d49.png | Reason: Decompressed Data Too Large\n",
      "\n",
      "Skipped corrupted image: /mnt/data/Processed_Data/WSI/tissue_patches/TCGA-AC-A8OP/TCGA-AC-A8OP-01Z-00-DX1_eb85a.png | Reason: Decompressed Data Too Large\n",
      "\n",
      "Skipped corrupted image: /mnt/data/Processed_Data/WSI/tissue_patches/TCGA-AC-A8OP/TCGA-AC-A8OP-01Z-00-DX1_f875e.png | Reason: Decompressed Data Too Large\n",
      "\n",
      "Skipped corrupted image: /mnt/data/Processed_Data/WSI/tissue_patches/TCGA-AC-A8OP/TCGA-AC-A8OP-01Z-00-DX1_faf89.png | Reason: Decompressed Data Too Large\n",
      "\n",
      "Skipped corrupted image: /mnt/data/Processed_Data/WSI/tissue_patches/TCGA-AC-A8OP/TCGA-AC-A8OP-01Z-00-DX1_ff099.png | Reason: Decompressed Data Too Large\n",
      "Check all patients: 204/913\n",
      "Skipped corrupted image: /mnt/data/Processed_Data/WSI/tissue_patches/TCGA-AC-A8OQ/TCGA-AC-A8OQ-01Z-00-DX1_033a1.png | Reason: Decompressed Data Too Large\n",
      "\n",
      "Skipped corrupted image: /mnt/data/Processed_Data/WSI/tissue_patches/TCGA-AC-A8OQ/TCGA-AC-A8OQ-01Z-00-DX1_0372e.png | Reason: Decompressed Data Too Large\n",
      "\n",
      "Skipped corrupted image: /mnt/data/Processed_Data/WSI/tissue_patches/TCGA-AC-A8OQ/TCGA-AC-A8OQ-01Z-00-DX1_043b9.png | Reason: Decompressed Data Too Large\n",
      "\n",
      "Skipped corrupted image: /mnt/data/Processed_Data/WSI/tissue_patches/TCGA-AC-A8OQ/TCGA-AC-A8OQ-01Z-00-DX1_066af.png | Reason: Decompressed Data Too Large\n",
      "\n",
      "Skipped corrupted image: /mnt/data/Processed_Data/WSI/tissue_patches/TCGA-AC-A8OQ/TCGA-AC-A8OQ-01Z-00-DX1_18bcf.png | Reason: Decompressed Data Too Large\n",
      "\n",
      "Skipped corrupted image: /mnt/data/Processed_Data/WSI/tissue_patches/TCGA-AC-A8OQ/TCGA-AC-A8OQ-01Z-00-DX1_1a8b0.png | Reason: Decompressed Data Too Large\n",
      "\n",
      "Skipped corrupted image: /mnt/data/Processed_Data/WSI/tissue_patches/TCGA-AC-A8OQ/TCGA-AC-A8OQ-01Z-00-DX1_1ee2c.png | Reason: Decompressed Data Too Large\n",
      "\n",
      "Skipped corrupted image: /mnt/data/Processed_Data/WSI/tissue_patches/TCGA-AC-A8OQ/TCGA-AC-A8OQ-01Z-00-DX1_228de.png | Reason: Decompressed Data Too Large\n",
      "\n",
      "Skipped corrupted image: /mnt/data/Processed_Data/WSI/tissue_patches/TCGA-AC-A8OQ/TCGA-AC-A8OQ-01Z-00-DX1_22bd8.png | Reason: Decompressed Data Too Large\n",
      "\n",
      "Skipped corrupted image: /mnt/data/Processed_Data/WSI/tissue_patches/TCGA-AC-A8OQ/TCGA-AC-A8OQ-01Z-00-DX1_26085.png | Reason: Decompressed Data Too Large\n",
      "\n",
      "Skipped corrupted image: /mnt/data/Processed_Data/WSI/tissue_patches/TCGA-AC-A8OQ/TCGA-AC-A8OQ-01Z-00-DX1_29ccc.png | Reason: Decompressed Data Too Large\n",
      "\n",
      "Skipped corrupted image: /mnt/data/Processed_Data/WSI/tissue_patches/TCGA-AC-A8OQ/TCGA-AC-A8OQ-01Z-00-DX1_2a745.png | Reason: Decompressed Data Too Large\n",
      "\n",
      "Skipped corrupted image: /mnt/data/Processed_Data/WSI/tissue_patches/TCGA-AC-A8OQ/TCGA-AC-A8OQ-01Z-00-DX1_2c2af.png | Reason: Decompressed Data Too Large\n",
      "\n",
      "Skipped corrupted image: /mnt/data/Processed_Data/WSI/tissue_patches/TCGA-AC-A8OQ/TCGA-AC-A8OQ-01Z-00-DX1_34338.png | Reason: Decompressed Data Too Large\n",
      "\n",
      "Skipped corrupted image: /mnt/data/Processed_Data/WSI/tissue_patches/TCGA-AC-A8OQ/TCGA-AC-A8OQ-01Z-00-DX1_39ee4.png | Reason: Decompressed Data Too Large\n",
      "\n",
      "Skipped corrupted image: /mnt/data/Processed_Data/WSI/tissue_patches/TCGA-AC-A8OQ/TCGA-AC-A8OQ-01Z-00-DX1_3ceb4.png | Reason: Decompressed Data Too Large\n",
      "\n",
      "Skipped corrupted image: /mnt/data/Processed_Data/WSI/tissue_patches/TCGA-AC-A8OQ/TCGA-AC-A8OQ-01Z-00-DX1_3d6d6.png | Reason: Decompressed Data Too Large\n",
      "\n",
      "Skipped corrupted image: /mnt/data/Processed_Data/WSI/tissue_patches/TCGA-AC-A8OQ/TCGA-AC-A8OQ-01Z-00-DX1_4006f.png | Reason: Decompressed Data Too Large\n",
      "\n",
      "Skipped corrupted image: /mnt/data/Processed_Data/WSI/tissue_patches/TCGA-AC-A8OQ/TCGA-AC-A8OQ-01Z-00-DX1_43bfc.png | Reason: Decompressed Data Too Large\n",
      "\n",
      "Skipped corrupted image: /mnt/data/Processed_Data/WSI/tissue_patches/TCGA-AC-A8OQ/TCGA-AC-A8OQ-01Z-00-DX1_508a2.png | Reason: Decompressed Data Too Large\n",
      "\n",
      "Skipped corrupted image: /mnt/data/Processed_Data/WSI/tissue_patches/TCGA-AC-A8OQ/TCGA-AC-A8OQ-01Z-00-DX1_52275.png | Reason: Decompressed Data Too Large\n",
      "\n",
      "Skipped corrupted image: /mnt/data/Processed_Data/WSI/tissue_patches/TCGA-AC-A8OQ/TCGA-AC-A8OQ-01Z-00-DX1_5f3ae.png | Reason: Decompressed Data Too Large\n",
      "\n",
      "Skipped corrupted image: /mnt/data/Processed_Data/WSI/tissue_patches/TCGA-AC-A8OQ/TCGA-AC-A8OQ-01Z-00-DX1_5f5a8.png | Reason: Decompressed Data Too Large\n",
      "\n",
      "Skipped corrupted image: /mnt/data/Processed_Data/WSI/tissue_patches/TCGA-AC-A8OQ/TCGA-AC-A8OQ-01Z-00-DX1_600e1.png | Reason: Decompressed Data Too Large\n",
      "\n",
      "Skipped corrupted image: /mnt/data/Processed_Data/WSI/tissue_patches/TCGA-AC-A8OQ/TCGA-AC-A8OQ-01Z-00-DX1_62bc1.png | Reason: Decompressed Data Too Large\n",
      "\n",
      "Skipped corrupted image: /mnt/data/Processed_Data/WSI/tissue_patches/TCGA-AC-A8OQ/TCGA-AC-A8OQ-01Z-00-DX1_673a5.png | Reason: Decompressed Data Too Large\n",
      "\n",
      "Skipped corrupted image: /mnt/data/Processed_Data/WSI/tissue_patches/TCGA-AC-A8OQ/TCGA-AC-A8OQ-01Z-00-DX1_78400.png | Reason: Decompressed Data Too Large\n",
      "\n",
      "Skipped corrupted image: /mnt/data/Processed_Data/WSI/tissue_patches/TCGA-AC-A8OQ/TCGA-AC-A8OQ-01Z-00-DX1_7a640.png | Reason: Decompressed Data Too Large\n",
      "\n",
      "Skipped corrupted image: /mnt/data/Processed_Data/WSI/tissue_patches/TCGA-AC-A8OQ/TCGA-AC-A8OQ-01Z-00-DX1_7c749.png | Reason: Decompressed Data Too Large\n",
      "\n",
      "Skipped corrupted image: /mnt/data/Processed_Data/WSI/tissue_patches/TCGA-AC-A8OQ/TCGA-AC-A8OQ-01Z-00-DX1_82900.png | Reason: Decompressed Data Too Large\n",
      "\n",
      "Skipped corrupted image: /mnt/data/Processed_Data/WSI/tissue_patches/TCGA-AC-A8OQ/TCGA-AC-A8OQ-01Z-00-DX1_84541.png | Reason: Decompressed Data Too Large\n",
      "\n",
      "Skipped corrupted image: /mnt/data/Processed_Data/WSI/tissue_patches/TCGA-AC-A8OQ/TCGA-AC-A8OQ-01Z-00-DX1_88fc4.png | Reason: Decompressed Data Too Large\n",
      "\n",
      "Skipped corrupted image: /mnt/data/Processed_Data/WSI/tissue_patches/TCGA-AC-A8OQ/TCGA-AC-A8OQ-01Z-00-DX1_8c437.png | Reason: Decompressed Data Too Large\n",
      "\n",
      "Skipped corrupted image: /mnt/data/Processed_Data/WSI/tissue_patches/TCGA-AC-A8OQ/TCGA-AC-A8OQ-01Z-00-DX1_92413.png | Reason: Decompressed Data Too Large\n",
      "\n",
      "Skipped corrupted image: /mnt/data/Processed_Data/WSI/tissue_patches/TCGA-AC-A8OQ/TCGA-AC-A8OQ-01Z-00-DX1_94aa0.png | Reason: Decompressed Data Too Large\n",
      "\n",
      "Skipped corrupted image: /mnt/data/Processed_Data/WSI/tissue_patches/TCGA-AC-A8OQ/TCGA-AC-A8OQ-01Z-00-DX1_9568d.png | Reason: Decompressed Data Too Large\n",
      "\n",
      "Skipped corrupted image: /mnt/data/Processed_Data/WSI/tissue_patches/TCGA-AC-A8OQ/TCGA-AC-A8OQ-01Z-00-DX1_a315c.png | Reason: Decompressed Data Too Large\n",
      "\n",
      "Skipped corrupted image: /mnt/data/Processed_Data/WSI/tissue_patches/TCGA-AC-A8OQ/TCGA-AC-A8OQ-01Z-00-DX1_a7010.png | Reason: Decompressed Data Too Large\n",
      "\n",
      "Skipped corrupted image: /mnt/data/Processed_Data/WSI/tissue_patches/TCGA-AC-A8OQ/TCGA-AC-A8OQ-01Z-00-DX1_ad2b8.png | Reason: Decompressed Data Too Large\n",
      "\n",
      "Skipped corrupted image: /mnt/data/Processed_Data/WSI/tissue_patches/TCGA-AC-A8OQ/TCGA-AC-A8OQ-01Z-00-DX1_b768f.png | Reason: Decompressed Data Too Large\n",
      "\n",
      "Skipped corrupted image: /mnt/data/Processed_Data/WSI/tissue_patches/TCGA-AC-A8OQ/TCGA-AC-A8OQ-01Z-00-DX1_cb190.png | Reason: Decompressed Data Too Large\n",
      "\n",
      "Skipped corrupted image: /mnt/data/Processed_Data/WSI/tissue_patches/TCGA-AC-A8OQ/TCGA-AC-A8OQ-01Z-00-DX1_d49c9.png | Reason: Decompressed Data Too Large\n",
      "\n",
      "Skipped corrupted image: /mnt/data/Processed_Data/WSI/tissue_patches/TCGA-AC-A8OQ/TCGA-AC-A8OQ-01Z-00-DX1_dc250.png | Reason: Decompressed Data Too Large\n",
      "\n",
      "Skipped corrupted image: /mnt/data/Processed_Data/WSI/tissue_patches/TCGA-AC-A8OQ/TCGA-AC-A8OQ-01Z-00-DX1_e0253.png | Reason: Decompressed Data Too Large\n",
      "\n",
      "Skipped corrupted image: /mnt/data/Processed_Data/WSI/tissue_patches/TCGA-AC-A8OQ/TCGA-AC-A8OQ-01Z-00-DX1_e62b7.png | Reason: Decompressed Data Too Large\n",
      "\n",
      "Skipped corrupted image: /mnt/data/Processed_Data/WSI/tissue_patches/TCGA-AC-A8OQ/TCGA-AC-A8OQ-01Z-00-DX1_e6b1d.png | Reason: Decompressed Data Too Large\n",
      "\n",
      "Skipped corrupted image: /mnt/data/Processed_Data/WSI/tissue_patches/TCGA-AC-A8OQ/TCGA-AC-A8OQ-01Z-00-DX1_ee5cc.png | Reason: Decompressed Data Too Large\n",
      "\n",
      "Skipped corrupted image: /mnt/data/Processed_Data/WSI/tissue_patches/TCGA-AC-A8OQ/TCGA-AC-A8OQ-01Z-00-DX1_f156e.png | Reason: Decompressed Data Too Large\n",
      "\n",
      "Skipped corrupted image: /mnt/data/Processed_Data/WSI/tissue_patches/TCGA-AC-A8OQ/TCGA-AC-A8OQ-01Z-00-DX1_f6adf.png | Reason: Decompressed Data Too Large\n",
      "\n",
      "Skipped corrupted image: /mnt/data/Processed_Data/WSI/tissue_patches/TCGA-AC-A8OQ/TCGA-AC-A8OQ-01Z-00-DX1_fbb32.png | Reason: Decompressed Data Too Large\n",
      "Check all patients: 206/913\n",
      "Skipped corrupted image: /mnt/data/Processed_Data/WSI/tissue_patches/TCGA-AC-A8OS/TCGA-AC-A8OS-01Z-00-DX1_001b9.png | Reason: Decompressed Data Too Large\n",
      "\n",
      "Skipped corrupted image: /mnt/data/Processed_Data/WSI/tissue_patches/TCGA-AC-A8OS/TCGA-AC-A8OS-01Z-00-DX1_045ca.png | Reason: Decompressed Data Too Large\n",
      "\n",
      "Skipped corrupted image: /mnt/data/Processed_Data/WSI/tissue_patches/TCGA-AC-A8OS/TCGA-AC-A8OS-01Z-00-DX1_06bbf.png | Reason: Decompressed Data Too Large\n",
      "\n",
      "Skipped corrupted image: /mnt/data/Processed_Data/WSI/tissue_patches/TCGA-AC-A8OS/TCGA-AC-A8OS-01Z-00-DX1_08051.png | Reason: Decompressed Data Too Large\n",
      "\n",
      "Skipped corrupted image: /mnt/data/Processed_Data/WSI/tissue_patches/TCGA-AC-A8OS/TCGA-AC-A8OS-01Z-00-DX1_0f6a0.png | Reason: Decompressed Data Too Large\n",
      "\n",
      "Skipped corrupted image: /mnt/data/Processed_Data/WSI/tissue_patches/TCGA-AC-A8OS/TCGA-AC-A8OS-01Z-00-DX1_0f772.png | Reason: Decompressed Data Too Large\n",
      "\n",
      "Skipped corrupted image: /mnt/data/Processed_Data/WSI/tissue_patches/TCGA-AC-A8OS/TCGA-AC-A8OS-01Z-00-DX1_120f0.png | Reason: Decompressed Data Too Large\n",
      "\n",
      "Skipped corrupted image: /mnt/data/Processed_Data/WSI/tissue_patches/TCGA-AC-A8OS/TCGA-AC-A8OS-01Z-00-DX1_12fbb.png | Reason: Decompressed Data Too Large\n",
      "\n",
      "Skipped corrupted image: /mnt/data/Processed_Data/WSI/tissue_patches/TCGA-AC-A8OS/TCGA-AC-A8OS-01Z-00-DX1_22c73.png | Reason: Decompressed Data Too Large\n",
      "\n",
      "Skipped corrupted image: /mnt/data/Processed_Data/WSI/tissue_patches/TCGA-AC-A8OS/TCGA-AC-A8OS-01Z-00-DX1_2b523.png | Reason: Decompressed Data Too Large\n",
      "\n",
      "Skipped corrupted image: /mnt/data/Processed_Data/WSI/tissue_patches/TCGA-AC-A8OS/TCGA-AC-A8OS-01Z-00-DX1_2bb56.png | Reason: Decompressed Data Too Large\n",
      "\n",
      "Skipped corrupted image: /mnt/data/Processed_Data/WSI/tissue_patches/TCGA-AC-A8OS/TCGA-AC-A8OS-01Z-00-DX1_2bdd9.png | Reason: Decompressed Data Too Large\n",
      "\n",
      "Skipped corrupted image: /mnt/data/Processed_Data/WSI/tissue_patches/TCGA-AC-A8OS/TCGA-AC-A8OS-01Z-00-DX1_37d72.png | Reason: Decompressed Data Too Large\n",
      "\n",
      "Skipped corrupted image: /mnt/data/Processed_Data/WSI/tissue_patches/TCGA-AC-A8OS/TCGA-AC-A8OS-01Z-00-DX1_37eab.png | Reason: Decompressed Data Too Large\n",
      "\n",
      "Skipped corrupted image: /mnt/data/Processed_Data/WSI/tissue_patches/TCGA-AC-A8OS/TCGA-AC-A8OS-01Z-00-DX1_5019b.png | Reason: Decompressed Data Too Large\n",
      "\n",
      "Skipped corrupted image: /mnt/data/Processed_Data/WSI/tissue_patches/TCGA-AC-A8OS/TCGA-AC-A8OS-01Z-00-DX1_524d7.png | Reason: Decompressed Data Too Large\n",
      "\n",
      "Skipped corrupted image: /mnt/data/Processed_Data/WSI/tissue_patches/TCGA-AC-A8OS/TCGA-AC-A8OS-01Z-00-DX1_545aa.png | Reason: Decompressed Data Too Large\n",
      "\n",
      "Skipped corrupted image: /mnt/data/Processed_Data/WSI/tissue_patches/TCGA-AC-A8OS/TCGA-AC-A8OS-01Z-00-DX1_55b09.png | Reason: Decompressed Data Too Large\n",
      "\n",
      "Skipped corrupted image: /mnt/data/Processed_Data/WSI/tissue_patches/TCGA-AC-A8OS/TCGA-AC-A8OS-01Z-00-DX1_5bf98.png | Reason: Decompressed Data Too Large\n",
      "\n",
      "Skipped corrupted image: /mnt/data/Processed_Data/WSI/tissue_patches/TCGA-AC-A8OS/TCGA-AC-A8OS-01Z-00-DX1_68f02.png | Reason: Decompressed Data Too Large\n",
      "\n",
      "Skipped corrupted image: /mnt/data/Processed_Data/WSI/tissue_patches/TCGA-AC-A8OS/TCGA-AC-A8OS-01Z-00-DX1_6d979.png | Reason: Decompressed Data Too Large\n",
      "\n",
      "Skipped corrupted image: /mnt/data/Processed_Data/WSI/tissue_patches/TCGA-AC-A8OS/TCGA-AC-A8OS-01Z-00-DX1_8405e.png | Reason: Decompressed Data Too Large\n",
      "\n",
      "Skipped corrupted image: /mnt/data/Processed_Data/WSI/tissue_patches/TCGA-AC-A8OS/TCGA-AC-A8OS-01Z-00-DX1_88d51.png | Reason: Decompressed Data Too Large\n",
      "\n",
      "Skipped corrupted image: /mnt/data/Processed_Data/WSI/tissue_patches/TCGA-AC-A8OS/TCGA-AC-A8OS-01Z-00-DX1_90bd4.png | Reason: Decompressed Data Too Large\n",
      "\n",
      "Skipped corrupted image: /mnt/data/Processed_Data/WSI/tissue_patches/TCGA-AC-A8OS/TCGA-AC-A8OS-01Z-00-DX1_90beb.png | Reason: Decompressed Data Too Large\n",
      "\n",
      "Skipped corrupted image: /mnt/data/Processed_Data/WSI/tissue_patches/TCGA-AC-A8OS/TCGA-AC-A8OS-01Z-00-DX1_96e58.png | Reason: Decompressed Data Too Large\n",
      "\n",
      "Skipped corrupted image: /mnt/data/Processed_Data/WSI/tissue_patches/TCGA-AC-A8OS/TCGA-AC-A8OS-01Z-00-DX1_9a73b.png | Reason: Decompressed Data Too Large\n",
      "\n",
      "Skipped corrupted image: /mnt/data/Processed_Data/WSI/tissue_patches/TCGA-AC-A8OS/TCGA-AC-A8OS-01Z-00-DX1_a1ba1.png | Reason: Decompressed Data Too Large\n",
      "\n",
      "Skipped corrupted image: /mnt/data/Processed_Data/WSI/tissue_patches/TCGA-AC-A8OS/TCGA-AC-A8OS-01Z-00-DX1_a4af1.png | Reason: Decompressed Data Too Large\n",
      "\n",
      "Skipped corrupted image: /mnt/data/Processed_Data/WSI/tissue_patches/TCGA-AC-A8OS/TCGA-AC-A8OS-01Z-00-DX1_a8043.png | Reason: Decompressed Data Too Large\n",
      "\n",
      "Skipped corrupted image: /mnt/data/Processed_Data/WSI/tissue_patches/TCGA-AC-A8OS/TCGA-AC-A8OS-01Z-00-DX1_b572b.png | Reason: Decompressed Data Too Large\n",
      "\n",
      "Skipped corrupted image: /mnt/data/Processed_Data/WSI/tissue_patches/TCGA-AC-A8OS/TCGA-AC-A8OS-01Z-00-DX1_b7e89.png | Reason: Decompressed Data Too Large\n",
      "\n",
      "Skipped corrupted image: /mnt/data/Processed_Data/WSI/tissue_patches/TCGA-AC-A8OS/TCGA-AC-A8OS-01Z-00-DX1_c269a.png | Reason: Decompressed Data Too Large\n",
      "\n",
      "Skipped corrupted image: /mnt/data/Processed_Data/WSI/tissue_patches/TCGA-AC-A8OS/TCGA-AC-A8OS-01Z-00-DX1_cbd68.png | Reason: Decompressed Data Too Large\n",
      "\n",
      "Skipped corrupted image: /mnt/data/Processed_Data/WSI/tissue_patches/TCGA-AC-A8OS/TCGA-AC-A8OS-01Z-00-DX1_d32f0.png | Reason: Decompressed Data Too Large\n",
      "\n",
      "Skipped corrupted image: /mnt/data/Processed_Data/WSI/tissue_patches/TCGA-AC-A8OS/TCGA-AC-A8OS-01Z-00-DX1_d69f5.png | Reason: Decompressed Data Too Large\n",
      "\n",
      "Skipped corrupted image: /mnt/data/Processed_Data/WSI/tissue_patches/TCGA-AC-A8OS/TCGA-AC-A8OS-01Z-00-DX1_dc89c.png | Reason: Decompressed Data Too Large\n",
      "\n",
      "Skipped corrupted image: /mnt/data/Processed_Data/WSI/tissue_patches/TCGA-AC-A8OS/TCGA-AC-A8OS-01Z-00-DX1_dc9da.png | Reason: Decompressed Data Too Large\n",
      "\n",
      "Skipped corrupted image: /mnt/data/Processed_Data/WSI/tissue_patches/TCGA-AC-A8OS/TCGA-AC-A8OS-01Z-00-DX1_de1d4.png | Reason: Decompressed Data Too Large\n",
      "\n",
      "Skipped corrupted image: /mnt/data/Processed_Data/WSI/tissue_patches/TCGA-AC-A8OS/TCGA-AC-A8OS-01Z-00-DX1_e4671.png | Reason: Decompressed Data Too Large\n",
      "\n",
      "Skipped corrupted image: /mnt/data/Processed_Data/WSI/tissue_patches/TCGA-AC-A8OS/TCGA-AC-A8OS-01Z-00-DX1_e469e.png | Reason: Decompressed Data Too Large\n",
      "\n",
      "Skipped corrupted image: /mnt/data/Processed_Data/WSI/tissue_patches/TCGA-AC-A8OS/TCGA-AC-A8OS-01Z-00-DX1_e511f.png | Reason: Decompressed Data Too Large\n",
      "\n",
      "Skipped corrupted image: /mnt/data/Processed_Data/WSI/tissue_patches/TCGA-AC-A8OS/TCGA-AC-A8OS-01Z-00-DX1_e67bf.png | Reason: Decompressed Data Too Large\n",
      "\n",
      "Skipped corrupted image: /mnt/data/Processed_Data/WSI/tissue_patches/TCGA-AC-A8OS/TCGA-AC-A8OS-01Z-00-DX1_e680b.png | Reason: Decompressed Data Too Large\n",
      "\n",
      "Skipped corrupted image: /mnt/data/Processed_Data/WSI/tissue_patches/TCGA-AC-A8OS/TCGA-AC-A8OS-01Z-00-DX1_e6e29.png | Reason: Decompressed Data Too Large\n",
      "\n",
      "Skipped corrupted image: /mnt/data/Processed_Data/WSI/tissue_patches/TCGA-AC-A8OS/TCGA-AC-A8OS-01Z-00-DX1_e88cf.png | Reason: Decompressed Data Too Large\n",
      "\n",
      "Skipped corrupted image: /mnt/data/Processed_Data/WSI/tissue_patches/TCGA-AC-A8OS/TCGA-AC-A8OS-01Z-00-DX1_e9866.png | Reason: Decompressed Data Too Large\n",
      "\n",
      "Skipped corrupted image: /mnt/data/Processed_Data/WSI/tissue_patches/TCGA-AC-A8OS/TCGA-AC-A8OS-01Z-00-DX1_e9e91.png | Reason: Decompressed Data Too Large\n",
      "\n",
      "Skipped corrupted image: /mnt/data/Processed_Data/WSI/tissue_patches/TCGA-AC-A8OS/TCGA-AC-A8OS-01Z-00-DX1_ede8e.png | Reason: Decompressed Data Too Large\n",
      "\n",
      "Skipped corrupted image: /mnt/data/Processed_Data/WSI/tissue_patches/TCGA-AC-A8OS/TCGA-AC-A8OS-01Z-00-DX1_fa21e.png | Reason: Decompressed Data Too Large\n",
      "Check all patients: 912/913CPU times: user 14min 30s, sys: 23.5 s, total: 14min 53s\n",
      "Wall time: 30min 22s\n"
     ]
    }
   ],
   "source": [
    "%%time\n",
    "\n",
    "# Set thresholds by running some patients and looking at results\n",
    "low = 0.35\n",
    "high = 0.9\n",
    "\n",
    "outlier_paths = []\n",
    "\n",
    "for i, patient in enumerate(represented_patients):\n",
    "    print(f'\\rCheck all patients: {i}/{len(represented_patients)}', end='')\n",
    "    patch_files = list_patient_patches(patient)\n",
    "\n",
    "    for patch_file in patch_files:\n",
    "        patch = load_patch(patch_file)\n",
    "        if patch is None:\n",
    "            continue  # skip corrupted or unreadable images\n",
    "        means = compute_intensity_mean(patch, print_result=False)\n",
    "        if not low < means[0] < high:\n",
    "            outlier_paths.append(\n",
    "                os.path.join(DATA_LOCATION, 'tissue_patches', patient, patch_file))"
   ]
  },
  {
   "cell_type": "code",
   "execution_count": 208,
   "metadata": {},
   "outputs": [
    {
     "name": "stdout",
     "output_type": "stream",
     "text": [
      "2258 outlier patches out of 98148 (2.3%)\n",
      "from 483 patients out of 913 (52.9%)\n"
     ]
    }
   ],
   "source": [
    "percent_patches = round(len(outlier_paths) * 100 / patch_count, 1)\n",
    "patients = set([x.split('/')[-2] for x in outlier_paths])\n",
    "percent_patients = round(len(patients) * 100 / len(represented_patients), 1)\n",
    "\n",
    "print(f'{len(outlier_paths)} outlier patches out of {patch_count} ({percent_patches}%)')\n",
    "print(f'from {len(patients)} patients out of {len(represented_patients)} ({percent_patients}%)')"
   ]
  },
  {
   "cell_type": "markdown",
   "metadata": {},
   "source": [
    "### Visualize outlier examples"
   ]
  },
  {
   "cell_type": "code",
   "execution_count": 210,
   "metadata": {},
   "outputs": [
    {
     "name": "stdout",
     "output_type": "stream",
     "text": [
      "Channel     Mean\n",
      "  R       0.320751\n",
      "  G       0.136371\n",
      "  B       0.252611\n"
     ]
    },
    {
     "data": {
      "image/png": "[encoded data removed]",
      "text/plain": [
       "<Figure size 640x480 with 1 Axes>"
      ]
     },
     "metadata": {},
     "output_type": "display_data"
    }
   ],
   "source": [
    "import random\n",
    "\n",
    "i = random.randint(0, len(outlier_paths) - 1)\n",
    "outlier_patch = load_patch(outlier_paths[i])\n",
    "means = compute_intensity_mean(outlier_patch, print_result=True)\n",
    "imgplot = plt.imshow(outlier_patch)"
   ]
  },
  {
   "cell_type": "markdown",
   "metadata": {},
   "source": [
    "### Delete outlier patch files"
   ]
  },
  {
   "cell_type": "code",
   "execution_count": 211,
   "metadata": {},
   "outputs": [],
   "source": [
    "all_patches = []\n",
    "for pid in represented_patients:\n",
    "    all_patches += list_patient_patches(patient_id=pid)"
   ]
  },
  {
   "cell_type": "code",
   "execution_count": 212,
   "metadata": {},
   "outputs": [
    {
     "data": {
      "text/plain": [
       "98148"
      ]
     },
     "execution_count": 212,
     "metadata": {},
     "output_type": "execute_result"
    }
   ],
   "source": [
    "len(all_patches)"
   ]
  },
  {
   "cell_type": "code",
   "execution_count": 213,
   "metadata": {},
   "outputs": [],
   "source": [
    "def how_many_patches_per_patient(patches):\n",
    "    patches_named_as_patients = ['-'.join(os.path.basename(patch).split('-')[:3])\n",
    "                                 for patch in patches]\n",
    "    \n",
    "    c = Counter(patches_named_as_patients)\n",
    "\n",
    "    print(f'# patches: {len(patches_named_as_patients)}')\n",
    "    print(f'# Represented patients: {len(c)}')\n",
    "    unique_counts = set(c.values())\n",
    "    print(f'Unique #s patches per patient: {unique_counts}')"
   ]
  },
  {
   "cell_type": "code",
   "execution_count": 214,
   "metadata": {},
   "outputs": [
    {
     "name": "stdout",
     "output_type": "stream",
     "text": [
      "# patches: 98148\n",
      "# Represented patients: 913\n",
      "Unique #s patches per patient: {100, 200, 300, 400, 50, 149, 150, 249, 250, 350}\n"
     ]
    }
   ],
   "source": [
    "how_many_patches_per_patient(all_patches)"
   ]
  },
  {
   "cell_type": "code",
   "execution_count": 215,
   "metadata": {},
   "outputs": [
    {
     "data": {
      "text/plain": [
       "['/mnt/data/Processed_Data/WSI/tissue_patches/TCGA-3C-AALJ/TCGA-3C-AALJ-01Z-00-DX1_d13ae.png',\n",
       " '/mnt/data/Processed_Data/WSI/tissue_patches/TCGA-5L-AAT1/TCGA-5L-AAT1-01Z-00-DX1_0255f.png',\n",
       " '/mnt/data/Processed_Data/WSI/tissue_patches/TCGA-5L-AAT1/TCGA-5L-AAT1-01Z-00-DX1_06db0.png',\n",
       " '/mnt/data/Processed_Data/WSI/tissue_patches/TCGA-5L-AAT1/TCGA-5L-AAT1-01Z-00-DX1_13ef2.png',\n",
       " '/mnt/data/Processed_Data/WSI/tissue_patches/TCGA-5L-AAT1/TCGA-5L-AAT1-01Z-00-DX1_18d8f.png']"
      ]
     },
     "execution_count": 215,
     "metadata": {},
     "output_type": "execute_result"
    }
   ],
   "source": [
    "outlier_paths[:5]"
   ]
  },
  {
   "cell_type": "code",
   "execution_count": 216,
   "metadata": {},
   "outputs": [
    {
     "data": {
      "text/plain": [
       "2258"
      ]
     },
     "execution_count": 216,
     "metadata": {},
     "output_type": "execute_result"
    }
   ],
   "source": [
    "len(outlier_paths)"
   ]
  },
  {
   "cell_type": "code",
   "execution_count": 217,
   "metadata": {},
   "outputs": [],
   "source": [
    "for f in outlier_paths:\n",
    "    os.remove(f)"
   ]
  },
  {
   "cell_type": "code",
   "execution_count": 218,
   "metadata": {},
   "outputs": [
    {
     "data": {
      "text/plain": [
       "95890"
      ]
     },
     "execution_count": 218,
     "metadata": {},
     "output_type": "execute_result"
    }
   ],
   "source": [
    "count_patches(patients=represented_patients)"
   ]
  },
  {
   "cell_type": "code",
   "execution_count": 219,
   "metadata": {},
   "outputs": [
    {
     "data": {
      "text/plain": [
       "95890"
      ]
     },
     "execution_count": 219,
     "metadata": {},
     "output_type": "execute_result"
    }
   ],
   "source": [
    "len(all_patches) - len(outlier_paths)"
   ]
  },
  {
   "cell_type": "markdown",
   "metadata": {},
   "source": [
    "### Generate patient files\n",
    "\n",
    "Update patient files to account for deleted patches."
   ]
  },
  {
   "cell_type": "code",
   "execution_count": 220,
   "metadata": {},
   "outputs": [],
   "source": [
    "all_patches = []\n",
    "for pid in represented_patients:\n",
    "    all_patches += list_patient_patches(patient_id=pid)"
   ]
  },
  {
   "cell_type": "code",
   "execution_count": 221,
   "metadata": {},
   "outputs": [],
   "source": [
    "all_patches_ids = list(set(['-'.join(os.path.basename(patch).split('-')[:3])\n",
    "                            for patch in all_patches]))\n",
    "\n",
    "for pid in represented_patients:\n",
    "    if not pid in all_patches_ids:\n",
    "        print(pid, 'no longer among represented patients')"
   ]
  },
  {
   "cell_type": "code",
   "execution_count": 222,
   "metadata": {},
   "outputs": [
    {
     "data": {
      "text/plain": [
       "95890"
      ]
     },
     "execution_count": 222,
     "metadata": {},
     "output_type": "execute_result"
    }
   ],
   "source": [
    "len(all_patches)"
   ]
  },
  {
   "cell_type": "code",
   "execution_count": 225,
   "metadata": {},
   "outputs": [],
   "source": [
    "# Remove previous patient files\n",
    "for f in os.listdir(DATA_LOCATION):\n",
    "    if f != 'tissue_patches' and os.path.isfile(os.path.join(DATA_LOCATION, f)):\n",
    "        os.remove(os.path.join(DATA_LOCATION, f))"
   ]
  },
  {
   "cell_type": "code",
   "execution_count": 226,
   "metadata": {},
   "outputs": [
    {
     "data": {
      "text/plain": [
       "['test', 'tissue_patches', 'train', 'val']"
      ]
     },
     "execution_count": 226,
     "metadata": {},
     "output_type": "execute_result"
    }
   ],
   "source": [
    "os.listdir(DATA_LOCATION)"
   ]
  },
  {
   "cell_type": "code",
   "execution_count": 227,
   "metadata": {},
   "outputs": [],
   "source": [
    "patient_patch_map = {}\n",
    "\n",
    "previous_id = None\n",
    "\n",
    "for patch_path in all_patches:\n",
    "    pid = '-'.join(os.path.basename(patch_path).split('-')[:3])\n",
    "    \n",
    "    if not pid in patient_patch_map.keys():\n",
    "        patient_patch_map[pid] = [patch_path]\n",
    "    else:\n",
    "        patient_patch_map[pid].append(patch_path)"
   ]
  },
  {
   "cell_type": "code",
   "execution_count": 228,
   "metadata": {},
   "outputs": [
    {
     "data": {
      "text/plain": [
       "913"
      ]
     },
     "execution_count": 228,
     "metadata": {},
     "output_type": "execute_result"
    }
   ],
   "source": [
    "len(patient_patch_map)"
   ]
  },
  {
   "cell_type": "code",
   "execution_count": 232,
   "metadata": {},
   "outputs": [
    {
     "data": {
      "text/plain": [
       "['/mnt/data/Processed_Data/WSI/tissue_patches/TCGA-3C-AALI/TCGA-3C-AALI-01A-01-TSA_00146.png',\n",
       " '/mnt/data/Processed_Data/WSI/tissue_patches/TCGA-3C-AALI/TCGA-3C-AALI-01A-01-TSA_020aa.png',\n",
       " '/mnt/data/Processed_Data/WSI/tissue_patches/TCGA-3C-AALI/TCGA-3C-AALI-01A-01-TSA_062d5.png',\n",
       " '/mnt/data/Processed_Data/WSI/tissue_patches/TCGA-3C-AALI/TCGA-3C-AALI-01A-01-TSA_08f92.png',\n",
       " '/mnt/data/Processed_Data/WSI/tissue_patches/TCGA-3C-AALI/TCGA-3C-AALI-01A-01-TSA_0fa96.png',\n",
       " '/mnt/data/Processed_Data/WSI/tissue_patches/TCGA-3C-AALI/TCGA-3C-AALI-01A-01-TSA_13bb6.png',\n",
       " '/mnt/data/Processed_Data/WSI/tissue_patches/TCGA-3C-AALI/TCGA-3C-AALI-01A-01-TSA_184f5.png',\n",
       " '/mnt/data/Processed_Data/WSI/tissue_patches/TCGA-3C-AALI/TCGA-3C-AALI-01A-01-TSA_1cebb.png',\n",
       " '/mnt/data/Processed_Data/WSI/tissue_patches/TCGA-3C-AALI/TCGA-3C-AALI-01A-01-TSA_1f811.png',\n",
       " '/mnt/data/Processed_Data/WSI/tissue_patches/TCGA-3C-AALI/TCGA-3C-AALI-01A-01-TSA_206fc.png',\n",
       " '/mnt/data/Processed_Data/WSI/tissue_patches/TCGA-3C-AALI/TCGA-3C-AALI-01A-01-TSA_26f68.png',\n",
       " '/mnt/data/Processed_Data/WSI/tissue_patches/TCGA-3C-AALI/TCGA-3C-AALI-01A-01-TSA_27aca.png',\n",
       " '/mnt/data/Processed_Data/WSI/tissue_patches/TCGA-3C-AALI/TCGA-3C-AALI-01A-01-TSA_2d428.png',\n",
       " '/mnt/data/Processed_Data/WSI/tissue_patches/TCGA-3C-AALI/TCGA-3C-AALI-01A-01-TSA_3338f.png',\n",
       " '/mnt/data/Processed_Data/WSI/tissue_patches/TCGA-3C-AALI/TCGA-3C-AALI-01A-01-TSA_39adc.png',\n",
       " '/mnt/data/Processed_Data/WSI/tissue_patches/TCGA-3C-AALI/TCGA-3C-AALI-01A-01-TSA_3c4a7.png',\n",
       " '/mnt/data/Processed_Data/WSI/tissue_patches/TCGA-3C-AALI/TCGA-3C-AALI-01A-01-TSA_40ce7.png',\n",
       " '/mnt/data/Processed_Data/WSI/tissue_patches/TCGA-3C-AALI/TCGA-3C-AALI-01A-01-TSA_47843.png',\n",
       " '/mnt/data/Processed_Data/WSI/tissue_patches/TCGA-3C-AALI/TCGA-3C-AALI-01A-01-TSA_49efa.png',\n",
       " '/mnt/data/Processed_Data/WSI/tissue_patches/TCGA-3C-AALI/TCGA-3C-AALI-01A-01-TSA_4b5cc.png',\n",
       " '/mnt/data/Processed_Data/WSI/tissue_patches/TCGA-3C-AALI/TCGA-3C-AALI-01A-01-TSA_57266.png',\n",
       " '/mnt/data/Processed_Data/WSI/tissue_patches/TCGA-3C-AALI/TCGA-3C-AALI-01A-01-TSA_609cd.png',\n",
       " '/mnt/data/Processed_Data/WSI/tissue_patches/TCGA-3C-AALI/TCGA-3C-AALI-01A-01-TSA_68a18.png',\n",
       " '/mnt/data/Processed_Data/WSI/tissue_patches/TCGA-3C-AALI/TCGA-3C-AALI-01A-01-TSA_69cb5.png',\n",
       " '/mnt/data/Processed_Data/WSI/tissue_patches/TCGA-3C-AALI/TCGA-3C-AALI-01A-01-TSA_6de25.png',\n",
       " '/mnt/data/Processed_Data/WSI/tissue_patches/TCGA-3C-AALI/TCGA-3C-AALI-01A-01-TSA_866c0.png',\n",
       " '/mnt/data/Processed_Data/WSI/tissue_patches/TCGA-3C-AALI/TCGA-3C-AALI-01A-01-TSA_87ea7.png',\n",
       " '/mnt/data/Processed_Data/WSI/tissue_patches/TCGA-3C-AALI/TCGA-3C-AALI-01A-01-TSA_935c2.png',\n",
       " '/mnt/data/Processed_Data/WSI/tissue_patches/TCGA-3C-AALI/TCGA-3C-AALI-01A-01-TSA_97d75.png',\n",
       " '/mnt/data/Processed_Data/WSI/tissue_patches/TCGA-3C-AALI/TCGA-3C-AALI-01A-01-TSA_a2c77.png',\n",
       " '/mnt/data/Processed_Data/WSI/tissue_patches/TCGA-3C-AALI/TCGA-3C-AALI-01A-01-TSA_a849c.png',\n",
       " '/mnt/data/Processed_Data/WSI/tissue_patches/TCGA-3C-AALI/TCGA-3C-AALI-01A-01-TSA_ae432.png',\n",
       " '/mnt/data/Processed_Data/WSI/tissue_patches/TCGA-3C-AALI/TCGA-3C-AALI-01A-01-TSA_b6b15.png',\n",
       " '/mnt/data/Processed_Data/WSI/tissue_patches/TCGA-3C-AALI/TCGA-3C-AALI-01A-01-TSA_bc505.png',\n",
       " '/mnt/data/Processed_Data/WSI/tissue_patches/TCGA-3C-AALI/TCGA-3C-AALI-01A-01-TSA_bca7d.png',\n",
       " '/mnt/data/Processed_Data/WSI/tissue_patches/TCGA-3C-AALI/TCGA-3C-AALI-01A-01-TSA_c5512.png',\n",
       " '/mnt/data/Processed_Data/WSI/tissue_patches/TCGA-3C-AALI/TCGA-3C-AALI-01A-01-TSA_c5752.png',\n",
       " '/mnt/data/Processed_Data/WSI/tissue_patches/TCGA-3C-AALI/TCGA-3C-AALI-01A-01-TSA_ce130.png',\n",
       " '/mnt/data/Processed_Data/WSI/tissue_patches/TCGA-3C-AALI/TCGA-3C-AALI-01A-01-TSA_d0e70.png',\n",
       " '/mnt/data/Processed_Data/WSI/tissue_patches/TCGA-3C-AALI/TCGA-3C-AALI-01A-01-TSA_d4615.png',\n",
       " '/mnt/data/Processed_Data/WSI/tissue_patches/TCGA-3C-AALI/TCGA-3C-AALI-01A-01-TSA_dcc04.png',\n",
       " '/mnt/data/Processed_Data/WSI/tissue_patches/TCGA-3C-AALI/TCGA-3C-AALI-01A-01-TSA_dd153.png',\n",
       " '/mnt/data/Processed_Data/WSI/tissue_patches/TCGA-3C-AALI/TCGA-3C-AALI-01A-01-TSA_e04a4.png',\n",
       " '/mnt/data/Processed_Data/WSI/tissue_patches/TCGA-3C-AALI/TCGA-3C-AALI-01A-01-TSA_e0dd7.png',\n",
       " '/mnt/data/Processed_Data/WSI/tissue_patches/TCGA-3C-AALI/TCGA-3C-AALI-01A-01-TSA_e7241.png',\n",
       " '/mnt/data/Processed_Data/WSI/tissue_patches/TCGA-3C-AALI/TCGA-3C-AALI-01A-01-TSA_eae75.png',\n",
       " '/mnt/data/Processed_Data/WSI/tissue_patches/TCGA-3C-AALI/TCGA-3C-AALI-01A-01-TSA_f1fe7.png',\n",
       " '/mnt/data/Processed_Data/WSI/tissue_patches/TCGA-3C-AALI/TCGA-3C-AALI-01A-01-TSA_fd39c.png',\n",
       " '/mnt/data/Processed_Data/WSI/tissue_patches/TCGA-3C-AALI/TCGA-3C-AALI-01A-01-TSA_fe55b.png',\n",
       " '/mnt/data/Processed_Data/WSI/tissue_patches/TCGA-3C-AALI/TCGA-3C-AALI-01A-01-TSA_ffe15.png']"
      ]
     },
     "execution_count": 232,
     "metadata": {},
     "output_type": "execute_result"
    }
   ],
   "source": [
    "patient_patch_map['TCGA-3C-AALI']"
   ]
  },
  {
   "cell_type": "code",
   "execution_count": 233,
   "metadata": {},
   "outputs": [
    {
     "name": "stdout",
     "output_type": "stream",
     "text": [
      "Write patient files:\n",
      "913/913\n",
      "CPU times: user 74.3 ms, sys: 58.6 ms, total: 133 ms\n",
      "Wall time: 2.12 s\n"
     ]
    }
   ],
   "source": [
    "%%time\n",
    "\n",
    "print('Write patient files:')\n",
    "\n",
    "base_dir = '/mnt/data/Processed_Data/WSI/'\n",
    "n = len(patient_patch_map)\n",
    "\n",
    "for i, (patient, files) in enumerate(patient_patch_map.items()):\n",
    "    print('\\r' + f'{str((i + 1))}/{n}', end='')\n",
    "    \n",
    "    target_file = os.path.join(DATA_LOCATION, str(patient) + '.txt')\n",
    "\n",
    "    with open(target_file, 'w') as f:\n",
    "        f.write('\\n'.join(patient_files))\n",
    "print()"
   ]
  },
  {
   "cell_type": "code",
   "execution_count": 234,
   "metadata": {},
   "outputs": [
    {
     "data": {
      "text/plain": [
       "916"
      ]
     },
     "execution_count": 234,
     "metadata": {},
     "output_type": "execute_result"
    }
   ],
   "source": [
    "len([x for x in os.listdir(DATA_LOCATION) if x != 'tissue_patches'])"
   ]
  },
  {
   "cell_type": "markdown",
   "metadata": {},
   "source": [
    "# Compute patch mean and std\n",
    "\n",
    "Since the mean and standard deviation values of the WSI patches may differ from the ImageNet values provided by PyTorch, compute here sensible overall values from the dataset.\n",
    "\n",
    "The dataloader samples random examples from each patient's available patches, so run through full dataloader a couple of times to check variability."
   ]
  },
  {
   "cell_type": "code",
   "execution_count": 23,
   "metadata": {},
   "outputs": [],
   "source": [
    "import sys\n",
    "\n",
    "# Make modules in \"src\" dir visible\n",
    "if os.getcwd() not in sys.path:\n",
    "    sys.path.append(os.path.join(os.getcwd(), os.pardir, 'src'))\n",
    "\n",
    "import utils"
   ]
  },
  {
   "cell_type": "code",
   "execution_count": 24,
   "metadata": {},
   "outputs": [
    {
     "data": {
      "text/plain": [
       "'/mnt/data/Processed_Data/WSI/..'"
      ]
     },
     "execution_count": 24,
     "metadata": {},
     "output_type": "execute_result"
    }
   ],
   "source": [
    "os.path.join(DATA_LOCATION, os.pardir)"
   ]
  },
  {
   "cell_type": "code",
   "execution_count": 25,
   "metadata": {},
   "outputs": [
    {
     "name": "stdout",
     "output_type": "stream",
     "text": [
      "Excluding 149 patient(s) missing all data.\n",
      "Excluding 16 patient(s) missing all data.\n",
      "Excluding 16 patient(s) missing all data.\n",
      "Data modalities:\n",
      "   wsi\n",
      "\n",
      "Dataset sizes (# patients):\n",
      "   train: 727\n",
      "   val: 94\n",
      "   test: 92\n",
      "\n",
      "Batch size: 32\n"
     ]
    }
   ],
   "source": [
    "dataloaders = utils.get_dataloaders(data_location=os.path.join(DATA_LOCATION, os.pardir),\n",
    "                                    labels_file='labels.tsv',\n",
    "                                    modalities=['wsi'],\n",
    "                                    wsi_patch_size=560,\n",
    "                                    n_wsi_patches=1,\n",
    "                                    batch_size=32,\n",
    "#                                     exclude_patients=exclude_cancers\n",
    "                                   )"
   ]
  },
  {
   "cell_type": "code",
   "execution_count": 26,
   "metadata": {},
   "outputs": [
    {
     "name": "stderr",
     "output_type": "stream",
     "text": [
      "ERROR: Unexpected bus error encountered in worker. This might be caused by insufficient shared memory (shm).\n",
      "\u0000ERROR: Unexpected bus error encountered in worker. This might be caused by insufficient shared memory (shm).\n",
      "\u0000ERROR: Unexpected bus error encountered in worker. This might be caused by insufficient shared memory (shm).\n",
      "\u0000ERROR: Unexpected bus error encountered in worker. This might be caused by insufficient shared memory (shm).\n",
      "\u0000"
     ]
    },
    {
     "ename": "RuntimeError",
     "evalue": "DataLoader worker (pid(s) 2276) exited unexpectedly",
     "output_type": "error",
     "traceback": [
      "\u001b[0;31m---------------------------------------------------------------------------\u001b[0m",
      "\u001b[0;31mRuntimeError\u001b[0m                              Traceback (most recent call last)",
      "File \u001b[0;32m/opt/conda/envs/multisurv/lib/python3.8/site-packages/torch/utils/data/dataloader.py:1131\u001b[0m, in \u001b[0;36m_MultiProcessingDataLoaderIter._try_get_data\u001b[0;34m(self, timeout)\u001b[0m\n\u001b[1;32m   1130\u001b[0m \u001b[38;5;28;01mtry\u001b[39;00m:\n\u001b[0;32m-> 1131\u001b[0m     data \u001b[38;5;241m=\u001b[39m \u001b[38;5;28;43mself\u001b[39;49m\u001b[38;5;241;43m.\u001b[39;49m\u001b[43m_data_queue\u001b[49m\u001b[38;5;241;43m.\u001b[39;49m\u001b[43mget\u001b[49m\u001b[43m(\u001b[49m\u001b[43mtimeout\u001b[49m\u001b[38;5;241;43m=\u001b[39;49m\u001b[43mtimeout\u001b[49m\u001b[43m)\u001b[49m\n\u001b[1;32m   1132\u001b[0m     \u001b[38;5;28;01mreturn\u001b[39;00m (\u001b[38;5;28;01mTrue\u001b[39;00m, data)\n",
      "File \u001b[0;32m/opt/conda/envs/multisurv/lib/python3.8/multiprocessing/queues.py:107\u001b[0m, in \u001b[0;36mQueue.get\u001b[0;34m(self, block, timeout)\u001b[0m\n\u001b[1;32m    106\u001b[0m timeout \u001b[38;5;241m=\u001b[39m deadline \u001b[38;5;241m-\u001b[39m time\u001b[38;5;241m.\u001b[39mmonotonic()\n\u001b[0;32m--> 107\u001b[0m \u001b[38;5;28;01mif\u001b[39;00m \u001b[38;5;129;01mnot\u001b[39;00m \u001b[38;5;28;43mself\u001b[39;49m\u001b[38;5;241;43m.\u001b[39;49m\u001b[43m_poll\u001b[49m\u001b[43m(\u001b[49m\u001b[43mtimeout\u001b[49m\u001b[43m)\u001b[49m:\n\u001b[1;32m    108\u001b[0m     \u001b[38;5;28;01mraise\u001b[39;00m Empty\n",
      "File \u001b[0;32m/opt/conda/envs/multisurv/lib/python3.8/multiprocessing/connection.py:257\u001b[0m, in \u001b[0;36m_ConnectionBase.poll\u001b[0;34m(self, timeout)\u001b[0m\n\u001b[1;32m    256\u001b[0m \u001b[38;5;28mself\u001b[39m\u001b[38;5;241m.\u001b[39m_check_readable()\n\u001b[0;32m--> 257\u001b[0m \u001b[38;5;28;01mreturn\u001b[39;00m \u001b[38;5;28;43mself\u001b[39;49m\u001b[38;5;241;43m.\u001b[39;49m\u001b[43m_poll\u001b[49m\u001b[43m(\u001b[49m\u001b[43mtimeout\u001b[49m\u001b[43m)\u001b[49m\n",
      "File \u001b[0;32m/opt/conda/envs/multisurv/lib/python3.8/multiprocessing/connection.py:424\u001b[0m, in \u001b[0;36mConnection._poll\u001b[0;34m(self, timeout)\u001b[0m\n\u001b[1;32m    423\u001b[0m \u001b[38;5;28;01mdef\u001b[39;00m \u001b[38;5;21m_poll\u001b[39m(\u001b[38;5;28mself\u001b[39m, timeout):\n\u001b[0;32m--> 424\u001b[0m     r \u001b[38;5;241m=\u001b[39m \u001b[43mwait\u001b[49m\u001b[43m(\u001b[49m\u001b[43m[\u001b[49m\u001b[38;5;28;43mself\u001b[39;49m\u001b[43m]\u001b[49m\u001b[43m,\u001b[49m\u001b[43m \u001b[49m\u001b[43mtimeout\u001b[49m\u001b[43m)\u001b[49m\n\u001b[1;32m    425\u001b[0m     \u001b[38;5;28;01mreturn\u001b[39;00m \u001b[38;5;28mbool\u001b[39m(r)\n",
      "File \u001b[0;32m/opt/conda/envs/multisurv/lib/python3.8/multiprocessing/connection.py:931\u001b[0m, in \u001b[0;36mwait\u001b[0;34m(object_list, timeout)\u001b[0m\n\u001b[1;32m    930\u001b[0m \u001b[38;5;28;01mwhile\u001b[39;00m \u001b[38;5;28;01mTrue\u001b[39;00m:\n\u001b[0;32m--> 931\u001b[0m     ready \u001b[38;5;241m=\u001b[39m \u001b[43mselector\u001b[49m\u001b[38;5;241;43m.\u001b[39;49m\u001b[43mselect\u001b[49m\u001b[43m(\u001b[49m\u001b[43mtimeout\u001b[49m\u001b[43m)\u001b[49m\n\u001b[1;32m    932\u001b[0m     \u001b[38;5;28;01mif\u001b[39;00m ready:\n",
      "File \u001b[0;32m/opt/conda/envs/multisurv/lib/python3.8/selectors.py:415\u001b[0m, in \u001b[0;36m_PollLikeSelector.select\u001b[0;34m(self, timeout)\u001b[0m\n\u001b[1;32m    414\u001b[0m \u001b[38;5;28;01mtry\u001b[39;00m:\n\u001b[0;32m--> 415\u001b[0m     fd_event_list \u001b[38;5;241m=\u001b[39m \u001b[38;5;28;43mself\u001b[39;49m\u001b[38;5;241;43m.\u001b[39;49m\u001b[43m_selector\u001b[49m\u001b[38;5;241;43m.\u001b[39;49m\u001b[43mpoll\u001b[49m\u001b[43m(\u001b[49m\u001b[43mtimeout\u001b[49m\u001b[43m)\u001b[49m\n\u001b[1;32m    416\u001b[0m \u001b[38;5;28;01mexcept\u001b[39;00m \u001b[38;5;167;01mInterruptedError\u001b[39;00m:\n",
      "File \u001b[0;32m/opt/conda/envs/multisurv/lib/python3.8/site-packages/torch/utils/data/_utils/signal_handling.py:67\u001b[0m, in \u001b[0;36m_set_SIGCHLD_handler.<locals>.handler\u001b[0;34m(signum, frame)\u001b[0m\n\u001b[1;32m     64\u001b[0m \u001b[38;5;28;01mdef\u001b[39;00m \u001b[38;5;21mhandler\u001b[39m(signum, frame):\n\u001b[1;32m     65\u001b[0m     \u001b[38;5;66;03m# This following call uses `waitid` with WNOHANG from C side. Therefore,\u001b[39;00m\n\u001b[1;32m     66\u001b[0m     \u001b[38;5;66;03m# Python can still get and update the process status successfully.\u001b[39;00m\n\u001b[0;32m---> 67\u001b[0m     \u001b[43m_error_if_any_worker_fails\u001b[49m\u001b[43m(\u001b[49m\u001b[43m)\u001b[49m\n\u001b[1;32m     68\u001b[0m     \u001b[38;5;28;01mif\u001b[39;00m previous_handler \u001b[38;5;129;01mis\u001b[39;00m \u001b[38;5;129;01mnot\u001b[39;00m \u001b[38;5;28;01mNone\u001b[39;00m:\n",
      "\u001b[0;31mRuntimeError\u001b[0m: DataLoader worker (pid 2276) is killed by signal: Bus error. It is possible that dataloader's workers are out of shared memory. Please try to raise your shared memory limit.",
      "\nThe above exception was the direct cause of the following exception:\n",
      "\u001b[0;31mRuntimeError\u001b[0m                              Traceback (most recent call last)",
      "Cell \u001b[0;32mIn[26], line 1\u001b[0m\n\u001b[0;32m----> 1\u001b[0m \u001b[38;5;28;01mfor\u001b[39;00m x \u001b[38;5;129;01min\u001b[39;00m dataloaders[\u001b[38;5;124m'\u001b[39m\u001b[38;5;124mtrain\u001b[39m\u001b[38;5;124m'\u001b[39m]:\n\u001b[1;32m      2\u001b[0m     \u001b[38;5;28mprint\u001b[39m(x[\u001b[38;5;241m0\u001b[39m][\u001b[38;5;124m'\u001b[39m\u001b[38;5;124mwsi\u001b[39m\u001b[38;5;124m'\u001b[39m]\u001b[38;5;241m.\u001b[39mshape)\n\u001b[1;32m      3\u001b[0m     \u001b[38;5;28;01mbreak\u001b[39;00m\n",
      "File \u001b[0;32m/opt/conda/envs/multisurv/lib/python3.8/site-packages/torch/utils/data/dataloader.py:630\u001b[0m, in \u001b[0;36m_BaseDataLoaderIter.__next__\u001b[0;34m(self)\u001b[0m\n\u001b[1;32m    627\u001b[0m \u001b[38;5;28;01mif\u001b[39;00m \u001b[38;5;28mself\u001b[39m\u001b[38;5;241m.\u001b[39m_sampler_iter \u001b[38;5;129;01mis\u001b[39;00m \u001b[38;5;28;01mNone\u001b[39;00m:\n\u001b[1;32m    628\u001b[0m     \u001b[38;5;66;03m# TODO(https://github.com/pytorch/pytorch/issues/76750)\u001b[39;00m\n\u001b[1;32m    629\u001b[0m     \u001b[38;5;28mself\u001b[39m\u001b[38;5;241m.\u001b[39m_reset()  \u001b[38;5;66;03m# type: ignore[call-arg]\u001b[39;00m\n\u001b[0;32m--> 630\u001b[0m data \u001b[38;5;241m=\u001b[39m \u001b[38;5;28;43mself\u001b[39;49m\u001b[38;5;241;43m.\u001b[39;49m\u001b[43m_next_data\u001b[49m\u001b[43m(\u001b[49m\u001b[43m)\u001b[49m\n\u001b[1;32m    631\u001b[0m \u001b[38;5;28mself\u001b[39m\u001b[38;5;241m.\u001b[39m_num_yielded \u001b[38;5;241m+\u001b[39m\u001b[38;5;241m=\u001b[39m \u001b[38;5;241m1\u001b[39m\n\u001b[1;32m    632\u001b[0m \u001b[38;5;28;01mif\u001b[39;00m \u001b[38;5;28mself\u001b[39m\u001b[38;5;241m.\u001b[39m_dataset_kind \u001b[38;5;241m==\u001b[39m _DatasetKind\u001b[38;5;241m.\u001b[39mIterable \u001b[38;5;129;01mand\u001b[39;00m \\\n\u001b[1;32m    633\u001b[0m         \u001b[38;5;28mself\u001b[39m\u001b[38;5;241m.\u001b[39m_IterableDataset_len_called \u001b[38;5;129;01mis\u001b[39;00m \u001b[38;5;129;01mnot\u001b[39;00m \u001b[38;5;28;01mNone\u001b[39;00m \u001b[38;5;129;01mand\u001b[39;00m \\\n\u001b[1;32m    634\u001b[0m         \u001b[38;5;28mself\u001b[39m\u001b[38;5;241m.\u001b[39m_num_yielded \u001b[38;5;241m>\u001b[39m \u001b[38;5;28mself\u001b[39m\u001b[38;5;241m.\u001b[39m_IterableDataset_len_called:\n",
      "File \u001b[0;32m/opt/conda/envs/multisurv/lib/python3.8/site-packages/torch/utils/data/dataloader.py:1327\u001b[0m, in \u001b[0;36m_MultiProcessingDataLoaderIter._next_data\u001b[0;34m(self)\u001b[0m\n\u001b[1;32m   1324\u001b[0m     \u001b[38;5;28;01mreturn\u001b[39;00m \u001b[38;5;28mself\u001b[39m\u001b[38;5;241m.\u001b[39m_process_data(data)\n\u001b[1;32m   1326\u001b[0m \u001b[38;5;28;01massert\u001b[39;00m \u001b[38;5;129;01mnot\u001b[39;00m \u001b[38;5;28mself\u001b[39m\u001b[38;5;241m.\u001b[39m_shutdown \u001b[38;5;129;01mand\u001b[39;00m \u001b[38;5;28mself\u001b[39m\u001b[38;5;241m.\u001b[39m_tasks_outstanding \u001b[38;5;241m>\u001b[39m \u001b[38;5;241m0\u001b[39m\n\u001b[0;32m-> 1327\u001b[0m idx, data \u001b[38;5;241m=\u001b[39m \u001b[38;5;28;43mself\u001b[39;49m\u001b[38;5;241;43m.\u001b[39;49m\u001b[43m_get_data\u001b[49m\u001b[43m(\u001b[49m\u001b[43m)\u001b[49m\n\u001b[1;32m   1328\u001b[0m \u001b[38;5;28mself\u001b[39m\u001b[38;5;241m.\u001b[39m_tasks_outstanding \u001b[38;5;241m-\u001b[39m\u001b[38;5;241m=\u001b[39m \u001b[38;5;241m1\u001b[39m\n\u001b[1;32m   1329\u001b[0m \u001b[38;5;28;01mif\u001b[39;00m \u001b[38;5;28mself\u001b[39m\u001b[38;5;241m.\u001b[39m_dataset_kind \u001b[38;5;241m==\u001b[39m _DatasetKind\u001b[38;5;241m.\u001b[39mIterable:\n\u001b[1;32m   1330\u001b[0m     \u001b[38;5;66;03m# Check for _IterableDatasetStopIteration\u001b[39;00m\n",
      "File \u001b[0;32m/opt/conda/envs/multisurv/lib/python3.8/site-packages/torch/utils/data/dataloader.py:1293\u001b[0m, in \u001b[0;36m_MultiProcessingDataLoaderIter._get_data\u001b[0;34m(self)\u001b[0m\n\u001b[1;32m   1289\u001b[0m     \u001b[38;5;66;03m# In this case, `self._data_queue` is a `queue.Queue`,. But we don't\u001b[39;00m\n\u001b[1;32m   1290\u001b[0m     \u001b[38;5;66;03m# need to call `.task_done()` because we don't use `.join()`.\u001b[39;00m\n\u001b[1;32m   1291\u001b[0m \u001b[38;5;28;01melse\u001b[39;00m:\n\u001b[1;32m   1292\u001b[0m     \u001b[38;5;28;01mwhile\u001b[39;00m \u001b[38;5;28;01mTrue\u001b[39;00m:\n\u001b[0;32m-> 1293\u001b[0m         success, data \u001b[38;5;241m=\u001b[39m \u001b[38;5;28;43mself\u001b[39;49m\u001b[38;5;241;43m.\u001b[39;49m\u001b[43m_try_get_data\u001b[49m\u001b[43m(\u001b[49m\u001b[43m)\u001b[49m\n\u001b[1;32m   1294\u001b[0m         \u001b[38;5;28;01mif\u001b[39;00m success:\n\u001b[1;32m   1295\u001b[0m             \u001b[38;5;28;01mreturn\u001b[39;00m data\n",
      "File \u001b[0;32m/opt/conda/envs/multisurv/lib/python3.8/site-packages/torch/utils/data/dataloader.py:1144\u001b[0m, in \u001b[0;36m_MultiProcessingDataLoaderIter._try_get_data\u001b[0;34m(self, timeout)\u001b[0m\n\u001b[1;32m   1142\u001b[0m \u001b[38;5;28;01mif\u001b[39;00m \u001b[38;5;28mlen\u001b[39m(failed_workers) \u001b[38;5;241m>\u001b[39m \u001b[38;5;241m0\u001b[39m:\n\u001b[1;32m   1143\u001b[0m     pids_str \u001b[38;5;241m=\u001b[39m \u001b[38;5;124m'\u001b[39m\u001b[38;5;124m, \u001b[39m\u001b[38;5;124m'\u001b[39m\u001b[38;5;241m.\u001b[39mjoin(\u001b[38;5;28mstr\u001b[39m(w\u001b[38;5;241m.\u001b[39mpid) \u001b[38;5;28;01mfor\u001b[39;00m w \u001b[38;5;129;01min\u001b[39;00m failed_workers)\n\u001b[0;32m-> 1144\u001b[0m     \u001b[38;5;28;01mraise\u001b[39;00m \u001b[38;5;167;01mRuntimeError\u001b[39;00m(\u001b[38;5;124mf\u001b[39m\u001b[38;5;124m'\u001b[39m\u001b[38;5;124mDataLoader worker (pid(s) \u001b[39m\u001b[38;5;132;01m{\u001b[39;00mpids_str\u001b[38;5;132;01m}\u001b[39;00m\u001b[38;5;124m) exited unexpectedly\u001b[39m\u001b[38;5;124m'\u001b[39m) \u001b[38;5;28;01mfrom\u001b[39;00m \u001b[38;5;21;01me\u001b[39;00m\n\u001b[1;32m   1145\u001b[0m \u001b[38;5;28;01mif\u001b[39;00m \u001b[38;5;28misinstance\u001b[39m(e, queue\u001b[38;5;241m.\u001b[39mEmpty):\n\u001b[1;32m   1146\u001b[0m     \u001b[38;5;28;01mreturn\u001b[39;00m (\u001b[38;5;28;01mFalse\u001b[39;00m, \u001b[38;5;28;01mNone\u001b[39;00m)\n",
      "\u001b[0;31mRuntimeError\u001b[0m: DataLoader worker (pid(s) 2276) exited unexpectedly"
     ]
    }
   ],
   "source": [
    "for x in dataloaders['train']:\n",
    "    print(x[0]['wsi'].shape)\n",
    "    break"
   ]
  },
  {
   "cell_type": "code",
   "execution_count": null,
   "metadata": {},
   "outputs": [],
   "source": [
    "x[0]['wsi'][:, :, 0, :, :].mean()"
   ]
  },
  {
   "cell_type": "code",
   "execution_count": null,
   "metadata": {},
   "outputs": [],
   "source": [
    "x[0]['wsi'][:, :, 1, :, :].mean()"
   ]
  },
  {
   "cell_type": "code",
   "execution_count": null,
   "metadata": {},
   "outputs": [],
   "source": [
    "x[0]['wsi'][:, :, 2, :, :].mean()"
   ]
  },
  {
   "cell_type": "code",
   "execution_count": null,
   "metadata": {},
   "outputs": [],
   "source": [
    "x[0]['wsi'].shape[0]"
   ]
  },
  {
   "cell_type": "code",
   "execution_count": null,
   "metadata": {},
   "outputs": [],
   "source": [
    "import torch\n",
    "from tqdm.notebook import tqdm\n",
    "\n",
    "def compute_wsi_patch_stats(data_loader=dataloaders['train']):\n",
    "    n_channels = 3\n",
    "    n = len(data_loader.dataset)\n",
    "\n",
    "    mean = torch.zeros(n_channels)\n",
    "    std = torch.zeros(n_channels)\n",
    "\n",
    "    print('Computing mean and std..')\n",
    "    for minibatch in tqdm(data_loader):\n",
    "        for j in range(minibatch[0]['wsi'].shape[0]):  # each individual patch\n",
    "            for i in range(n_channels):\n",
    "                mean_value = minibatch[0]['wsi'][:, :, i, :, :].mean()\n",
    "                if mean_value > 0.1:  # avoid all-zero patches (missing data)\n",
    "                    mean[i] += mean_value\n",
    "                    std[i] += minibatch[0]['wsi'][:, :, i, :, :].std()\n",
    "    mean.div_(n)\n",
    "    std.div_(n)\n",
    "    print(mean, std)\n",
    "    \n",
    "    return mean, std"
   ]
  },
  {
   "cell_type": "code",
   "execution_count": null,
   "metadata": {},
   "outputs": [],
   "source": [
    "multiple_run_means = []\n",
    "multiple_run_stds = []"
   ]
  },
  {
   "cell_type": "code",
   "execution_count": null,
   "metadata": {},
   "outputs": [],
   "source": [
    "%%time\n",
    "\n",
    "n_runs = 5\n",
    "\n",
    "for _ in tqdm(range(n_runs)):\n",
    "    mean, std = compute_wsi_patch_stats(data_loader=dataloaders['train'])\n",
    "    \n",
    "    multiple_run_means.append(mean)\n",
    "    multiple_run_stds.append(std)\n",
    "print()"
   ]
  },
  {
   "cell_type": "code",
   "execution_count": null,
   "metadata": {},
   "outputs": [],
   "source": [
    "print('          -- Means --' + ' ' * 24 + '-- STDs --')\n",
    "for i in range(len(multiple_run_means)):\n",
    "    print(multiple_run_means[i], ' ', multiple_run_stds[i])"
   ]
  },
  {
   "cell_type": "markdown",
   "metadata": {},
   "source": [
    "# Watermark <a class='tocSkip'></a>"
   ]
  },
  {
   "cell_type": "code",
   "execution_count": null,
   "metadata": {},
   "outputs": [],
   "source": [
    "%watermark --iversions\n",
    "%watermark -v\n",
    "print()\n",
    "%watermark -u -n"
   ]
  },
  {
   "cell_type": "markdown",
   "metadata": {},
   "source": [
    "[Top of the page](#Top)"
   ]
  }
 ],
 "metadata": {
  "kernelspec": {
   "display_name": "Python 3 (ipykernel)",
   "language": "python",
   "name": "python3"
  },
  "language_info": {
   "codemirror_mode": {
    "name": "ipython",
    "version": 3
   },
   "file_extension": ".py",
   "mimetype": "text/x-python",
   "name": "python",
   "nbconvert_exporter": "python",
   "pygments_lexer": "ipython3",
   "version": "3.8.20"
  },
  "toc": {
   "base_numbering": 1,
   "nav_menu": {
    "height": "197px",
    "width": "372px"
   },
   "number_sections": true,
   "sideBar": true,
   "skip_h1_title": false,
   "title_cell": "Table of Contents",
   "title_sidebar": "Contents",
   "toc_cell": true,
   "toc_position": {
    "height": "calc(100% - 180px)",
    "left": "10px",
    "top": "150px",
    "width": "298px"
   },
   "toc_section_display": true,
   "toc_window_display": true
  }
 },
 "nbformat": 4,
 "nbformat_minor": 4
}
