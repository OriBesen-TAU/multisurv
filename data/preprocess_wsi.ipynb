{
 "cells": [
  {
   "cell_type": "markdown",
   "metadata": {},
   "source": [
    "<a id='Top'></a>\n",
    "\n",
    "# Prepare imaging data <a class='tocSkip'></a>\n",
    "\n",
    "Use an offline patching scheme to sample patches from whole-slide images (WSIs) ahead of model training/testing. Generate a file per patient (as for other data modalities), but containing the file names of image patches sampled from that patient's WSI `.svs` files, rather than the data. These are used by the PyTorch dataset to load patient image patches."
   ]
  },
  {
   "cell_type": "code",
   "execution_count": 1,
   "metadata": {
    "code_folding": []
   },
   "outputs": [],
   "source": [
    "%load_ext autoreload\n",
    "%autoreload 2\n",
    "\n",
    "%load_ext watermark\n",
    "import os\n",
    "from io import StringIO\n",
    "import json\n",
    "from collections import Counter\n",
    "\n",
    "import numpy as np\n",
    "import pandas as pd\n",
    "import matplotlib.pyplot as plt\n",
    "import matplotlib.image as mpimg\n",
    "import requests\n",
    "import openslide as slide"
   ]
  },
  {
   "cell_type": "code",
   "execution_count": 2,
   "metadata": {},
   "outputs": [],
   "source": [
    "DATA_LOCATION = '/mnt/data/Processed_Data/WSI/'"
   ]
  },
  {
   "cell_type": "markdown",
   "metadata": {
    "toc": true
   },
   "source": [
    "<h1>Table of Contents<span class=\"tocSkip\"></span></h1>\n",
    "<div class=\"toc\"><ul class=\"toc-item\"><li><span><a href=\"#Subset-manifest-file\" data-toc-modified-id=\"Subset-manifest-file-1\"><span class=\"toc-item-num\">1&nbsp;&nbsp;</span>Subset manifest file</a></span></li><li><span><a href=\"#Map-files-to-patients\" data-toc-modified-id=\"Map-files-to-patients-2\"><span class=\"toc-item-num\">2&nbsp;&nbsp;</span>Map files to patients</a></span><ul class=\"toc-item\"><li><span><a href=\"#Drop-unused-patients\" data-toc-modified-id=\"Drop-unused-patients-2.1\"><span class=\"toc-item-num\">2.1&nbsp;&nbsp;</span>Drop unused patients</a></span></li></ul></li><li><span><a href=\"#Slides-with-max-20x-magnification\" data-toc-modified-id=\"Slides-with-max-20x-magnification-3\"><span class=\"toc-item-num\">3&nbsp;&nbsp;</span>Slides with max 20x magnification</a></span><ul class=\"toc-item\"><li><span><a href=\"#Collect-slide-magnifications\" data-toc-modified-id=\"Collect-slide-magnifications-3.1\"><span class=\"toc-item-num\">3.1&nbsp;&nbsp;</span>Collect slide magnifications</a></span></li><li><span><a href=\"#Save-slide-magnifications-to-file\" data-toc-modified-id=\"Save-slide-magnifications-to-file-3.2\"><span class=\"toc-item-num\">3.2&nbsp;&nbsp;</span>Save slide magnifications to file</a></span></li><li><span><a href=\"#Check-unread-slides\" data-toc-modified-id=\"Check-unread-slides-3.3\"><span class=\"toc-item-num\">3.3&nbsp;&nbsp;</span>Check unread slides</a></span></li><li><span><a href=\"#Drop-unusable-slides\" data-toc-modified-id=\"Drop-unusable-slides-3.4\"><span class=\"toc-item-num\">3.4&nbsp;&nbsp;</span>Drop unusable slides</a></span><ul class=\"toc-item\"><li><span><a href=\"#Drop-slides-slides-missing-magnification-or-with-20x-magnification\" data-toc-modified-id=\"Drop-slides-slides-missing-magnification-or-with-20x-magnification-3.4.1\"><span class=\"toc-item-num\">3.4.1&nbsp;&nbsp;</span>Drop slides slides missing magnification or with 20x magnification</a></span></li><li><span><a href=\"#Drop-patients-with-no-remaining-slides\" data-toc-modified-id=\"Drop-patients-with-no-remaining-slides-3.4.2\"><span class=\"toc-item-num\">3.4.2&nbsp;&nbsp;</span>Drop patients with no remaining slides</a></span></li></ul></li></ul></li><li><span><a href=\"#Generate-patient-files\" data-toc-modified-id=\"Generate-patient-files-4\"><span class=\"toc-item-num\">4&nbsp;&nbsp;</span>Generate patient files</a></span></li><li><span><a href=\"#Offline-patching\" data-toc-modified-id=\"Offline-patching-5\"><span class=\"toc-item-num\">5&nbsp;&nbsp;</span>Offline patching</a></span><ul class=\"toc-item\"><li><span><a href=\"#Count-generated-patches-per-slide\" data-toc-modified-id=\"Count-generated-patches-per-slide-5.1\"><span class=\"toc-item-num\">5.1&nbsp;&nbsp;</span>Count generated patches per slide</a></span></li><li><span><a href=\"#Generate-patient-files\" data-toc-modified-id=\"Generate-patient-files-5.2\"><span class=\"toc-item-num\">5.2&nbsp;&nbsp;</span>Generate patient files</a></span></li><li><span><a href=\"#Reorganize-directory\" data-toc-modified-id=\"Reorganize-directory-5.3\"><span class=\"toc-item-num\">5.3&nbsp;&nbsp;</span>Reorganize directory</a></span></li><li><span><a href=\"#Delete-bad-patches\" data-toc-modified-id=\"Delete-bad-patches-5.4\"><span class=\"toc-item-num\">5.4&nbsp;&nbsp;</span>Delete bad patches</a></span><ul class=\"toc-item\"><li><span><a href=\"#Find-outliers\" data-toc-modified-id=\"Find-outliers-5.4.1\"><span class=\"toc-item-num\">5.4.1&nbsp;&nbsp;</span>Find outliers</a></span></li><li><span><a href=\"#Visualize-outlier-examples\" data-toc-modified-id=\"Visualize-outlier-examples-5.4.2\"><span class=\"toc-item-num\">5.4.2&nbsp;&nbsp;</span>Visualize outlier examples</a></span></li><li><span><a href=\"#Delete-outlier-patch-files\" data-toc-modified-id=\"Delete-outlier-patch-files-5.4.3\"><span class=\"toc-item-num\">5.4.3&nbsp;&nbsp;</span>Delete outlier patch files</a></span></li><li><span><a href=\"#Generate-patient-files\" data-toc-modified-id=\"Generate-patient-files-5.4.4\"><span class=\"toc-item-num\">5.4.4&nbsp;&nbsp;</span>Generate patient files</a></span></li></ul></li></ul></li><li><span><a href=\"#Compute-patch-mean-and-std\" data-toc-modified-id=\"Compute-patch-mean-and-std-6\"><span class=\"toc-item-num\">6&nbsp;&nbsp;</span>Compute patch mean and std</a></span></li></ul></div>"
   ]
  },
  {
   "cell_type": "code",
   "execution_count": 24,
   "metadata": {},
   "outputs": [],
   "source": [
    "downloaded_samples = '/mnt/data/RawData/WSI'"
   ]
  },
  {
   "cell_type": "code",
   "execution_count": 25,
   "metadata": {},
   "outputs": [
    {
     "data": {
      "text/plain": [
       "21"
      ]
     },
     "execution_count": 25,
     "metadata": {},
     "output_type": "execute_result"
    }
   ],
   "source": [
    "len(downloaded_samples)"
   ]
  },
  {
   "cell_type": "code",
   "execution_count": 26,
   "metadata": {},
   "outputs": [
    {
     "name": "stdout",
     "output_type": "stream",
     "text": [
      "Suspicious partial downloads: ['0018cc22-498a-45b8-bfd4-b0fe0c3a2f0a', '006984cf-35fc-4bc3-a0db-7f5b68de4a6e', '0070d4e9-f838-4ee9-a48b-c894b3b86440', '00d39e31-94d4-4e9e-a8c5-5310355f71ad', '00e926c5-d65d-42e5-8ba4-afaab66db47c', '016fc18e-1a88-478f-82a4-38f4f10a8f42', '01ed7393-c0a8-4958-9ad9-9beb47221a54', '030c723e-3e9c-435b-b007-e98ffd16810c', '0312a54c-3a16-4f85-a228-99d6efa09c1b', '0323e070-884a-4da1-b9ef-b8ea99a5c1de', '03f5138d-0f0d-4e6c-a9cb-2598a9eaa587', '041d454d-4bae-4e12-8f32-46220670ef16', '0441253a-5af1-4b62-9f75-9bfa19066cd8', '05731e24-2d30-4cb0-9c61-c8bdbfbf77b9', '05a2048b-9cb0-43b4-b3ef-5cd1b47f38d1', '0670f8bf-f09b-4f7f-8f14-683dceaf2cb0', '07e24277-17a0-4442-9d56-b235c93e4142', '0995fcc7-47c6-43af-abdb-3a00b960467b', '09a0d4a4-fa07-43c9-aed5-c292baa229cf', '09faa447-b639-406d-bc3e-4a0f15551b99', '0b2e87e5-8168-4e31-ace7-ef06fb4a1e68', '0ce5fcd8-3ace-4213-ae59-844c11a45f7b', '0dcc8304-dfd1-4e79-b23f-30f1143c897c', '0f07c601-42ef-42b8-bebb-e08a9541ee01', '0f9b1064-79be-4f8e-a548-2da38b227843', '1090010a-c5b6-48d9-9fe8-0c798586096c', '111f155e-2330-4f38-afe1-d42838c23ad7', '11faafb6-b10a-49a5-a55d-d6b9ec843ae8', '12dd4441-2f36-4ea3-9a37-11863f4b5e88', '13be99c8-67c2-46dd-b998-0d60da60dbee', '16860da1-7640-421d-b367-f14dd5bcc90a', '17ec20fd-267d-4fb4-b236-822a7934c9f1', '18cddd3f-b493-46fe-bb77-f72f45a254f6', '1973e64f-fdcb-4237-81a1-75e26a52a423', '1af1ce83-19e4-40a1-a0d8-d0325c0883c9', '1b008f74-790b-466b-b63b-cdb7b6de7eca', '1bac9786-4d56-4f08-9792-ed131b398907', '1c8e9a67-912a-4c69-965a-6b2f0e71eb30', '1d203edb-f167-4684-ab43-e4edfb3e95ff', '1db81db6-77eb-4aee-9e20-5d9cad3d4917', '1e3d7e89-ee2c-46fd-8697-2e62886657fb', '1e9aed39-01ea-4a25-b1a1-14b7ab37b982', '1e9d6a1d-b010-4e42-886e-e5769fb777ab', '1f137657-0969-47fa-ab86-5234f692c7fe', '1f2ee37d-d49e-48d8-80c3-f4dbec3b4d02', '1f4d56a0-b948-4a65-8b3a-f66d30317e0b', '1f655c4a-0e64-4d6e-b016-b134905d773b', '206ccd79-310d-40a4-852c-03930e685304', '20c648d7-3d5c-490b-8820-5a11dcc5e592', '23e2ba74-3457-4f1a-8c12-ea00af16c49c', '2407e90a-d2a7-412d-97a5-62fedcece4ff', '2481fb53-2c2b-42d0-b752-75cb5947ed98', '25aec062-60d1-446e-a1c6-0c79cc74a770', '26c329ee-1a8e-4905-96db-8d7510015822', '26eb27eb-84c8-4fea-a51b-c3eb5c484b33', '271cd8a9-e404-4736-b609-3f378a097524', '288f54c8-b143-4882-93f9-de08c9187c60', '295469fa-186f-4b50-881f-07e63e4405cc', '2ab71899-2178-4d6c-9da1-9ed758fd6a95', '2ae5daac-3005-4644-99dd-76de79ce72c2', '2ae908e6-e9a4-4d4e-a527-656c03b241a1', '2af9ce8f-ade7-4b61-97dc-7d9a82680a95', '2b0aa606-badf-425b-8005-a232518fd485', '2c3dea2c-5ce6-4de5-ad15-b3f9416b0ab4', '2d82f850-0edd-4737-99c1-1060d0f51340', '2febbec8-5f9c-4a04-91b5-1b8baaf9c9a1', '3001aac9-dfa7-467a-97e0-105515d8e373', '312830d8-fc88-4968-9176-e2240fd4d2d9', '325aaec2-6465-465c-a785-96dfca9ae3de', '32732b3d-a99a-4653-b8ef-763a15828349', '327ec9b2-72e9-4c2b-8c7e-4c69818581eb', '32a5ad8f-4ce0-4256-a56f-4df0f8d959ef', '32d06207-b713-441e-878c-9d0dfbddde8d', '33e614a6-2488-4ffc-8c09-ba4fcf235d74', '33f7413f-6339-4389-98dd-eee280233684', '34543318-23f4-48fc-aeed-fcab7991e8e3', '35ed3b43-99d6-4a9e-9b1b-1ded7e2ee7c7', '38f61b93-b857-40d8-83b7-fbc3c52a5c3f', '3985ea64-d68f-4539-a4d3-65ff4a7b98be', '3a41f044-b5c0-40de-bda7-d93784efa16a', '3c31a357-bd52-4a7e-9691-745c9aa17458', '3d22d2bd-4b46-4579-8638-11cc269c738c', '3d5cad1f-cebd-4581-83a2-fb0448bd8607', '3d9c3c56-1071-4987-9e50-457a5d2610a6', '3f195252-ba38-4843-8779-1e54568d69df', '411e68e5-a78e-486d-aba6-fdef038f9082', '41283902-1b1a-44d7-bc0c-a45b2ccd071c', '416e4645-4ef2-4228-8e93-703d138834e4', '41e7e8c7-bde3-4aa7-a0c9-98e039d641b5', '41f5232a-95f7-409b-a37e-071219c9725c', '422b7a56-141d-48a5-a2e2-066d475c2e19', '424dc818-c270-4cb6-a229-b025b8978d1a', '42bce75e-5b87-43b8-81bb-b1d3666dcc8b', '42feb225-ca44-40f9-979a-6fd4cdf3d2a0', '454d3eb9-ff96-4cd4-9dec-17252819ed13', '46291f24-b5c6-4e99-a4a2-a6645ceb6e47', '471a120c-a28e-4e29-b53a-4dc7e3b7c33d', '4730b23e-aea1-49a2-ba63-2231fd88b592', '47643fe3-83c8-4afb-ae7f-3f494d6dbadf', '47ce0c0f-a5df-4a84-b980-b7f4ebbbeb9d', '48803849-058a-4699-b974-cbbb0393d2f7', '48e4cb11-d63e-46b5-9999-f9e1e7b7ce21', '490c4a57-24fc-4595-8b03-285ec9c61181', '499207be-4cec-4a7e-9d37-66b9b3ae833b', '4a843a81-6c41-4c5f-a6de-aff7b600e2dc', '4c86cd2f-5727-4908-970a-0d05823c72a8', '4cefe74a-c117-4363-a209-67951f3740b2', '4dfc089e-181e-4039-ada7-72c2b8ae802a', '4e48e223-064c-4d63-91c2-6a747ca0f9ea', '4ee14819-c89c-48e8-b4ae-57a98757e436', '4eedad9e-2464-4573-a937-302fbdce6a46', '4f05f1e5-9e33-47ce-88ce-2106022ff892', '5032b8ff-1d90-4a03-a094-7bfcfca8bad0', '508eec75-92ef-43ec-85ab-11290b609316', '517db424-2713-490e-a15b-2740a84b9fed', '51821122-a967-4436-a836-d9f44af16d0a', '52712e45-85a3-484e-aff2-51eb6ad42daf', '52767301-1f67-4c80-88de-a77f3a5ae1c1', '53a88121-c395-4485-9f88-588272522f0c', '53f1310d-cea9-4179-ad5c-3a257fcc7ed3', '53f6eba5-0a1f-45b8-956d-bd4df0996029', '54fdec52-eaa2-4fad-8bab-ff04b2c92114', '553c02d0-2c62-4513-bfc7-daef00be745e', '558682bd-f54d-42ab-908a-1ad15b2d51e9', '55eb1c6a-2290-4458-afa2-f259d80e6395', '56abf563-a1e8-48b7-8fac-3ee35c5de98a', '56f36b87-7402-4b3c-b18d-d10e56e2435d', '5713fedf-aaff-4973-93f6-6238d2f1b2a4', '58bb7ad0-8daf-49ee-9c35-b8e4a797f4ca', '592c1c53-1196-435b-b278-44fd31394ee8', '5a032a08-9e4a-4995-88ce-206f75381a65', '5a5ce402-933d-427a-a624-0759a2273d7d', '5ab9bb78-d1ad-430e-9603-ce88d4352a92', '5acee561-9fab-46d5-b0ff-8be3af8ebd75', '5afe4f66-f3e2-4d81-8eef-38210316cc33', '5bd6489c-1f84-40bc-bf04-02ee13419af3', '5d19e291-0437-47a8-aee6-3b3adab803ec', '5d4c7a38-a574-4157-88a2-bd55f39e1599', '5e926fda-4563-4104-bcdb-da7d9d6fc3bb', '5f2229b0-de23-4b4a-8531-7a82a9e2f614', '5f81d5d4-c4c5-4cfc-bb8e-af5bbe28db0d', '60439acf-de72-4e52-921e-d5fb6f73cf66', '605b7109-bd06-4b3b-8970-d8680c331b14', '611b7039-10a5-4ca9-9498-b5b93531b255', '619b031c-83b6-40d3-a21c-bb3050215120', '626bfe89-c9c8-4ebf-97c9-56b1bd27f22d', '62dd8f98-0fac-4d85-befb-36b23e29eba2', '62e80675-cadc-47b9-9187-f545af4b457c', '62f2c39c-20fc-439d-a3df-f90326f15c62', '632f427b-7429-4852-bf47-78e77350a59c', '63b2184b-03f7-457c-968a-2243c41e74cd', '63d21650-e301-42e7-9377-920497146642', '63f10c46-8870-40dd-a531-6317306be707', '6404fcfb-25c6-44e7-b0bb-003e17b68270', '64093c9e-aebe-4367-adbb-3ea85e3234c9', '64750d75-af48-416f-802f-78302509dcb8', '66be7630-d2f0-4c0e-81a6-b70a803615a2', '67c1649d-a677-453e-b731-89a08b4f8798', '67e1c57d-aa8a-4356-8cfc-2f4ac2526825', '68458986-1efd-4fce-9e65-ce5430ab125c', '69259002-b276-40b1-affd-5f19efa62b4c', '6a7477b1-86f3-473f-9bf1-174a758142e9', '6b860285-6c8a-4d77-a1a4-13e72faca602', '6bd7f723-3737-491d-ac2f-279eac24f50c', '6c5d683c-dadb-4fb5-8769-166ebc770359', '6d4418e8-d621-4ace-9e1f-3fcc7d2c9546', '6d60c330-228b-4cba-bc0a-93c502d7f523', '6dd13f9e-6446-4406-b2b1-fdcf0a0b81fd', '6e2db77d-7125-40e8-bcff-d603c4db86ee', '6e9483cb-7b12-411d-87a8-83c40fcd90ed', '6f29dfa9-d166-4f07-9cdb-0daceb7341e9', '6fe97bc4-b79f-44dc-bf2b-d33cd187977b', '70b9e76b-7bb1-4b1b-b154-c3af7e217c58', '71aaec07-e27e-4328-88db-9ba29e969835', '724c52cb-9e6e-4a8d-9693-7fca34e77faa', '728d9e14-05c2-479e-8760-bf692653c8d1', '734d4a72-94ad-4274-8f14-0a9abaee1b0d', '73662afd-f0c0-4a23-bb18-a72f6ab93c70', '73b86ca1-3558-4026-ae2f-237f9ce233a3', '745c5fd8-def8-46f7-84bd-ea6c573156fd', '745f1703-c59d-4d43-b5ba-d908bf1498c3', '75f48929-04a3-4970-8572-29b1068b2d85', '7634b251-af06-4817-a185-106620ddd0bb', '765214bd-6c5c-4c7b-9e0e-21736495919b', '7709738b-ba8e-4b20-9175-5db9b5c28556', '77853a49-5873-41bd-8acf-affbb11fb960', '77c41662-2141-474f-9799-97fb74401162', '7802781b-5141-4f48-ab3c-e8b86899e639', '7864998d-7480-4cf8-8fc7-961daddd72aa', '78fadacf-2a91-4067-b377-a38a5411f6b4', '78fe5ab1-15d3-4701-84d6-7b88beab2f22', '7a5024cd-916d-4717-bb1b-6cd0c8e47ca3', '7a57f6ca-7b02-4eed-8709-036fbcb5746e', '7aac46bb-70b3-4586-8852-4ab1f5e69d66', '7b3d2ef5-0b8b-4b3e-8210-c77f8302e437', '7bd4e08d-a667-44f2-ae17-238f8d45e79d', '7f454192-063c-405a-b047-b771922d0378', '7ff4c86a-7939-4af9-8769-4d48fb7452e2', '8016d285-e7f2-4f37-a36d-a9f48014c572', '8023b864-d63f-4a39-bba7-2751ac85758e', '804dddc1-726b-4ee8-9b02-cb8d4e46e0d5', '8202b7ec-974a-4d1c-857a-89e90151515b', '83328170-e482-48b7-b972-fe82423434eb', '83941cc5-0b4f-4b32-b73d-d9e825c01591', '83aa45a7-b531-42da-ba40-c0e14ed36f26', '83e0a65a-cb57-490c-977e-90fe633b1d1a', '8516e1c4-75d9-4bbe-8222-1b6c479c15ae', '85660094-3ba8-4763-8246-4bd9ab88c615', '85cfb6b8-3bc7-431f-b933-b2b2fa1aed6f', '86844d85-1797-4829-b2d7-f04ce84d0173', '868f81c5-3348-4c24-b4af-6043dbac6e4f', '86925470-1065-44f5-a4e5-a3c55a73c995', '86d7c274-bd7a-4dbb-b2b1-2fdf1033b4dd', '877b5653-c08f-4d59-a9f9-97699bdb38d2', '87f5af4d-deda-400c-9e08-63491c58fbd7', '88a55e15-121d-41d9-a2a1-b40567408902', '8916ac9c-9949-480c-baf1-fb87310a5e82', '891c5178-53ba-496f-9025-fd20056e65a5', '8929de4d-3935-4138-a844-433afe213f49', '89390bcb-3498-4763-8403-0a9012e66aa5', '8973944c-585c-4b9d-a85c-d358bb8bcab0', '8af6db2e-08a9-4450-a8a2-b896288cf826', '8b460124-3789-4ba1-b0b6-7a4f72f132a8', '8bbe9bd4-ac73-4102-963b-3f9d53f0c48c', '8c813d3f-9633-478f-ad25-35b867357c77', '8cbad974-4671-499a-ab5e-03f0fbe3e7b1', '8d5f3c2d-38ed-41dd-a4b2-93a3fee7f07a', '8d7a3874-4b3b-4866-aa99-2ac27490656c', '8d9b210f-dd32-4d89-8da6-d84a51a78a6c', '8f0683e7-715c-4ac3-9d3c-164b7d20da0c', '8f6f7af5-28d7-42d0-8540-5eeb8d711701', '8f936d42-6deb-43a5-995b-4af18e6a2462', '8fb9bb79-fa5d-4be9-a636-c9251b9b9a6e', '8fef8f57-cb43-43d7-a442-97d095ad203e', '9062e57f-7498-4faf-b34e-b018176ee272', '919a8227-b4fd-4b0b-b940-e385df998081', '919bff06-43b7-447a-ad9f-85854b0f72fc', '919ee5f1-f2b9-4065-b07c-0b9687af5456', '922044af-1c19-4142-a032-5fbf88823aac', '93083f52-c5d6-4e38-bf34-1d9658d2a1eb', '93b26333-5723-4fa4-a4de-6124c04ab243', '9448760c-5002-4fb0-bb7b-9e2d7b3959f1', '947b1df8-0341-477e-ab4a-3a748db46b7b', '949a4e4a-824a-422c-ab4f-e1860818074c', '94dfbf0f-c925-4d1f-804d-f730e7adc29f', '9562a810-aafa-41d9-b39f-dd49892f2e4c', '95bcf26c-2f32-498a-a8c4-fa85fc78f89e', '979d3b3b-2196-47c0-af7e-112aa17cb95a', '980ea997-6a99-49b0-a3a2-42243f13725f', '9828367e-9ee3-48ff-ad33-b2842f8f120e', '9831c1c0-3909-4a71-916d-2551da437100', '993a9d90-8508-4db0-b955-813ca5984c93', '9aba5e69-27d3-46f1-9961-d9e8647e7f9b', '9ae31af4-a197-4133-99fd-eb54e1b0b899', '9af6f832-035e-4b20-b836-a355b8cef97e', '9b8dec44-e674-4dc7-a8a8-c962c907b64b', '9ce94e75-8f0c-491f-ac85-a723e6d4bc7d', '9db0bfe8-9f66-4416-ab90-e0b1f91d2e01', '9e2acfcf-3e96-4aed-9529-7cc3787f2e4f', '9eaa8d4b-04d8-41fa-ade0-4c682f36fccc', '9f66d62b-cd1f-459a-9c4d-40b554faccca', '9fa6af5e-5023-47ac-88e1-219b08a06d61', '9fe17387-8747-4540-b01e-2638c665ab8f', 'a0c4d3cb-7d9f-48be-b307-75493f205d0e', 'a128bc47-1896-4436-832a-9bf55434f382', 'a18c60c5-3053-477a-b892-305bf4e5bfe7', 'a220b48d-fa86-4efd-9e5d-f739a8db5ef9', 'a221cf48-592f-46db-b067-e3515a4262cb', 'a22eebf5-12f3-42b1-8cd0-07836d45966f', 'a4e25e73-263e-42a0-9cc2-5fa6fd09e083', 'a51a959b-d70b-4f51-a360-99f7ca48efaa', 'a524f31b-29f4-49ae-a136-5fd276950b5b', 'a5fef0d4-d358-490d-aca4-8c1eae62be3d', 'a68c54af-194d-49ef-b76c-4be3537d9d78', 'a70ba77f-da3a-4f7b-bbce-dd7f11892c3f', 'a7198215-da09-4378-9b33-7bf510a02342', 'a72f8128-d786-4025-96c4-b67f16adfcd9', 'a732edc7-f8b6-4be2-9e8e-e2dc589206e6', 'a74100ae-ace3-40e1-9aa4-69c6c848e41c', 'a76d99dd-cd22-4dc1-a0b4-9631e465d2b2', 'a779fff9-b54a-4c18-936f-43f75119b9ad', 'a7a3f543-f309-48eb-a407-3523c3ad62df', 'a7ccf35e-56a9-4bd9-904c-59b1b0cc33b4', 'a866f667-ca52-46f6-9bfd-7f89515aad2e', 'a8ec7eb3-4e63-4368-b45d-57c2cdfe1f45', 'a922d6c7-1502-4ebe-99a3-14e531e964b7', 'a97dc689-a9c9-4a85-9d9f-800f284e820a', 'a9dac042-e1da-4ad1-b585-7e08128f3c82', 'aa8c4f21-2fce-4ccb-b270-4a1ad633f36e', 'ab15b4e9-4554-4214-b0c5-d142b3aa23c7', 'abf27f46-f39a-4f2d-8e7b-423e5da54419', 'ac9bbb33-2762-4c51-9271-5608dca9cef3', 'adc2a10a-f8ac-4594-a687-7767f686d392', 'adf3d973-0cab-4983-bec9-d52f06a2fd52', 'afeb2654-679d-4196-8273-b41a5ec4edfc', 'b05f7d3c-6e83-4981-a831-e83db9e2f0c5', 'b0dda2b4-3ca0-40f0-a082-f41cc6afd45d', 'b1599f4f-4b9d-4d2c-8b70-9eb08b8b3110', 'b3f4c01e-4068-45bc-8a7f-e03683f12d42', 'b49b4c3d-90b8-4ea8-8c8a-9d25471a01fe', 'b545c7e6-8318-47e1-8ed4-62a5883a1d1c', 'b576aac5-e80f-4ee2-a4bb-87d8de1c770c', 'b58e69c3-e152-4a8f-a710-6760547578bc', 'b5fcf039-cf23-4df8-811e-048d9d4fa9d6', 'b611c07a-9a2c-4fef-b463-08e5716a8cdb', 'b6c1920d-bc94-4286-9f4d-e90459359130', 'b94f511f-7062-4e9f-ad6d-23371419299b', 'b997c3c7-af51-413c-9a06-e9582bc010e9', 'bb096ac6-7db2-4c05-850b-6552f370556d', 'bb839a59-b9d3-4452-9142-efff6d095475', 'bbd0ea25-16f0-4074-9d97-17bddd44622f', 'bc676ee2-d0e4-48ef-9d1d-5a90e79b4fb2', 'bcb99231-e2ac-41ae-a2ca-36987630a574', 'bcd6977f-b269-48c4-b088-ddf8d6d95240', 'bce663ea-ce5b-4b2b-887d-4c1cd069890b', 'be1fed1a-deb9-4b70-bef1-9245e9e7482a', 'bf2dbebb-99fb-4f7e-8da1-2e894a7d27b5', 'bf4c4578-c186-49b8-88ee-b9dea446c6c8', 'bf54bcf8-8a00-427f-846d-0e4754c21ece', 'c03ab317-6127-4010-867b-8b674df98044', 'c0771f84-757a-417d-8841-73735b256322', 'c0a952a1-88ea-43ac-a6db-4f40a5684630', 'c1def146-a17d-4705-9fe1-ce801255d500', 'c1e30ea2-c72f-4935-9dff-756f9795fa45', 'c2af27eb-07c1-471a-96cb-5a95bd0b61d5', 'c38768ed-334f-4575-857f-7b8fef972638', 'c3ceefbb-4838-4b46-8458-8377ea22cbab', 'c411216f-e0d1-4970-b036-d4c3c560da89', 'c4905820-3617-43de-b4f4-737d75d792d2', 'c4a0c430-cb1e-4b55-8b73-c1ad1dc276b6', 'c580a40b-fafe-4322-92b7-b065c8bd9f97', 'c6053c6a-8ca4-4e15-83b0-3458c5e31d39', 'c6c68d8a-1b0e-4c2c-807a-f7752a02634c', 'c71e7f7c-2cae-4f09-b243-8ed4628fec71', 'c796a50f-9129-4144-ba0b-e67f5d4fd5e8', 'c8500806-3f07-4220-bf0b-77a4994b24be', 'c92280a3-2025-463e-b791-1946c09964dd', 'c9eda175-ef25-49f1-beb1-3a8cb99c1f37', 'ca1f5e9c-2943-4cfd-829b-ad7713f49fa0', 'cb3ca443-0348-4a33-90d9-1e1c914efe2a', 'cc5cc070-d63d-4d50-91f9-1efb23d28034', 'cce52fce-a092-4c66-af4e-a19cace6e154', 'cd0b848f-b611-40ef-b643-987689b928fb', 'cd52f83a-2d20-4ee3-991b-fe3bd40384f7', 'cef89fd8-7528-41c4-a667-8f69cd17d1fc', 'cf681f8e-9db4-4650-a627-d36f7e044fb3', 'cfc72168-c146-4c6c-9abc-4a209d415c15', 'cfe3c99d-0c00-4360-b768-2cb4fbd1040a', 'd15f6213-f780-4794-8ad3-ad9fd635f9b2', 'd265941d-71da-4e9e-8ce6-616050177f07', 'd29fb01b-dfb0-49fe-b42c-98dd32a306c1', 'd2e712b6-a083-484e-bbc5-425c67c0f8c0', 'd2eb1a55-b6be-42a1-986a-43e16ceac4d0', 'd36d6dd0-648f-4ca6-8414-77d5c10b2cdf', 'd4417a2e-9a41-4ea5-a5d5-06da7a37c66a', 'd46167af-6c29-49c7-95cf-3a801181aca4', 'd529adb4-9ddc-4035-956e-c0054f671bbd', 'd5f22fbe-09fb-42e8-9b58-3f68b264d22c', 'd6861a4d-02ac-4253-b5d1-9fc6d5fc71b4', 'd68ac421-d467-43eb-9d94-ca2db1bef4ae', 'd69bb1a6-1ef2-4b81-997d-7f66072b7000', 'd6b8c999-7086-460c-b766-61d3f79437e9', 'd6bd7b9b-fbfe-4f03-924f-b21e7f7d16a6', 'd6ce13b1-afff-43d7-9b7f-44f5fa57d230', 'd813038d-b9e8-4af6-9578-626436be5d84', 'd830b76d-d5ba-457c-bf00-7d8d7be3ab90', 'd88d19c4-2040-42a2-ab64-42b8a8280e58', 'd8a5a25e-f7dc-4c0d-8d08-efa050713725', 'd8bb2eff-1616-421c-897f-dbf75e509edb', 'd93a5cab-9a8a-42c8-973f-5868e748e8e7', 'd953668b-4a60-4e7c-a001-0d74e0ad6e93', 'd96d0ecd-dfa0-44df-8741-166d3a304c01', 'da475c4a-9172-47e4-b307-56d73dc6de12', 'dae073a8-5982-46e5-9daa-2975fc92e3cc', 'db327a0a-0a3b-49f0-8b15-f17a04c041ec', 'db730e4d-857f-46e1-a1f4-d15daacfa969', 'dbc1e046-61ad-4433-bca7-3427cec6d465', 'dc155ae9-3151-49b8-8b83-990e81691464', 'dca229d0-c1ba-4a34-a703-1f611f7fd15e', 'dcbcf0ea-f460-441c-8f25-e61216a234a9', 'dd2cd2a1-068e-41fd-b525-2ec9f98bf991', 'ddcb21eb-b039-42b6-9f4e-12e36ad9040e', 'de7f94cb-e730-464b-8012-c2600c5e6510', 'decbdda7-e62a-4436-b233-28c5353d0f61', 'df751812-d0a3-441f-87df-ef3dd42caea3', 'e15f67af-fb62-42c8-a451-83b035867106', 'e1719658-41cb-4af9-b40e-fef0bece3d1a', 'e19be2bd-3482-4612-b9de-5027eae356f7', 'e1af8899-f47a-4599-9f8e-f152c0056b45', 'e210b5e1-14a7-4b6f-b45b-ab2b8d3332e0', 'e2e311be-a900-4214-a604-0e65415444f2', 'e3319ea2-10e2-4626-8844-4e6f82d0dcd0', 'e47bd352-9d96-4abd-b673-9d30038d218a', 'e48d2be6-883f-444a-bb71-405bffbf8b4f', 'e5069ea5-1011-46cf-9a3c-925825eeb81e', 'e5709db4-28c6-4253-b3e5-96824ac15ed7', 'e61e6244-5a12-4640-996f-57597d0c452a', 'e69edf22-41f4-4df8-b241-4773bd1e298c', 'e6ab1786-2cf7-4346-900b-54b9d87199b8', 'e6ec522d-39aa-4702-a5ba-243ef9bf531e', 'e6fe1a97-4a48-4da4-bb2f-d50e07d7cb45', 'e70c89a5-1c2f-43f8-b6be-589beea55338', 'e90eb535-211f-430b-878a-cfd5785f761b', 'e97f5305-f609-4bb9-aa05-cde96c9a0016', 'eaf9abed-214b-4933-a4e4-1286b36d5f73', 'eb11b68f-3c11-466f-963b-a09f10047b7a', 'eb295196-fd86-44e1-b176-58f5a4e07958', 'ec33774e-68a9-4744-a74c-eacdf1538545', 'eccd20fd-f1f1-4d8f-9104-6e28cedb00f2', 'ecf2d2d4-5d3d-4514-b623-d58e366949f6', 'ed2a1195-cf9f-443c-8d44-9966f576608b', 'edcdf8bd-c725-481d-b2c1-ff0f4f41e198', 'ee16bb4a-f504-4169-ae30-71e9509decc4', 'eed0b09f-9b9f-4da3-b24b-8d916be3fa3e', 'ef080f83-d45f-4c82-a0ef-b48689450bf5', 'ef35617d-aa6f-4458-a7e0-4eaffc5eb2f6', 'efe350a4-9648-426f-b043-e548cfb19904', 'efed91ed-3aea-486a-bfed-b14fbc8f2d3e', 'f005c8db-e2dc-4c8d-a816-a18a7190384b', 'f42f1f5e-8022-4fce-a9e2-af2702bac381', 'f4b618f4-7ef3-4101-baf1-f21530e23775', 'f4b8f536-2e19-428b-a9f5-2279aab6ba67', 'f4ee6dd7-36d6-45b1-aac5-8b0f44ba3bf7', 'f506096a-6d86-481b-90ed-389e1b636c84', 'f554759b-e293-45f5-be85-34a561e36027', 'f6141773-e90b-44c0-893c-60990a784797', 'f6d87b26-cf87-482f-83d6-bd2eb52938e4', 'f6f7b32b-33e4-462a-9f83-2a3f74a6302a', 'f742e4dc-011b-43f9-a675-b3864037f2c0', 'f7abab4e-54fa-491e-a67a-d401cdc23e1e', 'f906e739-e7b7-4442-b5c6-49fca5cc2ba1', 'f9415b74-ee9c-4e63-8deb-5fb8766256f8', 'f9bc1d15-21aa-4969-b08f-39283e15009d', 'f9bf8afa-c7f3-42d0-b99a-52e6f4d048a9', 'fa83738a-c9f2-433e-9050-54d0e90e3092', 'fadb0bd2-e734-4dc0-ab09-388c4feaf30a', 'fb9961aa-e11f-4f75-bc5a-990e9302ae6e', 'fbaa36d1-20c8-49d3-bf67-bf6aae019580', 'fc3719f4-a048-45f2-9673-44b7b465a32b', 'fc73a031-4820-4e2b-a481-deef427a2206', 'fcb893aa-c7aa-438d-9d6d-c0adb397fa1e', 'fd14c846-f78b-4c3d-8a40-bdc7fe1d6776', 'fd27d12b-3a78-4019-9587-991b672df809', 'fd80aa45-9ccd-4b62-b5b9-28e476c89dc8', 'fde7b886-1909-4e13-b1f7-77bdca8c2042', 'fea933ee-be08-4e79-b20e-d0d67bac87fc', 'ff1fe2c9-2f02-4a50-a0dc-1509a6b0d7a4', 'fffb83a0-dab6-41be-9d8b-f4fb6c2584ab']\n"
     ]
    }
   ],
   "source": [
    "broken_files = []\n",
    "index = 0\n",
    "for folder in os.listdir(downloaded_samples):\n",
    "    folder_path = os.path.join(downloaded_samples, folder)\n",
    "    if not os.path.isdir(folder_path):\n",
    "        continue\n",
    "\n",
    "    for f in os.listdir(folder_path):\n",
    "        if 'partial' in f.lower() or f.lower().endswith('.partial'):\n",
    "            broken_files.append(folder)\n",
    "    index+=1\n",
    "print(\"Suspicious partial downloads:\", broken_files)"
   ]
  },
  {
   "cell_type": "code",
   "execution_count": 27,
   "metadata": {},
   "outputs": [],
   "source": [
    "manifest_file = os.path.join('/app/data/manifests/',\n",
    "                             'gdc_manifest.2025-06-01-wsi.txt')\n",
    "manifest = pd.read_csv(manifest_file, sep='\\t', index_col='id')"
   ]
  },
  {
   "cell_type": "code",
   "execution_count": 28,
   "metadata": {},
   "outputs": [
    {
     "data": {
      "text/plain": [
       "'/mnt/'"
      ]
     },
     "execution_count": 28,
     "metadata": {},
     "output_type": "execute_result"
    }
   ],
   "source": [
    "downloaded_samples[:5]"
   ]
  },
  {
   "cell_type": "code",
   "execution_count": 29,
   "metadata": {},
   "outputs": [
    {
     "data": {
      "text/plain": [
       "(3102, 4)"
      ]
     },
     "execution_count": 29,
     "metadata": {},
     "output_type": "execute_result"
    }
   ],
   "source": [
    "manifest.shape"
   ]
  },
  {
   "cell_type": "code",
   "execution_count": 30,
   "metadata": {},
   "outputs": [
    {
     "data": {
      "text/plain": [
       "(2654, 4)"
      ]
     },
     "execution_count": 30,
     "metadata": {},
     "output_type": "execute_result"
    }
   ],
   "source": [
    "manifest[~manifest.index.isin(broken_files)].shape"
   ]
  },
  {
   "cell_type": "code",
   "execution_count": 31,
   "metadata": {},
   "outputs": [
    {
     "data": {
      "text/plain": [
       "(2654, 4)"
      ]
     },
     "execution_count": 31,
     "metadata": {},
     "output_type": "execute_result"
    }
   ],
   "source": [
    "sub_manifest = manifest[~manifest.index.isin(broken_files)]\n",
    "sub_manifest.shape"
   ]
  },
  {
   "cell_type": "code",
   "execution_count": 32,
   "metadata": {},
   "outputs": [],
   "source": [
    "sub_manifest.reset_index(level=0, inplace=True)"
   ]
  },
  {
   "cell_type": "code",
   "execution_count": 33,
   "metadata": {},
   "outputs": [
    {
     "data": {
      "text/html": [
       "<div>\n",
       "<style scoped>\n",
       "    .dataframe tbody tr th:only-of-type {\n",
       "        vertical-align: middle;\n",
       "    }\n",
       "\n",
       "    .dataframe tbody tr th {\n",
       "        vertical-align: top;\n",
       "    }\n",
       "\n",
       "    .dataframe thead th {\n",
       "        text-align: right;\n",
       "    }\n",
       "</style>\n",
       "<table border=\"1\" class=\"dataframe\">\n",
       "  <thead>\n",
       "    <tr style=\"text-align: right;\">\n",
       "      <th></th>\n",
       "      <th>id</th>\n",
       "      <th>filename</th>\n",
       "      <th>md5</th>\n",
       "      <th>size</th>\n",
       "      <th>state</th>\n",
       "    </tr>\n",
       "  </thead>\n",
       "  <tbody>\n",
       "    <tr>\n",
       "      <th>0</th>\n",
       "      <td>4781996e-3d01-4a40-bb3a-3ef6e535dcae</td>\n",
       "      <td>TCGA-C8-A27B-01A-01-TSA.b93af347-1b83-4284-afa...</td>\n",
       "      <td>a7c367b31f0d8cfac1b06aa08a27707d</td>\n",
       "      <td>377358405</td>\n",
       "      <td>released</td>\n",
       "    </tr>\n",
       "    <tr>\n",
       "      <th>1</th>\n",
       "      <td>0fb0d10a-9cac-4499-b512-9e6fb607bd15</td>\n",
       "      <td>TCGA-E9-A1R0-01A-02-TSB.76d55fb8-5518-496c-9a8...</td>\n",
       "      <td>b7a09d6047cd320ef98c7fa56ec99a44</td>\n",
       "      <td>181172087</td>\n",
       "      <td>released</td>\n",
       "    </tr>\n",
       "    <tr>\n",
       "      <th>2</th>\n",
       "      <td>aa3f0051-ea7f-47f2-a7aa-315c1bdc3f18</td>\n",
       "      <td>TCGA-BH-A0C1-01Z-00-DX1.21FE357E-B182-4397-BFE...</td>\n",
       "      <td>8a43d85058bb6bc2fc00d485cf92e1c1</td>\n",
       "      <td>992971003</td>\n",
       "      <td>released</td>\n",
       "    </tr>\n",
       "  </tbody>\n",
       "</table>\n",
       "</div>"
      ],
      "text/plain": [
       "                                     id  \\\n",
       "0  4781996e-3d01-4a40-bb3a-3ef6e535dcae   \n",
       "1  0fb0d10a-9cac-4499-b512-9e6fb607bd15   \n",
       "2  aa3f0051-ea7f-47f2-a7aa-315c1bdc3f18   \n",
       "\n",
       "                                            filename  \\\n",
       "0  TCGA-C8-A27B-01A-01-TSA.b93af347-1b83-4284-afa...   \n",
       "1  TCGA-E9-A1R0-01A-02-TSB.76d55fb8-5518-496c-9a8...   \n",
       "2  TCGA-BH-A0C1-01Z-00-DX1.21FE357E-B182-4397-BFE...   \n",
       "\n",
       "                                md5       size     state  \n",
       "0  a7c367b31f0d8cfac1b06aa08a27707d  377358405  released  \n",
       "1  b7a09d6047cd320ef98c7fa56ec99a44  181172087  released  \n",
       "2  8a43d85058bb6bc2fc00d485cf92e1c1  992971003  released  "
      ]
     },
     "execution_count": 33,
     "metadata": {},
     "output_type": "execute_result"
    }
   ],
   "source": [
    "sub_manifest.head(3)"
   ]
  },
  {
   "cell_type": "code",
   "execution_count": 34,
   "metadata": {},
   "outputs": [],
   "source": [
    "sub_manifest_file = os.path.join('/app/data/manifests/',\n",
    "                             'gdc_manifest.2025-06-01-wsi_subset.txt')\n",
    "sub_manifest.to_csv(sub_manifest_file, sep='\\t', index=False)"
   ]
  },
  {
   "cell_type": "markdown",
   "metadata": {},
   "source": [
    "# Map files to patients\n",
    "\n",
    "Use the [GDC API](https://docs.gdc.cancer.gov/API/Users_Guide/Python_Examples/#using-python-to-query-the-gdc-api) to retrieve mapping between file names and patient IDs. Collect results as Pandas `DataFrame`."
   ]
  },
  {
   "cell_type": "code",
   "execution_count": 35,
   "metadata": {},
   "outputs": [],
   "source": [
    "def request_file_info(data_type):\n",
    "    fields = [\n",
    "        \"file_name\",\n",
    "        \"cases.submitter_id\",\n",
    "        \"cases.samples.sample_type\",\n",
    "        \"cases.project.project_id\",\n",
    "        \"cases.project.primary_site\",\n",
    "        ]\n",
    "\n",
    "    fields = \",\".join(fields)\n",
    "\n",
    "    files_endpt = \"https://api.gdc.cancer.gov/files\"\n",
    "\n",
    "    filters = {\n",
    "        \"op\": \"and\",\n",
    "        \"content\":[\n",
    "            {\n",
    "            \"op\": \"in\",\n",
    "            \"content\":{\n",
    "                \"field\": \"files.experimental_strategy\",\n",
    "                \"value\": [data_type]\n",
    "                }\n",
    "            }\n",
    "        ]\n",
    "    }\n",
    "\n",
    "    params = {\n",
    "        \"filters\": filters,\n",
    "        \"fields\": fields,\n",
    "        \"format\": \"TSV\",\n",
    "        \"size\": \"200000\"\n",
    "        }\n",
    "\n",
    "    response = requests.post(files_endpt, headers = {\"Content-Type\": \"application/json\"}, json = params)\n",
    "\n",
    "    return pd.read_csv(StringIO(response.content.decode(\"utf-8\")), sep=\"\\t\")"
   ]
  },
  {
   "cell_type": "code",
   "execution_count": 36,
   "metadata": {},
   "outputs": [
    {
     "data": {
      "text/plain": [
       "(11766, 7)"
      ]
     },
     "execution_count": 36,
     "metadata": {},
     "output_type": "execute_result"
    }
   ],
   "source": [
    "wsi_files = request_file_info(data_type='Diagnostic Slide')\n",
    "wsi_files.shape"
   ]
  },
  {
   "cell_type": "code",
   "execution_count": 37,
   "metadata": {},
   "outputs": [
    {
     "data": {
      "text/html": [
       "<div>\n",
       "<style scoped>\n",
       "    .dataframe tbody tr th:only-of-type {\n",
       "        vertical-align: middle;\n",
       "    }\n",
       "\n",
       "    .dataframe tbody tr th {\n",
       "        vertical-align: top;\n",
       "    }\n",
       "\n",
       "    .dataframe thead th {\n",
       "        text-align: right;\n",
       "    }\n",
       "</style>\n",
       "<table border=\"1\" class=\"dataframe\">\n",
       "  <thead>\n",
       "    <tr style=\"text-align: right;\">\n",
       "      <th></th>\n",
       "      <th>cases.0.project.primary_site</th>\n",
       "      <th>cases.0.project.project_id</th>\n",
       "      <th>cases.0.samples.0.sample_type</th>\n",
       "      <th>cases.0.samples.1.sample_type</th>\n",
       "      <th>cases.0.submitter_id</th>\n",
       "      <th>file_name</th>\n",
       "      <th>id</th>\n",
       "    </tr>\n",
       "  </thead>\n",
       "  <tbody>\n",
       "    <tr>\n",
       "      <th>0</th>\n",
       "      <td>Breast</td>\n",
       "      <td>TCGA-BRCA</td>\n",
       "      <td>Primary Tumor</td>\n",
       "      <td>NaN</td>\n",
       "      <td>TCGA-BH-A0C1</td>\n",
       "      <td>TCGA-BH-A0C1-01Z-00-DX1.21FE357E-B182-4397-BFE...</td>\n",
       "      <td>aa3f0051-ea7f-47f2-a7aa-315c1bdc3f18</td>\n",
       "    </tr>\n",
       "    <tr>\n",
       "      <th>1</th>\n",
       "      <td>Breast</td>\n",
       "      <td>TCGA-BRCA</td>\n",
       "      <td>Primary Tumor</td>\n",
       "      <td>NaN</td>\n",
       "      <td>TCGA-EW-A1P1</td>\n",
       "      <td>TCGA-EW-A1P1-01Z-00-DX1.4B670029-4B3B-4D76-8EA...</td>\n",
       "      <td>a779fff9-b54a-4c18-936f-43f75119b9ad</td>\n",
       "    </tr>\n",
       "    <tr>\n",
       "      <th>2</th>\n",
       "      <td>Breast</td>\n",
       "      <td>TCGA-BRCA</td>\n",
       "      <td>Primary Tumor</td>\n",
       "      <td>NaN</td>\n",
       "      <td>TCGA-E9-A5FL</td>\n",
       "      <td>TCGA-E9-A5FL-01Z-00-DX1.FB810D6A-303E-45DF-BEF...</td>\n",
       "      <td>e5806a73-54c4-43d1-a44b-db5f43c8e832</td>\n",
       "    </tr>\n",
       "    <tr>\n",
       "      <th>3</th>\n",
       "      <td>Breast</td>\n",
       "      <td>TCGA-BRCA</td>\n",
       "      <td>Primary Tumor</td>\n",
       "      <td>NaN</td>\n",
       "      <td>TCGA-AC-A23G</td>\n",
       "      <td>TCGA-AC-A23G-01Z-00-DX1.2F0326F7-6B77-4B3F-B4F...</td>\n",
       "      <td>2449ff02-6925-4f25-9074-7c5fbeab0bd2</td>\n",
       "    </tr>\n",
       "    <tr>\n",
       "      <th>4</th>\n",
       "      <td>Breast</td>\n",
       "      <td>TCGA-BRCA</td>\n",
       "      <td>Primary Tumor</td>\n",
       "      <td>NaN</td>\n",
       "      <td>TCGA-AO-A1KO</td>\n",
       "      <td>TCGA-AO-A1KO-01Z-00-DX1.EEB5E0A0-92B2-42CD-9F7...</td>\n",
       "      <td>03a7acd9-178a-4165-9588-fa63e46f3387</td>\n",
       "    </tr>\n",
       "  </tbody>\n",
       "</table>\n",
       "</div>"
      ],
      "text/plain": [
       "  cases.0.project.primary_site cases.0.project.project_id  \\\n",
       "0                       Breast                  TCGA-BRCA   \n",
       "1                       Breast                  TCGA-BRCA   \n",
       "2                       Breast                  TCGA-BRCA   \n",
       "3                       Breast                  TCGA-BRCA   \n",
       "4                       Breast                  TCGA-BRCA   \n",
       "\n",
       "  cases.0.samples.0.sample_type cases.0.samples.1.sample_type  \\\n",
       "0                 Primary Tumor                           NaN   \n",
       "1                 Primary Tumor                           NaN   \n",
       "2                 Primary Tumor                           NaN   \n",
       "3                 Primary Tumor                           NaN   \n",
       "4                 Primary Tumor                           NaN   \n",
       "\n",
       "  cases.0.submitter_id                                          file_name  \\\n",
       "0         TCGA-BH-A0C1  TCGA-BH-A0C1-01Z-00-DX1.21FE357E-B182-4397-BFE...   \n",
       "1         TCGA-EW-A1P1  TCGA-EW-A1P1-01Z-00-DX1.4B670029-4B3B-4D76-8EA...   \n",
       "2         TCGA-E9-A5FL  TCGA-E9-A5FL-01Z-00-DX1.FB810D6A-303E-45DF-BEF...   \n",
       "3         TCGA-AC-A23G  TCGA-AC-A23G-01Z-00-DX1.2F0326F7-6B77-4B3F-B4F...   \n",
       "4         TCGA-AO-A1KO  TCGA-AO-A1KO-01Z-00-DX1.EEB5E0A0-92B2-42CD-9F7...   \n",
       "\n",
       "                                     id  \n",
       "0  aa3f0051-ea7f-47f2-a7aa-315c1bdc3f18  \n",
       "1  a779fff9-b54a-4c18-936f-43f75119b9ad  \n",
       "2  e5806a73-54c4-43d1-a44b-db5f43c8e832  \n",
       "3  2449ff02-6925-4f25-9074-7c5fbeab0bd2  \n",
       "4  03a7acd9-178a-4165-9588-fa63e46f3387  "
      ]
     },
     "execution_count": 37,
     "metadata": {},
     "output_type": "execute_result"
    }
   ],
   "source": [
    "wsi_files.head()"
   ]
  },
  {
   "cell_type": "code",
   "execution_count": 38,
   "metadata": {},
   "outputs": [
    {
     "data": {
      "text/plain": [
       "(1132, 7)"
      ]
     },
     "execution_count": 38,
     "metadata": {},
     "output_type": "execute_result"
    }
   ],
   "source": [
    "wsi_files = wsi_files[wsi_files['cases.0.project.project_id'].str.startswith('TCGA-BRCA')]\n",
    "wsi_files = wsi_files[wsi_files['file_name'].str.endswith('.svs')]\n",
    "wsi_files = wsi_files[wsi_files['cases.0.samples.0.sample_type'] == 'Primary Tumor']\n",
    "wsi_files.shape"
   ]
  },
  {
   "cell_type": "code",
   "execution_count": 39,
   "metadata": {},
   "outputs": [
    {
     "name": "stdout",
     "output_type": "stream",
     "text": [
      "All rows:        1132\n",
      "Unique patients: 1061\n"
     ]
    }
   ],
   "source": [
    "print('All rows:       ', wsi_files.shape[0])\n",
    "print('Unique patients:', wsi_files['cases.0.submitter_id'].unique().shape[0])"
   ]
  },
  {
   "cell_type": "code",
   "execution_count": 40,
   "metadata": {},
   "outputs": [],
   "source": [
    "def make_patient_file_map(df, base_dir):\n",
    "    d = {}\n",
    "    \n",
    "    for _, row in df.iterrows():\n",
    "        patient = row['cases.0.submitter_id']\n",
    "        if patient in d:\n",
    "            if not isinstance(d[patient], tuple):\n",
    "                d[patient] = (\n",
    "                    d[patient],\n",
    "                    os.path.join(base_dir, row.id, row.file_name))\n",
    "            else:\n",
    "                d[patient] += os.path.join(base_dir, row.id, row.file_name),\n",
    "        else:\n",
    "            d[patient] = os.path.join(base_dir, row.id, row.file_name)\n",
    "\n",
    "    return d"
   ]
  },
  {
   "cell_type": "code",
   "execution_count": 41,
   "metadata": {},
   "outputs": [
    {
     "data": {
      "text/plain": [
       "1061"
      ]
     },
     "execution_count": 41,
     "metadata": {},
     "output_type": "execute_result"
    }
   ],
   "source": [
    "file_map = make_patient_file_map(wsi_files, base_dir='')\n",
    "len(file_map)"
   ]
  },
  {
   "cell_type": "code",
   "execution_count": 42,
   "metadata": {},
   "outputs": [
    {
     "data": {
      "text/plain": [
       "'aa3f0051-ea7f-47f2-a7aa-315c1bdc3f18/TCGA-BH-A0C1-01Z-00-DX1.21FE357E-B182-4397-BFEF-7E96E994236A.svs'"
      ]
     },
     "execution_count": 42,
     "metadata": {},
     "output_type": "execute_result"
    }
   ],
   "source": [
    "file_map[list(file_map.keys())[0]]"
   ]
  },
  {
   "cell_type": "markdown",
   "metadata": {},
   "source": [
    "## Drop unused patients\n",
    "\n",
    "Keep only patients present in label data."
   ]
  },
  {
   "cell_type": "code",
   "execution_count": 43,
   "metadata": {},
   "outputs": [
    {
     "data": {
      "text/plain": [
       "1094"
      ]
     },
     "execution_count": 43,
     "metadata": {},
     "output_type": "execute_result"
    }
   ],
   "source": [
    "labels = pd.read_csv('labels.tsv', sep='\\t')\n",
    "len(labels['submitter_id'])"
   ]
  },
  {
   "cell_type": "code",
   "execution_count": 44,
   "metadata": {},
   "outputs": [
    {
     "data": {
      "text/html": [
       "<div>\n",
       "<style scoped>\n",
       "    .dataframe tbody tr th:only-of-type {\n",
       "        vertical-align: middle;\n",
       "    }\n",
       "\n",
       "    .dataframe tbody tr th {\n",
       "        vertical-align: top;\n",
       "    }\n",
       "\n",
       "    .dataframe thead th {\n",
       "        text-align: right;\n",
       "    }\n",
       "</style>\n",
       "<table border=\"1\" class=\"dataframe\">\n",
       "  <thead>\n",
       "    <tr style=\"text-align: right;\">\n",
       "      <th></th>\n",
       "      <th>submitter_id</th>\n",
       "      <th>time</th>\n",
       "      <th>event</th>\n",
       "      <th>group</th>\n",
       "    </tr>\n",
       "  </thead>\n",
       "  <tbody>\n",
       "    <tr>\n",
       "      <th>0</th>\n",
       "      <td>TCGA-Z7-A8R6</td>\n",
       "      <td>8.920548</td>\n",
       "      <td>0</td>\n",
       "      <td>train</td>\n",
       "    </tr>\n",
       "    <tr>\n",
       "      <th>1</th>\n",
       "      <td>TCGA-C8-A1HE</td>\n",
       "      <td>1.027397</td>\n",
       "      <td>0</td>\n",
       "      <td>train</td>\n",
       "    </tr>\n",
       "    <tr>\n",
       "      <th>2</th>\n",
       "      <td>TCGA-A8-A07B</td>\n",
       "      <td>3.583562</td>\n",
       "      <td>0</td>\n",
       "      <td>train</td>\n",
       "    </tr>\n",
       "    <tr>\n",
       "      <th>3</th>\n",
       "      <td>TCGA-AC-A2FM</td>\n",
       "      <td>2.169863</td>\n",
       "      <td>1</td>\n",
       "      <td>train</td>\n",
       "    </tr>\n",
       "    <tr>\n",
       "      <th>4</th>\n",
       "      <td>TCGA-B6-A1KF</td>\n",
       "      <td>8.460274</td>\n",
       "      <td>0</td>\n",
       "      <td>train</td>\n",
       "    </tr>\n",
       "  </tbody>\n",
       "</table>\n",
       "</div>"
      ],
      "text/plain": [
       "   submitter_id      time  event  group\n",
       "0  TCGA-Z7-A8R6  8.920548      0  train\n",
       "1  TCGA-C8-A1HE  1.027397      0  train\n",
       "2  TCGA-A8-A07B  3.583562      0  train\n",
       "3  TCGA-AC-A2FM  2.169863      1  train\n",
       "4  TCGA-B6-A1KF  8.460274      0  train"
      ]
     },
     "execution_count": 44,
     "metadata": {},
     "output_type": "execute_result"
    }
   ],
   "source": [
    "labels.head()"
   ]
  },
  {
   "cell_type": "code",
   "execution_count": 45,
   "metadata": {},
   "outputs": [],
   "source": [
    "file_map = {k: file_map[k] for k in file_map if k in list(labels['submitter_id'])}"
   ]
  },
  {
   "cell_type": "code",
   "execution_count": 46,
   "metadata": {},
   "outputs": [
    {
     "data": {
      "text/plain": [
       "1058"
      ]
     },
     "execution_count": 46,
     "metadata": {},
     "output_type": "execute_result"
    }
   ],
   "source": [
    "len(file_map)"
   ]
  },
  {
   "cell_type": "code",
   "execution_count": 47,
   "metadata": {},
   "outputs": [
    {
     "name": "stdout",
     "output_type": "stream",
     "text": [
      "64 patients with more than one slide\n",
      "(with 2.08 slides per patient)\n"
     ]
    }
   ],
   "source": [
    "slide_counts = {}\n",
    "\n",
    "for patient in file_map:\n",
    "    slides = file_map[patient]\n",
    "    if isinstance(slides, tuple):\n",
    "        slide_counts[patient] = len(slides)\n",
    "\n",
    "print(len(slide_counts), 'patients with more than one slide')\n",
    "print(f'(with {round(np.mean(list(slide_counts.values())), 2)} slides per patient)')"
   ]
  },
  {
   "cell_type": "markdown",
   "metadata": {},
   "source": [
    "# Slides with max 20x magnification\n",
    "\n",
    "There are slides with a maximum magnification of 20x instead of 40x. Drop these slides from the data.\n",
    "\n",
    "> __Note:__ De to the large size of the data, I have sp;it and stored it across four different locations."
   ]
  },
  {
   "cell_type": "markdown",
   "metadata": {},
   "source": [
    "## Collect slide magnifications"
   ]
  },
  {
   "cell_type": "code",
   "execution_count": 48,
   "metadata": {},
   "outputs": [],
   "source": [
    "location_paths = { 'wsi': '/mnt/data/RawData/WSI' }"
   ]
  },
  {
   "cell_type": "code",
   "execution_count": 49,
   "metadata": {},
   "outputs": [],
   "source": [
    "location_files = { 'wsi': os.listdir(location_paths['wsi']) }"
   ]
  },
  {
   "cell_type": "code",
   "execution_count": 50,
   "metadata": {},
   "outputs": [
    {
     "data": {
      "text/plain": [
       "['0018cc22-498a-45b8-bfd4-b0fe0c3a2f0a',\n",
       " '006984cf-35fc-4bc3-a0db-7f5b68de4a6e',\n",
       " '0070d4e9-f838-4ee9-a48b-c894b3b86440',\n",
       " '009f90d0-53c9-48a9-a362-72328cccd66e',\n",
       " '00ab866f-a0a3-44c0-ad14-c9dc833239a7']"
      ]
     },
     "execution_count": 50,
     "metadata": {},
     "output_type": "execute_result"
    }
   ],
   "source": [
    "location_files['wsi'][:5]"
   ]
  },
  {
   "cell_type": "code",
   "execution_count": 51,
   "metadata": {},
   "outputs": [
    {
     "data": {
      "text/plain": [
       "[2888]"
      ]
     },
     "execution_count": 51,
     "metadata": {},
     "output_type": "execute_result"
    }
   ],
   "source": [
    "[len(l) for _, l in location_files.items()]"
   ]
  },
  {
   "cell_type": "code",
   "execution_count": 52,
   "metadata": {},
   "outputs": [],
   "source": [
    "def get_slide_mag(slide_file):\n",
    "    try:\n",
    "        wsi = slide.OpenSlide(filename=slide_file)\n",
    "        d = dict(wsi.properties)\n",
    "    except:\n",
    "        return slide_file\n",
    "    if 'aperio.AppMag' in d.keys():\n",
    "        mag = d['aperio.AppMag']\n",
    "        return mag\n",
    "    else:\n",
    "        return slide_file\n",
    "\n",
    "def lookup_full_path(wsi_file, slide_paths, locations):\n",
    "    # Get all folder names from the WSI path (excluding the .svs filename)\n",
    "    folders = os.path.dirname(wsi_file).split('/')\n",
    "\n",
    "    for location, leaf_dirs in slide_paths.items():\n",
    "        if any(folder in leaf_dirs for folder in folders):\n",
    "            return os.path.join(locations[location], wsi_file)\n",
    "\n",
    "    return None"
   ]
  },
  {
   "cell_type": "code",
   "execution_count": 53,
   "metadata": {
    "code_folding": []
   },
   "outputs": [
    {
     "name": "stdout",
     "output_type": "stream",
     "text": [
      "Collecting slide magnifications:\n",
      "1058/1058\n",
      "CPU times: user 5.36 s, sys: 7.88 s, total: 13.2 s\n",
      "Wall time: 2min 18s\n"
     ]
    }
   ],
   "source": [
    "%%time\n",
    "\n",
    "slide_mags = {}\n",
    "\n",
    "print('Collecting slide magnifications:')\n",
    "n = len(file_map)\n",
    "        \n",
    "for i, patient in enumerate(file_map):\n",
    "#     if i > 100:\n",
    "#         break\n",
    "    print('\\r' + f'{str((i + 1))}/{n}', end='')\n",
    "    \n",
    "    if isinstance(file_map[patient], tuple):\n",
    "        slide_mags[patient] = tuple()\n",
    "        for f in file_map[patient]:\n",
    "            f = lookup_full_path(f, location_files, location_paths)\n",
    "            if f is not None:\n",
    "                slide_mags[patient] += get_slide_mag(f),\n",
    "    else:\n",
    "        f = lookup_full_path(file_map[patient], location_files, location_paths)\n",
    "        if f is not None:\n",
    "            slide_mags[patient] = get_slide_mag(\n",
    "                lookup_full_path(f, location_files, location_paths))\n",
    "print()"
   ]
  },
  {
   "cell_type": "code",
   "execution_count": 54,
   "metadata": {},
   "outputs": [
    {
     "data": {
      "text/plain": [
       "982"
      ]
     },
     "execution_count": 54,
     "metadata": {},
     "output_type": "execute_result"
    }
   ],
   "source": [
    "len(slide_mags)"
   ]
  },
  {
   "cell_type": "markdown",
   "metadata": {},
   "source": [
    "## Save slide magnifications to file"
   ]
  },
  {
   "cell_type": "code",
   "execution_count": 55,
   "metadata": {},
   "outputs": [],
   "source": [
    "with open('/app/data/wsi_magnifications.json', 'w') as f:\n",
    "    json.dump(slide_mags, f)"
   ]
  },
  {
   "cell_type": "markdown",
   "metadata": {},
   "source": [
    "## Check unread slides\n",
    "\n",
    "Function `get_slide_mag()` returns the slide file name when the magnification is not found (no `'aperio.AppMag'` found in `Slide` attributes).\n",
    "\n",
    "Start by checking unreadable slides and manually download the cases where the problem is partial original downloads."
   ]
  },
  {
   "cell_type": "code",
   "execution_count": 56,
   "metadata": {},
   "outputs": [],
   "source": [
    "slide_mags = json.load(open('/app/data/wsi_magnifications.json'))"
   ]
  },
  {
   "cell_type": "code",
   "execution_count": 57,
   "metadata": {},
   "outputs": [],
   "source": [
    "patients_with_failed_slides = []\n",
    "\n",
    "for patient in slide_mags:\n",
    "    mags = slide_mags[patient]\n",
    "    if not isinstance(mags, list):\n",
    "        mags = [mags]\n",
    "    for x in mags:\n",
    "        if x.startswith('20') or x.startswith('40'):\n",
    "            next\n",
    "        else:\n",
    "            patients_with_failed_slides += [patient]"
   ]
  },
  {
   "cell_type": "code",
   "execution_count": 58,
   "metadata": {},
   "outputs": [
    {
     "data": {
      "text/plain": [
       "451"
      ]
     },
     "execution_count": 58,
     "metadata": {},
     "output_type": "execute_result"
    }
   ],
   "source": [
    "len(patients_with_failed_slides)"
   ]
  },
  {
   "cell_type": "code",
   "execution_count": 59,
   "metadata": {},
   "outputs": [
    {
     "name": "stdout",
     "output_type": "stream",
     "text": [
      "CPU times: user 57.6 ms, sys: 255 ms, total: 312 ms\n",
      "Wall time: 3.87 s\n"
     ]
    }
   ],
   "source": [
    "%%time\n",
    "\n",
    "fail_opening = []\n",
    "\n",
    "for patient in patients_with_failed_slides:\n",
    "    files = slide_mags[patient]\n",
    "    if not isinstance(files, list):\n",
    "        files = [files]\n",
    "    for file in files:\n",
    "        try:\n",
    "            slide.OpenSlide(filename=file)\n",
    "        except:\n",
    "            fail_opening += [patient]"
   ]
  },
  {
   "cell_type": "code",
   "execution_count": 60,
   "metadata": {},
   "outputs": [
    {
     "data": {
      "text/plain": [
       "419"
      ]
     },
     "execution_count": 60,
     "metadata": {},
     "output_type": "execute_result"
    }
   ],
   "source": [
    "len(set(fail_opening))"
   ]
  },
  {
   "cell_type": "code",
   "execution_count": 61,
   "metadata": {},
   "outputs": [
    {
     "data": {
      "text/plain": [
       "{'TCGA-3C-AALI',\n",
       " 'TCGA-3C-AALJ',\n",
       " 'TCGA-3C-AALK',\n",
       " 'TCGA-5T-A9QA',\n",
       " 'TCGA-A1-A0SE',\n",
       " 'TCGA-A1-A0SP',\n",
       " 'TCGA-A1-A0SQ',\n",
       " 'TCGA-A2-A04N',\n",
       " 'TCGA-A2-A04U',\n",
       " 'TCGA-A2-A04V',\n",
       " 'TCGA-A2-A04W',\n",
       " 'TCGA-A2-A04X',\n",
       " 'TCGA-A2-A0CT',\n",
       " 'TCGA-A2-A0CU',\n",
       " 'TCGA-A2-A0CV',\n",
       " 'TCGA-A2-A0CY',\n",
       " 'TCGA-A2-A0CZ',\n",
       " 'TCGA-A2-A0D0',\n",
       " 'TCGA-A2-A0EO',\n",
       " 'TCGA-A2-A0EQ',\n",
       " 'TCGA-A2-A0ES',\n",
       " 'TCGA-A2-A0ET',\n",
       " 'TCGA-A2-A0EV',\n",
       " 'TCGA-A2-A0EY',\n",
       " 'TCGA-A2-A0SV',\n",
       " 'TCGA-A2-A0SX',\n",
       " 'TCGA-A2-A0SY',\n",
       " 'TCGA-A2-A0T0',\n",
       " 'TCGA-A2-A0T1',\n",
       " 'TCGA-A2-A0T5',\n",
       " 'TCGA-A2-A0YD',\n",
       " 'TCGA-A2-A0YE',\n",
       " 'TCGA-A2-A0YT',\n",
       " 'TCGA-A2-A1FV',\n",
       " 'TCGA-A2-A1G0',\n",
       " 'TCGA-A2-A1G4',\n",
       " 'TCGA-A2-A1G6',\n",
       " 'TCGA-A2-A259',\n",
       " 'TCGA-A2-A25A',\n",
       " 'TCGA-A2-A25B',\n",
       " 'TCGA-A2-A25D',\n",
       " 'TCGA-A2-A25E',\n",
       " 'TCGA-A2-A25F',\n",
       " 'TCGA-A2-A3KC',\n",
       " 'TCGA-A2-A3XT',\n",
       " 'TCGA-A2-A3XZ',\n",
       " 'TCGA-A2-A3Y0',\n",
       " 'TCGA-A2-A4RW',\n",
       " 'TCGA-A2-A4S0',\n",
       " 'TCGA-A2-A4S3',\n",
       " 'TCGA-A7-A0CE',\n",
       " 'TCGA-A8-A079',\n",
       " 'TCGA-A8-A07E',\n",
       " 'TCGA-A8-A086',\n",
       " 'TCGA-A8-A08J',\n",
       " 'TCGA-A8-A08P',\n",
       " 'TCGA-A8-A09Z',\n",
       " 'TCGA-AC-A3TM',\n",
       " 'TCGA-AN-A0AJ',\n",
       " 'TCGA-AN-A0AL',\n",
       " 'TCGA-AN-A0AR',\n",
       " 'TCGA-AN-A0AT',\n",
       " 'TCGA-AN-A0FF',\n",
       " 'TCGA-AN-A0FK',\n",
       " 'TCGA-AO-A0J6',\n",
       " 'TCGA-AO-A12F',\n",
       " 'TCGA-AQ-A54O',\n",
       " 'TCGA-AQ-A7U7',\n",
       " 'TCGA-AR-A0TP',\n",
       " 'TCGA-AR-A0TR',\n",
       " 'TCGA-AR-A0TS',\n",
       " 'TCGA-AR-A0TT',\n",
       " 'TCGA-AR-A0TU',\n",
       " 'TCGA-AR-A0TW',\n",
       " 'TCGA-AR-A0U2',\n",
       " 'TCGA-AR-A0U3',\n",
       " 'TCGA-AR-A0U4',\n",
       " 'TCGA-AR-A1AH',\n",
       " 'TCGA-AR-A1AS',\n",
       " 'TCGA-AR-A1AT',\n",
       " 'TCGA-AR-A1AU',\n",
       " 'TCGA-AR-A24K',\n",
       " 'TCGA-AR-A24N',\n",
       " 'TCGA-AR-A24P',\n",
       " 'TCGA-AR-A24Q',\n",
       " 'TCGA-AR-A24R',\n",
       " 'TCGA-AR-A24T',\n",
       " 'TCGA-AR-A250',\n",
       " 'TCGA-AR-A252',\n",
       " 'TCGA-AR-A2LH',\n",
       " 'TCGA-AR-A2LJ',\n",
       " 'TCGA-AR-A2LL',\n",
       " 'TCGA-AR-A2LM',\n",
       " 'TCGA-AR-A2LN',\n",
       " 'TCGA-AR-A2LR',\n",
       " 'TCGA-AR-A5QP',\n",
       " 'TCGA-AR-A5QQ',\n",
       " 'TCGA-B6-A0I1',\n",
       " 'TCGA-B6-A0I6',\n",
       " 'TCGA-B6-A0I8',\n",
       " 'TCGA-B6-A0I9',\n",
       " 'TCGA-B6-A0IA',\n",
       " 'TCGA-B6-A0IC',\n",
       " 'TCGA-B6-A0IH',\n",
       " 'TCGA-B6-A0IM',\n",
       " 'TCGA-B6-A0IN',\n",
       " 'TCGA-B6-A0IQ',\n",
       " 'TCGA-B6-A0RG',\n",
       " 'TCGA-B6-A0RH',\n",
       " 'TCGA-B6-A0RI',\n",
       " 'TCGA-B6-A0RL',\n",
       " 'TCGA-B6-A0RO',\n",
       " 'TCGA-B6-A0RP',\n",
       " 'TCGA-B6-A0RS',\n",
       " 'TCGA-B6-A0RT',\n",
       " 'TCGA-B6-A0RU',\n",
       " 'TCGA-B6-A0RV',\n",
       " 'TCGA-B6-A0WT',\n",
       " 'TCGA-B6-A0WV',\n",
       " 'TCGA-B6-A0WW',\n",
       " 'TCGA-B6-A0WX',\n",
       " 'TCGA-B6-A0WY',\n",
       " 'TCGA-B6-A0X0',\n",
       " 'TCGA-B6-A0X1',\n",
       " 'TCGA-B6-A0X4',\n",
       " 'TCGA-B6-A0X5',\n",
       " 'TCGA-B6-A0X7',\n",
       " 'TCGA-B6-A1KC',\n",
       " 'TCGA-B6-A1KF',\n",
       " 'TCGA-B6-A1KN',\n",
       " 'TCGA-B6-A2IU',\n",
       " 'TCGA-BH-A0AU',\n",
       " 'TCGA-BH-A0AV',\n",
       " 'TCGA-BH-A0AW',\n",
       " 'TCGA-BH-A0AY',\n",
       " 'TCGA-BH-A0B3',\n",
       " 'TCGA-BH-A0B4',\n",
       " 'TCGA-BH-A0B5',\n",
       " 'TCGA-BH-A0B6',\n",
       " 'TCGA-BH-A0B9',\n",
       " 'TCGA-BH-A0BA',\n",
       " 'TCGA-BH-A0BD',\n",
       " 'TCGA-BH-A0BF',\n",
       " 'TCGA-BH-A0BJ',\n",
       " 'TCGA-BH-A0BL',\n",
       " 'TCGA-BH-A0BQ',\n",
       " 'TCGA-BH-A0BV',\n",
       " 'TCGA-BH-A0BW',\n",
       " 'TCGA-BH-A0BZ',\n",
       " 'TCGA-BH-A0C0',\n",
       " 'TCGA-BH-A0C7',\n",
       " 'TCGA-BH-A0DD',\n",
       " 'TCGA-BH-A0DG',\n",
       " 'TCGA-BH-A0DH',\n",
       " 'TCGA-BH-A0DI',\n",
       " 'TCGA-BH-A0DK',\n",
       " 'TCGA-BH-A0DL',\n",
       " 'TCGA-BH-A0DQ',\n",
       " 'TCGA-BH-A0DZ',\n",
       " 'TCGA-BH-A0E0',\n",
       " 'TCGA-BH-A0E1',\n",
       " 'TCGA-BH-A0E2',\n",
       " 'TCGA-BH-A0E9',\n",
       " 'TCGA-BH-A0EE',\n",
       " 'TCGA-BH-A0GY',\n",
       " 'TCGA-BH-A0GZ',\n",
       " 'TCGA-BH-A0H5',\n",
       " 'TCGA-BH-A0H7',\n",
       " 'TCGA-BH-A0HA',\n",
       " 'TCGA-BH-A0HB',\n",
       " 'TCGA-BH-A0HL',\n",
       " 'TCGA-BH-A0HN',\n",
       " 'TCGA-BH-A0HO',\n",
       " 'TCGA-BH-A0HQ',\n",
       " 'TCGA-BH-A0HW',\n",
       " 'TCGA-BH-A0HX',\n",
       " 'TCGA-BH-A0HY',\n",
       " 'TCGA-BH-A0RX',\n",
       " 'TCGA-BH-A0W3',\n",
       " 'TCGA-BH-A0W4',\n",
       " 'TCGA-BH-A0W5',\n",
       " 'TCGA-BH-A0W7',\n",
       " 'TCGA-BH-A18H',\n",
       " 'TCGA-BH-A18J',\n",
       " 'TCGA-BH-A18L',\n",
       " 'TCGA-BH-A18M',\n",
       " 'TCGA-BH-A18N',\n",
       " 'TCGA-BH-A18P',\n",
       " 'TCGA-BH-A18Q',\n",
       " 'TCGA-BH-A18R',\n",
       " 'TCGA-BH-A18U',\n",
       " 'TCGA-BH-A18V',\n",
       " 'TCGA-BH-A1EN',\n",
       " 'TCGA-BH-A1EO',\n",
       " 'TCGA-BH-A1ET',\n",
       " 'TCGA-BH-A1EU',\n",
       " 'TCGA-BH-A1EV',\n",
       " 'TCGA-BH-A1EW',\n",
       " 'TCGA-BH-A1EX',\n",
       " 'TCGA-BH-A1F5',\n",
       " 'TCGA-BH-A1F8',\n",
       " 'TCGA-BH-A1FB',\n",
       " 'TCGA-BH-A1FJ',\n",
       " 'TCGA-BH-A1FL',\n",
       " 'TCGA-BH-A1FR',\n",
       " 'TCGA-BH-A201',\n",
       " 'TCGA-BH-A202',\n",
       " 'TCGA-BH-A203',\n",
       " 'TCGA-BH-A204',\n",
       " 'TCGA-BH-A208',\n",
       " 'TCGA-BH-A209',\n",
       " 'TCGA-BH-A28O',\n",
       " 'TCGA-BH-A28Q',\n",
       " 'TCGA-BH-A2L8',\n",
       " 'TCGA-BH-A42T',\n",
       " 'TCGA-BH-A42U',\n",
       " 'TCGA-BH-A5IZ',\n",
       " 'TCGA-BH-A5J0',\n",
       " 'TCGA-C8-A12U',\n",
       " 'TCGA-C8-A12V',\n",
       " 'TCGA-C8-A135',\n",
       " 'TCGA-C8-A1HF',\n",
       " 'TCGA-C8-A26W',\n",
       " 'TCGA-C8-A26Z',\n",
       " 'TCGA-C8-A274',\n",
       " 'TCGA-C8-A275',\n",
       " 'TCGA-C8-A3M7',\n",
       " 'TCGA-C8-A9FZ',\n",
       " 'TCGA-D8-A13Y',\n",
       " 'TCGA-D8-A13Z',\n",
       " 'TCGA-D8-A142',\n",
       " 'TCGA-D8-A143',\n",
       " 'TCGA-D8-A145',\n",
       " 'TCGA-D8-A147',\n",
       " 'TCGA-D8-A1J8',\n",
       " 'TCGA-D8-A1J9',\n",
       " 'TCGA-D8-A1JA',\n",
       " 'TCGA-D8-A1JB',\n",
       " 'TCGA-D8-A1JC',\n",
       " 'TCGA-D8-A1JD',\n",
       " 'TCGA-D8-A1JE',\n",
       " 'TCGA-D8-A1JF',\n",
       " 'TCGA-D8-A1JG',\n",
       " 'TCGA-D8-A1JH',\n",
       " 'TCGA-D8-A1JJ',\n",
       " 'TCGA-D8-A1JK',\n",
       " 'TCGA-D8-A1JL',\n",
       " 'TCGA-D8-A1JN',\n",
       " 'TCGA-D8-A1JS',\n",
       " 'TCGA-D8-A1JT',\n",
       " 'TCGA-D8-A1X5',\n",
       " 'TCGA-D8-A1X6',\n",
       " 'TCGA-D8-A1X7',\n",
       " 'TCGA-D8-A1X8',\n",
       " 'TCGA-D8-A1X9',\n",
       " 'TCGA-D8-A1XB',\n",
       " 'TCGA-D8-A1XC',\n",
       " 'TCGA-D8-A1XF',\n",
       " 'TCGA-D8-A1XG',\n",
       " 'TCGA-D8-A1XJ',\n",
       " 'TCGA-D8-A1XL',\n",
       " 'TCGA-D8-A1XO',\n",
       " 'TCGA-D8-A1XR',\n",
       " 'TCGA-D8-A1XS',\n",
       " 'TCGA-D8-A1XT',\n",
       " 'TCGA-D8-A1XV',\n",
       " 'TCGA-D8-A1XW',\n",
       " 'TCGA-D8-A1XY',\n",
       " 'TCGA-D8-A1XZ',\n",
       " 'TCGA-D8-A1Y1',\n",
       " 'TCGA-D8-A1Y2',\n",
       " 'TCGA-D8-A1Y3',\n",
       " 'TCGA-D8-A27F',\n",
       " 'TCGA-D8-A27G',\n",
       " 'TCGA-D8-A27K',\n",
       " 'TCGA-D8-A27R',\n",
       " 'TCGA-D8-A27T',\n",
       " 'TCGA-D8-A27V',\n",
       " 'TCGA-D8-A27W',\n",
       " 'TCGA-D8-A3Z5',\n",
       " 'TCGA-D8-A3Z6',\n",
       " 'TCGA-D8-A73W',\n",
       " 'TCGA-D8-A73X',\n",
       " 'TCGA-E2-A107',\n",
       " 'TCGA-E2-A108',\n",
       " 'TCGA-E2-A109',\n",
       " 'TCGA-E2-A10A',\n",
       " 'TCGA-E2-A10B',\n",
       " 'TCGA-E2-A10C',\n",
       " 'TCGA-E2-A10E',\n",
       " 'TCGA-E2-A14N',\n",
       " 'TCGA-E2-A14P',\n",
       " 'TCGA-E2-A14Q',\n",
       " 'TCGA-E2-A14R',\n",
       " 'TCGA-E2-A14U',\n",
       " 'TCGA-E2-A14X',\n",
       " 'TCGA-E2-A14Y',\n",
       " 'TCGA-E2-A14Z',\n",
       " 'TCGA-E2-A152',\n",
       " 'TCGA-E2-A154',\n",
       " 'TCGA-E2-A155',\n",
       " 'TCGA-E2-A156',\n",
       " 'TCGA-E2-A159',\n",
       " 'TCGA-E2-A15A',\n",
       " 'TCGA-E2-A15C',\n",
       " 'TCGA-E2-A15D',\n",
       " 'TCGA-E2-A15G',\n",
       " 'TCGA-E2-A15H',\n",
       " 'TCGA-E2-A15J',\n",
       " 'TCGA-E2-A15L',\n",
       " 'TCGA-E2-A15O',\n",
       " 'TCGA-E2-A15R',\n",
       " 'TCGA-E2-A15T',\n",
       " 'TCGA-E2-A1AZ',\n",
       " 'TCGA-E2-A1B0',\n",
       " 'TCGA-E2-A1B4',\n",
       " 'TCGA-E2-A1B6',\n",
       " 'TCGA-E2-A1BC',\n",
       " 'TCGA-E2-A1BD',\n",
       " 'TCGA-E2-A1IF',\n",
       " 'TCGA-E2-A1IG',\n",
       " 'TCGA-E2-A1L6',\n",
       " 'TCGA-E2-A1LA',\n",
       " 'TCGA-E2-A1LH',\n",
       " 'TCGA-E2-A1LI',\n",
       " 'TCGA-E2-A2P5',\n",
       " 'TCGA-E2-A2P6',\n",
       " 'TCGA-E2-A3DX',\n",
       " 'TCGA-E2-A56Z',\n",
       " 'TCGA-E2-A570',\n",
       " 'TCGA-E2-A572',\n",
       " 'TCGA-E2-A573',\n",
       " 'TCGA-E2-A9RU',\n",
       " 'TCGA-E9-A22G',\n",
       " 'TCGA-E9-A244',\n",
       " 'TCGA-E9-A248',\n",
       " 'TCGA-E9-A249',\n",
       " 'TCGA-E9-A295',\n",
       " 'TCGA-EW-A1IW',\n",
       " 'TCGA-EW-A1IX',\n",
       " 'TCGA-EW-A1IY',\n",
       " 'TCGA-EW-A1J1',\n",
       " 'TCGA-EW-A1J5',\n",
       " 'TCGA-EW-A1J6',\n",
       " 'TCGA-EW-A1OV',\n",
       " 'TCGA-EW-A1OX',\n",
       " 'TCGA-EW-A1OY',\n",
       " 'TCGA-EW-A1OZ',\n",
       " 'TCGA-EW-A1P0',\n",
       " 'TCGA-EW-A1P1',\n",
       " 'TCGA-EW-A1P3',\n",
       " 'TCGA-EW-A1P4',\n",
       " 'TCGA-EW-A1P5',\n",
       " 'TCGA-EW-A1P7',\n",
       " 'TCGA-EW-A1P8',\n",
       " 'TCGA-EW-A1PA',\n",
       " 'TCGA-EW-A1PB',\n",
       " 'TCGA-EW-A1PC',\n",
       " 'TCGA-EW-A1PD',\n",
       " 'TCGA-EW-A1PE',\n",
       " 'TCGA-EW-A1PF',\n",
       " 'TCGA-EW-A1PG',\n",
       " 'TCGA-EW-A1PH',\n",
       " 'TCGA-EW-A2FR',\n",
       " 'TCGA-EW-A2FV',\n",
       " 'TCGA-EW-A2FW',\n",
       " 'TCGA-EW-A3E8',\n",
       " 'TCGA-EW-A3U0',\n",
       " 'TCGA-EW-A423',\n",
       " 'TCGA-EW-A424',\n",
       " 'TCGA-EW-A6S9',\n",
       " 'TCGA-EW-A6SA',\n",
       " 'TCGA-EW-A6SB',\n",
       " 'TCGA-EW-A6SC',\n",
       " 'TCGA-EW-A6SD',\n",
       " 'TCGA-GM-A2DD',\n",
       " 'TCGA-GM-A2DF',\n",
       " 'TCGA-GM-A2DK',\n",
       " 'TCGA-GM-A2DL',\n",
       " 'TCGA-GM-A3XN',\n",
       " 'TCGA-GM-A4E0',\n",
       " 'TCGA-LD-A66U',\n",
       " 'TCGA-LD-A74U',\n",
       " 'TCGA-LD-A7W5',\n",
       " 'TCGA-LD-A9QF',\n",
       " 'TCGA-LL-A442',\n",
       " 'TCGA-LL-A5YL',\n",
       " 'TCGA-LL-A5YM',\n",
       " 'TCGA-LL-A5YN',\n",
       " 'TCGA-LL-A5YP',\n",
       " 'TCGA-LL-A6FR',\n",
       " 'TCGA-LL-A740',\n",
       " 'TCGA-LL-A7SZ',\n",
       " 'TCGA-LL-A7T0',\n",
       " 'TCGA-LL-A8F5',\n",
       " 'TCGA-LL-A9Q3',\n",
       " 'TCGA-LQ-A4E4',\n",
       " 'TCGA-OK-A5Q2',\n",
       " 'TCGA-OL-A5D6',\n",
       " 'TCGA-OL-A5D7',\n",
       " 'TCGA-OL-A5D8',\n",
       " 'TCGA-OL-A5DA',\n",
       " 'TCGA-OL-A66H',\n",
       " 'TCGA-OL-A66J',\n",
       " 'TCGA-OL-A66K',\n",
       " 'TCGA-OL-A66L',\n",
       " 'TCGA-OL-A66N',\n",
       " 'TCGA-OL-A6VO',\n",
       " 'TCGA-OL-A6VQ',\n",
       " 'TCGA-OL-A97C',\n",
       " 'TCGA-S3-AA0Z',\n",
       " 'TCGA-S3-AA12',\n",
       " 'TCGA-S3-AA14',\n",
       " 'TCGA-S3-AA15',\n",
       " 'TCGA-UL-AAZ6',\n",
       " 'TCGA-UU-A93S',\n",
       " 'TCGA-XX-A899',\n",
       " 'TCGA-XX-A89A',\n",
       " 'TCGA-Z7-A8R6'}"
      ]
     },
     "execution_count": 61,
     "metadata": {},
     "output_type": "execute_result"
    }
   ],
   "source": [
    "set(fail_opening)"
   ]
  },
  {
   "cell_type": "code",
   "execution_count": 64,
   "metadata": {
    "scrolled": true
   },
   "outputs": [
    {
     "data": {
      "text/plain": [
       "'40'"
      ]
     },
     "execution_count": 64,
     "metadata": {},
     "output_type": "execute_result"
    }
   ],
   "source": [
    "slide_mags['TCGA-AR-A0TQ']"
   ]
  },
  {
   "cell_type": "code",
   "execution_count": 65,
   "metadata": {},
   "outputs": [
    {
     "data": {
      "text/plain": [
       "{'aperio.AppMag': '40',\n",
       " 'aperio.DSR ID': 'resc3-dsr2',\n",
       " 'aperio.Date': '09/07/10',\n",
       " 'aperio.DisplayColor': '0',\n",
       " 'aperio.Exposure Scale': '0.000001',\n",
       " 'aperio.Exposure Time': '109',\n",
       " 'aperio.Filename': 'TCGA-AR-A0TQ-01A-01-TSA',\n",
       " 'aperio.Focus Offset': '-0.000500',\n",
       " 'aperio.ICC Profile': 'ScanScope v1',\n",
       " 'aperio.ImageID': '30078',\n",
       " 'aperio.Left': '26.281858',\n",
       " 'aperio.LineAreaXOffset': '-0.014041',\n",
       " 'aperio.LineAreaYOffset': '0.000544',\n",
       " 'aperio.LineCameraSkew': '0.000833',\n",
       " 'aperio.MPP': '0.2485',\n",
       " 'aperio.OriginalHeight': '35567',\n",
       " 'aperio.OriginalWidth': '115000',\n",
       " 'aperio.Parmset': 'CHTN FocusRad18 on RESBPCLACIE01',\n",
       " 'aperio.ScanScope ID': 'SS1436CNTLR',\n",
       " 'aperio.StripeWidth': '1000',\n",
       " 'aperio.Time': '09:11:35',\n",
       " 'aperio.Title': 'TCGA-AR-A0TQ-01A-01-TSA',\n",
       " 'aperio.Top': '16.811081',\n",
       " 'aperio.User': '00f5c00f-24a9-41e6-a23f-7085209a268e',\n",
       " 'openslide.associated.thumbnail.height': '329',\n",
       " 'openslide.associated.thumbnail.width': '1024',\n",
       " 'openslide.comment': 'Aperio Image Library v10.2.20\\r\\n115000x35567 [0,100 110122x35467] (256x256) JPEG/RGB Q=30|AppMag = 40|StripeWidth = 1000|ScanScope ID = SS1436CNTLR|Filename = TCGA-AR-A0TQ-01A-01-TSA|Title = TCGA-AR-A0TQ-01A-01-TSA|Date = 09/07/10|Time = 09:11:35|User = 00f5c00f-24a9-41e6-a23f-7085209a268e|Parmset = CHTN FocusRad18 on RESBPCLACIE01|MPP = 0.2485|Left = 26.281858|Top = 16.811081|LineCameraSkew = 0.000833|LineAreaXOffset = -0.014041|LineAreaYOffset = 0.000544|Focus Offset = -0.000500|DSR ID = resc3-dsr2|ImageID = 30078|Exposure Time = 109|Exposure Scale = 0.000001|DisplayColor = 0|OriginalWidth = 115000|OriginalHeight = 35567|ICC Profile = ScanScope v1',\n",
       " 'openslide.icc-size': '141992',\n",
       " 'openslide.level-count': '4',\n",
       " 'openslide.level[0].downsample': '1',\n",
       " 'openslide.level[0].height': '35467',\n",
       " 'openslide.level[0].tile-height': '256',\n",
       " 'openslide.level[0].tile-width': '256',\n",
       " 'openslide.level[0].width': '110122',\n",
       " 'openslide.level[1].downsample': '4.0002055096632274',\n",
       " 'openslide.level[1].height': '8866',\n",
       " 'openslide.level[1].tile-height': '256',\n",
       " 'openslide.level[1].tile-width': '256',\n",
       " 'openslide.level[1].width': '27530',\n",
       " 'openslide.level[2].downsample': '16.003208482443078',\n",
       " 'openslide.level[2].height': '2216',\n",
       " 'openslide.level[2].tile-height': '256',\n",
       " 'openslide.level[2].tile-width': '256',\n",
       " 'openslide.level[2].width': '6882',\n",
       " 'openslide.level[3].downsample': '32.006416964886157',\n",
       " 'openslide.level[3].height': '1108',\n",
       " 'openslide.level[3].tile-height': '256',\n",
       " 'openslide.level[3].tile-width': '256',\n",
       " 'openslide.level[3].width': '3441',\n",
       " 'openslide.mpp-x': '0.2485',\n",
       " 'openslide.mpp-y': '0.2485',\n",
       " 'openslide.objective-power': '40',\n",
       " 'openslide.quickhash-1': 'd2c9f5ab4a48cba7c9a0deed8687778e4841b811c028a3ff10bfe6e4045e5e92',\n",
       " 'openslide.vendor': 'aperio',\n",
       " 'tiff.ImageDescription': 'Aperio Image Library v10.2.20\\r\\n115000x35567 [0,100 110122x35467] (256x256) JPEG/RGB Q=30|AppMag = 40|StripeWidth = 1000|ScanScope ID = SS1436CNTLR|Filename = TCGA-AR-A0TQ-01A-01-TSA|Title = TCGA-AR-A0TQ-01A-01-TSA|Date = 09/07/10|Time = 09:11:35|User = 00f5c00f-24a9-41e6-a23f-7085209a268e|Parmset = CHTN FocusRad18 on RESBPCLACIE01|MPP = 0.2485|Left = 26.281858|Top = 16.811081|LineCameraSkew = 0.000833|LineAreaXOffset = -0.014041|LineAreaYOffset = 0.000544|Focus Offset = -0.000500|DSR ID = resc3-dsr2|ImageID = 30078|Exposure Time = 109|Exposure Scale = 0.000001|DisplayColor = 0|OriginalWidth = 115000|OriginalHeight = 35567|ICC Profile = ScanScope v1',\n",
       " 'tiff.ResolutionUnit': 'inch'}"
      ]
     },
     "execution_count": 65,
     "metadata": {},
     "output_type": "execute_result"
    }
   ],
   "source": [
    "wsi = slide.OpenSlide(filename='/mnt/data/RawData/WSI/00cf804f-0136-43c0-88c3-c36690d87875/TCGA-AR-A0TQ-01A-01-TSA.aa243f75-79d1-42b5-958a-6beaf7ae7a86.svs')\n",
    "d = dict(wsi.properties)\n",
    "d\n",
    "\n",
    "# d['aperio.AppMag']"
   ]
  },
  {
   "cell_type": "markdown",
   "metadata": {},
   "source": [
    "## Drop unusable slides\n",
    "\n",
    "Start by checking magnifications for all flagged slides, in case the repaired files contain magnification values. Then drop both slides missing magnification info or with 20x maximum magnification and any patients with no remaining slides."
   ]
  },
  {
   "cell_type": "code",
   "execution_count": null,
   "metadata": {},
   "outputs": [],
   "source": [
    "slide_mags = json.load(open('wsi_magnifications.json'))"
   ]
  },
  {
   "cell_type": "code",
   "execution_count": null,
   "metadata": {},
   "outputs": [],
   "source": [
    "# Any patients with slide paths for which magnification is available?\n",
    "patients_with_failed_slides = []\n",
    "\n",
    "for patient in slide_mags:\n",
    "    mags = slide_mags[patient]\n",
    "    if not isinstance(mags, list):\n",
    "        mags = [mags]\n",
    "    for x in mags:\n",
    "        if x.startswith('20') or x.startswith('40'):\n",
    "            next\n",
    "        else:\n",
    "            patients_with_failed_slides += [patient]"
   ]
  },
  {
   "cell_type": "code",
   "execution_count": null,
   "metadata": {},
   "outputs": [],
   "source": [
    "len(slide_mags) == len(file_map)"
   ]
  },
  {
   "cell_type": "code",
   "execution_count": null,
   "metadata": {},
   "outputs": [],
   "source": [
    "def any_slide_mag(slide_file):\n",
    "    try:\n",
    "        wsi = slide.OpenSlide(filename=slide_file)\n",
    "        d = dict(wsi.properties)\n",
    "        if 'aperio.AppMag' in d.keys():\n",
    "            print(slide_file, d['aperio.AppMag'])\n",
    "    except:\n",
    "        print('Could not open file:', slide_file)\n",
    "\n",
    "for patient in patients_with_failed_slides:\n",
    "    mags = slide_mags[patient]\n",
    "    if not isinstance(mags, list):\n",
    "        mags = [mags]\n",
    "    for mag in mags:\n",
    "        if mag.startswith('20') or mag.startswith('40'):\n",
    "            next\n",
    "        else:\n",
    "            any_slide_mag(mag)"
   ]
  },
  {
   "cell_type": "code",
   "execution_count": null,
   "metadata": {},
   "outputs": [],
   "source": [
    "slides_with_mags = ['/home/luis/net/Isilon/data.isilon/ag-rohr/bq_lsilva/WSI/430dc536-5441-443d-a3e0-159ecaf8fde2/TCGA-G9-A9S4-01Z-00-DX1.847AD7EA-278E-4E78-9465-1CA8229017AA.svs',\n",
    "                    '/home/luis/net/Isilon/data.isilon/ag-rohr/bq_lsilva/WSI/5f6c2a1c-1d87-44b2-bed6-487403d3e9c9/TCGA-ZU-A8S4-01Z-00-DX1.90E3AC43-66E2-41E6-8253-487B95B4D7C9.svs',\n",
    "                    '/home/luis/net/Isilon/data.isilon/ag-rohr/bq_lsilva/WSI/37e9c31f-ea56-482e-a1eb-d1a09bdae491/TCGA-2J-AAB6-01Z-00-DX1.2FC4D66F-BFBB-48FA-AFCB-ABBC12F37E14.svs']\n",
    "\n",
    "\n",
    "for patient, mags in slide_mags.items():\n",
    "    if mags in slides_with_mags:\n",
    "        print(patient)"
   ]
  },
  {
   "cell_type": "code",
   "execution_count": null,
   "metadata": {},
   "outputs": [],
   "source": [
    "slide_mags['TCGA-G9-A9S4'] = '40'\n",
    "slide_mags['TCGA-ZU-A8S4'] = '40'\n",
    "slide_mags['TCGA-2J-AAB6'] = '40'"
   ]
  },
  {
   "cell_type": "markdown",
   "metadata": {},
   "source": [
    "### Drop slides slides missing magnification or with 20x magnification"
   ]
  },
  {
   "cell_type": "code",
   "execution_count": null,
   "metadata": {},
   "outputs": [],
   "source": [
    "# Convert all values to list\n",
    "for patient in slide_mags:\n",
    "    if not isinstance(slide_mags[patient], list):\n",
    "        slide_mags[patient] = [slide_mags[patient]]\n",
    "\n",
    "# Drop 20x values\n",
    "for patient in slide_mags:\n",
    "    slide_mags[patient] = [x for x in slide_mags[patient]\n",
    "                           if not x.startswith('20')]\n",
    "    \n",
    "# Drop file values\n",
    "for patient in slide_mags:\n",
    "    slide_mags[patient] = [x for x in slide_mags[patient]\n",
    "                           if x.startswith('40')]"
   ]
  },
  {
   "cell_type": "markdown",
   "metadata": {},
   "source": [
    "### Drop patients with no remaining slides"
   ]
  },
  {
   "cell_type": "code",
   "execution_count": null,
   "metadata": {},
   "outputs": [],
   "source": [
    "len(slide_mags)"
   ]
  },
  {
   "cell_type": "code",
   "execution_count": null,
   "metadata": {},
   "outputs": [],
   "source": [
    "patients_with_no_slides = []\n",
    "\n",
    "for patient in slide_mags:\n",
    "    if not slide_mags[patient]:\n",
    "        patients_with_no_slides += [patient]"
   ]
  },
  {
   "cell_type": "code",
   "execution_count": null,
   "metadata": {},
   "outputs": [],
   "source": [
    "len(patients_with_no_slides)"
   ]
  },
  {
   "cell_type": "code",
   "execution_count": null,
   "metadata": {},
   "outputs": [],
   "source": [
    "slide_mags = {patient: v for patient, v in slide_mags.items()\n",
    "              if patient not in patients_with_no_slides}"
   ]
  },
  {
   "cell_type": "code",
   "execution_count": null,
   "metadata": {},
   "outputs": [],
   "source": [
    "len(slide_mags)"
   ]
  },
  {
   "cell_type": "code",
   "execution_count": null,
   "metadata": {},
   "outputs": [],
   "source": [
    "len(file_map)"
   ]
  },
  {
   "cell_type": "code",
   "execution_count": null,
   "metadata": {},
   "outputs": [],
   "source": [
    "file_map = {patient: v for patient, v in file_map.items()\n",
    "            if patient in slide_mags}"
   ]
  },
  {
   "cell_type": "code",
   "execution_count": null,
   "metadata": {},
   "outputs": [],
   "source": [
    "len(file_map)"
   ]
  },
  {
   "cell_type": "markdown",
   "metadata": {},
   "source": [
    "# Generate patient files"
   ]
  },
  {
   "cell_type": "code",
   "execution_count": null,
   "metadata": {},
   "outputs": [],
   "source": [
    "eg_file = list(file_map.values())[0]\n",
    "\n",
    "lookup_full_path(eg_file, location_files, location_paths)"
   ]
  },
  {
   "cell_type": "code",
   "execution_count": null,
   "metadata": {},
   "outputs": [],
   "source": [
    "location_paths"
   ]
  },
  {
   "cell_type": "code",
   "execution_count": null,
   "metadata": {},
   "outputs": [],
   "source": [
    "def get_target_dir(patient, base_dirs, id_groups):\n",
    "    if patient in id_groups['train']:\n",
    "        target_dir = os.path.join(base_dir, 'train')\n",
    "    elif patient in id_groups['val']:\n",
    "        target_dir = os.path.join(base_dir, 'val')\n",
    "    elif patient in id_groups['test']:\n",
    "        target_dir = os.path.join(base_dir, 'test')\n",
    "    else:\n",
    "        raise ValueError(f'Patient id {patient} not found in \"id_groups\"!')\n",
    "    \n",
    "    return target_dir"
   ]
  },
  {
   "cell_type": "code",
   "execution_count": null,
   "metadata": {},
   "outputs": [],
   "source": [
    "print('Write patient files:')\n",
    "n = len(file_map)\n",
    "\n",
    "base_dir = '/mnt/data/Processed_Data/WSI/'\n",
    "\n",
    "for i, patient in enumerate(file_map):\n",
    "    print('\\r' + f'{str((i + 1))}/{n}', end='')\n",
    "    \n",
    "    patient_files = file_map[patient]\n",
    "    if not isinstance(patient_files, (tuple, list)):\n",
    "        file_paths = [patient_files]\n",
    "\n",
    "    target_dir = get_target_dir(patient, base_dir, id_groups)\n",
    "    target_file = os.path.join(target_dir, str(patient) + '.txt')\n",
    "\n",
    "    file_paths = [lookup_full_path(file_path, location_files, location_paths)\n",
    "                  for file_path in file_paths if file_path is not None]\n",
    "    \n",
    "    # Remove None (file not yet downloaded...)\n",
    "    file_paths = [f for f in file_paths if f is not None]\n",
    "\n",
    "    with open(target_file, 'w') as f:\n",
    "        f.write('\\n'.join(file_paths))"
   ]
  },
  {
   "cell_type": "code",
   "execution_count": null,
   "metadata": {},
   "outputs": [],
   "source": [
    "print('Write patient files:')\n",
    "n = len(file_map)\n",
    "\n",
    "base_dir = '/mnt/data/Processed_Data/WSI/'\n",
    "\n",
    "for i, patient in enumerate(file_map):\n",
    "    print('\\r' + f'{str((i + 1))}/{n}', end='')\n",
    "    \n",
    "    patient_files = file_map[patient]\n",
    "    if not isinstance(patient_files, (tuple, list)):\n",
    "        file_paths = [patient_files]\n",
    "\n",
    "    target_dir = get_target_dir(patient, base_dir)\n",
    "    target_file = os.path.join(target_dir, str(patient) + '.txt')\n",
    "\n",
    "    file_paths = [lookup_full_path(file_path, location_files, location_paths)\n",
    "                  for file_path in file_paths if file_path is not None]\n",
    "    \n",
    "    # Remove None (file not yet downloaded...)\n",
    "    file_paths = [f for f in file_paths if f is not None]\n",
    "\n",
    "    with open(target_file, 'w') as f:\n",
    "        f.write('\\n'.join(file_paths))"
   ]
  },
  {
   "cell_type": "markdown",
   "metadata": {},
   "source": [
    "# Offline patching\n",
    "\n",
    "Run dedicated script (found in `src/scripts` directory) with a selected input directory at a time.\n",
    "\n",
    "Slide directories:\n",
    "* `/home/luis/net/Isilon/data.isilon/ag-rohr/bq_lsilva/WSI/`\n",
    "* `/home/luis/net/gpu_rig/bq_lsilva/WSI/`\n",
    "* `/mnt/dataB/WSI/`\n",
    "* `/mnt/dataB/nas_copy/data/Projects/imaging_genomics/TCGA_BRCA/diagnostic_slide/`\n",
    "\n",
    "Generate a good number of patches per WSI. For example, 50 patches per slide will yield the following total numbers of patches:\n",
    "* 302'450 for Isilon\n",
    "* 134'600 for GPU rig\n",
    "* 94'600 for `dataB`\n",
    "* 56'650 for BRCA\n",
    "\n",
    "Example command:\n",
    "\n",
    "```bash\n",
    "$ conda activate ig\n",
    "$ python ./wsi_patcher.py \\\n",
    "   -i /home/luis/net/gpu_rig/bq_lsilva/WSI/ \\\n",
    "   -l ../../data/labels.tsv \\\n",
    "   -o /mnt/dataA/TCGA/processed/WSI/tissue_patches/ \\\n",
    "   -n 50\n",
    "```"
   ]
  },
  {
   "cell_type": "markdown",
   "metadata": {},
   "source": [
    "## Count generated patches per slide\n",
    "\n",
    "Sanity check to make sure there is a balanced number of patches per each slide."
   ]
  },
  {
   "cell_type": "code",
   "execution_count": null,
   "metadata": {},
   "outputs": [],
   "source": [
    "base_dir = DATA_LOCATION "
   ]
  },
  {
   "cell_type": "code",
   "execution_count": null,
   "metadata": {},
   "outputs": [],
   "source": [
    "from collections import Counter\n",
    "\n",
    "patches_named_as_slides = ['-'.join(os.path.basename(patch).split('-')[:3])\n",
    "                           for patch in os.listdir(base_dir)]\n",
    "    \n",
    "c = Counter(patches_named_as_slides)"
   ]
  },
  {
   "cell_type": "code",
   "execution_count": null,
   "metadata": {},
   "outputs": [],
   "source": [
    "len([x for x in c if c[x] > 0])"
   ]
  },
  {
   "cell_type": "code",
   "execution_count": null,
   "metadata": {},
   "outputs": [],
   "source": [
    "def how_many_patches_per_patient(patch_dir):\n",
    "    patches_named_as_patients = ['-'.join(patch.split('-')[:3])\n",
    "                                 for patch in os.listdir(patch_dir)]\n",
    "    \n",
    "    c = Counter(patches_named_as_patients)\n",
    "\n",
    "    print(f'# patches: {len(patches_named_as_patients)}')\n",
    "    print(f'# Represented patients: {len(c)}')\n",
    "    unique_counts = set(c.values())\n",
    "    print(f'Unique #s patches per patient: {unique_counts}')"
   ]
  },
  {
   "cell_type": "code",
   "execution_count": null,
   "metadata": {},
   "outputs": [],
   "source": [
    "location_paths = {\n",
    "    'isilon': '/home/luis/net/Isilon/data.isilon/ag-rohr/bq_lsilva/WSI/',\n",
    "    'gpu_rig': '/home/luis/net/gpu_rig/bq_lsilva/WSI/',\n",
    "    'dataB': '/mnt/dataB/WSI/',\n",
    "    'ig': '/mnt/dataB/nas_copy/data/Projects/imaging_genomics/TCGA_BRCA/diagnostic_slide/',\n",
    "}"
   ]
  },
  {
   "cell_type": "code",
   "execution_count": null,
   "metadata": {},
   "outputs": [],
   "source": [
    "%%time\n",
    "\n",
    "location_files = {loc: os.listdir(location_paths[loc]) for loc in location_paths}"
   ]
  },
  {
   "cell_type": "code",
   "execution_count": null,
   "metadata": {},
   "outputs": [],
   "source": [
    "n_files = {loc: len(location_files[loc]) for loc in location_files}\n",
    "n_files"
   ]
  },
  {
   "cell_type": "code",
   "execution_count": null,
   "metadata": {},
   "outputs": [],
   "source": [
    "print('Total # of WSI files:', sum(n_files.values()))"
   ]
  },
  {
   "cell_type": "code",
   "execution_count": null,
   "metadata": {},
   "outputs": [],
   "source": [
    "base_dir = os.path.join(DATA_LOCATION, 'tissue_patches')\n",
    "\n",
    "how_many_patches_per_patient(patch_dir=base_dir)"
   ]
  },
  {
   "cell_type": "markdown",
   "metadata": {},
   "source": [
    "## Generate patient files"
   ]
  },
  {
   "cell_type": "code",
   "execution_count": null,
   "metadata": {},
   "outputs": [],
   "source": [
    "def lookup_full_path(wsi_file, slide_paths, locations):\n",
    "    file_path = None\n",
    "\n",
    "    for location, leaf_dirs in slide_paths.items():\n",
    "        for leaf_dir in leaf_dirs:\n",
    "            if leaf_dir in wsi_file:\n",
    "                file_path = os.path.join(locations[location], wsi_file)\n",
    "\n",
    "    return file_path"
   ]
  },
  {
   "cell_type": "code",
   "execution_count": null,
   "metadata": {},
   "outputs": [],
   "source": [
    "base_dir = os.path.join(DATA_LOCATION, 'tissue_patches')"
   ]
  },
  {
   "cell_type": "code",
   "execution_count": null,
   "metadata": {},
   "outputs": [],
   "source": [
    "list(file_map.values())[0]"
   ]
  },
  {
   "cell_type": "code",
   "execution_count": null,
   "metadata": {},
   "outputs": [],
   "source": [
    "def get_patientid_from(file):\n",
    "    return '-'.join(str.split(file, '-')[:3])\n",
    "\n",
    "def list_patch_files(patient_id, patch_dir):    \n",
    "    patches = []\n",
    "    \n",
    "    for patch_file in os.listdir(patch_dir):\n",
    "        if get_patientid_from(patch_file) == patient:\n",
    "            patches.append(patch_file)\n",
    "    \n",
    "    if not patches:\n",
    "        return None\n",
    "    \n",
    "    return patches"
   ]
  },
  {
   "cell_type": "markdown",
   "metadata": {},
   "source": [
    "Check a couple of example patients."
   ]
  },
  {
   "cell_type": "code",
   "execution_count": null,
   "metadata": {},
   "outputs": [],
   "source": [
    "eg_patient = list(file_map.keys())[0]\n",
    "\n",
    "patient_patches = list_patch_files(eg_patient, base_dir)\n",
    "print(f'Found {len(patient_patches)} patches for patient {eg_patient}.')\n",
    "patient_patches[:5]"
   ]
  },
  {
   "cell_type": "code",
   "execution_count": null,
   "metadata": {},
   "outputs": [],
   "source": [
    "eg_patient = 'TCGA-CJ-4870'\n",
    "\n",
    "patient_patches = list_patch_files(eg_patient, base_dir)\n",
    "print(f'Found {len(patient_patches)} patches for patient {eg_patient}.')\n",
    "patient_patches[:5]"
   ]
  },
  {
   "cell_type": "code",
   "execution_count": null,
   "metadata": {},
   "outputs": [],
   "source": [
    "%%time\n",
    "\n",
    "print('Write patient files:')\n",
    "n = len(file_map)\n",
    "\n",
    "unrepresented_patients = []\n",
    "\n",
    "for i, patient in enumerate(file_map):\n",
    "    print('\\r' + f'{str((i + 1))}/{n}', end='')\n",
    "    \n",
    "    patch_dir = os.path.join(DATA_LOCATION, 'tissue_patches')\n",
    "    patches = list_patch_files(patient, patch_dir)\n",
    "    if patches is None:\n",
    "        unrepresented_patients.append(patient)\n",
    "        continue\n",
    "    \n",
    "    file_paths = [os.path.join(patch_dir, p)\n",
    "                  for p in patches]\n",
    "    \n",
    "    target_file = os.path.join(base_dir, str(patient) + '.tsv')\n",
    "   \n",
    "    with open(target_file, 'w') as f:\n",
    "        f.write('\\n'.join(file_paths))\n",
    "print()"
   ]
  },
  {
   "cell_type": "code",
   "execution_count": null,
   "metadata": {},
   "outputs": [],
   "source": [
    "print('# patients with no patches:')\n",
    "print(len(unrepresented_patients))"
   ]
  },
  {
   "cell_type": "code",
   "execution_count": null,
   "metadata": {},
   "outputs": [],
   "source": [
    "unrepresented_patients"
   ]
  },
  {
   "cell_type": "code",
   "execution_count": null,
   "metadata": {},
   "outputs": [],
   "source": [
    "# Not in selected patients!\n",
    "unrepresented_patients = ['TCGA-5P-A9KC',\n",
    "                          'TCGA-EM-A3AI',\n",
    "                          'TCGA-5P-A9KA',\n",
    "                          'TCGA-R5-A7ZR',\n",
    "                          'TCGA-19-1385']\n",
    "\n",
    "[x in labels.submitter_id for x in unrepresented_patients]"
   ]
  },
  {
   "cell_type": "markdown",
   "metadata": {},
   "source": [
    "## Reorganize directory\n",
    "\n",
    "Create a folder for each represented patient, move respective WSI patches into it, and, finally, update patch paths in patient files containing the list of patches for each patient."
   ]
  },
  {
   "cell_type": "code",
   "execution_count": null,
   "metadata": {},
   "outputs": [],
   "source": [
    "len(os.listdir(DATA_LOCATION))"
   ]
  },
  {
   "cell_type": "code",
   "execution_count": null,
   "metadata": {},
   "outputs": [],
   "source": [
    "os.listdir(DATA_LOCATION)[:5]"
   ]
  },
  {
   "cell_type": "code",
   "execution_count": null,
   "metadata": {},
   "outputs": [],
   "source": [
    "%%time\n",
    "\n",
    "patch_dir = os.path.join(DATA_LOCATION, 'tissue_patches')\n",
    "\n",
    "patient_files = [x for x in os.listdir(DATA_LOCATION)\n",
    "                 if x != 'tissue_patches']  # Avoid patch directory\n",
    "\n",
    "for i, patient_file in enumerate(patient_files):\n",
    "    print(f'\\r' + f'Create patient directories:' +\n",
    "          f' {str((i + 1))}/{len(patient_files)}', end='')\n",
    "    patient = patient_file.split('.')[0]\n",
    "    \n",
    "    # Create patient dir\n",
    "    patient_dir = os.path.join(patch_dir, patient)\n",
    "    os.mkdir(patient_dir)\n",
    "    \n",
    "    # Move patient patches into directory\n",
    "    patient_patches = list_patch_files(patient, patch_dir)\n",
    "    patient_patches = [x for x in patient_patches if '.png' in x]  # Not the dir\n",
    "    \n",
    "    for patch in patient_patches:\n",
    "        os.rename(os.path.join(patch_dir, patch),\n",
    "                  os.path.join(patient_dir, patch))\n",
    "print()\n",
    "print()"
   ]
  },
  {
   "cell_type": "code",
   "execution_count": null,
   "metadata": {},
   "outputs": [],
   "source": [
    "%%time\n",
    "\n",
    "# Update patient files\n",
    "# (add patient directory to paths to patches)\n",
    "patient_files = [x for x in os.listdir(DATA_LOCATION)\n",
    "                 if x != 'tissue_patches']  # Avoid patch directory\n",
    "\n",
    "for i, patient_file in enumerate(patient_files):\n",
    "    print(f'\\r' + f'Update paths in patient files:' +\n",
    "          f' {str((i + 1))}/{len(patient_files)}', end='')\n",
    "    \n",
    "    patient = patient_file.split('.')[0]\n",
    "    \n",
    "    # Collect paths from file\n",
    "    patient_file = os.path.join(DATA_LOCATION, patient_file)\n",
    "    file_paths = [line.rstrip('\\n') for line in open(patient_file)]\n",
    "    \n",
    "    # Add new dir name to path\n",
    "    updated_paths = []\n",
    "    \n",
    "    for path in file_paths:\n",
    "        path, file = path.split('tissue_patches')\n",
    "        updated_path = os.path.join(path, '/tissue_patches/', patient, file)\n",
    "        updated_paths.append(updated_path)\n",
    "    \n",
    "    # Write to patient file    \n",
    "    with open(patient_file, 'w') as f:\n",
    "        f.write('\\n'.join(updated_paths))\n",
    "print()\n",
    "print()"
   ]
  },
  {
   "cell_type": "markdown",
   "metadata": {},
   "source": [
    "Many patches remain that were not moved into specific patient directories. These will not be used by the PyTorch dataset, as they are not listed in specific patient files, so I will just delete them."
   ]
  },
  {
   "cell_type": "code",
   "execution_count": null,
   "metadata": {},
   "outputs": [],
   "source": [
    "patch_dir = os.path.join(DATA_LOCATION, 'tissue_patches')\n",
    "\n",
    "print('Number .png patch files:',\n",
    "      len([x for x in os.listdir(patch_dir) if '.png' in x]))\n",
    "print('Number of patch directories:',\n",
    "      len([x for x in os.listdir(patch_dir) if not '.png' in x]))"
   ]
  },
  {
   "cell_type": "code",
   "execution_count": null,
   "metadata": {},
   "outputs": [],
   "source": [
    "for f in os.listdir(patch_dir):\n",
    "    if '.png' in f:\n",
    "        os.remove(os.path.join(patch_dir, f))"
   ]
  },
  {
   "cell_type": "code",
   "execution_count": null,
   "metadata": {},
   "outputs": [],
   "source": [
    "patch_dir = os.path.join(DATA_LOCATION, 'tissue_patches')\n",
    "\n",
    "print('Number .png patch files:',\n",
    "      len([x for x in os.listdir(patch_dir) if '.png' in x]))\n",
    "print('Number of patch directories:',\n",
    "      len([x for x in os.listdir(patch_dir) if not '.png' in x]))"
   ]
  },
  {
   "cell_type": "markdown",
   "metadata": {},
   "source": [
    "## Delete bad patches\n",
    "\n",
    "Quick visual inspection shows that many patches are not suitable (contain mostly background, ink markings, ...).\n",
    "\n",
    "Use a simple mean intensity filter to remove bad patches."
   ]
  },
  {
   "cell_type": "code",
   "execution_count": null,
   "metadata": {},
   "outputs": [],
   "source": [
    "represented_patients = os.listdir(os.path.join(DATA_LOCATION, 'tissue_patches'))"
   ]
  },
  {
   "cell_type": "code",
   "execution_count": null,
   "metadata": {},
   "outputs": [],
   "source": [
    "len(represented_patients)"
   ]
  },
  {
   "cell_type": "code",
   "execution_count": null,
   "metadata": {},
   "outputs": [],
   "source": [
    "patient_files = os.listdir(DATA_LOCATION)\n",
    "patient_files = [f for f in patient_files if f != 'tissue_patches']\n",
    "print(len(patient_files))"
   ]
  },
  {
   "cell_type": "code",
   "execution_count": null,
   "metadata": {},
   "outputs": [],
   "source": [
    "def list_patient_patches(patient_id):\n",
    "    path = os.path.join(DATA_LOCATION, 'tissue_patches', patient_id)\n",
    "    files = os.listdir(path)\n",
    "    paths = [os.path.join(DATA_LOCATION, 'tissue_patches', patient_id, f)\n",
    "             for f in files]\n",
    "    \n",
    "    return paths\n",
    "\n",
    "def load_patch(path):\n",
    "    return mpimg.imread(path)\n",
    "\n",
    "# from PIL import Image\n",
    "# def load_patch(path):\n",
    "#     return np.array(Image.open(path))\n",
    "\n",
    "def compute_intensity_mean(patch, print_result=False):\n",
    "    means = []\n",
    "\n",
    "    for ch in range(3):\n",
    "        means.append(patch[:, :, ch].mean())\n",
    "        \n",
    "    if print_result:\n",
    "        print('Channel     Mean')\n",
    "        for i, ch in enumerate('RGB'):\n",
    "            print(f'  {ch}       {means[i]:2f}')\n",
    "\n",
    "    return means"
   ]
  },
  {
   "cell_type": "code",
   "execution_count": null,
   "metadata": {},
   "outputs": [],
   "source": [
    "list_patient_patches(patient_id=represented_patients[0])[:5]"
   ]
  },
  {
   "cell_type": "code",
   "execution_count": null,
   "metadata": {},
   "outputs": [],
   "source": [
    "patch = load_patch(list_patient_patches(patient_id=represented_patients[1])[0])\n",
    "means = compute_intensity_mean(patch / 255., print_result=True)"
   ]
  },
  {
   "cell_type": "code",
   "execution_count": null,
   "metadata": {},
   "outputs": [],
   "source": [
    "imgplot = plt.imshow(patch)"
   ]
  },
  {
   "cell_type": "markdown",
   "metadata": {},
   "source": [
    "### Find outliers"
   ]
  },
  {
   "cell_type": "code",
   "execution_count": null,
   "metadata": {},
   "outputs": [],
   "source": [
    "def count_patches(patients):\n",
    "    n = 0\n",
    "\n",
    "    for patient in patients:\n",
    "        n += len(list_patient_patches(patient))\n",
    "    \n",
    "    return n"
   ]
  },
  {
   "cell_type": "code",
   "execution_count": null,
   "metadata": {},
   "outputs": [],
   "source": [
    "patch_count = count_patches(patients=represented_patients)\n",
    "print('Total number of patches:', patch_count)"
   ]
  },
  {
   "cell_type": "raw",
   "metadata": {},
   "source": [
    "def list_outliers(threshold=(0, 1)):\n",
    "    low, high = threshold\n",
    "\n",
    "    outlier_paths = []\n",
    "\n",
    "    for i, patient in enumerate(represented_patients):\n",
    "        print(f'\\r', f'Check all patients: {i}/{len(represented_patients)}',\n",
    "              end='')\n",
    "        patch_files = list_patient_patches(patient)\n",
    "\n",
    "        for patch_file in patch_files:\n",
    "            patch = load_patch(patch_file)\n",
    "            means = compute_intensity_mean(patch, print_result=False)\n",
    "            if not low < means[0] < high:\n",
    "                outlier_paths.append(\n",
    "                    os.path.join(DATA_LOCATION, 'tissue_patches', patient, patch_file))\n",
    "\n",
    "    return outlier_paths"
   ]
  },
  {
   "cell_type": "code",
   "execution_count": null,
   "metadata": {},
   "outputs": [],
   "source": [
    "%%time\n",
    "\n",
    "# Set thresholds by running some patients and looking at results\n",
    "low = 0.35\n",
    "high = 0.9\n",
    "\n",
    "outlier_paths = []\n",
    "\n",
    "for i, patient in enumerate(represented_patients):\n",
    "    print(f'\\r', f'Check all patients: {i}/{len(represented_patients)}',\n",
    "          end='')\n",
    "    patch_files = list_patient_patches(patient)\n",
    "\n",
    "    for patch_file in patch_files:\n",
    "        patch = load_patch(patch_file)\n",
    "        means = compute_intensity_mean(patch, print_result=False)\n",
    "        if not low < means[0] < high:\n",
    "            outlier_paths.append(\n",
    "                os.path.join(DATA_LOCATION, 'tissue_patches', patient, patch_file))"
   ]
  },
  {
   "cell_type": "code",
   "execution_count": null,
   "metadata": {},
   "outputs": [],
   "source": [
    "percent_patches = round(len(outlier_paths) * 100 / patch_count, 1)\n",
    "patients = set([x.split('/')[-2] for x in outlier_paths])\n",
    "percent_patients = round(len(patients) * 100 / len(represented_patients), 1)\n",
    "\n",
    "print(f'{len(outlier_paths)} outlier patches out of {patch_count} ({percent_patches}%)')\n",
    "print(f'from {len(patients)} patients out of {len(represented_patients)} ({percent_patients}%)')"
   ]
  },
  {
   "cell_type": "markdown",
   "metadata": {},
   "source": [
    "### Visualize outlier examples"
   ]
  },
  {
   "cell_type": "code",
   "execution_count": null,
   "metadata": {},
   "outputs": [],
   "source": [
    "import random\n",
    "\n",
    "i = random.randint(0, len(outlier_paths) - 1)\n",
    "outlier_patch = load_patch(outlier_paths[i])\n",
    "means = compute_intensity_mean(outlier_patch, print_result=True)\n",
    "imgplot = plt.imshow(outlier_patch)"
   ]
  },
  {
   "cell_type": "markdown",
   "metadata": {},
   "source": [
    "### Delete outlier patch files"
   ]
  },
  {
   "cell_type": "code",
   "execution_count": null,
   "metadata": {},
   "outputs": [],
   "source": [
    "all_patches = []\n",
    "for pid in represented_patients:\n",
    "    all_patches += list_patient_patches(patient_id=pid)"
   ]
  },
  {
   "cell_type": "code",
   "execution_count": null,
   "metadata": {},
   "outputs": [],
   "source": [
    "len(all_patches)"
   ]
  },
  {
   "cell_type": "code",
   "execution_count": null,
   "metadata": {},
   "outputs": [],
   "source": [
    "def how_many_patches_per_patient(patches):\n",
    "    patches_named_as_patients = ['-'.join(os.path.basename(patch).split('-')[:3])\n",
    "                                 for patch in patches]\n",
    "    \n",
    "    c = Counter(patches_named_as_patients)\n",
    "\n",
    "    print(f'# patches: {len(patches_named_as_patients)}')\n",
    "    print(f'# Represented patients: {len(c)}')\n",
    "    unique_counts = set(c.values())\n",
    "    print(f'Unique #s patches per patient: {unique_counts}')"
   ]
  },
  {
   "cell_type": "code",
   "execution_count": null,
   "metadata": {},
   "outputs": [],
   "source": [
    "how_many_patches_per_patient(all_patches)"
   ]
  },
  {
   "cell_type": "code",
   "execution_count": null,
   "metadata": {},
   "outputs": [],
   "source": [
    "outlier_paths[:5]"
   ]
  },
  {
   "cell_type": "code",
   "execution_count": null,
   "metadata": {},
   "outputs": [],
   "source": [
    "for f in outlier_paths:\n",
    "    os.remove(f)"
   ]
  },
  {
   "cell_type": "code",
   "execution_count": null,
   "metadata": {},
   "outputs": [],
   "source": [
    "count_patches(patients=represented_patients)"
   ]
  },
  {
   "cell_type": "code",
   "execution_count": null,
   "metadata": {},
   "outputs": [],
   "source": [
    "len(all_patches) - len(outlier_paths)"
   ]
  },
  {
   "cell_type": "markdown",
   "metadata": {},
   "source": [
    "### Generate patient files\n",
    "\n",
    "Update patient files to account for deleted patches."
   ]
  },
  {
   "cell_type": "code",
   "execution_count": null,
   "metadata": {},
   "outputs": [],
   "source": [
    "all_patches = []\n",
    "for pid in represented_patients:\n",
    "    all_patches += list_patient_patches(patient_id=pid)"
   ]
  },
  {
   "cell_type": "code",
   "execution_count": null,
   "metadata": {},
   "outputs": [],
   "source": [
    "all_patches_ids = list(set(['-'.join(os.path.basename(patch).split('-')[:3])\n",
    "                            for patch in all_patches]))\n",
    "\n",
    "for pid in represented_patients:\n",
    "    if not pid in all_patches_ids:\n",
    "        print(pid, 'no longer among represented patients')"
   ]
  },
  {
   "cell_type": "code",
   "execution_count": null,
   "metadata": {},
   "outputs": [],
   "source": [
    "len(all_patches)"
   ]
  },
  {
   "cell_type": "code",
   "execution_count": null,
   "metadata": {},
   "outputs": [],
   "source": [
    "# Remove previous patient files\n",
    "for f in os.listdir(DATA_LOCATION):\n",
    "    if f != 'tissue_patches':\n",
    "        os.remove(os.path.join(DATA_LOCATION, f))"
   ]
  },
  {
   "cell_type": "code",
   "execution_count": null,
   "metadata": {},
   "outputs": [],
   "source": [
    "os.listdir(DATA_LOCATION)"
   ]
  },
  {
   "cell_type": "code",
   "execution_count": null,
   "metadata": {},
   "outputs": [],
   "source": [
    "patient_patch_map = {}\n",
    "\n",
    "previous_id = None\n",
    "\n",
    "for patch_path in all_patches:\n",
    "    pid = '-'.join(os.path.basename(patch_path).split('-')[:3])\n",
    "    \n",
    "    if not pid in patient_patch_map.keys():\n",
    "        patient_patch_map[pid] = [patch_path]\n",
    "    else:\n",
    "        patient_patch_map[pid].append(patch_path)"
   ]
  },
  {
   "cell_type": "code",
   "execution_count": null,
   "metadata": {},
   "outputs": [],
   "source": [
    "len(patient_patch_map)"
   ]
  },
  {
   "cell_type": "code",
   "execution_count": null,
   "metadata": {},
   "outputs": [],
   "source": [
    "%%time\n",
    "\n",
    "print('Write patient files:')\n",
    "\n",
    "base_dir = '/mnt/dataA/TCGA/processed/WSI/'\n",
    "n = len(patient_patch_map)\n",
    "\n",
    "for i, (patient, files) in enumerate(patient_patch_map.items()):\n",
    "    print('\\r' + f'{str((i + 1))}/{n}', end='')\n",
    "    \n",
    "    target_file = os.path.join(DATA_LOCATION, str(patient) + '.txt')\n",
    "\n",
    "    with open(target_file, 'w') as f:\n",
    "        f.write('\\n'.join(patient_files))\n",
    "print()"
   ]
  },
  {
   "cell_type": "code",
   "execution_count": null,
   "metadata": {},
   "outputs": [],
   "source": [
    "len([x for x in os.listdir(DATA_LOCATION) if x != 'tissue_patches'])"
   ]
  },
  {
   "cell_type": "markdown",
   "metadata": {},
   "source": [
    "# Compute patch mean and std\n",
    "\n",
    "Since the mean and standard deviation values of the WSI patches may differ from the ImageNet values provided by PyTorch, compute here sensible overall values from the dataset.\n",
    "\n",
    "The dataloader samples random examples from each patient's available patches, so run through full dataloader a couple of times to check variability."
   ]
  },
  {
   "cell_type": "code",
   "execution_count": null,
   "metadata": {},
   "outputs": [],
   "source": [
    "import sys\n",
    "\n",
    "# Make modules in \"src\" dir visible\n",
    "if os.getcwd() not in sys.path:\n",
    "    sys.path.append(os.path.join(os.getcwd(), os.pardir, 'src'))\n",
    "\n",
    "import utils"
   ]
  },
  {
   "cell_type": "code",
   "execution_count": null,
   "metadata": {},
   "outputs": [],
   "source": [
    "os.path.join(DATA_LOCATION, os.pardir)"
   ]
  },
  {
   "cell_type": "code",
   "execution_count": null,
   "metadata": {},
   "outputs": [],
   "source": [
    "dataloaders = utils.get_dataloaders(data_location=os.path.join(DATA_LOCATION, os.pardir),\n",
    "                                    labels_file='labels.tsv',\n",
    "                                    modalities=['wsi'],\n",
    "                                    wsi_patch_size=299,\n",
    "                                    n_wsi_patches=1,\n",
    "                                    batch_size=32,\n",
    "#                                     exclude_patients=exclude_cancers\n",
    "                                   )"
   ]
  },
  {
   "cell_type": "code",
   "execution_count": null,
   "metadata": {},
   "outputs": [],
   "source": [
    "for x in dataloaders['train']:\n",
    "    print(x[0]['wsi'].shape)\n",
    "    break"
   ]
  },
  {
   "cell_type": "code",
   "execution_count": null,
   "metadata": {},
   "outputs": [],
   "source": [
    "x[0]['wsi'][:, :, 0, :, :].mean()"
   ]
  },
  {
   "cell_type": "code",
   "execution_count": null,
   "metadata": {},
   "outputs": [],
   "source": [
    "x[0]['wsi'][:, :, 1, :, :].mean()"
   ]
  },
  {
   "cell_type": "code",
   "execution_count": null,
   "metadata": {},
   "outputs": [],
   "source": [
    "x[0]['wsi'][:, :, 2, :, :].mean()"
   ]
  },
  {
   "cell_type": "code",
   "execution_count": null,
   "metadata": {},
   "outputs": [],
   "source": [
    "x[0]['wsi'].shape[0]"
   ]
  },
  {
   "cell_type": "code",
   "execution_count": null,
   "metadata": {},
   "outputs": [],
   "source": [
    "import torch\n",
    "from tqdm.notebook import tqdm\n",
    "\n",
    "def compute_wsi_patch_stats(data_loader=dataloaders['train']):\n",
    "    n_channels = 3\n",
    "    n = len(data_loader.dataset)\n",
    "\n",
    "    mean = torch.zeros(n_channels)\n",
    "    std = torch.zeros(n_channels)\n",
    "\n",
    "    print('Computing mean and std..')\n",
    "    for minibatch in tqdm(data_loader):\n",
    "        for j in range(minibatch[0]['wsi'].shape[0]):  # each individual patch\n",
    "            for i in range(n_channels):\n",
    "                mean_value = minibatch[0]['wsi'][:, :, i, :, :].mean()\n",
    "                if mean_value > 0.1:  # avoid all-zero patches (missing data)\n",
    "                    mean[i] += mean_value\n",
    "                    std[i] += minibatch[0]['wsi'][:, :, i, :, :].std()\n",
    "    mean.div_(n)\n",
    "    std.div_(n)\n",
    "    print(mean, std)\n",
    "    \n",
    "    return mean, std"
   ]
  },
  {
   "cell_type": "code",
   "execution_count": null,
   "metadata": {},
   "outputs": [],
   "source": [
    "multiple_run_means = []\n",
    "multiple_run_stds = []"
   ]
  },
  {
   "cell_type": "code",
   "execution_count": null,
   "metadata": {},
   "outputs": [],
   "source": [
    "%%time\n",
    "\n",
    "n_runs = 5\n",
    "\n",
    "for _ in tqdm(range(n_runs)):\n",
    "    mean, std = compute_wsi_patch_stats(data_loader=dataloaders['train'])\n",
    "    \n",
    "    multiple_run_means.append(mean)\n",
    "    multiple_run_stds.append(std)\n",
    "print()"
   ]
  },
  {
   "cell_type": "code",
   "execution_count": null,
   "metadata": {},
   "outputs": [],
   "source": [
    "print('          -- Means --' + ' ' * 24 + '-- STDs --')\n",
    "for i in range(len(multiple_run_means)):\n",
    "    print(multiple_run_means[i], ' ', multiple_run_stds[i])"
   ]
  },
  {
   "cell_type": "markdown",
   "metadata": {},
   "source": [
    "# Watermark <a class='tocSkip'></a>"
   ]
  },
  {
   "cell_type": "code",
   "execution_count": null,
   "metadata": {},
   "outputs": [],
   "source": [
    "%watermark --iversions\n",
    "%watermark -v\n",
    "print()\n",
    "%watermark -u -n"
   ]
  },
  {
   "cell_type": "markdown",
   "metadata": {},
   "source": [
    "[Top of the page](#Top)"
   ]
  }
 ],
 "metadata": {
  "kernelspec": {
   "display_name": "Python 3 (ipykernel)",
   "language": "python",
   "name": "python3"
  },
  "language_info": {
   "codemirror_mode": {
    "name": "ipython",
    "version": 3
   },
   "file_extension": ".py",
   "mimetype": "text/x-python",
   "name": "python",
   "nbconvert_exporter": "python",
   "pygments_lexer": "ipython3",
   "version": "3.8.20"
  },
  "toc": {
   "base_numbering": 1,
   "nav_menu": {
    "height": "197px",
    "width": "372px"
   },
   "number_sections": true,
   "sideBar": true,
   "skip_h1_title": false,
   "title_cell": "Table of Contents",
   "title_sidebar": "Contents",
   "toc_cell": true,
   "toc_position": {
    "height": "calc(100% - 180px)",
    "left": "10px",
    "top": "150px",
    "width": "298px"
   },
   "toc_section_display": true,
   "toc_window_display": true
  }
 },
 "nbformat": 4,
 "nbformat_minor": 4
}
