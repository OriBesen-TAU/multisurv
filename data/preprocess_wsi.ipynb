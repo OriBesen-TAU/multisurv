{
 "cells": [
  {
   "cell_type": "markdown",
   "metadata": {},
   "source": [
    "<a id='Top'></a>\n",
    "\n",
    "# Prepare imaging data <a class='tocSkip'></a>\n",
    "\n",
    "Use an offline patching scheme to sample patches from whole-slide images (WSIs) ahead of model training/testing. Generate a file per patient (as for other data modalities), but containing the file names of image patches sampled from that patient's WSI `.svs` files, rather than the data. These are used by the PyTorch dataset to load patient image patches."
   ]
  },
  {
   "cell_type": "code",
   "execution_count": 4,
   "metadata": {
    "code_folding": []
   },
   "outputs": [],
   "source": [
    "%load_ext autoreload\n",
    "%autoreload 2\n",
    "\n",
    "%load_ext watermark\n",
    "import os\n",
    "from io import StringIO\n",
    "import json\n",
    "from collections import Counter\n",
    "\n",
    "import numpy as np\n",
    "import pandas as pd\n",
    "import matplotlib.pyplot as plt\n",
    "import matplotlib.image as mpimg\n",
    "import requests\n",
    "import openslide as slide"
   ]
  },
  {
   "cell_type": "code",
   "execution_count": 5,
   "metadata": {},
   "outputs": [],
   "source": [
    "DATA_LOCATION = '/mnt/data/Processed_Data/WSI/'"
   ]
  },
  {
   "cell_type": "markdown",
   "metadata": {
    "toc": true
   },
   "source": [
    "<h1>Table of Contents<span class=\"tocSkip\"></span></h1>\n",
    "<div class=\"toc\"><ul class=\"toc-item\"><li><span><a href=\"#Subset-manifest-file\" data-toc-modified-id=\"Subset-manifest-file-1\"><span class=\"toc-item-num\">1&nbsp;&nbsp;</span>Subset manifest file</a></span></li><li><span><a href=\"#Map-files-to-patients\" data-toc-modified-id=\"Map-files-to-patients-2\"><span class=\"toc-item-num\">2&nbsp;&nbsp;</span>Map files to patients</a></span><ul class=\"toc-item\"><li><span><a href=\"#Drop-unused-patients\" data-toc-modified-id=\"Drop-unused-patients-2.1\"><span class=\"toc-item-num\">2.1&nbsp;&nbsp;</span>Drop unused patients</a></span></li></ul></li><li><span><a href=\"#Slides-with-max-20x-magnification\" data-toc-modified-id=\"Slides-with-max-20x-magnification-3\"><span class=\"toc-item-num\">3&nbsp;&nbsp;</span>Slides with max 20x magnification</a></span><ul class=\"toc-item\"><li><span><a href=\"#Collect-slide-magnifications\" data-toc-modified-id=\"Collect-slide-magnifications-3.1\"><span class=\"toc-item-num\">3.1&nbsp;&nbsp;</span>Collect slide magnifications</a></span></li><li><span><a href=\"#Save-slide-magnifications-to-file\" data-toc-modified-id=\"Save-slide-magnifications-to-file-3.2\"><span class=\"toc-item-num\">3.2&nbsp;&nbsp;</span>Save slide magnifications to file</a></span></li><li><span><a href=\"#Check-unread-slides\" data-toc-modified-id=\"Check-unread-slides-3.3\"><span class=\"toc-item-num\">3.3&nbsp;&nbsp;</span>Check unread slides</a></span></li><li><span><a href=\"#Drop-unusable-slides\" data-toc-modified-id=\"Drop-unusable-slides-3.4\"><span class=\"toc-item-num\">3.4&nbsp;&nbsp;</span>Drop unusable slides</a></span><ul class=\"toc-item\"><li><span><a href=\"#Drop-slides-slides-missing-magnification-or-with-20x-magnification\" data-toc-modified-id=\"Drop-slides-slides-missing-magnification-or-with-20x-magnification-3.4.1\"><span class=\"toc-item-num\">3.4.1&nbsp;&nbsp;</span>Drop slides slides missing magnification or with 20x magnification</a></span></li><li><span><a href=\"#Drop-patients-with-no-remaining-slides\" data-toc-modified-id=\"Drop-patients-with-no-remaining-slides-3.4.2\"><span class=\"toc-item-num\">3.4.2&nbsp;&nbsp;</span>Drop patients with no remaining slides</a></span></li></ul></li></ul></li><li><span><a href=\"#Generate-patient-files\" data-toc-modified-id=\"Generate-patient-files-4\"><span class=\"toc-item-num\">4&nbsp;&nbsp;</span>Generate patient files</a></span></li><li><span><a href=\"#Offline-patching\" data-toc-modified-id=\"Offline-patching-5\"><span class=\"toc-item-num\">5&nbsp;&nbsp;</span>Offline patching</a></span><ul class=\"toc-item\"><li><span><a href=\"#Count-generated-patches-per-slide\" data-toc-modified-id=\"Count-generated-patches-per-slide-5.1\"><span class=\"toc-item-num\">5.1&nbsp;&nbsp;</span>Count generated patches per slide</a></span></li><li><span><a href=\"#Generate-patient-files\" data-toc-modified-id=\"Generate-patient-files-5.2\"><span class=\"toc-item-num\">5.2&nbsp;&nbsp;</span>Generate patient files</a></span></li><li><span><a href=\"#Reorganize-directory\" data-toc-modified-id=\"Reorganize-directory-5.3\"><span class=\"toc-item-num\">5.3&nbsp;&nbsp;</span>Reorganize directory</a></span></li><li><span><a href=\"#Delete-bad-patches\" data-toc-modified-id=\"Delete-bad-patches-5.4\"><span class=\"toc-item-num\">5.4&nbsp;&nbsp;</span>Delete bad patches</a></span><ul class=\"toc-item\"><li><span><a href=\"#Find-outliers\" data-toc-modified-id=\"Find-outliers-5.4.1\"><span class=\"toc-item-num\">5.4.1&nbsp;&nbsp;</span>Find outliers</a></span></li><li><span><a href=\"#Visualize-outlier-examples\" data-toc-modified-id=\"Visualize-outlier-examples-5.4.2\"><span class=\"toc-item-num\">5.4.2&nbsp;&nbsp;</span>Visualize outlier examples</a></span></li><li><span><a href=\"#Delete-outlier-patch-files\" data-toc-modified-id=\"Delete-outlier-patch-files-5.4.3\"><span class=\"toc-item-num\">5.4.3&nbsp;&nbsp;</span>Delete outlier patch files</a></span></li><li><span><a href=\"#Generate-patient-files\" data-toc-modified-id=\"Generate-patient-files-5.4.4\"><span class=\"toc-item-num\">5.4.4&nbsp;&nbsp;</span>Generate patient files</a></span></li></ul></li></ul></li><li><span><a href=\"#Compute-patch-mean-and-std\" data-toc-modified-id=\"Compute-patch-mean-and-std-6\"><span class=\"toc-item-num\">6&nbsp;&nbsp;</span>Compute patch mean and std</a></span></li></ul></div>"
   ]
  },
  {
   "cell_type": "code",
   "execution_count": 9,
   "metadata": {},
   "outputs": [],
   "source": [
    "downloaded_samples = '/mnt/data/RawData/WSI'"
   ]
  },
  {
   "cell_type": "code",
   "execution_count": 10,
   "metadata": {},
   "outputs": [
    {
     "data": {
      "text/plain": [
       "21"
      ]
     },
     "execution_count": 10,
     "metadata": {},
     "output_type": "execute_result"
    }
   ],
   "source": [
    "len(downloaded_samples)"
   ]
  },
  {
   "cell_type": "code",
   "execution_count": 11,
   "metadata": {},
   "outputs": [
    {
     "name": "stdout",
     "output_type": "stream",
     "text": [
      "5416\n"
     ]
    }
   ],
   "source": [
    "complete_files = []\n",
    "index = 0\n",
    "for folder in os.listdir(downloaded_samples):\n",
    "    folder_path = os.path.join(downloaded_samples, folder)\n",
    "    if not os.path.isdir(folder_path):\n",
    "        continue\n",
    "\n",
    "    for f in os.listdir(folder_path):\n",
    "        if 'partial' in f.lower() or f.lower().endswith('.partial'):\n",
    "            continue\n",
    "        else:\n",
    "            complete_files.append(folder)\n",
    "    index+=1\n",
    "print(len(complete_files))"
   ]
  },
  {
   "cell_type": "code",
   "execution_count": 12,
   "metadata": {},
   "outputs": [],
   "source": [
    "manifest_file = os.path.join('/app/data/manifests/',\n",
    "                             'gdc_manifest.2025-06-01-wsi.txt')\n",
    "manifest = pd.read_csv(manifest_file, sep='\\t', index_col='id')"
   ]
  },
  {
   "cell_type": "code",
   "execution_count": 14,
   "metadata": {},
   "outputs": [
    {
     "data": {
      "text/plain": [
       "(3102, 4)"
      ]
     },
     "execution_count": 14,
     "metadata": {},
     "output_type": "execute_result"
    }
   ],
   "source": [
    "manifest.shape"
   ]
  },
  {
   "cell_type": "code",
   "execution_count": 15,
   "metadata": {},
   "outputs": [
    {
     "data": {
      "text/plain": [
       "(208, 4)"
      ]
     },
     "execution_count": 15,
     "metadata": {},
     "output_type": "execute_result"
    }
   ],
   "source": [
    "manifest[~manifest.index.isin(complete_files)].shape"
   ]
  },
  {
   "cell_type": "code",
   "execution_count": 16,
   "metadata": {},
   "outputs": [
    {
     "data": {
      "text/plain": [
       "(208, 4)"
      ]
     },
     "execution_count": 16,
     "metadata": {},
     "output_type": "execute_result"
    }
   ],
   "source": [
    "sub_manifest = manifest[~manifest.index.isin(complete_files)]\n",
    "sub_manifest.shape"
   ]
  },
  {
   "cell_type": "code",
   "execution_count": 17,
   "metadata": {},
   "outputs": [],
   "source": [
    "sub_manifest.reset_index(level=0, inplace=True)"
   ]
  },
  {
   "cell_type": "code",
   "execution_count": 18,
   "metadata": {},
   "outputs": [
    {
     "data": {
      "text/html": [
       "<div>\n",
       "<style scoped>\n",
       "    .dataframe tbody tr th:only-of-type {\n",
       "        vertical-align: middle;\n",
       "    }\n",
       "\n",
       "    .dataframe tbody tr th {\n",
       "        vertical-align: top;\n",
       "    }\n",
       "\n",
       "    .dataframe thead th {\n",
       "        text-align: right;\n",
       "    }\n",
       "</style>\n",
       "<table border=\"1\" class=\"dataframe\">\n",
       "  <thead>\n",
       "    <tr style=\"text-align: right;\">\n",
       "      <th></th>\n",
       "      <th>id</th>\n",
       "      <th>filename</th>\n",
       "      <th>md5</th>\n",
       "      <th>size</th>\n",
       "      <th>state</th>\n",
       "    </tr>\n",
       "  </thead>\n",
       "  <tbody>\n",
       "    <tr>\n",
       "      <th>0</th>\n",
       "      <td>aa3f0051-ea7f-47f2-a7aa-315c1bdc3f18</td>\n",
       "      <td>TCGA-BH-A0C1-01Z-00-DX1.21FE357E-B182-4397-BFE...</td>\n",
       "      <td>8a43d85058bb6bc2fc00d485cf92e1c1</td>\n",
       "      <td>992971003</td>\n",
       "      <td>released</td>\n",
       "    </tr>\n",
       "    <tr>\n",
       "      <th>1</th>\n",
       "      <td>2449ff02-6925-4f25-9074-7c5fbeab0bd2</td>\n",
       "      <td>TCGA-AC-A23G-01Z-00-DX1.2F0326F7-6B77-4B3F-B4F...</td>\n",
       "      <td>69577c95f8b87e992df71f0bcf3d0635</td>\n",
       "      <td>41783236</td>\n",
       "      <td>released</td>\n",
       "    </tr>\n",
       "    <tr>\n",
       "      <th>2</th>\n",
       "      <td>8daf3c99-e481-4c05-bd7e-30bf7529b530</td>\n",
       "      <td>TCGA-AC-A2QI-01A-01-TSA.4BA73556-9C89-4F0F-AAD...</td>\n",
       "      <td>585602e8d93025e99b378619ec5683fc</td>\n",
       "      <td>249632343</td>\n",
       "      <td>released</td>\n",
       "    </tr>\n",
       "  </tbody>\n",
       "</table>\n",
       "</div>"
      ],
      "text/plain": [
       "                                     id  \\\n",
       "0  aa3f0051-ea7f-47f2-a7aa-315c1bdc3f18   \n",
       "1  2449ff02-6925-4f25-9074-7c5fbeab0bd2   \n",
       "2  8daf3c99-e481-4c05-bd7e-30bf7529b530   \n",
       "\n",
       "                                            filename  \\\n",
       "0  TCGA-BH-A0C1-01Z-00-DX1.21FE357E-B182-4397-BFE...   \n",
       "1  TCGA-AC-A23G-01Z-00-DX1.2F0326F7-6B77-4B3F-B4F...   \n",
       "2  TCGA-AC-A2QI-01A-01-TSA.4BA73556-9C89-4F0F-AAD...   \n",
       "\n",
       "                                md5       size     state  \n",
       "0  8a43d85058bb6bc2fc00d485cf92e1c1  992971003  released  \n",
       "1  69577c95f8b87e992df71f0bcf3d0635   41783236  released  \n",
       "2  585602e8d93025e99b378619ec5683fc  249632343  released  "
      ]
     },
     "execution_count": 18,
     "metadata": {},
     "output_type": "execute_result"
    }
   ],
   "source": [
    "sub_manifest.head(3)"
   ]
  },
  {
   "cell_type": "code",
   "execution_count": 19,
   "metadata": {},
   "outputs": [],
   "source": [
    "sub_manifest_file = os.path.join('/app/data/manifests/',\n",
    "                             'gdc_manifest.2025-06-01-wsi_subset.txt')\n",
    "sub_manifest.to_csv(sub_manifest_file, sep='\\t', index=False)"
   ]
  },
  {
   "cell_type": "markdown",
   "metadata": {},
   "source": [
    "# Map files to patients\n",
    "\n",
    "Use the [GDC API](https://docs.gdc.cancer.gov/API/Users_Guide/Python_Examples/#using-python-to-query-the-gdc-api) to retrieve mapping between file names and patient IDs. Collect results as Pandas `DataFrame`."
   ]
  },
  {
   "cell_type": "code",
   "execution_count": 35,
   "metadata": {},
   "outputs": [],
   "source": [
    "def request_file_info(data_type):\n",
    "    fields = [\n",
    "        \"file_name\",\n",
    "        \"cases.submitter_id\",\n",
    "        \"cases.samples.sample_type\",\n",
    "        \"cases.project.project_id\",\n",
    "        \"cases.project.primary_site\",\n",
    "        ]\n",
    "\n",
    "    fields = \",\".join(fields)\n",
    "\n",
    "    files_endpt = \"https://api.gdc.cancer.gov/files\"\n",
    "\n",
    "    filters = {\n",
    "        \"op\": \"and\",\n",
    "        \"content\":[\n",
    "            {\n",
    "            \"op\": \"in\",\n",
    "            \"content\":{\n",
    "                \"field\": \"files.experimental_strategy\",\n",
    "                \"value\": [data_type]\n",
    "                }\n",
    "            }\n",
    "        ]\n",
    "    }\n",
    "\n",
    "    params = {\n",
    "        \"filters\": filters,\n",
    "        \"fields\": fields,\n",
    "        \"format\": \"TSV\",\n",
    "        \"size\": \"200000\"\n",
    "        }\n",
    "\n",
    "    response = requests.post(files_endpt, headers = {\"Content-Type\": \"application/json\"}, json = params)\n",
    "\n",
    "    return pd.read_csv(StringIO(response.content.decode(\"utf-8\")), sep=\"\\t\")"
   ]
  },
  {
   "cell_type": "code",
   "execution_count": 36,
   "metadata": {},
   "outputs": [
    {
     "data": {
      "text/plain": [
       "(11766, 7)"
      ]
     },
     "execution_count": 36,
     "metadata": {},
     "output_type": "execute_result"
    }
   ],
   "source": [
    "wsi_files = request_file_info(data_type='Diagnostic Slide')\n",
    "wsi_files.shape"
   ]
  },
  {
   "cell_type": "code",
   "execution_count": 37,
   "metadata": {},
   "outputs": [
    {
     "data": {
      "text/html": [
       "<div>\n",
       "<style scoped>\n",
       "    .dataframe tbody tr th:only-of-type {\n",
       "        vertical-align: middle;\n",
       "    }\n",
       "\n",
       "    .dataframe tbody tr th {\n",
       "        vertical-align: top;\n",
       "    }\n",
       "\n",
       "    .dataframe thead th {\n",
       "        text-align: right;\n",
       "    }\n",
       "</style>\n",
       "<table border=\"1\" class=\"dataframe\">\n",
       "  <thead>\n",
       "    <tr style=\"text-align: right;\">\n",
       "      <th></th>\n",
       "      <th>cases.0.project.primary_site</th>\n",
       "      <th>cases.0.project.project_id</th>\n",
       "      <th>cases.0.samples.0.sample_type</th>\n",
       "      <th>cases.0.samples.1.sample_type</th>\n",
       "      <th>cases.0.submitter_id</th>\n",
       "      <th>file_name</th>\n",
       "      <th>id</th>\n",
       "    </tr>\n",
       "  </thead>\n",
       "  <tbody>\n",
       "    <tr>\n",
       "      <th>0</th>\n",
       "      <td>Breast</td>\n",
       "      <td>TCGA-BRCA</td>\n",
       "      <td>Primary Tumor</td>\n",
       "      <td>NaN</td>\n",
       "      <td>TCGA-BH-A0C1</td>\n",
       "      <td>TCGA-BH-A0C1-01Z-00-DX1.21FE357E-B182-4397-BFE...</td>\n",
       "      <td>aa3f0051-ea7f-47f2-a7aa-315c1bdc3f18</td>\n",
       "    </tr>\n",
       "    <tr>\n",
       "      <th>1</th>\n",
       "      <td>Breast</td>\n",
       "      <td>TCGA-BRCA</td>\n",
       "      <td>Primary Tumor</td>\n",
       "      <td>NaN</td>\n",
       "      <td>TCGA-EW-A1P1</td>\n",
       "      <td>TCGA-EW-A1P1-01Z-00-DX1.4B670029-4B3B-4D76-8EA...</td>\n",
       "      <td>a779fff9-b54a-4c18-936f-43f75119b9ad</td>\n",
       "    </tr>\n",
       "    <tr>\n",
       "      <th>2</th>\n",
       "      <td>Breast</td>\n",
       "      <td>TCGA-BRCA</td>\n",
       "      <td>Primary Tumor</td>\n",
       "      <td>NaN</td>\n",
       "      <td>TCGA-E9-A5FL</td>\n",
       "      <td>TCGA-E9-A5FL-01Z-00-DX1.FB810D6A-303E-45DF-BEF...</td>\n",
       "      <td>e5806a73-54c4-43d1-a44b-db5f43c8e832</td>\n",
       "    </tr>\n",
       "    <tr>\n",
       "      <th>3</th>\n",
       "      <td>Breast</td>\n",
       "      <td>TCGA-BRCA</td>\n",
       "      <td>Primary Tumor</td>\n",
       "      <td>NaN</td>\n",
       "      <td>TCGA-AC-A23G</td>\n",
       "      <td>TCGA-AC-A23G-01Z-00-DX1.2F0326F7-6B77-4B3F-B4F...</td>\n",
       "      <td>2449ff02-6925-4f25-9074-7c5fbeab0bd2</td>\n",
       "    </tr>\n",
       "    <tr>\n",
       "      <th>4</th>\n",
       "      <td>Breast</td>\n",
       "      <td>TCGA-BRCA</td>\n",
       "      <td>Primary Tumor</td>\n",
       "      <td>NaN</td>\n",
       "      <td>TCGA-AO-A1KO</td>\n",
       "      <td>TCGA-AO-A1KO-01Z-00-DX1.EEB5E0A0-92B2-42CD-9F7...</td>\n",
       "      <td>03a7acd9-178a-4165-9588-fa63e46f3387</td>\n",
       "    </tr>\n",
       "  </tbody>\n",
       "</table>\n",
       "</div>"
      ],
      "text/plain": [
       "  cases.0.project.primary_site cases.0.project.project_id  \\\n",
       "0                       Breast                  TCGA-BRCA   \n",
       "1                       Breast                  TCGA-BRCA   \n",
       "2                       Breast                  TCGA-BRCA   \n",
       "3                       Breast                  TCGA-BRCA   \n",
       "4                       Breast                  TCGA-BRCA   \n",
       "\n",
       "  cases.0.samples.0.sample_type cases.0.samples.1.sample_type  \\\n",
       "0                 Primary Tumor                           NaN   \n",
       "1                 Primary Tumor                           NaN   \n",
       "2                 Primary Tumor                           NaN   \n",
       "3                 Primary Tumor                           NaN   \n",
       "4                 Primary Tumor                           NaN   \n",
       "\n",
       "  cases.0.submitter_id                                          file_name  \\\n",
       "0         TCGA-BH-A0C1  TCGA-BH-A0C1-01Z-00-DX1.21FE357E-B182-4397-BFE...   \n",
       "1         TCGA-EW-A1P1  TCGA-EW-A1P1-01Z-00-DX1.4B670029-4B3B-4D76-8EA...   \n",
       "2         TCGA-E9-A5FL  TCGA-E9-A5FL-01Z-00-DX1.FB810D6A-303E-45DF-BEF...   \n",
       "3         TCGA-AC-A23G  TCGA-AC-A23G-01Z-00-DX1.2F0326F7-6B77-4B3F-B4F...   \n",
       "4         TCGA-AO-A1KO  TCGA-AO-A1KO-01Z-00-DX1.EEB5E0A0-92B2-42CD-9F7...   \n",
       "\n",
       "                                     id  \n",
       "0  aa3f0051-ea7f-47f2-a7aa-315c1bdc3f18  \n",
       "1  a779fff9-b54a-4c18-936f-43f75119b9ad  \n",
       "2  e5806a73-54c4-43d1-a44b-db5f43c8e832  \n",
       "3  2449ff02-6925-4f25-9074-7c5fbeab0bd2  \n",
       "4  03a7acd9-178a-4165-9588-fa63e46f3387  "
      ]
     },
     "execution_count": 37,
     "metadata": {},
     "output_type": "execute_result"
    }
   ],
   "source": [
    "wsi_files.head()"
   ]
  },
  {
   "cell_type": "code",
   "execution_count": 38,
   "metadata": {},
   "outputs": [
    {
     "data": {
      "text/plain": [
       "(1132, 7)"
      ]
     },
     "execution_count": 38,
     "metadata": {},
     "output_type": "execute_result"
    }
   ],
   "source": [
    "wsi_files = wsi_files[wsi_files['cases.0.project.project_id'].str.startswith('TCGA-BRCA')]\n",
    "wsi_files = wsi_files[wsi_files['file_name'].str.endswith('.svs')]\n",
    "wsi_files = wsi_files[wsi_files['cases.0.samples.0.sample_type'] == 'Primary Tumor']\n",
    "wsi_files.shape"
   ]
  },
  {
   "cell_type": "code",
   "execution_count": 39,
   "metadata": {},
   "outputs": [
    {
     "name": "stdout",
     "output_type": "stream",
     "text": [
      "All rows:        1132\n",
      "Unique patients: 1061\n"
     ]
    }
   ],
   "source": [
    "print('All rows:       ', wsi_files.shape[0])\n",
    "print('Unique patients:', wsi_files['cases.0.submitter_id'].unique().shape[0])"
   ]
  },
  {
   "cell_type": "code",
   "execution_count": 40,
   "metadata": {},
   "outputs": [],
   "source": [
    "def make_patient_file_map(df, base_dir):\n",
    "    d = {}\n",
    "    \n",
    "    for _, row in df.iterrows():\n",
    "        patient = row['cases.0.submitter_id']\n",
    "        if patient in d:\n",
    "            if not isinstance(d[patient], tuple):\n",
    "                d[patient] = (\n",
    "                    d[patient],\n",
    "                    os.path.join(base_dir, row.id, row.file_name))\n",
    "            else:\n",
    "                d[patient] += os.path.join(base_dir, row.id, row.file_name),\n",
    "        else:\n",
    "            d[patient] = os.path.join(base_dir, row.id, row.file_name)\n",
    "\n",
    "    return d"
   ]
  },
  {
   "cell_type": "code",
   "execution_count": 41,
   "metadata": {},
   "outputs": [
    {
     "data": {
      "text/plain": [
       "1061"
      ]
     },
     "execution_count": 41,
     "metadata": {},
     "output_type": "execute_result"
    }
   ],
   "source": [
    "file_map = make_patient_file_map(wsi_files, base_dir='')\n",
    "len(file_map)"
   ]
  },
  {
   "cell_type": "code",
   "execution_count": 42,
   "metadata": {},
   "outputs": [
    {
     "data": {
      "text/plain": [
       "'aa3f0051-ea7f-47f2-a7aa-315c1bdc3f18/TCGA-BH-A0C1-01Z-00-DX1.21FE357E-B182-4397-BFEF-7E96E994236A.svs'"
      ]
     },
     "execution_count": 42,
     "metadata": {},
     "output_type": "execute_result"
    }
   ],
   "source": [
    "file_map[list(file_map.keys())[0]]"
   ]
  },
  {
   "cell_type": "markdown",
   "metadata": {},
   "source": [
    "## Drop unused patients\n",
    "\n",
    "Keep only patients present in label data."
   ]
  },
  {
   "cell_type": "code",
   "execution_count": 43,
   "metadata": {},
   "outputs": [
    {
     "data": {
      "text/plain": [
       "1094"
      ]
     },
     "execution_count": 43,
     "metadata": {},
     "output_type": "execute_result"
    }
   ],
   "source": [
    "labels = pd.read_csv('labels.tsv', sep='\\t')\n",
    "len(labels['submitter_id'])"
   ]
  },
  {
   "cell_type": "code",
   "execution_count": 44,
   "metadata": {},
   "outputs": [
    {
     "data": {
      "text/html": [
       "<div>\n",
       "<style scoped>\n",
       "    .dataframe tbody tr th:only-of-type {\n",
       "        vertical-align: middle;\n",
       "    }\n",
       "\n",
       "    .dataframe tbody tr th {\n",
       "        vertical-align: top;\n",
       "    }\n",
       "\n",
       "    .dataframe thead th {\n",
       "        text-align: right;\n",
       "    }\n",
       "</style>\n",
       "<table border=\"1\" class=\"dataframe\">\n",
       "  <thead>\n",
       "    <tr style=\"text-align: right;\">\n",
       "      <th></th>\n",
       "      <th>submitter_id</th>\n",
       "      <th>time</th>\n",
       "      <th>event</th>\n",
       "      <th>group</th>\n",
       "    </tr>\n",
       "  </thead>\n",
       "  <tbody>\n",
       "    <tr>\n",
       "      <th>0</th>\n",
       "      <td>TCGA-Z7-A8R6</td>\n",
       "      <td>8.920548</td>\n",
       "      <td>0</td>\n",
       "      <td>train</td>\n",
       "    </tr>\n",
       "    <tr>\n",
       "      <th>1</th>\n",
       "      <td>TCGA-C8-A1HE</td>\n",
       "      <td>1.027397</td>\n",
       "      <td>0</td>\n",
       "      <td>train</td>\n",
       "    </tr>\n",
       "    <tr>\n",
       "      <th>2</th>\n",
       "      <td>TCGA-A8-A07B</td>\n",
       "      <td>3.583562</td>\n",
       "      <td>0</td>\n",
       "      <td>train</td>\n",
       "    </tr>\n",
       "    <tr>\n",
       "      <th>3</th>\n",
       "      <td>TCGA-AC-A2FM</td>\n",
       "      <td>2.169863</td>\n",
       "      <td>1</td>\n",
       "      <td>train</td>\n",
       "    </tr>\n",
       "    <tr>\n",
       "      <th>4</th>\n",
       "      <td>TCGA-B6-A1KF</td>\n",
       "      <td>8.460274</td>\n",
       "      <td>0</td>\n",
       "      <td>train</td>\n",
       "    </tr>\n",
       "  </tbody>\n",
       "</table>\n",
       "</div>"
      ],
      "text/plain": [
       "   submitter_id      time  event  group\n",
       "0  TCGA-Z7-A8R6  8.920548      0  train\n",
       "1  TCGA-C8-A1HE  1.027397      0  train\n",
       "2  TCGA-A8-A07B  3.583562      0  train\n",
       "3  TCGA-AC-A2FM  2.169863      1  train\n",
       "4  TCGA-B6-A1KF  8.460274      0  train"
      ]
     },
     "execution_count": 44,
     "metadata": {},
     "output_type": "execute_result"
    }
   ],
   "source": [
    "labels.head()"
   ]
  },
  {
   "cell_type": "code",
   "execution_count": 45,
   "metadata": {},
   "outputs": [],
   "source": [
    "file_map = {k: file_map[k] for k in file_map if k in list(labels['submitter_id'])}"
   ]
  },
  {
   "cell_type": "code",
   "execution_count": 46,
   "metadata": {},
   "outputs": [
    {
     "data": {
      "text/plain": [
       "1058"
      ]
     },
     "execution_count": 46,
     "metadata": {},
     "output_type": "execute_result"
    }
   ],
   "source": [
    "len(file_map)"
   ]
  },
  {
   "cell_type": "code",
   "execution_count": 47,
   "metadata": {},
   "outputs": [
    {
     "name": "stdout",
     "output_type": "stream",
     "text": [
      "64 patients with more than one slide\n",
      "(with 2.08 slides per patient)\n"
     ]
    }
   ],
   "source": [
    "slide_counts = {}\n",
    "\n",
    "for patient in file_map:\n",
    "    slides = file_map[patient]\n",
    "    if isinstance(slides, tuple):\n",
    "        slide_counts[patient] = len(slides)\n",
    "\n",
    "print(len(slide_counts), 'patients with more than one slide')\n",
    "print(f'(with {round(np.mean(list(slide_counts.values())), 2)} slides per patient)')"
   ]
  },
  {
   "cell_type": "markdown",
   "metadata": {},
   "source": [
    "# Slides with max 20x magnification\n",
    "\n",
    "There are slides with a maximum magnification of 20x instead of 40x. Drop these slides from the data.\n",
    "\n",
    "> __Note:__ De to the large size of the data, I have sp;it and stored it across four different locations."
   ]
  },
  {
   "cell_type": "markdown",
   "metadata": {},
   "source": [
    "## Collect slide magnifications"
   ]
  },
  {
   "cell_type": "code",
   "execution_count": 48,
   "metadata": {},
   "outputs": [],
   "source": [
    "location_paths = { 'wsi': '/mnt/data/RawData/WSI' }"
   ]
  },
  {
   "cell_type": "code",
   "execution_count": 49,
   "metadata": {},
   "outputs": [],
   "source": [
    "location_files = { 'wsi': os.listdir(location_paths['wsi']) }"
   ]
  },
  {
   "cell_type": "code",
   "execution_count": 50,
   "metadata": {},
   "outputs": [
    {
     "data": {
      "text/plain": [
       "['0018cc22-498a-45b8-bfd4-b0fe0c3a2f0a',\n",
       " '006984cf-35fc-4bc3-a0db-7f5b68de4a6e',\n",
       " '0070d4e9-f838-4ee9-a48b-c894b3b86440',\n",
       " '009f90d0-53c9-48a9-a362-72328cccd66e',\n",
       " '00ab866f-a0a3-44c0-ad14-c9dc833239a7']"
      ]
     },
     "execution_count": 50,
     "metadata": {},
     "output_type": "execute_result"
    }
   ],
   "source": [
    "location_files['wsi'][:5]"
   ]
  },
  {
   "cell_type": "code",
   "execution_count": 51,
   "metadata": {},
   "outputs": [
    {
     "data": {
      "text/plain": [
       "[2888]"
      ]
     },
     "execution_count": 51,
     "metadata": {},
     "output_type": "execute_result"
    }
   ],
   "source": [
    "[len(l) for _, l in location_files.items()]"
   ]
  },
  {
   "cell_type": "code",
   "execution_count": 52,
   "metadata": {},
   "outputs": [],
   "source": [
    "def get_slide_mag(slide_file):\n",
    "    try:\n",
    "        wsi = slide.OpenSlide(filename=slide_file)\n",
    "        d = dict(wsi.properties)\n",
    "    except:\n",
    "        return slide_file\n",
    "    if 'aperio.AppMag' in d.keys():\n",
    "        mag = d['aperio.AppMag']\n",
    "        return mag\n",
    "    else:\n",
    "        return slide_file\n",
    "\n",
    "def lookup_full_path(wsi_file, slide_paths, locations):\n",
    "    # Get all folder names from the WSI path (excluding the .svs filename)\n",
    "    folders = os.path.dirname(wsi_file).split('/')\n",
    "\n",
    "    for location, leaf_dirs in slide_paths.items():\n",
    "        if any(folder in leaf_dirs for folder in folders):\n",
    "            return os.path.join(locations[location], wsi_file)\n",
    "\n",
    "    return None"
   ]
  },
  {
   "cell_type": "code",
   "execution_count": 53,
   "metadata": {
    "code_folding": []
   },
   "outputs": [
    {
     "name": "stdout",
     "output_type": "stream",
     "text": [
      "Collecting slide magnifications:\n",
      "1058/1058\n",
      "CPU times: user 5.36 s, sys: 7.88 s, total: 13.2 s\n",
      "Wall time: 2min 18s\n"
     ]
    }
   ],
   "source": [
    "%%time\n",
    "\n",
    "slide_mags = {}\n",
    "\n",
    "print('Collecting slide magnifications:')\n",
    "n = len(file_map)\n",
    "        \n",
    "for i, patient in enumerate(file_map):\n",
    "#     if i > 100:\n",
    "#         break\n",
    "    print('\\r' + f'{str((i + 1))}/{n}', end='')\n",
    "    \n",
    "    if isinstance(file_map[patient], tuple):\n",
    "        slide_mags[patient] = tuple()\n",
    "        for f in file_map[patient]:\n",
    "            f = lookup_full_path(f, location_files, location_paths)\n",
    "            if f is not None:\n",
    "                slide_mags[patient] += get_slide_mag(f),\n",
    "    else:\n",
    "        f = lookup_full_path(file_map[patient], location_files, location_paths)\n",
    "        if f is not None:\n",
    "            slide_mags[patient] = get_slide_mag(\n",
    "                lookup_full_path(f, location_files, location_paths))\n",
    "print()"
   ]
  },
  {
   "cell_type": "code",
   "execution_count": 54,
   "metadata": {},
   "outputs": [
    {
     "data": {
      "text/plain": [
       "982"
      ]
     },
     "execution_count": 54,
     "metadata": {},
     "output_type": "execute_result"
    }
   ],
   "source": [
    "len(slide_mags)"
   ]
  },
  {
   "cell_type": "markdown",
   "metadata": {},
   "source": [
    "## Save slide magnifications to file"
   ]
  },
  {
   "cell_type": "code",
   "execution_count": 55,
   "metadata": {},
   "outputs": [],
   "source": [
    "with open('/app/data/wsi_magnifications.json', 'w') as f:\n",
    "    json.dump(slide_mags, f)"
   ]
  },
  {
   "cell_type": "markdown",
   "metadata": {},
   "source": [
    "## Check unread slides\n",
    "\n",
    "Function `get_slide_mag()` returns the slide file name when the magnification is not found (no `'aperio.AppMag'` found in `Slide` attributes).\n",
    "\n",
    "Start by checking unreadable slides and manually download the cases where the problem is partial original downloads."
   ]
  },
  {
   "cell_type": "code",
   "execution_count": 56,
   "metadata": {},
   "outputs": [],
   "source": [
    "slide_mags = json.load(open('/app/data/wsi_magnifications.json'))"
   ]
  },
  {
   "cell_type": "code",
   "execution_count": 57,
   "metadata": {},
   "outputs": [],
   "source": [
    "patients_with_failed_slides = []\n",
    "\n",
    "for patient in slide_mags:\n",
    "    mags = slide_mags[patient]\n",
    "    if not isinstance(mags, list):\n",
    "        mags = [mags]\n",
    "    for x in mags:\n",
    "        if x.startswith('20') or x.startswith('40'):\n",
    "            next\n",
    "        else:\n",
    "            patients_with_failed_slides += [patient]"
   ]
  },
  {
   "cell_type": "code",
   "execution_count": 58,
   "metadata": {},
   "outputs": [
    {
     "data": {
      "text/plain": [
       "451"
      ]
     },
     "execution_count": 58,
     "metadata": {},
     "output_type": "execute_result"
    }
   ],
   "source": [
    "len(patients_with_failed_slides)"
   ]
  },
  {
   "cell_type": "code",
   "execution_count": 59,
   "metadata": {},
   "outputs": [
    {
     "name": "stdout",
     "output_type": "stream",
     "text": [
      "CPU times: user 57.6 ms, sys: 255 ms, total: 312 ms\n",
      "Wall time: 3.87 s\n"
     ]
    }
   ],
   "source": [
    "%%time\n",
    "\n",
    "fail_opening = []\n",
    "\n",
    "for patient in patients_with_failed_slides:\n",
    "    files = slide_mags[patient]\n",
    "    if not isinstance(files, list):\n",
    "        files = [files]\n",
    "    for file in files:\n",
    "        try:\n",
    "            slide.OpenSlide(filename=file)\n",
    "        except:\n",
    "            fail_opening += [patient]"
   ]
  },
  {
   "cell_type": "code",
   "execution_count": 60,
   "metadata": {},
   "outputs": [
    {
     "data": {
      "text/plain": [
       "419"
      ]
     },
     "execution_count": 60,
     "metadata": {},
     "output_type": "execute_result"
    }
   ],
   "source": [
    "len(set(fail_opening))"
   ]
  },
  {
   "cell_type": "code",
   "execution_count": 61,
   "metadata": {},
   "outputs": [
    {
     "data": {
      "text/plain": [
       "{'TCGA-3C-AALI',\n",
       " 'TCGA-3C-AALJ',\n",
       " 'TCGA-3C-AALK',\n",
       " 'TCGA-5T-A9QA',\n",
       " 'TCGA-A1-A0SE',\n",
       " 'TCGA-A1-A0SP',\n",
       " 'TCGA-A1-A0SQ',\n",
       " 'TCGA-A2-A04N',\n",
       " 'TCGA-A2-A04U',\n",
       " 'TCGA-A2-A04V',\n",
       " 'TCGA-A2-A04W',\n",
       " 'TCGA-A2-A04X',\n",
       " 'TCGA-A2-A0CT',\n",
       " 'TCGA-A2-A0CU',\n",
       " 'TCGA-A2-A0CV',\n",
       " 'TCGA-A2-A0CY',\n",
       " 'TCGA-A2-A0CZ',\n",
       " 'TCGA-A2-A0D0',\n",
       " 'TCGA-A2-A0EO',\n",
       " 'TCGA-A2-A0EQ',\n",
       " 'TCGA-A2-A0ES',\n",
       " 'TCGA-A2-A0ET',\n",
       " 'TCGA-A2-A0EV',\n",
       " 'TCGA-A2-A0EY',\n",
       " 'TCGA-A2-A0SV',\n",
       " 'TCGA-A2-A0SX',\n",
       " 'TCGA-A2-A0SY',\n",
       " 'TCGA-A2-A0T0',\n",
       " 'TCGA-A2-A0T1',\n",
       " 'TCGA-A2-A0T5',\n",
       " 'TCGA-A2-A0YD',\n",
       " 'TCGA-A2-A0YE',\n",
       " 'TCGA-A2-A0YT',\n",
       " 'TCGA-A2-A1FV',\n",
       " 'TCGA-A2-A1G0',\n",
       " 'TCGA-A2-A1G4',\n",
       " 'TCGA-A2-A1G6',\n",
       " 'TCGA-A2-A259',\n",
       " 'TCGA-A2-A25A',\n",
       " 'TCGA-A2-A25B',\n",
       " 'TCGA-A2-A25D',\n",
       " 'TCGA-A2-A25E',\n",
       " 'TCGA-A2-A25F',\n",
       " 'TCGA-A2-A3KC',\n",
       " 'TCGA-A2-A3XT',\n",
       " 'TCGA-A2-A3XZ',\n",
       " 'TCGA-A2-A3Y0',\n",
       " 'TCGA-A2-A4RW',\n",
       " 'TCGA-A2-A4S0',\n",
       " 'TCGA-A2-A4S3',\n",
       " 'TCGA-A7-A0CE',\n",
       " 'TCGA-A8-A079',\n",
       " 'TCGA-A8-A07E',\n",
       " 'TCGA-A8-A086',\n",
       " 'TCGA-A8-A08J',\n",
       " 'TCGA-A8-A08P',\n",
       " 'TCGA-A8-A09Z',\n",
       " 'TCGA-AC-A3TM',\n",
       " 'TCGA-AN-A0AJ',\n",
       " 'TCGA-AN-A0AL',\n",
       " 'TCGA-AN-A0AR',\n",
       " 'TCGA-AN-A0AT',\n",
       " 'TCGA-AN-A0FF',\n",
       " 'TCGA-AN-A0FK',\n",
       " 'TCGA-AO-A0J6',\n",
       " 'TCGA-AO-A12F',\n",
       " 'TCGA-AQ-A54O',\n",
       " 'TCGA-AQ-A7U7',\n",
       " 'TCGA-AR-A0TP',\n",
       " 'TCGA-AR-A0TR',\n",
       " 'TCGA-AR-A0TS',\n",
       " 'TCGA-AR-A0TT',\n",
       " 'TCGA-AR-A0TU',\n",
       " 'TCGA-AR-A0TW',\n",
       " 'TCGA-AR-A0U2',\n",
       " 'TCGA-AR-A0U3',\n",
       " 'TCGA-AR-A0U4',\n",
       " 'TCGA-AR-A1AH',\n",
       " 'TCGA-AR-A1AS',\n",
       " 'TCGA-AR-A1AT',\n",
       " 'TCGA-AR-A1AU',\n",
       " 'TCGA-AR-A24K',\n",
       " 'TCGA-AR-A24N',\n",
       " 'TCGA-AR-A24P',\n",
       " 'TCGA-AR-A24Q',\n",
       " 'TCGA-AR-A24R',\n",
       " 'TCGA-AR-A24T',\n",
       " 'TCGA-AR-A250',\n",
       " 'TCGA-AR-A252',\n",
       " 'TCGA-AR-A2LH',\n",
       " 'TCGA-AR-A2LJ',\n",
       " 'TCGA-AR-A2LL',\n",
       " 'TCGA-AR-A2LM',\n",
       " 'TCGA-AR-A2LN',\n",
       " 'TCGA-AR-A2LR',\n",
       " 'TCGA-AR-A5QP',\n",
       " 'TCGA-AR-A5QQ',\n",
       " 'TCGA-B6-A0I1',\n",
       " 'TCGA-B6-A0I6',\n",
       " 'TCGA-B6-A0I8',\n",
       " 'TCGA-B6-A0I9',\n",
       " 'TCGA-B6-A0IA',\n",
       " 'TCGA-B6-A0IC',\n",
       " 'TCGA-B6-A0IH',\n",
       " 'TCGA-B6-A0IM',\n",
       " 'TCGA-B6-A0IN',\n",
       " 'TCGA-B6-A0IQ',\n",
       " 'TCGA-B6-A0RG',\n",
       " 'TCGA-B6-A0RH',\n",
       " 'TCGA-B6-A0RI',\n",
       " 'TCGA-B6-A0RL',\n",
       " 'TCGA-B6-A0RO',\n",
       " 'TCGA-B6-A0RP',\n",
       " 'TCGA-B6-A0RS',\n",
       " 'TCGA-B6-A0RT',\n",
       " 'TCGA-B6-A0RU',\n",
       " 'TCGA-B6-A0RV',\n",
       " 'TCGA-B6-A0WT',\n",
       " 'TCGA-B6-A0WV',\n",
       " 'TCGA-B6-A0WW',\n",
       " 'TCGA-B6-A0WX',\n",
       " 'TCGA-B6-A0WY',\n",
       " 'TCGA-B6-A0X0',\n",
       " 'TCGA-B6-A0X1',\n",
       " 'TCGA-B6-A0X4',\n",
       " 'TCGA-B6-A0X5',\n",
       " 'TCGA-B6-A0X7',\n",
       " 'TCGA-B6-A1KC',\n",
       " 'TCGA-B6-A1KF',\n",
       " 'TCGA-B6-A1KN',\n",
       " 'TCGA-B6-A2IU',\n",
       " 'TCGA-BH-A0AU',\n",
       " 'TCGA-BH-A0AV',\n",
       " 'TCGA-BH-A0AW',\n",
       " 'TCGA-BH-A0AY',\n",
       " 'TCGA-BH-A0B3',\n",
       " 'TCGA-BH-A0B4',\n",
       " 'TCGA-BH-A0B5',\n",
       " 'TCGA-BH-A0B6',\n",
       " 'TCGA-BH-A0B9',\n",
       " 'TCGA-BH-A0BA',\n",
       " 'TCGA-BH-A0BD',\n",
       " 'TCGA-BH-A0BF',\n",
       " 'TCGA-BH-A0BJ',\n",
       " 'TCGA-BH-A0BL',\n",
       " 'TCGA-BH-A0BQ',\n",
       " 'TCGA-BH-A0BV',\n",
       " 'TCGA-BH-A0BW',\n",
       " 'TCGA-BH-A0BZ',\n",
       " 'TCGA-BH-A0C0',\n",
       " 'TCGA-BH-A0C7',\n",
       " 'TCGA-BH-A0DD',\n",
       " 'TCGA-BH-A0DG',\n",
       " 'TCGA-BH-A0DH',\n",
       " 'TCGA-BH-A0DI',\n",
       " 'TCGA-BH-A0DK',\n",
       " 'TCGA-BH-A0DL',\n",
       " 'TCGA-BH-A0DQ',\n",
       " 'TCGA-BH-A0DZ',\n",
       " 'TCGA-BH-A0E0',\n",
       " 'TCGA-BH-A0E1',\n",
       " 'TCGA-BH-A0E2',\n",
       " 'TCGA-BH-A0E9',\n",
       " 'TCGA-BH-A0EE',\n",
       " 'TCGA-BH-A0GY',\n",
       " 'TCGA-BH-A0GZ',\n",
       " 'TCGA-BH-A0H5',\n",
       " 'TCGA-BH-A0H7',\n",
       " 'TCGA-BH-A0HA',\n",
       " 'TCGA-BH-A0HB',\n",
       " 'TCGA-BH-A0HL',\n",
       " 'TCGA-BH-A0HN',\n",
       " 'TCGA-BH-A0HO',\n",
       " 'TCGA-BH-A0HQ',\n",
       " 'TCGA-BH-A0HW',\n",
       " 'TCGA-BH-A0HX',\n",
       " 'TCGA-BH-A0HY',\n",
       " 'TCGA-BH-A0RX',\n",
       " 'TCGA-BH-A0W3',\n",
       " 'TCGA-BH-A0W4',\n",
       " 'TCGA-BH-A0W5',\n",
       " 'TCGA-BH-A0W7',\n",
       " 'TCGA-BH-A18H',\n",
       " 'TCGA-BH-A18J',\n",
       " 'TCGA-BH-A18L',\n",
       " 'TCGA-BH-A18M',\n",
       " 'TCGA-BH-A18N',\n",
       " 'TCGA-BH-A18P',\n",
       " 'TCGA-BH-A18Q',\n",
       " 'TCGA-BH-A18R',\n",
       " 'TCGA-BH-A18U',\n",
       " 'TCGA-BH-A18V',\n",
       " 'TCGA-BH-A1EN',\n",
       " 'TCGA-BH-A1EO',\n",
       " 'TCGA-BH-A1ET',\n",
       " 'TCGA-BH-A1EU',\n",
       " 'TCGA-BH-A1EV',\n",
       " 'TCGA-BH-A1EW',\n",
       " 'TCGA-BH-A1EX',\n",
       " 'TCGA-BH-A1F5',\n",
       " 'TCGA-BH-A1F8',\n",
       " 'TCGA-BH-A1FB',\n",
       " 'TCGA-BH-A1FJ',\n",
       " 'TCGA-BH-A1FL',\n",
       " 'TCGA-BH-A1FR',\n",
       " 'TCGA-BH-A201',\n",
       " 'TCGA-BH-A202',\n",
       " 'TCGA-BH-A203',\n",
       " 'TCGA-BH-A204',\n",
       " 'TCGA-BH-A208',\n",
       " 'TCGA-BH-A209',\n",
       " 'TCGA-BH-A28O',\n",
       " 'TCGA-BH-A28Q',\n",
       " 'TCGA-BH-A2L8',\n",
       " 'TCGA-BH-A42T',\n",
       " 'TCGA-BH-A42U',\n",
       " 'TCGA-BH-A5IZ',\n",
       " 'TCGA-BH-A5J0',\n",
       " 'TCGA-C8-A12U',\n",
       " 'TCGA-C8-A12V',\n",
       " 'TCGA-C8-A135',\n",
       " 'TCGA-C8-A1HF',\n",
       " 'TCGA-C8-A26W',\n",
       " 'TCGA-C8-A26Z',\n",
       " 'TCGA-C8-A274',\n",
       " 'TCGA-C8-A275',\n",
       " 'TCGA-C8-A3M7',\n",
       " 'TCGA-C8-A9FZ',\n",
       " 'TCGA-D8-A13Y',\n",
       " 'TCGA-D8-A13Z',\n",
       " 'TCGA-D8-A142',\n",
       " 'TCGA-D8-A143',\n",
       " 'TCGA-D8-A145',\n",
       " 'TCGA-D8-A147',\n",
       " 'TCGA-D8-A1J8',\n",
       " 'TCGA-D8-A1J9',\n",
       " 'TCGA-D8-A1JA',\n",
       " 'TCGA-D8-A1JB',\n",
       " 'TCGA-D8-A1JC',\n",
       " 'TCGA-D8-A1JD',\n",
       " 'TCGA-D8-A1JE',\n",
       " 'TCGA-D8-A1JF',\n",
       " 'TCGA-D8-A1JG',\n",
       " 'TCGA-D8-A1JH',\n",
       " 'TCGA-D8-A1JJ',\n",
       " 'TCGA-D8-A1JK',\n",
       " 'TCGA-D8-A1JL',\n",
       " 'TCGA-D8-A1JN',\n",
       " 'TCGA-D8-A1JS',\n",
       " 'TCGA-D8-A1JT',\n",
       " 'TCGA-D8-A1X5',\n",
       " 'TCGA-D8-A1X6',\n",
       " 'TCGA-D8-A1X7',\n",
       " 'TCGA-D8-A1X8',\n",
       " 'TCGA-D8-A1X9',\n",
       " 'TCGA-D8-A1XB',\n",
       " 'TCGA-D8-A1XC',\n",
       " 'TCGA-D8-A1XF',\n",
       " 'TCGA-D8-A1XG',\n",
       " 'TCGA-D8-A1XJ',\n",
       " 'TCGA-D8-A1XL',\n",
       " 'TCGA-D8-A1XO',\n",
       " 'TCGA-D8-A1XR',\n",
       " 'TCGA-D8-A1XS',\n",
       " 'TCGA-D8-A1XT',\n",
       " 'TCGA-D8-A1XV',\n",
       " 'TCGA-D8-A1XW',\n",
       " 'TCGA-D8-A1XY',\n",
       " 'TCGA-D8-A1XZ',\n",
       " 'TCGA-D8-A1Y1',\n",
       " 'TCGA-D8-A1Y2',\n",
       " 'TCGA-D8-A1Y3',\n",
       " 'TCGA-D8-A27F',\n",
       " 'TCGA-D8-A27G',\n",
       " 'TCGA-D8-A27K',\n",
       " 'TCGA-D8-A27R',\n",
       " 'TCGA-D8-A27T',\n",
       " 'TCGA-D8-A27V',\n",
       " 'TCGA-D8-A27W',\n",
       " 'TCGA-D8-A3Z5',\n",
       " 'TCGA-D8-A3Z6',\n",
       " 'TCGA-D8-A73W',\n",
       " 'TCGA-D8-A73X',\n",
       " 'TCGA-E2-A107',\n",
       " 'TCGA-E2-A108',\n",
       " 'TCGA-E2-A109',\n",
       " 'TCGA-E2-A10A',\n",
       " 'TCGA-E2-A10B',\n",
       " 'TCGA-E2-A10C',\n",
       " 'TCGA-E2-A10E',\n",
       " 'TCGA-E2-A14N',\n",
       " 'TCGA-E2-A14P',\n",
       " 'TCGA-E2-A14Q',\n",
       " 'TCGA-E2-A14R',\n",
       " 'TCGA-E2-A14U',\n",
       " 'TCGA-E2-A14X',\n",
       " 'TCGA-E2-A14Y',\n",
       " 'TCGA-E2-A14Z',\n",
       " 'TCGA-E2-A152',\n",
       " 'TCGA-E2-A154',\n",
       " 'TCGA-E2-A155',\n",
       " 'TCGA-E2-A156',\n",
       " 'TCGA-E2-A159',\n",
       " 'TCGA-E2-A15A',\n",
       " 'TCGA-E2-A15C',\n",
       " 'TCGA-E2-A15D',\n",
       " 'TCGA-E2-A15G',\n",
       " 'TCGA-E2-A15H',\n",
       " 'TCGA-E2-A15J',\n",
       " 'TCGA-E2-A15L',\n",
       " 'TCGA-E2-A15O',\n",
       " 'TCGA-E2-A15R',\n",
       " 'TCGA-E2-A15T',\n",
       " 'TCGA-E2-A1AZ',\n",
       " 'TCGA-E2-A1B0',\n",
       " 'TCGA-E2-A1B4',\n",
       " 'TCGA-E2-A1B6',\n",
       " 'TCGA-E2-A1BC',\n",
       " 'TCGA-E2-A1BD',\n",
       " 'TCGA-E2-A1IF',\n",
       " 'TCGA-E2-A1IG',\n",
       " 'TCGA-E2-A1L6',\n",
       " 'TCGA-E2-A1LA',\n",
       " 'TCGA-E2-A1LH',\n",
       " 'TCGA-E2-A1LI',\n",
       " 'TCGA-E2-A2P5',\n",
       " 'TCGA-E2-A2P6',\n",
       " 'TCGA-E2-A3DX',\n",
       " 'TCGA-E2-A56Z',\n",
       " 'TCGA-E2-A570',\n",
       " 'TCGA-E2-A572',\n",
       " 'TCGA-E2-A573',\n",
       " 'TCGA-E2-A9RU',\n",
       " 'TCGA-E9-A22G',\n",
       " 'TCGA-E9-A244',\n",
       " 'TCGA-E9-A248',\n",
       " 'TCGA-E9-A249',\n",
       " 'TCGA-E9-A295',\n",
       " 'TCGA-EW-A1IW',\n",
       " 'TCGA-EW-A1IX',\n",
       " 'TCGA-EW-A1IY',\n",
       " 'TCGA-EW-A1J1',\n",
       " 'TCGA-EW-A1J5',\n",
       " 'TCGA-EW-A1J6',\n",
       " 'TCGA-EW-A1OV',\n",
       " 'TCGA-EW-A1OX',\n",
       " 'TCGA-EW-A1OY',\n",
       " 'TCGA-EW-A1OZ',\n",
       " 'TCGA-EW-A1P0',\n",
       " 'TCGA-EW-A1P1',\n",
       " 'TCGA-EW-A1P3',\n",
       " 'TCGA-EW-A1P4',\n",
       " 'TCGA-EW-A1P5',\n",
       " 'TCGA-EW-A1P7',\n",
       " 'TCGA-EW-A1P8',\n",
       " 'TCGA-EW-A1PA',\n",
       " 'TCGA-EW-A1PB',\n",
       " 'TCGA-EW-A1PC',\n",
       " 'TCGA-EW-A1PD',\n",
       " 'TCGA-EW-A1PE',\n",
       " 'TCGA-EW-A1PF',\n",
       " 'TCGA-EW-A1PG',\n",
       " 'TCGA-EW-A1PH',\n",
       " 'TCGA-EW-A2FR',\n",
       " 'TCGA-EW-A2FV',\n",
       " 'TCGA-EW-A2FW',\n",
       " 'TCGA-EW-A3E8',\n",
       " 'TCGA-EW-A3U0',\n",
       " 'TCGA-EW-A423',\n",
       " 'TCGA-EW-A424',\n",
       " 'TCGA-EW-A6S9',\n",
       " 'TCGA-EW-A6SA',\n",
       " 'TCGA-EW-A6SB',\n",
       " 'TCGA-EW-A6SC',\n",
       " 'TCGA-EW-A6SD',\n",
       " 'TCGA-GM-A2DD',\n",
       " 'TCGA-GM-A2DF',\n",
       " 'TCGA-GM-A2DK',\n",
       " 'TCGA-GM-A2DL',\n",
       " 'TCGA-GM-A3XN',\n",
       " 'TCGA-GM-A4E0',\n",
       " 'TCGA-LD-A66U',\n",
       " 'TCGA-LD-A74U',\n",
       " 'TCGA-LD-A7W5',\n",
       " 'TCGA-LD-A9QF',\n",
       " 'TCGA-LL-A442',\n",
       " 'TCGA-LL-A5YL',\n",
       " 'TCGA-LL-A5YM',\n",
       " 'TCGA-LL-A5YN',\n",
       " 'TCGA-LL-A5YP',\n",
       " 'TCGA-LL-A6FR',\n",
       " 'TCGA-LL-A740',\n",
       " 'TCGA-LL-A7SZ',\n",
       " 'TCGA-LL-A7T0',\n",
       " 'TCGA-LL-A8F5',\n",
       " 'TCGA-LL-A9Q3',\n",
       " 'TCGA-LQ-A4E4',\n",
       " 'TCGA-OK-A5Q2',\n",
       " 'TCGA-OL-A5D6',\n",
       " 'TCGA-OL-A5D7',\n",
       " 'TCGA-OL-A5D8',\n",
       " 'TCGA-OL-A5DA',\n",
       " 'TCGA-OL-A66H',\n",
       " 'TCGA-OL-A66J',\n",
       " 'TCGA-OL-A66K',\n",
       " 'TCGA-OL-A66L',\n",
       " 'TCGA-OL-A66N',\n",
       " 'TCGA-OL-A6VO',\n",
       " 'TCGA-OL-A6VQ',\n",
       " 'TCGA-OL-A97C',\n",
       " 'TCGA-S3-AA0Z',\n",
       " 'TCGA-S3-AA12',\n",
       " 'TCGA-S3-AA14',\n",
       " 'TCGA-S3-AA15',\n",
       " 'TCGA-UL-AAZ6',\n",
       " 'TCGA-UU-A93S',\n",
       " 'TCGA-XX-A899',\n",
       " 'TCGA-XX-A89A',\n",
       " 'TCGA-Z7-A8R6'}"
      ]
     },
     "execution_count": 61,
     "metadata": {},
     "output_type": "execute_result"
    }
   ],
   "source": [
    "set(fail_opening)"
   ]
  },
  {
   "cell_type": "code",
   "execution_count": 64,
   "metadata": {
    "scrolled": true
   },
   "outputs": [
    {
     "data": {
      "text/plain": [
       "'40'"
      ]
     },
     "execution_count": 64,
     "metadata": {},
     "output_type": "execute_result"
    }
   ],
   "source": [
    "slide_mags['TCGA-AR-A0TQ']"
   ]
  },
  {
   "cell_type": "code",
   "execution_count": 65,
   "metadata": {},
   "outputs": [
    {
     "data": {
      "text/plain": [
       "{'aperio.AppMag': '40',\n",
       " 'aperio.DSR ID': 'resc3-dsr2',\n",
       " 'aperio.Date': '09/07/10',\n",
       " 'aperio.DisplayColor': '0',\n",
       " 'aperio.Exposure Scale': '0.000001',\n",
       " 'aperio.Exposure Time': '109',\n",
       " 'aperio.Filename': 'TCGA-AR-A0TQ-01A-01-TSA',\n",
       " 'aperio.Focus Offset': '-0.000500',\n",
       " 'aperio.ICC Profile': 'ScanScope v1',\n",
       " 'aperio.ImageID': '30078',\n",
       " 'aperio.Left': '26.281858',\n",
       " 'aperio.LineAreaXOffset': '-0.014041',\n",
       " 'aperio.LineAreaYOffset': '0.000544',\n",
       " 'aperio.LineCameraSkew': '0.000833',\n",
       " 'aperio.MPP': '0.2485',\n",
       " 'aperio.OriginalHeight': '35567',\n",
       " 'aperio.OriginalWidth': '115000',\n",
       " 'aperio.Parmset': 'CHTN FocusRad18 on RESBPCLACIE01',\n",
       " 'aperio.ScanScope ID': 'SS1436CNTLR',\n",
       " 'aperio.StripeWidth': '1000',\n",
       " 'aperio.Time': '09:11:35',\n",
       " 'aperio.Title': 'TCGA-AR-A0TQ-01A-01-TSA',\n",
       " 'aperio.Top': '16.811081',\n",
       " 'aperio.User': '00f5c00f-24a9-41e6-a23f-7085209a268e',\n",
       " 'openslide.associated.thumbnail.height': '329',\n",
       " 'openslide.associated.thumbnail.width': '1024',\n",
       " 'openslide.comment': 'Aperio Image Library v10.2.20\\r\\n115000x35567 [0,100 110122x35467] (256x256) JPEG/RGB Q=30|AppMag = 40|StripeWidth = 1000|ScanScope ID = SS1436CNTLR|Filename = TCGA-AR-A0TQ-01A-01-TSA|Title = TCGA-AR-A0TQ-01A-01-TSA|Date = 09/07/10|Time = 09:11:35|User = 00f5c00f-24a9-41e6-a23f-7085209a268e|Parmset = CHTN FocusRad18 on RESBPCLACIE01|MPP = 0.2485|Left = 26.281858|Top = 16.811081|LineCameraSkew = 0.000833|LineAreaXOffset = -0.014041|LineAreaYOffset = 0.000544|Focus Offset = -0.000500|DSR ID = resc3-dsr2|ImageID = 30078|Exposure Time = 109|Exposure Scale = 0.000001|DisplayColor = 0|OriginalWidth = 115000|OriginalHeight = 35567|ICC Profile = ScanScope v1',\n",
       " 'openslide.icc-size': '141992',\n",
       " 'openslide.level-count': '4',\n",
       " 'openslide.level[0].downsample': '1',\n",
       " 'openslide.level[0].height': '35467',\n",
       " 'openslide.level[0].tile-height': '256',\n",
       " 'openslide.level[0].tile-width': '256',\n",
       " 'openslide.level[0].width': '110122',\n",
       " 'openslide.level[1].downsample': '4.0002055096632274',\n",
       " 'openslide.level[1].height': '8866',\n",
       " 'openslide.level[1].tile-height': '256',\n",
       " 'openslide.level[1].tile-width': '256',\n",
       " 'openslide.level[1].width': '27530',\n",
       " 'openslide.level[2].downsample': '16.003208482443078',\n",
       " 'openslide.level[2].height': '2216',\n",
       " 'openslide.level[2].tile-height': '256',\n",
       " 'openslide.level[2].tile-width': '256',\n",
       " 'openslide.level[2].width': '6882',\n",
       " 'openslide.level[3].downsample': '32.006416964886157',\n",
       " 'openslide.level[3].height': '1108',\n",
       " 'openslide.level[3].tile-height': '256',\n",
       " 'openslide.level[3].tile-width': '256',\n",
       " 'openslide.level[3].width': '3441',\n",
       " 'openslide.mpp-x': '0.2485',\n",
       " 'openslide.mpp-y': '0.2485',\n",
       " 'openslide.objective-power': '40',\n",
       " 'openslide.quickhash-1': 'd2c9f5ab4a48cba7c9a0deed8687778e4841b811c028a3ff10bfe6e4045e5e92',\n",
       " 'openslide.vendor': 'aperio',\n",
       " 'tiff.ImageDescription': 'Aperio Image Library v10.2.20\\r\\n115000x35567 [0,100 110122x35467] (256x256) JPEG/RGB Q=30|AppMag = 40|StripeWidth = 1000|ScanScope ID = SS1436CNTLR|Filename = TCGA-AR-A0TQ-01A-01-TSA|Title = TCGA-AR-A0TQ-01A-01-TSA|Date = 09/07/10|Time = 09:11:35|User = 00f5c00f-24a9-41e6-a23f-7085209a268e|Parmset = CHTN FocusRad18 on RESBPCLACIE01|MPP = 0.2485|Left = 26.281858|Top = 16.811081|LineCameraSkew = 0.000833|LineAreaXOffset = -0.014041|LineAreaYOffset = 0.000544|Focus Offset = -0.000500|DSR ID = resc3-dsr2|ImageID = 30078|Exposure Time = 109|Exposure Scale = 0.000001|DisplayColor = 0|OriginalWidth = 115000|OriginalHeight = 35567|ICC Profile = ScanScope v1',\n",
       " 'tiff.ResolutionUnit': 'inch'}"
      ]
     },
     "execution_count": 65,
     "metadata": {},
     "output_type": "execute_result"
    }
   ],
   "source": [
    "wsi = slide.OpenSlide(filename='/mnt/data/RawData/WSI/00cf804f-0136-43c0-88c3-c36690d87875/TCGA-AR-A0TQ-01A-01-TSA.aa243f75-79d1-42b5-958a-6beaf7ae7a86.svs')\n",
    "d = dict(wsi.properties)\n",
    "d\n",
    "\n",
    "# d['aperio.AppMag']"
   ]
  },
  {
   "cell_type": "markdown",
   "metadata": {},
   "source": [
    "## Drop unusable slides\n",
    "\n",
    "Start by checking magnifications for all flagged slides, in case the repaired files contain magnification values. Then drop both slides missing magnification info or with 20x maximum magnification and any patients with no remaining slides."
   ]
  },
  {
   "cell_type": "code",
   "execution_count": null,
   "metadata": {},
   "outputs": [],
   "source": [
    "slide_mags = json.load(open('wsi_magnifications.json'))"
   ]
  },
  {
   "cell_type": "code",
   "execution_count": null,
   "metadata": {},
   "outputs": [],
   "source": [
    "# Any patients with slide paths for which magnification is available?\n",
    "patients_with_failed_slides = []\n",
    "\n",
    "for patient in slide_mags:\n",
    "    mags = slide_mags[patient]\n",
    "    if not isinstance(mags, list):\n",
    "        mags = [mags]\n",
    "    for x in mags:\n",
    "        if x.startswith('20') or x.startswith('40'):\n",
    "            next\n",
    "        else:\n",
    "            patients_with_failed_slides += [patient]"
   ]
  },
  {
   "cell_type": "code",
   "execution_count": null,
   "metadata": {},
   "outputs": [],
   "source": [
    "len(slide_mags) == len(file_map)"
   ]
  },
  {
   "cell_type": "code",
   "execution_count": null,
   "metadata": {},
   "outputs": [],
   "source": [
    "def any_slide_mag(slide_file):\n",
    "    try:\n",
    "        wsi = slide.OpenSlide(filename=slide_file)\n",
    "        d = dict(wsi.properties)\n",
    "        if 'aperio.AppMag' in d.keys():\n",
    "            print(slide_file, d['aperio.AppMag'])\n",
    "    except:\n",
    "        print('Could not open file:', slide_file)\n",
    "\n",
    "for patient in patients_with_failed_slides:\n",
    "    mags = slide_mags[patient]\n",
    "    if not isinstance(mags, list):\n",
    "        mags = [mags]\n",
    "    for mag in mags:\n",
    "        if mag.startswith('20') or mag.startswith('40'):\n",
    "            next\n",
    "        else:\n",
    "            any_slide_mag(mag)"
   ]
  },
  {
   "cell_type": "code",
   "execution_count": null,
   "metadata": {},
   "outputs": [],
   "source": [
    "slides_with_mags = ['/home/luis/net/Isilon/data.isilon/ag-rohr/bq_lsilva/WSI/430dc536-5441-443d-a3e0-159ecaf8fde2/TCGA-G9-A9S4-01Z-00-DX1.847AD7EA-278E-4E78-9465-1CA8229017AA.svs',\n",
    "                    '/home/luis/net/Isilon/data.isilon/ag-rohr/bq_lsilva/WSI/5f6c2a1c-1d87-44b2-bed6-487403d3e9c9/TCGA-ZU-A8S4-01Z-00-DX1.90E3AC43-66E2-41E6-8253-487B95B4D7C9.svs',\n",
    "                    '/home/luis/net/Isilon/data.isilon/ag-rohr/bq_lsilva/WSI/37e9c31f-ea56-482e-a1eb-d1a09bdae491/TCGA-2J-AAB6-01Z-00-DX1.2FC4D66F-BFBB-48FA-AFCB-ABBC12F37E14.svs']\n",
    "\n",
    "\n",
    "for patient, mags in slide_mags.items():\n",
    "    if mags in slides_with_mags:\n",
    "        print(patient)"
   ]
  },
  {
   "cell_type": "code",
   "execution_count": null,
   "metadata": {},
   "outputs": [],
   "source": [
    "slide_mags['TCGA-G9-A9S4'] = '40'\n",
    "slide_mags['TCGA-ZU-A8S4'] = '40'\n",
    "slide_mags['TCGA-2J-AAB6'] = '40'"
   ]
  },
  {
   "cell_type": "markdown",
   "metadata": {},
   "source": [
    "### Drop slides slides missing magnification or with 20x magnification"
   ]
  },
  {
   "cell_type": "code",
   "execution_count": null,
   "metadata": {},
   "outputs": [],
   "source": [
    "# Convert all values to list\n",
    "for patient in slide_mags:\n",
    "    if not isinstance(slide_mags[patient], list):\n",
    "        slide_mags[patient] = [slide_mags[patient]]\n",
    "\n",
    "# Drop 20x values\n",
    "for patient in slide_mags:\n",
    "    slide_mags[patient] = [x for x in slide_mags[patient]\n",
    "                           if not x.startswith('20')]\n",
    "    \n",
    "# Drop file values\n",
    "for patient in slide_mags:\n",
    "    slide_mags[patient] = [x for x in slide_mags[patient]\n",
    "                           if x.startswith('40')]"
   ]
  },
  {
   "cell_type": "markdown",
   "metadata": {},
   "source": [
    "### Drop patients with no remaining slides"
   ]
  },
  {
   "cell_type": "code",
   "execution_count": null,
   "metadata": {},
   "outputs": [],
   "source": [
    "len(slide_mags)"
   ]
  },
  {
   "cell_type": "code",
   "execution_count": null,
   "metadata": {},
   "outputs": [],
   "source": [
    "patients_with_no_slides = []\n",
    "\n",
    "for patient in slide_mags:\n",
    "    if not slide_mags[patient]:\n",
    "        patients_with_no_slides += [patient]"
   ]
  },
  {
   "cell_type": "code",
   "execution_count": null,
   "metadata": {},
   "outputs": [],
   "source": [
    "len(patients_with_no_slides)"
   ]
  },
  {
   "cell_type": "code",
   "execution_count": null,
   "metadata": {},
   "outputs": [],
   "source": [
    "slide_mags = {patient: v for patient, v in slide_mags.items()\n",
    "              if patient not in patients_with_no_slides}"
   ]
  },
  {
   "cell_type": "code",
   "execution_count": null,
   "metadata": {},
   "outputs": [],
   "source": [
    "len(slide_mags)"
   ]
  },
  {
   "cell_type": "code",
   "execution_count": null,
   "metadata": {},
   "outputs": [],
   "source": [
    "len(file_map)"
   ]
  },
  {
   "cell_type": "code",
   "execution_count": null,
   "metadata": {},
   "outputs": [],
   "source": [
    "file_map = {patient: v for patient, v in file_map.items()\n",
    "            if patient in slide_mags}"
   ]
  },
  {
   "cell_type": "code",
   "execution_count": null,
   "metadata": {},
   "outputs": [],
   "source": [
    "len(file_map)"
   ]
  },
  {
   "cell_type": "markdown",
   "metadata": {},
   "source": [
    "# Generate patient files"
   ]
  },
  {
   "cell_type": "code",
   "execution_count": null,
   "metadata": {},
   "outputs": [],
   "source": [
    "eg_file = list(file_map.values())[0]\n",
    "\n",
    "lookup_full_path(eg_file, location_files, location_paths)"
   ]
  },
  {
   "cell_type": "code",
   "execution_count": null,
   "metadata": {},
   "outputs": [],
   "source": [
    "location_paths"
   ]
  },
  {
   "cell_type": "code",
   "execution_count": null,
   "metadata": {},
   "outputs": [],
   "source": [
    "def get_target_dir(patient, base_dirs, id_groups):\n",
    "    if patient in id_groups['train']:\n",
    "        target_dir = os.path.join(base_dir, 'train')\n",
    "    elif patient in id_groups['val']:\n",
    "        target_dir = os.path.join(base_dir, 'val')\n",
    "    elif patient in id_groups['test']:\n",
    "        target_dir = os.path.join(base_dir, 'test')\n",
    "    else:\n",
    "        raise ValueError(f'Patient id {patient} not found in \"id_groups\"!')\n",
    "    \n",
    "    return target_dir"
   ]
  },
  {
   "cell_type": "code",
   "execution_count": null,
   "metadata": {},
   "outputs": [],
   "source": [
    "print('Write patient files:')\n",
    "n = len(file_map)\n",
    "\n",
    "base_dir = '/mnt/data/Processed_Data/WSI/'\n",
    "\n",
    "for i, patient in enumerate(file_map):\n",
    "    print('\\r' + f'{str((i + 1))}/{n}', end='')\n",
    "    \n",
    "    patient_files = file_map[patient]\n",
    "    if not isinstance(patient_files, (tuple, list)):\n",
    "        file_paths = [patient_files]\n",
    "\n",
    "    target_dir = get_target_dir(patient, base_dir, id_groups)\n",
    "    target_file = os.path.join(target_dir, str(patient) + '.txt')\n",
    "\n",
    "    file_paths = [lookup_full_path(file_path, location_files, location_paths)\n",
    "                  for file_path in file_paths if file_path is not None]\n",
    "    \n",
    "    # Remove None (file not yet downloaded...)\n",
    "    file_paths = [f for f in file_paths if f is not None]\n",
    "\n",
    "    with open(target_file, 'w') as f:\n",
    "        f.write('\\n'.join(file_paths))"
   ]
  },
  {
   "cell_type": "code",
   "execution_count": null,
   "metadata": {},
   "outputs": [],
   "source": [
    "print('Write patient files:')\n",
    "n = len(file_map)\n",
    "\n",
    "base_dir = '/mnt/data/Processed_Data/WSI/'\n",
    "\n",
    "for i, patient in enumerate(file_map):\n",
    "    print('\\r' + f'{str((i + 1))}/{n}', end='')\n",
    "    \n",
    "    patient_files = file_map[patient]\n",
    "    if not isinstance(patient_files, (tuple, list)):\n",
    "        file_paths = [patient_files]\n",
    "\n",
    "    target_dir = get_target_dir(patient, base_dir)\n",
    "    target_file = os.path.join(target_dir, str(patient) + '.txt')\n",
    "\n",
    "    file_paths = [lookup_full_path(file_path, location_files, location_paths)\n",
    "                  for file_path in file_paths if file_path is not None]\n",
    "    \n",
    "    # Remove None (file not yet downloaded...)\n",
    "    file_paths = [f for f in file_paths if f is not None]\n",
    "\n",
    "    with open(target_file, 'w') as f:\n",
    "        f.write('\\n'.join(file_paths))"
   ]
  },
  {
   "cell_type": "markdown",
   "metadata": {},
   "source": [
    "# Offline patching\n",
    "\n",
    "Run dedicated script (found in `src/scripts` directory) with a selected input directory at a time.\n",
    "\n",
    "Slide directories:\n",
    "* `/home/luis/net/Isilon/data.isilon/ag-rohr/bq_lsilva/WSI/`\n",
    "* `/home/luis/net/gpu_rig/bq_lsilva/WSI/`\n",
    "* `/mnt/dataB/WSI/`\n",
    "* `/mnt/dataB/nas_copy/data/Projects/imaging_genomics/TCGA_BRCA/diagnostic_slide/`\n",
    "\n",
    "Generate a good number of patches per WSI. For example, 50 patches per slide will yield the following total numbers of patches:\n",
    "* 302'450 for Isilon\n",
    "* 134'600 for GPU rig\n",
    "* 94'600 for `dataB`\n",
    "* 56'650 for BRCA\n",
    "\n",
    "Example command:\n",
    "\n",
    "```bash\n",
    "$ conda activate ig\n",
    "$ python ./wsi_patcher.py \\\n",
    "   -i /home/luis/net/gpu_rig/bq_lsilva/WSI/ \\\n",
    "   -l ../../data/labels.tsv \\\n",
    "   -o /mnt/dataA/TCGA/processed/WSI/tissue_patches/ \\\n",
    "   -n 50\n",
    "```"
   ]
  },
  {
   "cell_type": "markdown",
   "metadata": {},
   "source": [
    "## Count generated patches per slide\n",
    "\n",
    "Sanity check to make sure there is a balanced number of patches per each slide."
   ]
  },
  {
   "cell_type": "code",
   "execution_count": null,
   "metadata": {},
   "outputs": [],
   "source": [
    "base_dir = DATA_LOCATION "
   ]
  },
  {
   "cell_type": "code",
   "execution_count": null,
   "metadata": {},
   "outputs": [],
   "source": [
    "from collections import Counter\n",
    "\n",
    "patches_named_as_slides = ['-'.join(os.path.basename(patch).split('-')[:3])\n",
    "                           for patch in os.listdir(base_dir)]\n",
    "    \n",
    "c = Counter(patches_named_as_slides)"
   ]
  },
  {
   "cell_type": "code",
   "execution_count": null,
   "metadata": {},
   "outputs": [],
   "source": [
    "len([x for x in c if c[x] > 0])"
   ]
  },
  {
   "cell_type": "code",
   "execution_count": null,
   "metadata": {},
   "outputs": [],
   "source": [
    "def how_many_patches_per_patient(patch_dir):\n",
    "    patches_named_as_patients = ['-'.join(patch.split('-')[:3])\n",
    "                                 for patch in os.listdir(patch_dir)]\n",
    "    \n",
    "    c = Counter(patches_named_as_patients)\n",
    "\n",
    "    print(f'# patches: {len(patches_named_as_patients)}')\n",
    "    print(f'# Represented patients: {len(c)}')\n",
    "    unique_counts = set(c.values())\n",
    "    print(f'Unique #s patches per patient: {unique_counts}')"
   ]
  },
  {
   "cell_type": "code",
   "execution_count": null,
   "metadata": {},
   "outputs": [],
   "source": [
    "location_paths = {\n",
    "    'isilon': '/home/luis/net/Isilon/data.isilon/ag-rohr/bq_lsilva/WSI/',\n",
    "    'gpu_rig': '/home/luis/net/gpu_rig/bq_lsilva/WSI/',\n",
    "    'dataB': '/mnt/dataB/WSI/',\n",
    "    'ig': '/mnt/dataB/nas_copy/data/Projects/imaging_genomics/TCGA_BRCA/diagnostic_slide/',\n",
    "}"
   ]
  },
  {
   "cell_type": "code",
   "execution_count": null,
   "metadata": {},
   "outputs": [],
   "source": [
    "%%time\n",
    "\n",
    "location_files = {loc: os.listdir(location_paths[loc]) for loc in location_paths}"
   ]
  },
  {
   "cell_type": "code",
   "execution_count": null,
   "metadata": {},
   "outputs": [],
   "source": [
    "n_files = {loc: len(location_files[loc]) for loc in location_files}\n",
    "n_files"
   ]
  },
  {
   "cell_type": "code",
   "execution_count": null,
   "metadata": {},
   "outputs": [],
   "source": [
    "print('Total # of WSI files:', sum(n_files.values()))"
   ]
  },
  {
   "cell_type": "code",
   "execution_count": null,
   "metadata": {},
   "outputs": [],
   "source": [
    "base_dir = os.path.join(DATA_LOCATION, 'tissue_patches')\n",
    "\n",
    "how_many_patches_per_patient(patch_dir=base_dir)"
   ]
  },
  {
   "cell_type": "markdown",
   "metadata": {},
   "source": [
    "## Generate patient files"
   ]
  },
  {
   "cell_type": "code",
   "execution_count": null,
   "metadata": {},
   "outputs": [],
   "source": [
    "def lookup_full_path(wsi_file, slide_paths, locations):\n",
    "    file_path = None\n",
    "\n",
    "    for location, leaf_dirs in slide_paths.items():\n",
    "        for leaf_dir in leaf_dirs:\n",
    "            if leaf_dir in wsi_file:\n",
    "                file_path = os.path.join(locations[location], wsi_file)\n",
    "\n",
    "    return file_path"
   ]
  },
  {
   "cell_type": "code",
   "execution_count": null,
   "metadata": {},
   "outputs": [],
   "source": [
    "base_dir = os.path.join(DATA_LOCATION, 'tissue_patches')"
   ]
  },
  {
   "cell_type": "code",
   "execution_count": null,
   "metadata": {},
   "outputs": [],
   "source": [
    "list(file_map.values())[0]"
   ]
  },
  {
   "cell_type": "code",
   "execution_count": null,
   "metadata": {},
   "outputs": [],
   "source": [
    "def get_patientid_from(file):\n",
    "    return '-'.join(str.split(file, '-')[:3])\n",
    "\n",
    "def list_patch_files(patient_id, patch_dir):    \n",
    "    patches = []\n",
    "    \n",
    "    for patch_file in os.listdir(patch_dir):\n",
    "        if get_patientid_from(patch_file) == patient:\n",
    "            patches.append(patch_file)\n",
    "    \n",
    "    if not patches:\n",
    "        return None\n",
    "    \n",
    "    return patches"
   ]
  },
  {
   "cell_type": "markdown",
   "metadata": {},
   "source": [
    "Check a couple of example patients."
   ]
  },
  {
   "cell_type": "code",
   "execution_count": null,
   "metadata": {},
   "outputs": [],
   "source": [
    "eg_patient = list(file_map.keys())[0]\n",
    "\n",
    "patient_patches = list_patch_files(eg_patient, base_dir)\n",
    "print(f'Found {len(patient_patches)} patches for patient {eg_patient}.')\n",
    "patient_patches[:5]"
   ]
  },
  {
   "cell_type": "code",
   "execution_count": null,
   "metadata": {},
   "outputs": [],
   "source": [
    "eg_patient = 'TCGA-CJ-4870'\n",
    "\n",
    "patient_patches = list_patch_files(eg_patient, base_dir)\n",
    "print(f'Found {len(patient_patches)} patches for patient {eg_patient}.')\n",
    "patient_patches[:5]"
   ]
  },
  {
   "cell_type": "code",
   "execution_count": null,
   "metadata": {},
   "outputs": [],
   "source": [
    "%%time\n",
    "\n",
    "print('Write patient files:')\n",
    "n = len(file_map)\n",
    "\n",
    "unrepresented_patients = []\n",
    "\n",
    "for i, patient in enumerate(file_map):\n",
    "    print('\\r' + f'{str((i + 1))}/{n}', end='')\n",
    "    \n",
    "    patch_dir = os.path.join(DATA_LOCATION, 'tissue_patches')\n",
    "    patches = list_patch_files(patient, patch_dir)\n",
    "    if patches is None:\n",
    "        unrepresented_patients.append(patient)\n",
    "        continue\n",
    "    \n",
    "    file_paths = [os.path.join(patch_dir, p)\n",
    "                  for p in patches]\n",
    "    \n",
    "    target_file = os.path.join(base_dir, str(patient) + '.tsv')\n",
    "   \n",
    "    with open(target_file, 'w') as f:\n",
    "        f.write('\\n'.join(file_paths))\n",
    "print()"
   ]
  },
  {
   "cell_type": "code",
   "execution_count": null,
   "metadata": {},
   "outputs": [],
   "source": [
    "print('# patients with no patches:')\n",
    "print(len(unrepresented_patients))"
   ]
  },
  {
   "cell_type": "code",
   "execution_count": null,
   "metadata": {},
   "outputs": [],
   "source": [
    "unrepresented_patients"
   ]
  },
  {
   "cell_type": "code",
   "execution_count": null,
   "metadata": {},
   "outputs": [],
   "source": [
    "# Not in selected patients!\n",
    "unrepresented_patients = ['TCGA-5P-A9KC',\n",
    "                          'TCGA-EM-A3AI',\n",
    "                          'TCGA-5P-A9KA',\n",
    "                          'TCGA-R5-A7ZR',\n",
    "                          'TCGA-19-1385']\n",
    "\n",
    "[x in labels.submitter_id for x in unrepresented_patients]"
   ]
  },
  {
   "cell_type": "markdown",
   "metadata": {},
   "source": [
    "## Reorganize directory\n",
    "\n",
    "Create a folder for each represented patient, move respective WSI patches into it, and, finally, update patch paths in patient files containing the list of patches for each patient."
   ]
  },
  {
   "cell_type": "code",
   "execution_count": null,
   "metadata": {},
   "outputs": [],
   "source": [
    "len(os.listdir(DATA_LOCATION))"
   ]
  },
  {
   "cell_type": "code",
   "execution_count": null,
   "metadata": {},
   "outputs": [],
   "source": [
    "os.listdir(DATA_LOCATION)[:5]"
   ]
  },
  {
   "cell_type": "code",
   "execution_count": null,
   "metadata": {},
   "outputs": [],
   "source": [
    "%%time\n",
    "\n",
    "patch_dir = os.path.join(DATA_LOCATION, 'tissue_patches')\n",
    "\n",
    "patient_files = [x for x in os.listdir(DATA_LOCATION)\n",
    "                 if x != 'tissue_patches']  # Avoid patch directory\n",
    "\n",
    "for i, patient_file in enumerate(patient_files):\n",
    "    print(f'\\r' + f'Create patient directories:' +\n",
    "          f' {str((i + 1))}/{len(patient_files)}', end='')\n",
    "    patient = patient_file.split('.')[0]\n",
    "    \n",
    "    # Create patient dir\n",
    "    patient_dir = os.path.join(patch_dir, patient)\n",
    "    os.mkdir(patient_dir)\n",
    "    \n",
    "    # Move patient patches into directory\n",
    "    patient_patches = list_patch_files(patient, patch_dir)\n",
    "    patient_patches = [x for x in patient_patches if '.png' in x]  # Not the dir\n",
    "    \n",
    "    for patch in patient_patches:\n",
    "        os.rename(os.path.join(patch_dir, patch),\n",
    "                  os.path.join(patient_dir, patch))\n",
    "print()\n",
    "print()"
   ]
  },
  {
   "cell_type": "code",
   "execution_count": null,
   "metadata": {},
   "outputs": [],
   "source": [
    "%%time\n",
    "\n",
    "# Update patient files\n",
    "# (add patient directory to paths to patches)\n",
    "patient_files = [x for x in os.listdir(DATA_LOCATION)\n",
    "                 if x != 'tissue_patches']  # Avoid patch directory\n",
    "\n",
    "for i, patient_file in enumerate(patient_files):\n",
    "    print(f'\\r' + f'Update paths in patient files:' +\n",
    "          f' {str((i + 1))}/{len(patient_files)}', end='')\n",
    "    \n",
    "    patient = patient_file.split('.')[0]\n",
    "    \n",
    "    # Collect paths from file\n",
    "    patient_file = os.path.join(DATA_LOCATION, patient_file)\n",
    "    file_paths = [line.rstrip('\\n') for line in open(patient_file)]\n",
    "    \n",
    "    # Add new dir name to path\n",
    "    updated_paths = []\n",
    "    \n",
    "    for path in file_paths:\n",
    "        path, file = path.split('tissue_patches')\n",
    "        updated_path = os.path.join(path, '/tissue_patches/', patient, file)\n",
    "        updated_paths.append(updated_path)\n",
    "    \n",
    "    # Write to patient file    \n",
    "    with open(patient_file, 'w') as f:\n",
    "        f.write('\\n'.join(updated_paths))\n",
    "print()\n",
    "print()"
   ]
  },
  {
   "cell_type": "markdown",
   "metadata": {},
   "source": [
    "Many patches remain that were not moved into specific patient directories. These will not be used by the PyTorch dataset, as they are not listed in specific patient files, so I will just delete them."
   ]
  },
  {
   "cell_type": "code",
   "execution_count": null,
   "metadata": {},
   "outputs": [],
   "source": [
    "patch_dir = os.path.join(DATA_LOCATION, 'tissue_patches')\n",
    "\n",
    "print('Number .png patch files:',\n",
    "      len([x for x in os.listdir(patch_dir) if '.png' in x]))\n",
    "print('Number of patch directories:',\n",
    "      len([x for x in os.listdir(patch_dir) if not '.png' in x]))"
   ]
  },
  {
   "cell_type": "code",
   "execution_count": null,
   "metadata": {},
   "outputs": [],
   "source": [
    "for f in os.listdir(patch_dir):\n",
    "    if '.png' in f:\n",
    "        os.remove(os.path.join(patch_dir, f))"
   ]
  },
  {
   "cell_type": "code",
   "execution_count": null,
   "metadata": {},
   "outputs": [],
   "source": [
    "patch_dir = os.path.join(DATA_LOCATION, 'tissue_patches')\n",
    "\n",
    "print('Number .png patch files:',\n",
    "      len([x for x in os.listdir(patch_dir) if '.png' in x]))\n",
    "print('Number of patch directories:',\n",
    "      len([x for x in os.listdir(patch_dir) if not '.png' in x]))"
   ]
  },
  {
   "cell_type": "markdown",
   "metadata": {},
   "source": [
    "## Delete bad patches\n",
    "\n",
    "Quick visual inspection shows that many patches are not suitable (contain mostly background, ink markings, ...).\n",
    "\n",
    "Use a simple mean intensity filter to remove bad patches."
   ]
  },
  {
   "cell_type": "code",
   "execution_count": null,
   "metadata": {},
   "outputs": [],
   "source": [
    "represented_patients = os.listdir(os.path.join(DATA_LOCATION, 'tissue_patches'))"
   ]
  },
  {
   "cell_type": "code",
   "execution_count": null,
   "metadata": {},
   "outputs": [],
   "source": [
    "len(represented_patients)"
   ]
  },
  {
   "cell_type": "code",
   "execution_count": null,
   "metadata": {},
   "outputs": [],
   "source": [
    "patient_files = os.listdir(DATA_LOCATION)\n",
    "patient_files = [f for f in patient_files if f != 'tissue_patches']\n",
    "print(len(patient_files))"
   ]
  },
  {
   "cell_type": "code",
   "execution_count": null,
   "metadata": {},
   "outputs": [],
   "source": [
    "def list_patient_patches(patient_id):\n",
    "    path = os.path.join(DATA_LOCATION, 'tissue_patches', patient_id)\n",
    "    files = os.listdir(path)\n",
    "    paths = [os.path.join(DATA_LOCATION, 'tissue_patches', patient_id, f)\n",
    "             for f in files]\n",
    "    \n",
    "    return paths\n",
    "\n",
    "def load_patch(path):\n",
    "    return mpimg.imread(path)\n",
    "\n",
    "# from PIL import Image\n",
    "# def load_patch(path):\n",
    "#     return np.array(Image.open(path))\n",
    "\n",
    "def compute_intensity_mean(patch, print_result=False):\n",
    "    means = []\n",
    "\n",
    "    for ch in range(3):\n",
    "        means.append(patch[:, :, ch].mean())\n",
    "        \n",
    "    if print_result:\n",
    "        print('Channel     Mean')\n",
    "        for i, ch in enumerate('RGB'):\n",
    "            print(f'  {ch}       {means[i]:2f}')\n",
    "\n",
    "    return means"
   ]
  },
  {
   "cell_type": "code",
   "execution_count": null,
   "metadata": {},
   "outputs": [],
   "source": [
    "list_patient_patches(patient_id=represented_patients[0])[:5]"
   ]
  },
  {
   "cell_type": "code",
   "execution_count": null,
   "metadata": {},
   "outputs": [],
   "source": [
    "patch = load_patch(list_patient_patches(patient_id=represented_patients[1])[0])\n",
    "means = compute_intensity_mean(patch / 255., print_result=True)"
   ]
  },
  {
   "cell_type": "code",
   "execution_count": null,
   "metadata": {},
   "outputs": [],
   "source": [
    "imgplot = plt.imshow(patch)"
   ]
  },
  {
   "cell_type": "markdown",
   "metadata": {},
   "source": [
    "### Find outliers"
   ]
  },
  {
   "cell_type": "code",
   "execution_count": null,
   "metadata": {},
   "outputs": [],
   "source": [
    "def count_patches(patients):\n",
    "    n = 0\n",
    "\n",
    "    for patient in patients:\n",
    "        n += len(list_patient_patches(patient))\n",
    "    \n",
    "    return n"
   ]
  },
  {
   "cell_type": "code",
   "execution_count": null,
   "metadata": {},
   "outputs": [],
   "source": [
    "patch_count = count_patches(patients=represented_patients)\n",
    "print('Total number of patches:', patch_count)"
   ]
  },
  {
   "cell_type": "raw",
   "metadata": {},
   "source": [
    "def list_outliers(threshold=(0, 1)):\n",
    "    low, high = threshold\n",
    "\n",
    "    outlier_paths = []\n",
    "\n",
    "    for i, patient in enumerate(represented_patients):\n",
    "        print(f'\\r', f'Check all patients: {i}/{len(represented_patients)}',\n",
    "              end='')\n",
    "        patch_files = list_patient_patches(patient)\n",
    "\n",
    "        for patch_file in patch_files:\n",
    "            patch = load_patch(patch_file)\n",
    "            means = compute_intensity_mean(patch, print_result=False)\n",
    "            if not low < means[0] < high:\n",
    "                outlier_paths.append(\n",
    "                    os.path.join(DATA_LOCATION, 'tissue_patches', patient, patch_file))\n",
    "\n",
    "    return outlier_paths"
   ]
  },
  {
   "cell_type": "code",
   "execution_count": null,
   "metadata": {},
   "outputs": [],
   "source": [
    "%%time\n",
    "\n",
    "# Set thresholds by running some patients and looking at results\n",
    "low = 0.35\n",
    "high = 0.9\n",
    "\n",
    "outlier_paths = []\n",
    "\n",
    "for i, patient in enumerate(represented_patients):\n",
    "    print(f'\\r', f'Check all patients: {i}/{len(represented_patients)}',\n",
    "          end='')\n",
    "    patch_files = list_patient_patches(patient)\n",
    "\n",
    "    for patch_file in patch_files:\n",
    "        patch = load_patch(patch_file)\n",
    "        means = compute_intensity_mean(patch, print_result=False)\n",
    "        if not low < means[0] < high:\n",
    "            outlier_paths.append(\n",
    "                os.path.join(DATA_LOCATION, 'tissue_patches', patient, patch_file))"
   ]
  },
  {
   "cell_type": "code",
   "execution_count": null,
   "metadata": {},
   "outputs": [],
   "source": [
    "percent_patches = round(len(outlier_paths) * 100 / patch_count, 1)\n",
    "patients = set([x.split('/')[-2] for x in outlier_paths])\n",
    "percent_patients = round(len(patients) * 100 / len(represented_patients), 1)\n",
    "\n",
    "print(f'{len(outlier_paths)} outlier patches out of {patch_count} ({percent_patches}%)')\n",
    "print(f'from {len(patients)} patients out of {len(represented_patients)} ({percent_patients}%)')"
   ]
  },
  {
   "cell_type": "markdown",
   "metadata": {},
   "source": [
    "### Visualize outlier examples"
   ]
  },
  {
   "cell_type": "code",
   "execution_count": null,
   "metadata": {},
   "outputs": [],
   "source": [
    "import random\n",
    "\n",
    "i = random.randint(0, len(outlier_paths) - 1)\n",
    "outlier_patch = load_patch(outlier_paths[i])\n",
    "means = compute_intensity_mean(outlier_patch, print_result=True)\n",
    "imgplot = plt.imshow(outlier_patch)"
   ]
  },
  {
   "cell_type": "markdown",
   "metadata": {},
   "source": [
    "### Delete outlier patch files"
   ]
  },
  {
   "cell_type": "code",
   "execution_count": null,
   "metadata": {},
   "outputs": [],
   "source": [
    "all_patches = []\n",
    "for pid in represented_patients:\n",
    "    all_patches += list_patient_patches(patient_id=pid)"
   ]
  },
  {
   "cell_type": "code",
   "execution_count": null,
   "metadata": {},
   "outputs": [],
   "source": [
    "len(all_patches)"
   ]
  },
  {
   "cell_type": "code",
   "execution_count": null,
   "metadata": {},
   "outputs": [],
   "source": [
    "def how_many_patches_per_patient(patches):\n",
    "    patches_named_as_patients = ['-'.join(os.path.basename(patch).split('-')[:3])\n",
    "                                 for patch in patches]\n",
    "    \n",
    "    c = Counter(patches_named_as_patients)\n",
    "\n",
    "    print(f'# patches: {len(patches_named_as_patients)}')\n",
    "    print(f'# Represented patients: {len(c)}')\n",
    "    unique_counts = set(c.values())\n",
    "    print(f'Unique #s patches per patient: {unique_counts}')"
   ]
  },
  {
   "cell_type": "code",
   "execution_count": null,
   "metadata": {},
   "outputs": [],
   "source": [
    "how_many_patches_per_patient(all_patches)"
   ]
  },
  {
   "cell_type": "code",
   "execution_count": null,
   "metadata": {},
   "outputs": [],
   "source": [
    "outlier_paths[:5]"
   ]
  },
  {
   "cell_type": "code",
   "execution_count": null,
   "metadata": {},
   "outputs": [],
   "source": [
    "for f in outlier_paths:\n",
    "    os.remove(f)"
   ]
  },
  {
   "cell_type": "code",
   "execution_count": null,
   "metadata": {},
   "outputs": [],
   "source": [
    "count_patches(patients=represented_patients)"
   ]
  },
  {
   "cell_type": "code",
   "execution_count": null,
   "metadata": {},
   "outputs": [],
   "source": [
    "len(all_patches) - len(outlier_paths)"
   ]
  },
  {
   "cell_type": "markdown",
   "metadata": {},
   "source": [
    "### Generate patient files\n",
    "\n",
    "Update patient files to account for deleted patches."
   ]
  },
  {
   "cell_type": "code",
   "execution_count": null,
   "metadata": {},
   "outputs": [],
   "source": [
    "all_patches = []\n",
    "for pid in represented_patients:\n",
    "    all_patches += list_patient_patches(patient_id=pid)"
   ]
  },
  {
   "cell_type": "code",
   "execution_count": null,
   "metadata": {},
   "outputs": [],
   "source": [
    "all_patches_ids = list(set(['-'.join(os.path.basename(patch).split('-')[:3])\n",
    "                            for patch in all_patches]))\n",
    "\n",
    "for pid in represented_patients:\n",
    "    if not pid in all_patches_ids:\n",
    "        print(pid, 'no longer among represented patients')"
   ]
  },
  {
   "cell_type": "code",
   "execution_count": null,
   "metadata": {},
   "outputs": [],
   "source": [
    "len(all_patches)"
   ]
  },
  {
   "cell_type": "code",
   "execution_count": null,
   "metadata": {},
   "outputs": [],
   "source": [
    "# Remove previous patient files\n",
    "for f in os.listdir(DATA_LOCATION):\n",
    "    if f != 'tissue_patches':\n",
    "        os.remove(os.path.join(DATA_LOCATION, f))"
   ]
  },
  {
   "cell_type": "code",
   "execution_count": null,
   "metadata": {},
   "outputs": [],
   "source": [
    "os.listdir(DATA_LOCATION)"
   ]
  },
  {
   "cell_type": "code",
   "execution_count": null,
   "metadata": {},
   "outputs": [],
   "source": [
    "patient_patch_map = {}\n",
    "\n",
    "previous_id = None\n",
    "\n",
    "for patch_path in all_patches:\n",
    "    pid = '-'.join(os.path.basename(patch_path).split('-')[:3])\n",
    "    \n",
    "    if not pid in patient_patch_map.keys():\n",
    "        patient_patch_map[pid] = [patch_path]\n",
    "    else:\n",
    "        patient_patch_map[pid].append(patch_path)"
   ]
  },
  {
   "cell_type": "code",
   "execution_count": null,
   "metadata": {},
   "outputs": [],
   "source": [
    "len(patient_patch_map)"
   ]
  },
  {
   "cell_type": "code",
   "execution_count": null,
   "metadata": {},
   "outputs": [],
   "source": [
    "%%time\n",
    "\n",
    "print('Write patient files:')\n",
    "\n",
    "base_dir = '/mnt/dataA/TCGA/processed/WSI/'\n",
    "n = len(patient_patch_map)\n",
    "\n",
    "for i, (patient, files) in enumerate(patient_patch_map.items()):\n",
    "    print('\\r' + f'{str((i + 1))}/{n}', end='')\n",
    "    \n",
    "    target_file = os.path.join(DATA_LOCATION, str(patient) + '.txt')\n",
    "\n",
    "    with open(target_file, 'w') as f:\n",
    "        f.write('\\n'.join(patient_files))\n",
    "print()"
   ]
  },
  {
   "cell_type": "code",
   "execution_count": null,
   "metadata": {},
   "outputs": [],
   "source": [
    "len([x for x in os.listdir(DATA_LOCATION) if x != 'tissue_patches'])"
   ]
  },
  {
   "cell_type": "markdown",
   "metadata": {},
   "source": [
    "# Compute patch mean and std\n",
    "\n",
    "Since the mean and standard deviation values of the WSI patches may differ from the ImageNet values provided by PyTorch, compute here sensible overall values from the dataset.\n",
    "\n",
    "The dataloader samples random examples from each patient's available patches, so run through full dataloader a couple of times to check variability."
   ]
  },
  {
   "cell_type": "code",
   "execution_count": null,
   "metadata": {},
   "outputs": [],
   "source": [
    "import sys\n",
    "\n",
    "# Make modules in \"src\" dir visible\n",
    "if os.getcwd() not in sys.path:\n",
    "    sys.path.append(os.path.join(os.getcwd(), os.pardir, 'src'))\n",
    "\n",
    "import utils"
   ]
  },
  {
   "cell_type": "code",
   "execution_count": null,
   "metadata": {},
   "outputs": [],
   "source": [
    "os.path.join(DATA_LOCATION, os.pardir)"
   ]
  },
  {
   "cell_type": "code",
   "execution_count": null,
   "metadata": {},
   "outputs": [],
   "source": [
    "dataloaders = utils.get_dataloaders(data_location=os.path.join(DATA_LOCATION, os.pardir),\n",
    "                                    labels_file='labels.tsv',\n",
    "                                    modalities=['wsi'],\n",
    "                                    wsi_patch_size=299,\n",
    "                                    n_wsi_patches=1,\n",
    "                                    batch_size=32,\n",
    "#                                     exclude_patients=exclude_cancers\n",
    "                                   )"
   ]
  },
  {
   "cell_type": "code",
   "execution_count": null,
   "metadata": {},
   "outputs": [],
   "source": [
    "for x in dataloaders['train']:\n",
    "    print(x[0]['wsi'].shape)\n",
    "    break"
   ]
  },
  {
   "cell_type": "code",
   "execution_count": null,
   "metadata": {},
   "outputs": [],
   "source": [
    "x[0]['wsi'][:, :, 0, :, :].mean()"
   ]
  },
  {
   "cell_type": "code",
   "execution_count": null,
   "metadata": {},
   "outputs": [],
   "source": [
    "x[0]['wsi'][:, :, 1, :, :].mean()"
   ]
  },
  {
   "cell_type": "code",
   "execution_count": null,
   "metadata": {},
   "outputs": [],
   "source": [
    "x[0]['wsi'][:, :, 2, :, :].mean()"
   ]
  },
  {
   "cell_type": "code",
   "execution_count": null,
   "metadata": {},
   "outputs": [],
   "source": [
    "x[0]['wsi'].shape[0]"
   ]
  },
  {
   "cell_type": "code",
   "execution_count": null,
   "metadata": {},
   "outputs": [],
   "source": [
    "import torch\n",
    "from tqdm.notebook import tqdm\n",
    "\n",
    "def compute_wsi_patch_stats(data_loader=dataloaders['train']):\n",
    "    n_channels = 3\n",
    "    n = len(data_loader.dataset)\n",
    "\n",
    "    mean = torch.zeros(n_channels)\n",
    "    std = torch.zeros(n_channels)\n",
    "\n",
    "    print('Computing mean and std..')\n",
    "    for minibatch in tqdm(data_loader):\n",
    "        for j in range(minibatch[0]['wsi'].shape[0]):  # each individual patch\n",
    "            for i in range(n_channels):\n",
    "                mean_value = minibatch[0]['wsi'][:, :, i, :, :].mean()\n",
    "                if mean_value > 0.1:  # avoid all-zero patches (missing data)\n",
    "                    mean[i] += mean_value\n",
    "                    std[i] += minibatch[0]['wsi'][:, :, i, :, :].std()\n",
    "    mean.div_(n)\n",
    "    std.div_(n)\n",
    "    print(mean, std)\n",
    "    \n",
    "    return mean, std"
   ]
  },
  {
   "cell_type": "code",
   "execution_count": null,
   "metadata": {},
   "outputs": [],
   "source": [
    "multiple_run_means = []\n",
    "multiple_run_stds = []"
   ]
  },
  {
   "cell_type": "code",
   "execution_count": null,
   "metadata": {},
   "outputs": [],
   "source": [
    "%%time\n",
    "\n",
    "n_runs = 5\n",
    "\n",
    "for _ in tqdm(range(n_runs)):\n",
    "    mean, std = compute_wsi_patch_stats(data_loader=dataloaders['train'])\n",
    "    \n",
    "    multiple_run_means.append(mean)\n",
    "    multiple_run_stds.append(std)\n",
    "print()"
   ]
  },
  {
   "cell_type": "code",
   "execution_count": null,
   "metadata": {},
   "outputs": [],
   "source": [
    "print('          -- Means --' + ' ' * 24 + '-- STDs --')\n",
    "for i in range(len(multiple_run_means)):\n",
    "    print(multiple_run_means[i], ' ', multiple_run_stds[i])"
   ]
  },
  {
   "cell_type": "markdown",
   "metadata": {},
   "source": [
    "# Watermark <a class='tocSkip'></a>"
   ]
  },
  {
   "cell_type": "code",
   "execution_count": null,
   "metadata": {},
   "outputs": [],
   "source": [
    "%watermark --iversions\n",
    "%watermark -v\n",
    "print()\n",
    "%watermark -u -n"
   ]
  },
  {
   "cell_type": "markdown",
   "metadata": {},
   "source": [
    "[Top of the page](#Top)"
   ]
  }
 ],
 "metadata": {
  "kernelspec": {
   "display_name": "Python 3 (ipykernel)",
   "language": "python",
   "name": "python3"
  },
  "language_info": {
   "codemirror_mode": {
    "name": "ipython",
    "version": 3
   },
   "file_extension": ".py",
   "mimetype": "text/x-python",
   "name": "python",
   "nbconvert_exporter": "python",
   "pygments_lexer": "ipython3",
   "version": "3.8.20"
  },
  "toc": {
   "base_numbering": 1,
   "nav_menu": {
    "height": "197px",
    "width": "372px"
   },
   "number_sections": true,
   "sideBar": true,
   "skip_h1_title": false,
   "title_cell": "Table of Contents",
   "title_sidebar": "Contents",
   "toc_cell": true,
   "toc_position": {
    "height": "calc(100% - 180px)",
    "left": "10px",
    "top": "150px",
    "width": "298px"
   },
   "toc_section_display": true,
   "toc_window_display": true
  }
 },
 "nbformat": 4,
 "nbformat_minor": 4
}
