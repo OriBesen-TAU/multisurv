{
 "cells": [
  {
   "cell_type": "markdown",
   "metadata": {},
   "source": [
    "<a id='Top'></a>\n",
    "\n",
    "# Prepare clinical data <a class='tocSkip'></a>\n",
    "\n",
    "Preprocess clinical data for all patients, collect relevant survival labels and define train/validation/test split using the unique patient ID codes."
   ]
  },
  {
   "cell_type": "code",
   "execution_count": 1,
   "metadata": {
    "code_folding": []
   },
   "outputs": [],
   "source": [
    "%load_ext autoreload\n",
    "%autoreload 2\n",
    "\n",
    "%load_ext watermark\n",
    "\n",
    "import os\n",
    "\n",
    "import pandas as pd\n",
    "from sklearn.model_selection import StratifiedKFold, train_test_split\n",
    "from sklearn.preprocessing import MinMaxScaler\n",
    "from sklearn.preprocessing import LabelEncoder\n",
    "from lifelines import KaplanMeierFitter"
   ]
  },
  {
   "cell_type": "code",
   "execution_count": 2,
   "metadata": {},
   "outputs": [],
   "source": [
    "DATA_LOCATION = '/mnt/data/Processed_Data/Clinical'"
   ]
  },
  {
   "cell_type": "markdown",
   "metadata": {
    "toc": true
   },
   "source": [
    "<h1>Table of Contents<span class=\"tocSkip\"></span></h1>\n",
    "<div class=\"toc\"><ul class=\"toc-item\"><li><span><a href=\"#Load-and-explore-data\" data-toc-modified-id=\"Load-and-explore-data-1\"><span class=\"toc-item-num\">1&nbsp;&nbsp;</span>Load and explore data</a></span></li><li><span><a href=\"#Select-variables\" data-toc-modified-id=\"Select-variables-2\"><span class=\"toc-item-num\">2&nbsp;&nbsp;</span>Select variables</a></span></li><li><span><a href=\"#Clean-up-inconsistencies\" data-toc-modified-id=\"Clean-up-inconsistencies-3\"><span class=\"toc-item-num\">3&nbsp;&nbsp;</span>Clean up inconsistencies</a></span><ul class=\"toc-item\"><li><span><a href=\"#Consolidate-race-and-ethnicity\" data-toc-modified-id=\"Consolidate-race-and-ethnicity-3.1\"><span class=\"toc-item-num\">3.1&nbsp;&nbsp;</span>Consolidate <code>race</code> and <code>ethnicity</code></a></span></li><li><span><a href=\"#Missing-label-data\" data-toc-modified-id=\"Missing-label-data-3.2\"><span class=\"toc-item-num\">3.2&nbsp;&nbsp;</span>Missing label data</a></span><ul class=\"toc-item\"><li><span><a href=\"#vital_status\" data-toc-modified-id=\"vital_status-3.2.1\"><span class=\"toc-item-num\">3.2.1&nbsp;&nbsp;</span><code>vital_status</code></a></span></li><li><span><a href=\"#Both-duration-values\" data-toc-modified-id=\"Both-duration-values-3.2.2\"><span class=\"toc-item-num\">3.2.2&nbsp;&nbsp;</span>Both duration values</a></span></li><li><span><a href=\"#Required-duration-value\" data-toc-modified-id=\"Required-duration-value-3.2.3\"><span class=\"toc-item-num\">3.2.3&nbsp;&nbsp;</span>Required duration value</a></span></li></ul></li><li><span><a href=\"#Not-missing-days_to_last_follow_up-when-vital_status-is-&quot;Dead&quot;\" data-toc-modified-id=\"Not-missing-days_to_last_follow_up-when-vital_status-is-&quot;Dead&quot;-3.3\"><span class=\"toc-item-num\">3.3&nbsp;&nbsp;</span>Not missing <code>days_to_last_follow_up</code> when <code>vital_status</code> is \"Dead\"</a></span></li><li><span><a href=\"#Negative-durations\" data-toc-modified-id=\"Negative-durations-3.4\"><span class=\"toc-item-num\">3.4&nbsp;&nbsp;</span>Negative durations</a></span></li></ul></li><li><span><a href=\"#Label-data\" data-toc-modified-id=\"Label-data-4\"><span class=\"toc-item-num\">4&nbsp;&nbsp;</span>Label data</a></span></li><li><span><a href=\"#Train-val-test-split\" data-toc-modified-id=\"Train-val-test-split-5\"><span class=\"toc-item-num\">5&nbsp;&nbsp;</span>Train-val-test split</a></span><ul class=\"toc-item\"><li><span><a href=\"#Survival-curves\" data-toc-modified-id=\"Survival-curves-5.1\"><span class=\"toc-item-num\">5.1&nbsp;&nbsp;</span>Survival curves</a></span></li></ul></li><li><span><a href=\"#Save-clinical-data-to-file\" data-toc-modified-id=\"Save-clinical-data-to-file-6\"><span class=\"toc-item-num\">6&nbsp;&nbsp;</span>Save clinical data to file</a></span></li><li><span><a href=\"#Input-missing-values\" data-toc-modified-id=\"Input-missing-values-7\"><span class=\"toc-item-num\">7&nbsp;&nbsp;</span>Input missing values</a></span></li><li><span><a href=\"#Scale-continuous-variables\" data-toc-modified-id=\"Scale-continuous-variables-8\"><span class=\"toc-item-num\">8&nbsp;&nbsp;</span>Scale continuous variables</a></span></li><li><span><a href=\"#Encode-categorical-variables\" data-toc-modified-id=\"Encode-categorical-variables-9\"><span class=\"toc-item-num\">9&nbsp;&nbsp;</span>Encode categorical variables</a></span></li><li><span><a href=\"#Save-patient-data-to-files\" data-toc-modified-id=\"Save-patient-data-to-files-10\"><span class=\"toc-item-num\">10&nbsp;&nbsp;</span>Save patient data to files</a></span><ul class=\"toc-item\"><li><span><a href=\"#Survival-labels\" data-toc-modified-id=\"Survival-labels-10.1\"><span class=\"toc-item-num\">10.1&nbsp;&nbsp;</span>Survival labels</a></span></li><li><span><a href=\"#Clinical-data\" data-toc-modified-id=\"Clinical-data-10.2\"><span class=\"toc-item-num\">10.2&nbsp;&nbsp;</span>Clinical data</a></span></li></ul></li></ul></div>"
   ]
  },
  {
   "cell_type": "markdown",
   "metadata": {},
   "source": [
    "# Load and explore data\n",
    "\n",
    "General exploration of data to remove features:\n",
    "    * missing all data\n",
    "    * with as many levels as there are patients"
   ]
  },
  {
   "cell_type": "code",
   "execution_count": 3,
   "metadata": {},
   "outputs": [],
   "source": [
    "clinical = pd.read_csv('/mnt/data/RawData/clinical_data.tsv',\n",
    "                       sep='\\t', na_values=['not reported', 'Not Reported'],\n",
    "                       low_memory=False)"
   ]
  },
  {
   "cell_type": "code",
   "execution_count": 4,
   "metadata": {},
   "outputs": [
    {
     "data": {
      "text/plain": [
       "(1098, 103)"
      ]
     },
     "execution_count": 4,
     "metadata": {},
     "output_type": "execute_result"
    }
   ],
   "source": [
    "clinical.shape"
   ]
  },
  {
   "cell_type": "code",
   "execution_count": 5,
   "metadata": {},
   "outputs": [
    {
     "data": {
      "text/html": [
       "<div>\n",
       "<style scoped>\n",
       "    .dataframe tbody tr th:only-of-type {\n",
       "        vertical-align: middle;\n",
       "    }\n",
       "\n",
       "    .dataframe tbody tr th {\n",
       "        vertical-align: top;\n",
       "    }\n",
       "\n",
       "    .dataframe thead th {\n",
       "        text-align: right;\n",
       "    }\n",
       "</style>\n",
       "<table border=\"1\" class=\"dataframe\">\n",
       "  <thead>\n",
       "    <tr style=\"text-align: right;\">\n",
       "      <th></th>\n",
       "      <th>project</th>\n",
       "      <th>submitter_id</th>\n",
       "      <th>synchronous_malignancy</th>\n",
       "      <th>ajcc_pathologic_stage</th>\n",
       "      <th>days_to_diagnosis</th>\n",
       "      <th>laterality</th>\n",
       "      <th>created_datetime</th>\n",
       "      <th>last_known_disease_status</th>\n",
       "      <th>tissue_or_organ_of_origin</th>\n",
       "      <th>age_at_diagnosis</th>\n",
       "      <th>...</th>\n",
       "      <th>treatments_radiation_clinical_trial_indicator</th>\n",
       "      <th>treatments_radiation_course_number</th>\n",
       "      <th>treatments_radiation_treatment_dose</th>\n",
       "      <th>treatments_radiation_number_of_fractions</th>\n",
       "      <th>treatments_radiation_treatment_dose_units</th>\n",
       "      <th>treatments_radiation_prescribed_dose_units</th>\n",
       "      <th>treatments_radiation_route_of_administration</th>\n",
       "      <th>treatments_radiation_prescribed_dose</th>\n",
       "      <th>treatments_radiation_number_of_cycles</th>\n",
       "      <th>bcr_patient_barcode</th>\n",
       "    </tr>\n",
       "  </thead>\n",
       "  <tbody>\n",
       "    <tr>\n",
       "      <th>0</th>\n",
       "      <td>TCGA-BRCA</td>\n",
       "      <td>TCGA-A7-A0DC</td>\n",
       "      <td>No</td>\n",
       "      <td>Stage IA</td>\n",
       "      <td>0.0</td>\n",
       "      <td>NaN</td>\n",
       "      <td>NaN</td>\n",
       "      <td>NaN</td>\n",
       "      <td>Breast, NOS</td>\n",
       "      <td>23294.0</td>\n",
       "      <td>...</td>\n",
       "      <td>NaN</td>\n",
       "      <td>NaN</td>\n",
       "      <td>NaN</td>\n",
       "      <td>NaN</td>\n",
       "      <td>NaN</td>\n",
       "      <td>NaN</td>\n",
       "      <td>NaN</td>\n",
       "      <td>NaN</td>\n",
       "      <td>NaN</td>\n",
       "      <td>TCGA-A7-A0DC</td>\n",
       "    </tr>\n",
       "    <tr>\n",
       "      <th>1</th>\n",
       "      <td>TCGA-BRCA</td>\n",
       "      <td>TCGA-Z7-A8R6</td>\n",
       "      <td>No</td>\n",
       "      <td>Stage I</td>\n",
       "      <td>0.0</td>\n",
       "      <td>Left</td>\n",
       "      <td>NaN</td>\n",
       "      <td>NaN</td>\n",
       "      <td>Overlapping lesion of breast</td>\n",
       "      <td>16955.0</td>\n",
       "      <td>...</td>\n",
       "      <td>NaN</td>\n",
       "      <td>NaN</td>\n",
       "      <td>NaN</td>\n",
       "      <td>NaN</td>\n",
       "      <td>NaN</td>\n",
       "      <td>NaN</td>\n",
       "      <td>NaN</td>\n",
       "      <td>NaN</td>\n",
       "      <td>NaN</td>\n",
       "      <td>TCGA-Z7-A8R6</td>\n",
       "    </tr>\n",
       "    <tr>\n",
       "      <th>2</th>\n",
       "      <td>TCGA-BRCA</td>\n",
       "      <td>TCGA-C8-A1HE</td>\n",
       "      <td>No</td>\n",
       "      <td>Stage IIA</td>\n",
       "      <td>0.0</td>\n",
       "      <td>Right</td>\n",
       "      <td>NaN</td>\n",
       "      <td>NaN</td>\n",
       "      <td>Breast, NOS</td>\n",
       "      <td>NaN</td>\n",
       "      <td>...</td>\n",
       "      <td>NaN</td>\n",
       "      <td>NaN</td>\n",
       "      <td>NaN</td>\n",
       "      <td>NaN</td>\n",
       "      <td>NaN</td>\n",
       "      <td>NaN</td>\n",
       "      <td>NaN</td>\n",
       "      <td>NaN</td>\n",
       "      <td>NaN</td>\n",
       "      <td>TCGA-C8-A1HE</td>\n",
       "    </tr>\n",
       "  </tbody>\n",
       "</table>\n",
       "<p>3 rows × 103 columns</p>\n",
       "</div>"
      ],
      "text/plain": [
       "     project  submitter_id synchronous_malignancy ajcc_pathologic_stage  \\\n",
       "0  TCGA-BRCA  TCGA-A7-A0DC                     No              Stage IA   \n",
       "1  TCGA-BRCA  TCGA-Z7-A8R6                     No               Stage I   \n",
       "2  TCGA-BRCA  TCGA-C8-A1HE                     No             Stage IIA   \n",
       "\n",
       "   days_to_diagnosis laterality  created_datetime  last_known_disease_status  \\\n",
       "0                0.0        NaN               NaN                        NaN   \n",
       "1                0.0       Left               NaN                        NaN   \n",
       "2                0.0      Right               NaN                        NaN   \n",
       "\n",
       "      tissue_or_organ_of_origin  age_at_diagnosis  ...  \\\n",
       "0                   Breast, NOS           23294.0  ...   \n",
       "1  Overlapping lesion of breast           16955.0  ...   \n",
       "2                   Breast, NOS               NaN  ...   \n",
       "\n",
       "  treatments_radiation_clinical_trial_indicator  \\\n",
       "0                                           NaN   \n",
       "1                                           NaN   \n",
       "2                                           NaN   \n",
       "\n",
       "  treatments_radiation_course_number treatments_radiation_treatment_dose  \\\n",
       "0                                NaN                                 NaN   \n",
       "1                                NaN                                 NaN   \n",
       "2                                NaN                                 NaN   \n",
       "\n",
       "   treatments_radiation_number_of_fractions  \\\n",
       "0                                       NaN   \n",
       "1                                       NaN   \n",
       "2                                       NaN   \n",
       "\n",
       "  treatments_radiation_treatment_dose_units  \\\n",
       "0                                       NaN   \n",
       "1                                       NaN   \n",
       "2                                       NaN   \n",
       "\n",
       "  treatments_radiation_prescribed_dose_units  \\\n",
       "0                                        NaN   \n",
       "1                                        NaN   \n",
       "2                                        NaN   \n",
       "\n",
       "  treatments_radiation_route_of_administration  \\\n",
       "0                                          NaN   \n",
       "1                                          NaN   \n",
       "2                                          NaN   \n",
       "\n",
       "   treatments_radiation_prescribed_dose treatments_radiation_number_of_cycles  \\\n",
       "0                                   NaN                                   NaN   \n",
       "1                                   NaN                                   NaN   \n",
       "2                                   NaN                                   NaN   \n",
       "\n",
       "  bcr_patient_barcode  \n",
       "0        TCGA-A7-A0DC  \n",
       "1        TCGA-Z7-A8R6  \n",
       "2        TCGA-C8-A1HE  \n",
       "\n",
       "[3 rows x 103 columns]"
      ]
     },
     "execution_count": 5,
     "metadata": {},
     "output_type": "execute_result"
    }
   ],
   "source": [
    "clinical.head(3)"
   ]
  },
  {
   "cell_type": "code",
   "execution_count": 6,
   "metadata": {},
   "outputs": [
    {
     "name": "stdout",
     "output_type": "stream",
     "text": [
      "~~ MISSING DATA ~~\n",
      "\n",
      "synchronous_malignancy: 10 (0.91%)\n",
      "ajcc_pathologic_stage: 12 (1.09%)\n",
      "days_to_diagnosis: 1 (0.09%)\n",
      "laterality: 2 (0.18%)\n",
      "tissue_or_organ_of_origin: 1 (0.09%)\n",
      "age_at_diagnosis: 16 (1.46%)\n",
      "primary_diagnosis: 1 (0.09%)\n",
      "updated_datetime: 1 (0.09%)\n",
      "prior_malignancy: 10 (0.91%)\n",
      "year_of_diagnosis: 3 (0.27%)\n",
      "state: 1 (0.09%)\n",
      "prior_treatment: 3 (0.27%)\n",
      "diagnosis_is_primary_disease: 2 (0.18%)\n",
      "method_of_diagnosis: 100 (9.11%)\n",
      "ajcc_staging_system_edition: 142 (12.93%)\n",
      "ajcc_pathologic_t: 1 (0.09%)\n",
      "morphology: 1 (0.09%)\n",
      "ajcc_pathologic_n: 1 (0.09%)\n",
      "ajcc_pathologic_m: 1 (0.09%)\n",
      "classification_of_tumor: 2 (0.18%)\n",
      "diagnosis_id: 1 (0.09%)\n",
      "icd_10_code: 1 (0.09%)\n",
      "site_of_resection_or_biopsy: 1 (0.09%)\n",
      "metastasis_at_diagnosis: 688 (62.66%)\n",
      "exposure_id: 1097 (99.91%)\n",
      "race: 96 (8.74%)\n",
      "gender: 1 (0.09%)\n",
      "ethnicity: 167 (15.21%)\n",
      "vital_status: 1 (0.09%)\n",
      "age_at_index: 1 (0.09%)\n",
      "days_to_birth: 16 (1.46%)\n",
      "year_of_birth: 1097 (99.91%)\n",
      "demographic_id: 1 (0.09%)\n",
      "age_is_obfuscated: 2 (0.18%)\n",
      "country_of_residence_at_enrollment: 401 (36.52%)\n",
      "days_to_death: 947 (86.25%)\n",
      "days_to_last_follow_up: 2 (0.18%)\n",
      "follow_ups_disease_response: 63 (5.74%)\n",
      "treatments_pharmaceutical_days_to_treatment_end: 1091 (99.36%)\n",
      "treatments_pharmaceutical_days_to_treatment_start: 1087 (99.0%)\n",
      "treatments_pharmaceutical_treatment_id: 840 (76.5%)\n",
      "treatments_pharmaceutical_treatment_type: 840 (76.5%)\n",
      "treatments_pharmaceutical_therapeutic_agents: 1088 (99.09%)\n",
      "treatments_pharmaceutical_treatment_or_therapy: 840 (76.5%)\n",
      "treatments_pharmaceutical_treatment_intent_type: 847 (77.14%)\n",
      "treatments_pharmaceutical_treatment_outcome: 1089 (99.18%)\n",
      "treatments_pharmaceutical_clinical_trial_indicator: 1093 (99.54%)\n",
      "treatments_pharmaceutical_treatment_dose: 1094 (99.64%)\n",
      "treatments_pharmaceutical_treatment_dose_units: 1094 (99.64%)\n",
      "treatments_pharmaceutical_prescribed_dose_units: 1093 (99.54%)\n",
      "treatments_pharmaceutical_route_of_administration: 1092 (99.45%)\n",
      "treatments_pharmaceutical_prescribed_dose: 1093 (99.54%)\n",
      "treatments_pharmaceutical_number_of_cycles: 1097 (99.91%)\n",
      "treatments_radiation_days_to_treatment_end: 594 (54.1%)\n",
      "treatments_radiation_days_to_treatment_start: 595 (54.19%)\n",
      "treatments_radiation_treatment_id: 80 (7.29%)\n",
      "treatments_radiation_treatment_type: 80 (7.29%)\n",
      "treatments_radiation_treatment_or_therapy: 80 (7.29%)\n",
      "treatments_radiation_initial_disease_status: 1095 (99.73%)\n",
      "treatments_radiation_treatment_intent_type: 313 (28.51%)\n",
      "treatments_radiation_treatment_outcome: 872 (79.42%)\n",
      "treatments_radiation_treatment_anatomic_sites: 590 (53.73%)\n",
      "treatments_radiation_course_number: 846 (77.05%)\n",
      "treatments_radiation_treatment_dose: 658 (59.93%)\n",
      "treatments_radiation_number_of_fractions: 713 (64.94%)\n",
      "treatments_radiation_treatment_dose_units: 658 (59.93%)\n"
     ]
    }
   ],
   "source": [
    "print('~~ MISSING DATA ~~')\n",
    "print()\n",
    "\n",
    "n = clinical.shape[0]\n",
    "\n",
    "for col in clinical.columns:\n",
    "    if col == 'submitter_id':\n",
    "        continue\n",
    "\n",
    "    n_levels = len(clinical[col].value_counts())\n",
    "    \n",
    "    if n_levels == n:\n",
    "        clinical = clinical.drop(columns=[col])\n",
    "    else:\n",
    "        n_missing = sum(clinical[col].isnull())\n",
    "        if n_missing > 0:\n",
    "            if n_missing == n:\n",
    "                clinical = clinical.drop(columns=[col])\n",
    "            else:\n",
    "                print(f'{col}: {n_missing} ({round(n_missing / n * 100, 2)}%)')"
   ]
  },
  {
   "cell_type": "code",
   "execution_count": 7,
   "metadata": {},
   "outputs": [
    {
     "data": {
      "text/plain": [
       "(1098, 68)"
      ]
     },
     "execution_count": 7,
     "metadata": {},
     "output_type": "execute_result"
    }
   ],
   "source": [
    "clinical.shape"
   ]
  },
  {
   "cell_type": "markdown",
   "metadata": {},
   "source": [
    "# Select variables\n",
    "\n",
    "Select a few variables to keep and drop the remaining ones."
   ]
  },
  {
   "cell_type": "code",
   "execution_count": 8,
   "metadata": {},
   "outputs": [
    {
     "data": {
      "text/plain": [
       "Index(['project', 'submitter_id', 'synchronous_malignancy',\n",
       "       'ajcc_pathologic_stage', 'days_to_diagnosis', 'laterality',\n",
       "       'tissue_or_organ_of_origin', 'age_at_diagnosis', 'primary_diagnosis',\n",
       "       'updated_datetime', 'prior_malignancy', 'year_of_diagnosis', 'state',\n",
       "       'prior_treatment', 'diagnosis_is_primary_disease',\n",
       "       'method_of_diagnosis', 'ajcc_staging_system_edition',\n",
       "       'ajcc_pathologic_t', 'morphology', 'ajcc_pathologic_n',\n",
       "       'ajcc_pathologic_m', 'classification_of_tumor', 'diagnosis_id',\n",
       "       'icd_10_code', 'site_of_resection_or_biopsy', 'metastasis_at_diagnosis',\n",
       "       'exposure_id', 'race', 'gender', 'ethnicity', 'vital_status',\n",
       "       'age_at_index', 'days_to_birth', 'year_of_birth', 'demographic_id',\n",
       "       'age_is_obfuscated', 'country_of_residence_at_enrollment',\n",
       "       'days_to_death', 'days_to_last_follow_up',\n",
       "       'follow_ups_disease_response',\n",
       "       'treatments_pharmaceutical_days_to_treatment_end',\n",
       "       'treatments_pharmaceutical_days_to_treatment_start',\n",
       "       'treatments_pharmaceutical_treatment_id',\n",
       "       'treatments_pharmaceutical_treatment_type',\n",
       "       'treatments_pharmaceutical_therapeutic_agents',\n",
       "       'treatments_pharmaceutical_treatment_or_therapy',\n",
       "       'treatments_pharmaceutical_treatment_intent_type',\n",
       "       'treatments_pharmaceutical_treatment_outcome',\n",
       "       'treatments_pharmaceutical_clinical_trial_indicator',\n",
       "       'treatments_pharmaceutical_treatment_dose',\n",
       "       'treatments_pharmaceutical_treatment_dose_units',\n",
       "       'treatments_pharmaceutical_prescribed_dose_units',\n",
       "       'treatments_pharmaceutical_route_of_administration',\n",
       "       'treatments_pharmaceutical_prescribed_dose',\n",
       "       'treatments_pharmaceutical_number_of_cycles',\n",
       "       'treatments_radiation_days_to_treatment_end',\n",
       "       'treatments_radiation_days_to_treatment_start',\n",
       "       'treatments_radiation_treatment_id',\n",
       "       'treatments_radiation_treatment_type',\n",
       "       'treatments_radiation_treatment_or_therapy',\n",
       "       'treatments_radiation_initial_disease_status',\n",
       "       'treatments_radiation_treatment_intent_type',\n",
       "       'treatments_radiation_treatment_outcome',\n",
       "       'treatments_radiation_treatment_anatomic_sites',\n",
       "       'treatments_radiation_course_number',\n",
       "       'treatments_radiation_treatment_dose',\n",
       "       'treatments_radiation_number_of_fractions',\n",
       "       'treatments_radiation_treatment_dose_units'],\n",
       "      dtype='object')"
      ]
     },
     "execution_count": 8,
     "metadata": {},
     "output_type": "execute_result"
    }
   ],
   "source": [
    "clinical.columns"
   ]
  },
  {
   "cell_type": "code",
   "execution_count": 9,
   "metadata": {},
   "outputs": [],
   "source": [
    "label_cols = ['submitter_id', 'days_to_last_follow_up', 'vital_status', 'days_to_death']\n",
    "\n",
    "keep_cols = ['age_at_diagnosis', 'ajcc_pathologic_stage', 'prior_treatment', 'prior_malignancy',\n",
    "             'synchronous_malignancy', 'gender', 'race', 'ethnicity', 'disease',\n",
    "             'treatments_pharmaceutical_treatment_or_therapy',\n",
    "             'treatments_radiation_treatment_or_therapy']\n",
    "\n",
    "columns_to_drop = [col for col in clinical.columns if col not in label_cols + keep_cols]\n",
    "clinical = clinical.drop(columns=columns_to_drop)"
   ]
  },
  {
   "cell_type": "code",
   "execution_count": 10,
   "metadata": {},
   "outputs": [
    {
     "name": "stdout",
     "output_type": "stream",
     "text": [
      "~~ MISSING DATA ~~\n",
      "\n",
      "synchronous_malignancy: 10 (0.91%)\n",
      "ajcc_pathologic_stage: 12 (1.09%)\n",
      "age_at_diagnosis: 16 (1.46%)\n",
      "prior_malignancy: 10 (0.91%)\n",
      "prior_treatment: 3 (0.27%)\n",
      "race: 96 (8.74%)\n",
      "gender: 1 (0.09%)\n",
      "ethnicity: 167 (15.21%)\n",
      "vital_status: 1 (0.09%)\n",
      "days_to_death: 947 (86.25%)\n",
      "days_to_last_follow_up: 2 (0.18%)\n",
      "treatments_pharmaceutical_treatment_or_therapy: 840 (76.5%)\n",
      "treatments_radiation_treatment_or_therapy: 80 (7.29%)\n"
     ]
    }
   ],
   "source": [
    "print('~~ MISSING DATA ~~')\n",
    "print()\n",
    "\n",
    "n = clinical.shape[0]\n",
    "\n",
    "for v in clinical.columns:\n",
    "    n_missing = sum(clinical[v].isnull())\n",
    "    if n_missing > 0:\n",
    "        if n_missing == n:\n",
    "            clinical = clinical.drop(columns=[v])\n",
    "        else:\n",
    "            print(f'{v}: {n_missing} ({round(n_missing / n * 100, 2)}%)')"
   ]
  },
  {
   "cell_type": "code",
   "execution_count": 11,
   "metadata": {},
   "outputs": [
    {
     "data": {
      "text/plain": [
       "(1098, 14)"
      ]
     },
     "execution_count": 11,
     "metadata": {},
     "output_type": "execute_result"
    }
   ],
   "source": [
    "clinical.shape"
   ]
  },
  {
   "cell_type": "code",
   "execution_count": 12,
   "metadata": {},
   "outputs": [
    {
     "data": {
      "text/plain": [
       "Index(['submitter_id', 'synchronous_malignancy', 'ajcc_pathologic_stage',\n",
       "       'age_at_diagnosis', 'prior_malignancy', 'prior_treatment', 'race',\n",
       "       'gender', 'ethnicity', 'vital_status', 'days_to_death',\n",
       "       'days_to_last_follow_up',\n",
       "       'treatments_pharmaceutical_treatment_or_therapy',\n",
       "       'treatments_radiation_treatment_or_therapy'],\n",
       "      dtype='object')"
      ]
     },
     "execution_count": 12,
     "metadata": {},
     "output_type": "execute_result"
    }
   ],
   "source": [
    "clinical.columns"
   ]
  },
  {
   "cell_type": "code",
   "execution_count": 13,
   "metadata": {},
   "outputs": [
    {
     "data": {
      "text/plain": [
       "gender\n",
       "female    1085\n",
       "male        12\n",
       "Name: count, dtype: int64"
      ]
     },
     "execution_count": 13,
     "metadata": {},
     "output_type": "execute_result"
    }
   ],
   "source": [
    "clinical['gender'].value_counts()"
   ]
  },
  {
   "cell_type": "code",
   "execution_count": 14,
   "metadata": {},
   "outputs": [
    {
     "data": {
      "text/plain": [
       "race\n",
       "white                               757\n",
       "black or african american           183\n",
       "asian                                61\n",
       "american indian or alaska native      1\n",
       "Name: count, dtype: int64"
      ]
     },
     "execution_count": 14,
     "metadata": {},
     "output_type": "execute_result"
    }
   ],
   "source": [
    "clinical['race'].value_counts()"
   ]
  },
  {
   "cell_type": "code",
   "execution_count": 15,
   "metadata": {},
   "outputs": [
    {
     "data": {
      "text/plain": [
       "ethnicity\n",
       "not hispanic or latino    884\n",
       "hispanic or latino         39\n",
       "Unknown                     8\n",
       "Name: count, dtype: int64"
      ]
     },
     "execution_count": 15,
     "metadata": {},
     "output_type": "execute_result"
    }
   ],
   "source": [
    "clinical['ethnicity'].value_counts()"
   ]
  },
  {
   "cell_type": "code",
   "execution_count": 16,
   "metadata": {},
   "outputs": [
    {
     "data": {
      "text/plain": [
       "prior_malignancy\n",
       "no     1050\n",
       "yes      38\n",
       "Name: count, dtype: int64"
      ]
     },
     "execution_count": 16,
     "metadata": {},
     "output_type": "execute_result"
    }
   ],
   "source": [
    "clinical['prior_malignancy'].value_counts()"
   ]
  },
  {
   "cell_type": "code",
   "execution_count": 17,
   "metadata": {},
   "outputs": [
    {
     "data": {
      "text/plain": [
       "vital_status\n",
       "Alive    945\n",
       "Dead     152\n",
       "Name: count, dtype: int64"
      ]
     },
     "execution_count": 17,
     "metadata": {},
     "output_type": "execute_result"
    }
   ],
   "source": [
    "clinical['vital_status'].value_counts()"
   ]
  },
  {
   "cell_type": "code",
   "execution_count": 18,
   "metadata": {},
   "outputs": [
    {
     "data": {
      "text/plain": [
       "<Axes: ylabel='Frequency'>"
      ]
     },
     "execution_count": 18,
     "metadata": {},
     "output_type": "execute_result"
    },
    {
     "data": {
      "image/png": "[encoded data removed]",
      "text/plain": [
       "<Figure size 640x480 with 1 Axes>"
      ]
     },
     "metadata": {},
     "output_type": "display_data"
    }
   ],
   "source": [
    "clinical['days_to_last_follow_up'].plot(kind='hist')"
   ]
  },
  {
   "cell_type": "code",
   "execution_count": 19,
   "metadata": {},
   "outputs": [
    {
     "data": {
      "text/plain": [
       "<Axes: >"
      ]
     },
     "execution_count": 19,
     "metadata": {},
     "output_type": "execute_result"
    },
    {
     "data": {
      "image/png": "[encoded data removed]",
      "text/plain": [
       "<Figure size 640x480 with 1 Axes>"
      ]
     },
     "metadata": {},
     "output_type": "display_data"
    }
   ],
   "source": [
    "clinical['days_to_death'].plot(kind='box')"
   ]
  },
  {
   "cell_type": "code",
   "execution_count": 20,
   "metadata": {},
   "outputs": [
    {
     "data": {
      "text/plain": [
       "<Axes: >"
      ]
     },
     "execution_count": 20,
     "metadata": {},
     "output_type": "execute_result"
    },
    {
     "data": {
      "image/png": "[encoded data removed]",
      "text/plain": [
       "<Figure size 640x480 with 1 Axes>"
      ]
     },
     "metadata": {},
     "output_type": "display_data"
    }
   ],
   "source": [
    "clinical['days_to_death'].sort_values(ascending=False).plot(use_index=False)"
   ]
  },
  {
   "cell_type": "code",
   "execution_count": 21,
   "metadata": {},
   "outputs": [
    {
     "data": {
      "text/plain": [
       "<Axes: >"
      ]
     },
     "execution_count": 21,
     "metadata": {},
     "output_type": "execute_result"
    },
    {
     "data": {
      "image/png": "[encoded data removed]",
      "text/plain": [
       "<Figure size 640x480 with 1 Axes>"
      ]
     },
     "metadata": {},
     "output_type": "display_data"
    }
   ],
   "source": [
    "clinical['days_to_last_follow_up'].plot(kind='box')"
   ]
  },
  {
   "cell_type": "code",
   "execution_count": 22,
   "metadata": {},
   "outputs": [
    {
     "data": {
      "text/plain": [
       "<Axes: >"
      ]
     },
     "execution_count": 22,
     "metadata": {},
     "output_type": "execute_result"
    },
    {
     "data": {
      "image/png": "[encoded data removed]",
      "text/plain": [
       "<Figure size 640x480 with 1 Axes>"
      ]
     },
     "metadata": {},
     "output_type": "display_data"
    }
   ],
   "source": [
    "clinical['age_at_diagnosis'].apply(lambda x: -x/365).plot(kind='box')"
   ]
  },
  {
   "cell_type": "code",
   "execution_count": 23,
   "metadata": {},
   "outputs": [
    {
     "data": {
      "text/plain": [
       "<Axes: >"
      ]
     },
     "execution_count": 23,
     "metadata": {},
     "output_type": "execute_result"
    },
    {
     "data": {
      "image/png": "[encoded data removed]",
      "text/plain": [
       "<Figure size 640x480 with 1 Axes>"
      ]
     },
     "metadata": {},
     "output_type": "display_data"
    }
   ],
   "source": [
    "clinical['age_at_diagnosis'].sort_values(ascending=False).plot(use_index=False)"
   ]
  },
  {
   "cell_type": "code",
   "execution_count": 24,
   "metadata": {},
   "outputs": [
    {
     "data": {
      "text/html": [
       "<div>\n",
       "<style scoped>\n",
       "    .dataframe tbody tr th:only-of-type {\n",
       "        vertical-align: middle;\n",
       "    }\n",
       "\n",
       "    .dataframe tbody tr th {\n",
       "        vertical-align: top;\n",
       "    }\n",
       "\n",
       "    .dataframe thead th {\n",
       "        text-align: right;\n",
       "    }\n",
       "</style>\n",
       "<table border=\"1\" class=\"dataframe\">\n",
       "  <thead>\n",
       "    <tr style=\"text-align: right;\">\n",
       "      <th></th>\n",
       "      <th>age_at_diagnosis</th>\n",
       "      <th>days_to_death</th>\n",
       "      <th>days_to_last_follow_up</th>\n",
       "    </tr>\n",
       "  </thead>\n",
       "  <tbody>\n",
       "    <tr>\n",
       "      <th>count</th>\n",
       "      <td>1082.000000</td>\n",
       "      <td>151.000000</td>\n",
       "      <td>1096.000000</td>\n",
       "    </tr>\n",
       "    <tr>\n",
       "      <th>mean</th>\n",
       "      <td>21586.841035</td>\n",
       "      <td>1584.615894</td>\n",
       "      <td>1232.410584</td>\n",
       "    </tr>\n",
       "    <tr>\n",
       "      <th>std</th>\n",
       "      <td>4814.111822</td>\n",
       "      <td>1312.070221</td>\n",
       "      <td>1192.038846</td>\n",
       "    </tr>\n",
       "    <tr>\n",
       "      <th>min</th>\n",
       "      <td>9706.000000</td>\n",
       "      <td>0.000000</td>\n",
       "      <td>-7.000000</td>\n",
       "    </tr>\n",
       "    <tr>\n",
       "      <th>25%</th>\n",
       "      <td>18028.250000</td>\n",
       "      <td>613.000000</td>\n",
       "      <td>441.750000</td>\n",
       "    </tr>\n",
       "    <tr>\n",
       "      <th>50%</th>\n",
       "      <td>21560.500000</td>\n",
       "      <td>1152.000000</td>\n",
       "      <td>821.500000</td>\n",
       "    </tr>\n",
       "    <tr>\n",
       "      <th>75%</th>\n",
       "      <td>24868.750000</td>\n",
       "      <td>2322.000000</td>\n",
       "      <td>1673.000000</td>\n",
       "    </tr>\n",
       "    <tr>\n",
       "      <th>max</th>\n",
       "      <td>32872.000000</td>\n",
       "      <td>7455.000000</td>\n",
       "      <td>8605.000000</td>\n",
       "    </tr>\n",
       "  </tbody>\n",
       "</table>\n",
       "</div>"
      ],
      "text/plain": [
       "       age_at_diagnosis  days_to_death  days_to_last_follow_up\n",
       "count       1082.000000     151.000000             1096.000000\n",
       "mean       21586.841035    1584.615894             1232.410584\n",
       "std         4814.111822    1312.070221             1192.038846\n",
       "min         9706.000000       0.000000               -7.000000\n",
       "25%        18028.250000     613.000000              441.750000\n",
       "50%        21560.500000    1152.000000              821.500000\n",
       "75%        24868.750000    2322.000000             1673.000000\n",
       "max        32872.000000    7455.000000             8605.000000"
      ]
     },
     "execution_count": 24,
     "metadata": {},
     "output_type": "execute_result"
    }
   ],
   "source": [
    "clinical.describe()"
   ]
  },
  {
   "cell_type": "code",
   "execution_count": 25,
   "metadata": {},
   "outputs": [
    {
     "name": "stdout",
     "output_type": "stream",
     "text": [
      "<class 'pandas.core.frame.DataFrame'>\n",
      "RangeIndex: 1098 entries, 0 to 1097\n",
      "Data columns (total 14 columns):\n",
      " #   Column                                          Non-Null Count  Dtype  \n",
      "---  ------                                          --------------  -----  \n",
      " 0   submitter_id                                    1098 non-null   object \n",
      " 1   synchronous_malignancy                          1088 non-null   object \n",
      " 2   ajcc_pathologic_stage                           1086 non-null   object \n",
      " 3   age_at_diagnosis                                1082 non-null   float64\n",
      " 4   prior_malignancy                                1088 non-null   object \n",
      " 5   prior_treatment                                 1095 non-null   object \n",
      " 6   race                                            1002 non-null   object \n",
      " 7   gender                                          1097 non-null   object \n",
      " 8   ethnicity                                       931 non-null    object \n",
      " 9   vital_status                                    1097 non-null   object \n",
      " 10  days_to_death                                   151 non-null    float64\n",
      " 11  days_to_last_follow_up                          1096 non-null   float64\n",
      " 12  treatments_pharmaceutical_treatment_or_therapy  258 non-null    object \n",
      " 13  treatments_radiation_treatment_or_therapy       1018 non-null   object \n",
      "dtypes: float64(3), object(11)\n",
      "memory usage: 120.2+ KB\n"
     ]
    }
   ],
   "source": [
    "clinical.info()"
   ]
  },
  {
   "cell_type": "markdown",
   "metadata": {},
   "source": [
    "Rename `disease` column as `project_id` and set it as table index."
   ]
  },
  {
   "cell_type": "code",
   "execution_count": 26,
   "metadata": {},
   "outputs": [],
   "source": [
    "clinical = clinical.rename(columns={'disease': 'project_id'})"
   ]
  },
  {
   "cell_type": "code",
   "execution_count": 27,
   "metadata": {},
   "outputs": [],
   "source": [
    "clinical = clinical.set_index('submitter_id')"
   ]
  },
  {
   "cell_type": "markdown",
   "metadata": {},
   "source": [
    "# Clean up inconsistencies"
   ]
  },
  {
   "cell_type": "markdown",
   "metadata": {},
   "source": [
    "## Consolidate `race` and `ethnicity`\n",
    "\n",
    "Whenever `race` value is \"white\" or missing replace it by `ethnicity` value (if present). Then drop ethnicity column."
   ]
  },
  {
   "cell_type": "code",
   "execution_count": 28,
   "metadata": {},
   "outputs": [],
   "source": [
    "race_subset = clinical['race'].isnull()\n",
    "ethnicity_subset = ~clinical['ethnicity'].isnull()\n",
    "subset = race_subset & ethnicity_subset\n",
    "clinical.loc[subset, 'race'] = clinical.loc[subset, 'ethnicity']"
   ]
  },
  {
   "cell_type": "code",
   "execution_count": 29,
   "metadata": {},
   "outputs": [],
   "source": [
    "race_subset = (clinical['race'] == 'white')\n",
    "ethnicity_subset = (~clinical['ethnicity'].isnull() &\n",
    "                    (clinical['ethnicity'] == 'hispanic or latino'))\n",
    "subset = race_subset & ethnicity_subset\n",
    "clinical.loc[subset, 'race'] = clinical.loc[subset, 'ethnicity']"
   ]
  },
  {
   "cell_type": "code",
   "execution_count": 30,
   "metadata": {},
   "outputs": [
    {
     "data": {
      "text/plain": [
       "(723, 13)"
      ]
     },
     "execution_count": 30,
     "metadata": {},
     "output_type": "execute_result"
    }
   ],
   "source": [
    "clinical.loc[clinical['race'] == 'white', ].shape"
   ]
  },
  {
   "cell_type": "code",
   "execution_count": 31,
   "metadata": {},
   "outputs": [],
   "source": [
    "clinical = clinical.drop('ethnicity', axis=1)"
   ]
  },
  {
   "cell_type": "markdown",
   "metadata": {},
   "source": [
    "## Missing label data\n",
    "\n",
    "The data show some inconsistencies, such as patients missing `vital_status` information, showing negative `days_to_last_follow_up` values, or missing `days_to_death` values. This is addressed in a few discussions under GitHub issues. [In one of them](https://github.com/BioinformaticsFMRP/TCGAbiolinks/issues/324) someone asked and got the following explanation from the GDC:\n",
    "\n",
    "> \"I have talked to our Clinical Data Scientist and she said that these values can seem strange due to how TCGA and third parties handled patient data. For the negative follow up dates, this can be caused by the pathology report being made at a secondary institution that does the surgery, even though the patient was diagnosed at a local hospital. The larger institution/center eventually reports back the pathologic findings from the surgery, but they never receive follow-up information about the patient. Thus, the days to diagnosis would have been the date the pathology report was signed out, which is always day 0, but the last time the patient was seen relative to that date could have been days or weeks prior to that report being signed out. Basically, we are aware that these negative dates exist, and they are caused by pathology report dates taking priority as day 0. For the patients without days_to_death, this is the case that they knew the patient was deceased, but they were uncertain of the exact date. Thus, when filling out the clinical information they left this intentionally blank..\"\n",
    "\n",
    "Here, I will simply drop these patients from data. I did manually check on the online database the negative values, which matched my downloaded data."
   ]
  },
  {
   "cell_type": "markdown",
   "metadata": {},
   "source": [
    "### `vital_status`"
   ]
  },
  {
   "cell_type": "code",
   "execution_count": 32,
   "metadata": {},
   "outputs": [
    {
     "name": "stdout",
     "output_type": "stream",
     "text": [
      "~~ MISSING DATA ~~\n",
      "\n",
      "synchronous_malignancy: 10 (0.91%)\n",
      "ajcc_pathologic_stage: 12 (1.09%)\n",
      "prior_treatment: 3 (0.27%)\n",
      "vital_status: 1 (0.09%)\n",
      "treatments_pharmaceutical_treatment_or_therapy: 840 (76.5%)\n",
      "treatments_radiation_treatment_or_therapy: 80 (7.29%)\n"
     ]
    }
   ],
   "source": [
    "print('~~ MISSING DATA ~~')\n",
    "print()\n",
    "skip = ['gender', 'race', 'ethnicity', 'prior_malignancy',\n",
    "        'age_at_diagnosis', 'days_to_death', 'days_to_last_follow_up']\n",
    "\n",
    "n = clinical.shape[0]\n",
    "\n",
    "for v in clinical.columns:\n",
    "    if v not in skip:\n",
    "        n_missing = sum(clinical[v].isnull())\n",
    "        print(f'{v}: {n_missing} ({round(n_missing / n * 100, 2)}%)')"
   ]
  },
  {
   "cell_type": "code",
   "execution_count": 33,
   "metadata": {},
   "outputs": [],
   "source": [
    "# Drop patients missing \"vital_status\" information\n",
    "subset = ~clinical.vital_status.isna()\n",
    "clinical = clinical.loc[subset]"
   ]
  },
  {
   "cell_type": "markdown",
   "metadata": {},
   "source": [
    "### Both duration values\n",
    "\n",
    "Patients missing both time to death and time to last follow up variables cannot be included in a survival study."
   ]
  },
  {
   "cell_type": "code",
   "execution_count": 34,
   "metadata": {},
   "outputs": [
    {
     "name": "stdout",
     "output_type": "stream",
     "text": [
      "# patients missing both duration columns: 1\n"
     ]
    }
   ],
   "source": [
    "missing_duration_data = clinical[\n",
    "    clinical['days_to_death'].isna() &\n",
    "    clinical['days_to_last_follow_up'].isna()]\n",
    "\n",
    "print('# patients missing both duration columns:', missing_duration_data.shape[0])"
   ]
  },
  {
   "cell_type": "code",
   "execution_count": 35,
   "metadata": {},
   "outputs": [
    {
     "data": {
      "text/html": [
       "<div>\n",
       "<style scoped>\n",
       "    .dataframe tbody tr th:only-of-type {\n",
       "        vertical-align: middle;\n",
       "    }\n",
       "\n",
       "    .dataframe tbody tr th {\n",
       "        vertical-align: top;\n",
       "    }\n",
       "\n",
       "    .dataframe thead th {\n",
       "        text-align: right;\n",
       "    }\n",
       "</style>\n",
       "<table border=\"1\" class=\"dataframe\">\n",
       "  <thead>\n",
       "    <tr style=\"text-align: right;\">\n",
       "      <th></th>\n",
       "      <th>synchronous_malignancy</th>\n",
       "      <th>ajcc_pathologic_stage</th>\n",
       "      <th>age_at_diagnosis</th>\n",
       "      <th>prior_malignancy</th>\n",
       "      <th>prior_treatment</th>\n",
       "      <th>race</th>\n",
       "      <th>gender</th>\n",
       "      <th>vital_status</th>\n",
       "      <th>days_to_death</th>\n",
       "      <th>days_to_last_follow_up</th>\n",
       "      <th>treatments_pharmaceutical_treatment_or_therapy</th>\n",
       "      <th>treatments_radiation_treatment_or_therapy</th>\n",
       "    </tr>\n",
       "    <tr>\n",
       "      <th>submitter_id</th>\n",
       "      <th></th>\n",
       "      <th></th>\n",
       "      <th></th>\n",
       "      <th></th>\n",
       "      <th></th>\n",
       "      <th></th>\n",
       "      <th></th>\n",
       "      <th></th>\n",
       "      <th></th>\n",
       "      <th></th>\n",
       "      <th></th>\n",
       "      <th></th>\n",
       "    </tr>\n",
       "  </thead>\n",
       "  <tbody>\n",
       "    <tr>\n",
       "      <th>TCGA-A7-A0DC</th>\n",
       "      <td>No</td>\n",
       "      <td>Stage IA</td>\n",
       "      <td>23294.0</td>\n",
       "      <td>no</td>\n",
       "      <td>No</td>\n",
       "      <td>white</td>\n",
       "      <td>female</td>\n",
       "      <td>Alive</td>\n",
       "      <td>NaN</td>\n",
       "      <td>NaN</td>\n",
       "      <td>yes</td>\n",
       "      <td>yes</td>\n",
       "    </tr>\n",
       "  </tbody>\n",
       "</table>\n",
       "</div>"
      ],
      "text/plain": [
       "             synchronous_malignancy ajcc_pathologic_stage  age_at_diagnosis  \\\n",
       "submitter_id                                                                  \n",
       "TCGA-A7-A0DC                     No              Stage IA           23294.0   \n",
       "\n",
       "             prior_malignancy prior_treatment   race  gender vital_status  \\\n",
       "submitter_id                                                                \n",
       "TCGA-A7-A0DC               no              No  white  female        Alive   \n",
       "\n",
       "              days_to_death  days_to_last_follow_up  \\\n",
       "submitter_id                                          \n",
       "TCGA-A7-A0DC            NaN                     NaN   \n",
       "\n",
       "             treatments_pharmaceutical_treatment_or_therapy  \\\n",
       "submitter_id                                                  \n",
       "TCGA-A7-A0DC                                            yes   \n",
       "\n",
       "             treatments_radiation_treatment_or_therapy  \n",
       "submitter_id                                            \n",
       "TCGA-A7-A0DC                                       yes  "
      ]
     },
     "execution_count": 35,
     "metadata": {},
     "output_type": "execute_result"
    }
   ],
   "source": [
    "missing_duration_data.head()"
   ]
  },
  {
   "cell_type": "code",
   "execution_count": 36,
   "metadata": {},
   "outputs": [],
   "source": [
    "# Remove missing data\n",
    "subset = ~(clinical['days_to_death'].isna() &\n",
    "           clinical['days_to_last_follow_up'].isna())\n",
    "clinical = clinical.loc[subset]"
   ]
  },
  {
   "cell_type": "code",
   "execution_count": 37,
   "metadata": {},
   "outputs": [
    {
     "data": {
      "text/plain": [
       "(1096, 12)"
      ]
     },
     "execution_count": 37,
     "metadata": {},
     "output_type": "execute_result"
    }
   ],
   "source": [
    "clinical.shape"
   ]
  },
  {
   "cell_type": "markdown",
   "metadata": {},
   "source": [
    "### Required duration value\n",
    "\n",
    "Patients alive at the end of the study require time to last follow up information. Dead patients require time to death information."
   ]
  },
  {
   "cell_type": "code",
   "execution_count": 38,
   "metadata": {},
   "outputs": [
    {
     "name": "stdout",
     "output_type": "stream",
     "text": [
      "# patients missing \"days_to_last_follow_up\" when \"vital_status\" is \"Alive\": 0\n"
     ]
    }
   ],
   "source": [
    "print('# patients missing \"days_to_last_follow_up\" when \"vital_status\" is \"Alive\":',\n",
    "      clinical[(clinical.vital_status == 'Alive') &\n",
    "               clinical.days_to_last_follow_up.isna()].shape[0])"
   ]
  },
  {
   "cell_type": "code",
   "execution_count": 39,
   "metadata": {},
   "outputs": [
    {
     "name": "stdout",
     "output_type": "stream",
     "text": [
      "# patients missing \"days_to_death\" when \"vital_status\" is \"Dead\": 1\n"
     ]
    }
   ],
   "source": [
    "print('# patients missing \"days_to_death\" when \"vital_status\" is \"Dead\":',\n",
    "      clinical[(clinical.vital_status == 'Dead') &\n",
    "               clinical.days_to_death.isna()].shape[0])"
   ]
  },
  {
   "cell_type": "code",
   "execution_count": 40,
   "metadata": {},
   "outputs": [],
   "source": [
    "# Remove missing data\n",
    "subset = ~((clinical.vital_status == 'Dead') &\n",
    "           clinical.days_to_death.isna())\n",
    "clinical = clinical.loc[subset]"
   ]
  },
  {
   "cell_type": "markdown",
   "metadata": {},
   "source": [
    "## Not missing `days_to_last_follow_up` when `vital_status` is \"Dead\""
   ]
  },
  {
   "cell_type": "code",
   "execution_count": 41,
   "metadata": {},
   "outputs": [
    {
     "name": "stdout",
     "output_type": "stream",
     "text": [
      "\"Days to death\" variable missing for all patients still alive? True\n"
     ]
    }
   ],
   "source": [
    "print('\"Days to death\" variable missing for all patients still alive?',\n",
    "      all(clinical[clinical.vital_status == 'Alive'].days_to_death.isna()))"
   ]
  },
  {
   "cell_type": "code",
   "execution_count": 42,
   "metadata": {},
   "outputs": [
    {
     "name": "stdout",
     "output_type": "stream",
     "text": [
      "\"Days to last follow up\" variable missing for all dead patients? False\n"
     ]
    }
   ],
   "source": [
    "print('\"Days to last follow up\" variable missing for all dead patients?',\n",
    "      all(clinical[clinical.vital_status == 'Dead'].days_to_last_follow_up.isna()))"
   ]
  },
  {
   "cell_type": "code",
   "execution_count": 43,
   "metadata": {},
   "outputs": [],
   "source": [
    "# Insert \"NaN\" in \"days_to_last_follow_up\" when \"vital_status\" is \"Dead\" \n",
    "subset = clinical.vital_status == 'Dead'\n",
    "clinical.loc[subset, 'days_to_last_follow_up'] = None"
   ]
  },
  {
   "cell_type": "code",
   "execution_count": 44,
   "metadata": {},
   "outputs": [
    {
     "name": "stdout",
     "output_type": "stream",
     "text": [
      "\"Days to last follow up\" variable missing for all dead patients? True\n"
     ]
    }
   ],
   "source": [
    "print('\"Days to last follow up\" variable missing for all dead patients?',\n",
    "      all(clinical[clinical.vital_status == 'Dead'].days_to_last_follow_up.isna()))"
   ]
  },
  {
   "cell_type": "markdown",
   "metadata": {},
   "source": [
    "## Negative durations"
   ]
  },
  {
   "cell_type": "code",
   "execution_count": 45,
   "metadata": {},
   "outputs": [
    {
     "data": {
      "text/html": [
       "<div>\n",
       "<style scoped>\n",
       "    .dataframe tbody tr th:only-of-type {\n",
       "        vertical-align: middle;\n",
       "    }\n",
       "\n",
       "    .dataframe tbody tr th {\n",
       "        vertical-align: top;\n",
       "    }\n",
       "\n",
       "    .dataframe thead th {\n",
       "        text-align: right;\n",
       "    }\n",
       "</style>\n",
       "<table border=\"1\" class=\"dataframe\">\n",
       "  <thead>\n",
       "    <tr style=\"text-align: right;\">\n",
       "      <th></th>\n",
       "      <th>synchronous_malignancy</th>\n",
       "      <th>ajcc_pathologic_stage</th>\n",
       "      <th>age_at_diagnosis</th>\n",
       "      <th>prior_malignancy</th>\n",
       "      <th>prior_treatment</th>\n",
       "      <th>race</th>\n",
       "      <th>gender</th>\n",
       "      <th>vital_status</th>\n",
       "      <th>days_to_death</th>\n",
       "      <th>days_to_last_follow_up</th>\n",
       "      <th>treatments_pharmaceutical_treatment_or_therapy</th>\n",
       "      <th>treatments_radiation_treatment_or_therapy</th>\n",
       "    </tr>\n",
       "    <tr>\n",
       "      <th>submitter_id</th>\n",
       "      <th></th>\n",
       "      <th></th>\n",
       "      <th></th>\n",
       "      <th></th>\n",
       "      <th></th>\n",
       "      <th></th>\n",
       "      <th></th>\n",
       "      <th></th>\n",
       "      <th></th>\n",
       "      <th></th>\n",
       "      <th></th>\n",
       "      <th></th>\n",
       "    </tr>\n",
       "  </thead>\n",
       "  <tbody>\n",
       "    <tr>\n",
       "      <th>TCGA-PL-A8LV</th>\n",
       "      <td>No</td>\n",
       "      <td>Stage IIIB</td>\n",
       "      <td>19746.0</td>\n",
       "      <td>no</td>\n",
       "      <td>No</td>\n",
       "      <td>black or african american</td>\n",
       "      <td>female</td>\n",
       "      <td>Alive</td>\n",
       "      <td>NaN</td>\n",
       "      <td>-7.0</td>\n",
       "      <td>unknown</td>\n",
       "      <td>unknown</td>\n",
       "    </tr>\n",
       "  </tbody>\n",
       "</table>\n",
       "</div>"
      ],
      "text/plain": [
       "             synchronous_malignancy ajcc_pathologic_stage  age_at_diagnosis  \\\n",
       "submitter_id                                                                  \n",
       "TCGA-PL-A8LV                     No            Stage IIIB           19746.0   \n",
       "\n",
       "             prior_malignancy prior_treatment                       race  \\\n",
       "submitter_id                                                               \n",
       "TCGA-PL-A8LV               no              No  black or african american   \n",
       "\n",
       "              gender vital_status  days_to_death  days_to_last_follow_up  \\\n",
       "submitter_id                                                               \n",
       "TCGA-PL-A8LV  female        Alive            NaN                    -7.0   \n",
       "\n",
       "             treatments_pharmaceutical_treatment_or_therapy  \\\n",
       "submitter_id                                                  \n",
       "TCGA-PL-A8LV                                        unknown   \n",
       "\n",
       "             treatments_radiation_treatment_or_therapy  \n",
       "submitter_id                                            \n",
       "TCGA-PL-A8LV                                   unknown  "
      ]
     },
     "execution_count": 45,
     "metadata": {},
     "output_type": "execute_result"
    }
   ],
   "source": [
    "clinical[clinical.days_to_last_follow_up < 0]"
   ]
  },
  {
   "cell_type": "code",
   "execution_count": 46,
   "metadata": {},
   "outputs": [],
   "source": [
    "# Remove data\n",
    "subset = ~((clinical.days_to_last_follow_up < 0) &\n",
    "           (clinical.vital_status == 'Alive'))\n",
    "clinical = clinical.loc[subset]"
   ]
  },
  {
   "cell_type": "code",
   "execution_count": 47,
   "metadata": {},
   "outputs": [
    {
     "data": {
      "text/plain": [
       "(1094, 12)"
      ]
     },
     "execution_count": 47,
     "metadata": {},
     "output_type": "execute_result"
    }
   ],
   "source": [
    "clinical.shape"
   ]
  },
  {
   "cell_type": "markdown",
   "metadata": {},
   "source": [
    "# Label data\n",
    "\n",
    "Collect duration label: `days_to_last_follow_up` and `days_to_death` for live and dead patients, respectively."
   ]
  },
  {
   "cell_type": "code",
   "execution_count": 48,
   "metadata": {},
   "outputs": [],
   "source": [
    "def get_duration(vital_status, days_to_death, days_to_last_follow_up):\n",
    "    if vital_status == 'Dead':\n",
    "        return days_to_death\n",
    "    elif vital_status == 'Alive':\n",
    "        return days_to_last_follow_up\n",
    "    else:\n",
    "        print('Found NaN in duration!')\n",
    "\n",
    "def get_events(vital_status):\n",
    "    if vital_status in ['1', 'Dead']:\n",
    "        return 1\n",
    "    elif vital_status in ['0', 'Alive']:\n",
    "        return 0\n",
    "    else:\n",
    "        print('Found NaN in vital status!')"
   ]
  },
  {
   "cell_type": "code",
   "execution_count": 49,
   "metadata": {},
   "outputs": [],
   "source": [
    "d = {'submitter_id': clinical.index,\n",
    "     'time': clinical.apply(\n",
    "         lambda x: get_duration(x['vital_status'], x['days_to_death'],\n",
    "                                x['days_to_last_follow_up']), axis=1).values,\n",
    "     'event': clinical.apply(\n",
    "         lambda x: get_events(x['vital_status']), axis=1).values}"
   ]
  },
  {
   "cell_type": "code",
   "execution_count": 50,
   "metadata": {},
   "outputs": [],
   "source": [
    "survival = pd.DataFrame.from_dict(d).astype(\n",
    "    {'submitter_id': 'object', 'time': 'int64', 'event': 'int64'})"
   ]
  },
  {
   "cell_type": "code",
   "execution_count": 51,
   "metadata": {},
   "outputs": [],
   "source": [
    "clinical = clinical.join(survival.set_index('submitter_id'))"
   ]
  },
  {
   "cell_type": "code",
   "execution_count": 52,
   "metadata": {},
   "outputs": [
    {
     "data": {
      "text/html": [
       "<div>\n",
       "<style scoped>\n",
       "    .dataframe tbody tr th:only-of-type {\n",
       "        vertical-align: middle;\n",
       "    }\n",
       "\n",
       "    .dataframe tbody tr th {\n",
       "        vertical-align: top;\n",
       "    }\n",
       "\n",
       "    .dataframe thead th {\n",
       "        text-align: right;\n",
       "    }\n",
       "</style>\n",
       "<table border=\"1\" class=\"dataframe\">\n",
       "  <thead>\n",
       "    <tr style=\"text-align: right;\">\n",
       "      <th></th>\n",
       "      <th>synchronous_malignancy</th>\n",
       "      <th>ajcc_pathologic_stage</th>\n",
       "      <th>age_at_diagnosis</th>\n",
       "      <th>prior_malignancy</th>\n",
       "      <th>prior_treatment</th>\n",
       "      <th>race</th>\n",
       "      <th>gender</th>\n",
       "      <th>vital_status</th>\n",
       "      <th>days_to_death</th>\n",
       "      <th>days_to_last_follow_up</th>\n",
       "      <th>treatments_pharmaceutical_treatment_or_therapy</th>\n",
       "      <th>treatments_radiation_treatment_or_therapy</th>\n",
       "      <th>time</th>\n",
       "      <th>event</th>\n",
       "    </tr>\n",
       "    <tr>\n",
       "      <th>submitter_id</th>\n",
       "      <th></th>\n",
       "      <th></th>\n",
       "      <th></th>\n",
       "      <th></th>\n",
       "      <th></th>\n",
       "      <th></th>\n",
       "      <th></th>\n",
       "      <th></th>\n",
       "      <th></th>\n",
       "      <th></th>\n",
       "      <th></th>\n",
       "      <th></th>\n",
       "      <th></th>\n",
       "      <th></th>\n",
       "    </tr>\n",
       "  </thead>\n",
       "  <tbody>\n",
       "    <tr>\n",
       "      <th>TCGA-Z7-A8R6</th>\n",
       "      <td>No</td>\n",
       "      <td>Stage I</td>\n",
       "      <td>16955.0</td>\n",
       "      <td>no</td>\n",
       "      <td>No</td>\n",
       "      <td>white</td>\n",
       "      <td>female</td>\n",
       "      <td>Alive</td>\n",
       "      <td>NaN</td>\n",
       "      <td>3256.0</td>\n",
       "      <td>yes</td>\n",
       "      <td>no</td>\n",
       "      <td>3256</td>\n",
       "      <td>0</td>\n",
       "    </tr>\n",
       "    <tr>\n",
       "      <th>TCGA-C8-A1HE</th>\n",
       "      <td>No</td>\n",
       "      <td>Stage IIA</td>\n",
       "      <td>NaN</td>\n",
       "      <td>no</td>\n",
       "      <td>No</td>\n",
       "      <td>asian</td>\n",
       "      <td>female</td>\n",
       "      <td>Alive</td>\n",
       "      <td>NaN</td>\n",
       "      <td>375.0</td>\n",
       "      <td>yes</td>\n",
       "      <td>no</td>\n",
       "      <td>375</td>\n",
       "      <td>0</td>\n",
       "    </tr>\n",
       "    <tr>\n",
       "      <th>TCGA-A8-A07B</th>\n",
       "      <td>No</td>\n",
       "      <td>Stage IIA</td>\n",
       "      <td>25475.0</td>\n",
       "      <td>no</td>\n",
       "      <td>No</td>\n",
       "      <td>NaN</td>\n",
       "      <td>female</td>\n",
       "      <td>Alive</td>\n",
       "      <td>NaN</td>\n",
       "      <td>1308.0</td>\n",
       "      <td>no</td>\n",
       "      <td>no</td>\n",
       "      <td>1308</td>\n",
       "      <td>0</td>\n",
       "    </tr>\n",
       "    <tr>\n",
       "      <th>TCGA-AC-A2FM</th>\n",
       "      <td>No</td>\n",
       "      <td>Stage IIB</td>\n",
       "      <td>31805.0</td>\n",
       "      <td>no</td>\n",
       "      <td>No</td>\n",
       "      <td>white</td>\n",
       "      <td>female</td>\n",
       "      <td>Dead</td>\n",
       "      <td>792.0</td>\n",
       "      <td>NaN</td>\n",
       "      <td>no</td>\n",
       "      <td>no</td>\n",
       "      <td>792</td>\n",
       "      <td>1</td>\n",
       "    </tr>\n",
       "    <tr>\n",
       "      <th>TCGA-B6-A1KF</th>\n",
       "      <td>No</td>\n",
       "      <td>Stage IIB</td>\n",
       "      <td>24891.0</td>\n",
       "      <td>no</td>\n",
       "      <td>No</td>\n",
       "      <td>white</td>\n",
       "      <td>female</td>\n",
       "      <td>Alive</td>\n",
       "      <td>NaN</td>\n",
       "      <td>3088.0</td>\n",
       "      <td>yes</td>\n",
       "      <td>yes</td>\n",
       "      <td>3088</td>\n",
       "      <td>0</td>\n",
       "    </tr>\n",
       "  </tbody>\n",
       "</table>\n",
       "</div>"
      ],
      "text/plain": [
       "             synchronous_malignancy ajcc_pathologic_stage  age_at_diagnosis  \\\n",
       "submitter_id                                                                  \n",
       "TCGA-Z7-A8R6                     No               Stage I           16955.0   \n",
       "TCGA-C8-A1HE                     No             Stage IIA               NaN   \n",
       "TCGA-A8-A07B                     No             Stage IIA           25475.0   \n",
       "TCGA-AC-A2FM                     No             Stage IIB           31805.0   \n",
       "TCGA-B6-A1KF                     No             Stage IIB           24891.0   \n",
       "\n",
       "             prior_malignancy prior_treatment   race  gender vital_status  \\\n",
       "submitter_id                                                                \n",
       "TCGA-Z7-A8R6               no              No  white  female        Alive   \n",
       "TCGA-C8-A1HE               no              No  asian  female        Alive   \n",
       "TCGA-A8-A07B               no              No    NaN  female        Alive   \n",
       "TCGA-AC-A2FM               no              No  white  female         Dead   \n",
       "TCGA-B6-A1KF               no              No  white  female        Alive   \n",
       "\n",
       "              days_to_death  days_to_last_follow_up  \\\n",
       "submitter_id                                          \n",
       "TCGA-Z7-A8R6            NaN                  3256.0   \n",
       "TCGA-C8-A1HE            NaN                   375.0   \n",
       "TCGA-A8-A07B            NaN                  1308.0   \n",
       "TCGA-AC-A2FM          792.0                     NaN   \n",
       "TCGA-B6-A1KF            NaN                  3088.0   \n",
       "\n",
       "             treatments_pharmaceutical_treatment_or_therapy  \\\n",
       "submitter_id                                                  \n",
       "TCGA-Z7-A8R6                                            yes   \n",
       "TCGA-C8-A1HE                                            yes   \n",
       "TCGA-A8-A07B                                             no   \n",
       "TCGA-AC-A2FM                                             no   \n",
       "TCGA-B6-A1KF                                            yes   \n",
       "\n",
       "             treatments_radiation_treatment_or_therapy  time  event  \n",
       "submitter_id                                                         \n",
       "TCGA-Z7-A8R6                                        no  3256      0  \n",
       "TCGA-C8-A1HE                                        no   375      0  \n",
       "TCGA-A8-A07B                                        no  1308      0  \n",
       "TCGA-AC-A2FM                                        no   792      1  \n",
       "TCGA-B6-A1KF                                       yes  3088      0  "
      ]
     },
     "execution_count": 52,
     "metadata": {},
     "output_type": "execute_result"
    }
   ],
   "source": [
    "clinical.head()"
   ]
  },
  {
   "cell_type": "markdown",
   "metadata": {},
   "source": [
    "# Train-val-test split\n",
    "\n",
    "Split by patient and stratify by `project_id`."
   ]
  },
  {
   "cell_type": "code",
   "execution_count": 53,
   "metadata": {},
   "outputs": [
    {
     "name": "stdout",
     "output_type": "stream",
     "text": [
      "Case info columns: ['submitter_id', 'event', 'age_at_diagnosis']\n",
      "First few rows:\n",
      "    submitter_id  event  age_at_diagnosis\n",
      "0  TCGA-3C-AAAU      0           20211.0\n",
      "1  TCGA-3C-AALI      0           18538.0\n",
      "2  TCGA-3C-AALJ      0           22848.0\n",
      "3  TCGA-3C-AALK      0           19074.0\n",
      "4  TCGA-4H-AAAK      0           18371.0\n",
      "\n",
      "Patient ID column: submitter_id\n",
      "\n",
      "Total patients: 1094\n",
      "Events: 151 (13.80%)\n",
      "Censored: 943\n"
     ]
    }
   ],
   "source": [
    "# Get unique cases with their info\n",
    "case_info = clinical.groupby(clinical.index).agg({\n",
    "    'event': 'first',\n",
    "    'age_at_diagnosis': 'first'\n",
    "}).reset_index()  # This creates an 'index' column with patient IDs\n",
    "\n",
    "# Check the structure\n",
    "print(\"Case info columns:\", case_info.columns.tolist())\n",
    "print(\"First few rows:\\n\", case_info.head())\n",
    "\n",
    "# If the patient IDs are in a different column name, use that\n",
    "# The reset_index() should create a column with the index name\n",
    "patient_id_column = case_info.columns[0]  # Usually the first column after reset_index()\n",
    "print(f\"\\nPatient ID column: {patient_id_column}\")\n",
    "\n",
    "# Create age bins for better stratification\n",
    "case_info['age_bin'] = pd.qcut(case_info['age_at_diagnosis'], q=5, labels=False)\n",
    "case_info['strat_var'] = case_info['event'].astype(str) + '_' + case_info['age_bin'].astype(str)\n",
    "\n",
    "# Check the event distribution\n",
    "print(f\"\\nTotal patients: {len(case_info)}\")\n",
    "print(f\"Events: {case_info['event'].sum()} ({case_info['event'].mean():.2%})\")\n",
    "print(f\"Censored: {(~case_info['event'].astype(bool)).sum()}\")\n",
    "\n",
    "# 5-Fold Cross-Validation Setup\n",
    "n_folds = 5\n",
    "skf = StratifiedKFold(n_splits=n_folds, shuffle=True, random_state=42)\n",
    "\n",
    "# Store fold assignments\n",
    "fold_assignments = {}\n",
    "\n",
    "for fold_idx, (train_val_idx, test_idx) in enumerate(skf.split(case_info.index, case_info['strat_var'])):\n",
    "    \n",
    "    # Get test cases for this fold (20% of total)\n",
    "    test_cases = case_info.iloc[test_idx][patient_id_column].values\n",
    "    \n",
    "    # Get train+val cases (80% of total)\n",
    "    train_val_cases = case_info.iloc[train_val_idx]\n",
    "    \n",
    "    # Within the 80%, split into train (65% of total) and val (15% of total)\n",
    "    train_idx, val_idx = train_test_split(\n",
    "        train_val_idx,  # Use the indices directly\n",
    "        test_size=0.1875,  # 15/80 = 0.1875\n",
    "        stratify=case_info.iloc[train_val_idx]['strat_var'],\n",
    "        random_state=42 + fold_idx\n",
    "    )\n",
    "    \n",
    "    train_cases = case_info.iloc[train_idx][patient_id_column].values\n",
    "    val_cases = case_info.iloc[val_idx][patient_id_column].values\n",
    "    \n",
    "    fold_assignments[fold_idx] = {\n",
    "        'train': train_cases,\n",
    "        'val': val_cases,\n",
    "        'test': test_cases\n",
    "    }"
   ]
  },
  {
   "cell_type": "code",
   "execution_count": 54,
   "metadata": {},
   "outputs": [
    {
     "name": "stdout",
     "output_type": "stream",
     "text": [
      "\n",
      "Fold 5:\n",
      "  Train: 711 patients (65.0%)\n",
      "  Val: 165 patients (15.1%)\n",
      "  Test: 218 patients (19.9%)\n",
      "  Event rates - Train: 13.78%, Val: 13.94%, Test: 13.76%\n"
     ]
    }
   ],
   "source": [
    "  # Print statistics for this fold\n",
    "print(f\"\\nFold {fold_idx + 1}:\")\n",
    "print(f\"  Train: {len(train_cases)} patients ({len(train_cases)/len(case_info)*100:.1f}%)\")\n",
    "print(f\"  Val: {len(val_cases)} patients ({len(val_cases)/len(case_info)*100:.1f}%)\")\n",
    "print(f\"  Test: {len(test_cases)} patients ({len(test_cases)/len(case_info)*100:.1f}%)\")\n",
    "    \n",
    "# Check event rates\n",
    "train_events = case_info[case_info[patient_id_column].isin(train_cases)]['event'].mean()\n",
    "val_events = case_info[case_info[patient_id_column].isin(val_cases)]['event'].mean()\n",
    "test_events = case_info[case_info[patient_id_column].isin(test_cases)]['event'].mean()\n",
    "    \n",
    "print(f\"  Event rates - Train: {train_events:.2%}, Val: {val_events:.2%}, Test: {test_events:.2%}\")"
   ]
  },
  {
   "cell_type": "code",
   "execution_count": 55,
   "metadata": {},
   "outputs": [
    {
     "data": {
      "text/html": [
       "<div>\n",
       "<style scoped>\n",
       "    .dataframe tbody tr th:only-of-type {\n",
       "        vertical-align: middle;\n",
       "    }\n",
       "\n",
       "    .dataframe tbody tr th {\n",
       "        vertical-align: top;\n",
       "    }\n",
       "\n",
       "    .dataframe thead th {\n",
       "        text-align: right;\n",
       "    }\n",
       "</style>\n",
       "<table border=\"1\" class=\"dataframe\">\n",
       "  <thead>\n",
       "    <tr style=\"text-align: right;\">\n",
       "      <th></th>\n",
       "      <th>synchronous_malignancy</th>\n",
       "      <th>ajcc_pathologic_stage</th>\n",
       "      <th>age_at_diagnosis</th>\n",
       "      <th>prior_malignancy</th>\n",
       "      <th>prior_treatment</th>\n",
       "      <th>race</th>\n",
       "      <th>gender</th>\n",
       "      <th>vital_status</th>\n",
       "      <th>days_to_death</th>\n",
       "      <th>days_to_last_follow_up</th>\n",
       "      <th>treatments_pharmaceutical_treatment_or_therapy</th>\n",
       "      <th>treatments_radiation_treatment_or_therapy</th>\n",
       "      <th>time</th>\n",
       "      <th>event</th>\n",
       "    </tr>\n",
       "    <tr>\n",
       "      <th>submitter_id</th>\n",
       "      <th></th>\n",
       "      <th></th>\n",
       "      <th></th>\n",
       "      <th></th>\n",
       "      <th></th>\n",
       "      <th></th>\n",
       "      <th></th>\n",
       "      <th></th>\n",
       "      <th></th>\n",
       "      <th></th>\n",
       "      <th></th>\n",
       "      <th></th>\n",
       "      <th></th>\n",
       "      <th></th>\n",
       "    </tr>\n",
       "  </thead>\n",
       "  <tbody>\n",
       "    <tr>\n",
       "      <th>TCGA-Z7-A8R6</th>\n",
       "      <td>No</td>\n",
       "      <td>Stage I</td>\n",
       "      <td>16955.0</td>\n",
       "      <td>no</td>\n",
       "      <td>No</td>\n",
       "      <td>white</td>\n",
       "      <td>female</td>\n",
       "      <td>Alive</td>\n",
       "      <td>NaN</td>\n",
       "      <td>3256.0</td>\n",
       "      <td>yes</td>\n",
       "      <td>no</td>\n",
       "      <td>3256</td>\n",
       "      <td>0</td>\n",
       "    </tr>\n",
       "    <tr>\n",
       "      <th>TCGA-C8-A1HE</th>\n",
       "      <td>No</td>\n",
       "      <td>Stage IIA</td>\n",
       "      <td>NaN</td>\n",
       "      <td>no</td>\n",
       "      <td>No</td>\n",
       "      <td>asian</td>\n",
       "      <td>female</td>\n",
       "      <td>Alive</td>\n",
       "      <td>NaN</td>\n",
       "      <td>375.0</td>\n",
       "      <td>yes</td>\n",
       "      <td>no</td>\n",
       "      <td>375</td>\n",
       "      <td>0</td>\n",
       "    </tr>\n",
       "    <tr>\n",
       "      <th>TCGA-A8-A07B</th>\n",
       "      <td>No</td>\n",
       "      <td>Stage IIA</td>\n",
       "      <td>25475.0</td>\n",
       "      <td>no</td>\n",
       "      <td>No</td>\n",
       "      <td>NaN</td>\n",
       "      <td>female</td>\n",
       "      <td>Alive</td>\n",
       "      <td>NaN</td>\n",
       "      <td>1308.0</td>\n",
       "      <td>no</td>\n",
       "      <td>no</td>\n",
       "      <td>1308</td>\n",
       "      <td>0</td>\n",
       "    </tr>\n",
       "    <tr>\n",
       "      <th>TCGA-AC-A2FM</th>\n",
       "      <td>No</td>\n",
       "      <td>Stage IIB</td>\n",
       "      <td>31805.0</td>\n",
       "      <td>no</td>\n",
       "      <td>No</td>\n",
       "      <td>white</td>\n",
       "      <td>female</td>\n",
       "      <td>Dead</td>\n",
       "      <td>792.0</td>\n",
       "      <td>NaN</td>\n",
       "      <td>no</td>\n",
       "      <td>no</td>\n",
       "      <td>792</td>\n",
       "      <td>1</td>\n",
       "    </tr>\n",
       "    <tr>\n",
       "      <th>TCGA-B6-A1KF</th>\n",
       "      <td>No</td>\n",
       "      <td>Stage IIB</td>\n",
       "      <td>24891.0</td>\n",
       "      <td>no</td>\n",
       "      <td>No</td>\n",
       "      <td>white</td>\n",
       "      <td>female</td>\n",
       "      <td>Alive</td>\n",
       "      <td>NaN</td>\n",
       "      <td>3088.0</td>\n",
       "      <td>yes</td>\n",
       "      <td>yes</td>\n",
       "      <td>3088</td>\n",
       "      <td>0</td>\n",
       "    </tr>\n",
       "  </tbody>\n",
       "</table>\n",
       "</div>"
      ],
      "text/plain": [
       "             synchronous_malignancy ajcc_pathologic_stage  age_at_diagnosis  \\\n",
       "submitter_id                                                                  \n",
       "TCGA-Z7-A8R6                     No               Stage I           16955.0   \n",
       "TCGA-C8-A1HE                     No             Stage IIA               NaN   \n",
       "TCGA-A8-A07B                     No             Stage IIA           25475.0   \n",
       "TCGA-AC-A2FM                     No             Stage IIB           31805.0   \n",
       "TCGA-B6-A1KF                     No             Stage IIB           24891.0   \n",
       "\n",
       "             prior_malignancy prior_treatment   race  gender vital_status  \\\n",
       "submitter_id                                                                \n",
       "TCGA-Z7-A8R6               no              No  white  female        Alive   \n",
       "TCGA-C8-A1HE               no              No  asian  female        Alive   \n",
       "TCGA-A8-A07B               no              No    NaN  female        Alive   \n",
       "TCGA-AC-A2FM               no              No  white  female         Dead   \n",
       "TCGA-B6-A1KF               no              No  white  female        Alive   \n",
       "\n",
       "              days_to_death  days_to_last_follow_up  \\\n",
       "submitter_id                                          \n",
       "TCGA-Z7-A8R6            NaN                  3256.0   \n",
       "TCGA-C8-A1HE            NaN                   375.0   \n",
       "TCGA-A8-A07B            NaN                  1308.0   \n",
       "TCGA-AC-A2FM          792.0                     NaN   \n",
       "TCGA-B6-A1KF            NaN                  3088.0   \n",
       "\n",
       "             treatments_pharmaceutical_treatment_or_therapy  \\\n",
       "submitter_id                                                  \n",
       "TCGA-Z7-A8R6                                            yes   \n",
       "TCGA-C8-A1HE                                            yes   \n",
       "TCGA-A8-A07B                                             no   \n",
       "TCGA-AC-A2FM                                             no   \n",
       "TCGA-B6-A1KF                                            yes   \n",
       "\n",
       "             treatments_radiation_treatment_or_therapy  time  event  \n",
       "submitter_id                                                         \n",
       "TCGA-Z7-A8R6                                        no  3256      0  \n",
       "TCGA-C8-A1HE                                        no   375      0  \n",
       "TCGA-A8-A07B                                        no  1308      0  \n",
       "TCGA-AC-A2FM                                        no   792      1  \n",
       "TCGA-B6-A1KF                                       yes  3088      0  "
      ]
     },
     "execution_count": 55,
     "metadata": {},
     "output_type": "execute_result"
    }
   ],
   "source": [
    "clinical.head()"
   ]
  },
  {
   "cell_type": "code",
   "execution_count": 56,
   "metadata": {},
   "outputs": [],
   "source": [
    "# Function to create dataset for a specific fold\n",
    "def create_fold_dataset(clinical_df, fold_num):\n",
    "    \"\"\"Create train/val/test split for a specific fold\"\"\"\n",
    "    clinical_copy = clinical_df.copy()\n",
    "    clinical_copy['group'] = 'Missing'\n",
    "    \n",
    "    assignments = fold_assignments[fold_num]\n",
    "    clinical_copy.loc[clinical_copy.index.isin(assignments['train']), 'group'] = 'train'\n",
    "    clinical_copy.loc[clinical_copy.index.isin(assignments['val']), 'group'] = 'val'  \n",
    "    clinical_copy.loc[clinical_copy.index.isin(assignments['test']), 'group'] = 'test'\n",
    "    \n",
    "    return clinical_copy\n",
    "\n",
    "# For single experiment using fold 0\n",
    "clinical_fold0 = create_fold_dataset(clinical, fold_num=0)\n",
    "clinical_fold0['time'] = clinical_fold0['time'] / 365"
   ]
  },
  {
   "cell_type": "code",
   "execution_count": 57,
   "metadata": {},
   "outputs": [
    {
     "name": "stdout",
     "output_type": "stream",
     "text": [
      "\n",
      "==================================================\n",
      "Fold 0 Summary (for single experiment):\n",
      "==================================================\n",
      "\n",
      "Group distribution:\n",
      "group\n",
      "train    710\n",
      "test     219\n",
      "val      165\n",
      "Name: count, dtype: int64\n",
      "\n",
      "Event rates by group:\n",
      "group\n",
      "test     0.136986\n",
      "train    0.138028\n",
      "val      0.139394\n",
      "Name: event, dtype: float64\n",
      "\n",
      "Age statistics by group:\n",
      "               mean          std\n",
      "group                           \n",
      "test   21465.356481  4675.130954\n",
      "train  21609.001429  4859.261948\n",
      "val    21679.392638  4855.645501\n"
     ]
    }
   ],
   "source": [
    "# Verify the split\n",
    "print(\"\\n\" + \"=\"*50)\n",
    "print(\"Fold 0 Summary (for single experiment):\")\n",
    "print(\"=\"*50)\n",
    "print(\"\\nGroup distribution:\")\n",
    "print(clinical_fold0['group'].value_counts())\n",
    "print(\"\\nEvent rates by group:\")\n",
    "print(clinical_fold0.groupby('group')['event'].mean())\n",
    "print(\"\\nAge statistics by group:\")\n",
    "print(clinical_fold0.groupby('group')['age_at_diagnosis'].describe()[['mean', 'std']])"
   ]
  },
  {
   "cell_type": "markdown",
   "metadata": {},
   "source": [
    "## Survival curves\n",
    "\n",
    "Plot Kaplan-Meier survival function."
   ]
  },
  {
   "cell_type": "code",
   "execution_count": 58,
   "metadata": {},
   "outputs": [
    {
     "data": {
      "text/plain": [
       "Text(0, 0.5, 'Survival probability')"
      ]
     },
     "execution_count": 58,
     "metadata": {},
     "output_type": "execute_result"
    },
    {
     "data": {
      "image/png": "[encoded data removed]",
      "text/plain": [
       "<Figure size 1500x500 with 1 Axes>"
      ]
     },
     "metadata": {},
     "output_type": "display_data"
    }
   ],
   "source": [
    "import matplotlib.pyplot as plt\n",
    "#Extract each group from clinical_fold0\n",
    "train = clinical_fold0[clinical_fold0['group'] == 'train']\n",
    "val = clinical_fold0[clinical_fold0['group'] == 'val']\n",
    "test = clinical_fold0[clinical_fold0['group'] == 'test']\n",
    "\n",
    "# Create figure\n",
    "fig, axes = plt.subplots(1, 1, figsize=(15, 5))\n",
    "\n",
    "# Plot training data\n",
    "kmf = KaplanMeierFitter()\n",
    "kmf.fit(train['time'], event_observed=train['event'])\n",
    "ax1 = kmf.plot(title='Training data')\n",
    "ax1.set_xlabel('Time (years)')\n",
    "ax1.set_ylabel('Survival probability')"
   ]
  },
  {
   "cell_type": "code",
   "execution_count": 59,
   "metadata": {},
   "outputs": [
    {
     "data": {
      "image/png": "[encoded data removed]",
      "text/plain": [
       "<Figure size 640x480 with 1 Axes>"
      ]
     },
     "metadata": {},
     "output_type": "display_data"
    }
   ],
   "source": [
    "# Plot validation data\n",
    "kmf.fit(val['time'], event_observed=val['event'])\n",
    "ax2 = kmf.plot(title='Validation data', color='orange')\n",
    "ax2.set_xlabel('Time (years)')\n",
    "ax2.set_ylabel('Survival probability')\n",
    "plt.tight_layout()"
   ]
  },
  {
   "cell_type": "code",
   "execution_count": 60,
   "metadata": {},
   "outputs": [
    {
     "data": {
      "text/plain": [
       "Text(0, 0.5, 'Survival probability')"
      ]
     },
     "execution_count": 60,
     "metadata": {},
     "output_type": "execute_result"
    },
    {
     "data": {
      "image/png": "[encoded data removed]",
      "text/plain": [
       "<Figure size 640x480 with 1 Axes>"
      ]
     },
     "metadata": {},
     "output_type": "display_data"
    }
   ],
   "source": [
    "# Plot test data\n",
    "kmf.fit(test['time'], event_observed=test['event'])\n",
    "ax3 = kmf.plot(title='Test data', color='green')\n",
    "ax3.set_xlabel('Time (years)')\n",
    "ax3.set_ylabel('Survival probability')\n"
   ]
  },
  {
   "cell_type": "markdown",
   "metadata": {},
   "source": [
    "# Save clinical data to file\n",
    "\n",
    "To use in the visualization of the features learned by the model."
   ]
  },
  {
   "cell_type": "code",
   "execution_count": 61,
   "metadata": {},
   "outputs": [
    {
     "data": {
      "text/html": [
       "<div>\n",
       "<style scoped>\n",
       "    .dataframe tbody tr th:only-of-type {\n",
       "        vertical-align: middle;\n",
       "    }\n",
       "\n",
       "    .dataframe tbody tr th {\n",
       "        vertical-align: top;\n",
       "    }\n",
       "\n",
       "    .dataframe thead th {\n",
       "        text-align: right;\n",
       "    }\n",
       "</style>\n",
       "<table border=\"1\" class=\"dataframe\">\n",
       "  <thead>\n",
       "    <tr style=\"text-align: right;\">\n",
       "      <th></th>\n",
       "      <th>synchronous_malignancy</th>\n",
       "      <th>ajcc_pathologic_stage</th>\n",
       "      <th>age_at_diagnosis</th>\n",
       "      <th>prior_malignancy</th>\n",
       "      <th>prior_treatment</th>\n",
       "      <th>race</th>\n",
       "      <th>gender</th>\n",
       "      <th>vital_status</th>\n",
       "      <th>days_to_death</th>\n",
       "      <th>days_to_last_follow_up</th>\n",
       "      <th>treatments_pharmaceutical_treatment_or_therapy</th>\n",
       "      <th>treatments_radiation_treatment_or_therapy</th>\n",
       "      <th>time</th>\n",
       "      <th>event</th>\n",
       "    </tr>\n",
       "    <tr>\n",
       "      <th>submitter_id</th>\n",
       "      <th></th>\n",
       "      <th></th>\n",
       "      <th></th>\n",
       "      <th></th>\n",
       "      <th></th>\n",
       "      <th></th>\n",
       "      <th></th>\n",
       "      <th></th>\n",
       "      <th></th>\n",
       "      <th></th>\n",
       "      <th></th>\n",
       "      <th></th>\n",
       "      <th></th>\n",
       "      <th></th>\n",
       "    </tr>\n",
       "  </thead>\n",
       "  <tbody>\n",
       "    <tr>\n",
       "      <th>TCGA-Z7-A8R6</th>\n",
       "      <td>No</td>\n",
       "      <td>Stage I</td>\n",
       "      <td>16955.0</td>\n",
       "      <td>no</td>\n",
       "      <td>No</td>\n",
       "      <td>white</td>\n",
       "      <td>female</td>\n",
       "      <td>Alive</td>\n",
       "      <td>NaN</td>\n",
       "      <td>3256.0</td>\n",
       "      <td>yes</td>\n",
       "      <td>no</td>\n",
       "      <td>3256</td>\n",
       "      <td>0</td>\n",
       "    </tr>\n",
       "    <tr>\n",
       "      <th>TCGA-C8-A1HE</th>\n",
       "      <td>No</td>\n",
       "      <td>Stage IIA</td>\n",
       "      <td>NaN</td>\n",
       "      <td>no</td>\n",
       "      <td>No</td>\n",
       "      <td>asian</td>\n",
       "      <td>female</td>\n",
       "      <td>Alive</td>\n",
       "      <td>NaN</td>\n",
       "      <td>375.0</td>\n",
       "      <td>yes</td>\n",
       "      <td>no</td>\n",
       "      <td>375</td>\n",
       "      <td>0</td>\n",
       "    </tr>\n",
       "    <tr>\n",
       "      <th>TCGA-A8-A07B</th>\n",
       "      <td>No</td>\n",
       "      <td>Stage IIA</td>\n",
       "      <td>25475.0</td>\n",
       "      <td>no</td>\n",
       "      <td>No</td>\n",
       "      <td>NaN</td>\n",
       "      <td>female</td>\n",
       "      <td>Alive</td>\n",
       "      <td>NaN</td>\n",
       "      <td>1308.0</td>\n",
       "      <td>no</td>\n",
       "      <td>no</td>\n",
       "      <td>1308</td>\n",
       "      <td>0</td>\n",
       "    </tr>\n",
       "    <tr>\n",
       "      <th>TCGA-AC-A2FM</th>\n",
       "      <td>No</td>\n",
       "      <td>Stage IIB</td>\n",
       "      <td>31805.0</td>\n",
       "      <td>no</td>\n",
       "      <td>No</td>\n",
       "      <td>white</td>\n",
       "      <td>female</td>\n",
       "      <td>Dead</td>\n",
       "      <td>792.0</td>\n",
       "      <td>NaN</td>\n",
       "      <td>no</td>\n",
       "      <td>no</td>\n",
       "      <td>792</td>\n",
       "      <td>1</td>\n",
       "    </tr>\n",
       "    <tr>\n",
       "      <th>TCGA-B6-A1KF</th>\n",
       "      <td>No</td>\n",
       "      <td>Stage IIB</td>\n",
       "      <td>24891.0</td>\n",
       "      <td>no</td>\n",
       "      <td>No</td>\n",
       "      <td>white</td>\n",
       "      <td>female</td>\n",
       "      <td>Alive</td>\n",
       "      <td>NaN</td>\n",
       "      <td>3088.0</td>\n",
       "      <td>yes</td>\n",
       "      <td>yes</td>\n",
       "      <td>3088</td>\n",
       "      <td>0</td>\n",
       "    </tr>\n",
       "  </tbody>\n",
       "</table>\n",
       "</div>"
      ],
      "text/plain": [
       "             synchronous_malignancy ajcc_pathologic_stage  age_at_diagnosis  \\\n",
       "submitter_id                                                                  \n",
       "TCGA-Z7-A8R6                     No               Stage I           16955.0   \n",
       "TCGA-C8-A1HE                     No             Stage IIA               NaN   \n",
       "TCGA-A8-A07B                     No             Stage IIA           25475.0   \n",
       "TCGA-AC-A2FM                     No             Stage IIB           31805.0   \n",
       "TCGA-B6-A1KF                     No             Stage IIB           24891.0   \n",
       "\n",
       "             prior_malignancy prior_treatment   race  gender vital_status  \\\n",
       "submitter_id                                                                \n",
       "TCGA-Z7-A8R6               no              No  white  female        Alive   \n",
       "TCGA-C8-A1HE               no              No  asian  female        Alive   \n",
       "TCGA-A8-A07B               no              No    NaN  female        Alive   \n",
       "TCGA-AC-A2FM               no              No  white  female         Dead   \n",
       "TCGA-B6-A1KF               no              No  white  female        Alive   \n",
       "\n",
       "              days_to_death  days_to_last_follow_up  \\\n",
       "submitter_id                                          \n",
       "TCGA-Z7-A8R6            NaN                  3256.0   \n",
       "TCGA-C8-A1HE            NaN                   375.0   \n",
       "TCGA-A8-A07B            NaN                  1308.0   \n",
       "TCGA-AC-A2FM          792.0                     NaN   \n",
       "TCGA-B6-A1KF            NaN                  3088.0   \n",
       "\n",
       "             treatments_pharmaceutical_treatment_or_therapy  \\\n",
       "submitter_id                                                  \n",
       "TCGA-Z7-A8R6                                            yes   \n",
       "TCGA-C8-A1HE                                            yes   \n",
       "TCGA-A8-A07B                                             no   \n",
       "TCGA-AC-A2FM                                             no   \n",
       "TCGA-B6-A1KF                                            yes   \n",
       "\n",
       "             treatments_radiation_treatment_or_therapy  time  event  \n",
       "submitter_id                                                         \n",
       "TCGA-Z7-A8R6                                        no  3256      0  \n",
       "TCGA-C8-A1HE                                        no   375      0  \n",
       "TCGA-A8-A07B                                        no  1308      0  \n",
       "TCGA-AC-A2FM                                        no   792      1  \n",
       "TCGA-B6-A1KF                                       yes  3088      0  "
      ]
     },
     "execution_count": 61,
     "metadata": {},
     "output_type": "execute_result"
    }
   ],
   "source": [
    "clinical.head()"
   ]
  },
  {
   "cell_type": "code",
   "execution_count": 62,
   "metadata": {},
   "outputs": [],
   "source": [
    "clinical_fold0.to_csv('clinical_data.tsv', sep='\\t')"
   ]
  },
  {
   "cell_type": "markdown",
   "metadata": {},
   "source": [
    "# Input missing values\n",
    "\n",
    "* Input missing continuous data with median value.\n",
    "* Leave categorical features unchanged, to treat missing data as its own category."
   ]
  },
  {
   "cell_type": "code",
   "execution_count": 63,
   "metadata": {},
   "outputs": [
    {
     "name": "stdout",
     "output_type": "stream",
     "text": [
      "~~ MISSING DATA ~~\n",
      "\n",
      "~~ MISSING DATA BEFORE IMPUTATION ~~\n",
      "\n",
      "synchronous_malignancy: 9 (0.82%)\n",
      "ajcc_pathologic_stage: 11 (1.01%)\n",
      "age_at_diagnosis: 15 (1.37%)\n",
      "prior_malignancy: 9 (0.82%)\n",
      "prior_treatment: 2 (0.18%)\n",
      "race: 91 (8.32%)\n",
      "treatments_pharmaceutical_treatment_or_therapy: 838 (76.6%)\n",
      "treatments_radiation_treatment_or_therapy: 79 (7.22%)\n"
     ]
    }
   ],
   "source": [
    "print('~~ MISSING DATA ~~')\n",
    "print()\n",
    "# Check missing values BEFORE imputation\n",
    "skip = ['days_to_death', 'days_to_last_follow_up', 'group', 'time', 'event']\n",
    "print('~~ MISSING DATA BEFORE IMPUTATION ~~\\n')\n",
    "n = clinical_fold0.shape[0]\n",
    "features_with_missing = []\n",
    "for v in clinical_fold0.columns:\n",
    "    if v not in skip:\n",
    "        n_missing = sum(clinical_fold0[v].isnull())\n",
    "        if n_missing > 0:\n",
    "            print(f'{v}: {n_missing} ({round(n_missing / n * 100, 2)}%)')\n",
    "            features_with_missing.append(v)"
   ]
  },
  {
   "cell_type": "code",
   "execution_count": 64,
   "metadata": {},
   "outputs": [],
   "source": [
    "# Define the imputation function\n",
    "def input_missing_values(feature, df):\n",
    "    \"\"\"Impute missing values using training set statistics\"\"\"\n",
    "    train_subset = df.loc[df['group'] == 'train', feature]\n",
    "    try:\n",
    "        # For continuous features, use median\n",
    "        input_value = train_subset.median()\n",
    "        print(f'Median \"{feature}\": {input_value}')\n",
    "    except TypeError:\n",
    "        # For categorical features, use mode\n",
    "        input_value = train_subset.mode().iloc[0]\n",
    "        print(f'Mode \"{feature}\": {input_value}')\n",
    "    \n",
    "    df[feature].fillna(input_value, inplace=True)\n",
    "    return df"
   ]
  },
  {
   "cell_type": "code",
   "execution_count": 65,
   "metadata": {},
   "outputs": [
    {
     "name": "stdout",
     "output_type": "stream",
     "text": [
      "\n",
      "~~ IMPUTATION VALUES (from training set) ~~\n",
      "\n",
      "Mode \"synchronous_malignancy\": No\n",
      "Mode \"ajcc_pathologic_stage\": Stage IIA\n",
      "Median \"age_at_diagnosis\": 21519.0\n",
      "Mode \"prior_malignancy\": no\n",
      "Mode \"prior_treatment\": No\n",
      "Mode \"race\": white\n",
      "Mode \"treatments_pharmaceutical_treatment_or_therapy\": no\n",
      "Mode \"treatments_radiation_treatment_or_therapy\": yes\n",
      "\n",
      "~~ MISSING DATA AFTER IMPUTATION ~~\n",
      "\n",
      "✅ No missing values remain!\n"
     ]
    }
   ],
   "source": [
    "# Impute missing values\n",
    "print('\\n~~ IMPUTATION VALUES (from training set) ~~\\n')\n",
    "for feature in features_with_missing:\n",
    "    clinical_fold0 = input_missing_values(feature=feature, df=clinical_fold0)\n",
    "\n",
    "# Verify no missing data remains\n",
    "print('\\n~~ MISSING DATA AFTER IMPUTATION ~~\\n')\n",
    "n = clinical_fold0.shape[0]\n",
    "any_missing = False\n",
    "for v in clinical_fold0.columns:\n",
    "    if v not in skip:\n",
    "        n_missing = sum(clinical_fold0[v].isnull())\n",
    "        if n_missing > 0:\n",
    "            print(f'{v}: {n_missing} ({round(n_missing / n * 100, 2)}%)')\n",
    "            any_missing = True\n",
    "\n",
    "if not any_missing:\n",
    "    print(\"✅ No missing values remain!\")"
   ]
  },
  {
   "cell_type": "markdown",
   "metadata": {},
   "source": [
    "# Scale continuous variables"
   ]
  },
  {
   "cell_type": "code",
   "execution_count": 66,
   "metadata": {},
   "outputs": [
    {
     "data": {
      "text/plain": [
       "Index(['synchronous_malignancy', 'ajcc_pathologic_stage', 'age_at_diagnosis',\n",
       "       'prior_malignancy', 'prior_treatment', 'race', 'gender', 'vital_status',\n",
       "       'days_to_death', 'days_to_last_follow_up',\n",
       "       'treatments_pharmaceutical_treatment_or_therapy',\n",
       "       'treatments_radiation_treatment_or_therapy', 'time', 'event', 'group'],\n",
       "      dtype='object')"
      ]
     },
     "execution_count": 66,
     "metadata": {},
     "output_type": "execute_result"
    }
   ],
   "source": [
    "clinical_fold0.columns"
   ]
  },
  {
   "cell_type": "code",
   "execution_count": 67,
   "metadata": {},
   "outputs": [
    {
     "data": {
      "text/plain": [
       "['days_to_death', 'days_to_last_follow_up', 'group', 'time', 'event']"
      ]
     },
     "execution_count": 67,
     "metadata": {},
     "output_type": "execute_result"
    }
   ],
   "source": [
    "skip"
   ]
  },
  {
   "cell_type": "code",
   "execution_count": 68,
   "metadata": {},
   "outputs": [],
   "source": [
    "continuous = ['age_at_diagnosis']"
   ]
  },
  {
   "cell_type": "code",
   "execution_count": 69,
   "metadata": {},
   "outputs": [],
   "source": [
    "def min_max_scale(data, features):\n",
    "    \"\"\"Scale continuous features using training set statistics\"\"\"\n",
    "    # Fit scaler on training data only\n",
    "    train_data = data.loc[data['group'] == 'train', features]\n",
    "    scaler = MinMaxScaler()\n",
    "    scaler.fit(train_data)\n",
    "    \n",
    "    # Apply to all groups\n",
    "    for group in ['train', 'val', 'test']:\n",
    "        group_indices = data['group'] == group\n",
    "        data.loc[group_indices, features] = scaler.transform(\n",
    "            data.loc[group_indices, features]\n",
    "        )\n",
    "    \n",
    "    return data, scaler"
   ]
  },
  {
   "cell_type": "code",
   "execution_count": 70,
   "metadata": {},
   "outputs": [],
   "source": [
    "# Apply scaling\n",
    "clinical_fold0, age_scaler = min_max_scale(data=clinical_fold0, features=continuous)"
   ]
  },
  {
   "cell_type": "code",
   "execution_count": 71,
   "metadata": {},
   "outputs": [
    {
     "name": "stdout",
     "output_type": "stream",
     "text": [
      "Age at diagnosis statistics after scaling:\n",
      "       count      mean       std       min       25%       50%       75%  \\\n",
      "group                                                                      \n",
      "test   219.0  0.507644  0.200417  0.037037  0.362190  0.514375  0.652508   \n",
      "train  710.0  0.513759  0.208274  0.000000  0.359665  0.509928  0.652432   \n",
      "val    165.0  0.516768  0.208322  0.007209  0.368255  0.510576  0.654882   \n",
      "\n",
      "            max  \n",
      "group            \n",
      "test   0.987525  \n",
      "train  1.000000  \n",
      "val    1.000000  \n"
     ]
    }
   ],
   "source": [
    "# Verify scaling\n",
    "print(\"Age at diagnosis statistics after scaling:\")\n",
    "print(clinical_fold0.groupby('group')['age_at_diagnosis'].describe())"
   ]
  },
  {
   "cell_type": "code",
   "execution_count": 72,
   "metadata": {},
   "outputs": [
    {
     "name": "stdout",
     "output_type": "stream",
     "text": [
      "\n",
      "Training set range: [0.000, 1.000]\n",
      "✅ Should be [0.000, 1.000] for training set\n"
     ]
    }
   ],
   "source": [
    "# Check that training set is properly scaled to [0, 1]\n",
    "train_stats = clinical_fold0[clinical_fold0['group'] == 'train']['age_at_diagnosis'].describe()\n",
    "print(f\"\\nTraining set range: [{train_stats['min']:.3f}, {train_stats['max']:.3f}]\")\n",
    "print(\"✅ Should be [0.000, 1.000] for training set\")"
   ]
  },
  {
   "cell_type": "code",
   "execution_count": 73,
   "metadata": {},
   "outputs": [
    {
     "data": {
      "text/html": [
       "<div>\n",
       "<style scoped>\n",
       "    .dataframe tbody tr th:only-of-type {\n",
       "        vertical-align: middle;\n",
       "    }\n",
       "\n",
       "    .dataframe tbody tr th {\n",
       "        vertical-align: top;\n",
       "    }\n",
       "\n",
       "    .dataframe thead th {\n",
       "        text-align: right;\n",
       "    }\n",
       "</style>\n",
       "<table border=\"1\" class=\"dataframe\">\n",
       "  <thead>\n",
       "    <tr style=\"text-align: right;\">\n",
       "      <th></th>\n",
       "      <th>synchronous_malignancy</th>\n",
       "      <th>ajcc_pathologic_stage</th>\n",
       "      <th>age_at_diagnosis</th>\n",
       "      <th>prior_malignancy</th>\n",
       "      <th>prior_treatment</th>\n",
       "      <th>race</th>\n",
       "      <th>gender</th>\n",
       "      <th>vital_status</th>\n",
       "      <th>days_to_death</th>\n",
       "      <th>days_to_last_follow_up</th>\n",
       "      <th>treatments_pharmaceutical_treatment_or_therapy</th>\n",
       "      <th>treatments_radiation_treatment_or_therapy</th>\n",
       "      <th>time</th>\n",
       "      <th>event</th>\n",
       "      <th>group</th>\n",
       "    </tr>\n",
       "    <tr>\n",
       "      <th>submitter_id</th>\n",
       "      <th></th>\n",
       "      <th></th>\n",
       "      <th></th>\n",
       "      <th></th>\n",
       "      <th></th>\n",
       "      <th></th>\n",
       "      <th></th>\n",
       "      <th></th>\n",
       "      <th></th>\n",
       "      <th></th>\n",
       "      <th></th>\n",
       "      <th></th>\n",
       "      <th></th>\n",
       "      <th></th>\n",
       "      <th></th>\n",
       "    </tr>\n",
       "  </thead>\n",
       "  <tbody>\n",
       "    <tr>\n",
       "      <th>TCGA-Z7-A8R6</th>\n",
       "      <td>No</td>\n",
       "      <td>Stage I</td>\n",
       "      <td>0.312915</td>\n",
       "      <td>no</td>\n",
       "      <td>No</td>\n",
       "      <td>white</td>\n",
       "      <td>female</td>\n",
       "      <td>Alive</td>\n",
       "      <td>NaN</td>\n",
       "      <td>3256.0</td>\n",
       "      <td>yes</td>\n",
       "      <td>no</td>\n",
       "      <td>8.920548</td>\n",
       "      <td>0</td>\n",
       "      <td>test</td>\n",
       "    </tr>\n",
       "    <tr>\n",
       "      <th>TCGA-C8-A1HE</th>\n",
       "      <td>No</td>\n",
       "      <td>Stage IIA</td>\n",
       "      <td>0.509928</td>\n",
       "      <td>no</td>\n",
       "      <td>No</td>\n",
       "      <td>asian</td>\n",
       "      <td>female</td>\n",
       "      <td>Alive</td>\n",
       "      <td>NaN</td>\n",
       "      <td>375.0</td>\n",
       "      <td>yes</td>\n",
       "      <td>no</td>\n",
       "      <td>1.027397</td>\n",
       "      <td>0</td>\n",
       "      <td>test</td>\n",
       "    </tr>\n",
       "    <tr>\n",
       "      <th>TCGA-A8-A07B</th>\n",
       "      <td>No</td>\n",
       "      <td>Stage IIA</td>\n",
       "      <td>0.680696</td>\n",
       "      <td>no</td>\n",
       "      <td>No</td>\n",
       "      <td>white</td>\n",
       "      <td>female</td>\n",
       "      <td>Alive</td>\n",
       "      <td>NaN</td>\n",
       "      <td>1308.0</td>\n",
       "      <td>no</td>\n",
       "      <td>no</td>\n",
       "      <td>3.583562</td>\n",
       "      <td>0</td>\n",
       "      <td>train</td>\n",
       "    </tr>\n",
       "    <tr>\n",
       "      <th>TCGA-AC-A2FM</th>\n",
       "      <td>No</td>\n",
       "      <td>Stage IIB</td>\n",
       "      <td>0.953941</td>\n",
       "      <td>no</td>\n",
       "      <td>No</td>\n",
       "      <td>white</td>\n",
       "      <td>female</td>\n",
       "      <td>Dead</td>\n",
       "      <td>792.0</td>\n",
       "      <td>NaN</td>\n",
       "      <td>no</td>\n",
       "      <td>no</td>\n",
       "      <td>2.169863</td>\n",
       "      <td>1</td>\n",
       "      <td>train</td>\n",
       "    </tr>\n",
       "    <tr>\n",
       "      <th>TCGA-B6-A1KF</th>\n",
       "      <td>No</td>\n",
       "      <td>Stage IIB</td>\n",
       "      <td>0.655486</td>\n",
       "      <td>no</td>\n",
       "      <td>No</td>\n",
       "      <td>white</td>\n",
       "      <td>female</td>\n",
       "      <td>Alive</td>\n",
       "      <td>NaN</td>\n",
       "      <td>3088.0</td>\n",
       "      <td>yes</td>\n",
       "      <td>yes</td>\n",
       "      <td>8.460274</td>\n",
       "      <td>0</td>\n",
       "      <td>train</td>\n",
       "    </tr>\n",
       "  </tbody>\n",
       "</table>\n",
       "</div>"
      ],
      "text/plain": [
       "             synchronous_malignancy ajcc_pathologic_stage  age_at_diagnosis  \\\n",
       "submitter_id                                                                  \n",
       "TCGA-Z7-A8R6                     No               Stage I          0.312915   \n",
       "TCGA-C8-A1HE                     No             Stage IIA          0.509928   \n",
       "TCGA-A8-A07B                     No             Stage IIA          0.680696   \n",
       "TCGA-AC-A2FM                     No             Stage IIB          0.953941   \n",
       "TCGA-B6-A1KF                     No             Stage IIB          0.655486   \n",
       "\n",
       "             prior_malignancy prior_treatment   race  gender vital_status  \\\n",
       "submitter_id                                                                \n",
       "TCGA-Z7-A8R6               no              No  white  female        Alive   \n",
       "TCGA-C8-A1HE               no              No  asian  female        Alive   \n",
       "TCGA-A8-A07B               no              No  white  female        Alive   \n",
       "TCGA-AC-A2FM               no              No  white  female         Dead   \n",
       "TCGA-B6-A1KF               no              No  white  female        Alive   \n",
       "\n",
       "              days_to_death  days_to_last_follow_up  \\\n",
       "submitter_id                                          \n",
       "TCGA-Z7-A8R6            NaN                  3256.0   \n",
       "TCGA-C8-A1HE            NaN                   375.0   \n",
       "TCGA-A8-A07B            NaN                  1308.0   \n",
       "TCGA-AC-A2FM          792.0                     NaN   \n",
       "TCGA-B6-A1KF            NaN                  3088.0   \n",
       "\n",
       "             treatments_pharmaceutical_treatment_or_therapy  \\\n",
       "submitter_id                                                  \n",
       "TCGA-Z7-A8R6                                            yes   \n",
       "TCGA-C8-A1HE                                            yes   \n",
       "TCGA-A8-A07B                                             no   \n",
       "TCGA-AC-A2FM                                             no   \n",
       "TCGA-B6-A1KF                                            yes   \n",
       "\n",
       "             treatments_radiation_treatment_or_therapy      time  event  group  \n",
       "submitter_id                                                                    \n",
       "TCGA-Z7-A8R6                                        no  8.920548      0   test  \n",
       "TCGA-C8-A1HE                                        no  1.027397      0   test  \n",
       "TCGA-A8-A07B                                        no  3.583562      0  train  \n",
       "TCGA-AC-A2FM                                        no  2.169863      1  train  \n",
       "TCGA-B6-A1KF                                       yes  8.460274      0  train  "
      ]
     },
     "execution_count": 73,
     "metadata": {},
     "output_type": "execute_result"
    }
   ],
   "source": [
    "clinical_fold0.head()"
   ]
  },
  {
   "cell_type": "markdown",
   "metadata": {},
   "source": [
    "# Encode categorical variables\n",
    "\n",
    "Encode labels (with a value between 0 and n_classes-1) to use with categorical embeddings."
   ]
  },
  {
   "cell_type": "code",
   "execution_count": 74,
   "metadata": {},
   "outputs": [],
   "source": [
    "# Drop unnecessary columns\n",
    "clinical_fold0 = clinical_fold0.drop(columns=['days_to_death', 'days_to_last_follow_up', 'vital_status'])"
   ]
  },
  {
   "cell_type": "code",
   "execution_count": 75,
   "metadata": {},
   "outputs": [
    {
     "data": {
      "text/plain": [
       "Index(['synchronous_malignancy', 'ajcc_pathologic_stage', 'age_at_diagnosis',\n",
       "       'prior_malignancy', 'prior_treatment', 'race', 'gender',\n",
       "       'treatments_pharmaceutical_treatment_or_therapy',\n",
       "       'treatments_radiation_treatment_or_therapy', 'time', 'event', 'group'],\n",
       "      dtype='object')"
      ]
     },
     "execution_count": 75,
     "metadata": {},
     "output_type": "execute_result"
    }
   ],
   "source": [
    "clinical_fold0.columns"
   ]
  },
  {
   "cell_type": "code",
   "execution_count": 76,
   "metadata": {},
   "outputs": [
    {
     "data": {
      "text/plain": [
       "['time', 'event', 'group']"
      ]
     },
     "execution_count": 76,
     "metadata": {},
     "output_type": "execute_result"
    }
   ],
   "source": [
    "skip = ['time', 'event', 'group']\n",
    "skip"
   ]
  },
  {
   "cell_type": "code",
   "execution_count": 77,
   "metadata": {},
   "outputs": [
    {
     "data": {
      "text/plain": [
       "['age_at_diagnosis']"
      ]
     },
     "execution_count": 77,
     "metadata": {},
     "output_type": "execute_result"
    }
   ],
   "source": [
    "continuous"
   ]
  },
  {
   "cell_type": "code",
   "execution_count": 78,
   "metadata": {},
   "outputs": [
    {
     "data": {
      "text/plain": [
       "12"
      ]
     },
     "execution_count": 78,
     "metadata": {},
     "output_type": "execute_result"
    }
   ],
   "source": [
    "len(clinical_fold0.columns)"
   ]
  },
  {
   "cell_type": "code",
   "execution_count": 79,
   "metadata": {},
   "outputs": [],
   "source": [
    "# Reorder columns\n",
    "categorical = ['gender', 'race', 'prior_treatment', 'prior_malignancy', 'synchronous_malignancy',\n",
    "               'treatments_pharmaceutical_treatment_or_therapy',\n",
    "               'treatments_radiation_treatment_or_therapy', 'ajcc_pathologic_stage'\n",
    "               ]\n",
    "\n",
    "# Verify all categorical features exist\n",
    "available_categorical = [col for col in categorical if col in clinical_fold0.columns]\n",
    "if len(available_categorical) != len(categorical):\n",
    "    missing = set(categorical) - set(available_categorical)\n",
    "    print(f\"Warning: Missing categorical features: {missing}\")\n",
    "    categorical = available_categorical\n",
    "    \n",
    "clinical_fold0 = clinical_fold0[categorical + continuous + skip]"
   ]
  },
  {
   "cell_type": "code",
   "execution_count": 80,
   "metadata": {},
   "outputs": [
    {
     "data": {
      "text/plain": [
       "12"
      ]
     },
     "execution_count": 80,
     "metadata": {},
     "output_type": "execute_result"
    }
   ],
   "source": [
    "len(clinical_fold0.columns)"
   ]
  },
  {
   "cell_type": "code",
   "execution_count": 81,
   "metadata": {},
   "outputs": [],
   "source": [
    "# Save a copy of the table to allow inclusion of unencoded \"project_id\" in the labels table\n",
    "survival = clinical_fold0.copy()"
   ]
  },
  {
   "cell_type": "code",
   "execution_count": 82,
   "metadata": {},
   "outputs": [
    {
     "name": "stdout",
     "output_type": "stream",
     "text": [
      "gender: 2 unique values in training set\n",
      "race: 6 unique values in training set\n",
      "prior_treatment: 2 unique values in training set\n",
      "prior_malignancy: 2 unique values in training set\n",
      "synchronous_malignancy: 2 unique values in training set\n",
      "treatments_pharmaceutical_treatment_or_therapy: 3 unique values in training set\n",
      "treatments_radiation_treatment_or_therapy: 3 unique values in training set\n",
      "ajcc_pathologic_stage: 12 unique values in training set\n"
     ]
    }
   ],
   "source": [
    "# Encode categorical variables\n",
    "split_groups = ['train', 'val', 'test']\n",
    "label_encoders = {}\n",
    "\n",
    "# Convert to string and fit encoders on training data\n",
    "for feature in categorical:\n",
    "    clinical_fold0[feature] = clinical_fold0[feature].astype(str)\n",
    "    label_encoders[feature] = LabelEncoder()\n",
    "    \n",
    "    # Fit only on training data\n",
    "    train_values = clinical_fold0.loc[clinical_fold0['group'] == 'train', feature]\n",
    "    label_encoders[feature].fit(train_values)\n",
    "    \n",
    "    # Print unique values from training set\n",
    "    n_classes = len(label_encoders[feature].classes_)\n",
    "    print(f\"{feature}: {n_classes} unique values in training set\")\n",
    "\n",
    "# Transform all groups\n",
    "for group in split_groups:\n",
    "    for feature in categorical:\n",
    "        try:\n",
    "            clinical_fold0.loc[\n",
    "                clinical_fold0['group'] == group, feature] = label_encoders[feature].transform(\n",
    "                clinical_fold0.loc[clinical_fold0['group'] == group, feature])\n",
    "        except ValueError as e:\n",
    "            print(f\"Warning: New category in {group} set for feature {feature}\")\n",
    "            # Handle unknown categories by assigning them to a default value\n",
    "            unknown_mask = ~clinical_fold0.loc[clinical_fold0['group'] == group, feature].isin(\n",
    "                label_encoders[feature].classes_)\n",
    "            if unknown_mask.any():\n",
    "                print(f\"  Found {unknown_mask.sum()} unknown values, assigning to category 0\")\n",
    "                clinical_fold0.loc[\n",
    "                    (clinical_fold0['group'] == group) & unknown_mask, feature] = 0"
   ]
  },
  {
   "cell_type": "markdown",
   "metadata": {},
   "source": [
    "The embedding dimensions (in a list of two-tuples) are calculated in the next cell: number of unique values paired with the embedding dimension for each categorical feature.\n",
    "\n",
    "The embedding size is determined according to the rule-of-thumb from the Fast.ai course."
   ]
  },
  {
   "cell_type": "code",
   "execution_count": 83,
   "metadata": {},
   "outputs": [
    {
     "name": "stdout",
     "output_type": "stream",
     "text": [
      "\n",
      "Feature                                            Levels   Embedding dims\n",
      "-------                                            ------   --------------\n",
      "gender                                             2        1\n",
      "race                                               6        3\n",
      "prior_treatment                                    2        1\n",
      "prior_malignancy                                   2        1\n",
      "synchronous_malignancy                             2        1\n",
      "treatments_pharmaceutical_treatment_or_therapy     3        2\n",
      "treatments_radiation_treatment_or_therapy          3        2\n",
      "ajcc_pathologic_stage                              12       6\n",
      "\n",
      "✅ Saved label encoders to /mnt/data/Processed_Data/Clinical/label_encoders_fold0.pkl\n",
      "\n",
      "Sample of encoded data:\n",
      "             gender race prior_treatment prior_malignancy  \\\n",
      "submitter_id                                                \n",
      "TCGA-Z7-A8R6      0    5               0                0   \n",
      "TCGA-C8-A1HE      0    1               0                0   \n",
      "TCGA-A8-A07B      0    5               0                0   \n",
      "TCGA-AC-A2FM      0    5               0                0   \n",
      "TCGA-B6-A1KF      0    5               0                0   \n",
      "\n",
      "             synchronous_malignancy  \\\n",
      "submitter_id                          \n",
      "TCGA-Z7-A8R6                      0   \n",
      "TCGA-C8-A1HE                      0   \n",
      "TCGA-A8-A07B                      0   \n",
      "TCGA-AC-A2FM                      0   \n",
      "TCGA-B6-A1KF                      0   \n",
      "\n",
      "             treatments_pharmaceutical_treatment_or_therapy  \\\n",
      "submitter_id                                                  \n",
      "TCGA-Z7-A8R6                                              2   \n",
      "TCGA-C8-A1HE                                              2   \n",
      "TCGA-A8-A07B                                              0   \n",
      "TCGA-AC-A2FM                                              0   \n",
      "TCGA-B6-A1KF                                              2   \n",
      "\n",
      "             treatments_radiation_treatment_or_therapy ajcc_pathologic_stage  \\\n",
      "submitter_id                                                                   \n",
      "TCGA-Z7-A8R6                                         0                     0   \n",
      "TCGA-C8-A1HE                                         0                     4   \n",
      "TCGA-A8-A07B                                         0                     4   \n",
      "TCGA-AC-A2FM                                         0                     5   \n",
      "TCGA-B6-A1KF                                         2                     5   \n",
      "\n",
      "              age_at_diagnosis      time  event  group  \n",
      "submitter_id                                            \n",
      "TCGA-Z7-A8R6          0.312915  8.920548      0   test  \n",
      "TCGA-C8-A1HE          0.509928  1.027397      0   test  \n",
      "TCGA-A8-A07B          0.680696  3.583562      0  train  \n",
      "TCGA-AC-A2FM          0.953941  2.169863      1  train  \n",
      "TCGA-B6-A1KF          0.655486  8.460274      0  train  \n",
      "\n",
      "Data types after encoding:\n",
      "gender: object\n",
      "race: object\n",
      "prior_treatment: object\n",
      "prior_malignancy: object\n",
      "synchronous_malignancy: object\n",
      "treatments_pharmaceutical_treatment_or_therapy: object\n",
      "treatments_radiation_treatment_or_therapy: object\n",
      "ajcc_pathologic_stage: object\n",
      "age_at_diagnosis: float64\n",
      "time: float64\n",
      "event: int64\n",
      "group: object\n"
     ]
    }
   ],
   "source": [
    "# Calculate embedding dimensions\n",
    "categorical_dims = [int(clinical_fold0[col].nunique()) for col in categorical]\n",
    "embedding_dims = [(x, min(50, (x + 1) // 2)) for x in categorical_dims]\n",
    "\n",
    "# Display embedding dimensions\n",
    "print('\\nFeature                                            Levels   Embedding dims')\n",
    "print('-------                                            ------   --------------')\n",
    "for i, feat in enumerate(categorical):\n",
    "    print(f\"{feat:<50} {embedding_dims[i][0]:<8} {embedding_dims[i][1]}\")\n",
    "\n",
    "# Save label encoders for later use\n",
    "import joblib\n",
    "joblib.dump(label_encoders, f'{DATA_LOCATION}/label_encoders_fold0.pkl')\n",
    "print(f\"\\n✅ Saved label encoders to {DATA_LOCATION}/label_encoders_fold0.pkl\")\n",
    "\n",
    "# Verify the encoding worked\n",
    "print(\"\\nSample of encoded data:\")\n",
    "print(clinical_fold0.head())\n",
    "\n",
    "# Check data types\n",
    "print(\"\\nData types after encoding:\")\n",
    "for col in clinical_fold0.columns:\n",
    "    print(f\"{col}: {clinical_fold0[col].dtype}\")"
   ]
  },
  {
   "cell_type": "code",
   "execution_count": 84,
   "metadata": {},
   "outputs": [
    {
     "name": "stdout",
     "output_type": "stream",
     "text": [
      "\n",
      "After conversion:\n",
      "gender: int64\n",
      "  Values: [0, 1]\n",
      "race: int64\n",
      "  Values: [0, 1, 2, 3, 4, 5]\n",
      "prior_treatment: int64\n",
      "  Values: [0, 1]\n",
      "prior_malignancy: int64\n",
      "  Values: [0, 1]\n",
      "synchronous_malignancy: int64\n",
      "  Values: [0, 1]\n",
      "treatments_pharmaceutical_treatment_or_therapy: int64\n",
      "  Values: [0, 1, 2]\n",
      "treatments_radiation_treatment_or_therapy: int64\n",
      "  Values: [0, 1, 2]\n",
      "ajcc_pathologic_stage: int64\n",
      "  Values: [0, 1, 2, 3, 4, 5, 6, 7, 8, 9, 10, 11]\n"
     ]
    }
   ],
   "source": [
    "\n",
    "\n",
    "# The issue: LabelEncoder transform returns numpy array, but assignment might not be working\n",
    "# Fix: Ensure proper integer conversion after encoding\n",
    "\n",
    "for feature in categorical:\n",
    "    # Convert to numeric, forcing any remaining strings to NaN\n",
    "    clinical_fold0[feature] = pd.to_numeric(clinical_fold0[feature], errors='coerce')\n",
    "    \n",
    "    # Check for any NaN values that resulted from conversion\n",
    "    nan_count = clinical_fold0[feature].isna().sum()\n",
    "    if nan_count > 0:\n",
    "        print(f\"WARNING: {feature} has {nan_count} values that couldn't be converted to numeric\")\n",
    "    \n",
    "    # Convert to integer type\n",
    "    clinical_fold0[feature] = clinical_fold0[feature].fillna(0).astype(int)\n",
    "\n",
    "# Verify the fix\n",
    "print(\"\\nAfter conversion:\")\n",
    "for feature in categorical:\n",
    "    print(f\"{feature}: {clinical_fold0[feature].dtype}\")\n",
    "    print(f\"  Values: {sorted(clinical_fold0[feature].unique())}\")"
   ]
  },
  {
   "cell_type": "markdown",
   "metadata": {},
   "source": [
    "# Save patient data to files"
   ]
  },
  {
   "cell_type": "markdown",
   "metadata": {},
   "source": [
    "## Survival labels"
   ]
  },
  {
   "cell_type": "code",
   "execution_count": 85,
   "metadata": {},
   "outputs": [],
   "source": [
    "survival['submitter_id'] = survival.index\n",
    "survival = survival.reset_index(drop=True)\n",
    "\n",
    "label_columns = ['submitter_id', 'time', 'event', 'group']\n",
    "survival = survival.loc[:, label_columns]"
   ]
  },
  {
   "cell_type": "code",
   "execution_count": 86,
   "metadata": {},
   "outputs": [
    {
     "data": {
      "text/html": [
       "<div>\n",
       "<style scoped>\n",
       "    .dataframe tbody tr th:only-of-type {\n",
       "        vertical-align: middle;\n",
       "    }\n",
       "\n",
       "    .dataframe tbody tr th {\n",
       "        vertical-align: top;\n",
       "    }\n",
       "\n",
       "    .dataframe thead th {\n",
       "        text-align: right;\n",
       "    }\n",
       "</style>\n",
       "<table border=\"1\" class=\"dataframe\">\n",
       "  <thead>\n",
       "    <tr style=\"text-align: right;\">\n",
       "      <th></th>\n",
       "      <th>submitter_id</th>\n",
       "      <th>time</th>\n",
       "      <th>event</th>\n",
       "      <th>group</th>\n",
       "    </tr>\n",
       "  </thead>\n",
       "  <tbody>\n",
       "    <tr>\n",
       "      <th>0</th>\n",
       "      <td>TCGA-Z7-A8R6</td>\n",
       "      <td>8.920548</td>\n",
       "      <td>0</td>\n",
       "      <td>test</td>\n",
       "    </tr>\n",
       "    <tr>\n",
       "      <th>1</th>\n",
       "      <td>TCGA-C8-A1HE</td>\n",
       "      <td>1.027397</td>\n",
       "      <td>0</td>\n",
       "      <td>test</td>\n",
       "    </tr>\n",
       "    <tr>\n",
       "      <th>2</th>\n",
       "      <td>TCGA-A8-A07B</td>\n",
       "      <td>3.583562</td>\n",
       "      <td>0</td>\n",
       "      <td>train</td>\n",
       "    </tr>\n",
       "    <tr>\n",
       "      <th>3</th>\n",
       "      <td>TCGA-AC-A2FM</td>\n",
       "      <td>2.169863</td>\n",
       "      <td>1</td>\n",
       "      <td>train</td>\n",
       "    </tr>\n",
       "    <tr>\n",
       "      <th>4</th>\n",
       "      <td>TCGA-B6-A1KF</td>\n",
       "      <td>8.460274</td>\n",
       "      <td>0</td>\n",
       "      <td>train</td>\n",
       "    </tr>\n",
       "  </tbody>\n",
       "</table>\n",
       "</div>"
      ],
      "text/plain": [
       "   submitter_id      time  event  group\n",
       "0  TCGA-Z7-A8R6  8.920548      0   test\n",
       "1  TCGA-C8-A1HE  1.027397      0   test\n",
       "2  TCGA-A8-A07B  3.583562      0  train\n",
       "3  TCGA-AC-A2FM  2.169863      1  train\n",
       "4  TCGA-B6-A1KF  8.460274      0  train"
      ]
     },
     "execution_count": 86,
     "metadata": {},
     "output_type": "execute_result"
    }
   ],
   "source": [
    "survival.head()"
   ]
  },
  {
   "cell_type": "code",
   "execution_count": 87,
   "metadata": {},
   "outputs": [],
   "source": [
    "survival.to_csv('/app/data/labels.tsv', sep='\\t', index=False)"
   ]
  },
  {
   "cell_type": "markdown",
   "metadata": {},
   "source": [
    "## Clinical data\n",
    "\n",
    "Save preprocessed clinical data as individual patient files (to use with PyTorch dataset)."
   ]
  },
  {
   "cell_type": "code",
   "execution_count": 88,
   "metadata": {},
   "outputs": [
    {
     "name": "stdout",
     "output_type": "stream",
     "text": [
      "✅ Encoding is correct!\n",
      "\n",
      "Sample patient decoded:\n",
      "gender: 0 = 'female'\n",
      "race: 5 = 'white'\n",
      "prior_treatment: 0 = 'No'\n",
      "prior_malignancy: 0 = 'no'\n",
      "synchronous_malignancy: 0 = 'No'\n",
      "treatments_pharmaceutical_treatment_or_therapy: 2 = 'yes'\n",
      "treatments_radiation_treatment_or_therapy: 0 = 'no'\n",
      "ajcc_pathologic_stage: 0 = 'Stage I'\n",
      "\n",
      "==================================================\n",
      "Complete verification for first 3 patients:\n",
      "==================================================\n",
      "\n",
      "Patient TCGA-Z7-A8R6:\n",
      "  gender: 0 = 'female'\n",
      "  race: 5 = 'white'\n",
      "  prior_treatment: 0 = 'No'\n",
      "  prior_malignancy: 0 = 'no'\n",
      "  synchronous_malignancy: 0 = 'No'\n",
      "  treatments_pharmaceutical_treatment_or_therapy: 2 = 'yes'\n",
      "  treatments_radiation_treatment_or_therapy: 0 = 'no'\n",
      "  ajcc_pathologic_stage: 0 = 'Stage I'\n",
      "\n",
      "Patient TCGA-C8-A1HE:\n",
      "  gender: 0 = 'female'\n",
      "  race: 1 = 'asian'\n",
      "  prior_treatment: 0 = 'No'\n",
      "  prior_malignancy: 0 = 'no'\n",
      "  synchronous_malignancy: 0 = 'No'\n",
      "  treatments_pharmaceutical_treatment_or_therapy: 2 = 'yes'\n",
      "  treatments_radiation_treatment_or_therapy: 0 = 'no'\n",
      "  ajcc_pathologic_stage: 4 = 'Stage IIA'\n",
      "\n",
      "Patient TCGA-A8-A07B:\n",
      "  gender: 0 = 'female'\n",
      "  race: 5 = 'white'\n",
      "  prior_treatment: 0 = 'No'\n",
      "  prior_malignancy: 0 = 'no'\n",
      "  synchronous_malignancy: 0 = 'No'\n",
      "  treatments_pharmaceutical_treatment_or_therapy: 0 = 'no'\n",
      "  treatments_radiation_treatment_or_therapy: 0 = 'no'\n",
      "  ajcc_pathologic_stage: 4 = 'Stage IIA'\n",
      "\n",
      "Final dataset summary:\n",
      "Shape: (1094, 12)\n",
      "Features: ['gender', 'race', 'prior_treatment', 'prior_malignancy', 'synchronous_malignancy', 'treatments_pharmaceutical_treatment_or_therapy', 'treatments_radiation_treatment_or_therapy', 'ajcc_pathologic_stage', 'age_at_diagnosis', 'time', 'event', 'group']\n",
      "Train: 710 patients\n",
      "Val: 165 patients\n",
      "Test: 219 patients\n"
     ]
    }
   ],
   "source": [
    "# Final verification\n",
    "print(\"✅ Encoding is correct!\")\n",
    "print(\"\\nSample patient decoded:\")\n",
    "patient = clinical_fold0.iloc[0]\n",
    "for feature in categorical:\n",
    "    encoded_val = int(patient[feature])  # Convert to Python int\n",
    "    original_val = label_encoders[feature].classes_[encoded_val]\n",
    "    print(f\"{feature}: {encoded_val} = '{original_val}'\")\n",
    "\n",
    "# Alternative safer version with error handling\n",
    "print(\"\\n\" + \"=\"*50)\n",
    "print(\"Complete verification for first 3 patients:\")\n",
    "print(\"=\"*50)\n",
    "\n",
    "for idx in range(min(3, len(clinical_fold0))):\n",
    "    patient_id = clinical_fold0.index[idx]\n",
    "    print(f\"\\nPatient {patient_id}:\")\n",
    "    patient = clinical_fold0.iloc[idx]\n",
    "    \n",
    "    for feature in categorical:\n",
    "        try:\n",
    "            encoded_val = int(patient[feature])\n",
    "            if 0 <= encoded_val < len(label_encoders[feature].classes_):\n",
    "                original_val = label_encoders[feature].classes_[encoded_val]\n",
    "                print(f\"  {feature}: {encoded_val} = '{original_val}'\")\n",
    "            else:\n",
    "                print(f\"  {feature}: {encoded_val} = OUT OF RANGE\")\n",
    "        except Exception as e:\n",
    "            print(f\"  {feature}: Error - {e}\")\n",
    "\n",
    "\n",
    "# Quick summary\n",
    "print(f\"\\nFinal dataset summary:\")\n",
    "print(f\"Shape: {clinical_fold0.shape}\")\n",
    "print(f\"Features: {list(clinical_fold0.columns)}\")\n",
    "print(f\"Train: {(clinical_fold0['group'] == 'train').sum()} patients\")\n",
    "print(f\"Val: {(clinical_fold0['group'] == 'val').sum()} patients\")\n",
    "print(f\"Test: {(clinical_fold0['group'] == 'test').sum()} patients\")"
   ]
  },
  {
   "cell_type": "code",
   "execution_count": 89,
   "metadata": {},
   "outputs": [
    {
     "data": {
      "text/plain": [
       "['time', 'event', 'group']"
      ]
     },
     "execution_count": 89,
     "metadata": {},
     "output_type": "execute_result"
    }
   ],
   "source": [
    "skip"
   ]
  },
  {
   "cell_type": "code",
   "execution_count": 90,
   "metadata": {},
   "outputs": [],
   "source": [
    "clinical_fold0 = clinical_fold0[categorical + continuous]"
   ]
  },
  {
   "cell_type": "code",
   "execution_count": 91,
   "metadata": {},
   "outputs": [
    {
     "data": {
      "text/html": [
       "<div>\n",
       "<style scoped>\n",
       "    .dataframe tbody tr th:only-of-type {\n",
       "        vertical-align: middle;\n",
       "    }\n",
       "\n",
       "    .dataframe tbody tr th {\n",
       "        vertical-align: top;\n",
       "    }\n",
       "\n",
       "    .dataframe thead th {\n",
       "        text-align: right;\n",
       "    }\n",
       "</style>\n",
       "<table border=\"1\" class=\"dataframe\">\n",
       "  <thead>\n",
       "    <tr style=\"text-align: right;\">\n",
       "      <th></th>\n",
       "      <th>gender</th>\n",
       "      <th>race</th>\n",
       "      <th>prior_treatment</th>\n",
       "      <th>prior_malignancy</th>\n",
       "      <th>synchronous_malignancy</th>\n",
       "      <th>treatments_pharmaceutical_treatment_or_therapy</th>\n",
       "      <th>treatments_radiation_treatment_or_therapy</th>\n",
       "      <th>ajcc_pathologic_stage</th>\n",
       "      <th>age_at_diagnosis</th>\n",
       "    </tr>\n",
       "    <tr>\n",
       "      <th>submitter_id</th>\n",
       "      <th></th>\n",
       "      <th></th>\n",
       "      <th></th>\n",
       "      <th></th>\n",
       "      <th></th>\n",
       "      <th></th>\n",
       "      <th></th>\n",
       "      <th></th>\n",
       "      <th></th>\n",
       "    </tr>\n",
       "  </thead>\n",
       "  <tbody>\n",
       "    <tr>\n",
       "      <th>TCGA-Z7-A8R6</th>\n",
       "      <td>0</td>\n",
       "      <td>5</td>\n",
       "      <td>0</td>\n",
       "      <td>0</td>\n",
       "      <td>0</td>\n",
       "      <td>2</td>\n",
       "      <td>0</td>\n",
       "      <td>0</td>\n",
       "      <td>0.312915</td>\n",
       "    </tr>\n",
       "    <tr>\n",
       "      <th>TCGA-C8-A1HE</th>\n",
       "      <td>0</td>\n",
       "      <td>1</td>\n",
       "      <td>0</td>\n",
       "      <td>0</td>\n",
       "      <td>0</td>\n",
       "      <td>2</td>\n",
       "      <td>0</td>\n",
       "      <td>4</td>\n",
       "      <td>0.509928</td>\n",
       "    </tr>\n",
       "    <tr>\n",
       "      <th>TCGA-A8-A07B</th>\n",
       "      <td>0</td>\n",
       "      <td>5</td>\n",
       "      <td>0</td>\n",
       "      <td>0</td>\n",
       "      <td>0</td>\n",
       "      <td>0</td>\n",
       "      <td>0</td>\n",
       "      <td>4</td>\n",
       "      <td>0.680696</td>\n",
       "    </tr>\n",
       "    <tr>\n",
       "      <th>TCGA-AC-A2FM</th>\n",
       "      <td>0</td>\n",
       "      <td>5</td>\n",
       "      <td>0</td>\n",
       "      <td>0</td>\n",
       "      <td>0</td>\n",
       "      <td>0</td>\n",
       "      <td>0</td>\n",
       "      <td>5</td>\n",
       "      <td>0.953941</td>\n",
       "    </tr>\n",
       "    <tr>\n",
       "      <th>TCGA-B6-A1KF</th>\n",
       "      <td>0</td>\n",
       "      <td>5</td>\n",
       "      <td>0</td>\n",
       "      <td>0</td>\n",
       "      <td>0</td>\n",
       "      <td>2</td>\n",
       "      <td>2</td>\n",
       "      <td>5</td>\n",
       "      <td>0.655486</td>\n",
       "    </tr>\n",
       "  </tbody>\n",
       "</table>\n",
       "</div>"
      ],
      "text/plain": [
       "              gender  race  prior_treatment  prior_malignancy  \\\n",
       "submitter_id                                                    \n",
       "TCGA-Z7-A8R6       0     5                0                 0   \n",
       "TCGA-C8-A1HE       0     1                0                 0   \n",
       "TCGA-A8-A07B       0     5                0                 0   \n",
       "TCGA-AC-A2FM       0     5                0                 0   \n",
       "TCGA-B6-A1KF       0     5                0                 0   \n",
       "\n",
       "              synchronous_malignancy  \\\n",
       "submitter_id                           \n",
       "TCGA-Z7-A8R6                       0   \n",
       "TCGA-C8-A1HE                       0   \n",
       "TCGA-A8-A07B                       0   \n",
       "TCGA-AC-A2FM                       0   \n",
       "TCGA-B6-A1KF                       0   \n",
       "\n",
       "              treatments_pharmaceutical_treatment_or_therapy  \\\n",
       "submitter_id                                                   \n",
       "TCGA-Z7-A8R6                                               2   \n",
       "TCGA-C8-A1HE                                               2   \n",
       "TCGA-A8-A07B                                               0   \n",
       "TCGA-AC-A2FM                                               0   \n",
       "TCGA-B6-A1KF                                               2   \n",
       "\n",
       "              treatments_radiation_treatment_or_therapy  \\\n",
       "submitter_id                                              \n",
       "TCGA-Z7-A8R6                                          0   \n",
       "TCGA-C8-A1HE                                          0   \n",
       "TCGA-A8-A07B                                          0   \n",
       "TCGA-AC-A2FM                                          0   \n",
       "TCGA-B6-A1KF                                          2   \n",
       "\n",
       "              ajcc_pathologic_stage  age_at_diagnosis  \n",
       "submitter_id                                           \n",
       "TCGA-Z7-A8R6                      0          0.312915  \n",
       "TCGA-C8-A1HE                      4          0.509928  \n",
       "TCGA-A8-A07B                      4          0.680696  \n",
       "TCGA-AC-A2FM                      5          0.953941  \n",
       "TCGA-B6-A1KF                      5          0.655486  "
      ]
     },
     "execution_count": 91,
     "metadata": {},
     "output_type": "execute_result"
    }
   ],
   "source": [
    "clinical_fold0.head()"
   ]
  },
  {
   "cell_type": "code",
   "execution_count": 92,
   "metadata": {},
   "outputs": [
    {
     "name": "stdout",
     "output_type": "stream",
     "text": [
      "Tracing patient TCGA-Z7-A8R6:\n",
      "Encoded race value: 5\n",
      "\n",
      "Race encoder mapping:\n",
      "Original values (strings): ['american indian or alaska native' 'asian' 'black or african american'\n",
      " 'hispanic or latino' 'not hispanic or latino' 'white']\n",
      "Maps to: [0, 1, 2, 3, 4, 5]\n",
      "\n",
      "Reverse mapping:\n",
      "  0 ← 'american indian or alaska native'\n",
      "  1 ← 'asian'\n",
      "  2 ← 'black or african american'\n",
      "  3 ← 'hispanic or latino'\n",
      "  4 ← 'not hispanic or latino'\n",
      "  5 ← 'white'\n",
      "\n",
      "Patient's encoded race 5 came from original value: 'white'\n",
      "\n",
      "==================================================\n",
      "ALL FEATURE MAPPINGS:\n",
      "==================================================\n",
      "\n",
      "gender:\n",
      "  'female' → 0\n",
      "  'male' → 1\n",
      "\n",
      "race:\n",
      "  'american indian or alaska native' → 0\n",
      "  'asian' → 1\n",
      "  'black or african american' → 2\n",
      "  'hispanic or latino' → 3\n",
      "  'not hispanic or latino' → 4\n",
      "  'white' → 5\n",
      "\n",
      "prior_treatment:\n",
      "  'No' → 0\n",
      "  'Yes' → 1\n",
      "\n",
      "prior_malignancy:\n",
      "  'no' → 0\n",
      "  'yes' → 1\n",
      "\n",
      "synchronous_malignancy:\n",
      "  'No' → 0\n",
      "  'Yes' → 1\n",
      "\n",
      "treatments_pharmaceutical_treatment_or_therapy:\n",
      "  'no' → 0\n",
      "  'unknown' → 1\n",
      "  'yes' → 2\n",
      "\n",
      "treatments_radiation_treatment_or_therapy:\n",
      "  'no' → 0\n",
      "  'unknown' → 1\n",
      "  'yes' → 2\n",
      "\n",
      "ajcc_pathologic_stage:\n",
      "  'Stage I' → 0\n",
      "  'Stage IA' → 1\n",
      "  'Stage IB' → 2\n",
      "  'Stage II' → 3\n",
      "  'Stage IIA' → 4\n",
      "  'Stage IIB' → 5\n",
      "  'Stage III' → 6\n",
      "  'Stage IIIA' → 7\n",
      "  'Stage IIIB' → 8\n",
      "  'Stage IIIC' → 9\n",
      "  'Stage IV' → 10\n",
      "  'Stage X' → 11\n"
     ]
    }
   ],
   "source": [
    "# Let's properly trace the encoding process\n",
    "patient_id = 'TCGA-Z7-A8R6'\n",
    "\n",
    "print(f\"Tracing patient {patient_id}:\")\n",
    "\n",
    "# The value in clinical_fold0 is ALREADY encoded\n",
    "encoded_race = clinical_fold0[clinical_fold0.index == patient_id]['race'].iloc[0]\n",
    "print(f\"Encoded race value: {encoded_race}\")\n",
    "\n",
    "# Check what original values map to what encoded values\n",
    "race_encoder = label_encoders['race'] \n",
    "print(f\"\\nRace encoder mapping:\")\n",
    "print(f\"Original values (strings): {race_encoder.classes_}\")\n",
    "print(f\"Maps to: {list(range(len(race_encoder.classes_)))}\")\n",
    "\n",
    "# Create reverse mapping\n",
    "race_mapping = dict(zip(range(len(race_encoder.classes_)), race_encoder.classes_))\n",
    "print(f\"\\nReverse mapping:\")\n",
    "for encoded, original in race_mapping.items():\n",
    "    print(f\"  {encoded} ← '{original}'\")\n",
    "\n",
    "# So encoded race=5 came from original value:\n",
    "original_race_value = race_mapping[encoded_race]\n",
    "print(f\"\\nPatient's encoded race {encoded_race} came from original value: '{original_race_value}'\")\n",
    "\n",
    "# To see all the mappings for all features:\n",
    "print(\"\\n\" + \"=\"*50)\n",
    "print(\"ALL FEATURE MAPPINGS:\")\n",
    "print(\"=\"*50)\n",
    "\n",
    "for feature in categorical:\n",
    "    encoder = label_encoders[feature]\n",
    "    print(f\"\\n{feature}:\")\n",
    "    for i, original_val in enumerate(encoder.classes_):\n",
    "        print(f\"  '{original_val}' → {i}\")\n"
   ]
  },
  {
   "cell_type": "code",
   "execution_count": 93,
   "metadata": {},
   "outputs": [],
   "source": [
    "def table_to_patient_files(table, dir_path, round_digits=4):\n",
    "    n = len(table)\n",
    "    \n",
    "    i = 0\n",
    "\n",
    "    for index, row in table.iterrows():\n",
    "        print('\\r' + f'Save data to files: {str(i + 1)}/{n}', end='')\n",
    "        i+= 1\n",
    "\n",
    "        target_file = os.path.join(dir_path, str(index) + '.tsv')\n",
    "        \n",
    "        with open(target_file, 'w') as f:\n",
    "            if round_digits is not None:\n",
    "                f.write('\\n'.join(str(round(value, round_digits)) for value in row.values))\n",
    "            else:\n",
    "                f.write('\\n'.join(str(value) for value in row.values))\n",
    "\n",
    "    print()\n",
    "    print()"
   ]
  },
  {
   "cell_type": "code",
   "execution_count": 94,
   "metadata": {},
   "outputs": [
    {
     "name": "stdout",
     "output_type": "stream",
     "text": [
      "Save data to files: 1094/1094\n",
      "\n",
      "CPU times: user 273 ms, sys: 299 ms, total: 571 ms\n",
      "Wall time: 7.8 s\n"
     ]
    }
   ],
   "source": [
    "%%time\n",
    "\n",
    "table_to_patient_files(clinical_fold0, dir_path=DATA_LOCATION, round_digits=None)"
   ]
  },
  {
   "cell_type": "markdown",
   "metadata": {},
   "source": [
    "# Watermark <a class='tocSkip'></a>"
   ]
  },
  {
   "cell_type": "code",
   "execution_count": 287,
   "metadata": {},
   "outputs": [
    {
     "name": "stdout",
     "output_type": "stream",
     "text": [
      "pandas    : 2.0.3\n",
      "sklearn   : 0.0.post12\n",
      "joblib    : 1.4.2\n",
      "lifelines : 0.27.8\n",
      "matplotlib: 3.7.3\n",
      "\n",
      "Python implementation: CPython\n",
      "Python version       : 3.8.20\n",
      "IPython version      : 8.12.2\n",
      "\n",
      "\n",
      "Last updated: Sat Jun 21 2025\n",
      "\n"
     ]
    }
   ],
   "source": [
    "%watermark --iversions\n",
    "%watermark -v\n",
    "print()\n",
    "%watermark -u -n"
   ]
  },
  {
   "cell_type": "markdown",
   "metadata": {},
   "source": [
    "[Top of the page](#Top)"
   ]
  }
 ],
 "metadata": {
  "kernelspec": {
   "display_name": "Python 3 (ipykernel)",
   "language": "python",
   "name": "python3"
  },
  "language_info": {
   "codemirror_mode": {
    "name": "ipython",
    "version": 3
   },
   "file_extension": ".py",
   "mimetype": "text/x-python",
   "name": "python",
   "nbconvert_exporter": "python",
   "pygments_lexer": "ipython3",
   "version": "3.8.20"
  },
  "toc": {
   "base_numbering": 1,
   "nav_menu": {
    "height": "197px",
    "width": "372px"
   },
   "number_sections": true,
   "sideBar": true,
   "skip_h1_title": false,
   "title_cell": "Table of Contents",
   "title_sidebar": "Contents",
   "toc_cell": true,
   "toc_position": {
    "height": "calc(100% - 180px)",
    "left": "10px",
    "top": "150px",
    "width": "298px"
   },
   "toc_section_display": true,
   "toc_window_display": false
  }
 },
 "nbformat": 4,
 "nbformat_minor": 4
}
