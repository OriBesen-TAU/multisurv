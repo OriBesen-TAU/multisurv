{
 "cells": [
  {
   "cell_type": "markdown",
   "metadata": {},
   "source": [
    "<a id='Top'></a>\n",
    "\n",
    "# Prepare clinical data <a class='tocSkip'></a>\n",
    "\n",
    "Preprocess clinical data for all patients, collect relevant survival labels and define train/validation/test split using the unique patient ID codes."
   ]
  },
  {
   "cell_type": "code",
   "execution_count": 1,
   "metadata": {
    "code_folding": []
   },
   "outputs": [],
   "source": [
    "%load_ext autoreload\n",
    "%autoreload 2\n",
    "\n",
    "%load_ext watermark\n",
    "\n",
    "import os\n",
    "import numpy as np\n",
    "import pandas as pd\n",
    "from sklearn.model_selection import train_test_split\n",
    "from sklearn.preprocessing import MinMaxScaler\n",
    "from sklearn.preprocessing import LabelEncoder\n",
    "from lifelines import KaplanMeierFitter"
   ]
  },
  {
   "cell_type": "code",
   "execution_count": 2,
   "metadata": {},
   "outputs": [],
   "source": [
    "DATA_LOCATION = '/mnt/data/Processed_Data/Clinical'"
   ]
  },
  {
   "cell_type": "markdown",
   "metadata": {
    "toc": true
   },
   "source": [
    "<h1>Table of Contents<span class=\"tocSkip\"></span></h1>\n",
    "<div class=\"toc\"><ul class=\"toc-item\"><li><span><a href=\"#Load-and-explore-data\" data-toc-modified-id=\"Load-and-explore-data-1\"><span class=\"toc-item-num\">1&nbsp;&nbsp;</span>Load and explore data</a></span></li><li><span><a href=\"#Select-variables\" data-toc-modified-id=\"Select-variables-2\"><span class=\"toc-item-num\">2&nbsp;&nbsp;</span>Select variables</a></span></li><li><span><a href=\"#Clean-up-inconsistencies\" data-toc-modified-id=\"Clean-up-inconsistencies-3\"><span class=\"toc-item-num\">3&nbsp;&nbsp;</span>Clean up inconsistencies</a></span><ul class=\"toc-item\"><li><span><a href=\"#Consolidate-race-and-ethnicity\" data-toc-modified-id=\"Consolidate-race-and-ethnicity-3.1\"><span class=\"toc-item-num\">3.1&nbsp;&nbsp;</span>Consolidate <code>race</code> and <code>ethnicity</code></a></span></li><li><span><a href=\"#Missing-label-data\" data-toc-modified-id=\"Missing-label-data-3.2\"><span class=\"toc-item-num\">3.2&nbsp;&nbsp;</span>Missing label data</a></span><ul class=\"toc-item\"><li><span><a href=\"#vital_status\" data-toc-modified-id=\"vital_status-3.2.1\"><span class=\"toc-item-num\">3.2.1&nbsp;&nbsp;</span><code>vital_status</code></a></span></li><li><span><a href=\"#Both-duration-values\" data-toc-modified-id=\"Both-duration-values-3.2.2\"><span class=\"toc-item-num\">3.2.2&nbsp;&nbsp;</span>Both duration values</a></span></li><li><span><a href=\"#Required-duration-value\" data-toc-modified-id=\"Required-duration-value-3.2.3\"><span class=\"toc-item-num\">3.2.3&nbsp;&nbsp;</span>Required duration value</a></span></li></ul></li><li><span><a href=\"#Not-missing-days_to_last_follow_up-when-vital_status-is-&quot;Dead&quot;\" data-toc-modified-id=\"Not-missing-days_to_last_follow_up-when-vital_status-is-&quot;Dead&quot;-3.3\"><span class=\"toc-item-num\">3.3&nbsp;&nbsp;</span>Not missing <code>days_to_last_follow_up</code> when <code>vital_status</code> is \"Dead\"</a></span></li><li><span><a href=\"#Negative-durations\" data-toc-modified-id=\"Negative-durations-3.4\"><span class=\"toc-item-num\">3.4&nbsp;&nbsp;</span>Negative durations</a></span></li></ul></li><li><span><a href=\"#Label-data\" data-toc-modified-id=\"Label-data-4\"><span class=\"toc-item-num\">4&nbsp;&nbsp;</span>Label data</a></span></li><li><span><a href=\"#Train-val-test-split\" data-toc-modified-id=\"Train-val-test-split-5\"><span class=\"toc-item-num\">5&nbsp;&nbsp;</span>Train-val-test split</a></span><ul class=\"toc-item\"><li><span><a href=\"#Survival-curves\" data-toc-modified-id=\"Survival-curves-5.1\"><span class=\"toc-item-num\">5.1&nbsp;&nbsp;</span>Survival curves</a></span></li></ul></li><li><span><a href=\"#Save-clinical-data-to-file\" data-toc-modified-id=\"Save-clinical-data-to-file-6\"><span class=\"toc-item-num\">6&nbsp;&nbsp;</span>Save clinical data to file</a></span></li><li><span><a href=\"#Input-missing-values\" data-toc-modified-id=\"Input-missing-values-7\"><span class=\"toc-item-num\">7&nbsp;&nbsp;</span>Input missing values</a></span></li><li><span><a href=\"#Scale-continuous-variables\" data-toc-modified-id=\"Scale-continuous-variables-8\"><span class=\"toc-item-num\">8&nbsp;&nbsp;</span>Scale continuous variables</a></span></li><li><span><a href=\"#Encode-categorical-variables\" data-toc-modified-id=\"Encode-categorical-variables-9\"><span class=\"toc-item-num\">9&nbsp;&nbsp;</span>Encode categorical variables</a></span></li><li><span><a href=\"#Save-patient-data-to-files\" data-toc-modified-id=\"Save-patient-data-to-files-10\"><span class=\"toc-item-num\">10&nbsp;&nbsp;</span>Save patient data to files</a></span><ul class=\"toc-item\"><li><span><a href=\"#Survival-labels\" data-toc-modified-id=\"Survival-labels-10.1\"><span class=\"toc-item-num\">10.1&nbsp;&nbsp;</span>Survival labels</a></span></li><li><span><a href=\"#Clinical-data\" data-toc-modified-id=\"Clinical-data-10.2\"><span class=\"toc-item-num\">10.2&nbsp;&nbsp;</span>Clinical data</a></span></li></ul></li></ul></div>"
   ]
  },
  {
   "cell_type": "markdown",
   "metadata": {},
   "source": [
    "# Load and explore data\n",
    "\n",
    "General exploration of data to remove features:\n",
    "    * missing all data\n",
    "    * with as many levels as there are patients"
   ]
  },
  {
   "cell_type": "code",
   "execution_count": 3,
   "metadata": {},
   "outputs": [],
   "source": [
    "clinical = pd.read_csv('/mnt/data/RawData/clinical_data.tsv',\n",
    "                       sep='\\t', na_values=['not reported', 'Not Reported'],\n",
    "                       low_memory=False)"
   ]
  },
  {
   "cell_type": "code",
   "execution_count": 4,
   "metadata": {},
   "outputs": [
    {
     "data": {
      "text/plain": [
       "(11228, 223)"
      ]
     },
     "execution_count": 4,
     "metadata": {},
     "output_type": "execute_result"
    }
   ],
   "source": [
    "clinical.shape"
   ]
  },
  {
   "cell_type": "code",
   "execution_count": 5,
   "metadata": {},
   "outputs": [
    {
     "data": {
      "text/html": [
       "<div>\n",
       "<style scoped>\n",
       "    .dataframe tbody tr th:only-of-type {\n",
       "        vertical-align: middle;\n",
       "    }\n",
       "\n",
       "    .dataframe tbody tr th {\n",
       "        vertical-align: top;\n",
       "    }\n",
       "\n",
       "    .dataframe thead th {\n",
       "        text-align: right;\n",
       "    }\n",
       "</style>\n",
       "<table border=\"1\" class=\"dataframe\">\n",
       "  <thead>\n",
       "    <tr style=\"text-align: right;\">\n",
       "      <th></th>\n",
       "      <th>project</th>\n",
       "      <th>submitter_id</th>\n",
       "      <th>synchronous_malignancy</th>\n",
       "      <th>ajcc_pathologic_stage</th>\n",
       "      <th>days_to_diagnosis</th>\n",
       "      <th>laterality</th>\n",
       "      <th>created_datetime</th>\n",
       "      <th>last_known_disease_status</th>\n",
       "      <th>tissue_or_organ_of_origin</th>\n",
       "      <th>age_at_diagnosis</th>\n",
       "      <th>...</th>\n",
       "      <th>gleason_grade_tertiary</th>\n",
       "      <th>gleason_score</th>\n",
       "      <th>population_group</th>\n",
       "      <th>treatments_pharmaceutical_reason_treatment_ended</th>\n",
       "      <th>treatments_radiation_reason_treatment_ended</th>\n",
       "      <th>ajcc_serum_tumor_markers</th>\n",
       "      <th>treatments_pharmaceutical_pretreatment</th>\n",
       "      <th>treatments_pharmaceutical_radiosensitizing_agent</th>\n",
       "      <th>treatments_radiation_pretreatment</th>\n",
       "      <th>treatments_radiation_radiosensitizing_agent</th>\n",
       "    </tr>\n",
       "  </thead>\n",
       "  <tbody>\n",
       "    <tr>\n",
       "      <th>0</th>\n",
       "      <td>TCGA-BRCA</td>\n",
       "      <td>TCGA-A7-A0DC</td>\n",
       "      <td>No</td>\n",
       "      <td>Stage IA</td>\n",
       "      <td>0.0</td>\n",
       "      <td>NaN</td>\n",
       "      <td>NaN</td>\n",
       "      <td>NaN</td>\n",
       "      <td>Breast, NOS</td>\n",
       "      <td>23294.0</td>\n",
       "      <td>...</td>\n",
       "      <td>NaN</td>\n",
       "      <td>NaN</td>\n",
       "      <td>NaN</td>\n",
       "      <td>NaN</td>\n",
       "      <td>NaN</td>\n",
       "      <td>NaN</td>\n",
       "      <td>NaN</td>\n",
       "      <td>NaN</td>\n",
       "      <td>NaN</td>\n",
       "      <td>NaN</td>\n",
       "    </tr>\n",
       "    <tr>\n",
       "      <th>1</th>\n",
       "      <td>TCGA-BRCA</td>\n",
       "      <td>TCGA-Z7-A8R6</td>\n",
       "      <td>No</td>\n",
       "      <td>Stage I</td>\n",
       "      <td>0.0</td>\n",
       "      <td>Left</td>\n",
       "      <td>NaN</td>\n",
       "      <td>NaN</td>\n",
       "      <td>Overlapping lesion of breast</td>\n",
       "      <td>16955.0</td>\n",
       "      <td>...</td>\n",
       "      <td>NaN</td>\n",
       "      <td>NaN</td>\n",
       "      <td>NaN</td>\n",
       "      <td>NaN</td>\n",
       "      <td>NaN</td>\n",
       "      <td>NaN</td>\n",
       "      <td>NaN</td>\n",
       "      <td>NaN</td>\n",
       "      <td>NaN</td>\n",
       "      <td>NaN</td>\n",
       "    </tr>\n",
       "    <tr>\n",
       "      <th>2</th>\n",
       "      <td>TCGA-BRCA</td>\n",
       "      <td>TCGA-C8-A1HE</td>\n",
       "      <td>No</td>\n",
       "      <td>Stage IIA</td>\n",
       "      <td>0.0</td>\n",
       "      <td>Right</td>\n",
       "      <td>NaN</td>\n",
       "      <td>NaN</td>\n",
       "      <td>Breast, NOS</td>\n",
       "      <td>NaN</td>\n",
       "      <td>...</td>\n",
       "      <td>NaN</td>\n",
       "      <td>NaN</td>\n",
       "      <td>NaN</td>\n",
       "      <td>NaN</td>\n",
       "      <td>NaN</td>\n",
       "      <td>NaN</td>\n",
       "      <td>NaN</td>\n",
       "      <td>NaN</td>\n",
       "      <td>NaN</td>\n",
       "      <td>NaN</td>\n",
       "    </tr>\n",
       "  </tbody>\n",
       "</table>\n",
       "<p>3 rows × 223 columns</p>\n",
       "</div>"
      ],
      "text/plain": [
       "     project  submitter_id synchronous_malignancy ajcc_pathologic_stage  \\\n",
       "0  TCGA-BRCA  TCGA-A7-A0DC                     No              Stage IA   \n",
       "1  TCGA-BRCA  TCGA-Z7-A8R6                     No               Stage I   \n",
       "2  TCGA-BRCA  TCGA-C8-A1HE                     No             Stage IIA   \n",
       "\n",
       "   days_to_diagnosis laterality created_datetime  last_known_disease_status  \\\n",
       "0                0.0        NaN              NaN                        NaN   \n",
       "1                0.0       Left              NaN                        NaN   \n",
       "2                0.0      Right              NaN                        NaN   \n",
       "\n",
       "      tissue_or_organ_of_origin  age_at_diagnosis  ... gleason_grade_tertiary  \\\n",
       "0                   Breast, NOS           23294.0  ...                    NaN   \n",
       "1  Overlapping lesion of breast           16955.0  ...                    NaN   \n",
       "2                   Breast, NOS               NaN  ...                    NaN   \n",
       "\n",
       "  gleason_score population_group  \\\n",
       "0           NaN              NaN   \n",
       "1           NaN              NaN   \n",
       "2           NaN              NaN   \n",
       "\n",
       "   treatments_pharmaceutical_reason_treatment_ended  \\\n",
       "0                                               NaN   \n",
       "1                                               NaN   \n",
       "2                                               NaN   \n",
       "\n",
       "  treatments_radiation_reason_treatment_ended ajcc_serum_tumor_markers  \\\n",
       "0                                         NaN                      NaN   \n",
       "1                                         NaN                      NaN   \n",
       "2                                         NaN                      NaN   \n",
       "\n",
       "  treatments_pharmaceutical_pretreatment  \\\n",
       "0                                    NaN   \n",
       "1                                    NaN   \n",
       "2                                    NaN   \n",
       "\n",
       "   treatments_pharmaceutical_radiosensitizing_agent  \\\n",
       "0                                               NaN   \n",
       "1                                               NaN   \n",
       "2                                               NaN   \n",
       "\n",
       "  treatments_radiation_pretreatment  \\\n",
       "0                               NaN   \n",
       "1                               NaN   \n",
       "2                               NaN   \n",
       "\n",
       "  treatments_radiation_radiosensitizing_agent  \n",
       "0                                         NaN  \n",
       "1                                         NaN  \n",
       "2                                         NaN  \n",
       "\n",
       "[3 rows x 223 columns]"
      ]
     },
     "execution_count": 5,
     "metadata": {},
     "output_type": "execute_result"
    }
   ],
   "source": [
    "clinical.head(3)"
   ]
  },
  {
   "cell_type": "code",
   "execution_count": 6,
   "metadata": {},
   "outputs": [
    {
     "name": "stdout",
     "output_type": "stream",
     "text": [
      "~~ MISSING DATA ~~\n",
      "\n",
      "synchronous_malignancy: 1334 (11.88%)\n",
      "ajcc_pathologic_stage: 4248 (37.83%)\n",
      "days_to_diagnosis: 260 (2.32%)\n",
      "laterality: 5567 (49.58%)\n",
      "created_datetime: 11087 (98.74%)\n",
      "tissue_or_organ_of_origin: 132 (1.18%)\n",
      "age_at_diagnosis: 347 (3.09%)\n",
      "primary_diagnosis: 148 (1.32%)\n",
      "updated_datetime: 127 (1.13%)\n",
      "prior_malignancy: 1338 (11.92%)\n",
      "year_of_diagnosis: 281 (2.5%)\n",
      "state: 127 (1.13%)\n",
      "prior_treatment: 156 (1.39%)\n",
      "diagnosis_is_primary_disease: 135 (1.2%)\n",
      "method_of_diagnosis: 6377 (56.8%)\n",
      "ajcc_staging_system_edition: 4672 (41.61%)\n",
      "ajcc_pathologic_t: 3316 (29.53%)\n",
      "morphology: 148 (1.32%)\n",
      "ajcc_pathologic_n: 3377 (30.08%)\n",
      "ajcc_pathologic_m: 4157 (37.02%)\n",
      "classification_of_tumor: 364 (3.24%)\n",
      "diagnosis_id: 127 (1.13%)\n",
      "icd_10_code: 504 (4.49%)\n",
      "site_of_resection_or_biopsy: 484 (4.31%)\n",
      "tumor_grade: 6582 (58.62%)\n",
      "metastasis_at_diagnosis: 10586 (94.28%)\n",
      "figo_stage: 9749 (86.83%)\n",
      "figo_staging_edition_year: 10403 (92.65%)\n",
      "cigarettes_per_day: 11226 (99.98%)\n",
      "exposure_id: 7519 (66.97%)\n",
      "race: 1005 (8.95%)\n",
      "gender: 136 (1.21%)\n",
      "ethnicity: 2293 (20.42%)\n",
      "vital_status: 156 (1.39%)\n",
      "age_at_index: 205 (1.83%)\n",
      "days_to_birth: 273 (2.43%)\n",
      "year_of_birth: 10943 (97.46%)\n",
      "demographic_id: 127 (1.13%)\n",
      "age_is_obfuscated: 135 (1.2%)\n",
      "year_of_death: 11201 (99.76%)\n",
      "country_of_residence_at_enrollment: 2731 (24.32%)\n",
      "days_to_death: 7733 (68.87%)\n",
      "days_to_last_follow_up: 192 (1.71%)\n",
      "follow_ups_disease_response: 957 (8.52%)\n",
      "treatments_pharmaceutical_days_to_treatment_end: 11150 (99.31%)\n",
      "treatments_pharmaceutical_days_to_treatment_start: 11132 (99.14%)\n",
      "treatments_pharmaceutical_treatment_id: 5023 (44.74%)\n",
      "treatments_pharmaceutical_treatment_type: 5023 (44.74%)\n",
      "treatments_pharmaceutical_therapeutic_agents: 10463 (93.19%)\n",
      "treatments_pharmaceutical_treatment_or_therapy: 5085 (45.29%)\n",
      "treatments_pharmaceutical_initial_disease_status: 11169 (99.47%)\n",
      "treatments_pharmaceutical_treatment_intent_type: 5385 (47.96%)\n",
      "treatments_pharmaceutical_treatment_outcome: 10915 (97.21%)\n",
      "treatments_pharmaceutical_clinical_trial_indicator: 11175 (99.53%)\n",
      "treatments_pharmaceutical_treatment_dose: 11195 (99.71%)\n",
      "treatments_pharmaceutical_treatment_dose_units: 11195 (99.71%)\n",
      "treatments_pharmaceutical_prescribed_dose_units: 11194 (99.7%)\n",
      "treatments_pharmaceutical_route_of_administration: 11201 (99.76%)\n",
      "treatments_pharmaceutical_prescribed_dose: 11189 (99.65%)\n",
      "treatments_pharmaceutical_number_of_cycles: 11132 (99.14%)\n",
      "treatments_radiation_days_to_treatment_end: 8205 (73.08%)\n",
      "treatments_radiation_days_to_treatment_start: 8183 (72.88%)\n",
      "treatments_radiation_treatment_id: 1301 (11.59%)\n",
      "treatments_radiation_treatment_type: 1301 (11.59%)\n",
      "treatments_radiation_treatment_or_therapy: 1305 (11.62%)\n",
      "treatments_radiation_initial_disease_status: 10935 (97.39%)\n",
      "treatments_radiation_treatment_intent_type: 2864 (25.51%)\n",
      "treatments_radiation_treatment_outcome: 9289 (82.73%)\n",
      "treatments_radiation_treatment_anatomic_sites: 7902 (70.38%)\n",
      "treatments_radiation_course_number: 10394 (92.57%)\n",
      "treatments_radiation_treatment_dose: 8475 (75.48%)\n",
      "treatments_radiation_number_of_fractions: 8800 (78.38%)\n",
      "treatments_radiation_treatment_dose_units: 8475 (75.48%)\n",
      "treatments_radiation_prescribed_dose_units: 10998 (97.95%)\n",
      "treatments_radiation_prescribed_dose: 10998 (97.95%)\n",
      "residual_disease: 6745 (60.07%)\n",
      "treatments_pharmaceutical_timepoint_category: 10311 (91.83%)\n",
      "treatments_radiation_timepoint_category: 10166 (90.54%)\n",
      "ishak_fibrosis_score: 10913 (97.19%)\n",
      "child_pugh_classification: 10866 (96.78%)\n",
      "ann_arbor_clinical_stage: 11186 (99.63%)\n",
      "esophageal_columnar_dysplasia_degree: 11098 (98.84%)\n",
      "primary_gleason_grade: 10728 (95.55%)\n",
      "weiss_assessment_score: 11159 (99.39%)\n",
      "tumor_focality: 10481 (93.35%)\n",
      "ann_arbor_b_symptoms: 11182 (99.59%)\n",
      "supratentorial_localization: 10964 (97.65%)\n",
      "goblet_cells_columnar_mucosa_present: 11102 (98.88%)\n",
      "ajcc_clinical_stage: 10132 (90.24%)\n",
      "secondary_gleason_grade: 10728 (95.55%)\n",
      "ann_arbor_extranodal_involvement: 11182 (99.59%)\n",
      "esophageal_columnar_metaplasia_present: 11091 (98.78%)\n",
      "ajcc_clinical_m: 9468 (84.32%)\n",
      "ajcc_clinical_n: 10115 (90.09%)\n",
      "ajcc_clinical_t: 9481 (84.44%)\n",
      "masaoka_stage: 11106 (98.91%)\n",
      "igcccg_stage: 11153 (99.33%)\n",
      "first_symptom_prior_to_diagnosis: 10766 (95.89%)\n",
      "cause_of_death: 10772 (95.94%)\n",
      "ensat_pathologic_n: 11138 (99.2%)\n",
      "ensat_pathologic_t: 11138 (99.2%)\n",
      "ensat_pathologic_stage: 11138 (99.2%)\n",
      "ensat_clinical_m: 11138 (99.2%)\n",
      "max_tumor_bulk_site: 11198 (99.73%)\n",
      "tobacco_smoking_status: 8072 (71.89%)\n",
      "exposure_type: 7571 (67.43%)\n",
      "tobacco_smoking_quit_year: 10046 (89.47%)\n",
      "age_at_onset: 10878 (96.88%)\n",
      "pack_years_smoked: 9558 (85.13%)\n",
      "treatments_pharmaceutical_reason_treatment_not_given: 11179 (99.56%)\n",
      "treatments_pharmaceutical_chemo_concurrent_to_radiation: 11146 (99.27%)\n",
      "treatments_pharmaceutical_treatment_frequency: 11168 (99.47%)\n",
      "treatments_radiation_reason_treatment_not_given: 11188 (99.64%)\n",
      "treatments_radiation_chemo_concurrent_to_radiation: 11122 (99.06%)\n",
      "cancer_detection_method: 10987 (97.85%)\n",
      "country_of_birth: 11127 (99.1%)\n",
      "tobacco_smoking_onset_year: 10215 (90.98%)\n",
      "age_at_last_exposure: 11219 (99.92%)\n",
      "occupation_duration_years: 11226 (99.98%)\n",
      "exposure_source: 11185 (99.62%)\n",
      "exposure_duration_years: 11212 (99.86%)\n",
      "asbestos_exposure_type: 11226 (99.98%)\n",
      "tumor_grade_category: 11123 (99.06%)\n",
      "cause_of_death_source: 11149 (99.3%)\n",
      "first_symptom_longest_duration: 10784 (96.05%)\n",
      "melanoma_known_primary: 10758 (95.81%)\n",
      "gleason_grade_tertiary: 11151 (99.31%)\n",
      "gleason_score: 10728 (95.55%)\n",
      "population_group: 11204 (99.79%)\n",
      "treatments_pharmaceutical_reason_treatment_ended: 11213 (99.87%)\n",
      "ajcc_serum_tumor_markers: 10983 (97.82%)\n",
      "treatments_radiation_pretreatment: 10983 (97.82%)\n",
      "treatments_radiation_radiosensitizing_agent: 11219 (99.92%)\n"
     ]
    }
   ],
   "source": [
    "print('~~ MISSING DATA ~~')\n",
    "print()\n",
    "\n",
    "n = clinical.shape[0]\n",
    "\n",
    "for col in clinical.columns:\n",
    "    if col == 'submitter_id':\n",
    "        continue\n",
    "\n",
    "    n_levels = len(clinical[col].value_counts())\n",
    "    \n",
    "    if n_levels == n:\n",
    "        clinical = clinical.drop(columns=[col])\n",
    "    else:\n",
    "        n_missing = sum(clinical[col].isnull())\n",
    "        if n_missing > 0:\n",
    "            if n_missing == n:\n",
    "                clinical = clinical.drop(columns=[col])\n",
    "            else:\n",
    "                print(f'{col}: {n_missing} ({round(n_missing / n * 100, 2)}%)')"
   ]
  },
  {
   "cell_type": "code",
   "execution_count": 7,
   "metadata": {},
   "outputs": [
    {
     "data": {
      "text/plain": [
       "(11228, 136)"
      ]
     },
     "execution_count": 7,
     "metadata": {},
     "output_type": "execute_result"
    }
   ],
   "source": [
    "clinical.shape"
   ]
  },
  {
   "cell_type": "markdown",
   "metadata": {},
   "source": [
    "# Select variables\n",
    "\n",
    "Select a few variables to keep and drop the remaining ones."
   ]
  },
  {
   "cell_type": "code",
   "execution_count": 8,
   "metadata": {},
   "outputs": [
    {
     "data": {
      "text/plain": [
       "Index(['project', 'submitter_id', 'synchronous_malignancy',\n",
       "       'ajcc_pathologic_stage', 'days_to_diagnosis', 'laterality',\n",
       "       'created_datetime', 'tissue_or_organ_of_origin', 'age_at_diagnosis',\n",
       "       'primary_diagnosis',\n",
       "       ...\n",
       "       'cause_of_death_source', 'first_symptom_longest_duration',\n",
       "       'melanoma_known_primary', 'gleason_grade_tertiary', 'gleason_score',\n",
       "       'population_group', 'treatments_pharmaceutical_reason_treatment_ended',\n",
       "       'ajcc_serum_tumor_markers', 'treatments_radiation_pretreatment',\n",
       "       'treatments_radiation_radiosensitizing_agent'],\n",
       "      dtype='object', length=136)"
      ]
     },
     "execution_count": 8,
     "metadata": {},
     "output_type": "execute_result"
    }
   ],
   "source": [
    "clinical.columns"
   ]
  },
  {
   "cell_type": "code",
   "execution_count": 9,
   "metadata": {},
   "outputs": [],
   "source": [
    "label_cols = ['submitter_id', 'days_to_last_follow_up', 'vital_status', 'days_to_death']\n",
    "\n",
    "keep_cols = ['ajcc_pathologic_stage', 'age_at_diagnosis', 'prior_treatment', 'prior_malignancy',\n",
    "             'synchronous_malignancy', 'gender', 'race', 'ethnicity', 'disease',\n",
    "             'treatments_pharmaceutical_treatment_or_therapy',\n",
    "             'treatments_radiation_treatment_or_therapy']\n",
    "\n",
    "columns_to_drop = [col for col in clinical.columns if col not in label_cols + keep_cols]\n",
    "clinical = clinical.drop(columns=columns_to_drop)"
   ]
  },
  {
   "cell_type": "code",
   "execution_count": 10,
   "metadata": {},
   "outputs": [
    {
     "name": "stdout",
     "output_type": "stream",
     "text": [
      "~~ MISSING DATA ~~\n",
      "\n",
      "synchronous_malignancy: 1334 (11.88%)\n",
      "ajcc_pathologic_stage: 4248 (37.83%)\n",
      "age_at_diagnosis: 347 (3.09%)\n",
      "prior_malignancy: 1338 (11.92%)\n",
      "prior_treatment: 156 (1.39%)\n",
      "race: 1005 (8.95%)\n",
      "gender: 136 (1.21%)\n",
      "ethnicity: 2293 (20.42%)\n",
      "vital_status: 156 (1.39%)\n",
      "days_to_death: 7733 (68.87%)\n",
      "days_to_last_follow_up: 192 (1.71%)\n",
      "treatments_pharmaceutical_treatment_or_therapy: 5085 (45.29%)\n",
      "treatments_radiation_treatment_or_therapy: 1305 (11.62%)\n"
     ]
    }
   ],
   "source": [
    "print('~~ MISSING DATA ~~')\n",
    "print()\n",
    "\n",
    "n = clinical.shape[0]\n",
    "\n",
    "for v in clinical.columns:\n",
    "    n_missing = sum(clinical[v].isnull())\n",
    "    if n_missing > 0:\n",
    "        if n_missing == n:\n",
    "            clinical = clinical.drop(columns=[v])\n",
    "        else:\n",
    "            print(f'{v}: {n_missing} ({round(n_missing / n * 100, 2)}%)')"
   ]
  },
  {
   "cell_type": "code",
   "execution_count": 11,
   "metadata": {},
   "outputs": [
    {
     "data": {
      "text/plain": [
       "(11228, 15)"
      ]
     },
     "execution_count": 11,
     "metadata": {},
     "output_type": "execute_result"
    }
   ],
   "source": [
    "clinical.shape"
   ]
  },
  {
   "cell_type": "code",
   "execution_count": 12,
   "metadata": {},
   "outputs": [
    {
     "data": {
      "text/plain": [
       "Index(['submitter_id', 'synchronous_malignancy', 'ajcc_pathologic_stage',\n",
       "       'age_at_diagnosis', 'prior_malignancy', 'prior_treatment', 'race',\n",
       "       'gender', 'ethnicity', 'vital_status', 'days_to_death',\n",
       "       'days_to_last_follow_up',\n",
       "       'treatments_pharmaceutical_treatment_or_therapy',\n",
       "       'treatments_radiation_treatment_or_therapy', 'disease'],\n",
       "      dtype='object')"
      ]
     },
     "execution_count": 12,
     "metadata": {},
     "output_type": "execute_result"
    }
   ],
   "source": [
    "clinical.columns"
   ]
  },
  {
   "cell_type": "code",
   "execution_count": 13,
   "metadata": {},
   "outputs": [
    {
     "data": {
      "text/plain": [
       "gender\n",
       "female    5726\n",
       "male      5366\n",
       "Name: count, dtype: int64"
      ]
     },
     "execution_count": 13,
     "metadata": {},
     "output_type": "execute_result"
    }
   ],
   "source": [
    "clinical['gender'].value_counts()"
   ]
  },
  {
   "cell_type": "code",
   "execution_count": 14,
   "metadata": {},
   "outputs": [
    {
     "data": {
      "text/plain": [
       "race\n",
       "white                                        8380\n",
       "black or african american                     970\n",
       "asian                                         683\n",
       "Unknown                                       149\n",
       "american indian or alaska native               28\n",
       "native hawaiian or other pacific islander      13\n",
       "Name: count, dtype: int64"
      ]
     },
     "execution_count": 14,
     "metadata": {},
     "output_type": "execute_result"
    }
   ],
   "source": [
    "clinical['race'].value_counts()"
   ]
  },
  {
   "cell_type": "code",
   "execution_count": 15,
   "metadata": {},
   "outputs": [
    {
     "data": {
      "text/plain": [
       "ethnicity\n",
       "not hispanic or latino    8297\n",
       "hispanic or latino         398\n",
       "Unknown                    240\n",
       "Name: count, dtype: int64"
      ]
     },
     "execution_count": 15,
     "metadata": {},
     "output_type": "execute_result"
    }
   ],
   "source": [
    "clinical['ethnicity'].value_counts()"
   ]
  },
  {
   "cell_type": "code",
   "execution_count": 16,
   "metadata": {},
   "outputs": [
    {
     "data": {
      "text/plain": [
       "prior_malignancy\n",
       "no     9096\n",
       "yes     794\n",
       "Name: count, dtype: int64"
      ]
     },
     "execution_count": 16,
     "metadata": {},
     "output_type": "execute_result"
    }
   ],
   "source": [
    "clinical['prior_malignancy'].value_counts()"
   ]
  },
  {
   "cell_type": "code",
   "execution_count": 17,
   "metadata": {},
   "outputs": [
    {
     "data": {
      "text/plain": [
       "vital_status\n",
       "Alive      7549\n",
       "Dead       3521\n",
       "Unknown       2\n",
       "Name: count, dtype: int64"
      ]
     },
     "execution_count": 17,
     "metadata": {},
     "output_type": "execute_result"
    }
   ],
   "source": [
    "clinical['vital_status'].value_counts()"
   ]
  },
  {
   "cell_type": "code",
   "execution_count": 18,
   "metadata": {},
   "outputs": [
    {
     "data": {
      "text/plain": [
       "<Axes: ylabel='Frequency'>"
      ]
     },
     "execution_count": 18,
     "metadata": {},
     "output_type": "execute_result"
    },
    {
     "data": {
      "image/png": "[encoded data removed]",
      "text/plain": [
       "<Figure size 640x480 with 1 Axes>"
      ]
     },
     "metadata": {},
     "output_type": "display_data"
    }
   ],
   "source": [
    "clinical['days_to_last_follow_up'].plot(kind='hist')"
   ]
  },
  {
   "cell_type": "code",
   "execution_count": 19,
   "metadata": {},
   "outputs": [
    {
     "data": {
      "text/plain": [
       "<Axes: >"
      ]
     },
     "execution_count": 19,
     "metadata": {},
     "output_type": "execute_result"
    },
    {
     "data": {
      "image/png": "[encoded data removed]",
      "text/plain": [
       "<Figure size 640x480 with 1 Axes>"
      ]
     },
     "metadata": {},
     "output_type": "display_data"
    }
   ],
   "source": [
    "clinical['days_to_death'].plot(kind='box')"
   ]
  },
  {
   "cell_type": "code",
   "execution_count": 20,
   "metadata": {},
   "outputs": [
    {
     "data": {
      "text/plain": [
       "<Axes: >"
      ]
     },
     "execution_count": 20,
     "metadata": {},
     "output_type": "execute_result"
    },
    {
     "data": {
      "image/png": "[encoded data removed]",
      "text/plain": [
       "<Figure size 640x480 with 1 Axes>"
      ]
     },
     "metadata": {},
     "output_type": "display_data"
    }
   ],
   "source": [
    "clinical['days_to_death'].sort_values(ascending=False).plot(use_index=False)"
   ]
  },
  {
   "cell_type": "code",
   "execution_count": 21,
   "metadata": {},
   "outputs": [
    {
     "data": {
      "text/plain": [
       "<Axes: >"
      ]
     },
     "execution_count": 21,
     "metadata": {},
     "output_type": "execute_result"
    },
    {
     "data": {
      "image/png": "[encoded data removed]",
      "text/plain": [
       "<Figure size 640x480 with 1 Axes>"
      ]
     },
     "metadata": {},
     "output_type": "display_data"
    }
   ],
   "source": [
    "clinical['days_to_last_follow_up'].plot(kind='box')"
   ]
  },
  {
   "cell_type": "code",
   "execution_count": 22,
   "metadata": {},
   "outputs": [
    {
     "data": {
      "text/plain": [
       "<Axes: >"
      ]
     },
     "execution_count": 22,
     "metadata": {},
     "output_type": "execute_result"
    },
    {
     "data": {
      "image/png": "[encoded data removed]",
      "text/plain": [
       "<Figure size 640x480 with 1 Axes>"
      ]
     },
     "metadata": {},
     "output_type": "display_data"
    }
   ],
   "source": [
    "clinical['age_at_diagnosis'].apply(lambda x: -x/365).plot(kind='box')"
   ]
  },
  {
   "cell_type": "code",
   "execution_count": 23,
   "metadata": {},
   "outputs": [
    {
     "data": {
      "text/plain": [
       "<Axes: >"
      ]
     },
     "execution_count": 23,
     "metadata": {},
     "output_type": "execute_result"
    },
    {
     "data": {
      "image/png": "[encoded data removed]",
      "text/plain": [
       "<Figure size 640x480 with 1 Axes>"
      ]
     },
     "metadata": {},
     "output_type": "display_data"
    }
   ],
   "source": [
    "clinical['age_at_diagnosis'].sort_values(ascending=False).plot(use_index=False)"
   ]
  },
  {
   "cell_type": "code",
   "execution_count": 24,
   "metadata": {},
   "outputs": [
    {
     "data": {
      "text/html": [
       "<div>\n",
       "<style scoped>\n",
       "    .dataframe tbody tr th:only-of-type {\n",
       "        vertical-align: middle;\n",
       "    }\n",
       "\n",
       "    .dataframe tbody tr th {\n",
       "        vertical-align: top;\n",
       "    }\n",
       "\n",
       "    .dataframe thead th {\n",
       "        text-align: right;\n",
       "    }\n",
       "</style>\n",
       "<table border=\"1\" class=\"dataframe\">\n",
       "  <thead>\n",
       "    <tr style=\"text-align: right;\">\n",
       "      <th></th>\n",
       "      <th>age_at_diagnosis</th>\n",
       "      <th>days_to_death</th>\n",
       "      <th>days_to_last_follow_up</th>\n",
       "    </tr>\n",
       "  </thead>\n",
       "  <tbody>\n",
       "    <tr>\n",
       "      <th>count</th>\n",
       "      <td>10881.000000</td>\n",
       "      <td>3495.000000</td>\n",
       "      <td>11036.000000</td>\n",
       "    </tr>\n",
       "    <tr>\n",
       "      <th>mean</th>\n",
       "      <td>21683.247312</td>\n",
       "      <td>862.220029</td>\n",
       "      <td>1058.199438</td>\n",
       "    </tr>\n",
       "    <tr>\n",
       "      <th>std</th>\n",
       "      <td>5327.403192</td>\n",
       "      <td>953.391165</td>\n",
       "      <td>1069.592704</td>\n",
       "    </tr>\n",
       "    <tr>\n",
       "      <th>min</th>\n",
       "      <td>3982.000000</td>\n",
       "      <td>0.000000</td>\n",
       "      <td>-64.000000</td>\n",
       "    </tr>\n",
       "    <tr>\n",
       "      <th>25%</th>\n",
       "      <td>18383.000000</td>\n",
       "      <td>282.000000</td>\n",
       "      <td>385.000000</td>\n",
       "    </tr>\n",
       "    <tr>\n",
       "      <th>50%</th>\n",
       "      <td>22173.000000</td>\n",
       "      <td>556.000000</td>\n",
       "      <td>726.000000</td>\n",
       "    </tr>\n",
       "    <tr>\n",
       "      <th>75%</th>\n",
       "      <td>25592.000000</td>\n",
       "      <td>1111.000000</td>\n",
       "      <td>1395.000000</td>\n",
       "    </tr>\n",
       "    <tr>\n",
       "      <th>max</th>\n",
       "      <td>32872.000000</td>\n",
       "      <td>10870.000000</td>\n",
       "      <td>11252.000000</td>\n",
       "    </tr>\n",
       "  </tbody>\n",
       "</table>\n",
       "</div>"
      ],
      "text/plain": [
       "       age_at_diagnosis  days_to_death  days_to_last_follow_up\n",
       "count      10881.000000    3495.000000            11036.000000\n",
       "mean       21683.247312     862.220029             1058.199438\n",
       "std         5327.403192     953.391165             1069.592704\n",
       "min         3982.000000       0.000000              -64.000000\n",
       "25%        18383.000000     282.000000              385.000000\n",
       "50%        22173.000000     556.000000              726.000000\n",
       "75%        25592.000000    1111.000000             1395.000000\n",
       "max        32872.000000   10870.000000            11252.000000"
      ]
     },
     "execution_count": 24,
     "metadata": {},
     "output_type": "execute_result"
    }
   ],
   "source": [
    "clinical.describe()"
   ]
  },
  {
   "cell_type": "code",
   "execution_count": 25,
   "metadata": {},
   "outputs": [
    {
     "name": "stdout",
     "output_type": "stream",
     "text": [
      "<class 'pandas.core.frame.DataFrame'>\n",
      "RangeIndex: 11228 entries, 0 to 11227\n",
      "Data columns (total 15 columns):\n",
      " #   Column                                          Non-Null Count  Dtype  \n",
      "---  ------                                          --------------  -----  \n",
      " 0   submitter_id                                    11228 non-null  object \n",
      " 1   synchronous_malignancy                          9894 non-null   object \n",
      " 2   ajcc_pathologic_stage                           6980 non-null   object \n",
      " 3   age_at_diagnosis                                10881 non-null  float64\n",
      " 4   prior_malignancy                                9890 non-null   object \n",
      " 5   prior_treatment                                 11072 non-null  object \n",
      " 6   race                                            10223 non-null  object \n",
      " 7   gender                                          11092 non-null  object \n",
      " 8   ethnicity                                       8935 non-null   object \n",
      " 9   vital_status                                    11072 non-null  object \n",
      " 10  days_to_death                                   3495 non-null   float64\n",
      " 11  days_to_last_follow_up                          11036 non-null  float64\n",
      " 12  treatments_pharmaceutical_treatment_or_therapy  6143 non-null   object \n",
      " 13  treatments_radiation_treatment_or_therapy       9923 non-null   object \n",
      " 14  disease                                         11228 non-null  object \n",
      "dtypes: float64(3), object(12)\n",
      "memory usage: 1.3+ MB\n"
     ]
    }
   ],
   "source": [
    "clinical.info()"
   ]
  },
  {
   "cell_type": "markdown",
   "metadata": {},
   "source": [
    "Rename `disease` column as `project_id` and set it as table index."
   ]
  },
  {
   "cell_type": "code",
   "execution_count": 26,
   "metadata": {},
   "outputs": [],
   "source": [
    "clinical = clinical.rename(columns={'disease': 'project_id'})"
   ]
  },
  {
   "cell_type": "code",
   "execution_count": 27,
   "metadata": {},
   "outputs": [],
   "source": [
    "clinical = clinical.set_index('submitter_id')"
   ]
  },
  {
   "cell_type": "markdown",
   "metadata": {},
   "source": [
    "# Clean up inconsistencies"
   ]
  },
  {
   "cell_type": "markdown",
   "metadata": {},
   "source": [
    "## Consolidate `race` and `ethnicity`\n",
    "\n",
    "Whenever `race` value is \"white\" or missing replace it by `ethnicity` value (if present). Then drop ethnicity column."
   ]
  },
  {
   "cell_type": "code",
   "execution_count": 28,
   "metadata": {},
   "outputs": [],
   "source": [
    "race_subset = clinical['race'].isnull()\n",
    "ethnicity_subset = ~clinical['ethnicity'].isnull()\n",
    "subset = race_subset & ethnicity_subset\n",
    "clinical.loc[subset, 'race'] = clinical.loc[subset, 'ethnicity']"
   ]
  },
  {
   "cell_type": "code",
   "execution_count": 29,
   "metadata": {},
   "outputs": [],
   "source": [
    "race_subset = (clinical['race'] == 'white')\n",
    "ethnicity_subset = (~clinical['ethnicity'].isnull() &\n",
    "                    (clinical['ethnicity'] == 'hispanic or latino'))\n",
    "subset = race_subset & ethnicity_subset\n",
    "clinical.loc[subset, 'race'] = clinical.loc[subset, 'ethnicity']"
   ]
  },
  {
   "cell_type": "code",
   "execution_count": 30,
   "metadata": {},
   "outputs": [
    {
     "data": {
      "text/plain": [
       "(8059, 14)"
      ]
     },
     "execution_count": 30,
     "metadata": {},
     "output_type": "execute_result"
    }
   ],
   "source": [
    "clinical.loc[clinical['race'] == 'white', ].shape"
   ]
  },
  {
   "cell_type": "code",
   "execution_count": 31,
   "metadata": {},
   "outputs": [],
   "source": [
    "clinical = clinical.drop('ethnicity', axis=1)"
   ]
  },
  {
   "cell_type": "markdown",
   "metadata": {},
   "source": [
    "## Missing label data\n",
    "\n",
    "The data show some inconsistencies, such as patients missing `vital_status` information, showing negative `days_to_last_follow_up` values, or missing `days_to_death` values. This is addressed in a few discussions under GitHub issues. [In one of them](https://github.com/BioinformaticsFMRP/TCGAbiolinks/issues/324) someone asked and got the following explanation from the GDC:\n",
    "\n",
    "> \"I have talked to our Clinical Data Scientist and she said that these values can seem strange due to how TCGA and third parties handled patient data. For the negative follow up dates, this can be caused by the pathology report being made at a secondary institution that does the surgery, even though the patient was diagnosed at a local hospital. The larger institution/center eventually reports back the pathologic findings from the surgery, but they never receive follow-up information about the patient. Thus, the days to diagnosis would have been the date the pathology report was signed out, which is always day 0, but the last time the patient was seen relative to that date could have been days or weeks prior to that report being signed out. Basically, we are aware that these negative dates exist, and they are caused by pathology report dates taking priority as day 0. For the patients without days_to_death, this is the case that they knew the patient was deceased, but they were uncertain of the exact date. Thus, when filling out the clinical information they left this intentionally blank..\"\n",
    "\n",
    "Here, I will simply drop these patients from data. I did manually check on the online database the negative values, which matched my downloaded data."
   ]
  },
  {
   "cell_type": "markdown",
   "metadata": {},
   "source": [
    "### `vital_status`"
   ]
  },
  {
   "cell_type": "code",
   "execution_count": 32,
   "metadata": {},
   "outputs": [
    {
     "name": "stdout",
     "output_type": "stream",
     "text": [
      "~~ MISSING DATA ~~\n",
      "\n",
      "synchronous_malignancy: 1334 (11.88%)\n",
      "ajcc_pathologic_stage: 4248 (37.83%)\n",
      "prior_treatment: 156 (1.39%)\n",
      "vital_status: 156 (1.39%)\n",
      "treatments_pharmaceutical_treatment_or_therapy: 5085 (45.29%)\n",
      "treatments_radiation_treatment_or_therapy: 1305 (11.62%)\n"
     ]
    }
   ],
   "source": [
    "print('~~ MISSING DATA ~~')\n",
    "print()\n",
    "skip = ['project_id', 'gender', 'race', 'ethnicity', 'prior_malignancy',\n",
    "        'age_at_diagnosis', 'days_to_death', 'days_to_last_follow_up']\n",
    "\n",
    "n = clinical.shape[0]\n",
    "\n",
    "for v in clinical.columns:\n",
    "    if v not in skip:\n",
    "        n_missing = sum(clinical[v].isnull())\n",
    "        print(f'{v}: {n_missing} ({round(n_missing / n * 100, 2)}%)')"
   ]
  },
  {
   "cell_type": "code",
   "execution_count": 33,
   "metadata": {},
   "outputs": [],
   "source": [
    "# Drop patients missing \"vital_status\" information\n",
    "subset = ~clinical.vital_status.isna()\n",
    "clinical = clinical.loc[subset]"
   ]
  },
  {
   "cell_type": "markdown",
   "metadata": {},
   "source": [
    "### Both duration values\n",
    "\n",
    "Patients missing both time to death and time to last follow up variables cannot be included in a survival study."
   ]
  },
  {
   "cell_type": "code",
   "execution_count": 34,
   "metadata": {},
   "outputs": [
    {
     "name": "stdout",
     "output_type": "stream",
     "text": [
      "# patients missing both duration columns: 38\n"
     ]
    }
   ],
   "source": [
    "missing_duration_data = clinical[\n",
    "    clinical['days_to_death'].isna() &\n",
    "    clinical['days_to_last_follow_up'].isna()]\n",
    "\n",
    "print('# patients missing both duration columns:', missing_duration_data.shape[0])"
   ]
  },
  {
   "cell_type": "code",
   "execution_count": 35,
   "metadata": {},
   "outputs": [
    {
     "data": {
      "text/html": [
       "<div>\n",
       "<style scoped>\n",
       "    .dataframe tbody tr th:only-of-type {\n",
       "        vertical-align: middle;\n",
       "    }\n",
       "\n",
       "    .dataframe tbody tr th {\n",
       "        vertical-align: top;\n",
       "    }\n",
       "\n",
       "    .dataframe thead th {\n",
       "        text-align: right;\n",
       "    }\n",
       "</style>\n",
       "<table border=\"1\" class=\"dataframe\">\n",
       "  <thead>\n",
       "    <tr style=\"text-align: right;\">\n",
       "      <th></th>\n",
       "      <th>synchronous_malignancy</th>\n",
       "      <th>ajcc_pathologic_stage</th>\n",
       "      <th>age_at_diagnosis</th>\n",
       "      <th>prior_malignancy</th>\n",
       "      <th>prior_treatment</th>\n",
       "      <th>race</th>\n",
       "      <th>gender</th>\n",
       "      <th>vital_status</th>\n",
       "      <th>days_to_death</th>\n",
       "      <th>days_to_last_follow_up</th>\n",
       "      <th>treatments_pharmaceutical_treatment_or_therapy</th>\n",
       "      <th>treatments_radiation_treatment_or_therapy</th>\n",
       "      <th>project_id</th>\n",
       "    </tr>\n",
       "    <tr>\n",
       "      <th>submitter_id</th>\n",
       "      <th></th>\n",
       "      <th></th>\n",
       "      <th></th>\n",
       "      <th></th>\n",
       "      <th></th>\n",
       "      <th></th>\n",
       "      <th></th>\n",
       "      <th></th>\n",
       "      <th></th>\n",
       "      <th></th>\n",
       "      <th></th>\n",
       "      <th></th>\n",
       "      <th></th>\n",
       "    </tr>\n",
       "  </thead>\n",
       "  <tbody>\n",
       "    <tr>\n",
       "      <th>TCGA-A7-A0DC</th>\n",
       "      <td>No</td>\n",
       "      <td>Stage IA</td>\n",
       "      <td>23294.0</td>\n",
       "      <td>no</td>\n",
       "      <td>No</td>\n",
       "      <td>white</td>\n",
       "      <td>female</td>\n",
       "      <td>Alive</td>\n",
       "      <td>NaN</td>\n",
       "      <td>NaN</td>\n",
       "      <td>yes</td>\n",
       "      <td>yes</td>\n",
       "      <td>TCGA-BRCA</td>\n",
       "    </tr>\n",
       "    <tr>\n",
       "      <th>TCGA-AJ-A3BH</th>\n",
       "      <td>No</td>\n",
       "      <td>NaN</td>\n",
       "      <td>NaN</td>\n",
       "      <td>no</td>\n",
       "      <td>No</td>\n",
       "      <td>white</td>\n",
       "      <td>female</td>\n",
       "      <td>Alive</td>\n",
       "      <td>NaN</td>\n",
       "      <td>NaN</td>\n",
       "      <td>NaN</td>\n",
       "      <td>NaN</td>\n",
       "      <td>TCGA-UCEC</td>\n",
       "    </tr>\n",
       "    <tr>\n",
       "      <th>TCGA-KN-8430</th>\n",
       "      <td>No</td>\n",
       "      <td>Stage I</td>\n",
       "      <td>27467.0</td>\n",
       "      <td>yes</td>\n",
       "      <td>No</td>\n",
       "      <td>white</td>\n",
       "      <td>male</td>\n",
       "      <td>Dead</td>\n",
       "      <td>NaN</td>\n",
       "      <td>NaN</td>\n",
       "      <td>no</td>\n",
       "      <td>no</td>\n",
       "      <td>TCGA-KICH</td>\n",
       "    </tr>\n",
       "    <tr>\n",
       "      <th>TCGA-CQ-A4CA</th>\n",
       "      <td>No</td>\n",
       "      <td>Stage II</td>\n",
       "      <td>NaN</td>\n",
       "      <td>no</td>\n",
       "      <td>No</td>\n",
       "      <td>NaN</td>\n",
       "      <td>male</td>\n",
       "      <td>Alive</td>\n",
       "      <td>NaN</td>\n",
       "      <td>NaN</td>\n",
       "      <td>no</td>\n",
       "      <td>no</td>\n",
       "      <td>TCGA-HNSC</td>\n",
       "    </tr>\n",
       "    <tr>\n",
       "      <th>TCGA-A6-2670</th>\n",
       "      <td>No</td>\n",
       "      <td>Stage IIA</td>\n",
       "      <td>16512.0</td>\n",
       "      <td>no</td>\n",
       "      <td>No</td>\n",
       "      <td>white</td>\n",
       "      <td>male</td>\n",
       "      <td>Alive</td>\n",
       "      <td>NaN</td>\n",
       "      <td>NaN</td>\n",
       "      <td>no</td>\n",
       "      <td>no</td>\n",
       "      <td>TCGA-COAD</td>\n",
       "    </tr>\n",
       "  </tbody>\n",
       "</table>\n",
       "</div>"
      ],
      "text/plain": [
       "             synchronous_malignancy ajcc_pathologic_stage  age_at_diagnosis  \\\n",
       "submitter_id                                                                  \n",
       "TCGA-A7-A0DC                     No              Stage IA           23294.0   \n",
       "TCGA-AJ-A3BH                     No                   NaN               NaN   \n",
       "TCGA-KN-8430                     No               Stage I           27467.0   \n",
       "TCGA-CQ-A4CA                     No              Stage II               NaN   \n",
       "TCGA-A6-2670                     No             Stage IIA           16512.0   \n",
       "\n",
       "             prior_malignancy prior_treatment   race  gender vital_status  \\\n",
       "submitter_id                                                                \n",
       "TCGA-A7-A0DC               no              No  white  female        Alive   \n",
       "TCGA-AJ-A3BH               no              No  white  female        Alive   \n",
       "TCGA-KN-8430              yes              No  white    male         Dead   \n",
       "TCGA-CQ-A4CA               no              No    NaN    male        Alive   \n",
       "TCGA-A6-2670               no              No  white    male        Alive   \n",
       "\n",
       "              days_to_death  days_to_last_follow_up  \\\n",
       "submitter_id                                          \n",
       "TCGA-A7-A0DC            NaN                     NaN   \n",
       "TCGA-AJ-A3BH            NaN                     NaN   \n",
       "TCGA-KN-8430            NaN                     NaN   \n",
       "TCGA-CQ-A4CA            NaN                     NaN   \n",
       "TCGA-A6-2670            NaN                     NaN   \n",
       "\n",
       "             treatments_pharmaceutical_treatment_or_therapy  \\\n",
       "submitter_id                                                  \n",
       "TCGA-A7-A0DC                                            yes   \n",
       "TCGA-AJ-A3BH                                            NaN   \n",
       "TCGA-KN-8430                                             no   \n",
       "TCGA-CQ-A4CA                                             no   \n",
       "TCGA-A6-2670                                             no   \n",
       "\n",
       "             treatments_radiation_treatment_or_therapy project_id  \n",
       "submitter_id                                                       \n",
       "TCGA-A7-A0DC                                       yes  TCGA-BRCA  \n",
       "TCGA-AJ-A3BH                                       NaN  TCGA-UCEC  \n",
       "TCGA-KN-8430                                        no  TCGA-KICH  \n",
       "TCGA-CQ-A4CA                                        no  TCGA-HNSC  \n",
       "TCGA-A6-2670                                        no  TCGA-COAD  "
      ]
     },
     "execution_count": 35,
     "metadata": {},
     "output_type": "execute_result"
    }
   ],
   "source": [
    "missing_duration_data.head()"
   ]
  },
  {
   "cell_type": "code",
   "execution_count": 36,
   "metadata": {},
   "outputs": [],
   "source": [
    "# Remove missing data\n",
    "subset = ~(clinical['days_to_death'].isna() &\n",
    "           clinical['days_to_last_follow_up'].isna())\n",
    "clinical = clinical.loc[subset]"
   ]
  },
  {
   "cell_type": "code",
   "execution_count": 37,
   "metadata": {},
   "outputs": [
    {
     "data": {
      "text/plain": [
       "(11034, 13)"
      ]
     },
     "execution_count": 37,
     "metadata": {},
     "output_type": "execute_result"
    }
   ],
   "source": [
    "clinical.shape"
   ]
  },
  {
   "cell_type": "markdown",
   "metadata": {},
   "source": [
    "### Required duration value\n",
    "\n",
    "Patients alive at the end of the study require time to last follow up information. Dead patients require time to death information."
   ]
  },
  {
   "cell_type": "code",
   "execution_count": 38,
   "metadata": {},
   "outputs": [
    {
     "name": "stdout",
     "output_type": "stream",
     "text": [
      "# patients missing \"days_to_last_follow_up\" when \"vital_status\" is \"Alive\": 0\n"
     ]
    }
   ],
   "source": [
    "print('# patients missing \"days_to_last_follow_up\" when \"vital_status\" is \"Alive\":',\n",
    "      clinical[(clinical.vital_status == 'Alive') &\n",
    "               clinical.days_to_last_follow_up.isna()].shape[0])"
   ]
  },
  {
   "cell_type": "code",
   "execution_count": 39,
   "metadata": {},
   "outputs": [
    {
     "name": "stdout",
     "output_type": "stream",
     "text": [
      "# patients missing \"days_to_death\" when \"vital_status\" is \"Dead\": 15\n"
     ]
    }
   ],
   "source": [
    "print('# patients missing \"days_to_death\" when \"vital_status\" is \"Dead\":',\n",
    "      clinical[(clinical.vital_status == 'Dead') &\n",
    "               clinical.days_to_death.isna()].shape[0])"
   ]
  },
  {
   "cell_type": "code",
   "execution_count": 40,
   "metadata": {},
   "outputs": [],
   "source": [
    "# Remove missing data\n",
    "subset = ~((clinical.vital_status == 'Dead') &\n",
    "           clinical.days_to_death.isna())\n",
    "clinical = clinical.loc[subset]"
   ]
  },
  {
   "cell_type": "markdown",
   "metadata": {},
   "source": [
    "## Not missing `days_to_last_follow_up` when `vital_status` is \"Dead\""
   ]
  },
  {
   "cell_type": "code",
   "execution_count": 41,
   "metadata": {},
   "outputs": [
    {
     "name": "stdout",
     "output_type": "stream",
     "text": [
      "\"Days to death\" variable missing for all patients still alive? True\n"
     ]
    }
   ],
   "source": [
    "print('\"Days to death\" variable missing for all patients still alive?',\n",
    "      all(clinical[clinical.vital_status == 'Alive'].days_to_death.isna()))"
   ]
  },
  {
   "cell_type": "code",
   "execution_count": 42,
   "metadata": {},
   "outputs": [
    {
     "name": "stdout",
     "output_type": "stream",
     "text": [
      "\"Days to last follow up\" variable missing for all dead patients? False\n"
     ]
    }
   ],
   "source": [
    "print('\"Days to last follow up\" variable missing for all dead patients?',\n",
    "      all(clinical[clinical.vital_status == 'Dead'].days_to_last_follow_up.isna()))"
   ]
  },
  {
   "cell_type": "code",
   "execution_count": 43,
   "metadata": {},
   "outputs": [],
   "source": [
    "# Insert \"NaN\" in \"days_to_last_follow_up\" when \"vital_status\" is \"Dead\" \n",
    "subset = clinical.vital_status == 'Dead'\n",
    "clinical.loc[subset, 'days_to_last_follow_up'] = None"
   ]
  },
  {
   "cell_type": "code",
   "execution_count": 44,
   "metadata": {},
   "outputs": [
    {
     "name": "stdout",
     "output_type": "stream",
     "text": [
      "\"Days to last follow up\" variable missing for all dead patients? True\n"
     ]
    }
   ],
   "source": [
    "print('\"Days to last follow up\" variable missing for all dead patients?',\n",
    "      all(clinical[clinical.vital_status == 'Dead'].days_to_last_follow_up.isna()))"
   ]
  },
  {
   "cell_type": "markdown",
   "metadata": {},
   "source": [
    "## Negative durations"
   ]
  },
  {
   "cell_type": "code",
   "execution_count": 45,
   "metadata": {},
   "outputs": [
    {
     "data": {
      "text/html": [
       "<div>\n",
       "<style scoped>\n",
       "    .dataframe tbody tr th:only-of-type {\n",
       "        vertical-align: middle;\n",
       "    }\n",
       "\n",
       "    .dataframe tbody tr th {\n",
       "        vertical-align: top;\n",
       "    }\n",
       "\n",
       "    .dataframe thead th {\n",
       "        text-align: right;\n",
       "    }\n",
       "</style>\n",
       "<table border=\"1\" class=\"dataframe\">\n",
       "  <thead>\n",
       "    <tr style=\"text-align: right;\">\n",
       "      <th></th>\n",
       "      <th>synchronous_malignancy</th>\n",
       "      <th>ajcc_pathologic_stage</th>\n",
       "      <th>age_at_diagnosis</th>\n",
       "      <th>prior_malignancy</th>\n",
       "      <th>prior_treatment</th>\n",
       "      <th>race</th>\n",
       "      <th>gender</th>\n",
       "      <th>vital_status</th>\n",
       "      <th>days_to_death</th>\n",
       "      <th>days_to_last_follow_up</th>\n",
       "      <th>treatments_pharmaceutical_treatment_or_therapy</th>\n",
       "      <th>treatments_radiation_treatment_or_therapy</th>\n",
       "      <th>project_id</th>\n",
       "    </tr>\n",
       "    <tr>\n",
       "      <th>submitter_id</th>\n",
       "      <th></th>\n",
       "      <th></th>\n",
       "      <th></th>\n",
       "      <th></th>\n",
       "      <th></th>\n",
       "      <th></th>\n",
       "      <th></th>\n",
       "      <th></th>\n",
       "      <th></th>\n",
       "      <th></th>\n",
       "      <th></th>\n",
       "      <th></th>\n",
       "      <th></th>\n",
       "    </tr>\n",
       "  </thead>\n",
       "  <tbody>\n",
       "    <tr>\n",
       "      <th>TCGA-PL-A8LV</th>\n",
       "      <td>No</td>\n",
       "      <td>Stage IIIB</td>\n",
       "      <td>19746.0</td>\n",
       "      <td>no</td>\n",
       "      <td>No</td>\n",
       "      <td>black or african american</td>\n",
       "      <td>female</td>\n",
       "      <td>Alive</td>\n",
       "      <td>NaN</td>\n",
       "      <td>-7.0</td>\n",
       "      <td>unknown</td>\n",
       "      <td>unknown</td>\n",
       "      <td>TCGA-BRCA</td>\n",
       "    </tr>\n",
       "    <tr>\n",
       "      <th>TCGA-AX-A3FV</th>\n",
       "      <td>No</td>\n",
       "      <td>NaN</td>\n",
       "      <td>22752.0</td>\n",
       "      <td>no</td>\n",
       "      <td>No</td>\n",
       "      <td>white</td>\n",
       "      <td>female</td>\n",
       "      <td>Alive</td>\n",
       "      <td>NaN</td>\n",
       "      <td>-6.0</td>\n",
       "      <td>unknown;not reported</td>\n",
       "      <td>unknown</td>\n",
       "      <td>TCGA-UCEC</td>\n",
       "    </tr>\n",
       "    <tr>\n",
       "      <th>TCGA-CF-A9FH</th>\n",
       "      <td>No</td>\n",
       "      <td>Stage II</td>\n",
       "      <td>31236.0</td>\n",
       "      <td>no</td>\n",
       "      <td>No</td>\n",
       "      <td>asian</td>\n",
       "      <td>male</td>\n",
       "      <td>Alive</td>\n",
       "      <td>NaN</td>\n",
       "      <td>-64.0</td>\n",
       "      <td>no</td>\n",
       "      <td>no</td>\n",
       "      <td>TCGA-BLCA</td>\n",
       "    </tr>\n",
       "    <tr>\n",
       "      <th>TCGA-NQ-A638</th>\n",
       "      <td>No</td>\n",
       "      <td>Stage II</td>\n",
       "      <td>24410.0</td>\n",
       "      <td>no</td>\n",
       "      <td>No</td>\n",
       "      <td>white</td>\n",
       "      <td>male</td>\n",
       "      <td>Alive</td>\n",
       "      <td>NaN</td>\n",
       "      <td>-8.0</td>\n",
       "      <td>unknown</td>\n",
       "      <td>unknown</td>\n",
       "      <td>TCGA-MESO</td>\n",
       "    </tr>\n",
       "    <tr>\n",
       "      <th>TCGA-TQ-A7RS</th>\n",
       "      <td>No</td>\n",
       "      <td>NaN</td>\n",
       "      <td>9172.0</td>\n",
       "      <td>no</td>\n",
       "      <td>No</td>\n",
       "      <td>hispanic or latino</td>\n",
       "      <td>female</td>\n",
       "      <td>Alive</td>\n",
       "      <td>NaN</td>\n",
       "      <td>-1.0</td>\n",
       "      <td>no</td>\n",
       "      <td>no</td>\n",
       "      <td>TCGA-LGG</td>\n",
       "    </tr>\n",
       "    <tr>\n",
       "      <th>TCGA-EB-A430</th>\n",
       "      <td>No</td>\n",
       "      <td>Stage IIC</td>\n",
       "      <td>30344.0</td>\n",
       "      <td>no</td>\n",
       "      <td>No</td>\n",
       "      <td>white</td>\n",
       "      <td>male</td>\n",
       "      <td>Alive</td>\n",
       "      <td>NaN</td>\n",
       "      <td>-2.0</td>\n",
       "      <td>no</td>\n",
       "      <td>no</td>\n",
       "      <td>TCGA-SKCM</td>\n",
       "    </tr>\n",
       "  </tbody>\n",
       "</table>\n",
       "</div>"
      ],
      "text/plain": [
       "             synchronous_malignancy ajcc_pathologic_stage  age_at_diagnosis  \\\n",
       "submitter_id                                                                  \n",
       "TCGA-PL-A8LV                     No            Stage IIIB           19746.0   \n",
       "TCGA-AX-A3FV                     No                   NaN           22752.0   \n",
       "TCGA-CF-A9FH                     No              Stage II           31236.0   \n",
       "TCGA-NQ-A638                     No              Stage II           24410.0   \n",
       "TCGA-TQ-A7RS                     No                   NaN            9172.0   \n",
       "TCGA-EB-A430                     No             Stage IIC           30344.0   \n",
       "\n",
       "             prior_malignancy prior_treatment                       race  \\\n",
       "submitter_id                                                               \n",
       "TCGA-PL-A8LV               no              No  black or african american   \n",
       "TCGA-AX-A3FV               no              No                      white   \n",
       "TCGA-CF-A9FH               no              No                      asian   \n",
       "TCGA-NQ-A638               no              No                      white   \n",
       "TCGA-TQ-A7RS               no              No         hispanic or latino   \n",
       "TCGA-EB-A430               no              No                      white   \n",
       "\n",
       "              gender vital_status  days_to_death  days_to_last_follow_up  \\\n",
       "submitter_id                                                               \n",
       "TCGA-PL-A8LV  female        Alive            NaN                    -7.0   \n",
       "TCGA-AX-A3FV  female        Alive            NaN                    -6.0   \n",
       "TCGA-CF-A9FH    male        Alive            NaN                   -64.0   \n",
       "TCGA-NQ-A638    male        Alive            NaN                    -8.0   \n",
       "TCGA-TQ-A7RS  female        Alive            NaN                    -1.0   \n",
       "TCGA-EB-A430    male        Alive            NaN                    -2.0   \n",
       "\n",
       "             treatments_pharmaceutical_treatment_or_therapy  \\\n",
       "submitter_id                                                  \n",
       "TCGA-PL-A8LV                                        unknown   \n",
       "TCGA-AX-A3FV                           unknown;not reported   \n",
       "TCGA-CF-A9FH                                             no   \n",
       "TCGA-NQ-A638                                        unknown   \n",
       "TCGA-TQ-A7RS                                             no   \n",
       "TCGA-EB-A430                                             no   \n",
       "\n",
       "             treatments_radiation_treatment_or_therapy project_id  \n",
       "submitter_id                                                       \n",
       "TCGA-PL-A8LV                                   unknown  TCGA-BRCA  \n",
       "TCGA-AX-A3FV                                   unknown  TCGA-UCEC  \n",
       "TCGA-CF-A9FH                                        no  TCGA-BLCA  \n",
       "TCGA-NQ-A638                                   unknown  TCGA-MESO  \n",
       "TCGA-TQ-A7RS                                        no   TCGA-LGG  \n",
       "TCGA-EB-A430                                        no  TCGA-SKCM  "
      ]
     },
     "execution_count": 45,
     "metadata": {},
     "output_type": "execute_result"
    }
   ],
   "source": [
    "clinical[clinical.days_to_last_follow_up < 0]"
   ]
  },
  {
   "cell_type": "code",
   "execution_count": 46,
   "metadata": {},
   "outputs": [],
   "source": [
    "# Remove data\n",
    "subset = ~((clinical.days_to_last_follow_up < 0) &\n",
    "           (clinical.vital_status == 'Alive'))\n",
    "clinical = clinical.loc[subset]"
   ]
  },
  {
   "cell_type": "code",
   "execution_count": 47,
   "metadata": {},
   "outputs": [
    {
     "data": {
      "text/plain": [
       "(11013, 13)"
      ]
     },
     "execution_count": 47,
     "metadata": {},
     "output_type": "execute_result"
    }
   ],
   "source": [
    "clinical.shape"
   ]
  },
  {
   "cell_type": "markdown",
   "metadata": {},
   "source": [
    "# Label data\n",
    "\n",
    "Collect duration label: `days_to_last_follow_up` and `days_to_death` for live and dead patients, respectively."
   ]
  },
  {
   "cell_type": "code",
   "execution_count": 48,
   "metadata": {},
   "outputs": [
    {
     "name": "stdout",
     "output_type": "stream",
     "text": [
      "Checking for problematic patients...\n",
      "\n",
      "Patients with invalid vital_status: 2\n",
      "Invalid vital_status values: ['Unknown']\n",
      "Patients with missing follow-up data: 0\n",
      "\n",
      "Total problematic patients to remove: 2\n",
      "Percentage of data: 0.02%\n"
     ]
    }
   ],
   "source": [
    "# First, let's identify which patients have issues\n",
    "print(\"Checking for problematic patients...\")\n",
    "\n",
    "# Find patients with NaN or unexpected vital_status\n",
    "valid_vital_status = ['Dead', 'Alive', '0', '1']\n",
    "invalid_vital_mask = ~clinical['vital_status'].isin(valid_vital_status) | clinical['vital_status'].isna()\n",
    "print(f\"\\nPatients with invalid vital_status: {invalid_vital_mask.sum()}\")\n",
    "if invalid_vital_mask.sum() > 0:\n",
    "    print(\"Invalid vital_status values:\", clinical[invalid_vital_mask]['vital_status'].unique())\n",
    "\n",
    "# Find patients with missing follow-up info\n",
    "missing_followup_mask = (\n",
    "    (clinical['vital_status'].isin(['Dead', '1'])) & clinical['days_to_death'].isna()\n",
    ") | (\n",
    "    (clinical['vital_status'].isin(['Alive', '0'])) & clinical['days_to_last_follow_up'].isna()\n",
    ")\n",
    "print(f\"Patients with missing follow-up data: {missing_followup_mask.sum()}\")\n",
    "\n",
    "# Combine all problematic cases\n",
    "problematic_mask = invalid_vital_mask | missing_followup_mask\n",
    "print(f\"\\nTotal problematic patients to remove: {problematic_mask.sum()}\")\n",
    "print(f\"Percentage of data: {problematic_mask.sum() / len(clinical) * 100:.2f}%\")\n",
    "\n",
    "# Remove problematic patients\n",
    "clinical = clinical[~problematic_mask].copy()"
   ]
  },
  {
   "cell_type": "code",
   "execution_count": 49,
   "metadata": {},
   "outputs": [],
   "source": [
    "def get_duration(vital_status, days_to_death, days_to_last_follow_up):\n",
    "    if vital_status == 'Dead':\n",
    "        return days_to_death\n",
    "    elif vital_status == 'Alive':\n",
    "        return days_to_last_follow_up\n",
    "    else:\n",
    "        print('Found NaN in duration!')\n",
    "\n",
    "def get_events(vital_status):\n",
    "    if vital_status in ['1', 'Dead']:\n",
    "        return 1\n",
    "    elif vital_status in ['0', 'Alive']:\n",
    "        return 0\n",
    "    else:\n",
    "        print('Found NaN in vital status!')"
   ]
  },
  {
   "cell_type": "code",
   "execution_count": 50,
   "metadata": {},
   "outputs": [],
   "source": [
    "d = {'submitter_id': clinical.index,\n",
    "     'time': clinical.apply(\n",
    "         lambda x: get_duration(x['vital_status'], x['days_to_death'],\n",
    "                                x['days_to_last_follow_up']), axis=1).values,\n",
    "     'event': clinical.apply(\n",
    "         lambda x: get_events(x['vital_status']), axis=1).values}"
   ]
  },
  {
   "cell_type": "code",
   "execution_count": 51,
   "metadata": {},
   "outputs": [],
   "source": [
    "survival = pd.DataFrame.from_dict(d).astype(\n",
    "    {'submitter_id': 'object', 'time': 'int64', 'event': 'int64'})"
   ]
  },
  {
   "cell_type": "code",
   "execution_count": 52,
   "metadata": {},
   "outputs": [],
   "source": [
    "clinical = clinical.join(survival.set_index('submitter_id'))"
   ]
  },
  {
   "cell_type": "code",
   "execution_count": 53,
   "metadata": {},
   "outputs": [
    {
     "data": {
      "text/html": [
       "<div>\n",
       "<style scoped>\n",
       "    .dataframe tbody tr th:only-of-type {\n",
       "        vertical-align: middle;\n",
       "    }\n",
       "\n",
       "    .dataframe tbody tr th {\n",
       "        vertical-align: top;\n",
       "    }\n",
       "\n",
       "    .dataframe thead th {\n",
       "        text-align: right;\n",
       "    }\n",
       "</style>\n",
       "<table border=\"1\" class=\"dataframe\">\n",
       "  <thead>\n",
       "    <tr style=\"text-align: right;\">\n",
       "      <th></th>\n",
       "      <th>synchronous_malignancy</th>\n",
       "      <th>ajcc_pathologic_stage</th>\n",
       "      <th>age_at_diagnosis</th>\n",
       "      <th>prior_malignancy</th>\n",
       "      <th>prior_treatment</th>\n",
       "      <th>race</th>\n",
       "      <th>gender</th>\n",
       "      <th>vital_status</th>\n",
       "      <th>days_to_death</th>\n",
       "      <th>days_to_last_follow_up</th>\n",
       "      <th>treatments_pharmaceutical_treatment_or_therapy</th>\n",
       "      <th>treatments_radiation_treatment_or_therapy</th>\n",
       "      <th>project_id</th>\n",
       "      <th>time</th>\n",
       "      <th>event</th>\n",
       "    </tr>\n",
       "    <tr>\n",
       "      <th>submitter_id</th>\n",
       "      <th></th>\n",
       "      <th></th>\n",
       "      <th></th>\n",
       "      <th></th>\n",
       "      <th></th>\n",
       "      <th></th>\n",
       "      <th></th>\n",
       "      <th></th>\n",
       "      <th></th>\n",
       "      <th></th>\n",
       "      <th></th>\n",
       "      <th></th>\n",
       "      <th></th>\n",
       "      <th></th>\n",
       "      <th></th>\n",
       "    </tr>\n",
       "  </thead>\n",
       "  <tbody>\n",
       "    <tr>\n",
       "      <th>TCGA-Z7-A8R6</th>\n",
       "      <td>No</td>\n",
       "      <td>Stage I</td>\n",
       "      <td>16955.0</td>\n",
       "      <td>no</td>\n",
       "      <td>No</td>\n",
       "      <td>white</td>\n",
       "      <td>female</td>\n",
       "      <td>Alive</td>\n",
       "      <td>NaN</td>\n",
       "      <td>3256.0</td>\n",
       "      <td>yes</td>\n",
       "      <td>no</td>\n",
       "      <td>TCGA-BRCA</td>\n",
       "      <td>3256</td>\n",
       "      <td>0</td>\n",
       "    </tr>\n",
       "    <tr>\n",
       "      <th>TCGA-C8-A1HE</th>\n",
       "      <td>No</td>\n",
       "      <td>Stage IIA</td>\n",
       "      <td>NaN</td>\n",
       "      <td>no</td>\n",
       "      <td>No</td>\n",
       "      <td>asian</td>\n",
       "      <td>female</td>\n",
       "      <td>Alive</td>\n",
       "      <td>NaN</td>\n",
       "      <td>375.0</td>\n",
       "      <td>yes</td>\n",
       "      <td>no</td>\n",
       "      <td>TCGA-BRCA</td>\n",
       "      <td>375</td>\n",
       "      <td>0</td>\n",
       "    </tr>\n",
       "    <tr>\n",
       "      <th>TCGA-A8-A07B</th>\n",
       "      <td>No</td>\n",
       "      <td>Stage IIA</td>\n",
       "      <td>25475.0</td>\n",
       "      <td>no</td>\n",
       "      <td>No</td>\n",
       "      <td>NaN</td>\n",
       "      <td>female</td>\n",
       "      <td>Alive</td>\n",
       "      <td>NaN</td>\n",
       "      <td>1308.0</td>\n",
       "      <td>no</td>\n",
       "      <td>no</td>\n",
       "      <td>TCGA-BRCA</td>\n",
       "      <td>1308</td>\n",
       "      <td>0</td>\n",
       "    </tr>\n",
       "    <tr>\n",
       "      <th>TCGA-AC-A2FM</th>\n",
       "      <td>No</td>\n",
       "      <td>Stage IIB</td>\n",
       "      <td>31805.0</td>\n",
       "      <td>no</td>\n",
       "      <td>No</td>\n",
       "      <td>white</td>\n",
       "      <td>female</td>\n",
       "      <td>Dead</td>\n",
       "      <td>792.0</td>\n",
       "      <td>NaN</td>\n",
       "      <td>no</td>\n",
       "      <td>no</td>\n",
       "      <td>TCGA-BRCA</td>\n",
       "      <td>792</td>\n",
       "      <td>1</td>\n",
       "    </tr>\n",
       "    <tr>\n",
       "      <th>TCGA-B6-A1KF</th>\n",
       "      <td>No</td>\n",
       "      <td>Stage IIB</td>\n",
       "      <td>24891.0</td>\n",
       "      <td>no</td>\n",
       "      <td>No</td>\n",
       "      <td>white</td>\n",
       "      <td>female</td>\n",
       "      <td>Alive</td>\n",
       "      <td>NaN</td>\n",
       "      <td>3088.0</td>\n",
       "      <td>yes</td>\n",
       "      <td>yes</td>\n",
       "      <td>TCGA-BRCA</td>\n",
       "      <td>3088</td>\n",
       "      <td>0</td>\n",
       "    </tr>\n",
       "  </tbody>\n",
       "</table>\n",
       "</div>"
      ],
      "text/plain": [
       "             synchronous_malignancy ajcc_pathologic_stage  age_at_diagnosis  \\\n",
       "submitter_id                                                                  \n",
       "TCGA-Z7-A8R6                     No               Stage I           16955.0   \n",
       "TCGA-C8-A1HE                     No             Stage IIA               NaN   \n",
       "TCGA-A8-A07B                     No             Stage IIA           25475.0   \n",
       "TCGA-AC-A2FM                     No             Stage IIB           31805.0   \n",
       "TCGA-B6-A1KF                     No             Stage IIB           24891.0   \n",
       "\n",
       "             prior_malignancy prior_treatment   race  gender vital_status  \\\n",
       "submitter_id                                                                \n",
       "TCGA-Z7-A8R6               no              No  white  female        Alive   \n",
       "TCGA-C8-A1HE               no              No  asian  female        Alive   \n",
       "TCGA-A8-A07B               no              No    NaN  female        Alive   \n",
       "TCGA-AC-A2FM               no              No  white  female         Dead   \n",
       "TCGA-B6-A1KF               no              No  white  female        Alive   \n",
       "\n",
       "              days_to_death  days_to_last_follow_up  \\\n",
       "submitter_id                                          \n",
       "TCGA-Z7-A8R6            NaN                  3256.0   \n",
       "TCGA-C8-A1HE            NaN                   375.0   \n",
       "TCGA-A8-A07B            NaN                  1308.0   \n",
       "TCGA-AC-A2FM          792.0                     NaN   \n",
       "TCGA-B6-A1KF            NaN                  3088.0   \n",
       "\n",
       "             treatments_pharmaceutical_treatment_or_therapy  \\\n",
       "submitter_id                                                  \n",
       "TCGA-Z7-A8R6                                            yes   \n",
       "TCGA-C8-A1HE                                            yes   \n",
       "TCGA-A8-A07B                                             no   \n",
       "TCGA-AC-A2FM                                             no   \n",
       "TCGA-B6-A1KF                                            yes   \n",
       "\n",
       "             treatments_radiation_treatment_or_therapy project_id  time  event  \n",
       "submitter_id                                                                    \n",
       "TCGA-Z7-A8R6                                        no  TCGA-BRCA  3256      0  \n",
       "TCGA-C8-A1HE                                        no  TCGA-BRCA   375      0  \n",
       "TCGA-A8-A07B                                        no  TCGA-BRCA  1308      0  \n",
       "TCGA-AC-A2FM                                        no  TCGA-BRCA   792      1  \n",
       "TCGA-B6-A1KF                                       yes  TCGA-BRCA  3088      0  "
      ]
     },
     "execution_count": 53,
     "metadata": {},
     "output_type": "execute_result"
    }
   ],
   "source": [
    "clinical.head()"
   ]
  },
  {
   "cell_type": "markdown",
   "metadata": {},
   "source": [
    "# Train-val-test split\n",
    "\n",
    "Split by patient and stratify by `project_id`."
   ]
  },
  {
   "cell_type": "code",
   "execution_count": 54,
   "metadata": {},
   "outputs": [
    {
     "data": {
      "text/plain": [
       "['TCGA-Z7-A8R6', 'TCGA-C8-A1HE', 'TCGA-A8-A07B']"
      ]
     },
     "execution_count": 54,
     "metadata": {},
     "output_type": "execute_result"
    }
   ],
   "source": [
    "cases = list(clinical.index.unique())\n",
    "cases[:3]"
   ]
  },
  {
   "cell_type": "code",
   "execution_count": null,
   "metadata": {},
   "outputs": [],
   "source": []
  },
  {
   "cell_type": "code",
   "execution_count": 55,
   "metadata": {},
   "outputs": [],
   "source": [
    "from collections import Counter\n",
    "\n",
    "def create_stratified_survival_splits(clinical_df, val_size=0.1, test_size=0.1, random_state=42):\n",
    "    \"\"\"\n",
    "    Create stratified train/val/test splits that balance both project_id and event distributions.\n",
    "    \n",
    "    Args:\n",
    "        clinical_df: DataFrame with clinical data\n",
    "        val_size: Proportion for validation set (default 0.1)\n",
    "        test_size: Proportion for test set (default 0.1) \n",
    "        random_state: Random seed for reproducibility\n",
    "    \n",
    "    Returns:\n",
    "        clinical_df with added 'group' column\n",
    "    \"\"\"\n",
    "    \n",
    "    # Create a combined stratification variable from project_id and event\n",
    "    clinical_df['stratify_var'] = clinical_df['project_id'].astype(str) + '_' + clinical_df['event'].astype(str)\n",
    "    \n",
    "    # Check if we have enough samples for each stratum\n",
    "    stratum_counts = clinical_df['stratify_var'].value_counts()\n",
    "    min_samples_needed = 2  # Minimum needed for stratification\n",
    "    \n",
    "    # Handle small strata by grouping them\n",
    "    small_strata = stratum_counts[stratum_counts < min_samples_needed].index\n",
    "    if len(small_strata) > 0:\n",
    "        print(f\"Warning: {len(small_strata)} strata have < {min_samples_needed} samples. Grouping by project_id only for these.\")\n",
    "        # For small strata, fall back to project_id only\n",
    "        mask = clinical_df['stratify_var'].isin(small_strata)\n",
    "        clinical_df.loc[mask, 'stratify_var'] = clinical_df.loc[mask, 'project_id'].astype(str) + '_mixed'\n",
    "    \n",
    "    X = clinical_df.drop(['stratify_var'], axis=1)\n",
    "    y = clinical_df[['time']]\n",
    "    stratify_col = clinical_df['stratify_var']\n",
    "    \n",
    "    # Stage 1: Split off validation set (10%)\n",
    "    X_temp, X_val, y_temp, y_val, strat_temp, strat_val = train_test_split(\n",
    "        X, y, stratify_col, \n",
    "        test_size=val_size, \n",
    "        random_state=random_state, \n",
    "        stratify=stratify_col\n",
    "    )\n",
    "    \n",
    "    # Stage 2: Split remaining data into train and test\n",
    "    # Calculate test_size for remaining data to get desired proportion of original\n",
    "    remaining_test_size = test_size / (1 - val_size)\n",
    "    \n",
    "    X_train, X_test, y_train, y_test, strat_train, strat_test = train_test_split(\n",
    "        X_temp, y_temp, strat_temp,\n",
    "        test_size=remaining_test_size,\n",
    "        random_state=random_state,\n",
    "        stratify=strat_temp\n",
    "    )\n",
    "    \n",
    "    # Create group assignment function\n",
    "    def get_split_group(id_code):\n",
    "        if id_code in X_train.index:\n",
    "            return 'train'\n",
    "        elif id_code in X_val.index:\n",
    "            return 'val'\n",
    "        elif id_code in X_test.index:\n",
    "            return 'test'\n",
    "        else:\n",
    "            return 'missing'\n",
    "    \n",
    "    # Assign groups to original dataframe\n",
    "    clinical_df['group'] = [get_split_group(x) for x in clinical_df.index]\n",
    "    \n",
    "    # Clean up temporary column\n",
    "    clinical_df.drop('stratify_var', axis=1, inplace=True)\n",
    "    \n",
    "    return clinical_df, X_train, X_val, X_test\n",
    "\n",
    "def validate_splits(clinical_df):\n",
    "    \"\"\"\n",
    "    Validate that the splits maintain balanced distributions.\n",
    "    \"\"\"\n",
    "    print(\"=== Split Distribution Analysis ===\\n\")\n",
    "    \n",
    "    # Overall split sizes\n",
    "    split_counts = clinical_df['group'].value_counts()\n",
    "    total_patients = len(clinical_df)\n",
    "    \n",
    "    print(\"Split sizes:\")\n",
    "    for group in ['train', 'val', 'test']:\n",
    "        count = split_counts.get(group, 0)\n",
    "        percentage = (count / total_patients) * 100\n",
    "        print(f\"  {group}: {count} patients ({percentage:.1f}%)\")\n",
    "    \n",
    "    print(\"\\n\" + \"=\"*50)\n",
    "    \n",
    "    # Event rate analysis by group\n",
    "    print(\"\\nEvent rates by group:\")\n",
    "    for group in ['train', 'val', 'test']:\n",
    "        group_data = clinical_df[clinical_df['group'] == group]\n",
    "        if len(group_data) > 0:\n",
    "            event_rate = group_data['event'].mean()\n",
    "            event_count = group_data['event'].sum()\n",
    "            total_count = len(group_data)\n",
    "            print(f\"  {group}: {event_count}/{total_count} = {event_rate:.3f} ({event_rate*100:.1f}%)\")\n",
    "    \n",
    "    print(\"\\n\" + \"=\"*50)\n",
    "    \n",
    "    # Project distribution analysis\n",
    "    print(\"\\nProject distribution by group:\")\n",
    "    project_dist = pd.crosstab(clinical_df['project_id'], clinical_df['group'], normalize='columns')\n",
    "    print(project_dist.round(3))\n",
    "    \n",
    "    print(\"\\n\" + \"=\"*50)\n",
    "    \n",
    "    # Combined project + event analysis\n",
    "    print(\"\\nProject + Event distribution by group:\")\n",
    "    clinical_df['project_event'] = clinical_df['project_id'] + '_event_' + clinical_df['event'].astype(str)\n",
    "    combined_dist = pd.crosstab(clinical_df['project_event'], clinical_df['group'], normalize='columns')\n",
    "    print(combined_dist.round(3))\n",
    "    \n",
    "    # Clean up temporary column\n",
    "    clinical_df.drop('project_event', axis=1, inplace=True)"
   ]
  },
  {
   "cell_type": "code",
   "execution_count": 56,
   "metadata": {},
   "outputs": [],
   "source": [
    "# Create stratified splits\n",
    "clinical, X_train, X_val, X_test = create_stratified_survival_splits(\n",
    "    clinical, \n",
    "    val_size=0.1, \n",
    "    test_size=0.1, \n",
    "    random_state=42\n",
    ")"
   ]
  },
  {
   "cell_type": "code",
   "execution_count": 57,
   "metadata": {},
   "outputs": [
    {
     "data": {
      "text/html": [
       "<div>\n",
       "<style scoped>\n",
       "    .dataframe tbody tr th:only-of-type {\n",
       "        vertical-align: middle;\n",
       "    }\n",
       "\n",
       "    .dataframe tbody tr th {\n",
       "        vertical-align: top;\n",
       "    }\n",
       "\n",
       "    .dataframe thead th {\n",
       "        text-align: right;\n",
       "    }\n",
       "</style>\n",
       "<table border=\"1\" class=\"dataframe\">\n",
       "  <thead>\n",
       "    <tr style=\"text-align: right;\">\n",
       "      <th></th>\n",
       "      <th>synchronous_malignancy</th>\n",
       "      <th>ajcc_pathologic_stage</th>\n",
       "      <th>age_at_diagnosis</th>\n",
       "      <th>prior_malignancy</th>\n",
       "      <th>prior_treatment</th>\n",
       "      <th>race</th>\n",
       "      <th>gender</th>\n",
       "      <th>vital_status</th>\n",
       "      <th>days_to_death</th>\n",
       "      <th>days_to_last_follow_up</th>\n",
       "      <th>treatments_pharmaceutical_treatment_or_therapy</th>\n",
       "      <th>treatments_radiation_treatment_or_therapy</th>\n",
       "      <th>project_id</th>\n",
       "      <th>time</th>\n",
       "      <th>event</th>\n",
       "      <th>group</th>\n",
       "    </tr>\n",
       "    <tr>\n",
       "      <th>submitter_id</th>\n",
       "      <th></th>\n",
       "      <th></th>\n",
       "      <th></th>\n",
       "      <th></th>\n",
       "      <th></th>\n",
       "      <th></th>\n",
       "      <th></th>\n",
       "      <th></th>\n",
       "      <th></th>\n",
       "      <th></th>\n",
       "      <th></th>\n",
       "      <th></th>\n",
       "      <th></th>\n",
       "      <th></th>\n",
       "      <th></th>\n",
       "      <th></th>\n",
       "    </tr>\n",
       "  </thead>\n",
       "  <tbody>\n",
       "    <tr>\n",
       "      <th>TCGA-Z7-A8R6</th>\n",
       "      <td>No</td>\n",
       "      <td>Stage I</td>\n",
       "      <td>16955.0</td>\n",
       "      <td>no</td>\n",
       "      <td>No</td>\n",
       "      <td>white</td>\n",
       "      <td>female</td>\n",
       "      <td>Alive</td>\n",
       "      <td>NaN</td>\n",
       "      <td>3256.0</td>\n",
       "      <td>yes</td>\n",
       "      <td>no</td>\n",
       "      <td>TCGA-BRCA</td>\n",
       "      <td>3256</td>\n",
       "      <td>0</td>\n",
       "      <td>train</td>\n",
       "    </tr>\n",
       "    <tr>\n",
       "      <th>TCGA-C8-A1HE</th>\n",
       "      <td>No</td>\n",
       "      <td>Stage IIA</td>\n",
       "      <td>NaN</td>\n",
       "      <td>no</td>\n",
       "      <td>No</td>\n",
       "      <td>asian</td>\n",
       "      <td>female</td>\n",
       "      <td>Alive</td>\n",
       "      <td>NaN</td>\n",
       "      <td>375.0</td>\n",
       "      <td>yes</td>\n",
       "      <td>no</td>\n",
       "      <td>TCGA-BRCA</td>\n",
       "      <td>375</td>\n",
       "      <td>0</td>\n",
       "      <td>train</td>\n",
       "    </tr>\n",
       "    <tr>\n",
       "      <th>TCGA-A8-A07B</th>\n",
       "      <td>No</td>\n",
       "      <td>Stage IIA</td>\n",
       "      <td>25475.0</td>\n",
       "      <td>no</td>\n",
       "      <td>No</td>\n",
       "      <td>NaN</td>\n",
       "      <td>female</td>\n",
       "      <td>Alive</td>\n",
       "      <td>NaN</td>\n",
       "      <td>1308.0</td>\n",
       "      <td>no</td>\n",
       "      <td>no</td>\n",
       "      <td>TCGA-BRCA</td>\n",
       "      <td>1308</td>\n",
       "      <td>0</td>\n",
       "      <td>train</td>\n",
       "    </tr>\n",
       "    <tr>\n",
       "      <th>TCGA-AC-A2FM</th>\n",
       "      <td>No</td>\n",
       "      <td>Stage IIB</td>\n",
       "      <td>31805.0</td>\n",
       "      <td>no</td>\n",
       "      <td>No</td>\n",
       "      <td>white</td>\n",
       "      <td>female</td>\n",
       "      <td>Dead</td>\n",
       "      <td>792.0</td>\n",
       "      <td>NaN</td>\n",
       "      <td>no</td>\n",
       "      <td>no</td>\n",
       "      <td>TCGA-BRCA</td>\n",
       "      <td>792</td>\n",
       "      <td>1</td>\n",
       "      <td>train</td>\n",
       "    </tr>\n",
       "    <tr>\n",
       "      <th>TCGA-B6-A1KF</th>\n",
       "      <td>No</td>\n",
       "      <td>Stage IIB</td>\n",
       "      <td>24891.0</td>\n",
       "      <td>no</td>\n",
       "      <td>No</td>\n",
       "      <td>white</td>\n",
       "      <td>female</td>\n",
       "      <td>Alive</td>\n",
       "      <td>NaN</td>\n",
       "      <td>3088.0</td>\n",
       "      <td>yes</td>\n",
       "      <td>yes</td>\n",
       "      <td>TCGA-BRCA</td>\n",
       "      <td>3088</td>\n",
       "      <td>0</td>\n",
       "      <td>train</td>\n",
       "    </tr>\n",
       "  </tbody>\n",
       "</table>\n",
       "</div>"
      ],
      "text/plain": [
       "             synchronous_malignancy ajcc_pathologic_stage  age_at_diagnosis  \\\n",
       "submitter_id                                                                  \n",
       "TCGA-Z7-A8R6                     No               Stage I           16955.0   \n",
       "TCGA-C8-A1HE                     No             Stage IIA               NaN   \n",
       "TCGA-A8-A07B                     No             Stage IIA           25475.0   \n",
       "TCGA-AC-A2FM                     No             Stage IIB           31805.0   \n",
       "TCGA-B6-A1KF                     No             Stage IIB           24891.0   \n",
       "\n",
       "             prior_malignancy prior_treatment   race  gender vital_status  \\\n",
       "submitter_id                                                                \n",
       "TCGA-Z7-A8R6               no              No  white  female        Alive   \n",
       "TCGA-C8-A1HE               no              No  asian  female        Alive   \n",
       "TCGA-A8-A07B               no              No    NaN  female        Alive   \n",
       "TCGA-AC-A2FM               no              No  white  female         Dead   \n",
       "TCGA-B6-A1KF               no              No  white  female        Alive   \n",
       "\n",
       "              days_to_death  days_to_last_follow_up  \\\n",
       "submitter_id                                          \n",
       "TCGA-Z7-A8R6            NaN                  3256.0   \n",
       "TCGA-C8-A1HE            NaN                   375.0   \n",
       "TCGA-A8-A07B            NaN                  1308.0   \n",
       "TCGA-AC-A2FM          792.0                     NaN   \n",
       "TCGA-B6-A1KF            NaN                  3088.0   \n",
       "\n",
       "             treatments_pharmaceutical_treatment_or_therapy  \\\n",
       "submitter_id                                                  \n",
       "TCGA-Z7-A8R6                                            yes   \n",
       "TCGA-C8-A1HE                                            yes   \n",
       "TCGA-A8-A07B                                             no   \n",
       "TCGA-AC-A2FM                                             no   \n",
       "TCGA-B6-A1KF                                            yes   \n",
       "\n",
       "             treatments_radiation_treatment_or_therapy project_id  time  \\\n",
       "submitter_id                                                              \n",
       "TCGA-Z7-A8R6                                        no  TCGA-BRCA  3256   \n",
       "TCGA-C8-A1HE                                        no  TCGA-BRCA   375   \n",
       "TCGA-A8-A07B                                        no  TCGA-BRCA  1308   \n",
       "TCGA-AC-A2FM                                        no  TCGA-BRCA   792   \n",
       "TCGA-B6-A1KF                                       yes  TCGA-BRCA  3088   \n",
       "\n",
       "              event  group  \n",
       "submitter_id                \n",
       "TCGA-Z7-A8R6      0  train  \n",
       "TCGA-C8-A1HE      0  train  \n",
       "TCGA-A8-A07B      0  train  \n",
       "TCGA-AC-A2FM      1  train  \n",
       "TCGA-B6-A1KF      0  train  "
      ]
     },
     "execution_count": 57,
     "metadata": {},
     "output_type": "execute_result"
    }
   ],
   "source": [
    "clinical.head()"
   ]
  },
  {
   "cell_type": "code",
   "execution_count": 58,
   "metadata": {},
   "outputs": [
    {
     "data": {
      "text/html": [
       "<div>\n",
       "<style scoped>\n",
       "    .dataframe tbody tr th:only-of-type {\n",
       "        vertical-align: middle;\n",
       "    }\n",
       "\n",
       "    .dataframe tbody tr th {\n",
       "        vertical-align: top;\n",
       "    }\n",
       "\n",
       "    .dataframe thead th {\n",
       "        text-align: right;\n",
       "    }\n",
       "</style>\n",
       "<table border=\"1\" class=\"dataframe\">\n",
       "  <thead>\n",
       "    <tr style=\"text-align: right;\">\n",
       "      <th></th>\n",
       "      <th>synchronous_malignancy</th>\n",
       "      <th>ajcc_pathologic_stage</th>\n",
       "      <th>age_at_diagnosis</th>\n",
       "      <th>prior_malignancy</th>\n",
       "      <th>prior_treatment</th>\n",
       "      <th>race</th>\n",
       "      <th>gender</th>\n",
       "      <th>vital_status</th>\n",
       "      <th>days_to_death</th>\n",
       "      <th>days_to_last_follow_up</th>\n",
       "      <th>treatments_pharmaceutical_treatment_or_therapy</th>\n",
       "      <th>treatments_radiation_treatment_or_therapy</th>\n",
       "      <th>project_id</th>\n",
       "      <th>time</th>\n",
       "      <th>event</th>\n",
       "      <th>group</th>\n",
       "    </tr>\n",
       "    <tr>\n",
       "      <th>submitter_id</th>\n",
       "      <th></th>\n",
       "      <th></th>\n",
       "      <th></th>\n",
       "      <th></th>\n",
       "      <th></th>\n",
       "      <th></th>\n",
       "      <th></th>\n",
       "      <th></th>\n",
       "      <th></th>\n",
       "      <th></th>\n",
       "      <th></th>\n",
       "      <th></th>\n",
       "      <th></th>\n",
       "      <th></th>\n",
       "      <th></th>\n",
       "      <th></th>\n",
       "    </tr>\n",
       "  </thead>\n",
       "  <tbody>\n",
       "    <tr>\n",
       "      <th>TCGA-Z7-A8R6</th>\n",
       "      <td>No</td>\n",
       "      <td>Stage I</td>\n",
       "      <td>16955.0</td>\n",
       "      <td>no</td>\n",
       "      <td>No</td>\n",
       "      <td>white</td>\n",
       "      <td>female</td>\n",
       "      <td>Alive</td>\n",
       "      <td>NaN</td>\n",
       "      <td>3256.0</td>\n",
       "      <td>yes</td>\n",
       "      <td>no</td>\n",
       "      <td>TCGA-BRCA</td>\n",
       "      <td>8.920548</td>\n",
       "      <td>0</td>\n",
       "      <td>train</td>\n",
       "    </tr>\n",
       "    <tr>\n",
       "      <th>TCGA-C8-A1HE</th>\n",
       "      <td>No</td>\n",
       "      <td>Stage IIA</td>\n",
       "      <td>NaN</td>\n",
       "      <td>no</td>\n",
       "      <td>No</td>\n",
       "      <td>asian</td>\n",
       "      <td>female</td>\n",
       "      <td>Alive</td>\n",
       "      <td>NaN</td>\n",
       "      <td>375.0</td>\n",
       "      <td>yes</td>\n",
       "      <td>no</td>\n",
       "      <td>TCGA-BRCA</td>\n",
       "      <td>1.027397</td>\n",
       "      <td>0</td>\n",
       "      <td>train</td>\n",
       "    </tr>\n",
       "    <tr>\n",
       "      <th>TCGA-A8-A07B</th>\n",
       "      <td>No</td>\n",
       "      <td>Stage IIA</td>\n",
       "      <td>25475.0</td>\n",
       "      <td>no</td>\n",
       "      <td>No</td>\n",
       "      <td>NaN</td>\n",
       "      <td>female</td>\n",
       "      <td>Alive</td>\n",
       "      <td>NaN</td>\n",
       "      <td>1308.0</td>\n",
       "      <td>no</td>\n",
       "      <td>no</td>\n",
       "      <td>TCGA-BRCA</td>\n",
       "      <td>3.583562</td>\n",
       "      <td>0</td>\n",
       "      <td>train</td>\n",
       "    </tr>\n",
       "    <tr>\n",
       "      <th>TCGA-AC-A2FM</th>\n",
       "      <td>No</td>\n",
       "      <td>Stage IIB</td>\n",
       "      <td>31805.0</td>\n",
       "      <td>no</td>\n",
       "      <td>No</td>\n",
       "      <td>white</td>\n",
       "      <td>female</td>\n",
       "      <td>Dead</td>\n",
       "      <td>792.0</td>\n",
       "      <td>NaN</td>\n",
       "      <td>no</td>\n",
       "      <td>no</td>\n",
       "      <td>TCGA-BRCA</td>\n",
       "      <td>2.169863</td>\n",
       "      <td>1</td>\n",
       "      <td>train</td>\n",
       "    </tr>\n",
       "    <tr>\n",
       "      <th>TCGA-B6-A1KF</th>\n",
       "      <td>No</td>\n",
       "      <td>Stage IIB</td>\n",
       "      <td>24891.0</td>\n",
       "      <td>no</td>\n",
       "      <td>No</td>\n",
       "      <td>white</td>\n",
       "      <td>female</td>\n",
       "      <td>Alive</td>\n",
       "      <td>NaN</td>\n",
       "      <td>3088.0</td>\n",
       "      <td>yes</td>\n",
       "      <td>yes</td>\n",
       "      <td>TCGA-BRCA</td>\n",
       "      <td>8.460274</td>\n",
       "      <td>0</td>\n",
       "      <td>train</td>\n",
       "    </tr>\n",
       "  </tbody>\n",
       "</table>\n",
       "</div>"
      ],
      "text/plain": [
       "             synchronous_malignancy ajcc_pathologic_stage  age_at_diagnosis  \\\n",
       "submitter_id                                                                  \n",
       "TCGA-Z7-A8R6                     No               Stage I           16955.0   \n",
       "TCGA-C8-A1HE                     No             Stage IIA               NaN   \n",
       "TCGA-A8-A07B                     No             Stage IIA           25475.0   \n",
       "TCGA-AC-A2FM                     No             Stage IIB           31805.0   \n",
       "TCGA-B6-A1KF                     No             Stage IIB           24891.0   \n",
       "\n",
       "             prior_malignancy prior_treatment   race  gender vital_status  \\\n",
       "submitter_id                                                                \n",
       "TCGA-Z7-A8R6               no              No  white  female        Alive   \n",
       "TCGA-C8-A1HE               no              No  asian  female        Alive   \n",
       "TCGA-A8-A07B               no              No    NaN  female        Alive   \n",
       "TCGA-AC-A2FM               no              No  white  female         Dead   \n",
       "TCGA-B6-A1KF               no              No  white  female        Alive   \n",
       "\n",
       "              days_to_death  days_to_last_follow_up  \\\n",
       "submitter_id                                          \n",
       "TCGA-Z7-A8R6            NaN                  3256.0   \n",
       "TCGA-C8-A1HE            NaN                   375.0   \n",
       "TCGA-A8-A07B            NaN                  1308.0   \n",
       "TCGA-AC-A2FM          792.0                     NaN   \n",
       "TCGA-B6-A1KF            NaN                  3088.0   \n",
       "\n",
       "             treatments_pharmaceutical_treatment_or_therapy  \\\n",
       "submitter_id                                                  \n",
       "TCGA-Z7-A8R6                                            yes   \n",
       "TCGA-C8-A1HE                                            yes   \n",
       "TCGA-A8-A07B                                             no   \n",
       "TCGA-AC-A2FM                                             no   \n",
       "TCGA-B6-A1KF                                            yes   \n",
       "\n",
       "             treatments_radiation_treatment_or_therapy project_id      time  \\\n",
       "submitter_id                                                                  \n",
       "TCGA-Z7-A8R6                                        no  TCGA-BRCA  8.920548   \n",
       "TCGA-C8-A1HE                                        no  TCGA-BRCA  1.027397   \n",
       "TCGA-A8-A07B                                        no  TCGA-BRCA  3.583562   \n",
       "TCGA-AC-A2FM                                        no  TCGA-BRCA  2.169863   \n",
       "TCGA-B6-A1KF                                       yes  TCGA-BRCA  8.460274   \n",
       "\n",
       "              event  group  \n",
       "submitter_id                \n",
       "TCGA-Z7-A8R6      0  train  \n",
       "TCGA-C8-A1HE      0  train  \n",
       "TCGA-A8-A07B      0  train  \n",
       "TCGA-AC-A2FM      1  train  \n",
       "TCGA-B6-A1KF      0  train  "
      ]
     },
     "execution_count": 58,
     "metadata": {},
     "output_type": "execute_result"
    }
   ],
   "source": [
    "# Convert duration to years\n",
    "clinical['time'] = clinical['time'] / 365\n",
    "clinical.head()"
   ]
  },
  {
   "cell_type": "code",
   "execution_count": 59,
   "metadata": {},
   "outputs": [],
   "source": [
    "def get_data_group(df, value='train'):\n",
    "    group = df.loc[df['group'] == value]\n",
    "    return group.drop(columns='group')\n",
    "\n",
    "train = get_data_group(clinical, 'train')\n",
    "val = get_data_group(clinical, 'val')\n",
    "test = get_data_group(clinical, 'test')"
   ]
  },
  {
   "cell_type": "code",
   "execution_count": 60,
   "metadata": {},
   "outputs": [
    {
     "name": "stdout",
     "output_type": "stream",
     "text": [
      "# patients in split groups:\n",
      "     train:      8808\n",
      "     validation: 1102\n",
      "     test:       1101\n"
     ]
    }
   ],
   "source": [
    "print('# patients in split groups:')\n",
    "print('     train:     ', len(train))\n",
    "print('     validation:', len(val))\n",
    "print('     test:      ', len(test))"
   ]
  },
  {
   "cell_type": "markdown",
   "metadata": {},
   "source": [
    "## Survival curves\n",
    "\n",
    "Plot Kaplan-Meier survival function."
   ]
  },
  {
   "cell_type": "code",
   "execution_count": 61,
   "metadata": {},
   "outputs": [
    {
     "data": {
      "text/plain": [
       "<Axes: title={'center': 'Training data'}, xlabel='Time (years)'>"
      ]
     },
     "execution_count": 61,
     "metadata": {},
     "output_type": "execute_result"
    },
    {
     "data": {
      "image/png": "[encoded data removed]",
      "text/plain": [
       "<Figure size 640x480 with 1 Axes>"
      ]
     },
     "metadata": {},
     "output_type": "display_data"
    }
   ],
   "source": [
    "kmf = KaplanMeierFitter()\n",
    "kmf.fit(train['time'], event_observed=train['event'])\n",
    "ax = kmf.plot(title='Training data')\n",
    "ax.set_xlabel('Time (years)')\n",
    "ax"
   ]
  },
  {
   "cell_type": "code",
   "execution_count": 62,
   "metadata": {},
   "outputs": [
    {
     "data": {
      "text/plain": [
       "<Axes: title={'center': 'Validation data'}, xlabel='Time (years)'>"
      ]
     },
     "execution_count": 62,
     "metadata": {},
     "output_type": "execute_result"
    },
    {
     "data": {
      "image/png": "[encoded data removed]",
      "text/plain": [
       "<Figure size 640x480 with 1 Axes>"
      ]
     },
     "metadata": {},
     "output_type": "display_data"
    }
   ],
   "source": [
    "kmf = KaplanMeierFitter()\n",
    "kmf.fit(val['time'], event_observed=val['event'])\n",
    "ax = kmf.plot(title='Validation data')\n",
    "ax.set_xlabel('Time (years)')\n",
    "ax"
   ]
  },
  {
   "cell_type": "code",
   "execution_count": 63,
   "metadata": {},
   "outputs": [
    {
     "data": {
      "text/plain": [
       "<Axes: title={'center': 'Test data'}, xlabel='Time (years)'>"
      ]
     },
     "execution_count": 63,
     "metadata": {},
     "output_type": "execute_result"
    },
    {
     "data": {
      "image/png": "[encoded data removed]",
      "text/plain": [
       "<Figure size 640x480 with 1 Axes>"
      ]
     },
     "metadata": {},
     "output_type": "display_data"
    }
   ],
   "source": [
    "kmf = KaplanMeierFitter()\n",
    "kmf.fit(test['time'], event_observed=test['event'])\n",
    "ax = kmf.plot(title='Test data')\n",
    "ax.set_xlabel('Time (years)')\n",
    "ax"
   ]
  },
  {
   "cell_type": "markdown",
   "metadata": {},
   "source": [
    "# Save clinical data to file\n",
    "\n",
    "To use in the visualization of the features learned by the model."
   ]
  },
  {
   "cell_type": "code",
   "execution_count": 64,
   "metadata": {},
   "outputs": [
    {
     "data": {
      "text/html": [
       "<div>\n",
       "<style scoped>\n",
       "    .dataframe tbody tr th:only-of-type {\n",
       "        vertical-align: middle;\n",
       "    }\n",
       "\n",
       "    .dataframe tbody tr th {\n",
       "        vertical-align: top;\n",
       "    }\n",
       "\n",
       "    .dataframe thead th {\n",
       "        text-align: right;\n",
       "    }\n",
       "</style>\n",
       "<table border=\"1\" class=\"dataframe\">\n",
       "  <thead>\n",
       "    <tr style=\"text-align: right;\">\n",
       "      <th></th>\n",
       "      <th>synchronous_malignancy</th>\n",
       "      <th>ajcc_pathologic_stage</th>\n",
       "      <th>age_at_diagnosis</th>\n",
       "      <th>prior_malignancy</th>\n",
       "      <th>prior_treatment</th>\n",
       "      <th>race</th>\n",
       "      <th>gender</th>\n",
       "      <th>vital_status</th>\n",
       "      <th>days_to_death</th>\n",
       "      <th>days_to_last_follow_up</th>\n",
       "      <th>treatments_pharmaceutical_treatment_or_therapy</th>\n",
       "      <th>treatments_radiation_treatment_or_therapy</th>\n",
       "      <th>project_id</th>\n",
       "      <th>time</th>\n",
       "      <th>event</th>\n",
       "      <th>group</th>\n",
       "    </tr>\n",
       "    <tr>\n",
       "      <th>submitter_id</th>\n",
       "      <th></th>\n",
       "      <th></th>\n",
       "      <th></th>\n",
       "      <th></th>\n",
       "      <th></th>\n",
       "      <th></th>\n",
       "      <th></th>\n",
       "      <th></th>\n",
       "      <th></th>\n",
       "      <th></th>\n",
       "      <th></th>\n",
       "      <th></th>\n",
       "      <th></th>\n",
       "      <th></th>\n",
       "      <th></th>\n",
       "      <th></th>\n",
       "    </tr>\n",
       "  </thead>\n",
       "  <tbody>\n",
       "    <tr>\n",
       "      <th>TCGA-Z7-A8R6</th>\n",
       "      <td>No</td>\n",
       "      <td>Stage I</td>\n",
       "      <td>16955.0</td>\n",
       "      <td>no</td>\n",
       "      <td>No</td>\n",
       "      <td>white</td>\n",
       "      <td>female</td>\n",
       "      <td>Alive</td>\n",
       "      <td>NaN</td>\n",
       "      <td>3256.0</td>\n",
       "      <td>yes</td>\n",
       "      <td>no</td>\n",
       "      <td>TCGA-BRCA</td>\n",
       "      <td>8.920548</td>\n",
       "      <td>0</td>\n",
       "      <td>train</td>\n",
       "    </tr>\n",
       "    <tr>\n",
       "      <th>TCGA-C8-A1HE</th>\n",
       "      <td>No</td>\n",
       "      <td>Stage IIA</td>\n",
       "      <td>NaN</td>\n",
       "      <td>no</td>\n",
       "      <td>No</td>\n",
       "      <td>asian</td>\n",
       "      <td>female</td>\n",
       "      <td>Alive</td>\n",
       "      <td>NaN</td>\n",
       "      <td>375.0</td>\n",
       "      <td>yes</td>\n",
       "      <td>no</td>\n",
       "      <td>TCGA-BRCA</td>\n",
       "      <td>1.027397</td>\n",
       "      <td>0</td>\n",
       "      <td>train</td>\n",
       "    </tr>\n",
       "    <tr>\n",
       "      <th>TCGA-A8-A07B</th>\n",
       "      <td>No</td>\n",
       "      <td>Stage IIA</td>\n",
       "      <td>25475.0</td>\n",
       "      <td>no</td>\n",
       "      <td>No</td>\n",
       "      <td>NaN</td>\n",
       "      <td>female</td>\n",
       "      <td>Alive</td>\n",
       "      <td>NaN</td>\n",
       "      <td>1308.0</td>\n",
       "      <td>no</td>\n",
       "      <td>no</td>\n",
       "      <td>TCGA-BRCA</td>\n",
       "      <td>3.583562</td>\n",
       "      <td>0</td>\n",
       "      <td>train</td>\n",
       "    </tr>\n",
       "    <tr>\n",
       "      <th>TCGA-AC-A2FM</th>\n",
       "      <td>No</td>\n",
       "      <td>Stage IIB</td>\n",
       "      <td>31805.0</td>\n",
       "      <td>no</td>\n",
       "      <td>No</td>\n",
       "      <td>white</td>\n",
       "      <td>female</td>\n",
       "      <td>Dead</td>\n",
       "      <td>792.0</td>\n",
       "      <td>NaN</td>\n",
       "      <td>no</td>\n",
       "      <td>no</td>\n",
       "      <td>TCGA-BRCA</td>\n",
       "      <td>2.169863</td>\n",
       "      <td>1</td>\n",
       "      <td>train</td>\n",
       "    </tr>\n",
       "    <tr>\n",
       "      <th>TCGA-B6-A1KF</th>\n",
       "      <td>No</td>\n",
       "      <td>Stage IIB</td>\n",
       "      <td>24891.0</td>\n",
       "      <td>no</td>\n",
       "      <td>No</td>\n",
       "      <td>white</td>\n",
       "      <td>female</td>\n",
       "      <td>Alive</td>\n",
       "      <td>NaN</td>\n",
       "      <td>3088.0</td>\n",
       "      <td>yes</td>\n",
       "      <td>yes</td>\n",
       "      <td>TCGA-BRCA</td>\n",
       "      <td>8.460274</td>\n",
       "      <td>0</td>\n",
       "      <td>train</td>\n",
       "    </tr>\n",
       "  </tbody>\n",
       "</table>\n",
       "</div>"
      ],
      "text/plain": [
       "             synchronous_malignancy ajcc_pathologic_stage  age_at_diagnosis  \\\n",
       "submitter_id                                                                  \n",
       "TCGA-Z7-A8R6                     No               Stage I           16955.0   \n",
       "TCGA-C8-A1HE                     No             Stage IIA               NaN   \n",
       "TCGA-A8-A07B                     No             Stage IIA           25475.0   \n",
       "TCGA-AC-A2FM                     No             Stage IIB           31805.0   \n",
       "TCGA-B6-A1KF                     No             Stage IIB           24891.0   \n",
       "\n",
       "             prior_malignancy prior_treatment   race  gender vital_status  \\\n",
       "submitter_id                                                                \n",
       "TCGA-Z7-A8R6               no              No  white  female        Alive   \n",
       "TCGA-C8-A1HE               no              No  asian  female        Alive   \n",
       "TCGA-A8-A07B               no              No    NaN  female        Alive   \n",
       "TCGA-AC-A2FM               no              No  white  female         Dead   \n",
       "TCGA-B6-A1KF               no              No  white  female        Alive   \n",
       "\n",
       "              days_to_death  days_to_last_follow_up  \\\n",
       "submitter_id                                          \n",
       "TCGA-Z7-A8R6            NaN                  3256.0   \n",
       "TCGA-C8-A1HE            NaN                   375.0   \n",
       "TCGA-A8-A07B            NaN                  1308.0   \n",
       "TCGA-AC-A2FM          792.0                     NaN   \n",
       "TCGA-B6-A1KF            NaN                  3088.0   \n",
       "\n",
       "             treatments_pharmaceutical_treatment_or_therapy  \\\n",
       "submitter_id                                                  \n",
       "TCGA-Z7-A8R6                                            yes   \n",
       "TCGA-C8-A1HE                                            yes   \n",
       "TCGA-A8-A07B                                             no   \n",
       "TCGA-AC-A2FM                                             no   \n",
       "TCGA-B6-A1KF                                            yes   \n",
       "\n",
       "             treatments_radiation_treatment_or_therapy project_id      time  \\\n",
       "submitter_id                                                                  \n",
       "TCGA-Z7-A8R6                                        no  TCGA-BRCA  8.920548   \n",
       "TCGA-C8-A1HE                                        no  TCGA-BRCA  1.027397   \n",
       "TCGA-A8-A07B                                        no  TCGA-BRCA  3.583562   \n",
       "TCGA-AC-A2FM                                        no  TCGA-BRCA  2.169863   \n",
       "TCGA-B6-A1KF                                       yes  TCGA-BRCA  8.460274   \n",
       "\n",
       "              event  group  \n",
       "submitter_id                \n",
       "TCGA-Z7-A8R6      0  train  \n",
       "TCGA-C8-A1HE      0  train  \n",
       "TCGA-A8-A07B      0  train  \n",
       "TCGA-AC-A2FM      1  train  \n",
       "TCGA-B6-A1KF      0  train  "
      ]
     },
     "execution_count": 64,
     "metadata": {},
     "output_type": "execute_result"
    }
   ],
   "source": [
    "clinical.head()"
   ]
  },
  {
   "cell_type": "code",
   "execution_count": 65,
   "metadata": {},
   "outputs": [],
   "source": [
    "clinical.to_csv('clinical_data.tsv', sep='\\t')"
   ]
  },
  {
   "cell_type": "markdown",
   "metadata": {},
   "source": [
    "# Input missing values\n",
    "\n",
    "* Input missing continuous data with median value.\n",
    "* Leave categorical features unchanged, to treat missing data as its own category."
   ]
  },
  {
   "cell_type": "code",
   "execution_count": 66,
   "metadata": {},
   "outputs": [
    {
     "name": "stdout",
     "output_type": "stream",
     "text": [
      "~~ MISSING DATA ~~\n",
      "\n",
      "synchronous_malignancy: 1194 (10.84%)\n",
      "ajcc_pathologic_stage: 4076 (37.02%)\n",
      "age_at_diagnosis: 165 (1.5%)\n",
      "prior_malignancy: 1182 (10.73%)\n",
      "prior_treatment: 4 (0.04%)\n",
      "race: 776 (7.05%)\n",
      "treatments_pharmaceutical_treatment_or_therapy: 4910 (44.59%)\n",
      "treatments_radiation_treatment_or_therapy: 1146 (10.41%)\n"
     ]
    }
   ],
   "source": [
    "print('~~ MISSING DATA ~~')\n",
    "print()\n",
    "skip = ['project_id', 'days_to_death', 'days_to_last_follow_up']\n",
    "\n",
    "n = clinical.shape[0]\n",
    "\n",
    "for v in clinical.columns:\n",
    "    if v not in skip:\n",
    "        n_missing = sum(clinical[v].isnull())\n",
    "        if n_missing > 0:\n",
    "            print(f'{v}: {n_missing} ({round(n_missing / n * 100, 2)}%)')"
   ]
  },
  {
   "cell_type": "code",
   "execution_count": 67,
   "metadata": {},
   "outputs": [],
   "source": [
    "def input_missing_values(feature, df):\n",
    "    train_subset = df.loc[df['group'] == 'train', feature]\n",
    "    try:\n",
    "        input_value = train_subset.median()\n",
    "        print(f'Median \"{feature}\": {input_value}')\n",
    "    except TypeError:\n",
    "        input_value = train_subset.mode().iloc[0]\n",
    "        print(f'Mode \"{feature}\": {input_value}')\n",
    "\n",
    "    df[feature].fillna(input_value, inplace=True)\n",
    "    \n",
    "    return df"
   ]
  },
  {
   "cell_type": "code",
   "execution_count": 68,
   "metadata": {},
   "outputs": [
    {
     "name": "stdout",
     "output_type": "stream",
     "text": [
      "Median \"age_at_diagnosis\": 22197.0\n"
     ]
    }
   ],
   "source": [
    "clinical = input_missing_values(feature='age_at_diagnosis', df=clinical)"
   ]
  },
  {
   "cell_type": "code",
   "execution_count": 69,
   "metadata": {},
   "outputs": [
    {
     "name": "stdout",
     "output_type": "stream",
     "text": [
      "~~ MISSING DATA ~~\n",
      "\n",
      "synchronous_malignancy: 1194 (10.84%)\n",
      "ajcc_pathologic_stage: 4076 (37.02%)\n",
      "prior_malignancy: 1182 (10.73%)\n",
      "prior_treatment: 4 (0.04%)\n",
      "race: 776 (7.05%)\n",
      "days_to_death: 7516 (68.26%)\n",
      "days_to_last_follow_up: 3495 (31.74%)\n",
      "treatments_pharmaceutical_treatment_or_therapy: 4910 (44.59%)\n",
      "treatments_radiation_treatment_or_therapy: 1146 (10.41%)\n"
     ]
    }
   ],
   "source": [
    "print('~~ MISSING DATA ~~')\n",
    "print()\n",
    "n = clinical.shape[0]\n",
    "\n",
    "for v in clinical.columns:\n",
    "    n_missing = sum(clinical[v].isnull())\n",
    "    if n_missing > 0:\n",
    "        print(f'{v}: {n_missing} ({round(n_missing / n * 100, 2)}%)')"
   ]
  },
  {
   "cell_type": "markdown",
   "metadata": {},
   "source": [
    "# Scale continuous variables"
   ]
  },
  {
   "cell_type": "code",
   "execution_count": 70,
   "metadata": {},
   "outputs": [],
   "source": [
    "id_groups = {\n",
    "    'train': list(clinical.loc[clinical['group'] == 'train', ].index),\n",
    "    'val': list(clinical.loc[clinical['group'] == 'val', ].index),\n",
    "    'test': list(clinical.loc[clinical['group'] == 'test', ].index)}"
   ]
  },
  {
   "cell_type": "code",
   "execution_count": 71,
   "metadata": {},
   "outputs": [
    {
     "data": {
      "text/plain": [
       "Index(['synchronous_malignancy', 'ajcc_pathologic_stage', 'age_at_diagnosis',\n",
       "       'prior_malignancy', 'prior_treatment', 'race', 'gender', 'vital_status',\n",
       "       'days_to_death', 'days_to_last_follow_up',\n",
       "       'treatments_pharmaceutical_treatment_or_therapy',\n",
       "       'treatments_radiation_treatment_or_therapy', 'project_id', 'time',\n",
       "       'event', 'group'],\n",
       "      dtype='object')"
      ]
     },
     "execution_count": 71,
     "metadata": {},
     "output_type": "execute_result"
    }
   ],
   "source": [
    "clinical.columns"
   ]
  },
  {
   "cell_type": "code",
   "execution_count": 72,
   "metadata": {},
   "outputs": [
    {
     "data": {
      "text/plain": [
       "['project_id', 'days_to_death', 'days_to_last_follow_up']"
      ]
     },
     "execution_count": 72,
     "metadata": {},
     "output_type": "execute_result"
    }
   ],
   "source": [
    "skip"
   ]
  },
  {
   "cell_type": "code",
   "execution_count": 73,
   "metadata": {},
   "outputs": [],
   "source": [
    "continuous = ['age_at_diagnosis']"
   ]
  },
  {
   "cell_type": "code",
   "execution_count": 74,
   "metadata": {},
   "outputs": [],
   "source": [
    "def min_max_scale(data, features, groups):\n",
    "    train = data.loc[data.index.isin(groups['train']), features]\n",
    "\n",
    "    scaler = MinMaxScaler()\n",
    "    columns = train.columns\n",
    "    scaler = scaler.fit(train[columns])\n",
    "    \n",
    "    data.loc[data.index.isin(groups['train']), features] = scaler.transform(\n",
    "        train)\n",
    "    data.loc[data.index.isin(groups['val']), features] = scaler.transform(\n",
    "        data.loc[data.index.isin(groups['val']), features])\n",
    "    data.loc[data.index.isin(groups['test']), features] = scaler.transform(\n",
    "        data.loc[data.index.isin(groups['test']), features])\n",
    "    \n",
    "    return data"
   ]
  },
  {
   "cell_type": "code",
   "execution_count": 75,
   "metadata": {},
   "outputs": [],
   "source": [
    "clinical = min_max_scale(data=clinical, features=continuous, groups=id_groups)"
   ]
  },
  {
   "cell_type": "code",
   "execution_count": 76,
   "metadata": {},
   "outputs": [
    {
     "data": {
      "text/plain": [
       "count    11011.000000\n",
       "mean         0.612741\n",
       "std          0.182958\n",
       "min          0.000000\n",
       "25%          0.500727\n",
       "50%          0.630495\n",
       "75%          0.745362\n",
       "max          1.000000\n",
       "Name: age_at_diagnosis, dtype: float64"
      ]
     },
     "execution_count": 76,
     "metadata": {},
     "output_type": "execute_result"
    }
   ],
   "source": [
    "clinical.age_at_diagnosis.describe()"
   ]
  },
  {
   "cell_type": "code",
   "execution_count": 77,
   "metadata": {},
   "outputs": [
    {
     "data": {
      "text/html": [
       "<div>\n",
       "<style scoped>\n",
       "    .dataframe tbody tr th:only-of-type {\n",
       "        vertical-align: middle;\n",
       "    }\n",
       "\n",
       "    .dataframe tbody tr th {\n",
       "        vertical-align: top;\n",
       "    }\n",
       "\n",
       "    .dataframe thead th {\n",
       "        text-align: right;\n",
       "    }\n",
       "</style>\n",
       "<table border=\"1\" class=\"dataframe\">\n",
       "  <thead>\n",
       "    <tr style=\"text-align: right;\">\n",
       "      <th></th>\n",
       "      <th>synchronous_malignancy</th>\n",
       "      <th>ajcc_pathologic_stage</th>\n",
       "      <th>age_at_diagnosis</th>\n",
       "      <th>prior_malignancy</th>\n",
       "      <th>prior_treatment</th>\n",
       "      <th>race</th>\n",
       "      <th>gender</th>\n",
       "      <th>vital_status</th>\n",
       "      <th>days_to_death</th>\n",
       "      <th>days_to_last_follow_up</th>\n",
       "      <th>treatments_pharmaceutical_treatment_or_therapy</th>\n",
       "      <th>treatments_radiation_treatment_or_therapy</th>\n",
       "      <th>project_id</th>\n",
       "      <th>time</th>\n",
       "      <th>event</th>\n",
       "      <th>group</th>\n",
       "    </tr>\n",
       "    <tr>\n",
       "      <th>submitter_id</th>\n",
       "      <th></th>\n",
       "      <th></th>\n",
       "      <th></th>\n",
       "      <th></th>\n",
       "      <th></th>\n",
       "      <th></th>\n",
       "      <th></th>\n",
       "      <th></th>\n",
       "      <th></th>\n",
       "      <th></th>\n",
       "      <th></th>\n",
       "      <th></th>\n",
       "      <th></th>\n",
       "      <th></th>\n",
       "      <th></th>\n",
       "      <th></th>\n",
       "    </tr>\n",
       "  </thead>\n",
       "  <tbody>\n",
       "    <tr>\n",
       "      <th>TCGA-Z7-A8R6</th>\n",
       "      <td>No</td>\n",
       "      <td>Stage I</td>\n",
       "      <td>0.449048</td>\n",
       "      <td>no</td>\n",
       "      <td>No</td>\n",
       "      <td>white</td>\n",
       "      <td>female</td>\n",
       "      <td>Alive</td>\n",
       "      <td>NaN</td>\n",
       "      <td>3256.0</td>\n",
       "      <td>yes</td>\n",
       "      <td>no</td>\n",
       "      <td>TCGA-BRCA</td>\n",
       "      <td>8.920548</td>\n",
       "      <td>0</td>\n",
       "      <td>train</td>\n",
       "    </tr>\n",
       "    <tr>\n",
       "      <th>TCGA-C8-A1HE</th>\n",
       "      <td>No</td>\n",
       "      <td>Stage IIA</td>\n",
       "      <td>0.630495</td>\n",
       "      <td>no</td>\n",
       "      <td>No</td>\n",
       "      <td>asian</td>\n",
       "      <td>female</td>\n",
       "      <td>Alive</td>\n",
       "      <td>NaN</td>\n",
       "      <td>375.0</td>\n",
       "      <td>yes</td>\n",
       "      <td>no</td>\n",
       "      <td>TCGA-BRCA</td>\n",
       "      <td>1.027397</td>\n",
       "      <td>0</td>\n",
       "      <td>train</td>\n",
       "    </tr>\n",
       "    <tr>\n",
       "      <th>TCGA-A8-A07B</th>\n",
       "      <td>No</td>\n",
       "      <td>Stage IIA</td>\n",
       "      <td>0.743960</td>\n",
       "      <td>no</td>\n",
       "      <td>No</td>\n",
       "      <td>NaN</td>\n",
       "      <td>female</td>\n",
       "      <td>Alive</td>\n",
       "      <td>NaN</td>\n",
       "      <td>1308.0</td>\n",
       "      <td>no</td>\n",
       "      <td>no</td>\n",
       "      <td>TCGA-BRCA</td>\n",
       "      <td>3.583562</td>\n",
       "      <td>0</td>\n",
       "      <td>train</td>\n",
       "    </tr>\n",
       "    <tr>\n",
       "      <th>TCGA-AC-A2FM</th>\n",
       "      <td>No</td>\n",
       "      <td>Stage IIB</td>\n",
       "      <td>0.963067</td>\n",
       "      <td>no</td>\n",
       "      <td>No</td>\n",
       "      <td>white</td>\n",
       "      <td>female</td>\n",
       "      <td>Dead</td>\n",
       "      <td>792.0</td>\n",
       "      <td>NaN</td>\n",
       "      <td>no</td>\n",
       "      <td>no</td>\n",
       "      <td>TCGA-BRCA</td>\n",
       "      <td>2.169863</td>\n",
       "      <td>1</td>\n",
       "      <td>train</td>\n",
       "    </tr>\n",
       "    <tr>\n",
       "      <th>TCGA-B6-A1KF</th>\n",
       "      <td>No</td>\n",
       "      <td>Stage IIB</td>\n",
       "      <td>0.723745</td>\n",
       "      <td>no</td>\n",
       "      <td>No</td>\n",
       "      <td>white</td>\n",
       "      <td>female</td>\n",
       "      <td>Alive</td>\n",
       "      <td>NaN</td>\n",
       "      <td>3088.0</td>\n",
       "      <td>yes</td>\n",
       "      <td>yes</td>\n",
       "      <td>TCGA-BRCA</td>\n",
       "      <td>8.460274</td>\n",
       "      <td>0</td>\n",
       "      <td>train</td>\n",
       "    </tr>\n",
       "  </tbody>\n",
       "</table>\n",
       "</div>"
      ],
      "text/plain": [
       "             synchronous_malignancy ajcc_pathologic_stage  age_at_diagnosis  \\\n",
       "submitter_id                                                                  \n",
       "TCGA-Z7-A8R6                     No               Stage I          0.449048   \n",
       "TCGA-C8-A1HE                     No             Stage IIA          0.630495   \n",
       "TCGA-A8-A07B                     No             Stage IIA          0.743960   \n",
       "TCGA-AC-A2FM                     No             Stage IIB          0.963067   \n",
       "TCGA-B6-A1KF                     No             Stage IIB          0.723745   \n",
       "\n",
       "             prior_malignancy prior_treatment   race  gender vital_status  \\\n",
       "submitter_id                                                                \n",
       "TCGA-Z7-A8R6               no              No  white  female        Alive   \n",
       "TCGA-C8-A1HE               no              No  asian  female        Alive   \n",
       "TCGA-A8-A07B               no              No    NaN  female        Alive   \n",
       "TCGA-AC-A2FM               no              No  white  female         Dead   \n",
       "TCGA-B6-A1KF               no              No  white  female        Alive   \n",
       "\n",
       "              days_to_death  days_to_last_follow_up  \\\n",
       "submitter_id                                          \n",
       "TCGA-Z7-A8R6            NaN                  3256.0   \n",
       "TCGA-C8-A1HE            NaN                   375.0   \n",
       "TCGA-A8-A07B            NaN                  1308.0   \n",
       "TCGA-AC-A2FM          792.0                     NaN   \n",
       "TCGA-B6-A1KF            NaN                  3088.0   \n",
       "\n",
       "             treatments_pharmaceutical_treatment_or_therapy  \\\n",
       "submitter_id                                                  \n",
       "TCGA-Z7-A8R6                                            yes   \n",
       "TCGA-C8-A1HE                                            yes   \n",
       "TCGA-A8-A07B                                             no   \n",
       "TCGA-AC-A2FM                                             no   \n",
       "TCGA-B6-A1KF                                            yes   \n",
       "\n",
       "             treatments_radiation_treatment_or_therapy project_id      time  \\\n",
       "submitter_id                                                                  \n",
       "TCGA-Z7-A8R6                                        no  TCGA-BRCA  8.920548   \n",
       "TCGA-C8-A1HE                                        no  TCGA-BRCA  1.027397   \n",
       "TCGA-A8-A07B                                        no  TCGA-BRCA  3.583562   \n",
       "TCGA-AC-A2FM                                        no  TCGA-BRCA  2.169863   \n",
       "TCGA-B6-A1KF                                       yes  TCGA-BRCA  8.460274   \n",
       "\n",
       "              event  group  \n",
       "submitter_id                \n",
       "TCGA-Z7-A8R6      0  train  \n",
       "TCGA-C8-A1HE      0  train  \n",
       "TCGA-A8-A07B      0  train  \n",
       "TCGA-AC-A2FM      1  train  \n",
       "TCGA-B6-A1KF      0  train  "
      ]
     },
     "execution_count": 77,
     "metadata": {},
     "output_type": "execute_result"
    }
   ],
   "source": [
    "clinical.head()"
   ]
  },
  {
   "cell_type": "markdown",
   "metadata": {},
   "source": [
    "# Encode categorical variables\n",
    "\n",
    "Encode labels (with a value between 0 and n_classes-1) to use with categorical embeddings."
   ]
  },
  {
   "cell_type": "code",
   "execution_count": 78,
   "metadata": {},
   "outputs": [],
   "source": [
    "# Drop unnecessary columns\n",
    "clinical = clinical.drop(columns=['days_to_death', 'days_to_last_follow_up', 'vital_status'])"
   ]
  },
  {
   "cell_type": "code",
   "execution_count": 79,
   "metadata": {},
   "outputs": [
    {
     "data": {
      "text/plain": [
       "Index(['synchronous_malignancy', 'ajcc_pathologic_stage', 'age_at_diagnosis',\n",
       "       'prior_malignancy', 'prior_treatment', 'race', 'gender',\n",
       "       'treatments_pharmaceutical_treatment_or_therapy',\n",
       "       'treatments_radiation_treatment_or_therapy', 'project_id', 'time',\n",
       "       'event', 'group'],\n",
       "      dtype='object')"
      ]
     },
     "execution_count": 79,
     "metadata": {},
     "output_type": "execute_result"
    }
   ],
   "source": [
    "clinical.columns"
   ]
  },
  {
   "cell_type": "code",
   "execution_count": 80,
   "metadata": {},
   "outputs": [
    {
     "data": {
      "text/plain": [
       "['time', 'event', 'group']"
      ]
     },
     "execution_count": 80,
     "metadata": {},
     "output_type": "execute_result"
    }
   ],
   "source": [
    "skip = ['time', 'event', 'group']\n",
    "skip"
   ]
  },
  {
   "cell_type": "code",
   "execution_count": 81,
   "metadata": {},
   "outputs": [
    {
     "data": {
      "text/plain": [
       "['age_at_diagnosis']"
      ]
     },
     "execution_count": 81,
     "metadata": {},
     "output_type": "execute_result"
    }
   ],
   "source": [
    "continuous"
   ]
  },
  {
   "cell_type": "code",
   "execution_count": 82,
   "metadata": {},
   "outputs": [
    {
     "data": {
      "text/plain": [
       "13"
      ]
     },
     "execution_count": 82,
     "metadata": {},
     "output_type": "execute_result"
    }
   ],
   "source": [
    "len(clinical.columns)"
   ]
  },
  {
   "cell_type": "code",
   "execution_count": 83,
   "metadata": {},
   "outputs": [
    {
     "data": {
      "text/plain": [
       "13"
      ]
     },
     "execution_count": 83,
     "metadata": {},
     "output_type": "execute_result"
    }
   ],
   "source": [
    "categorical = [col for col in clinical.columns if col not in skip + continuous]\n",
    "\n",
    "len(skip) + len(continuous) + len(categorical)"
   ]
  },
  {
   "cell_type": "code",
   "execution_count": 84,
   "metadata": {},
   "outputs": [
    {
     "name": "stdout",
     "output_type": "stream",
     "text": [
      "synchronous_malignancy: 3\n",
      "ajcc_pathologic_stage: 21\n",
      "prior_malignancy: 3\n",
      "prior_treatment: 3\n",
      "race: 9\n",
      "gender: 2\n",
      "treatments_pharmaceutical_treatment_or_therapy: 16\n",
      "treatments_radiation_treatment_or_therapy: 10\n",
      "project_id: 32\n"
     ]
    }
   ],
   "source": [
    "for feat in categorical:\n",
    "    print(f'{feat}: {len(clinical[feat].unique())}')"
   ]
  },
  {
   "cell_type": "code",
   "execution_count": 85,
   "metadata": {},
   "outputs": [
    {
     "data": {
      "text/plain": [
       "13"
      ]
     },
     "execution_count": 85,
     "metadata": {},
     "output_type": "execute_result"
    }
   ],
   "source": [
    "len(clinical.columns)"
   ]
  },
  {
   "cell_type": "code",
   "execution_count": 86,
   "metadata": {},
   "outputs": [],
   "source": [
    "# Reorder columns\n",
    "categorical = ['project_id',  'gender', 'race', 'prior_treatment', 'prior_malignancy', 'synchronous_malignancy',\n",
    "               'treatments_pharmaceutical_treatment_or_therapy',\n",
    "               'treatments_radiation_treatment_or_therapy',\n",
    "               'ajcc_pathologic_stage']\n",
    "\n",
    "clinical = clinical[categorical + continuous + skip]"
   ]
  },
  {
   "cell_type": "code",
   "execution_count": 87,
   "metadata": {},
   "outputs": [
    {
     "data": {
      "text/plain": [
       "13"
      ]
     },
     "execution_count": 87,
     "metadata": {},
     "output_type": "execute_result"
    }
   ],
   "source": [
    "len(clinical.columns)"
   ]
  },
  {
   "cell_type": "code",
   "execution_count": 88,
   "metadata": {},
   "outputs": [],
   "source": [
    "# Save a copy of the table to allow inclusion of unencoded \"project_id\" in the labels table\n",
    "survival = clinical.copy()"
   ]
  },
  {
   "cell_type": "code",
   "execution_count": 89,
   "metadata": {},
   "outputs": [
    {
     "ename": "ValueError",
     "evalue": "y contains previously unseen labels: 'Stage IB1'",
     "output_type": "error",
     "traceback": [
      "\u001b[0;31m---------------------------------------------------------------------------\u001b[0m",
      "\u001b[0;31mKeyError\u001b[0m                                  Traceback (most recent call last)",
      "File \u001b[0;32m/opt/conda/envs/multisurv/lib/python3.8/site-packages/sklearn/utils/_encode.py:225\u001b[0m, in \u001b[0;36m_encode\u001b[0;34m(values, uniques, check_unknown)\u001b[0m\n\u001b[1;32m    224\u001b[0m \u001b[38;5;28;01mtry\u001b[39;00m:\n\u001b[0;32m--> 225\u001b[0m     \u001b[38;5;28;01mreturn\u001b[39;00m \u001b[43m_map_to_integer\u001b[49m\u001b[43m(\u001b[49m\u001b[43mvalues\u001b[49m\u001b[43m,\u001b[49m\u001b[43m \u001b[49m\u001b[43muniques\u001b[49m\u001b[43m)\u001b[49m\n\u001b[1;32m    226\u001b[0m \u001b[38;5;28;01mexcept\u001b[39;00m \u001b[38;5;167;01mKeyError\u001b[39;00m \u001b[38;5;28;01mas\u001b[39;00m e:\n",
      "File \u001b[0;32m/opt/conda/envs/multisurv/lib/python3.8/site-packages/sklearn/utils/_encode.py:165\u001b[0m, in \u001b[0;36m_map_to_integer\u001b[0;34m(values, uniques)\u001b[0m\n\u001b[1;32m    164\u001b[0m table \u001b[38;5;241m=\u001b[39m _nandict({val: i \u001b[38;5;28;01mfor\u001b[39;00m i, val \u001b[38;5;129;01min\u001b[39;00m \u001b[38;5;28menumerate\u001b[39m(uniques)})\n\u001b[0;32m--> 165\u001b[0m \u001b[38;5;28;01mreturn\u001b[39;00m np\u001b[38;5;241m.\u001b[39marray([table[v] \u001b[38;5;28;01mfor\u001b[39;00m v \u001b[38;5;129;01min\u001b[39;00m values])\n",
      "File \u001b[0;32m/opt/conda/envs/multisurv/lib/python3.8/site-packages/sklearn/utils/_encode.py:165\u001b[0m, in \u001b[0;36m<listcomp>\u001b[0;34m(.0)\u001b[0m\n\u001b[1;32m    164\u001b[0m table \u001b[38;5;241m=\u001b[39m _nandict({val: i \u001b[38;5;28;01mfor\u001b[39;00m i, val \u001b[38;5;129;01min\u001b[39;00m \u001b[38;5;28menumerate\u001b[39m(uniques)})\n\u001b[0;32m--> 165\u001b[0m \u001b[38;5;28;01mreturn\u001b[39;00m np\u001b[38;5;241m.\u001b[39marray([\u001b[43mtable\u001b[49m\u001b[43m[\u001b[49m\u001b[43mv\u001b[49m\u001b[43m]\u001b[49m \u001b[38;5;28;01mfor\u001b[39;00m v \u001b[38;5;129;01min\u001b[39;00m values])\n",
      "File \u001b[0;32m/opt/conda/envs/multisurv/lib/python3.8/site-packages/sklearn/utils/_encode.py:159\u001b[0m, in \u001b[0;36m_nandict.__missing__\u001b[0;34m(self, key)\u001b[0m\n\u001b[1;32m    158\u001b[0m     \u001b[38;5;28;01mreturn\u001b[39;00m \u001b[38;5;28mself\u001b[39m\u001b[38;5;241m.\u001b[39mnan_value\n\u001b[0;32m--> 159\u001b[0m \u001b[38;5;28;01mraise\u001b[39;00m \u001b[38;5;167;01mKeyError\u001b[39;00m(key)\n",
      "\u001b[0;31mKeyError\u001b[0m: 'Stage IB1'",
      "\nDuring handling of the above exception, another exception occurred:\n",
      "\u001b[0;31mValueError\u001b[0m                                Traceback (most recent call last)",
      "Cell \u001b[0;32mIn[89], line 13\u001b[0m\n\u001b[1;32m     10\u001b[0m \u001b[38;5;28;01mfor\u001b[39;00m group \u001b[38;5;129;01min\u001b[39;00m split_groups:\n\u001b[1;32m     11\u001b[0m     \u001b[38;5;28;01mfor\u001b[39;00m feature \u001b[38;5;129;01min\u001b[39;00m categorical:\n\u001b[1;32m     12\u001b[0m         clinical\u001b[38;5;241m.\u001b[39mloc[\n\u001b[0;32m---> 13\u001b[0m             clinical[\u001b[38;5;124m'\u001b[39m\u001b[38;5;124mgroup\u001b[39m\u001b[38;5;124m'\u001b[39m] \u001b[38;5;241m==\u001b[39m group, feature] \u001b[38;5;241m=\u001b[39m \u001b[43mlabel_encoders\u001b[49m\u001b[43m[\u001b[49m\u001b[43mfeature\u001b[49m\u001b[43m]\u001b[49m\u001b[38;5;241;43m.\u001b[39;49m\u001b[43mtransform\u001b[49m\u001b[43m(\u001b[49m\n\u001b[1;32m     14\u001b[0m \u001b[43m            \u001b[49m\u001b[43mclinical\u001b[49m\u001b[38;5;241;43m.\u001b[39;49m\u001b[43mloc\u001b[49m\u001b[43m[\u001b[49m\u001b[43mclinical\u001b[49m\u001b[43m[\u001b[49m\u001b[38;5;124;43m'\u001b[39;49m\u001b[38;5;124;43mgroup\u001b[39;49m\u001b[38;5;124;43m'\u001b[39;49m\u001b[43m]\u001b[49m\u001b[43m \u001b[49m\u001b[38;5;241;43m==\u001b[39;49m\u001b[43m \u001b[49m\u001b[43mgroup\u001b[49m\u001b[43m,\u001b[49m\u001b[43m \u001b[49m\u001b[43mfeature\u001b[49m\u001b[43m]\u001b[49m\u001b[43m)\u001b[49m\n",
      "File \u001b[0;32m/opt/conda/envs/multisurv/lib/python3.8/site-packages/sklearn/preprocessing/_label.py:137\u001b[0m, in \u001b[0;36mLabelEncoder.transform\u001b[0;34m(self, y)\u001b[0m\n\u001b[1;32m    134\u001b[0m \u001b[38;5;28;01mif\u001b[39;00m _num_samples(y) \u001b[38;5;241m==\u001b[39m \u001b[38;5;241m0\u001b[39m:\n\u001b[1;32m    135\u001b[0m     \u001b[38;5;28;01mreturn\u001b[39;00m np\u001b[38;5;241m.\u001b[39marray([])\n\u001b[0;32m--> 137\u001b[0m \u001b[38;5;28;01mreturn\u001b[39;00m \u001b[43m_encode\u001b[49m\u001b[43m(\u001b[49m\u001b[43my\u001b[49m\u001b[43m,\u001b[49m\u001b[43m \u001b[49m\u001b[43muniques\u001b[49m\u001b[38;5;241;43m=\u001b[39;49m\u001b[38;5;28;43mself\u001b[39;49m\u001b[38;5;241;43m.\u001b[39;49m\u001b[43mclasses_\u001b[49m\u001b[43m)\u001b[49m\n",
      "File \u001b[0;32m/opt/conda/envs/multisurv/lib/python3.8/site-packages/sklearn/utils/_encode.py:227\u001b[0m, in \u001b[0;36m_encode\u001b[0;34m(values, uniques, check_unknown)\u001b[0m\n\u001b[1;32m    225\u001b[0m         \u001b[38;5;28;01mreturn\u001b[39;00m _map_to_integer(values, uniques)\n\u001b[1;32m    226\u001b[0m     \u001b[38;5;28;01mexcept\u001b[39;00m \u001b[38;5;167;01mKeyError\u001b[39;00m \u001b[38;5;28;01mas\u001b[39;00m e:\n\u001b[0;32m--> 227\u001b[0m         \u001b[38;5;28;01mraise\u001b[39;00m \u001b[38;5;167;01mValueError\u001b[39;00m(\u001b[38;5;124mf\u001b[39m\u001b[38;5;124m\"\u001b[39m\u001b[38;5;124my contains previously unseen labels: \u001b[39m\u001b[38;5;132;01m{\u001b[39;00m\u001b[38;5;28mstr\u001b[39m(e)\u001b[38;5;132;01m}\u001b[39;00m\u001b[38;5;124m\"\u001b[39m)\n\u001b[1;32m    228\u001b[0m \u001b[38;5;28;01melse\u001b[39;00m:\n\u001b[1;32m    229\u001b[0m     \u001b[38;5;28;01mif\u001b[39;00m check_unknown:\n",
      "\u001b[0;31mValueError\u001b[0m: y contains previously unseen labels: 'Stage IB1'"
     ]
    }
   ],
   "source": [
    "split_groups = ['train', 'val', 'test']\n",
    "\n",
    "label_encoders = {}\n",
    "for feature in categorical:\n",
    "    clinical[feature] = clinical[feature].astype(str)\n",
    "    label_encoders[feature] = LabelEncoder()\n",
    "    label_encoders[feature].fit(\n",
    "        clinical.loc[clinical['group'] == 'train', feature])\n",
    "\n",
    "for group in split_groups:\n",
    "    for feature in categorical:\n",
    "        clinical.loc[\n",
    "            clinical['group'] == group, feature] = label_encoders[feature].transform(\n",
    "            clinical.loc[clinical['group'] == group, feature])"
   ]
  },
  {
   "cell_type": "markdown",
   "metadata": {},
   "source": [
    "The embedding dimensions (in a list of two-tuples) are calculated in the next cell: number of unique values paired with the embedding dimension for each categorical feature.\n",
    "\n",
    "The embedding size is determined according to the rule-of-thumb from the Fast.ai course."
   ]
  },
  {
   "cell_type": "code",
   "execution_count": null,
   "metadata": {},
   "outputs": [],
   "source": [
    "categorical_dims = [int(clinical[col].nunique()) for col in categorical]\n",
    "embedding_dims = [(x, min(50, (x + 1) // 2)) for x in categorical_dims]\n",
    "\n",
    "embedding_dims\n",
    "\n",
    "print('Feature                                            Levels   Embedding dims')\n",
    "print('-------                                            ------   --------------')\n",
    "for i, feat in enumerate(categorical):\n",
    "    print(feat, ' ' * (50 - len(feat)), embedding_dims[i][0],\n",
    "          ' ' * (7 - len(str(embedding_dims[i][0]))), embedding_dims[i][1])"
   ]
  },
  {
   "cell_type": "markdown",
   "metadata": {},
   "source": [
    "# Save patient data to files"
   ]
  },
  {
   "cell_type": "markdown",
   "metadata": {},
   "source": [
    "## Survival labels"
   ]
  },
  {
   "cell_type": "code",
   "execution_count": 90,
   "metadata": {},
   "outputs": [],
   "source": [
    "survival['submitter_id'] = survival.index\n",
    "survival = survival.reset_index(drop=True)\n",
    "\n",
    "label_columns = ['submitter_id', 'project_id', 'time', 'event', 'group']\n",
    "survival = survival.loc[:, label_columns]"
   ]
  },
  {
   "cell_type": "code",
   "execution_count": 91,
   "metadata": {},
   "outputs": [
    {
     "data": {
      "text/html": [
       "<div>\n",
       "<style scoped>\n",
       "    .dataframe tbody tr th:only-of-type {\n",
       "        vertical-align: middle;\n",
       "    }\n",
       "\n",
       "    .dataframe tbody tr th {\n",
       "        vertical-align: top;\n",
       "    }\n",
       "\n",
       "    .dataframe thead th {\n",
       "        text-align: right;\n",
       "    }\n",
       "</style>\n",
       "<table border=\"1\" class=\"dataframe\">\n",
       "  <thead>\n",
       "    <tr style=\"text-align: right;\">\n",
       "      <th></th>\n",
       "      <th>submitter_id</th>\n",
       "      <th>project_id</th>\n",
       "      <th>time</th>\n",
       "      <th>event</th>\n",
       "      <th>group</th>\n",
       "    </tr>\n",
       "  </thead>\n",
       "  <tbody>\n",
       "    <tr>\n",
       "      <th>0</th>\n",
       "      <td>TCGA-Z7-A8R6</td>\n",
       "      <td>TCGA-BRCA</td>\n",
       "      <td>8.920548</td>\n",
       "      <td>0</td>\n",
       "      <td>train</td>\n",
       "    </tr>\n",
       "    <tr>\n",
       "      <th>1</th>\n",
       "      <td>TCGA-C8-A1HE</td>\n",
       "      <td>TCGA-BRCA</td>\n",
       "      <td>1.027397</td>\n",
       "      <td>0</td>\n",
       "      <td>train</td>\n",
       "    </tr>\n",
       "    <tr>\n",
       "      <th>2</th>\n",
       "      <td>TCGA-A8-A07B</td>\n",
       "      <td>TCGA-BRCA</td>\n",
       "      <td>3.583562</td>\n",
       "      <td>0</td>\n",
       "      <td>train</td>\n",
       "    </tr>\n",
       "    <tr>\n",
       "      <th>3</th>\n",
       "      <td>TCGA-AC-A2FM</td>\n",
       "      <td>TCGA-BRCA</td>\n",
       "      <td>2.169863</td>\n",
       "      <td>1</td>\n",
       "      <td>train</td>\n",
       "    </tr>\n",
       "    <tr>\n",
       "      <th>4</th>\n",
       "      <td>TCGA-B6-A1KF</td>\n",
       "      <td>TCGA-BRCA</td>\n",
       "      <td>8.460274</td>\n",
       "      <td>0</td>\n",
       "      <td>train</td>\n",
       "    </tr>\n",
       "  </tbody>\n",
       "</table>\n",
       "</div>"
      ],
      "text/plain": [
       "   submitter_id project_id      time  event  group\n",
       "0  TCGA-Z7-A8R6  TCGA-BRCA  8.920548      0  train\n",
       "1  TCGA-C8-A1HE  TCGA-BRCA  1.027397      0  train\n",
       "2  TCGA-A8-A07B  TCGA-BRCA  3.583562      0  train\n",
       "3  TCGA-AC-A2FM  TCGA-BRCA  2.169863      1  train\n",
       "4  TCGA-B6-A1KF  TCGA-BRCA  8.460274      0  train"
      ]
     },
     "execution_count": 91,
     "metadata": {},
     "output_type": "execute_result"
    }
   ],
   "source": [
    "survival.head()"
   ]
  },
  {
   "cell_type": "code",
   "execution_count": 92,
   "metadata": {},
   "outputs": [],
   "source": [
    "survival.to_csv('/app/data/labels.tsv', sep='\\t', index=False)"
   ]
  },
  {
   "cell_type": "markdown",
   "metadata": {},
   "source": [
    "## Clinical data\n",
    "\n",
    "Save preprocessed clinical data as individual patient files (to use with PyTorch dataset)."
   ]
  },
  {
   "cell_type": "code",
   "execution_count": null,
   "metadata": {},
   "outputs": [],
   "source": [
    "skip"
   ]
  },
  {
   "cell_type": "code",
   "execution_count": null,
   "metadata": {},
   "outputs": [],
   "source": [
    "clinical = clinical[categorical + continuous]"
   ]
  },
  {
   "cell_type": "code",
   "execution_count": null,
   "metadata": {},
   "outputs": [],
   "source": [
    "clinical.head()"
   ]
  },
  {
   "cell_type": "code",
   "execution_count": null,
   "metadata": {},
   "outputs": [],
   "source": [
    "def table_to_patient_files(table, dir_path, round_digits=4):\n",
    "    n = len(table)\n",
    "    \n",
    "    i = 0\n",
    "\n",
    "    for index, row in table.iterrows():\n",
    "        print('\\r' + f'Save data to files: {str(i + 1)}/{n}', end='')\n",
    "        i+= 1\n",
    "\n",
    "        target_file = os.path.join(dir_path, str(index) + '.tsv')\n",
    "        \n",
    "        with open(target_file, 'w') as f:\n",
    "            if round_digits is not None:\n",
    "                f.write('\\n'.join(str(round(value, round_digits)) for value in row.values))\n",
    "            else:\n",
    "                f.write('\\n'.join(str(value) for value in row.values))\n",
    "\n",
    "    print()\n",
    "    print()"
   ]
  },
  {
   "cell_type": "raw",
   "metadata": {},
   "source": [
    "%%time\n",
    "\n",
    "table_to_patient_files(clinical, dir_path=DATA_LOCATION, round_digits=None)"
   ]
  },
  {
   "cell_type": "markdown",
   "metadata": {},
   "source": [
    "# Watermark <a class='tocSkip'></a>"
   ]
  },
  {
   "cell_type": "code",
   "execution_count": null,
   "metadata": {},
   "outputs": [],
   "source": [
    "%watermark --iversions\n",
    "%watermark -v\n",
    "print()\n",
    "%watermark -u -n"
   ]
  },
  {
   "cell_type": "markdown",
   "metadata": {},
   "source": [
    "[Top of the page](#Top)"
   ]
  }
 ],
 "metadata": {
  "kernelspec": {
   "display_name": "Python 3 (ipykernel)",
   "language": "python",
   "name": "python3"
  },
  "language_info": {
   "codemirror_mode": {
    "name": "ipython",
    "version": 3
   },
   "file_extension": ".py",
   "mimetype": "text/x-python",
   "name": "python",
   "nbconvert_exporter": "python",
   "pygments_lexer": "ipython3",
   "version": "3.8.20"
  },
  "toc": {
   "base_numbering": 1,
   "nav_menu": {
    "height": "197px",
    "width": "372px"
   },
   "number_sections": true,
   "sideBar": true,
   "skip_h1_title": false,
   "title_cell": "Table of Contents",
   "title_sidebar": "Contents",
   "toc_cell": true,
   "toc_position": {
    "height": "calc(100% - 180px)",
    "left": "10px",
    "top": "150px",
    "width": "298px"
   },
   "toc_section_display": true,
   "toc_window_display": false
  }
 },
 "nbformat": 4,
 "nbformat_minor": 4
}
